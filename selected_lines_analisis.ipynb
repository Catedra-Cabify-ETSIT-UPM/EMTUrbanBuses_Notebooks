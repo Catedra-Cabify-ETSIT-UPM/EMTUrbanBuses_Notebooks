{
 "cells": [
  {
   "cell_type": "code",
   "execution_count": 6,
   "metadata": {},
   "outputs": [],
   "source": [
    "#First we import the requested modules\n",
    "import pandas as pd #Module for the dataframes\n",
    "import geopandas as gpd #For the geodataframes\n",
    "import requests \n",
    "import json\n",
    "from shapely.geometry import Point, LineString\n",
    "from shapely.geometry import shape\n",
    "from shapely import wkt\n",
    "import fiona\n",
    "import asyncio\n",
    "from concurrent.futures import ThreadPoolExecutor\n",
    "from requests.adapters import HTTPAdapter\n",
    "from requests.packages.urllib3.util.retry import Retry\n",
    "\n",
    "#Function to ensure we get a good response for the request\n",
    "def requests_retry_session(retries=3,backoff_factor=0.3,status_forcelist=(500, 502, 504),session=None):\n",
    "    session = session or requests.Session()\n",
    "    retry = Retry(\n",
    "        total=retries,\n",
    "        read=retries,\n",
    "        connect=retries,\n",
    "        backoff_factor=backoff_factor,\n",
    "        status_forcelist=status_forcelist,\n",
    "    )\n",
    "    adapter = HTTPAdapter(max_retries=retry)\n",
    "    session.mount('http://', adapter)\n",
    "    session.mount('https://', adapter)\n",
    "    return session\n",
    "\n",
    "def get_access_token(email,password) :\n",
    "    '''\n",
    "    Returns the access token of the EMT Madrid API\n",
    "        \n",
    "        Parameters\n",
    "        ----------\n",
    "        email : string\n",
    "            The email of the account\n",
    "        password : string\n",
    "            Password of the account\n",
    "    '''\n",
    "    response = requests_retry_session().get(\n",
    "        'https://openapi.emtmadrid.es/v2/mobilitylabs/user/login/',\n",
    "        headers={\n",
    "            'email':email,\n",
    "            'password':password\n",
    "        },\n",
    "        timeout=5\n",
    "    )\n",
    "    json_response = response.json()\n",
    "    accessToken = json_response['data'][0]['accessToken']\n",
    "    return accessToken\n",
    "\n",
    "def get_stops_of_line(lineId,direction,accessToken) :\n",
    "    \"\"\"\n",
    "    Returns the list of stops for the line and direction desired\n",
    "\n",
    "        Parameters\n",
    "        ----------\n",
    "        lineId : string\n",
    "            The line id\n",
    "        direction : string\n",
    "            The direction (1 or 2)\n",
    "        accessToken: string\n",
    "            The accessToken obtained in the login\n",
    "    \"\"\"\n",
    "    \n",
    "    response = requests_retry_session().get(\n",
    "        'https://openapi.emtmadrid.es/v2/transport/busemtmad/lines/{}/stops/{}/'.format(lineId,direction),\n",
    "        headers = {'accessToken': accessToken},\n",
    "        timeout = 5\n",
    "    )\n",
    "    \n",
    "    #We turn the data of the stops from the response into a dataframe\n",
    "    stops_data = pd.DataFrame(response.json()['data'][0]['stops'])   \n",
    "    #And transform the geometry coordinates into point objects\n",
    "    stops_data['geometry'] = [shape(i) for i in stops_data['geometry']]\n",
    "    return stops_data"
   ]
  },
  {
   "cell_type": "code",
   "execution_count": 7,
   "metadata": {},
   "outputs": [
    {
     "data": {
      "text/plain": [
       "datetime.time(12, 58, 40, 765277)"
      ]
     },
     "execution_count": 7,
     "metadata": {},
     "output_type": "execute_result"
    }
   ],
   "source": [
    "import datetime\n",
    "#Check if time is inside range\n",
    "def time_in_range(start, end, x):\n",
    "    \"\"\"Return true if x is in the range [start, end]\"\"\"\n",
    "    if start <= end:\n",
    "        return start <= x <= end\n",
    "    else:\n",
    "        return start <= x or x <= end\n",
    "\n",
    "now = datetime.datetime.now()\n",
    "now.time()"
   ]
  },
  {
   "cell_type": "code",
   "execution_count": 8,
   "metadata": {},
   "outputs": [
    {
     "data": {
      "text/plain": [
       "True"
      ]
     },
     "execution_count": 8,
     "metadata": {},
     "output_type": "execute_result"
    }
   ],
   "source": [
    "start_time = datetime.time(6,0,0)\n",
    "end_time = datetime.time(20,50,0)\n",
    "time_in_range(start_time,end_time,now.time())"
   ]
  },
  {
   "cell_type": "code",
   "execution_count": 10,
   "metadata": {},
   "outputs": [
    {
     "data": {
      "text/plain": [
       "157269.85297319587"
      ]
     },
     "execution_count": 10,
     "metadata": {},
     "output_type": "execute_result"
    }
   ],
   "source": [
    "import math\n",
    "\n",
    "def haversine(coord1, coord2):\n",
    "    R = 6372800  # Earth radius in meters\n",
    "    lat1, lon1 = coord1\n",
    "    lat2, lon2 = coord2\n",
    "    \n",
    "    phi1, phi2 = math.radians(lat1), math.radians(lat2) \n",
    "    dphi       = math.radians(lat2 - lat1)\n",
    "    dlambda    = math.radians(lon2 - lon1)\n",
    "    \n",
    "    a = math.sin(dphi/2)**2 + \\\n",
    "        math.cos(phi1)*math.cos(phi2)*math.sin(dlambda/2)**2\n",
    "    \n",
    "    return 2*R*math.atan2(math.sqrt(a), math.sqrt(1 - a))\n",
    "\n",
    "haversine((1,1),(2,2))"
   ]
  },
  {
   "cell_type": "code",
   "execution_count": 4,
   "metadata": {},
   "outputs": [
    {
     "data": {
      "text/plain": [
       "'98a979c4-0886-460f-933f-10df1abccf40'"
      ]
     },
     "execution_count": 4,
     "metadata": {},
     "output_type": "execute_result"
    }
   ],
   "source": [
    "#Our access credentials\n",
    "email = 'a.jarabo@alumnos.upm.es'\n",
    "password = 'YXKE8fDrX.pMZ58'\n",
    "accessToken = get_access_token(email,password)\n",
    "accessToken"
   ]
  },
  {
   "cell_type": "code",
   "execution_count": 17,
   "metadata": {},
   "outputs": [
    {
     "data": {
      "text/plain": [
       "['2419',\n",
       " '3688',\n",
       " '1684',\n",
       " '1686',\n",
       " '1687',\n",
       " '1689',\n",
       " '1691',\n",
       " '1693',\n",
       " '4285',\n",
       " '5370',\n",
       " '1696',\n",
       " '1694',\n",
       " '4287',\n",
       " '4289',\n",
       " '4290']"
      ]
     },
     "execution_count": 17,
     "metadata": {},
     "output_type": "execute_result"
    }
   ],
   "source": [
    "lineId = '92' #Línea G\n",
    "direction = '1'\n",
    "stops_G_dir1 = get_stops_of_line(lineId,direction,accessToken)['stop'].tolist()\n",
    "stops_G_dir1"
   ]
  },
  {
   "cell_type": "code",
   "execution_count": 18,
   "metadata": {},
   "outputs": [
    {
     "data": {
      "text/plain": [
       "['4290', '4288', '1692', '1690', '1688', '1685', '1331', '2419']"
      ]
     },
     "execution_count": 18,
     "metadata": {},
     "output_type": "execute_result"
    }
   ],
   "source": [
    "lineId = '92' #Línea G\n",
    "direction = '2'\n",
    "stops_G_dir2 = get_stops_of_line(lineId,direction,accessToken)['stop'].tolist()\n",
    "stops_G_dir2"
   ]
  },
  {
   "cell_type": "code",
   "execution_count": 19,
   "metadata": {},
   "outputs": [
    {
     "data": {
      "text/plain": [
       "['2480',\n",
       " '1418',\n",
       " '1416',\n",
       " '2712',\n",
       " '3278',\n",
       " '5140',\n",
       " '3292',\n",
       " '3274',\n",
       " '1693',\n",
       " '4285',\n",
       " '5370',\n",
       " '1696',\n",
       " '1694',\n",
       " '4287',\n",
       " '4289',\n",
       " '4290']"
      ]
     },
     "execution_count": 19,
     "metadata": {},
     "output_type": "execute_result"
    }
   ],
   "source": [
    "lineId = '91' #Línea F\n",
    "direction = '1'\n",
    "stops_F_dir1 = get_stops_of_line(lineId,direction,accessToken)['stop'].tolist()\n",
    "stops_F_dir1 "
   ]
  },
  {
   "cell_type": "code",
   "execution_count": 20,
   "metadata": {},
   "outputs": [
    {
     "data": {
      "text/plain": [
       "['4290',\n",
       " '4288',\n",
       " '4291',\n",
       " '3273',\n",
       " '3276',\n",
       " '5316',\n",
       " '185',\n",
       " '1415',\n",
       " '1417',\n",
       " '4284',\n",
       " '2480']"
      ]
     },
     "execution_count": 20,
     "metadata": {},
     "output_type": "execute_result"
    }
   ],
   "source": [
    "lineId = '91' #Línea F\n",
    "direction = '2'\n",
    "stops_F_dir2 = get_stops_of_line(lineId,direction,accessToken)['stop'].tolist()\n",
    "stops_F_dir2 "
   ]
  },
  {
   "cell_type": "code",
   "execution_count": 45,
   "metadata": {},
   "outputs": [
    {
     "data": {
      "text/plain": [
       "['4287',\n",
       " '3278',\n",
       " '1692',\n",
       " '2712',\n",
       " '2480',\n",
       " '185',\n",
       " '1331',\n",
       " '1416',\n",
       " '1415',\n",
       " '2419',\n",
       " '5140',\n",
       " '5370',\n",
       " '1417',\n",
       " '4289',\n",
       " '1690',\n",
       " '4288',\n",
       " '1696',\n",
       " '1694',\n",
       " '3273',\n",
       " '1686',\n",
       " '1693',\n",
       " '5316',\n",
       " '1691',\n",
       " '1688',\n",
       " '1687',\n",
       " '3276',\n",
       " '4285',\n",
       " '1689',\n",
       " '1418',\n",
       " '3292',\n",
       " '1685',\n",
       " '4284',\n",
       " '4290',\n",
       " '3688',\n",
       " '4291',\n",
       " '1684',\n",
       " '3274']"
      ]
     },
     "execution_count": 45,
     "metadata": {},
     "output_type": "execute_result"
    }
   ],
   "source": [
    "stops = stops_F_dir1 + stops_F_dir2 + stops_G_dir1 + stops_G_dir2\n",
    "unique_stops = list(set(stops))\n",
    "unique_stops"
   ]
  },
  {
   "cell_type": "code",
   "execution_count": 32,
   "metadata": {},
   "outputs": [
    {
     "data": {
      "text/plain": [
       "['1890',\n",
       " '1890',\n",
       " '2693',\n",
       " '2695',\n",
       " '2696',\n",
       " '421',\n",
       " '420',\n",
       " '4678',\n",
       " '2698',\n",
       " '4676',\n",
       " '2700',\n",
       " '789',\n",
       " '786',\n",
       " '811',\n",
       " '3829',\n",
       " '1427',\n",
       " '148',\n",
       " '1252',\n",
       " '2152',\n",
       " '2154',\n",
       " '2156',\n",
       " '814',\n",
       " '816',\n",
       " '2213',\n",
       " '2211',\n",
       " '2049',\n",
       " '2047',\n",
       " '2045',\n",
       " '2178',\n",
       " '83',\n",
       " '84',\n",
       " '320',\n",
       " '2355']"
      ]
     },
     "execution_count": 32,
     "metadata": {},
     "output_type": "execute_result"
    }
   ],
   "source": [
    "lineId = '068' #Línea C1\n",
    "direction = '1'\n",
    "stops_C1_dir1 = get_stops_of_line(lineId,direction,accessToken)['stop'].tolist()\n",
    "stops_C1_dir1"
   ]
  },
  {
   "cell_type": "code",
   "execution_count": 33,
   "metadata": {},
   "outputs": [
    {
     "data": {
      "text/plain": [
       "['2355',\n",
       " '2357',\n",
       " '2359',\n",
       " '2361',\n",
       " '2363',\n",
       " '2365',\n",
       " '609',\n",
       " '1562',\n",
       " '602',\n",
       " '600',\n",
       " '1750',\n",
       " '172',\n",
       " '734',\n",
       " '736',\n",
       " '738',\n",
       " '4816',\n",
       " '4021',\n",
       " '743',\n",
       " '2704',\n",
       " '2706',\n",
       " '2708',\n",
       " '2710',\n",
       " '185',\n",
       " '1415',\n",
       " '1417',\n",
       " '1890',\n",
       " '1890']"
      ]
     },
     "execution_count": 33,
     "metadata": {},
     "output_type": "execute_result"
    }
   ],
   "source": [
    "lineId = '068' #Línea C1\n",
    "direction = '2'\n",
    "stops_C1_dir2 = get_stops_of_line(lineId,direction,accessToken)['stop'].tolist()\n",
    "stops_C1_dir2"
   ]
  },
  {
   "cell_type": "code",
   "execution_count": 36,
   "metadata": {},
   "outputs": [
    {
     "data": {
      "text/plain": [
       "['1940',\n",
       " '1418',\n",
       " '1416',\n",
       " '2712',\n",
       " '2713',\n",
       " '5141',\n",
       " '2709',\n",
       " '2707',\n",
       " '2705',\n",
       " '4514',\n",
       " '4022',\n",
       " '3687',\n",
       " '737',\n",
       " '735',\n",
       " '193',\n",
       " '173',\n",
       " '854',\n",
       " '599',\n",
       " '601',\n",
       " '603',\n",
       " '4070',\n",
       " '606',\n",
       " '2367',\n",
       " '2366',\n",
       " '2364',\n",
       " '2362',\n",
       " '2360',\n",
       " '2358',\n",
       " '2356',\n",
       " '5104']"
      ]
     },
     "execution_count": 36,
     "metadata": {},
     "output_type": "execute_result"
    }
   ],
   "source": [
    "lineId = '069' #Línea C2\n",
    "direction = '1'\n",
    "stops_C2_dir1 = get_stops_of_line(lineId,direction,accessToken)['stop'].tolist()\n",
    "stops_C2_dir1"
   ]
  },
  {
   "cell_type": "code",
   "execution_count": 37,
   "metadata": {},
   "outputs": [
    {
     "data": {
      "text/plain": [
       "['5104',\n",
       " '85',\n",
       " '4985',\n",
       " '1401',\n",
       " '1401',\n",
       " '2046',\n",
       " '2048',\n",
       " '2210',\n",
       " '2212',\n",
       " '817',\n",
       " '2214',\n",
       " '2157',\n",
       " '2155',\n",
       " '2703',\n",
       " '2702',\n",
       " '149',\n",
       " '1428',\n",
       " '782',\n",
       " '784',\n",
       " '5296',\n",
       " '788',\n",
       " '2701',\n",
       " '4677',\n",
       " '4679',\n",
       " '5394',\n",
       " '419',\n",
       " '422',\n",
       " '2697',\n",
       " '2694',\n",
       " '5449',\n",
       " '1940']"
      ]
     },
     "execution_count": 37,
     "metadata": {},
     "output_type": "execute_result"
    }
   ],
   "source": [
    "lineId = '069' #Línea C2\n",
    "direction = '2'\n",
    "stops_C2_dir2 = get_stops_of_line(lineId,direction,accessToken)['stop'].tolist()\n",
    "stops_C2_dir2"
   ]
  },
  {
   "cell_type": "code",
   "execution_count": 48,
   "metadata": {},
   "outputs": [
    {
     "data": {
      "text/plain": [
       "['2701',\n",
       " '2211',\n",
       " '814',\n",
       " '5296',\n",
       " '734',\n",
       " '172',\n",
       " '735',\n",
       " '1415',\n",
       " '4021',\n",
       " '5141',\n",
       " '2045',\n",
       " '422',\n",
       " '4514',\n",
       " '603',\n",
       " '2152',\n",
       " '738',\n",
       " '2702',\n",
       " '2706',\n",
       " '1418',\n",
       " '817',\n",
       " '2154',\n",
       " '816',\n",
       " '2366',\n",
       " '2709',\n",
       " '4985',\n",
       " '1940',\n",
       " '2362',\n",
       " '2363',\n",
       " '4678',\n",
       " '2700',\n",
       " '419',\n",
       " '1890',\n",
       " '2156',\n",
       " '601',\n",
       " '2712',\n",
       " '185',\n",
       " '609',\n",
       " '788',\n",
       " '2357',\n",
       " '1401',\n",
       " '84',\n",
       " '421',\n",
       " '2157',\n",
       " '2365',\n",
       " '782',\n",
       " '1428',\n",
       " '2697',\n",
       " '2704',\n",
       " '1562',\n",
       " '602',\n",
       " '2356',\n",
       " '854',\n",
       " '606',\n",
       " '2359',\n",
       " '2696',\n",
       " '2361',\n",
       " '4816',\n",
       " '149',\n",
       " '786',\n",
       " '85',\n",
       " '320',\n",
       " '2210',\n",
       " '193',\n",
       " '737',\n",
       " '2698',\n",
       " '2360',\n",
       " '743',\n",
       " '1417',\n",
       " '4070',\n",
       " '2358',\n",
       " '2355',\n",
       " '2713',\n",
       " '3829',\n",
       " '2367',\n",
       " '2178',\n",
       " '736',\n",
       " '2710',\n",
       " '2364',\n",
       " '5394',\n",
       " '2695',\n",
       " '599',\n",
       " '2046',\n",
       " '5449',\n",
       " '1427',\n",
       " '784',\n",
       " '4677',\n",
       " '148',\n",
       " '2708',\n",
       " '83',\n",
       " '1416',\n",
       " '4676',\n",
       " '600',\n",
       " '1750',\n",
       " '4679',\n",
       " '420',\n",
       " '2213',\n",
       " '2048',\n",
       " '789',\n",
       " '2155',\n",
       " '3687',\n",
       " '2049',\n",
       " '2694',\n",
       " '4022',\n",
       " '2693',\n",
       " '2705',\n",
       " '2047',\n",
       " '2703',\n",
       " '5104',\n",
       " '2214',\n",
       " '173',\n",
       " '1252',\n",
       " '811',\n",
       " '2212',\n",
       " '2707']"
      ]
     },
     "execution_count": 48,
     "metadata": {},
     "output_type": "execute_result"
    }
   ],
   "source": [
    "stops_circular= stops_C1_dir1 + stops_C1_dir2 + stops_C2_dir1 + stops_C2_dir2\n",
    "unique_stops_circular = list(set(stops_circular))\n",
    "unique_stops_circular"
   ]
  },
  {
   "cell_type": "code",
   "execution_count": 49,
   "metadata": {},
   "outputs": [
    {
     "data": {
      "text/plain": [
       "145"
      ]
     },
     "execution_count": 49,
     "metadata": {},
     "output_type": "execute_result"
    }
   ],
   "source": [
    "len(set(unique_stops + unique_stops_circular))"
   ]
  },
  {
   "cell_type": "code",
   "execution_count": 50,
   "metadata": {},
   "outputs": [
    {
     "data": {
      "text/html": [
       "<div>\n",
       "<style scoped>\n",
       "    .dataframe tbody tr th:only-of-type {\n",
       "        vertical-align: middle;\n",
       "    }\n",
       "\n",
       "    .dataframe tbody tr th {\n",
       "        vertical-align: top;\n",
       "    }\n",
       "\n",
       "    .dataframe thead th {\n",
       "        text-align: right;\n",
       "    }\n",
       "</style>\n",
       "<table border=\"1\" class=\"dataframe\">\n",
       "  <thead>\n",
       "    <tr style=\"text-align: right;\">\n",
       "      <th></th>\n",
       "      <th>lat-1</th>\n",
       "      <th>lon-1</th>\n",
       "      <th>lat-2</th>\n",
       "      <th>lon-2</th>\n",
       "      <th>lat-3</th>\n",
       "      <th>lon-3</th>\n",
       "      <th>lat-4</th>\n",
       "      <th>lon-4</th>\n",
       "      <th>lat-5</th>\n",
       "      <th>lon-5</th>\n",
       "      <th>...</th>\n",
       "      <th>lat-14</th>\n",
       "      <th>lon-14</th>\n",
       "      <th>lat-15</th>\n",
       "      <th>lon-15</th>\n",
       "      <th>lat-16</th>\n",
       "      <th>lon-16</th>\n",
       "      <th>lat-17</th>\n",
       "      <th>lon-17</th>\n",
       "      <th>lat-18</th>\n",
       "      <th>lon-18</th>\n",
       "    </tr>\n",
       "  </thead>\n",
       "  <tbody>\n",
       "    <tr>\n",
       "      <th>0</th>\n",
       "      <td>28.888688</td>\n",
       "      <td>0.0</td>\n",
       "      <td>35.663535</td>\n",
       "      <td>0.0</td>\n",
       "      <td>42.170841</td>\n",
       "      <td>0.0</td>\n",
       "      <td>47.912021</td>\n",
       "      <td>0.0</td>\n",
       "      <td>52.500000</td>\n",
       "      <td>0.0</td>\n",
       "      <td>...</td>\n",
       "      <td>-52.500000</td>\n",
       "      <td>0.0</td>\n",
       "      <td>-55.736177</td>\n",
       "      <td>0.0</td>\n",
       "      <td>-57.642093</td>\n",
       "      <td>0.0</td>\n",
       "      <td>-58.437121</td>\n",
       "      <td>0.0</td>\n",
       "      <td>-58.470238</td>\n",
       "      <td>0.0</td>\n",
       "    </tr>\n",
       "    <tr>\n",
       "      <th>1</th>\n",
       "      <td>28.680866</td>\n",
       "      <td>2.5</td>\n",
       "      <td>35.404502</td>\n",
       "      <td>2.5</td>\n",
       "      <td>41.868417</td>\n",
       "      <td>2.5</td>\n",
       "      <td>47.580464</td>\n",
       "      <td>2.5</td>\n",
       "      <td>52.158174</td>\n",
       "      <td>2.5</td>\n",
       "      <td>...</td>\n",
       "      <td>-52.158174</td>\n",
       "      <td>2.5</td>\n",
       "      <td>-55.404620</td>\n",
       "      <td>2.5</td>\n",
       "      <td>-57.339669</td>\n",
       "      <td>2.5</td>\n",
       "      <td>-58.178089</td>\n",
       "      <td>2.5</td>\n",
       "      <td>-58.262416</td>\n",
       "      <td>2.5</td>\n",
       "    </tr>\n",
       "    <tr>\n",
       "      <th>2</th>\n",
       "      <td>28.063715</td>\n",
       "      <td>5.0</td>\n",
       "      <td>34.635274</td>\n",
       "      <td>5.0</td>\n",
       "      <td>40.970334</td>\n",
       "      <td>5.0</td>\n",
       "      <td>46.595867</td>\n",
       "      <td>5.0</td>\n",
       "      <td>51.143084</td>\n",
       "      <td>5.0</td>\n",
       "      <td>...</td>\n",
       "      <td>-51.143084</td>\n",
       "      <td>5.0</td>\n",
       "      <td>-54.420023</td>\n",
       "      <td>5.0</td>\n",
       "      <td>-56.441586</td>\n",
       "      <td>5.0</td>\n",
       "      <td>-57.408861</td>\n",
       "      <td>5.0</td>\n",
       "      <td>-57.645266</td>\n",
       "      <td>5.0</td>\n",
       "    </tr>\n",
       "    <tr>\n",
       "      <th>3</th>\n",
       "      <td>27.055987</td>\n",
       "      <td>7.5</td>\n",
       "      <td>33.379224</td>\n",
       "      <td>7.5</td>\n",
       "      <td>39.503880</td>\n",
       "      <td>7.5</td>\n",
       "      <td>44.988147</td>\n",
       "      <td>7.5</td>\n",
       "      <td>49.485572</td>\n",
       "      <td>7.5</td>\n",
       "      <td>...</td>\n",
       "      <td>-49.485572</td>\n",
       "      <td>7.5</td>\n",
       "      <td>-52.812302</td>\n",
       "      <td>7.5</td>\n",
       "      <td>-54.975132</td>\n",
       "      <td>7.5</td>\n",
       "      <td>-56.152811</td>\n",
       "      <td>7.5</td>\n",
       "      <td>-56.637538</td>\n",
       "      <td>7.5</td>\n",
       "    </tr>\n",
       "    <tr>\n",
       "      <th>4</th>\n",
       "      <td>25.688302</td>\n",
       "      <td>10.0</td>\n",
       "      <td>31.674516</td>\n",
       "      <td>10.0</td>\n",
       "      <td>37.513612</td>\n",
       "      <td>10.0</td>\n",
       "      <td>42.806152</td>\n",
       "      <td>10.0</td>\n",
       "      <td>47.236000</td>\n",
       "      <td>10.0</td>\n",
       "      <td>...</td>\n",
       "      <td>-47.236000</td>\n",
       "      <td>10.0</td>\n",
       "      <td>-50.630308</td>\n",
       "      <td>10.0</td>\n",
       "      <td>-52.984864</td>\n",
       "      <td>10.0</td>\n",
       "      <td>-54.448102</td>\n",
       "      <td>10.0</td>\n",
       "      <td>-55.269852</td>\n",
       "      <td>10.0</td>\n",
       "    </tr>\n",
       "  </tbody>\n",
       "</table>\n",
       "<p>5 rows × 36 columns</p>\n",
       "</div>"
      ],
      "text/plain": [
       "       lat-1  lon-1      lat-2  lon-2      lat-3  lon-3      lat-4  lon-4  \\\n",
       "0  28.888688    0.0  35.663535    0.0  42.170841    0.0  47.912021    0.0   \n",
       "1  28.680866    2.5  35.404502    2.5  41.868417    2.5  47.580464    2.5   \n",
       "2  28.063715    5.0  34.635274    5.0  40.970334    5.0  46.595867    5.0   \n",
       "3  27.055987    7.5  33.379224    7.5  39.503880    7.5  44.988147    7.5   \n",
       "4  25.688302   10.0  31.674516   10.0  37.513612   10.0  42.806152   10.0   \n",
       "\n",
       "       lat-5  lon-5  ...     lat-14  lon-14     lat-15  lon-15     lat-16  \\\n",
       "0  52.500000    0.0  ... -52.500000     0.0 -55.736177     0.0 -57.642093   \n",
       "1  52.158174    2.5  ... -52.158174     2.5 -55.404620     2.5 -57.339669   \n",
       "2  51.143084    5.0  ... -51.143084     5.0 -54.420023     5.0 -56.441586   \n",
       "3  49.485572    7.5  ... -49.485572     7.5 -52.812302     7.5 -54.975132   \n",
       "4  47.236000   10.0  ... -47.236000    10.0 -50.630308    10.0 -52.984864   \n",
       "\n",
       "   lon-16     lat-17  lon-17     lat-18  lon-18  \n",
       "0     0.0 -58.437121     0.0 -58.470238     0.0  \n",
       "1     2.5 -58.178089     2.5 -58.262416     2.5  \n",
       "2     5.0 -57.408861     5.0 -57.645266     5.0  \n",
       "3     7.5 -56.152811     7.5 -56.637538     7.5  \n",
       "4    10.0 -54.448102    10.0 -55.269852    10.0  \n",
       "\n",
       "[5 rows x 36 columns]"
      ]
     },
     "execution_count": 50,
     "metadata": {},
     "output_type": "execute_result"
    }
   ],
   "source": [
    "df = pd.read_csv('https://raw.githubusercontent.com/plotly/datasets/master/globe_contours.csv')\n",
    "df.head()"
   ]
  },
  {
   "cell_type": "code",
   "execution_count": null,
   "metadata": {},
   "outputs": [],
   "source": []
  }
 ],
 "metadata": {
  "kernelspec": {
   "display_name": "Python 3",
   "language": "python",
   "name": "python3"
  },
  "language_info": {
   "codemirror_mode": {
    "name": "ipython",
    "version": 3
   },
   "file_extension": ".py",
   "mimetype": "text/x-python",
   "name": "python",
   "nbconvert_exporter": "python",
   "pygments_lexer": "ipython3",
   "version": "3.7.3"
  }
 },
 "nbformat": 4,
 "nbformat_minor": 4
}
