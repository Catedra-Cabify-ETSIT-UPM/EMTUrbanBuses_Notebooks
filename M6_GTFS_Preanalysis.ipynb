{
 "cells": [
  {
   "cell_type": "markdown",
   "metadata": {},
   "source": [
    "# Static Data of the lines and stops of the urban buses in EMT Madrid\n",
    "In this notebook we are going to transform the data found in gtfs format to a geodataframe format, which is easier to work with. We can find the gtfs at the following link: \n",
    "https://transitfeeds.com/p/emt-madrid/212/20200309/download\n",
    "\n",
    "After downloading it, we have to unzip it, and then we are ready to work with the .txt files found inside.\n",
    "\n",
    "For this notebook to work, modify the path below to the one of the folder with the unzipped data of the GTFS."
   ]
  },
  {
   "cell_type": "code",
   "execution_count": null,
   "metadata": {},
   "outputs": [],
   "source": [
    "GTFSpath = 'myfolder/mygtfsfolder' "
   ]
  },
  {
   "cell_type": "code",
   "execution_count": null,
   "metadata": {},
   "outputs": [],
   "source": [
    "#We load the modules of interest\n",
    "import pandas as pd\n",
    "import json\n",
    "%matplotlib inline"
   ]
  },
  {
   "cell_type": "code",
   "execution_count": null,
   "metadata": {},
   "outputs": [],
   "source": [
    "#Load line_stops_dict\n",
    "with open('../Data/Static/line_stops_dict.json', 'r') as f:\n",
    "    line_stops_dict = json.load(f)"
   ]
  },
  {
   "cell_type": "markdown",
   "metadata": {},
   "source": [
    "## Load routes data"
   ]
  },
  {
   "cell_type": "code",
   "execution_count": null,
   "metadata": {},
   "outputs": [],
   "source": [
    "#We load the route data into a dataframe\n",
    "routes = pd.read_csv(GTFSpath+'/routes.txt')\n",
    "#And we show the dataframe\n",
    "routes.head()"
   ]
  },
  {
   "cell_type": "markdown",
   "metadata": {},
   "source": [
    "## Load stops data"
   ]
  },
  {
   "cell_type": "code",
   "execution_count": null,
   "metadata": {},
   "outputs": [],
   "source": [
    "#We load the dataframe of the stops\n",
    "stops = pd.read_csv(GTFSpath+'/stops.txt').drop(['stop_id','stop_url','stop_desc','location_type','parent_station','zone_id'], axis=1)\n",
    "stops = stops.rename(columns={'stop_code': 'id','stop_lat':'lat','stop_lon':'lon'})\n",
    "stops.head()"
   ]
  },
  {
   "cell_type": "code",
   "execution_count": null,
   "metadata": {},
   "outputs": [],
   "source": [
    "#And we save it to a file with a geojson format\n",
    "stops.to_csv(GTFSpath+'/stops.csv')\n",
    "#Finally we show the first five rows of the dataframe\n",
    "stops.describe()"
   ]
  },
  {
   "cell_type": "markdown",
   "metadata": {},
   "source": [
    "## Load stop times data"
   ]
  },
  {
   "cell_type": "code",
   "execution_count": null,
   "metadata": {},
   "outputs": [],
   "source": [
    "#Add distance of each one to beggining of line\n",
    "stop_times = pd.read_csv(GTFSpath+'/stop_times.txt')#[['stop_id','shape_dist_traveled']].drop_duplicates()\n",
    "\n",
    "def separate_trip_id(df):\n",
    "    day_types,lines,bus_pos,bus_trip = [],[],[],[]\n",
    "    for row in df.itertuples():\n",
    "        day_types.append(row.trip_id[0:2])\n",
    "        lines.append(int(row.trip_id[2:5]))\n",
    "        bus_pos.append(int(row.trip_id[5:8]))\n",
    "        bus_trip.append(int(row.trip_id[8:]))\n",
    "    \n",
    "    df['day_type'] = day_types\n",
    "    df['line'] = lines\n",
    "    df['bus_pos'] = bus_pos\n",
    "    df['bus_trip'] = bus_trip\n",
    "    \n",
    "    return df\n",
    "\n",
    "stop_times = separate_trip_id(stop_times)[['day_type','line','bus_pos','bus_trip','stop_id','stop_sequence','shape_dist_traveled']]\n",
    "stop_times.head()"
   ]
  },
  {
   "cell_type": "code",
   "execution_count": null,
   "metadata": {},
   "outputs": [],
   "source": [
    "lines = [1,44,82,91,92,99,132,133,502,506]\n",
    "bus_trips = [1,2]\n",
    "bus_pos = 1\n",
    "stop_times_reduced = stop_times.loc[(stop_times.line.isin(lines))&(stop_times.bus_trip.isin(bus_trips))&(stop_times.bus_pos==bus_pos)]\n",
    "stop_times_reduced.head()"
   ]
  },
  {
   "cell_type": "markdown",
   "metadata": {},
   "source": [
    "## Load frequencies data"
   ]
  },
  {
   "cell_type": "code",
   "execution_count": null,
   "metadata": {},
   "outputs": [],
   "source": [
    "#Add distance of each one to beggining of line\n",
    "frequencies = pd.read_csv(GTFSpath+'/frequencies.txt')\n",
    "#Parse the  datetime\n",
    "frequencies['start_time'] = frequencies.start_time.apply(lambda x: str(int(x[0:2])%24)+x[2:] if int(x[0:2])>=24 else x)\n",
    "frequencies['start_time'] = pd.to_datetime(frequencies['start_time'],format='%H:%M:%S').dt.time\n",
    "frequencies['end_time'] = frequencies.end_time.apply(lambda x: str(int(x[0:2])%24)+x[2:] if int(x[0:2])>=24 else x)\n",
    "frequencies['end_time'] = pd.to_datetime(frequencies['end_time'],format='%H:%M:%S').dt.time\n",
    "\n",
    "#Separate trip id parts\n",
    "frequencies = separate_trip_id(frequencies)[['day_type','line','bus_pos','bus_trip','start_time','end_time','headway_secs']]\n",
    "frequencies = frequencies.sort_values(by=['line','start_time'],ascending=True)\n",
    "frequencies.loc[(frequencies.line==1)&((frequencies.bus_pos%2)==0)&(frequencies.day_type=='LA')][-20:]"
   ]
  },
  {
   "cell_type": "markdown",
   "metadata": {},
   "source": [
    "## Load shapes of the lines data"
   ]
  },
  {
   "cell_type": "code",
   "execution_count": null,
   "metadata": {},
   "outputs": [],
   "source": [
    "#We load the dataframe with the shapes of the lines and rename its columns\n",
    "shapes = pd.read_csv(GTFSpath+'/shapes.txt').rename(columns={\"shape_pt_sequence\":\"sequence\",\"shape_dist_traveled\":\"dist_traveled\", \"shape_pt_lat\": \"lat\", \"shape_pt_lon\": \"lon\"})\n",
    "#And show the dataframe\n",
    "shapes.head()"
   ]
  },
  {
   "cell_type": "code",
   "execution_count": null,
   "metadata": {},
   "outputs": [],
   "source": [
    "def transform_route_id(df) :\n",
    "    '''\n",
    "    Adds a new column with the short id and the direction to the dataframe\n",
    "    \n",
    "        Params\n",
    "        ---\n",
    "        df: DataFrame\n",
    "    '''\n",
    "    new_df = df\n",
    "    \n",
    "    #Function that adds the line id\n",
    "    def get_line_id(row) :\n",
    "        if (row['shape_id'][1] == '0') & (row['shape_id'][0] == '0') :\n",
    "            return int(row['shape_id'][2])\n",
    "        elif row['shape_id'][0] == '0':\n",
    "            return int(row['shape_id'][1:3])\n",
    "        else :\n",
    "            return int(row['shape_id'][0:3])\n",
    "    \n",
    "    #Function that adds the direction\n",
    "    def get_route_direction(row) :\n",
    "        if row['shape_id'][4] == 'A':\n",
    "            return 1\n",
    "        else:\n",
    "            return 2\n",
    "        \n",
    "    #Function that adds the short name of the line\n",
    "    def get_line_short_name(row) :\n",
    "        return routes.loc[routes.route_id == row.line_id].iloc[0]['route_short_name']\n",
    "    \n",
    "    \n",
    "    new_df[\"line_id\"] = new_df.apply(get_line_id, axis=1)\n",
    "    new_df[\"line_sn\"] = new_df.apply(get_line_short_name, axis=1)\n",
    "    new_df[\"direction\"] = new_df.apply(get_route_direction, axis=1)\n",
    "    \n",
    "    return new_df[['shape_id','line_id','line_sn','direction','sequence','dist_traveled','lat','lon']]\n",
    "\n",
    "#We call the functions and show the result\n",
    "lines_shapes = transform_route_id(shapes)\n",
    "lines_shapes.to_csv('../Data/Static/lines_shapes.csv')\n",
    "lines_shapes.head()"
   ]
  },
  {
   "cell_type": "code",
   "execution_count": null,
   "metadata": {},
   "outputs": [],
   "source": [
    "#With this line we can take a look at all the bus line ids in the geodataframe\n",
    "lines_shapes.line_id.unique()"
   ]
  },
  {
   "cell_type": "code",
   "execution_count": null,
   "metadata": {},
   "outputs": [],
   "source": [
    "#With this line we can take a look at all the bus line ids in the geodataframe\n",
    "lines_shapes.line_sn.unique()"
   ]
  },
  {
   "cell_type": "markdown",
   "metadata": {},
   "source": [
    "## Create lines collected dictionary\n",
    "Dictionary with the short name, destinations, stops and distances to that stops for each of the lines collected"
   ]
  },
  {
   "cell_type": "code",
   "execution_count": null,
   "metadata": {},
   "outputs": [],
   "source": [
    "#Distance to every stop in line dictionary\n",
    "destinations_sn = {\n",
    "    '1' : ('1', ('CRISTO REY', 'PROSPERIDAD')),\n",
    "    '44' : ('44', ('CALLAO', 'MARQUES DE VIANA') ),\n",
    "    '82' : ('82', ('MONCLOA', 'PITIS') ),\n",
    "    '132' : ('132', ('MONCLOA', 'HOSPITAL LA PAZ') ),\n",
    "    '133' : ('133', ('CALLAO', 'MIRASIERRA') ),\n",
    "    '91' : ('F', ('CUATRO CAMINOS', 'CIUDAD UNIVERSITARIA') ),\n",
    "    '92' : ('G', ('MONCLOA', 'CIUDAD UNIVERSITARIA') ),\n",
    "    '99' : ('U', ('AVENIDA SENECA', 'PARANINFO') ),\n",
    "    '502' : ('N2', ('CIBELES', 'VALDEBEBAS') ),\n",
    "    '506' : ('N6', ('CIBELES', 'LAS ROSAS') )\n",
    "}\n",
    "\n",
    "line_sns = ['1','44','82','F','G','U','132','133','N2','N6']\n",
    "line_ids = ['1','44','82','91','92','99','132','133','502','506']\n",
    "lines_collected_dict = {}\n",
    "for i in range(10) :\n",
    "    line_sn = line_sns[i]\n",
    "    line_id = line_ids[i]\n",
    "    \n",
    "    lines_collected_dict[line_sn] = {}\n",
    "    lines_collected_dict[line_sn]['line_id'] = line_id\n",
    "    lines_collected_dict[line_sn]['destinations'] = destinations_sn[line_id][1]\n",
    "    for direction in ['1','2'] :\n",
    "        stops = line_stops_dict[line_id][direction]\n",
    "        lines_collected_dict[line_sn][direction] = {}\n",
    "        lines_collected_dict[line_sn][direction]['length'] = str(lines_shapes.loc[(lines_shapes['line_id']==int(line_id))&(lines_shapes['direction']==int(direction))].dist_traveled.max()) \n",
    "        lines_collected_dict[line_sn][direction]['stops'] = stops \n",
    "        lines_collected_dict[line_sn][direction]['distances'] = {}\n",
    "        \n",
    "        trip_index = 1\n",
    "        day_type = 'LA'\n",
    "        stops_data = stop_times.loc[(stop_times.day_type==day_type)&(stop_times.line==int(line_id))&(stop_times.bus_pos==1)&(stop_times.bus_trip==trip_index)]\n",
    "        while (int(stops[3]) not in stops_data.stop_id.unique().tolist()) and (trip_index < 6): \n",
    "            trip_index += 1\n",
    "            stops_data = stop_times.loc[(stop_times.day_type==day_type)&(stop_times.line==int(line_id))&(stop_times.bus_pos==1)&(stop_times.bus_trip==trip_index)]\n",
    "            if trip_index > 3 :\n",
    "                day_type = 'FE'\n",
    "        for stop in stops :\n",
    "            stop_data = stops_data.loc[stops_data.stop_id == int(stop)].iloc[0]\n",
    "            lines_collected_dict[line_sn][direction]['distances'][stop] = str(stop_data.shape_dist_traveled)\n",
    "\n",
    "with open('../Data/Static/lines_collected_dict.json', 'w') as fp:\n",
    "    json.dump(lines_collected_dict, fp)\n",
    "lines_collected_dict"
   ]
  },
  {
   "cell_type": "code",
   "execution_count": null,
   "metadata": {},
   "outputs": [],
   "source": []
  }
 ],
 "metadata": {
  "kernelspec": {
   "display_name": "Python 3",
   "language": "python",
   "name": "python3"
  },
  "language_info": {
   "codemirror_mode": {
    "name": "ipython",
    "version": 3
   },
   "file_extension": ".py",
   "mimetype": "text/x-python",
   "name": "python",
   "nbconvert_exporter": "python",
   "pygments_lexer": "ipython3",
   "version": "3.7.3"
  }
 },
 "nbformat": 4,
 "nbformat_minor": 4
}
