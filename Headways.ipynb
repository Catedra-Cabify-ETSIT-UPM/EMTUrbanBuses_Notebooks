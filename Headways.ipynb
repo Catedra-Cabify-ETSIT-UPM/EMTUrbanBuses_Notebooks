{
 "cells": [
  {
   "cell_type": "markdown",
   "metadata": {},
   "source": [
    "# HEADWAYS ANALYSIS"
   ]
  },
  {
   "cell_type": "code",
   "execution_count": 2,
   "metadata": {},
   "outputs": [
    {
     "name": "stdout",
     "output_type": "stream",
     "text": [
      "INFO: Pandarallel will run on 8 workers.\n",
      "INFO: Pandarallel will use Memory file system to transfer data between the main process and workers.\n"
     ]
    }
   ],
   "source": [
    "import pandas as pd\n",
    "import json\n",
    "\n",
    "import datetime\n",
    "from datetime import timedelta\n",
    "\n",
    "import statistics\n",
    "from statistics import mean\n",
    "import math\n",
    "\n",
    "from pandarallel import pandarallel\n",
    "from joblib import Parallel, delayed\n",
    "import multiprocessing\n",
    "num_cores = multiprocessing.cpu_count()\n",
    "pandarallel.initialize()\n",
    "\n",
    "import plotly.graph_objects as go\n",
    "import plotly.io as pio\n",
    "import plotly.express as px\n",
    "pio.templates.default = 'plotly_white'\n",
    "pd.set_option(\"display.precision\", 3)"
   ]
  },
  {
   "cell_type": "markdown",
   "metadata": {},
   "source": [
    "## Lines collected dictionary"
   ]
  },
  {
   "cell_type": "code",
   "execution_count": null,
   "metadata": {},
   "outputs": [],
   "source": [
    "#Line collected dict\n",
    "with open('M6Data/lines_collected_dict.json', 'r') as f:\n",
    "    lines_collected_dict = json.load(f)"
   ]
  },
  {
   "cell_type": "markdown",
   "metadata": {},
   "source": [
    "## Buses time intervals differentiation\n",
    "From the data available for each line, we are going to construct a dictionary with the time intervals for each line\n",
    "and the frequencies of the buses for that intervals"
   ]
  },
  {
   "cell_type": "code",
   "execution_count": 4,
   "metadata": {},
   "outputs": [],
   "source": [
    "#Line stops dict\n",
    "with open('M6Data/freq_ranges_dict.json', 'r') as f:\n",
    "    freq_ranges_dict = json.load(f)"
   ]
  },
  {
   "cell_type": "code",
   "execution_count": 5,
   "metadata": {},
   "outputs": [],
   "source": [
    "day_type_dict = { #0 = Monday, 1 = Tuesday ...\n",
    "    'LA' : [0,1,2,3,4], #LABORABLES\n",
    "    'LJ' : [0,1,2,3], #LUNES A JUEVES\n",
    "    'VV' : [4], #VIERNES\n",
    "    'SA' : [5], #SABADOS\n",
    "    'FE' : [6], #DOMIGOS O FESTIVOS\n",
    "}"
   ]
  },
  {
   "cell_type": "markdown",
   "metadata": {},
   "source": [
    "## Load buses headways data\n",
    "We can build the time interval between the buses inside a line and destination by getting the time remaining for the buses to the stop and extracting the difference between buses. This data is processed in a scrip called 'headways.py' and processed here."
   ]
  },
  {
   "cell_type": "code",
   "execution_count": 10,
   "metadata": {},
   "outputs": [
    {
     "data": {
      "text/html": [
       "<div>\n",
       "<style scoped>\n",
       "    .dataframe tbody tr th:only-of-type {\n",
       "        vertical-align: middle;\n",
       "    }\n",
       "\n",
       "    .dataframe tbody tr th {\n",
       "        vertical-align: top;\n",
       "    }\n",
       "\n",
       "    .dataframe thead th {\n",
       "        text-align: right;\n",
       "    }\n",
       "</style>\n",
       "<table border=\"1\" class=\"dataframe\">\n",
       "  <thead>\n",
       "    <tr style=\"text-align: right;\">\n",
       "      <th></th>\n",
       "      <th>line</th>\n",
       "      <th>direction</th>\n",
       "      <th>datetime</th>\n",
       "      <th>hw_pos</th>\n",
       "      <th>busA</th>\n",
       "      <th>busB</th>\n",
       "      <th>headway</th>\n",
       "      <th>busB_ttls</th>\n",
       "    </tr>\n",
       "  </thead>\n",
       "  <tbody>\n",
       "    <tr>\n",
       "      <td>0</td>\n",
       "      <td>1</td>\n",
       "      <td>1</td>\n",
       "      <td>2020-02-25 20:41:06.747039</td>\n",
       "      <td>0</td>\n",
       "      <td>0</td>\n",
       "      <td>124</td>\n",
       "      <td>0</td>\n",
       "      <td>335</td>\n",
       "    </tr>\n",
       "    <tr>\n",
       "      <td>1</td>\n",
       "      <td>1</td>\n",
       "      <td>1</td>\n",
       "      <td>2020-02-25 20:41:06.747039</td>\n",
       "      <td>1</td>\n",
       "      <td>124</td>\n",
       "      <td>4680</td>\n",
       "      <td>1026</td>\n",
       "      <td>1362</td>\n",
       "    </tr>\n",
       "    <tr>\n",
       "      <td>2</td>\n",
       "      <td>1</td>\n",
       "      <td>1</td>\n",
       "      <td>2020-02-25 20:41:06.747039</td>\n",
       "      <td>2</td>\n",
       "      <td>4680</td>\n",
       "      <td>118</td>\n",
       "      <td>1188</td>\n",
       "      <td>2551</td>\n",
       "    </tr>\n",
       "    <tr>\n",
       "      <td>3</td>\n",
       "      <td>1</td>\n",
       "      <td>1</td>\n",
       "      <td>2020-02-25 20:41:06.747039</td>\n",
       "      <td>3</td>\n",
       "      <td>118</td>\n",
       "      <td>8324</td>\n",
       "      <td>603</td>\n",
       "      <td>3154</td>\n",
       "    </tr>\n",
       "    <tr>\n",
       "      <td>4</td>\n",
       "      <td>1</td>\n",
       "      <td>2</td>\n",
       "      <td>2020-02-25 20:41:06.747039</td>\n",
       "      <td>0</td>\n",
       "      <td>0</td>\n",
       "      <td>123</td>\n",
       "      <td>0</td>\n",
       "      <td>873</td>\n",
       "    </tr>\n",
       "  </tbody>\n",
       "</table>\n",
       "</div>"
      ],
      "text/plain": [
       "  line  direction                   datetime  hw_pos  busA  busB  headway  \\\n",
       "0    1          1 2020-02-25 20:41:06.747039       0     0   124        0   \n",
       "1    1          1 2020-02-25 20:41:06.747039       1   124  4680     1026   \n",
       "2    1          1 2020-02-25 20:41:06.747039       2  4680   118     1188   \n",
       "3    1          1 2020-02-25 20:41:06.747039       3   118  8324      603   \n",
       "4    1          2 2020-02-25 20:41:06.747039       0     0   123        0   \n",
       "\n",
       "   busB_ttls  \n",
       "0        335  \n",
       "1       1362  \n",
       "2       2551  \n",
       "3       3154  \n",
       "4        873  "
      ]
     },
     "execution_count": 10,
     "metadata": {},
     "output_type": "execute_result"
    }
   ],
   "source": [
    "headways = pd.read_csv('../../flash/EMTBuses/ProcessedData/headways.csv',\n",
    "    dtype={\n",
    "        'line': 'str',\n",
    "        'direction': 'uint16',\n",
    "        'busA': 'uint16',\n",
    "        'busB': 'uint16',\n",
    "        'headway':'uint16',\n",
    "        'busB_ttls':'uint16'\n",
    "    }\n",
    ")[['line','direction','datetime','hw_pos','busA','busB','headway','busB_ttls']]\n",
    "#Parse the dates\n",
    "headways['datetime'] = pd.to_datetime(headways['datetime'], format='%Y-%m-%d %H:%M:%S.%f')\n",
    "headways = headways.sort_values(by=['line','datetime','direction'], ascending=True).reset_index(drop = True)\n",
    "headways.head()"
   ]
  },
  {
   "cell_type": "code",
   "execution_count": null,
   "metadata": {},
   "outputs": [],
   "source": []
  },
  {
   "cell_type": "code",
   "execution_count": null,
   "metadata": {},
   "outputs": [],
   "source": []
  }
 ],
 "metadata": {
  "kernelspec": {
   "display_name": "Python 3",
   "language": "python",
   "name": "python3"
  },
  "language_info": {
   "codemirror_mode": {
    "name": "ipython",
    "version": 3
   },
   "file_extension": ".py",
   "mimetype": "text/x-python",
   "name": "python",
   "nbconvert_exporter": "python",
   "pygments_lexer": "ipython3",
   "version": "3.7.3"
  }
 },
 "nbformat": 4,
 "nbformat_minor": 2
}
