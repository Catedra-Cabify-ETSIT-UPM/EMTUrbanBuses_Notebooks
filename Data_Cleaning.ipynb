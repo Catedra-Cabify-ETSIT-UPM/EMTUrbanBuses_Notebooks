{
 "cells": [
  {
   "cell_type": "markdown",
   "metadata": {},
   "source": [
    "# DATA CLEANING\n",
    "In this notebook, we are to perform some techniques on the gathered data, in order improve its quality for the future development of other tools."
   ]
  },
  {
   "cell_type": "code",
   "execution_count": 16,
   "metadata": {},
   "outputs": [
    {
     "name": "stdout",
     "output_type": "stream",
     "text": [
      "INFO: Pandarallel will run on 4 workers.\n",
      "INFO: Pandarallel will use Memory file system to transfer data between the main process and workers.\n"
     ]
    }
   ],
   "source": [
    "import pandas as pd\n",
    "import json\n",
    "import numpy as np\n",
    "\n",
    "import datetime\n",
    "from datetime import timedelta\n",
    "\n",
    "import statistics\n",
    "import math\n",
    "\n",
    "from pandarallel import pandarallel\n",
    "pandarallel.initialize()"
   ]
  },
  {
   "cell_type": "code",
   "execution_count": 17,
   "metadata": {},
   "outputs": [
    {
     "data": {
      "text/html": [
       "<div>\n",
       "<style scoped>\n",
       "    .dataframe tbody tr th:only-of-type {\n",
       "        vertical-align: middle;\n",
       "    }\n",
       "\n",
       "    .dataframe tbody tr th {\n",
       "        vertical-align: top;\n",
       "    }\n",
       "\n",
       "    .dataframe thead th {\n",
       "        text-align: right;\n",
       "    }\n",
       "</style>\n",
       "<table border=\"1\" class=\"dataframe\">\n",
       "  <thead>\n",
       "    <tr style=\"text-align: right;\">\n",
       "      <th></th>\n",
       "      <th>line</th>\n",
       "      <th>destination</th>\n",
       "      <th>stop</th>\n",
       "      <th>bus</th>\n",
       "      <th>day_trip</th>\n",
       "      <th>datetime</th>\n",
       "      <th>estimateArrive</th>\n",
       "      <th>DistanceBus</th>\n",
       "      <th>arrival_time</th>\n",
       "      <th>given_coords</th>\n",
       "      <th>lat</th>\n",
       "      <th>lon</th>\n",
       "    </tr>\n",
       "  </thead>\n",
       "  <tbody>\n",
       "    <tr>\n",
       "      <th>0</th>\n",
       "      <td>82</td>\n",
       "      <td>PITIS</td>\n",
       "      <td>3756</td>\n",
       "      <td>4711</td>\n",
       "      <td>1</td>\n",
       "      <td>2020-02-25 20:41:06.737773</td>\n",
       "      <td>727</td>\n",
       "      <td>3559</td>\n",
       "      <td>2020-02-25 20:52:21.867463</td>\n",
       "      <td>True</td>\n",
       "      <td>40.448296</td>\n",
       "      <td>-3.728308</td>\n",
       "    </tr>\n",
       "    <tr>\n",
       "      <th>1</th>\n",
       "      <td>82</td>\n",
       "      <td>PITIS</td>\n",
       "      <td>3756</td>\n",
       "      <td>4715</td>\n",
       "      <td>1</td>\n",
       "      <td>2020-02-25 20:41:06.737773</td>\n",
       "      <td>369</td>\n",
       "      <td>1755</td>\n",
       "      <td>2020-02-25 20:48:03.830166</td>\n",
       "      <td>True</td>\n",
       "      <td>40.433678</td>\n",
       "      <td>-3.717469</td>\n",
       "    </tr>\n",
       "    <tr>\n",
       "      <th>2</th>\n",
       "      <td>G</td>\n",
       "      <td>MONCLOA</td>\n",
       "      <td>4290</td>\n",
       "      <td>8623</td>\n",
       "      <td>1</td>\n",
       "      <td>2020-02-25 20:41:06.740077</td>\n",
       "      <td>414</td>\n",
       "      <td>612</td>\n",
       "      <td>2020-02-25 20:48:36.848837</td>\n",
       "      <td>True</td>\n",
       "      <td>40.448269</td>\n",
       "      <td>-3.728756</td>\n",
       "    </tr>\n",
       "    <tr>\n",
       "      <th>3</th>\n",
       "      <td>F</td>\n",
       "      <td>CUATRO CAMINOS</td>\n",
       "      <td>4290</td>\n",
       "      <td>8630</td>\n",
       "      <td>1</td>\n",
       "      <td>2020-02-25 20:41:06.740077</td>\n",
       "      <td>1012</td>\n",
       "      <td>3796</td>\n",
       "      <td>2020-02-25 20:57:58.506884</td>\n",
       "      <td>True</td>\n",
       "      <td>40.448662</td>\n",
       "      <td>-3.734985</td>\n",
       "    </tr>\n",
       "    <tr>\n",
       "      <th>4</th>\n",
       "      <td>F</td>\n",
       "      <td>CUATRO CAMINOS</td>\n",
       "      <td>4290</td>\n",
       "      <td>8605</td>\n",
       "      <td>1</td>\n",
       "      <td>2020-02-25 20:41:06.740077</td>\n",
       "      <td>412</td>\n",
       "      <td>85</td>\n",
       "      <td>2020-02-25 20:48:36.848837</td>\n",
       "      <td>False</td>\n",
       "      <td>40.446945</td>\n",
       "      <td>-3.704722</td>\n",
       "    </tr>\n",
       "  </tbody>\n",
       "</table>\n",
       "</div>"
      ],
      "text/plain": [
       "  line     destination  stop   bus  day_trip                   datetime  \\\n",
       "0   82           PITIS  3756  4711         1 2020-02-25 20:41:06.737773   \n",
       "1   82           PITIS  3756  4715         1 2020-02-25 20:41:06.737773   \n",
       "2    G         MONCLOA  4290  8623         1 2020-02-25 20:41:06.740077   \n",
       "3    F  CUATRO CAMINOS  4290  8630         1 2020-02-25 20:41:06.740077   \n",
       "4    F  CUATRO CAMINOS  4290  8605         1 2020-02-25 20:41:06.740077   \n",
       "\n",
       "   estimateArrive  DistanceBus               arrival_time  given_coords  \\\n",
       "0             727         3559 2020-02-25 20:52:21.867463          True   \n",
       "1             369         1755 2020-02-25 20:48:03.830166          True   \n",
       "2             414          612 2020-02-25 20:48:36.848837          True   \n",
       "3            1012         3796 2020-02-25 20:57:58.506884          True   \n",
       "4             412           85 2020-02-25 20:48:36.848837         False   \n",
       "\n",
       "         lat       lon  \n",
       "0  40.448296 -3.728308  \n",
       "1  40.433678 -3.717469  \n",
       "2  40.448269 -3.728756  \n",
       "3  40.448662 -3.734985  \n",
       "4  40.446945 -3.704722  "
      ]
     },
     "execution_count": 17,
     "metadata": {},
     "output_type": "execute_result"
    }
   ],
   "source": [
    "# We load the dataset with the preprocessed arrival_times\n",
    "buses_data_at = pd.read_csv('../buses_data_arrival_times.csv',\n",
    "    dtype={\n",
    "        'line': 'str',\n",
    "        'destination': 'str',\n",
    "        'stop': 'uint16',\n",
    "        'bus': 'uint16',\n",
    "        'day_trip': 'uint16',\n",
    "        'given_coords': 'bool',\n",
    "        'pos_in_burst':'uint16',\n",
    "        'estimateArrive': 'int32',\n",
    "        'DistanceBus': 'int32',\n",
    "        'request_time': 'int32',\n",
    "        'lat':'float32',\n",
    "        'lon':'float32'\n",
    "    }\n",
    ")[['line','destination','stop','bus','day_trip','datetime','estimateArrive','DistanceBus','arrival_time','given_coords','lat','lon']]\n",
    "\n",
    "#Parse the dates\n",
    "buses_data_at['datetime'] = pd.to_datetime(buses_data_at['datetime'], format='%Y-%m-%d %H:%M:%S.%f')\n",
    "buses_data_at['arrival_time'] = pd.to_datetime(buses_data_at['arrival_time'], format='%Y-%m-%d %H:%M:%S.%f')\n",
    "buses_data_at.head()"
   ]
  },
  {
   "cell_type": "code",
   "execution_count": 18,
   "metadata": {},
   "outputs": [],
   "source": [
    "#Load line_stops_dict\n",
    "with open('M6Data/lines_collected_dict.json', 'r') as f:\n",
    "    lines_collected_dict = json.load(f)"
   ]
  },
  {
   "cell_type": "code",
   "execution_count": 19,
   "metadata": {},
   "outputs": [],
   "source": [
    "#Route and lines shapes\n",
    "lines_shapes = pd.read_csv('M6Data/lines_shapes.csv')"
   ]
  },
  {
   "cell_type": "code",
   "execution_count": 20,
   "metadata": {},
   "outputs": [],
   "source": [
    "#Stops\n",
    "stops = pd.read_csv('M6Data/stops.csv')"
   ]
  },
  {
   "cell_type": "code",
   "execution_count": 31,
   "metadata": {},
   "outputs": [],
   "source": [
    "#FUNCTIONS\n",
    "def haversine(coord1, coord2):\n",
    "    '''\n",
    "    Returns distance between two given coordinates in meters\n",
    "    \n",
    "        Parameters\n",
    "        ----------\n",
    "        coord1 : tuple\n",
    "            Coordinates of the first point\n",
    "        coord2 : tuple\n",
    "            Coordinates of the second point\n",
    "            \n",
    "    '''\n",
    "    \n",
    "    R = 6372800  # Earth radius in meters\n",
    "    lat1, lon1 = coord1\n",
    "    lat2, lon2 = coord2\n",
    "    \n",
    "    phi1, phi2 = math.radians(lat1), math.radians(lat2) \n",
    "    dphi       = math.radians(lat2 - lat1)\n",
    "    dlambda    = math.radians(lon2 - lon1)\n",
    "    \n",
    "    a = math.sin(dphi/2)**2 + \\\n",
    "        math.cos(phi1)*math.cos(phi2)*math.sin(dlambda/2)**2\n",
    "    \n",
    "    return 2*R*math.atan2(math.sqrt(a), math.sqrt(1 - a))\n",
    "\n",
    "def calculate_coords(df,stop_id,dist_to_stop) :\n",
    "    '''\n",
    "    Returns the calculated coordinates of the bus\n",
    "    \n",
    "    Parameters\n",
    "        ----------\n",
    "        df : dataframe\n",
    "            Dataframe where we want to find the calculated coords\n",
    "        stop : str\n",
    "        dist_traveled : float\n",
    "    '''\n",
    "    line_sn = df.iloc[0].line_sn\n",
    "    direction = str(df.iloc[0].direction)\n",
    "    bus_distance = int(lines_collected_dict[line_sn][direction]['distances'][str(stop_id)]) - dist_to_stop\n",
    "    nearest_row = find_nearest_row_by_dist(df,bus_distance)\n",
    "    return nearest_row.lon, nearest_row.lat\n",
    "\n",
    "def find_nearest_row_by_dist(df,dist_traveled) :\n",
    "    \"\"\"\n",
    "    Returns the row nearest to the distance traveled passed in the dataframe\n",
    "    \n",
    "        Parameters\n",
    "        ----------\n",
    "        df : dataframe\n",
    "            Dataframe where we want to find the row\n",
    "        dist_traveled : float\n",
    "    \"\"\"\n",
    "    min_dist_error = 1000000.0\n",
    "    df_reduced = df.loc[(df.dist_traveled>dist_traveled-100)&(df.dist_traveled<dist_traveled+100)]\n",
    "    if df_reduced.shape[0]!=0:\n",
    "        for row in df_reduced.itertuples() :\n",
    "            error = abs(row.dist_traveled-dist_traveled)\n",
    "            if  error < min_dist_error :\n",
    "                min_dist_error = error\n",
    "                nearest_row = row\n",
    "    else :\n",
    "        nearest_row = df.iloc[0]\n",
    "    return nearest_row"
   ]
  },
  {
   "cell_type": "markdown",
   "metadata": {},
   "source": [
    "## Check that the lines, destinations and stops are coherent\n",
    "First, we are going to check that the group of values line destination and stop are coherent with the destinations and stop defined for each line, if there is a non-coherent row, we drop it.\n"
   ]
  },
  {
   "cell_type": "code",
   "execution_count": 22,
   "metadata": {},
   "outputs": [],
   "source": [
    "def check_line_destination_stop(row):\n",
    "    '''\n",
    "    Returns true if the values of line, destination and stop are coherent. False if they arent\n",
    "    '''\n",
    "    if row.line in lines_collected_dict.keys() :\n",
    "        if row.destination in lines_collected_dict[row.line]['destinations'] :\n",
    "            direction = '1' if row.destination == lines_collected_dict[row.line]['destinations'][1] else '2'\n",
    "            if str(row.stop) in lines_collected_dict[row.line][direction]['stops'] :\n",
    "                return True\n",
    "    return False\n",
    "\n",
    "\n",
    "line_destination_stop_cond = buses_data_at[['line','destination','stop']].parallel_apply(check_line_destination_stop,axis=1)"
   ]
  },
  {
   "cell_type": "code",
   "execution_count": 23,
   "metadata": {},
   "outputs": [
    {
     "data": {
      "text/plain": [
       "True    5956293\n",
       "dtype: int64"
      ]
     },
     "execution_count": 23,
     "metadata": {},
     "output_type": "execute_result"
    }
   ],
   "source": [
    "#Number of rows that meet the condition\n",
    "line_destination_stop_cond.value_counts()"
   ]
  },
  {
   "cell_type": "markdown",
   "metadata": {},
   "source": [
    "## Values of DistanceBus higher than the line length or negative\n",
    "Now, we are going to eliminate the rows which distance remaining to the stop is higher than the line length. And also the one that have a negative value.\n"
   ]
  },
  {
   "cell_type": "code",
   "execution_count": 25,
   "metadata": {},
   "outputs": [],
   "source": [
    "def check_distance_remaining (row) :\n",
    "    '''\n",
    "    Returns true if the distance remaining is positive and smaller than the line lenght\n",
    "    '''\n",
    "    direction = '1' if row.destination == lines_collected_dict[row.line]['destinations'][1] else '2'\n",
    "    return (row.DistanceBus < int(lines_collected_dict[row.line][direction]['length'])) and (row.DistanceBus >= 0)\n",
    "    \n",
    "distance_remaining_cond = buses_data_at[['line','destination','DistanceBus']].parallel_apply(check_distance_remaining,axis=1)"
   ]
  },
  {
   "cell_type": "code",
   "execution_count": 26,
   "metadata": {},
   "outputs": [
    {
     "data": {
      "text/plain": [
       "True     5825568\n",
       "False     130725\n",
       "dtype: int64"
      ]
     },
     "execution_count": 26,
     "metadata": {},
     "output_type": "execute_result"
    }
   ],
   "source": [
    "#Number of rows that meet the condition\n",
    "distance_remaining_cond.value_counts()"
   ]
  },
  {
   "cell_type": "markdown",
   "metadata": {},
   "source": [
    "## Values of estimateArrive higher than the time it takes to go through the line lenght at an speed of 2m/s,instantaneous speed is over 120 km/h and negative values.\n",
    "\n",
    "If the time remaining for the bus to arrive the stop is higher than the time it will take to go through the hole line at a speed of 2 meters per second, we drop that columns.\n",
    "Also, if the DistanceBus divided by the estimateArrive returns a speed higher than 150 km/h or the time remaining is negative."
   ]
  },
  {
   "cell_type": "code",
   "execution_count": 27,
   "metadata": {},
   "outputs": [],
   "source": [
    "def check_time_remaining (row) :\n",
    "    '''\n",
    "    Returns true if the estimateArrive time meets the conditions above\n",
    "    '''\n",
    "    direction = '1' if row.destination == lines_collected_dict[row.line]['destinations'][1] else '2'\n",
    "    return (row.estimateArrive > 0) and \\\n",
    "        (row.estimateArrive < (int(lines_collected_dict[row.line][direction]['length'])/2)) and \\\n",
    "        (3.6*row.DistanceBus/row.estimateArrive) < 120 \n",
    "\n",
    "estimate_arrive_cond = buses_data_at[['line','destination','estimateArrive','DistanceBus']].parallel_apply(check_time_remaining,axis=1)"
   ]
  },
  {
   "cell_type": "code",
   "execution_count": 28,
   "metadata": {},
   "outputs": [
    {
     "data": {
      "text/plain": [
       "True     5733995\n",
       "False     222298\n",
       "dtype: int64"
      ]
     },
     "execution_count": 28,
     "metadata": {},
     "output_type": "execute_result"
    }
   ],
   "source": [
    "#Number of rows that meet the condition\n",
    "estimate_arrive_cond.value_counts()"
   ]
  },
  {
   "cell_type": "markdown",
   "metadata": {},
   "source": [
    "## Values whose difference between the estimated time of arrival and ''datetime''+''estimateArrive'' is bigger than 10 minutes.\n",
    "This can be caused by accidents or other rare sucesses, so we shouldnt consider this a normal behaviour."
   ]
  },
  {
   "cell_type": "code",
   "execution_count": 29,
   "metadata": {},
   "outputs": [],
   "source": [
    "def check_arrival_estimation_error (row) :\n",
    "    '''\n",
    "    Returns true if the error in the arrival time estimation is lower than 10 minutes.\n",
    "    '''\n",
    "    seconds_error = abs(((row.datetime + timedelta(seconds=int(row.estimateArrive))) - row.arrival_time).total_seconds())\n",
    "    return seconds_error < 600 \n",
    "\n",
    "arrival_estim_error_cond = buses_data_at[['datetime','estimateArrive','arrival_time']].parallel_apply(check_arrival_estimation_error,axis=1)"
   ]
  },
  {
   "cell_type": "code",
   "execution_count": 30,
   "metadata": {},
   "outputs": [
    {
     "data": {
      "text/plain": [
       "True     5800027\n",
       "False     156266\n",
       "dtype: int64"
      ]
     },
     "execution_count": 30,
     "metadata": {},
     "output_type": "execute_result"
    }
   ],
   "source": [
    "#Number of rows that meet the condition\n",
    "arrival_estim_error_cond.value_counts()"
   ]
  },
  {
   "cell_type": "markdown",
   "metadata": {},
   "source": [
    "## Check that the distance to the stop of the given coordinates is less than 200 meters different to DistanceBus attribute. \n",
    "Select rows with a coherent value of the given latitudes and longitudes."
   ]
  },
  {
   "cell_type": "code",
   "execution_count": 36,
   "metadata": {},
   "outputs": [],
   "source": [
    "def check_given_coordinates (row) :\n",
    "    '''\n",
    "    Returns true if the coordinates given value is coherent. False if not or if the coordinates given are [0,0].\n",
    "    '''\n",
    "    distance = 1000\n",
    "    if row.given_coords :\n",
    "        direction = '1' if row.destination == lines_collected_dict[row.line]['destinations'][1] else '2'\n",
    "        line_id = lines_collected_dict[row.line]['line_id']\n",
    "        line = lines_shapes.loc[(lines_shapes.line_id == int(line_id))&(lines_shapes.direction == int(direction))] \n",
    "        calc_lon,calc_lat = calculate_coords(line,row.stop,row.DistanceBus)\n",
    "        distance = haversine((calc_lat,calc_lon),(row.lat,row.lon))\n",
    "    \n",
    "    return distance < 200  \n",
    "\n",
    "given_coordinates_cond = buses_data_at[['line','destination','stop','DistanceBus','given_coords','lat','lon']].parallel_apply(check_given_coordinates,axis=1)"
   ]
  },
  {
   "cell_type": "code",
   "execution_count": 37,
   "metadata": {},
   "outputs": [
    {
     "data": {
      "text/plain": [
       "False    5546801\n",
       "True      409492\n",
       "dtype: int64"
      ]
     },
     "execution_count": 37,
     "metadata": {},
     "output_type": "execute_result"
    }
   ],
   "source": [
    "given_coordinates_cond.value_counts()"
   ]
  },
  {
   "cell_type": "code",
   "execution_count": null,
   "metadata": {},
   "outputs": [],
   "source": []
  }
 ],
 "metadata": {
  "kernelspec": {
   "display_name": "Python 3",
   "language": "python",
   "name": "python3"
  },
  "language_info": {
   "codemirror_mode": {
    "name": "ipython",
    "version": 3
   },
   "file_extension": ".py",
   "mimetype": "text/x-python",
   "name": "python",
   "nbconvert_exporter": "python",
   "pygments_lexer": "ipython3",
   "version": "3.6.9"
  }
 },
 "nbformat": 4,
 "nbformat_minor": 4
}
