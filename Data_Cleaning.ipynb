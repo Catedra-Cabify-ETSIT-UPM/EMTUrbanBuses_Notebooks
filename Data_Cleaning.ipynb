{
 "cells": [
  {
   "cell_type": "markdown",
   "metadata": {},
   "source": [
    "# DATA CLEANING\n",
    "In this notebook, we are going to perform some techniques on the gathered data, in order improve its quality for the future development of other tools."
   ]
  },
  {
   "cell_type": "code",
   "execution_count": 2,
   "metadata": {},
   "outputs": [
    {
     "name": "stdout",
     "output_type": "stream",
     "text": [
      "INFO: Pandarallel will run on 8 workers.\n",
      "INFO: Pandarallel will use Memory file system to transfer data between the main process and workers.\n"
     ]
    }
   ],
   "source": [
    "import pandas as pd\n",
    "import json\n",
    "import numpy as np\n",
    "\n",
    "import datetime\n",
    "from datetime import timedelta\n",
    "\n",
    "import statistics\n",
    "import math\n",
    "\n",
    "from pandarallel import pandarallel\n",
    "pandarallel.initialize()"
   ]
  },
  {
   "cell_type": "code",
   "execution_count": 3,
   "metadata": {},
   "outputs": [
    {
     "data": {
      "text/html": [
       "<div>\n",
       "<style scoped>\n",
       "    .dataframe tbody tr th:only-of-type {\n",
       "        vertical-align: middle;\n",
       "    }\n",
       "\n",
       "    .dataframe tbody tr th {\n",
       "        vertical-align: top;\n",
       "    }\n",
       "\n",
       "    .dataframe thead th {\n",
       "        text-align: right;\n",
       "    }\n",
       "</style>\n",
       "<table border=\"1\" class=\"dataframe\">\n",
       "  <thead>\n",
       "    <tr style=\"text-align: right;\">\n",
       "      <th></th>\n",
       "      <th>line</th>\n",
       "      <th>destination</th>\n",
       "      <th>stop</th>\n",
       "      <th>bus</th>\n",
       "      <th>datetime</th>\n",
       "      <th>estimateArrive</th>\n",
       "      <th>DistanceBus</th>\n",
       "      <th>given_coords</th>\n",
       "      <th>lat</th>\n",
       "      <th>lon</th>\n",
       "    </tr>\n",
       "  </thead>\n",
       "  <tbody>\n",
       "    <tr>\n",
       "      <td>0</td>\n",
       "      <td>82</td>\n",
       "      <td>PITIS</td>\n",
       "      <td>1686</td>\n",
       "      <td>4717</td>\n",
       "      <td>2020-02-25 20:41:06.748810</td>\n",
       "      <td>87</td>\n",
       "      <td>644</td>\n",
       "      <td>True</td>\n",
       "      <td>40.464340</td>\n",
       "      <td>-3.724854</td>\n",
       "    </tr>\n",
       "    <tr>\n",
       "      <td>1</td>\n",
       "      <td>132</td>\n",
       "      <td>HOSPITAL LA PAZ</td>\n",
       "      <td>1686</td>\n",
       "      <td>4836</td>\n",
       "      <td>2020-02-25 20:41:06.748810</td>\n",
       "      <td>88</td>\n",
       "      <td>694</td>\n",
       "      <td>True</td>\n",
       "      <td>40.463127</td>\n",
       "      <td>-3.713448</td>\n",
       "    </tr>\n",
       "    <tr>\n",
       "      <td>2</td>\n",
       "      <td>G</td>\n",
       "      <td>CIUDAD UNIVERSITARIA</td>\n",
       "      <td>1686</td>\n",
       "      <td>8618</td>\n",
       "      <td>2020-02-25 20:41:06.748810</td>\n",
       "      <td>256</td>\n",
       "      <td>1117</td>\n",
       "      <td>True</td>\n",
       "      <td>40.434059</td>\n",
       "      <td>-3.718819</td>\n",
       "    </tr>\n",
       "    <tr>\n",
       "      <td>3</td>\n",
       "      <td>132</td>\n",
       "      <td>HOSPITAL LA PAZ</td>\n",
       "      <td>1686</td>\n",
       "      <td>4716</td>\n",
       "      <td>2020-02-25 20:41:06.748810</td>\n",
       "      <td>535</td>\n",
       "      <td>1867</td>\n",
       "      <td>True</td>\n",
       "      <td>40.465935</td>\n",
       "      <td>-3.718888</td>\n",
       "    </tr>\n",
       "    <tr>\n",
       "      <td>4</td>\n",
       "      <td>82</td>\n",
       "      <td>PITIS</td>\n",
       "      <td>1686</td>\n",
       "      <td>4718</td>\n",
       "      <td>2020-02-25 20:41:06.748810</td>\n",
       "      <td>605</td>\n",
       "      <td>1939</td>\n",
       "      <td>True</td>\n",
       "      <td>40.473091</td>\n",
       "      <td>-3.735647</td>\n",
       "    </tr>\n",
       "  </tbody>\n",
       "</table>\n",
       "</div>"
      ],
      "text/plain": [
       "  line           destination  stop   bus                   datetime  \\\n",
       "0   82                 PITIS  1686  4717 2020-02-25 20:41:06.748810   \n",
       "1  132       HOSPITAL LA PAZ  1686  4836 2020-02-25 20:41:06.748810   \n",
       "2    G  CIUDAD UNIVERSITARIA  1686  8618 2020-02-25 20:41:06.748810   \n",
       "3  132       HOSPITAL LA PAZ  1686  4716 2020-02-25 20:41:06.748810   \n",
       "4   82                 PITIS  1686  4718 2020-02-25 20:41:06.748810   \n",
       "\n",
       "   estimateArrive  DistanceBus  given_coords        lat       lon  \n",
       "0              87          644          True  40.464340 -3.724854  \n",
       "1              88          694          True  40.463127 -3.713448  \n",
       "2             256         1117          True  40.434059 -3.718819  \n",
       "3             535         1867          True  40.465935 -3.718888  \n",
       "4             605         1939          True  40.473091 -3.735647  "
      ]
     },
     "execution_count": 3,
     "metadata": {},
     "output_type": "execute_result"
    }
   ],
   "source": [
    "# We load the dataset with the preprocessed arrival_times\n",
    "buses_data_at = pd.read_csv('../Data/Raw/buses_data.csv',\n",
    "    dtype={\n",
    "        'line': 'str',\n",
    "        'destination': 'str',\n",
    "        'stop': 'uint16',\n",
    "        'bus': 'uint16',\n",
    "        'day_trip': 'uint16',\n",
    "        'given_coords': 'bool',\n",
    "        'pos_in_burst':'uint16',\n",
    "        'estimateArrive': 'int32',\n",
    "        'DistanceBus': 'int32',\n",
    "        'request_time': 'int32',\n",
    "        'lat':'float32',\n",
    "        'lon':'float32'\n",
    "    }\n",
    ")[['line','destination','stop','bus','datetime','estimateArrive','DistanceBus','given_coords','lat','lon']]\n",
    "\n",
    "#Parse the dates\n",
    "buses_data_at['datetime'] = pd.to_datetime(buses_data_at['datetime'], format='%Y-%m-%d %H:%M:%S.%f')\n",
    "buses_data_at.head()"
   ]
  },
  {
   "cell_type": "code",
   "execution_count": 6,
   "metadata": {},
   "outputs": [
    {
     "data": {
      "text/plain": [
       "line                                       1\n",
       "destination                       CRISTO REY\n",
       "stop                                     273\n",
       "bus                                     4680\n",
       "datetime          2020-02-25 20:45:37.566339\n",
       "estimateArrive                        999999\n",
       "DistanceBus                             3866\n",
       "given_coords                           False\n",
       "lat                                  40.4201\n",
       "lon                                 -3.70197\n",
       "Name: 3482, dtype: object"
      ]
     },
     "execution_count": 6,
     "metadata": {},
     "output_type": "execute_result"
    }
   ],
   "source": [
    "buses_data_at.loc[buses_data_at.estimateArrive > 70000].iloc[0]"
   ]
  },
  {
   "cell_type": "code",
   "execution_count": 7,
   "metadata": {},
   "outputs": [
    {
     "data": {
      "text/plain": [
       "line                                       1\n",
       "destination                      PROSPERIDAD\n",
       "stop                                    4514\n",
       "bus                                     8324\n",
       "datetime          2020-02-25 20:41:08.933044\n",
       "estimateArrive                           230\n",
       "DistanceBus                              -12\n",
       "given_coords                            True\n",
       "lat                                  40.4445\n",
       "lon                                 -3.68462\n",
       "Name: 505, dtype: object"
      ]
     },
     "execution_count": 7,
     "metadata": {},
     "output_type": "execute_result"
    }
   ],
   "source": [
    "buses_data_at.loc[buses_data_at.DistanceBus < 0].iloc[0]"
   ]
  },
  {
   "cell_type": "code",
   "execution_count": 3,
   "metadata": {},
   "outputs": [],
   "source": [
    "#Load line_stops_dict\n",
    "with open('M6Data/lines_collected_dict.json', 'r') as f:\n",
    "    lines_collected_dict = json.load(f)"
   ]
  },
  {
   "cell_type": "code",
   "execution_count": 4,
   "metadata": {},
   "outputs": [],
   "source": [
    "#Route and lines shapes\n",
    "lines_shapes = pd.read_csv('M6Data/lines_shapes.csv')"
   ]
  },
  {
   "cell_type": "code",
   "execution_count": 5,
   "metadata": {},
   "outputs": [],
   "source": [
    "#Stops\n",
    "stops = pd.read_csv('M6Data/stops.csv')"
   ]
  },
  {
   "cell_type": "code",
   "execution_count": 6,
   "metadata": {},
   "outputs": [],
   "source": [
    "#FUNCTIONS\n",
    "def haversine(coord1, coord2):\n",
    "    '''\n",
    "    Returns distance between two given coordinates in meters\n",
    "    \n",
    "        Parameters\n",
    "        ----------\n",
    "        coord1 : tuple\n",
    "            Coordinates of the first point\n",
    "        coord2 : tuple\n",
    "            Coordinates of the second point\n",
    "            \n",
    "    '''\n",
    "    \n",
    "    R = 6372800  # Earth radius in meters\n",
    "    lat1, lon1 = coord1\n",
    "    lat2, lon2 = coord2\n",
    "    \n",
    "    phi1, phi2 = math.radians(lat1), math.radians(lat2) \n",
    "    dphi       = math.radians(lat2 - lat1)\n",
    "    dlambda    = math.radians(lon2 - lon1)\n",
    "    \n",
    "    a = math.sin(dphi/2)**2 + \\\n",
    "        math.cos(phi1)*math.cos(phi2)*math.sin(dlambda/2)**2\n",
    "    \n",
    "    return 2*R*math.atan2(math.sqrt(a), math.sqrt(1 - a))\n",
    "\n",
    "def calculate_coords(df,stop_id,dist_to_stop) :\n",
    "    '''\n",
    "    Returns the calculated coordinates of the bus\n",
    "    \n",
    "    Parameters\n",
    "        ----------\n",
    "        df : dataframe\n",
    "            Dataframe where we want to find the calculated coords\n",
    "        stop : str\n",
    "        dist_to_stop : int\n",
    "            Distance to the stop in meters\n",
    "    '''\n",
    "    line_sn = df.iloc[0].line_sn\n",
    "    direction = str(df.iloc[0].direction)\n",
    "    bus_distance = int(lines_collected_dict[line_sn][direction]['distances'][str(stop_id)]) - dist_to_stop\n",
    "    nearest_row = find_nearest_row_by_dist(df,bus_distance)\n",
    "    return nearest_row.lon, nearest_row.lat\n",
    "\n",
    "def find_nearest_row_by_dist(df,dist_traveled) :\n",
    "    \"\"\"\n",
    "    Returns the row nearest to the distance traveled passed in the dataframe\n",
    "    \n",
    "        Parameters\n",
    "        ----------\n",
    "        df : dataframe\n",
    "            Dataframe where we want to find the row\n",
    "        dist_traveled : int\n",
    "            Distance to origin of the line in meters\n",
    "    \"\"\"\n",
    "    min_dist_error = 1000000.0\n",
    "    df_reduced = df.loc[(df.dist_traveled>dist_traveled-100)&(df.dist_traveled<dist_traveled+100)]\n",
    "    if df_reduced.shape[0]!=0:\n",
    "        for row in df_reduced.itertuples() :\n",
    "            error = abs(row.dist_traveled-dist_traveled)\n",
    "            if  error < min_dist_error :\n",
    "                min_dist_error = error\n",
    "                nearest_row = row\n",
    "    else :\n",
    "        nearest_row = df.iloc[0]\n",
    "    return nearest_row"
   ]
  },
  {
   "cell_type": "markdown",
   "metadata": {},
   "source": [
    "## Check that the lines, destinations and stops are coherent\n",
    "First, we are going to check that the group of values line destination and stop are coherent with the destinations and stop defined for each line, if there is a non-coherent row, we drop it.\n"
   ]
  },
  {
   "cell_type": "code",
   "execution_count": 7,
   "metadata": {},
   "outputs": [],
   "source": [
    "def check_line_destination_stop(row):\n",
    "    '''\n",
    "    Returns true if the values of line, destination and stop are coherent. False if they arent\n",
    "    '''\n",
    "    if row.line in lines_collected_dict.keys() :\n",
    "        if row.destination in lines_collected_dict[row.line]['destinations'] :\n",
    "            direction = '1' if row.destination == lines_collected_dict[row.line]['destinations'][1] else '2'\n",
    "            if str(row.stop) in lines_collected_dict[row.line][direction]['stops'] :\n",
    "                return True\n",
    "    return False\n",
    "\n",
    "\n",
    "line_destination_stop_cond = buses_data_at[['line','destination','stop']].parallel_apply(check_line_destination_stop,axis=1)"
   ]
  },
  {
   "cell_type": "code",
   "execution_count": 8,
   "metadata": {},
   "outputs": [
    {
     "data": {
      "text/plain": [
       "True    5956293\n",
       "dtype: int64"
      ]
     },
     "execution_count": 8,
     "metadata": {},
     "output_type": "execute_result"
    }
   ],
   "source": [
    "#Number of rows that meet the condition\n",
    "line_destination_stop_cond.value_counts()"
   ]
  },
  {
   "cell_type": "markdown",
   "metadata": {},
   "source": [
    "## Values of DistanceBus higher than the line length or negative\n",
    "Now, we are going to eliminate the rows which distance remaining to the stop is higher than the line length. And also the one that have a negative value.\n"
   ]
  },
  {
   "cell_type": "code",
   "execution_count": 9,
   "metadata": {},
   "outputs": [],
   "source": [
    "def check_distance_remaining (row) :\n",
    "    '''\n",
    "    Returns true if the distance remaining is positive and smaller than the line lenght\n",
    "    '''\n",
    "    direction = '1' if row.destination == lines_collected_dict[row.line]['destinations'][1] else '2'\n",
    "    return (row.DistanceBus < int(lines_collected_dict[row.line][direction]['length'])) and (row.DistanceBus >= 0)\n",
    "    \n",
    "distance_remaining_cond = buses_data_at[['line','destination','DistanceBus']].parallel_apply(check_distance_remaining,axis=1)"
   ]
  },
  {
   "cell_type": "code",
   "execution_count": 10,
   "metadata": {},
   "outputs": [
    {
     "data": {
      "text/plain": [
       "True     5825568\n",
       "False     130725\n",
       "dtype: int64"
      ]
     },
     "execution_count": 10,
     "metadata": {},
     "output_type": "execute_result"
    }
   ],
   "source": [
    "#Number of rows that meet the condition\n",
    "distance_remaining_cond.value_counts()"
   ]
  },
  {
   "cell_type": "markdown",
   "metadata": {},
   "source": [
    "## Values of estimateArrive higher than the time it takes to go through the line lenght at an speed of 2m/s,instantaneous speed is over 120 km/h and negative values.\n",
    "\n",
    "If the time remaining for the bus to arrive the stop is higher than the time it will take to go through the hole line at a speed of 2 meters per second, we drop that columns.\n",
    "Also, if the DistanceBus divided by the estimateArrive returns a speed higher than 150 km/h or the time remaining is negative."
   ]
  },
  {
   "cell_type": "code",
   "execution_count": 11,
   "metadata": {},
   "outputs": [],
   "source": [
    "def check_time_remaining (row) :\n",
    "    '''\n",
    "    Returns true if the estimateArrive time meets the conditions above\n",
    "    '''\n",
    "    direction = '1' if row.destination == lines_collected_dict[row.line]['destinations'][1] else '2'\n",
    "    return (row.estimateArrive > 0) and \\\n",
    "        (row.estimateArrive < (int(lines_collected_dict[row.line][direction]['length'])/2)) and \\\n",
    "        (3.6*row.DistanceBus/row.estimateArrive) < 120 \n",
    "\n",
    "estimate_arrive_cond = buses_data_at[['line','destination','estimateArrive','DistanceBus']].parallel_apply(check_time_remaining,axis=1)"
   ]
  },
  {
   "cell_type": "code",
   "execution_count": 12,
   "metadata": {},
   "outputs": [
    {
     "data": {
      "text/plain": [
       "True     5733995\n",
       "False     222298\n",
       "dtype: int64"
      ]
     },
     "execution_count": 12,
     "metadata": {},
     "output_type": "execute_result"
    }
   ],
   "source": [
    "#Number of rows that meet the condition\n",
    "estimate_arrive_cond.value_counts()"
   ]
  },
  {
   "cell_type": "markdown",
   "metadata": {},
   "source": [
    "## Values whose difference between the estimated time of arrival and ''datetime''+''estimateArrive'' is bigger than 10 minutes.\n",
    "This can be caused by accidents or other rare sucesses, so we shouldnt consider this a normal behaviour."
   ]
  },
  {
   "cell_type": "code",
   "execution_count": 13,
   "metadata": {},
   "outputs": [],
   "source": [
    "def check_arrival_estimation_error (row) :\n",
    "    '''\n",
    "    Returns true if the error in the arrival time estimation is lower than 10 minutes.\n",
    "    '''\n",
    "    seconds_error = abs(((row.datetime + timedelta(seconds=int(row.estimateArrive))) - row.arrival_time).total_seconds())\n",
    "    return seconds_error < 600 \n",
    "\n",
    "arrival_estim_error_cond = buses_data_at[['datetime','estimateArrive','arrival_time']].parallel_apply(check_arrival_estimation_error,axis=1)"
   ]
  },
  {
   "cell_type": "code",
   "execution_count": 14,
   "metadata": {},
   "outputs": [
    {
     "data": {
      "text/plain": [
       "True     5800027\n",
       "False     156266\n",
       "dtype: int64"
      ]
     },
     "execution_count": 14,
     "metadata": {},
     "output_type": "execute_result"
    }
   ],
   "source": [
    "#Number of rows that meet the condition\n",
    "arrival_estim_error_cond.value_counts()"
   ]
  },
  {
   "cell_type": "markdown",
   "metadata": {},
   "source": [
    "## Check that the distance between given and calculated coordinates is smaller than 300 meters. \n",
    "Select rows with a coherent value of the given latitudes and longitudes."
   ]
  },
  {
   "cell_type": "code",
   "execution_count": 15,
   "metadata": {},
   "outputs": [],
   "source": [
    "def check_given_coordinates (row) :\n",
    "    '''\n",
    "    Returns true if the coordinates given value is coherent. False if not or if the coordinates given are [0,0].\n",
    "    '''\n",
    "    distance = 1000\n",
    "    if row.given_coords :\n",
    "        direction = '1' if row.destination == lines_collected_dict[row.line]['destinations'][1] else '2'\n",
    "        line_id = lines_collected_dict[row.line]['line_id']\n",
    "        line = lines_shapes.loc[(lines_shapes.line_id == int(line_id))&(lines_shapes.direction == int(direction))] \n",
    "        calc_lon,calc_lat = calculate_coords(line,row.stop,row.DistanceBus)\n",
    "        distance = haversine((calc_lat,calc_lon),(row.lat,row.lon))\n",
    "    \n",
    "    return distance < 300  \n",
    "\n",
    "given_coordinates_cond = buses_data_at[['line','destination','stop','DistanceBus','given_coords','lat','lon']].parallel_apply(check_given_coordinates,axis=1)"
   ]
  },
  {
   "cell_type": "code",
   "execution_count": 16,
   "metadata": {},
   "outputs": [
    {
     "data": {
      "text/plain": [
       "False    5326436\n",
       "True      629857\n",
       "dtype: int64"
      ]
     },
     "execution_count": 16,
     "metadata": {},
     "output_type": "execute_result"
    }
   ],
   "source": [
    "given_coordinates_cond.value_counts()"
   ]
  },
  {
   "cell_type": "code",
   "execution_count": null,
   "metadata": {},
   "outputs": [],
   "source": []
  }
 ],
 "metadata": {
  "kernelspec": {
   "display_name": "Python 3",
   "language": "python",
   "name": "python3"
  },
  "language_info": {
   "codemirror_mode": {
    "name": "ipython",
    "version": 3
   },
   "file_extension": ".py",
   "mimetype": "text/x-python",
   "name": "python",
   "nbconvert_exporter": "python",
   "pygments_lexer": "ipython3",
   "version": "3.7.3"
  }
 },
 "nbformat": 4,
 "nbformat_minor": 4
}
