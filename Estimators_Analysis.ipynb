{
 "cells": [
  {
   "cell_type": "markdown",
   "metadata": {},
   "source": [
    "# ESTIMATORS ANALYSIS\n",
    "In the following notebook we are going to compare the data proportioned by the API with the data gathered with my own phone tracked location while I was inside bus 8607 of line 91(F). And the quality of the real arrival time and position estimators built."
   ]
  },
  {
   "cell_type": "code",
   "execution_count": 74,
   "metadata": {},
   "outputs": [],
   "source": [
    "import glob\n",
    "\n",
    "import pandas as pd\n",
    "import json\n",
    "\n",
    "import gpxpy\n",
    "\n",
    "import datetime\n",
    "from datetime import timedelta\n",
    "\n",
    "import statistics\n",
    "import math\n",
    "\n",
    "import plotly.graph_objects as go\n",
    "import plotly.io as pio\n",
    "pio.templates.default = 'plotly_white'\n",
    "\n",
    "pd.set_option(\"display.precision\", 9)"
   ]
  },
  {
   "cell_type": "code",
   "execution_count": 7,
   "metadata": {},
   "outputs": [],
   "source": [
    "#Route and lines shape\n",
    "lines_shapes = pd.read_csv('M6Data/lines_shapes.csv')\n",
    "line91_1 = lines_shapes.loc[(lines_shapes['line_id']==91)&(lines_shapes['direction']==1)]\n",
    "line91_2 = lines_shapes.loc[(lines_shapes['line_id']==91)&(lines_shapes['direction']==2)]"
   ]
  },
  {
   "cell_type": "code",
   "execution_count": 8,
   "metadata": {},
   "outputs": [],
   "source": [
    "#Stops\n",
    "stops = pd.read_csv('M6Data/stops.csv')"
   ]
  },
  {
   "cell_type": "code",
   "execution_count": 9,
   "metadata": {},
   "outputs": [],
   "source": [
    "#Line stops dict\n",
    "with open('M6Data/line_stops_dict.json', 'r') as f:\n",
    "    line_stops_dict = json.load(f)"
   ]
  },
  {
   "cell_type": "code",
   "execution_count": 18,
   "metadata": {},
   "outputs": [
    {
     "data": {
      "text/html": [
       "<div>\n",
       "<style scoped>\n",
       "    .dataframe tbody tr th:only-of-type {\n",
       "        vertical-align: middle;\n",
       "    }\n",
       "\n",
       "    .dataframe tbody tr th {\n",
       "        vertical-align: top;\n",
       "    }\n",
       "\n",
       "    .dataframe thead th {\n",
       "        text-align: right;\n",
       "    }\n",
       "</style>\n",
       "<table border=\"1\" class=\"dataframe\">\n",
       "  <thead>\n",
       "    <tr style=\"text-align: right;\">\n",
       "      <th></th>\n",
       "      <th>bus</th>\n",
       "      <th>line</th>\n",
       "      <th>stop</th>\n",
       "      <th>datetime</th>\n",
       "      <th>destination</th>\n",
       "      <th>estimateArrive</th>\n",
       "      <th>DistanceBus</th>\n",
       "      <th>given_coords</th>\n",
       "      <th>lat</th>\n",
       "      <th>lon</th>\n",
       "    </tr>\n",
       "  </thead>\n",
       "  <tbody>\n",
       "    <tr>\n",
       "      <th>0</th>\n",
       "      <td>8606</td>\n",
       "      <td>F</td>\n",
       "      <td>1693</td>\n",
       "      <td>2020-03-09 10:15:14.413612</td>\n",
       "      <td>CIUDAD UNIVERSITARIA</td>\n",
       "      <td>347</td>\n",
       "      <td>1517</td>\n",
       "      <td>1</td>\n",
       "      <td>40.449985615</td>\n",
       "      <td>-3.734595387</td>\n",
       "    </tr>\n",
       "    <tr>\n",
       "      <th>1</th>\n",
       "      <td>8603</td>\n",
       "      <td>F</td>\n",
       "      <td>1693</td>\n",
       "      <td>2020-03-09 10:15:14.413612</td>\n",
       "      <td>CIUDAD UNIVERSITARIA</td>\n",
       "      <td>496</td>\n",
       "      <td>2293</td>\n",
       "      <td>1</td>\n",
       "      <td>40.448432930</td>\n",
       "      <td>-3.734188718</td>\n",
       "    </tr>\n",
       "    <tr>\n",
       "      <th>2</th>\n",
       "      <td>8606</td>\n",
       "      <td>F</td>\n",
       "      <td>3278</td>\n",
       "      <td>2020-03-09 10:15:14.417809</td>\n",
       "      <td>CIUDAD UNIVERSITARIA</td>\n",
       "      <td>94</td>\n",
       "      <td>427</td>\n",
       "      <td>1</td>\n",
       "      <td>40.449985615</td>\n",
       "      <td>-3.734595387</td>\n",
       "    </tr>\n",
       "    <tr>\n",
       "      <th>3</th>\n",
       "      <td>8603</td>\n",
       "      <td>F</td>\n",
       "      <td>3278</td>\n",
       "      <td>2020-03-09 10:15:14.417809</td>\n",
       "      <td>CIUDAD UNIVERSITARIA</td>\n",
       "      <td>316</td>\n",
       "      <td>1306</td>\n",
       "      <td>1</td>\n",
       "      <td>40.448432930</td>\n",
       "      <td>-3.734188718</td>\n",
       "    </tr>\n",
       "    <tr>\n",
       "      <th>4</th>\n",
       "      <td>8603</td>\n",
       "      <td>F</td>\n",
       "      <td>1418</td>\n",
       "      <td>2020-03-09 10:15:14.418781</td>\n",
       "      <td>CIUDAD UNIVERSITARIA</td>\n",
       "      <td>85</td>\n",
       "      <td>195</td>\n",
       "      <td>1</td>\n",
       "      <td>40.448432930</td>\n",
       "      <td>-3.734188718</td>\n",
       "    </tr>\n",
       "  </tbody>\n",
       "</table>\n",
       "</div>"
      ],
      "text/plain": [
       "    bus line  stop                   datetime           destination  \\\n",
       "0  8606    F  1693 2020-03-09 10:15:14.413612  CIUDAD UNIVERSITARIA   \n",
       "1  8603    F  1693 2020-03-09 10:15:14.413612  CIUDAD UNIVERSITARIA   \n",
       "2  8606    F  3278 2020-03-09 10:15:14.417809  CIUDAD UNIVERSITARIA   \n",
       "3  8603    F  3278 2020-03-09 10:15:14.417809  CIUDAD UNIVERSITARIA   \n",
       "4  8603    F  1418 2020-03-09 10:15:14.418781  CIUDAD UNIVERSITARIA   \n",
       "\n",
       "   estimateArrive  DistanceBus  given_coords           lat          lon  \n",
       "0             347         1517             1  40.449985615 -3.734595387  \n",
       "1             496         2293             1  40.448432930 -3.734188718  \n",
       "2              94          427             1  40.449985615 -3.734595387  \n",
       "3             316         1306             1  40.448432930 -3.734188718  \n",
       "4              85          195             1  40.448432930 -3.734188718  "
      ]
     },
     "execution_count": 18,
     "metadata": {},
     "output_type": "execute_result"
    }
   ],
   "source": [
    "#High frecuency line 91(F) data\n",
    "hf_buses_data = pd.read_csv('experiment-F.csv',\n",
    "    dtype={\n",
    "        'line': 'str',\n",
    "        'destination': 'str',\n",
    "        'stop': 'int32',\n",
    "        'bus': 'int32',\n",
    "        'isHead': 'bool',\n",
    "        'given_coords': 'int32',\n",
    "        'pos_in_burst':'int32',\n",
    "        'deviation': 'int32',\n",
    "        'estimateArrive': 'int32',\n",
    "        'DistanceBus': 'int32',\n",
    "        'request_time': 'int32',\n",
    "        'lat':'float',\n",
    "        'lon':'float'\n",
    "    }\n",
    ")\n",
    "\n",
    "#We drop the columns we are not interested in\n",
    "hf_buses_data = hf_buses_data.drop(['isHead','deviation','request_time','pos_in_burst'],axis=1)\n",
    "\n",
    "#Eliminate rows with non coherent values\n",
    "hf_buses_data = hf_buses_data.loc[(hf_buses_data.estimateArrive < 999999) & (hf_buses_data.DistanceBus >= 0)]\n",
    "hf_buses_data = hf_buses_data.loc[((hf_buses_data.DistanceBus == 0) & (hf_buses_data.estimateArrive == 0)) | ((hf_buses_data.DistanceBus > 0) & (hf_buses_data.estimateArrive > 0))]\n",
    "\n",
    "#Parse the  datetime\n",
    "hf_buses_data['datetime'] = pd.to_datetime(hf_buses_data['datetime'], format='%Y-%m-%d %H:%M:%S.%f')\n",
    "\n",
    "#Select data for March 9\n",
    "hf_buses_data = hf_buses_data.loc[hf_buses_data.datetime.dt.day == 9]\n",
    "\n",
    "#Set the datetime as index and drop the datetime column\n",
    "#hf_buses_data = hf_buses_data.sort_values(by=['datetime']).set_index(pd.DatetimeIndex(hf_buses_data['datetime'])).drop(['datetime'], axis=1)\n",
    "\n",
    "#Show first five rows\n",
    "hf_buses_data.head()"
   ]
  },
  {
   "cell_type": "code",
   "execution_count": 42,
   "metadata": {},
   "outputs": [
    {
     "data": {
      "text/html": [
       "<div>\n",
       "<style scoped>\n",
       "    .dataframe tbody tr th:only-of-type {\n",
       "        vertical-align: middle;\n",
       "    }\n",
       "\n",
       "    .dataframe tbody tr th {\n",
       "        vertical-align: top;\n",
       "    }\n",
       "\n",
       "    .dataframe thead th {\n",
       "        text-align: right;\n",
       "    }\n",
       "</style>\n",
       "<table border=\"1\" class=\"dataframe\">\n",
       "  <thead>\n",
       "    <tr style=\"text-align: right;\">\n",
       "      <th></th>\n",
       "      <th>bus</th>\n",
       "      <th>line</th>\n",
       "      <th>stop</th>\n",
       "      <th>datetime</th>\n",
       "      <th>destination</th>\n",
       "      <th>estimateArrive</th>\n",
       "      <th>DistanceBus</th>\n",
       "      <th>given_coords</th>\n",
       "      <th>lat</th>\n",
       "      <th>lon</th>\n",
       "    </tr>\n",
       "  </thead>\n",
       "  <tbody>\n",
       "    <tr>\n",
       "      <th>0</th>\n",
       "      <td>8603</td>\n",
       "      <td>F</td>\n",
       "      <td>1693</td>\n",
       "      <td>2020-03-09 10:15:20.338493</td>\n",
       "      <td>CIUDAD UNIVERSITARIA</td>\n",
       "      <td>490</td>\n",
       "      <td>2265</td>\n",
       "      <td>1</td>\n",
       "      <td>40.448432930</td>\n",
       "      <td>-3.734188718</td>\n",
       "    </tr>\n",
       "    <tr>\n",
       "      <th>1</th>\n",
       "      <td>8606</td>\n",
       "      <td>F</td>\n",
       "      <td>1693</td>\n",
       "      <td>2020-03-09 10:15:20.338493</td>\n",
       "      <td>CIUDAD UNIVERSITARIA</td>\n",
       "      <td>341</td>\n",
       "      <td>1491</td>\n",
       "      <td>1</td>\n",
       "      <td>40.449985615</td>\n",
       "      <td>-3.734595387</td>\n",
       "    </tr>\n",
       "    <tr>\n",
       "      <th>2</th>\n",
       "      <td>8608</td>\n",
       "      <td>F</td>\n",
       "      <td>3276</td>\n",
       "      <td>2020-03-09 10:15:20.844635</td>\n",
       "      <td>CUATRO CAMINOS</td>\n",
       "      <td>383</td>\n",
       "      <td>1579</td>\n",
       "      <td>1</td>\n",
       "      <td>40.447668581</td>\n",
       "      <td>-3.726714627</td>\n",
       "    </tr>\n",
       "    <tr>\n",
       "      <th>3</th>\n",
       "      <td>8605</td>\n",
       "      <td>F</td>\n",
       "      <td>3276</td>\n",
       "      <td>2020-03-09 10:15:20.844635</td>\n",
       "      <td>CUATRO CAMINOS</td>\n",
       "      <td>605</td>\n",
       "      <td>1264</td>\n",
       "      <td>1</td>\n",
       "      <td>40.446392521</td>\n",
       "      <td>-3.704028544</td>\n",
       "    </tr>\n",
       "    <tr>\n",
       "      <th>4</th>\n",
       "      <td>8606</td>\n",
       "      <td>F</td>\n",
       "      <td>4289</td>\n",
       "      <td>2020-03-09 10:15:20.852928</td>\n",
       "      <td>CIUDAD UNIVERSITARIA</td>\n",
       "      <td>658</td>\n",
       "      <td>2945</td>\n",
       "      <td>1</td>\n",
       "      <td>40.449985615</td>\n",
       "      <td>-3.734595387</td>\n",
       "    </tr>\n",
       "  </tbody>\n",
       "</table>\n",
       "</div>"
      ],
      "text/plain": [
       "    bus line  stop                   datetime           destination  \\\n",
       "0  8603    F  1693 2020-03-09 10:15:20.338493  CIUDAD UNIVERSITARIA   \n",
       "1  8606    F  1693 2020-03-09 10:15:20.338493  CIUDAD UNIVERSITARIA   \n",
       "2  8608    F  3276 2020-03-09 10:15:20.844635        CUATRO CAMINOS   \n",
       "3  8605    F  3276 2020-03-09 10:15:20.844635        CUATRO CAMINOS   \n",
       "4  8606    F  4289 2020-03-09 10:15:20.852928  CIUDAD UNIVERSITARIA   \n",
       "\n",
       "   estimateArrive  DistanceBus  given_coords           lat          lon  \n",
       "0             490         2265             1  40.448432930 -3.734188718  \n",
       "1             341         1491             1  40.449985615 -3.734595387  \n",
       "2             383         1579             1  40.447668581 -3.726714627  \n",
       "3             605         1264             1  40.446392521 -3.704028544  \n",
       "4             658         2945             1  40.449985615 -3.734595387  "
      ]
     },
     "execution_count": 42,
     "metadata": {},
     "output_type": "execute_result"
    }
   ],
   "source": [
    "#Normal retrieved data\n",
    "buses_data = pd.read_csv('../buses_data.csv',\n",
    "    dtype={\n",
    "        'line': 'str',\n",
    "        'destination': 'str',\n",
    "        'stop': 'int32',\n",
    "        'bus': 'int32',\n",
    "        'isHead': 'bool',\n",
    "        'given_coords': 'int32',\n",
    "        'pos_in_burst':'int32',\n",
    "        'deviation': 'int32',\n",
    "        'estimateArrive': 'int32',\n",
    "        'DistanceBus': 'int32',\n",
    "        'request_time': 'int32',\n",
    "        'lat':'float',\n",
    "        'lon':'float'\n",
    "    }\n",
    ")\n",
    "\n",
    "#We drop the columns we are not interested in\n",
    "buses_data = buses_data.drop(['isHead','deviation','request_time','pos_in_burst'],axis=1)\n",
    "\n",
    "#Eliminate rows with non coherent values\n",
    "buses_data = buses_data.loc[(buses_data.estimateArrive < 999999) & (buses_data.DistanceBus >= 0)]\n",
    "buses_data = buses_data.loc[((buses_data.DistanceBus == 0) & (buses_data.estimateArrive == 0)) | ((buses_data.DistanceBus > 0) & (buses_data.estimateArrive > 0))]\n",
    "\n",
    "#Parse the  datetime\n",
    "buses_data['datetime'] = pd.to_datetime(buses_data['datetime'], format='%Y-%m-%d %H:%M:%S.%f')\n",
    "\n",
    "#Select the data for line F in March 9 (like the hf data)\n",
    "mask = (buses_data.datetime > hf_buses_data.datetime.min()) & (buses_data.datetime < hf_buses_data.datetime.max())\n",
    "buses_data = buses_data.loc[(buses_data.line=='F') & mask].sort_values(by=['datetime']).reset_index(drop=True)\n",
    "\n",
    "#Set the datetime as index and drop the datetime column\n",
    "#buses_data = buses_data.sort_values(by=['datetime']).set_index(pd.DatetimeIndex(buses_data['datetime'])).drop(['datetime'], axis=1)\n",
    "\n",
    "#Show first five rows\n",
    "buses_data.head()"
   ]
  },
  {
   "cell_type": "code",
   "execution_count": 43,
   "metadata": {},
   "outputs": [],
   "source": [
    "#Stops in line 1\n",
    "stops_in_experiment = hf_buses_data.stop.unique().tolist()"
   ]
  },
  {
   "cell_type": "code",
   "execution_count": 44,
   "metadata": {},
   "outputs": [],
   "source": [
    "#Buses in experiment\n",
    "buses_calc = hf_buses_data.loc[hf_buses_data.given_coords == 0].bus.unique().tolist()\n",
    "buses_given = hf_buses_data.loc[~hf_buses_data.bus.isin(buses_calc)].bus.unique().tolist()"
   ]
  },
  {
   "cell_type": "code",
   "execution_count": 66,
   "metadata": {},
   "outputs": [],
   "source": [
    "#FUNCTIONS\n",
    "def haversine(coord1, coord2):\n",
    "    '''\n",
    "    Returns distance between two given coordinates in meters\n",
    "    '''\n",
    "    R = 6372800  # Earth radius in meters\n",
    "    lat1, lon1 = coord1\n",
    "    lat2, lon2 = coord2\n",
    "    \n",
    "    phi1, phi2 = math.radians(lat1), math.radians(lat2) \n",
    "    dphi       = math.radians(lat2 - lat1)\n",
    "    dlambda    = math.radians(lon2 - lon1)\n",
    "    \n",
    "    a = math.sin(dphi/2)**2 + \\\n",
    "        math.cos(phi1)*math.cos(phi2)*math.sin(dlambda/2)**2\n",
    "    \n",
    "    return 2*R*math.atan2(math.sqrt(a), math.sqrt(1 - a))\n",
    "\n",
    "def find_nearest_row_by_time(df, time):\n",
    "    \"\"\"\n",
    "    Returns the row nearest to the time passed in the dataframe\n",
    "    \n",
    "        Parameters\n",
    "        ----------\n",
    "        df : dataframe\n",
    "            Dataframe where we want to find the row\n",
    "        time : datetime\n",
    "    \"\"\"\n",
    "    min_seconds_error = 1000000.0\n",
    "    for row in df.itertuples() :\n",
    "        error = abs((row.datetime-time).total_seconds())\n",
    "        if  error < min_seconds_error :\n",
    "            min_seconds_error = error\n",
    "            nearest_row = row\n",
    "    return nearest_row\n",
    "\n",
    "def find_nearest_row(df,lat,lon) :\n",
    "    \"\"\"\n",
    "    Returns the row nearest to the coordinates passed in the dataframe\n",
    "    \n",
    "        Parameters\n",
    "        ----------\n",
    "        df : dataframe\n",
    "            Dataframe where we want to find the row\n",
    "        lat: float\n",
    "        lon: float\n",
    "    \"\"\"\n",
    "    min_dist_error = 1000000.0\n",
    "    for row in df.itertuples() :\n",
    "        error = math.sqrt(abs(row.lat-lat)+abs(row.lon-lon))\n",
    "        if  error < min_dist_error :\n",
    "            min_dist_error = error\n",
    "            nearest_row = row\n",
    "    return nearest_row\n",
    "\n",
    "def find_nearest_row_by_dist(df,dist_traveled) :\n",
    "    \"\"\"\n",
    "    Returns the row nearest to the distance traveled passed in the dataframe\n",
    "    \n",
    "        Parameters\n",
    "        ----------\n",
    "        df : dataframe\n",
    "            Dataframe where we want to find the row\n",
    "        dist_traveled : float\n",
    "    \"\"\"\n",
    "    min_dist_error = 1000000.0\n",
    "    for row in df.itertuples() :\n",
    "        error = abs(row.dist_traveled-dist_traveled)\n",
    "        if  error < min_dist_error :\n",
    "            min_dist_error = error\n",
    "            nearest_row = row\n",
    "    return nearest_row\n",
    "\n",
    "def nearest_point_on_line (line, bus_lat, bus_lon) :\n",
    "    \"\"\"\n",
    "    Returns the coordinates of the bus location\n",
    "    \n",
    "        Parameters\n",
    "        ----------\n",
    "        line: DataFrame\n",
    "            Points belonging to the requested line\n",
    "        bus_lat : float\n",
    "        bus_lon : float\n",
    "    \"\"\"\n",
    "    #Find nearest row\n",
    "    nearest_row = find_nearest_row(line,bus_lat,bus_lon)\n",
    "    \n",
    "    return nearest_row.lon,nearest_row.lat\n",
    "\n",
    "def distance_on_line (line, lat1, lon1, lat2, lon2) :\n",
    "    \"\"\"\n",
    "    Returns the distance on the line between the points\n",
    "\n",
    "        Parameters\n",
    "        ----------\n",
    "        line: DataFrame\n",
    "            Points belonging to the requested line\n",
    "        destination : string\n",
    "            The bus destination\n",
    "        lat1 : float\n",
    "        lon1 : float\n",
    "        lat1 : float\n",
    "        lon1 : float\n",
    "        \n",
    "    \"\"\"\n",
    "    nearest_row1 = find_nearest_row(line,lat1,lon1)\n",
    "    nearest_row2 = find_nearest_row(line,lat2,lon2)\n",
    "    \n",
    "    distance = abs(nearest_row1.dist_traveled-nearest_row2.dist_traveled)\n",
    "\n",
    "    return distance\n",
    "\n",
    "#Get bus estimated coords on the line\n",
    "def point_by_distance_on_line (line,distance,stop_lat,stop_lon) :\n",
    "    \"\"\"\n",
    "    Returns the coordinates of the bus location\n",
    "\n",
    "        Parameters\n",
    "        ----------\n",
    "        line: DataFrame\n",
    "            Points belonging to the requested line\n",
    "        distance : float\n",
    "            Distance of the bus to the stop in meters\n",
    "        stop_lat : float\n",
    "        stop_lon : float\n",
    "    \"\"\"\n",
    "    \n",
    "    nearest_row_to_stop = find_nearest_row(line,stop_lat,stop_lon)\n",
    "    dist_traveled_of_bus = nearest_row_to_stop.dist_traveled - distance\n",
    "    nearest_row_to_distance = find_nearest_row_by_dist(line,dist_traveled_of_bus)\n",
    "    \n",
    "    #And we return the coordinates of the point\n",
    "    return nearest_row_to_distance.lon,nearest_row_to_distance.lat"
   ]
  },
  {
   "cell_type": "markdown",
   "metadata": {},
   "source": [
    "## Phone tracked location data\n",
    "To check how good the data given by the API is, I have tracked my phone GPS location every 1 second while I was inside the bus myself. The data tracked is loaded here to carry out various analysis."
   ]
  },
  {
   "cell_type": "code",
   "execution_count": 46,
   "metadata": {},
   "outputs": [
    {
     "data": {
      "text/html": [
       "<div>\n",
       "<style scoped>\n",
       "    .dataframe tbody tr th:only-of-type {\n",
       "        vertical-align: middle;\n",
       "    }\n",
       "\n",
       "    .dataframe tbody tr th {\n",
       "        vertical-align: top;\n",
       "    }\n",
       "\n",
       "    .dataframe thead th {\n",
       "        text-align: right;\n",
       "    }\n",
       "</style>\n",
       "<table border=\"1\" class=\"dataframe\">\n",
       "  <thead>\n",
       "    <tr style=\"text-align: right;\">\n",
       "      <th></th>\n",
       "      <th>datetime</th>\n",
       "      <th>lon</th>\n",
       "      <th>lat</th>\n",
       "      <th>alt</th>\n",
       "      <th>speed</th>\n",
       "    </tr>\n",
       "  </thead>\n",
       "  <tbody>\n",
       "    <tr>\n",
       "      <th>0</th>\n",
       "      <td>2020-03-09 10:55:02.470</td>\n",
       "      <td>-3.705201047</td>\n",
       "      <td>40.446766209</td>\n",
       "      <td>816.793459202</td>\n",
       "      <td>58.960653598</td>\n",
       "    </tr>\n",
       "    <tr>\n",
       "      <th>1</th>\n",
       "      <td>2020-03-09 10:55:04.000</td>\n",
       "      <td>-3.705089997</td>\n",
       "      <td>40.447005137</td>\n",
       "      <td>765.020535761</td>\n",
       "      <td>41.228519969</td>\n",
       "    </tr>\n",
       "    <tr>\n",
       "      <th>2</th>\n",
       "      <td>2020-03-09 10:55:06.000</td>\n",
       "      <td>-3.705314968</td>\n",
       "      <td>40.446730946</td>\n",
       "      <td>795.243950676</td>\n",
       "      <td>12.350089443</td>\n",
       "    </tr>\n",
       "    <tr>\n",
       "      <th>3</th>\n",
       "      <td>2020-03-09 10:55:08.000</td>\n",
       "      <td>-3.705333657</td>\n",
       "      <td>40.446714652</td>\n",
       "      <td>795.243950676</td>\n",
       "      <td>1.132441969</td>\n",
       "    </tr>\n",
       "    <tr>\n",
       "      <th>4</th>\n",
       "      <td>2020-03-09 10:55:10.000</td>\n",
       "      <td>-3.705327954</td>\n",
       "      <td>40.446733216</td>\n",
       "      <td>795.243950676</td>\n",
       "      <td>0.696652090</td>\n",
       "    </tr>\n",
       "    <tr>\n",
       "      <th>...</th>\n",
       "      <td>...</td>\n",
       "      <td>...</td>\n",
       "      <td>...</td>\n",
       "      <td>...</td>\n",
       "      <td>...</td>\n",
       "    </tr>\n",
       "    <tr>\n",
       "      <th>307</th>\n",
       "      <td>2020-03-09 11:05:40.000</td>\n",
       "      <td>-3.727766774</td>\n",
       "      <td>40.452113618</td>\n",
       "      <td>691.853407636</td>\n",
       "      <td>6.321058970</td>\n",
       "    </tr>\n",
       "    <tr>\n",
       "      <th>308</th>\n",
       "      <td>2020-03-09 11:05:42.000</td>\n",
       "      <td>-3.727766774</td>\n",
       "      <td>40.452113618</td>\n",
       "      <td>691.853407636</td>\n",
       "      <td>0.727502469</td>\n",
       "    </tr>\n",
       "    <tr>\n",
       "      <th>309</th>\n",
       "      <td>2020-03-09 11:05:44.000</td>\n",
       "      <td>-3.727757416</td>\n",
       "      <td>40.452124022</td>\n",
       "      <td>692.237337837</td>\n",
       "      <td>1.203284841</td>\n",
       "    </tr>\n",
       "    <tr>\n",
       "      <th>310</th>\n",
       "      <td>2020-03-09 11:05:46.000</td>\n",
       "      <td>-3.727751159</td>\n",
       "      <td>40.452150828</td>\n",
       "      <td>693.683540501</td>\n",
       "      <td>1.705913498</td>\n",
       "    </tr>\n",
       "    <tr>\n",
       "      <th>311</th>\n",
       "      <td>2020-03-09 11:05:49.000</td>\n",
       "      <td>-3.727734681</td>\n",
       "      <td>40.452194619</td>\n",
       "      <td>694.828136287</td>\n",
       "      <td>1.732759685</td>\n",
       "    </tr>\n",
       "  </tbody>\n",
       "</table>\n",
       "<p>312 rows × 5 columns</p>\n",
       "</div>"
      ],
      "text/plain": [
       "                   datetime          lon           lat            alt  \\\n",
       "0   2020-03-09 10:55:02.470 -3.705201047  40.446766209  816.793459202   \n",
       "1   2020-03-09 10:55:04.000 -3.705089997  40.447005137  765.020535761   \n",
       "2   2020-03-09 10:55:06.000 -3.705314968  40.446730946  795.243950676   \n",
       "3   2020-03-09 10:55:08.000 -3.705333657  40.446714652  795.243950676   \n",
       "4   2020-03-09 10:55:10.000 -3.705327954  40.446733216  795.243950676   \n",
       "..                      ...          ...           ...            ...   \n",
       "307 2020-03-09 11:05:40.000 -3.727766774  40.452113618  691.853407636   \n",
       "308 2020-03-09 11:05:42.000 -3.727766774  40.452113618  691.853407636   \n",
       "309 2020-03-09 11:05:44.000 -3.727757416  40.452124022  692.237337837   \n",
       "310 2020-03-09 11:05:46.000 -3.727751159  40.452150828  693.683540501   \n",
       "311 2020-03-09 11:05:49.000 -3.727734681  40.452194619  694.828136287   \n",
       "\n",
       "            speed  \n",
       "0    58.960653598  \n",
       "1    41.228519969  \n",
       "2    12.350089443  \n",
       "3     1.132441969  \n",
       "4     0.696652090  \n",
       "..            ...  \n",
       "307   6.321058970  \n",
       "308   0.727502469  \n",
       "309   1.203284841  \n",
       "310   1.705913498  \n",
       "311   1.732759685  \n",
       "\n",
       "[312 rows x 5 columns]"
      ]
     },
     "execution_count": 46,
     "metadata": {},
     "output_type": "execute_result"
    }
   ],
   "source": [
    "#Read gpx file and turn it into a dataframe\n",
    "def read_gpx_to_df (f) :\n",
    "    gpx_file = open(f, 'r')\n",
    "    gpx = gpxpy.parse(gpx_file)\n",
    "    #Si es de tipo tracks\n",
    "    if len(gpx.tracks) != 0 :\n",
    "        data = gpx.tracks[0].segments[0].points\n",
    "        segment = gpx.tracks[0].segments[0]\n",
    "        segment_length = segment.length_3d()\n",
    "        df = pd.DataFrame(columns=['datetime','lon', 'lat', 'alt','speed'])\n",
    "        for point_idx, point in enumerate(segment.points):\n",
    "            df = df.append({'datetime' : point.time, 'lon': point.longitude, 'lat' : point.latitude, 'alt' : point.elevation, 'speed' : segment.get_speed(point_idx)}, ignore_index=True)\n",
    "        #We remove timezone data and add one hour to get the Madrid time\n",
    "        df['datetime'] = pd.to_datetime(df['datetime'], format='%Y-%m-%d %H:%M:%S.%f%tz')\n",
    "        df['datetime'] = df['datetime'].dt.tz_localize(None) + datetime.timedelta(hours=1)\n",
    "    #Si es de tipo waypoints\n",
    "    else :\n",
    "        waypoints = gpx.waypoints\n",
    "        df = pd.DataFrame(columns=['stop','datetime','lon', 'lat', 'alt'])\n",
    "        for point in waypoints:\n",
    "            df = df.append({'stop': point.name, 'datetime' : point.time, 'lon': point.longitude, 'lat' : point.latitude, 'alt' : point.elevation}, ignore_index=True)\n",
    "        #We remove timezone data and add one hour to get the Madrid time\n",
    "        df['datetime'] = pd.to_datetime(df['datetime'], format='%Y-%m-%d %H:%M:%S.%f%tz')\n",
    "        df['datetime'] = df['datetime'].dt.tz_localize(None)\n",
    "    \n",
    "    return df\n",
    "\n",
    "path = 'TrackedLocations'\n",
    "files = [f for f in glob.glob(path + \"**/8607-*.gpx\", recursive=True)]\n",
    "dfs = []\n",
    "for f in files:\n",
    "    dfs.append(read_gpx_to_df(f))\n",
    "\n",
    "\n",
    "bus_tracked = pd.concat(dfs).sort_values(by=['datetime']).reset_index(drop=True)\n",
    "bus_tracked"
   ]
  },
  {
   "cell_type": "code",
   "execution_count": 47,
   "metadata": {},
   "outputs": [
    {
     "data": {
      "text/html": [
       "<div>\n",
       "<style scoped>\n",
       "    .dataframe tbody tr th:only-of-type {\n",
       "        vertical-align: middle;\n",
       "    }\n",
       "\n",
       "    .dataframe tbody tr th {\n",
       "        vertical-align: top;\n",
       "    }\n",
       "\n",
       "    .dataframe thead th {\n",
       "        text-align: right;\n",
       "    }\n",
       "</style>\n",
       "<table border=\"1\" class=\"dataframe\">\n",
       "  <thead>\n",
       "    <tr style=\"text-align: right;\">\n",
       "      <th></th>\n",
       "      <th>stop</th>\n",
       "      <th>datetime</th>\n",
       "      <th>lon</th>\n",
       "      <th>lat</th>\n",
       "      <th>alt</th>\n",
       "    </tr>\n",
       "  </thead>\n",
       "  <tbody>\n",
       "    <tr>\n",
       "      <th>0</th>\n",
       "      <td>1418</td>\n",
       "      <td>2020-03-09 10:57:11</td>\n",
       "      <td>-3.707847145</td>\n",
       "      <td>40.447071720</td>\n",
       "      <td>712.786432503</td>\n",
       "    </tr>\n",
       "    <tr>\n",
       "      <th>1</th>\n",
       "      <td>1416</td>\n",
       "      <td>2020-03-09 10:58:15</td>\n",
       "      <td>-3.710908012</td>\n",
       "      <td>40.446661015</td>\n",
       "      <td>692.744076421</td>\n",
       "    </tr>\n",
       "    <tr>\n",
       "      <th>2</th>\n",
       "      <td>2712</td>\n",
       "      <td>2020-03-09 10:59:33</td>\n",
       "      <td>-3.713919237</td>\n",
       "      <td>40.446402323</td>\n",
       "      <td>699.295760576</td>\n",
       "    </tr>\n",
       "    <tr>\n",
       "      <th>3</th>\n",
       "      <td>3278</td>\n",
       "      <td>2020-03-09 11:01:36</td>\n",
       "      <td>-3.717195132</td>\n",
       "      <td>40.449164682</td>\n",
       "      <td>669.566603916</td>\n",
       "    </tr>\n",
       "    <tr>\n",
       "      <th>4</th>\n",
       "      <td>5140</td>\n",
       "      <td>2020-03-09 11:02:29</td>\n",
       "      <td>-3.720670464</td>\n",
       "      <td>40.448679015</td>\n",
       "      <td>657.647485598</td>\n",
       "    </tr>\n",
       "    <tr>\n",
       "      <th>5</th>\n",
       "      <td>3292</td>\n",
       "      <td>2020-03-09 11:03:13</td>\n",
       "      <td>-3.724208792</td>\n",
       "      <td>40.447888805</td>\n",
       "      <td>642.311820455</td>\n",
       "    </tr>\n",
       "    <tr>\n",
       "      <th>6</th>\n",
       "      <td>3274</td>\n",
       "      <td>2020-03-09 11:03:57</td>\n",
       "      <td>-3.725775755</td>\n",
       "      <td>40.448534444</td>\n",
       "      <td>627.487182634</td>\n",
       "    </tr>\n",
       "    <tr>\n",
       "      <th>7</th>\n",
       "      <td>1693</td>\n",
       "      <td>2020-03-09 11:04:57</td>\n",
       "      <td>-3.727532982</td>\n",
       "      <td>40.450032550</td>\n",
       "      <td>636.852775836</td>\n",
       "    </tr>\n",
       "    <tr>\n",
       "      <th>8</th>\n",
       "      <td>4285</td>\n",
       "      <td>2020-03-09 11:05:44</td>\n",
       "      <td>-3.727714455</td>\n",
       "      <td>40.452011667</td>\n",
       "      <td>636.014593012</td>\n",
       "    </tr>\n",
       "  </tbody>\n",
       "</table>\n",
       "</div>"
      ],
      "text/plain": [
       "   stop            datetime          lon           lat            alt\n",
       "0  1418 2020-03-09 10:57:11 -3.707847145  40.447071720  712.786432503\n",
       "1  1416 2020-03-09 10:58:15 -3.710908012  40.446661015  692.744076421\n",
       "2  2712 2020-03-09 10:59:33 -3.713919237  40.446402323  699.295760576\n",
       "3  3278 2020-03-09 11:01:36 -3.717195132  40.449164682  669.566603916\n",
       "4  5140 2020-03-09 11:02:29 -3.720670464  40.448679015  657.647485598\n",
       "5  3292 2020-03-09 11:03:13 -3.724208792  40.447888805  642.311820455\n",
       "6  3274 2020-03-09 11:03:57 -3.725775755  40.448534444  627.487182634\n",
       "7  1693 2020-03-09 11:04:57 -3.727532982  40.450032550  636.852775836\n",
       "8  4285 2020-03-09 11:05:44 -3.727714455  40.452011667  636.014593012"
      ]
     },
     "execution_count": 47,
     "metadata": {},
     "output_type": "execute_result"
    }
   ],
   "source": [
    "stops_tracked = read_gpx_to_df('TrackedLocations/Stops-8607.gpx')\n",
    "stops_tracked"
   ]
  },
  {
   "cell_type": "code",
   "execution_count": 75,
   "metadata": {},
   "outputs": [
    {
     "data": {
      "application/vnd.plotly.v1+json": {
       "config": {
        "plotlyServerURL": "https://plot.ly"
       },
       "data": [
        {
         "hoverinfo": "text",
         "lat": [
          40.446766208798,
          40.44700513696822,
          40.44673094565124,
          40.44671465246461,
          40.44673321624735,
          40.4467391117401,
          40.446738471957566,
          40.44672585856044,
          40.4467148812651,
          40.446716184979955,
          40.44672453354607,
          40.44673371901647,
          40.44672991451675,
          40.44671015585849,
          40.44670181190481,
          40.44666597286184,
          40.44666875960167,
          40.44666913177827,
          40.44666725433251,
          40.44666328706852,
          40.446654537332066,
          40.446674486556205,
          40.44668790061233,
          40.44669595930792,
          40.44669219955264,
          40.44670420077316,
          40.44670801318834,
          40.446718831041466,
          40.44672504123623,
          40.44672952905814,
          40.44672952905814,
          40.44672952905814,
          40.44672741026464,
          40.446720808502135,
          40.4467476074084,
          40.446778584751705,
          40.446803842585524,
          40.446849223700085,
          40.44687077240438,
          40.44687808076316,
          40.446882026775626,
          40.446882026775626,
          40.44691237866696,
          40.44692282488942,
          40.44692583334583,
          40.446935401845266,
          40.44693860539393,
          40.446945734014136,
          40.446951046678215,
          40.44695510661688,
          40.44697232442102,
          40.44699704839841,
          40.44700537695799,
          40.44704992232774,
          40.44708802204004,
          40.44710605508429,
          40.44710067857115,
          40.44709976869237,
          40.44709976869237,
          40.44709976869237,
          40.44709976869237,
          40.44709976869237,
          40.44709976869237,
          40.44709852397708,
          40.44709289412352,
          40.44709136640431,
          40.447091770395126,
          40.447096103772964,
          40.44709648980885,
          40.4471159379105,
          40.44715737565564,
          40.44716598224045,
          40.44716739955802,
          40.44716949740309,
          40.447169921927134,
          40.44714538192061,
          40.447102974345796,
          40.44705911349034,
          40.447009096875256,
          40.4469684009537,
          40.44694750705021,
          40.44690957472738,
          40.446840232628084,
          40.44677776784524,
          40.446733384261414,
          40.44670083030654,
          40.4466712114506,
          40.44664729884058,
          40.44665523573822,
          40.446648099510746,
          40.44664244014996,
          40.44663255268687,
          40.446628871331136,
          40.4466298667082,
          40.44660802955234,
          40.44659226902699,
          40.44656036941478,
          40.446529373891515,
          40.44651030459854,
          40.446495663552966,
          40.446494556198324,
          40.44649596214369,
          40.44649378102674,
          40.44649378102674,
          40.44649378102674,
          40.44649378102674,
          40.44649378102674,
          40.44649378102674,
          40.44649364787947,
          40.44647785488544,
          40.446470511061214,
          40.446446657184325,
          40.44641146167192,
          40.44637712387369,
          40.446341164973695,
          40.4463045179273,
          40.44624628975241,
          40.446172009863176,
          40.44611695579147,
          40.446071257423874,
          40.446046495747915,
          40.44608680429978,
          40.44616055347929,
          40.44625163698584,
          40.44633073667623,
          40.44638522070047,
          40.44641475373893,
          40.446413225951765,
          40.44640941550286,
          40.44641323066374,
          40.44641323066374,
          40.44641323066374,
          40.44641323066374,
          40.44644447373806,
          40.446500767839254,
          40.446657784226424,
          40.44677453694801,
          40.44689639822926,
          40.44709391412003,
          40.44724094281161,
          40.44738556574043,
          40.44752642816514,
          40.44765923278733,
          40.44776602997401,
          40.447851961273905,
          40.44791598190597,
          40.4479942357152,
          40.44808243672292,
          40.448164220754364,
          40.44825202239654,
          40.448338654291824,
          40.44846049189604,
          40.44848992797901,
          40.44850270463518,
          40.448523563734206,
          40.448561917714585,
          40.4485720318733,
          40.44857273393515,
          40.44857260007451,
          40.44857260007451,
          40.44857260007451,
          40.44857260007451,
          40.44857260007451,
          40.44857260007451,
          40.44857260007451,
          40.44857260007451,
          40.44857503962415,
          40.448617737290796,
          40.44865264087205,
          40.448691954705126,
          40.44873306976843,
          40.448778479803835,
          40.44878777165573,
          40.448783229867786,
          40.448783229867786,
          40.448783229867786,
          40.44879652263919,
          40.44884942837542,
          40.448933738018006,
          40.44903525518529,
          40.44912657471619,
          40.449179158032436,
          40.44917182414493,
          40.44916502498263,
          40.449167301354734,
          40.44916468154292,
          40.44917338474453,
          40.44918158007398,
          40.449182876852824,
          40.449182876852824,
          40.449182876852824,
          40.449182876852824,
          40.449182876852824,
          40.44918368740286,
          40.4491798905015,
          40.44915887341544,
          40.449135595653495,
          40.44911236921058,
          40.449091838820955,
          40.44908285781343,
          40.449065768625,
          40.449046435468375,
          40.4490016398154,
          40.44896852686601,
          40.44893394702529,
          40.44889703292569,
          40.448862931201226,
          40.44880562535006,
          40.448762669476636,
          40.448721763965835,
          40.44868653373942,
          40.44867901544052,
          40.4486841538126,
          40.44868834993792,
          40.44868834993792,
          40.44868370395876,
          40.44866611765467,
          40.448628231938365,
          40.44857688556518,
          40.44851054914833,
          40.448435641245815,
          40.448362208618704,
          40.44829960056434,
          40.448247201872434,
          40.44819294117368,
          40.44813991471029,
          40.44808926872422,
          40.44803836050828,
          40.44798959744665,
          40.447939122807234,
          40.447907440755884,
          40.4478929539939,
          40.44788477492509,
          40.44788282511638,
          40.44788277225325,
          40.447881859641406,
          40.44788093952597,
          40.44787933870018,
          40.44787041538757,
          40.44785116670433,
          40.447843059606726,
          40.44787420027847,
          40.44796080978107,
          40.4480934072743,
          40.44823860176034,
          40.44837100817347,
          40.44851922089712,
          40.448559210166536,
          40.44855748851869,
          40.448542798160965,
          40.4485260400231,
          40.44852183194181,
          40.44853127256408,
          40.4485344442016,
          40.4485326041995,
          40.44852457363588,
          40.448522960829514,
          40.44851984344957,
          40.44851503863682,
          40.44851030188291,
          40.44850159449954,
          40.44848641574789,
          40.44845126769182,
          40.44842237362099,
          40.4483977302919,
          40.448372302969815,
          40.44834862222953,
          40.448340280257796,
          40.44833943094953,
          40.44836112156319,
          40.44842102703932,
          40.44850876053394,
          40.448618201943525,
          40.448742581742366,
          40.44890305938104,
          40.449078780250936,
          40.44925820038981,
          40.44951466543828,
          40.44966100032818,
          40.4497824322774,
          40.44988437724639,
          40.4499687092616,
          40.450017996213894,
          40.45004616590397,
          40.45004985653404,
          40.45006127314143,
          40.45006238274782,
          40.45006535433086,
          40.45007295872518,
          40.450075338598396,
          40.450101585462534,
          40.45015380046655,
          40.450242880540436,
          40.450349479084814,
          40.45046570703184,
          40.450690040097605,
          40.450873894800324,
          40.45105503619113,
          40.451235874892404,
          40.45139596117038,
          40.4516589354424,
          40.451799452664545,
          40.45193194673157,
          40.45202709020315,
          40.452096985931014,
          40.45212509833601,
          40.45201224230819,
          40.452113618131676,
          40.452113618131676,
          40.45212402179659,
          40.45215082809134,
          40.452194619309616
         ],
         "line": {
          "color": "purple",
          "width": 2
         },
         "lon": [
          -3.7052010468764154,
          -3.7050899967822875,
          -3.7053149681954443,
          -3.7053336569009763,
          -3.705327954445885,
          -3.7053267335216264,
          -3.705345735521233,
          -3.7053508822534305,
          -3.705359968990183,
          -3.7053656667916703,
          -3.705370089239909,
          -3.705382651541665,
          -3.705400451370943,
          -3.7054113128097153,
          -3.7054130090075166,
          -3.705442918120206,
          -3.70543633604038,
          -3.705450656117454,
          -3.7054970782680794,
          -3.705533827702722,
          -3.7055666434074426,
          -3.7055689894718,
          -3.705552704323477,
          -3.7055352746418793,
          -3.7055300867798002,
          -3.7055284208945,
          -3.7055275767053955,
          -3.7055274150366455,
          -3.705531428284225,
          -3.7055295070686007,
          -3.7055295070686007,
          -3.7055295070686007,
          -3.705532963430742,
          -3.7055436354875217,
          -3.7055862633940233,
          -3.7056295655179983,
          -3.70566694281025,
          -3.705697109185908,
          -3.705725859435428,
          -3.705743570489259,
          -3.7057404578769466,
          -3.7057404578769466,
          -3.7057566568387976,
          -3.705834925440593,
          -3.705993492532433,
          -3.7061938854068637,
          -3.7064110405189066,
          -3.706642517786405,
          -3.7068675744665724,
          -3.7070737719493896,
          -3.707274653486256,
          -3.7074578083655942,
          -3.7076188684573625,
          -3.7077974162489538,
          -3.707886075567274,
          -3.7079183476018693,
          -3.707909026855082,
          -3.707907606005725,
          -3.707907606005725,
          -3.707907606005725,
          -3.707907606005725,
          -3.707907606005725,
          -3.707907606005725,
          -3.7079093439405737,
          -3.7079438990257265,
          -3.7080207208452407,
          -3.708125138429427,
          -3.7082400907785056,
          -3.70836292530595,
          -3.7085119353880653,
          -3.7087506170354305,
          -3.7088814583816996,
          -3.7090052947707455,
          -3.7091344654316245,
          -3.7092669381525467,
          -3.709412511120793,
          -3.7095783393394752,
          -3.7097251903702153,
          -3.7098621666392595,
          -3.7100002439002693,
          -3.710130821188961,
          -3.710261041548992,
          -3.710398626407592,
          -3.710541507984318,
          -3.7106781344159447,
          -3.710799112933124,
          -3.7108902772247068,
          -3.710913512190139,
          -3.7109385657996885,
          -3.7109256188373605,
          -3.7109287431020825,
          -3.710950547538286,
          -3.7110114516257906,
          -3.7111446912706887,
          -3.7112675982150614,
          -3.7113934420127452,
          -3.7114994490712383,
          -3.711581420635266,
          -3.7116374179125757,
          -3.7116908034815705,
          -3.7117186201329773,
          -3.7117167100890103,
          -3.7117148042080332,
          -3.7117148042080332,
          -3.7117148042080332,
          -3.7117148042080332,
          -3.7117148042080332,
          -3.7117148042080332,
          -3.711729513237492,
          -3.7117898755620478,
          -3.7118780419581947,
          -3.7119646387046132,
          -3.712070446354489,
          -3.712199274166417,
          -3.7123578480097397,
          -3.712549317337179,
          -3.7127665542345016,
          -3.7129990309855065,
          -3.7132184177164334,
          -3.713411325274393,
          -3.713564604769254,
          -3.7137213018084823,
          -3.7137459585255685,
          -3.7137857384555595,
          -3.713837372628031,
          -3.713892530797555,
          -3.7139358323783833,
          -3.7139400156377373,
          -3.713930783056254,
          -3.713926735990964,
          -3.713926735990964,
          -3.713926735990964,
          -3.713926735990964,
          -3.7139293415425034,
          -3.713941890023651,
          -3.7139345004324835,
          -3.7140208705872046,
          -3.71409669758787,
          -3.7142059885483354,
          -3.7142738596168545,
          -3.7143312686535714,
          -3.714366007281548,
          -3.7144077471435977,
          -3.714485993211807,
          -3.7145978945784113,
          -3.714724226712357,
          -3.7148492091518595,
          -3.7150195623901623,
          -3.7152164487366273,
          -3.715431541694746,
          -3.7156385220959467,
          -3.715919125448928,
          -3.716080979713336,
          -3.7161737098676095,
          -3.716219234073622,
          -3.716246984031062,
          -3.7162519723438385,
          -3.716240826489752,
          -3.716237810890956,
          -3.716237810890956,
          -3.716237810890956,
          -3.716237810890956,
          -3.716237810890956,
          -3.716237810890956,
          -3.716237810890956,
          -3.716237810890956,
          -3.7162389207150985,
          -3.7162974767297543,
          -3.7163753052879747,
          -3.716449456264717,
          -3.71649740587723,
          -3.7165136692846157,
          -3.716509221208434,
          -3.7165042287173606,
          -3.7165042287173606,
          -3.7165042287173606,
          -3.7165033875941718,
          -3.7165037108721832,
          -3.7164884610887525,
          -3.7165144668048384,
          -3.716592224925223,
          -3.7167956164696014,
          -3.7169500575652763,
          -3.717086400174914,
          -3.7171711535479175,
          -3.7171951317475043,
          -3.7171804008584313,
          -3.717173098083573,
          -3.7171786428796563,
          -3.7171786428796563,
          -3.7171786428796563,
          -3.7171786428796563,
          -3.7171786428796563,
          -3.71718598728283,
          -3.7172446693373744,
          -3.717353227191062,
          -3.7175261436395957,
          -3.7177531000769437,
          -3.71813260078039,
          -3.7183699046595526,
          -3.7186033546194124,
          -3.718842774997474,
          -3.71907467546899,
          -3.7193104078372357,
          -3.719538294604374,
          -3.7197636541898658,
          -3.7199766080211254,
          -3.720174650397203,
          -3.7203544993048165,
          -3.720506094218353,
          -3.720613966389129,
          -3.7206704640776156,
          -3.7206713632935724,
          -3.72066914631062,
          -3.72066914631062,
          -3.7206743414562435,
          -3.7207226004630205,
          -3.720840806394777,
          -3.721030221278264,
          -3.7212428041179413,
          -3.7214670134667744,
          -3.721743972026,
          -3.7220039582173263,
          -3.722277681158739,
          -3.7225622105785887,
          -3.722852641947117,
          -3.723146507266807,
          -3.723426049797007,
          -3.723675798435602,
          -3.7239819330199992,
          -3.7241233280183947,
          -3.7241964167216186,
          -3.7242176935197198,
          -3.7242208714441936,
          -3.7242246859408863,
          -3.7242302178883926,
          -3.7242528345597408,
          -3.72427918214839,
          -3.7243297776141486,
          -3.7244147901169375,
          -3.7245208385822166,
          -3.724636938721136,
          -3.7247390839039065,
          -3.7247941719353816,
          -3.724822478781897,
          -3.7248633421614596,
          -3.7250040858667552,
          -3.725139170858053,
          -3.725278571637065,
          -3.725414183716755,
          -3.7255357031856566,
          -3.725652573970368,
          -3.7257455259563166,
          -3.7257757549959156,
          -3.7257618244205686,
          -3.7257362854557337,
          -3.7257282637624245,
          -3.7257340515465365,
          -3.7257391444685286,
          -3.7257543523526047,
          -3.725802178564007,
          -3.7258884674522434,
          -3.7260809594333937,
          -3.726241584059163,
          -3.7264197834655537,
          -3.7265890488932842,
          -3.7267288621017074,
          -3.7268365320933503,
          -3.726933187605345,
          -3.7270305084703623,
          -3.72712373578382,
          -3.7271702445280166,
          -3.727213330521421,
          -3.727267820744127,
          -3.727314311158664,
          -3.7273646831970066,
          -3.7274151271378657,
          -3.727479285314048,
          -3.727512238676782,
          -3.7275187433039263,
          -3.727521379372542,
          -3.727524842379147,
          -3.727531012472255,
          -3.727534590978699,
          -3.7275312766791475,
          -3.727529792681699,
          -3.7275289823908735,
          -3.727527942014814,
          -3.727523640547289,
          -3.727522795294742,
          -3.7275191916167763,
          -3.7275183326946495,
          -3.7275347482132664,
          -3.7275634999661924,
          -3.7275852229586235,
          -3.7276175992288354,
          -3.7276371302296285,
          -3.727653131002257,
          -3.727670483296761,
          -3.72765180815229,
          -3.7277108867356206,
          -3.7277195903074367,
          -3.7277332970027888,
          -3.7277550952809753,
          -3.7277640849592752,
          -3.7277670016863493,
          -3.727717556723474,
          -3.7277667737340807,
          -3.7277667737340807,
          -3.727757415770494,
          -3.7277511586472576,
          -3.727734681278653
         ],
         "mode": "lines",
         "text": "",
         "type": "scattermapbox"
        },
        {
         "hoverinfo": "text",
         "lat": [
          40.44707171994283,
          40.44666101476202,
          40.44640232251827,
          40.44916468154292,
          40.44867901544052,
          40.44788880511345,
          40.4485344442016,
          40.450032549795914,
          40.45201166670896
         ],
         "lon": [
          -3.707847145234947,
          -3.710908011685828,
          -3.7139192373085717,
          -3.7171951317475043,
          -3.7206704640776156,
          -3.72420879231141,
          -3.7257757549959156,
          -3.727532981608124,
          -3.7277144550235803
         ],
         "marker": {
          "color": "green",
          "opacity": 0.7,
          "size": 5
         },
         "mode": "markers",
         "text": [
          "Stop: 1418",
          "Stop: 1416",
          "Stop: 2712",
          "Stop: 3278",
          "Stop: 5140",
          "Stop: 3292",
          "Stop: 3274",
          "Stop: 1693",
          "Stop: 4285"
         ],
         "type": "scattermapbox"
        }
       ],
       "layout": {
        "height": 500,
        "hovermode": "closest",
        "mapbox": {
         "accesstoken": "pk.eyJ1IjoiYWxlanAxOTk4IiwiYSI6ImNrNnFwMmM0dDE2OHYzZXFwazZiZTdmbGcifQ.k5qPtvMgar7i9cbQx1fP0w",
         "bearing": 0,
         "center": {
          "lat": 40.44799083411279,
          "lon": -3.7162118725312467
         },
         "pitch": 0,
         "style": "mapbox://styles/alejp1998/ck6z9mohb25ni1iod4sqvqa0d",
         "zoom": 14
        },
        "margin": {
         "b": 0,
         "l": 0,
         "r": 0,
         "t": 0
        },
        "showlegend": false,
        "template": {
         "data": {
          "bar": [
           {
            "error_x": {
             "color": "#2a3f5f"
            },
            "error_y": {
             "color": "#2a3f5f"
            },
            "marker": {
             "line": {
              "color": "white",
              "width": 0.5
             }
            },
            "type": "bar"
           }
          ],
          "barpolar": [
           {
            "marker": {
             "line": {
              "color": "white",
              "width": 0.5
             }
            },
            "type": "barpolar"
           }
          ],
          "carpet": [
           {
            "aaxis": {
             "endlinecolor": "#2a3f5f",
             "gridcolor": "#C8D4E3",
             "linecolor": "#C8D4E3",
             "minorgridcolor": "#C8D4E3",
             "startlinecolor": "#2a3f5f"
            },
            "baxis": {
             "endlinecolor": "#2a3f5f",
             "gridcolor": "#C8D4E3",
             "linecolor": "#C8D4E3",
             "minorgridcolor": "#C8D4E3",
             "startlinecolor": "#2a3f5f"
            },
            "type": "carpet"
           }
          ],
          "choropleth": [
           {
            "colorbar": {
             "outlinewidth": 0,
             "ticks": ""
            },
            "type": "choropleth"
           }
          ],
          "contour": [
           {
            "colorbar": {
             "outlinewidth": 0,
             "ticks": ""
            },
            "colorscale": [
             [
              0,
              "#0d0887"
             ],
             [
              0.1111111111111111,
              "#46039f"
             ],
             [
              0.2222222222222222,
              "#7201a8"
             ],
             [
              0.3333333333333333,
              "#9c179e"
             ],
             [
              0.4444444444444444,
              "#bd3786"
             ],
             [
              0.5555555555555556,
              "#d8576b"
             ],
             [
              0.6666666666666666,
              "#ed7953"
             ],
             [
              0.7777777777777778,
              "#fb9f3a"
             ],
             [
              0.8888888888888888,
              "#fdca26"
             ],
             [
              1,
              "#f0f921"
             ]
            ],
            "type": "contour"
           }
          ],
          "contourcarpet": [
           {
            "colorbar": {
             "outlinewidth": 0,
             "ticks": ""
            },
            "type": "contourcarpet"
           }
          ],
          "heatmap": [
           {
            "colorbar": {
             "outlinewidth": 0,
             "ticks": ""
            },
            "colorscale": [
             [
              0,
              "#0d0887"
             ],
             [
              0.1111111111111111,
              "#46039f"
             ],
             [
              0.2222222222222222,
              "#7201a8"
             ],
             [
              0.3333333333333333,
              "#9c179e"
             ],
             [
              0.4444444444444444,
              "#bd3786"
             ],
             [
              0.5555555555555556,
              "#d8576b"
             ],
             [
              0.6666666666666666,
              "#ed7953"
             ],
             [
              0.7777777777777778,
              "#fb9f3a"
             ],
             [
              0.8888888888888888,
              "#fdca26"
             ],
             [
              1,
              "#f0f921"
             ]
            ],
            "type": "heatmap"
           }
          ],
          "heatmapgl": [
           {
            "colorbar": {
             "outlinewidth": 0,
             "ticks": ""
            },
            "colorscale": [
             [
              0,
              "#0d0887"
             ],
             [
              0.1111111111111111,
              "#46039f"
             ],
             [
              0.2222222222222222,
              "#7201a8"
             ],
             [
              0.3333333333333333,
              "#9c179e"
             ],
             [
              0.4444444444444444,
              "#bd3786"
             ],
             [
              0.5555555555555556,
              "#d8576b"
             ],
             [
              0.6666666666666666,
              "#ed7953"
             ],
             [
              0.7777777777777778,
              "#fb9f3a"
             ],
             [
              0.8888888888888888,
              "#fdca26"
             ],
             [
              1,
              "#f0f921"
             ]
            ],
            "type": "heatmapgl"
           }
          ],
          "histogram": [
           {
            "marker": {
             "colorbar": {
              "outlinewidth": 0,
              "ticks": ""
             }
            },
            "type": "histogram"
           }
          ],
          "histogram2d": [
           {
            "colorbar": {
             "outlinewidth": 0,
             "ticks": ""
            },
            "colorscale": [
             [
              0,
              "#0d0887"
             ],
             [
              0.1111111111111111,
              "#46039f"
             ],
             [
              0.2222222222222222,
              "#7201a8"
             ],
             [
              0.3333333333333333,
              "#9c179e"
             ],
             [
              0.4444444444444444,
              "#bd3786"
             ],
             [
              0.5555555555555556,
              "#d8576b"
             ],
             [
              0.6666666666666666,
              "#ed7953"
             ],
             [
              0.7777777777777778,
              "#fb9f3a"
             ],
             [
              0.8888888888888888,
              "#fdca26"
             ],
             [
              1,
              "#f0f921"
             ]
            ],
            "type": "histogram2d"
           }
          ],
          "histogram2dcontour": [
           {
            "colorbar": {
             "outlinewidth": 0,
             "ticks": ""
            },
            "colorscale": [
             [
              0,
              "#0d0887"
             ],
             [
              0.1111111111111111,
              "#46039f"
             ],
             [
              0.2222222222222222,
              "#7201a8"
             ],
             [
              0.3333333333333333,
              "#9c179e"
             ],
             [
              0.4444444444444444,
              "#bd3786"
             ],
             [
              0.5555555555555556,
              "#d8576b"
             ],
             [
              0.6666666666666666,
              "#ed7953"
             ],
             [
              0.7777777777777778,
              "#fb9f3a"
             ],
             [
              0.8888888888888888,
              "#fdca26"
             ],
             [
              1,
              "#f0f921"
             ]
            ],
            "type": "histogram2dcontour"
           }
          ],
          "mesh3d": [
           {
            "colorbar": {
             "outlinewidth": 0,
             "ticks": ""
            },
            "type": "mesh3d"
           }
          ],
          "parcoords": [
           {
            "line": {
             "colorbar": {
              "outlinewidth": 0,
              "ticks": ""
             }
            },
            "type": "parcoords"
           }
          ],
          "pie": [
           {
            "automargin": true,
            "type": "pie"
           }
          ],
          "scatter": [
           {
            "marker": {
             "colorbar": {
              "outlinewidth": 0,
              "ticks": ""
             }
            },
            "type": "scatter"
           }
          ],
          "scatter3d": [
           {
            "line": {
             "colorbar": {
              "outlinewidth": 0,
              "ticks": ""
             }
            },
            "marker": {
             "colorbar": {
              "outlinewidth": 0,
              "ticks": ""
             }
            },
            "type": "scatter3d"
           }
          ],
          "scattercarpet": [
           {
            "marker": {
             "colorbar": {
              "outlinewidth": 0,
              "ticks": ""
             }
            },
            "type": "scattercarpet"
           }
          ],
          "scattergeo": [
           {
            "marker": {
             "colorbar": {
              "outlinewidth": 0,
              "ticks": ""
             }
            },
            "type": "scattergeo"
           }
          ],
          "scattergl": [
           {
            "marker": {
             "colorbar": {
              "outlinewidth": 0,
              "ticks": ""
             }
            },
            "type": "scattergl"
           }
          ],
          "scattermapbox": [
           {
            "marker": {
             "colorbar": {
              "outlinewidth": 0,
              "ticks": ""
             }
            },
            "type": "scattermapbox"
           }
          ],
          "scatterpolar": [
           {
            "marker": {
             "colorbar": {
              "outlinewidth": 0,
              "ticks": ""
             }
            },
            "type": "scatterpolar"
           }
          ],
          "scatterpolargl": [
           {
            "marker": {
             "colorbar": {
              "outlinewidth": 0,
              "ticks": ""
             }
            },
            "type": "scatterpolargl"
           }
          ],
          "scatterternary": [
           {
            "marker": {
             "colorbar": {
              "outlinewidth": 0,
              "ticks": ""
             }
            },
            "type": "scatterternary"
           }
          ],
          "surface": [
           {
            "colorbar": {
             "outlinewidth": 0,
             "ticks": ""
            },
            "colorscale": [
             [
              0,
              "#0d0887"
             ],
             [
              0.1111111111111111,
              "#46039f"
             ],
             [
              0.2222222222222222,
              "#7201a8"
             ],
             [
              0.3333333333333333,
              "#9c179e"
             ],
             [
              0.4444444444444444,
              "#bd3786"
             ],
             [
              0.5555555555555556,
              "#d8576b"
             ],
             [
              0.6666666666666666,
              "#ed7953"
             ],
             [
              0.7777777777777778,
              "#fb9f3a"
             ],
             [
              0.8888888888888888,
              "#fdca26"
             ],
             [
              1,
              "#f0f921"
             ]
            ],
            "type": "surface"
           }
          ],
          "table": [
           {
            "cells": {
             "fill": {
              "color": "#EBF0F8"
             },
             "line": {
              "color": "white"
             }
            },
            "header": {
             "fill": {
              "color": "#C8D4E3"
             },
             "line": {
              "color": "white"
             }
            },
            "type": "table"
           }
          ]
         },
         "layout": {
          "annotationdefaults": {
           "arrowcolor": "#2a3f5f",
           "arrowhead": 0,
           "arrowwidth": 1
          },
          "coloraxis": {
           "colorbar": {
            "outlinewidth": 0,
            "ticks": ""
           }
          },
          "colorscale": {
           "diverging": [
            [
             0,
             "#8e0152"
            ],
            [
             0.1,
             "#c51b7d"
            ],
            [
             0.2,
             "#de77ae"
            ],
            [
             0.3,
             "#f1b6da"
            ],
            [
             0.4,
             "#fde0ef"
            ],
            [
             0.5,
             "#f7f7f7"
            ],
            [
             0.6,
             "#e6f5d0"
            ],
            [
             0.7,
             "#b8e186"
            ],
            [
             0.8,
             "#7fbc41"
            ],
            [
             0.9,
             "#4d9221"
            ],
            [
             1,
             "#276419"
            ]
           ],
           "sequential": [
            [
             0,
             "#0d0887"
            ],
            [
             0.1111111111111111,
             "#46039f"
            ],
            [
             0.2222222222222222,
             "#7201a8"
            ],
            [
             0.3333333333333333,
             "#9c179e"
            ],
            [
             0.4444444444444444,
             "#bd3786"
            ],
            [
             0.5555555555555556,
             "#d8576b"
            ],
            [
             0.6666666666666666,
             "#ed7953"
            ],
            [
             0.7777777777777778,
             "#fb9f3a"
            ],
            [
             0.8888888888888888,
             "#fdca26"
            ],
            [
             1,
             "#f0f921"
            ]
           ],
           "sequentialminus": [
            [
             0,
             "#0d0887"
            ],
            [
             0.1111111111111111,
             "#46039f"
            ],
            [
             0.2222222222222222,
             "#7201a8"
            ],
            [
             0.3333333333333333,
             "#9c179e"
            ],
            [
             0.4444444444444444,
             "#bd3786"
            ],
            [
             0.5555555555555556,
             "#d8576b"
            ],
            [
             0.6666666666666666,
             "#ed7953"
            ],
            [
             0.7777777777777778,
             "#fb9f3a"
            ],
            [
             0.8888888888888888,
             "#fdca26"
            ],
            [
             1,
             "#f0f921"
            ]
           ]
          },
          "colorway": [
           "#636efa",
           "#EF553B",
           "#00cc96",
           "#ab63fa",
           "#FFA15A",
           "#19d3f3",
           "#FF6692",
           "#B6E880",
           "#FF97FF",
           "#FECB52"
          ],
          "font": {
           "color": "#2a3f5f"
          },
          "geo": {
           "bgcolor": "white",
           "lakecolor": "white",
           "landcolor": "white",
           "showlakes": true,
           "showland": true,
           "subunitcolor": "#C8D4E3"
          },
          "hoverlabel": {
           "align": "left"
          },
          "hovermode": "closest",
          "mapbox": {
           "style": "light"
          },
          "paper_bgcolor": "white",
          "plot_bgcolor": "white",
          "polar": {
           "angularaxis": {
            "gridcolor": "#EBF0F8",
            "linecolor": "#EBF0F8",
            "ticks": ""
           },
           "bgcolor": "white",
           "radialaxis": {
            "gridcolor": "#EBF0F8",
            "linecolor": "#EBF0F8",
            "ticks": ""
           }
          },
          "scene": {
           "xaxis": {
            "backgroundcolor": "white",
            "gridcolor": "#DFE8F3",
            "gridwidth": 2,
            "linecolor": "#EBF0F8",
            "showbackground": true,
            "ticks": "",
            "zerolinecolor": "#EBF0F8"
           },
           "yaxis": {
            "backgroundcolor": "white",
            "gridcolor": "#DFE8F3",
            "gridwidth": 2,
            "linecolor": "#EBF0F8",
            "showbackground": true,
            "ticks": "",
            "zerolinecolor": "#EBF0F8"
           },
           "zaxis": {
            "backgroundcolor": "white",
            "gridcolor": "#DFE8F3",
            "gridwidth": 2,
            "linecolor": "#EBF0F8",
            "showbackground": true,
            "ticks": "",
            "zerolinecolor": "#EBF0F8"
           }
          },
          "shapedefaults": {
           "line": {
            "color": "#2a3f5f"
           }
          },
          "ternary": {
           "aaxis": {
            "gridcolor": "#DFE8F3",
            "linecolor": "#A2B1C6",
            "ticks": ""
           },
           "baxis": {
            "gridcolor": "#DFE8F3",
            "linecolor": "#A2B1C6",
            "ticks": ""
           },
           "bgcolor": "white",
           "caxis": {
            "gridcolor": "#DFE8F3",
            "linecolor": "#A2B1C6",
            "ticks": ""
           }
          },
          "title": {
           "x": 0.05
          },
          "xaxis": {
           "automargin": true,
           "gridcolor": "#EBF0F8",
           "linecolor": "#EBF0F8",
           "ticks": "",
           "title": {
            "standoff": 15
           },
           "zerolinecolor": "#EBF0F8",
           "zerolinewidth": 2
          },
          "yaxis": {
           "automargin": true,
           "gridcolor": "#EBF0F8",
           "linecolor": "#EBF0F8",
           "ticks": "",
           "title": {
            "standoff": 15
           },
           "zerolinecolor": "#EBF0F8",
           "zerolinewidth": 2
          }
         }
        },
        "title": {
         "text": "Pair bus coords when it arrives to stop vs the coords of that stop"
        }
       }
      },
      "text/html": [
       "<div>\n",
       "        \n",
       "        \n",
       "            <div id=\"aa59f1f5-6aa7-45f6-84d8-fbf5fe5a838e\" class=\"plotly-graph-div\" style=\"height:500px; width:100%;\"></div>\n",
       "            <script type=\"text/javascript\">\n",
       "                require([\"plotly\"], function(Plotly) {\n",
       "                    window.PLOTLYENV=window.PLOTLYENV || {};\n",
       "                    \n",
       "                if (document.getElementById(\"aa59f1f5-6aa7-45f6-84d8-fbf5fe5a838e\")) {\n",
       "                    Plotly.newPlot(\n",
       "                        'aa59f1f5-6aa7-45f6-84d8-fbf5fe5a838e',\n",
       "                        [{\"hoverinfo\": \"text\", \"lat\": [40.446766208798, 40.44700513696822, 40.44673094565124, 40.44671465246461, 40.44673321624735, 40.4467391117401, 40.446738471957566, 40.44672585856044, 40.4467148812651, 40.446716184979955, 40.44672453354607, 40.44673371901647, 40.44672991451675, 40.44671015585849, 40.44670181190481, 40.44666597286184, 40.44666875960167, 40.44666913177827, 40.44666725433251, 40.44666328706852, 40.446654537332066, 40.446674486556205, 40.44668790061233, 40.44669595930792, 40.44669219955264, 40.44670420077316, 40.44670801318834, 40.446718831041466, 40.44672504123623, 40.44672952905814, 40.44672952905814, 40.44672952905814, 40.44672741026464, 40.446720808502135, 40.4467476074084, 40.446778584751705, 40.446803842585524, 40.446849223700085, 40.44687077240438, 40.44687808076316, 40.446882026775626, 40.446882026775626, 40.44691237866696, 40.44692282488942, 40.44692583334583, 40.446935401845266, 40.44693860539393, 40.446945734014136, 40.446951046678215, 40.44695510661688, 40.44697232442102, 40.44699704839841, 40.44700537695799, 40.44704992232774, 40.44708802204004, 40.44710605508429, 40.44710067857115, 40.44709976869237, 40.44709976869237, 40.44709976869237, 40.44709976869237, 40.44709976869237, 40.44709976869237, 40.44709852397708, 40.44709289412352, 40.44709136640431, 40.447091770395126, 40.447096103772964, 40.44709648980885, 40.4471159379105, 40.44715737565564, 40.44716598224045, 40.44716739955802, 40.44716949740309, 40.447169921927134, 40.44714538192061, 40.447102974345796, 40.44705911349034, 40.447009096875256, 40.4469684009537, 40.44694750705021, 40.44690957472738, 40.446840232628084, 40.44677776784524, 40.446733384261414, 40.44670083030654, 40.4466712114506, 40.44664729884058, 40.44665523573822, 40.446648099510746, 40.44664244014996, 40.44663255268687, 40.446628871331136, 40.4466298667082, 40.44660802955234, 40.44659226902699, 40.44656036941478, 40.446529373891515, 40.44651030459854, 40.446495663552966, 40.446494556198324, 40.44649596214369, 40.44649378102674, 40.44649378102674, 40.44649378102674, 40.44649378102674, 40.44649378102674, 40.44649378102674, 40.44649364787947, 40.44647785488544, 40.446470511061214, 40.446446657184325, 40.44641146167192, 40.44637712387369, 40.446341164973695, 40.4463045179273, 40.44624628975241, 40.446172009863176, 40.44611695579147, 40.446071257423874, 40.446046495747915, 40.44608680429978, 40.44616055347929, 40.44625163698584, 40.44633073667623, 40.44638522070047, 40.44641475373893, 40.446413225951765, 40.44640941550286, 40.44641323066374, 40.44641323066374, 40.44641323066374, 40.44641323066374, 40.44644447373806, 40.446500767839254, 40.446657784226424, 40.44677453694801, 40.44689639822926, 40.44709391412003, 40.44724094281161, 40.44738556574043, 40.44752642816514, 40.44765923278733, 40.44776602997401, 40.447851961273905, 40.44791598190597, 40.4479942357152, 40.44808243672292, 40.448164220754364, 40.44825202239654, 40.448338654291824, 40.44846049189604, 40.44848992797901, 40.44850270463518, 40.448523563734206, 40.448561917714585, 40.4485720318733, 40.44857273393515, 40.44857260007451, 40.44857260007451, 40.44857260007451, 40.44857260007451, 40.44857260007451, 40.44857260007451, 40.44857260007451, 40.44857260007451, 40.44857503962415, 40.448617737290796, 40.44865264087205, 40.448691954705126, 40.44873306976843, 40.448778479803835, 40.44878777165573, 40.448783229867786, 40.448783229867786, 40.448783229867786, 40.44879652263919, 40.44884942837542, 40.448933738018006, 40.44903525518529, 40.44912657471619, 40.449179158032436, 40.44917182414493, 40.44916502498263, 40.449167301354734, 40.44916468154292, 40.44917338474453, 40.44918158007398, 40.449182876852824, 40.449182876852824, 40.449182876852824, 40.449182876852824, 40.449182876852824, 40.44918368740286, 40.4491798905015, 40.44915887341544, 40.449135595653495, 40.44911236921058, 40.449091838820955, 40.44908285781343, 40.449065768625, 40.449046435468375, 40.4490016398154, 40.44896852686601, 40.44893394702529, 40.44889703292569, 40.448862931201226, 40.44880562535006, 40.448762669476636, 40.448721763965835, 40.44868653373942, 40.44867901544052, 40.4486841538126, 40.44868834993792, 40.44868834993792, 40.44868370395876, 40.44866611765467, 40.448628231938365, 40.44857688556518, 40.44851054914833, 40.448435641245815, 40.448362208618704, 40.44829960056434, 40.448247201872434, 40.44819294117368, 40.44813991471029, 40.44808926872422, 40.44803836050828, 40.44798959744665, 40.447939122807234, 40.447907440755884, 40.4478929539939, 40.44788477492509, 40.44788282511638, 40.44788277225325, 40.447881859641406, 40.44788093952597, 40.44787933870018, 40.44787041538757, 40.44785116670433, 40.447843059606726, 40.44787420027847, 40.44796080978107, 40.4480934072743, 40.44823860176034, 40.44837100817347, 40.44851922089712, 40.448559210166536, 40.44855748851869, 40.448542798160965, 40.4485260400231, 40.44852183194181, 40.44853127256408, 40.4485344442016, 40.4485326041995, 40.44852457363588, 40.448522960829514, 40.44851984344957, 40.44851503863682, 40.44851030188291, 40.44850159449954, 40.44848641574789, 40.44845126769182, 40.44842237362099, 40.4483977302919, 40.448372302969815, 40.44834862222953, 40.448340280257796, 40.44833943094953, 40.44836112156319, 40.44842102703932, 40.44850876053394, 40.448618201943525, 40.448742581742366, 40.44890305938104, 40.449078780250936, 40.44925820038981, 40.44951466543828, 40.44966100032818, 40.4497824322774, 40.44988437724639, 40.4499687092616, 40.450017996213894, 40.45004616590397, 40.45004985653404, 40.45006127314143, 40.45006238274782, 40.45006535433086, 40.45007295872518, 40.450075338598396, 40.450101585462534, 40.45015380046655, 40.450242880540436, 40.450349479084814, 40.45046570703184, 40.450690040097605, 40.450873894800324, 40.45105503619113, 40.451235874892404, 40.45139596117038, 40.4516589354424, 40.451799452664545, 40.45193194673157, 40.45202709020315, 40.452096985931014, 40.45212509833601, 40.45201224230819, 40.452113618131676, 40.452113618131676, 40.45212402179659, 40.45215082809134, 40.452194619309616], \"line\": {\"color\": \"purple\", \"width\": 2}, \"lon\": [-3.7052010468764154, -3.7050899967822875, -3.7053149681954443, -3.7053336569009763, -3.705327954445885, -3.7053267335216264, -3.705345735521233, -3.7053508822534305, -3.705359968990183, -3.7053656667916703, -3.705370089239909, -3.705382651541665, -3.705400451370943, -3.7054113128097153, -3.7054130090075166, -3.705442918120206, -3.70543633604038, -3.705450656117454, -3.7054970782680794, -3.705533827702722, -3.7055666434074426, -3.7055689894718, -3.705552704323477, -3.7055352746418793, -3.7055300867798002, -3.7055284208945, -3.7055275767053955, -3.7055274150366455, -3.705531428284225, -3.7055295070686007, -3.7055295070686007, -3.7055295070686007, -3.705532963430742, -3.7055436354875217, -3.7055862633940233, -3.7056295655179983, -3.70566694281025, -3.705697109185908, -3.705725859435428, -3.705743570489259, -3.7057404578769466, -3.7057404578769466, -3.7057566568387976, -3.705834925440593, -3.705993492532433, -3.7061938854068637, -3.7064110405189066, -3.706642517786405, -3.7068675744665724, -3.7070737719493896, -3.707274653486256, -3.7074578083655942, -3.7076188684573625, -3.7077974162489538, -3.707886075567274, -3.7079183476018693, -3.707909026855082, -3.707907606005725, -3.707907606005725, -3.707907606005725, -3.707907606005725, -3.707907606005725, -3.707907606005725, -3.7079093439405737, -3.7079438990257265, -3.7080207208452407, -3.708125138429427, -3.7082400907785056, -3.70836292530595, -3.7085119353880653, -3.7087506170354305, -3.7088814583816996, -3.7090052947707455, -3.7091344654316245, -3.7092669381525467, -3.709412511120793, -3.7095783393394752, -3.7097251903702153, -3.7098621666392595, -3.7100002439002693, -3.710130821188961, -3.710261041548992, -3.710398626407592, -3.710541507984318, -3.7106781344159447, -3.710799112933124, -3.7108902772247068, -3.710913512190139, -3.7109385657996885, -3.7109256188373605, -3.7109287431020825, -3.710950547538286, -3.7110114516257906, -3.7111446912706887, -3.7112675982150614, -3.7113934420127452, -3.7114994490712383, -3.711581420635266, -3.7116374179125757, -3.7116908034815705, -3.7117186201329773, -3.7117167100890103, -3.7117148042080332, -3.7117148042080332, -3.7117148042080332, -3.7117148042080332, -3.7117148042080332, -3.7117148042080332, -3.711729513237492, -3.7117898755620478, -3.7118780419581947, -3.7119646387046132, -3.712070446354489, -3.712199274166417, -3.7123578480097397, -3.712549317337179, -3.7127665542345016, -3.7129990309855065, -3.7132184177164334, -3.713411325274393, -3.713564604769254, -3.7137213018084823, -3.7137459585255685, -3.7137857384555595, -3.713837372628031, -3.713892530797555, -3.7139358323783833, -3.7139400156377373, -3.713930783056254, -3.713926735990964, -3.713926735990964, -3.713926735990964, -3.713926735990964, -3.7139293415425034, -3.713941890023651, -3.7139345004324835, -3.7140208705872046, -3.71409669758787, -3.7142059885483354, -3.7142738596168545, -3.7143312686535714, -3.714366007281548, -3.7144077471435977, -3.714485993211807, -3.7145978945784113, -3.714724226712357, -3.7148492091518595, -3.7150195623901623, -3.7152164487366273, -3.715431541694746, -3.7156385220959467, -3.715919125448928, -3.716080979713336, -3.7161737098676095, -3.716219234073622, -3.716246984031062, -3.7162519723438385, -3.716240826489752, -3.716237810890956, -3.716237810890956, -3.716237810890956, -3.716237810890956, -3.716237810890956, -3.716237810890956, -3.716237810890956, -3.716237810890956, -3.7162389207150985, -3.7162974767297543, -3.7163753052879747, -3.716449456264717, -3.71649740587723, -3.7165136692846157, -3.716509221208434, -3.7165042287173606, -3.7165042287173606, -3.7165042287173606, -3.7165033875941718, -3.7165037108721832, -3.7164884610887525, -3.7165144668048384, -3.716592224925223, -3.7167956164696014, -3.7169500575652763, -3.717086400174914, -3.7171711535479175, -3.7171951317475043, -3.7171804008584313, -3.717173098083573, -3.7171786428796563, -3.7171786428796563, -3.7171786428796563, -3.7171786428796563, -3.7171786428796563, -3.71718598728283, -3.7172446693373744, -3.717353227191062, -3.7175261436395957, -3.7177531000769437, -3.71813260078039, -3.7183699046595526, -3.7186033546194124, -3.718842774997474, -3.71907467546899, -3.7193104078372357, -3.719538294604374, -3.7197636541898658, -3.7199766080211254, -3.720174650397203, -3.7203544993048165, -3.720506094218353, -3.720613966389129, -3.7206704640776156, -3.7206713632935724, -3.72066914631062, -3.72066914631062, -3.7206743414562435, -3.7207226004630205, -3.720840806394777, -3.721030221278264, -3.7212428041179413, -3.7214670134667744, -3.721743972026, -3.7220039582173263, -3.722277681158739, -3.7225622105785887, -3.722852641947117, -3.723146507266807, -3.723426049797007, -3.723675798435602, -3.7239819330199992, -3.7241233280183947, -3.7241964167216186, -3.7242176935197198, -3.7242208714441936, -3.7242246859408863, -3.7242302178883926, -3.7242528345597408, -3.72427918214839, -3.7243297776141486, -3.7244147901169375, -3.7245208385822166, -3.724636938721136, -3.7247390839039065, -3.7247941719353816, -3.724822478781897, -3.7248633421614596, -3.7250040858667552, -3.725139170858053, -3.725278571637065, -3.725414183716755, -3.7255357031856566, -3.725652573970368, -3.7257455259563166, -3.7257757549959156, -3.7257618244205686, -3.7257362854557337, -3.7257282637624245, -3.7257340515465365, -3.7257391444685286, -3.7257543523526047, -3.725802178564007, -3.7258884674522434, -3.7260809594333937, -3.726241584059163, -3.7264197834655537, -3.7265890488932842, -3.7267288621017074, -3.7268365320933503, -3.726933187605345, -3.7270305084703623, -3.72712373578382, -3.7271702445280166, -3.727213330521421, -3.727267820744127, -3.727314311158664, -3.7273646831970066, -3.7274151271378657, -3.727479285314048, -3.727512238676782, -3.7275187433039263, -3.727521379372542, -3.727524842379147, -3.727531012472255, -3.727534590978699, -3.7275312766791475, -3.727529792681699, -3.7275289823908735, -3.727527942014814, -3.727523640547289, -3.727522795294742, -3.7275191916167763, -3.7275183326946495, -3.7275347482132664, -3.7275634999661924, -3.7275852229586235, -3.7276175992288354, -3.7276371302296285, -3.727653131002257, -3.727670483296761, -3.72765180815229, -3.7277108867356206, -3.7277195903074367, -3.7277332970027888, -3.7277550952809753, -3.7277640849592752, -3.7277670016863493, -3.727717556723474, -3.7277667737340807, -3.7277667737340807, -3.727757415770494, -3.7277511586472576, -3.727734681278653], \"mode\": \"lines\", \"text\": \"\", \"type\": \"scattermapbox\"}, {\"hoverinfo\": \"text\", \"lat\": [40.44707171994283, 40.44666101476202, 40.44640232251827, 40.44916468154292, 40.44867901544052, 40.44788880511345, 40.4485344442016, 40.450032549795914, 40.45201166670896], \"lon\": [-3.707847145234947, -3.710908011685828, -3.7139192373085717, -3.7171951317475043, -3.7206704640776156, -3.72420879231141, -3.7257757549959156, -3.727532981608124, -3.7277144550235803], \"marker\": {\"color\": \"green\", \"opacity\": 0.7, \"size\": 5}, \"mode\": \"markers\", \"text\": [\"Stop: 1418\", \"Stop: 1416\", \"Stop: 2712\", \"Stop: 3278\", \"Stop: 5140\", \"Stop: 3292\", \"Stop: 3274\", \"Stop: 1693\", \"Stop: 4285\"], \"type\": \"scattermapbox\"}],\n",
       "                        {\"height\": 500, \"hovermode\": \"closest\", \"mapbox\": {\"accesstoken\": \"pk.eyJ1IjoiYWxlanAxOTk4IiwiYSI6ImNrNnFwMmM0dDE2OHYzZXFwazZiZTdmbGcifQ.k5qPtvMgar7i9cbQx1fP0w\", \"bearing\": 0, \"center\": {\"lat\": 40.44799083411279, \"lon\": -3.7162118725312467}, \"pitch\": 0, \"style\": \"mapbox://styles/alejp1998/ck6z9mohb25ni1iod4sqvqa0d\", \"zoom\": 14}, \"margin\": {\"b\": 0, \"l\": 0, \"r\": 0, \"t\": 0}, \"showlegend\": false, \"template\": {\"data\": {\"bar\": [{\"error_x\": {\"color\": \"#2a3f5f\"}, \"error_y\": {\"color\": \"#2a3f5f\"}, \"marker\": {\"line\": {\"color\": \"white\", \"width\": 0.5}}, \"type\": \"bar\"}], \"barpolar\": [{\"marker\": {\"line\": {\"color\": \"white\", \"width\": 0.5}}, \"type\": \"barpolar\"}], \"carpet\": [{\"aaxis\": {\"endlinecolor\": \"#2a3f5f\", \"gridcolor\": \"#C8D4E3\", \"linecolor\": \"#C8D4E3\", \"minorgridcolor\": \"#C8D4E3\", \"startlinecolor\": \"#2a3f5f\"}, \"baxis\": {\"endlinecolor\": \"#2a3f5f\", \"gridcolor\": \"#C8D4E3\", \"linecolor\": \"#C8D4E3\", \"minorgridcolor\": \"#C8D4E3\", \"startlinecolor\": \"#2a3f5f\"}, \"type\": \"carpet\"}], \"choropleth\": [{\"colorbar\": {\"outlinewidth\": 0, \"ticks\": \"\"}, \"type\": \"choropleth\"}], \"contour\": [{\"colorbar\": {\"outlinewidth\": 0, \"ticks\": \"\"}, \"colorscale\": [[0.0, \"#0d0887\"], [0.1111111111111111, \"#46039f\"], [0.2222222222222222, \"#7201a8\"], [0.3333333333333333, \"#9c179e\"], [0.4444444444444444, \"#bd3786\"], [0.5555555555555556, \"#d8576b\"], [0.6666666666666666, \"#ed7953\"], [0.7777777777777778, \"#fb9f3a\"], [0.8888888888888888, \"#fdca26\"], [1.0, \"#f0f921\"]], \"type\": \"contour\"}], \"contourcarpet\": [{\"colorbar\": {\"outlinewidth\": 0, \"ticks\": \"\"}, \"type\": \"contourcarpet\"}], \"heatmap\": [{\"colorbar\": {\"outlinewidth\": 0, \"ticks\": \"\"}, \"colorscale\": [[0.0, \"#0d0887\"], [0.1111111111111111, \"#46039f\"], [0.2222222222222222, \"#7201a8\"], [0.3333333333333333, \"#9c179e\"], [0.4444444444444444, \"#bd3786\"], [0.5555555555555556, \"#d8576b\"], [0.6666666666666666, \"#ed7953\"], [0.7777777777777778, \"#fb9f3a\"], [0.8888888888888888, \"#fdca26\"], [1.0, \"#f0f921\"]], \"type\": \"heatmap\"}], \"heatmapgl\": [{\"colorbar\": {\"outlinewidth\": 0, \"ticks\": \"\"}, \"colorscale\": [[0.0, \"#0d0887\"], [0.1111111111111111, \"#46039f\"], [0.2222222222222222, \"#7201a8\"], [0.3333333333333333, \"#9c179e\"], [0.4444444444444444, \"#bd3786\"], [0.5555555555555556, \"#d8576b\"], [0.6666666666666666, \"#ed7953\"], [0.7777777777777778, \"#fb9f3a\"], [0.8888888888888888, \"#fdca26\"], [1.0, \"#f0f921\"]], \"type\": \"heatmapgl\"}], \"histogram\": [{\"marker\": {\"colorbar\": {\"outlinewidth\": 0, \"ticks\": \"\"}}, \"type\": \"histogram\"}], \"histogram2d\": [{\"colorbar\": {\"outlinewidth\": 0, \"ticks\": \"\"}, \"colorscale\": [[0.0, \"#0d0887\"], [0.1111111111111111, \"#46039f\"], [0.2222222222222222, \"#7201a8\"], [0.3333333333333333, \"#9c179e\"], [0.4444444444444444, \"#bd3786\"], [0.5555555555555556, \"#d8576b\"], [0.6666666666666666, \"#ed7953\"], [0.7777777777777778, \"#fb9f3a\"], [0.8888888888888888, \"#fdca26\"], [1.0, \"#f0f921\"]], \"type\": \"histogram2d\"}], \"histogram2dcontour\": [{\"colorbar\": {\"outlinewidth\": 0, \"ticks\": \"\"}, \"colorscale\": [[0.0, \"#0d0887\"], [0.1111111111111111, \"#46039f\"], [0.2222222222222222, \"#7201a8\"], [0.3333333333333333, \"#9c179e\"], [0.4444444444444444, \"#bd3786\"], [0.5555555555555556, \"#d8576b\"], [0.6666666666666666, \"#ed7953\"], [0.7777777777777778, \"#fb9f3a\"], [0.8888888888888888, \"#fdca26\"], [1.0, \"#f0f921\"]], \"type\": \"histogram2dcontour\"}], \"mesh3d\": [{\"colorbar\": {\"outlinewidth\": 0, \"ticks\": \"\"}, \"type\": \"mesh3d\"}], \"parcoords\": [{\"line\": {\"colorbar\": {\"outlinewidth\": 0, \"ticks\": \"\"}}, \"type\": \"parcoords\"}], \"pie\": [{\"automargin\": true, \"type\": \"pie\"}], \"scatter\": [{\"marker\": {\"colorbar\": {\"outlinewidth\": 0, \"ticks\": \"\"}}, \"type\": \"scatter\"}], \"scatter3d\": [{\"line\": {\"colorbar\": {\"outlinewidth\": 0, \"ticks\": \"\"}}, \"marker\": {\"colorbar\": {\"outlinewidth\": 0, \"ticks\": \"\"}}, \"type\": \"scatter3d\"}], \"scattercarpet\": [{\"marker\": {\"colorbar\": {\"outlinewidth\": 0, \"ticks\": \"\"}}, \"type\": \"scattercarpet\"}], \"scattergeo\": [{\"marker\": {\"colorbar\": {\"outlinewidth\": 0, \"ticks\": \"\"}}, \"type\": \"scattergeo\"}], \"scattergl\": [{\"marker\": {\"colorbar\": {\"outlinewidth\": 0, \"ticks\": \"\"}}, \"type\": \"scattergl\"}], \"scattermapbox\": [{\"marker\": {\"colorbar\": {\"outlinewidth\": 0, \"ticks\": \"\"}}, \"type\": \"scattermapbox\"}], \"scatterpolar\": [{\"marker\": {\"colorbar\": {\"outlinewidth\": 0, \"ticks\": \"\"}}, \"type\": \"scatterpolar\"}], \"scatterpolargl\": [{\"marker\": {\"colorbar\": {\"outlinewidth\": 0, \"ticks\": \"\"}}, \"type\": \"scatterpolargl\"}], \"scatterternary\": [{\"marker\": {\"colorbar\": {\"outlinewidth\": 0, \"ticks\": \"\"}}, \"type\": \"scatterternary\"}], \"surface\": [{\"colorbar\": {\"outlinewidth\": 0, \"ticks\": \"\"}, \"colorscale\": [[0.0, \"#0d0887\"], [0.1111111111111111, \"#46039f\"], [0.2222222222222222, \"#7201a8\"], [0.3333333333333333, \"#9c179e\"], [0.4444444444444444, \"#bd3786\"], [0.5555555555555556, \"#d8576b\"], [0.6666666666666666, \"#ed7953\"], [0.7777777777777778, \"#fb9f3a\"], [0.8888888888888888, \"#fdca26\"], [1.0, \"#f0f921\"]], \"type\": \"surface\"}], \"table\": [{\"cells\": {\"fill\": {\"color\": \"#EBF0F8\"}, \"line\": {\"color\": \"white\"}}, \"header\": {\"fill\": {\"color\": \"#C8D4E3\"}, \"line\": {\"color\": \"white\"}}, \"type\": \"table\"}]}, \"layout\": {\"annotationdefaults\": {\"arrowcolor\": \"#2a3f5f\", \"arrowhead\": 0, \"arrowwidth\": 1}, \"coloraxis\": {\"colorbar\": {\"outlinewidth\": 0, \"ticks\": \"\"}}, \"colorscale\": {\"diverging\": [[0, \"#8e0152\"], [0.1, \"#c51b7d\"], [0.2, \"#de77ae\"], [0.3, \"#f1b6da\"], [0.4, \"#fde0ef\"], [0.5, \"#f7f7f7\"], [0.6, \"#e6f5d0\"], [0.7, \"#b8e186\"], [0.8, \"#7fbc41\"], [0.9, \"#4d9221\"], [1, \"#276419\"]], \"sequential\": [[0.0, \"#0d0887\"], [0.1111111111111111, \"#46039f\"], [0.2222222222222222, \"#7201a8\"], [0.3333333333333333, \"#9c179e\"], [0.4444444444444444, \"#bd3786\"], [0.5555555555555556, \"#d8576b\"], [0.6666666666666666, \"#ed7953\"], [0.7777777777777778, \"#fb9f3a\"], [0.8888888888888888, \"#fdca26\"], [1.0, \"#f0f921\"]], \"sequentialminus\": [[0.0, \"#0d0887\"], [0.1111111111111111, \"#46039f\"], [0.2222222222222222, \"#7201a8\"], [0.3333333333333333, \"#9c179e\"], [0.4444444444444444, \"#bd3786\"], [0.5555555555555556, \"#d8576b\"], [0.6666666666666666, \"#ed7953\"], [0.7777777777777778, \"#fb9f3a\"], [0.8888888888888888, \"#fdca26\"], [1.0, \"#f0f921\"]]}, \"colorway\": [\"#636efa\", \"#EF553B\", \"#00cc96\", \"#ab63fa\", \"#FFA15A\", \"#19d3f3\", \"#FF6692\", \"#B6E880\", \"#FF97FF\", \"#FECB52\"], \"font\": {\"color\": \"#2a3f5f\"}, \"geo\": {\"bgcolor\": \"white\", \"lakecolor\": \"white\", \"landcolor\": \"white\", \"showlakes\": true, \"showland\": true, \"subunitcolor\": \"#C8D4E3\"}, \"hoverlabel\": {\"align\": \"left\"}, \"hovermode\": \"closest\", \"mapbox\": {\"style\": \"light\"}, \"paper_bgcolor\": \"white\", \"plot_bgcolor\": \"white\", \"polar\": {\"angularaxis\": {\"gridcolor\": \"#EBF0F8\", \"linecolor\": \"#EBF0F8\", \"ticks\": \"\"}, \"bgcolor\": \"white\", \"radialaxis\": {\"gridcolor\": \"#EBF0F8\", \"linecolor\": \"#EBF0F8\", \"ticks\": \"\"}}, \"scene\": {\"xaxis\": {\"backgroundcolor\": \"white\", \"gridcolor\": \"#DFE8F3\", \"gridwidth\": 2, \"linecolor\": \"#EBF0F8\", \"showbackground\": true, \"ticks\": \"\", \"zerolinecolor\": \"#EBF0F8\"}, \"yaxis\": {\"backgroundcolor\": \"white\", \"gridcolor\": \"#DFE8F3\", \"gridwidth\": 2, \"linecolor\": \"#EBF0F8\", \"showbackground\": true, \"ticks\": \"\", \"zerolinecolor\": \"#EBF0F8\"}, \"zaxis\": {\"backgroundcolor\": \"white\", \"gridcolor\": \"#DFE8F3\", \"gridwidth\": 2, \"linecolor\": \"#EBF0F8\", \"showbackground\": true, \"ticks\": \"\", \"zerolinecolor\": \"#EBF0F8\"}}, \"shapedefaults\": {\"line\": {\"color\": \"#2a3f5f\"}}, \"ternary\": {\"aaxis\": {\"gridcolor\": \"#DFE8F3\", \"linecolor\": \"#A2B1C6\", \"ticks\": \"\"}, \"baxis\": {\"gridcolor\": \"#DFE8F3\", \"linecolor\": \"#A2B1C6\", \"ticks\": \"\"}, \"bgcolor\": \"white\", \"caxis\": {\"gridcolor\": \"#DFE8F3\", \"linecolor\": \"#A2B1C6\", \"ticks\": \"\"}}, \"title\": {\"x\": 0.05}, \"xaxis\": {\"automargin\": true, \"gridcolor\": \"#EBF0F8\", \"linecolor\": \"#EBF0F8\", \"ticks\": \"\", \"title\": {\"standoff\": 15}, \"zerolinecolor\": \"#EBF0F8\", \"zerolinewidth\": 2}, \"yaxis\": {\"automargin\": true, \"gridcolor\": \"#EBF0F8\", \"linecolor\": \"#EBF0F8\", \"ticks\": \"\", \"title\": {\"standoff\": 15}, \"zerolinecolor\": \"#EBF0F8\", \"zerolinewidth\": 2}}}, \"title\": {\"text\": \"Pair bus coords when it arrives to stop vs the coords of that stop\"}},\n",
       "                        {\"responsive\": true}\n",
       "                    ).then(function(){\n",
       "                            \n",
       "var gd = document.getElementById('aa59f1f5-6aa7-45f6-84d8-fbf5fe5a838e');\n",
       "var x = new MutationObserver(function (mutations, observer) {{\n",
       "        var display = window.getComputedStyle(gd).display;\n",
       "        if (!display || display === 'none') {{\n",
       "            console.log([gd, 'removed!']);\n",
       "            Plotly.purge(gd);\n",
       "            observer.disconnect();\n",
       "        }}\n",
       "}});\n",
       "\n",
       "// Listen for the removal of the full notebook cells\n",
       "var notebookContainer = gd.closest('#notebook-container');\n",
       "if (notebookContainer) {{\n",
       "    x.observe(notebookContainer, {childList: true});\n",
       "}}\n",
       "\n",
       "// Listen for the clearing of the current output cell\n",
       "var outputEl = gd.closest('.output');\n",
       "if (outputEl) {{\n",
       "    x.observe(outputEl, {childList: true});\n",
       "}}\n",
       "\n",
       "                        })\n",
       "                };\n",
       "                });\n",
       "            </script>\n",
       "        </div>"
      ]
     },
     "metadata": {},
     "output_type": "display_data"
    }
   ],
   "source": [
    "#Token and styles for the mapbox api\n",
    "mapbox_access_token = 'pk.eyJ1IjoiYWxlanAxOTk4IiwiYSI6ImNrNnFwMmM0dDE2OHYzZXFwazZiZTdmbGcifQ.k5qPtvMgar7i9cbQx1fP0w'\n",
    "style_day = 'mapbox://styles/alejp1998/ck6z9mohb25ni1iod4sqvqa0d'\n",
    "\n",
    "#Data\n",
    "lats = bus_tracked.lat.tolist()\n",
    "lons = bus_tracked.lon.tolist()\n",
    "stop_lats = stops_tracked.lat.tolist()\n",
    "stop_lons = stops_tracked.lon.tolist()\n",
    "stop_names = stops_tracked.stop.tolist()\n",
    "\n",
    "#We create the figure object\n",
    "fig = go.Figure()\n",
    "\n",
    "fig.add_trace(go.Scattermapbox(\n",
    "    lat=lats,\n",
    "    lon=lons,\n",
    "    mode='lines',\n",
    "    line=dict(width=2, color='purple'),\n",
    "    text='',\n",
    "    hoverinfo='text'\n",
    "))\n",
    "\n",
    "#Add buses to figure\n",
    "fig.add_trace(go.Scattermapbox(\n",
    "    lat=stop_lats,\n",
    "    lon=stop_lons,\n",
    "    mode='markers',\n",
    "    marker=go.scattermapbox.Marker(\n",
    "        size=5,\n",
    "        color='green',\n",
    "        opacity=0.7\n",
    "    ),\n",
    "    text=['Stop: {}'.format(stop) for stop in stop_names],\n",
    "    hoverinfo='text'\n",
    "))\n",
    "\n",
    "#And set the figure layout\n",
    "fig.update_layout(\n",
    "    title='Pair bus coords when it arrives to stop vs the coords of that stop',\n",
    "    height=500,\n",
    "    margin=dict(r=0, l=0, t=0, b=0),\n",
    "    hovermode='closest',\n",
    "    showlegend=False,\n",
    "    mapbox=dict(\n",
    "        accesstoken=mapbox_access_token,\n",
    "        bearing=0,\n",
    "        center=dict(\n",
    "            lat=statistics.mean(lats),\n",
    "            lon=statistics.mean(lons)\n",
    "        ),\n",
    "        pitch=0,\n",
    "        zoom=14,\n",
    "        style=style_day\n",
    "    )\n",
    ")"
   ]
  },
  {
   "cell_type": "markdown",
   "metadata": {},
   "source": [
    "## Arrival time of the bus\n",
    "We cannot determine the real moment when the bus arrived each stop, but whe can develop an estimator for that time. Here we are going to choose that estimator and try to guess its quality"
   ]
  },
  {
   "cell_type": "code",
   "execution_count": 76,
   "metadata": {},
   "outputs": [
    {
     "data": {
      "application/vnd.plotly.v1+json": {
       "config": {
        "plotlyServerURL": "https://plot.ly"
       },
       "data": [
        {
         "line": {
          "width": 1
         },
         "name": "F-8606",
         "type": "scatter",
         "x": [
          "2020-03-09T10:15:14.291579",
          "2020-03-09T10:15:19.273074",
          "2020-03-09T10:15:24.358194",
          "2020-03-09T10:15:29.377392",
          "2020-03-09T10:15:34.415921",
          "2020-03-09T10:15:39.387586",
          "2020-03-09T10:15:44.315381",
          "2020-03-09T10:15:49.409547",
          "2020-03-09T10:15:54.360084",
          "2020-03-09T10:15:59.426210",
          "2020-03-09T10:16:04.414333",
          "2020-03-09T10:16:09.367235",
          "2020-03-09T10:16:14.389615",
          "2020-03-09T10:16:19.393246",
          "2020-03-09T10:16:24.369738",
          "2020-03-09T10:16:29.399281",
          "2020-03-09T10:16:34.284164",
          "2020-03-09T10:16:39.403782",
          "2020-03-09T10:16:44.261734",
          "2020-03-09T10:16:49.353309",
          "2020-03-09T10:16:54.339332",
          "2020-03-09T10:16:59.359884",
          "2020-03-09T10:17:05.261131",
          "2020-03-09T10:17:09.416599",
          "2020-03-09T10:17:14.405313",
          "2020-03-09T10:17:19.385354",
          "2020-03-09T10:17:24.383666",
          "2020-03-09T10:17:29.401951",
          "2020-03-09T10:17:34.458310",
          "2020-03-09T10:17:39.385904",
          "2020-03-09T10:17:44.399085",
          "2020-03-09T10:17:49.365138",
          "2020-03-09T10:17:54.402072",
          "2020-03-09T10:17:59.420878",
          "2020-03-09T10:18:04.272648",
          "2020-03-09T10:18:09.371487",
          "2020-03-09T10:18:14.318164",
          "2020-03-09T10:18:19.447084",
          "2020-03-09T10:18:24.268468",
          "2020-03-09T10:18:29.395817",
          "2020-03-09T10:18:34.387857",
          "2020-03-09T10:18:39.438467",
          "2020-03-09T10:18:44.270344",
          "2020-03-09T10:18:49.410258",
          "2020-03-09T10:18:54.394276",
          "2020-03-09T10:18:59.412396",
          "2020-03-09T10:19:04.317460",
          "2020-03-09T10:19:09.309378",
          "2020-03-09T10:19:14.324243",
          "2020-03-09T10:19:19.312966",
          "2020-03-09T10:19:24.412814",
          "2020-03-09T10:19:29.471783",
          "2020-03-09T10:19:34.425923",
          "2020-03-09T10:19:39.371382",
          "2020-03-09T10:19:44.443748",
          "2020-03-09T10:19:49.380488",
          "2020-03-09T10:19:54.285436",
          "2020-03-09T10:19:59.451342",
          "2020-03-09T10:20:04.324307",
          "2020-03-09T10:20:09.356982",
          "2020-03-09T10:20:14.474154",
          "2020-03-09T10:20:19.364041",
          "2020-03-09T10:20:24.294261",
          "2020-03-09T10:20:29.410835",
          "2020-03-09T10:20:34.310828"
         ],
         "y": [
          1.73,
          1.708,
          1.686,
          1.664,
          1.642,
          1.615,
          1.597,
          1.575,
          1.374,
          1.35,
          1.327,
          1.304,
          1.28,
          1.257,
          1.233,
          1.21,
          1.186,
          1.026,
          1.004,
          0.981,
          0.959,
          0.937,
          0.91,
          0.892,
          0.869,
          0.847,
          0.825,
          0.668,
          0.648,
          0.628,
          0.608,
          0.588,
          0.624,
          0.603,
          0.582,
          0.56,
          0.539,
          0.518,
          0.496,
          0.475,
          0.453,
          0.432,
          0.411,
          0.389,
          0.368,
          0.347,
          0.325,
          0.304,
          0.282,
          0.174,
          0.149,
          0.123,
          0.098,
          0.128,
          0.101,
          0.075,
          0.048,
          0.022,
          0,
          0,
          0,
          0,
          0,
          0,
          0
         ]
        },
        {
         "line": {
          "width": 1
         },
         "name": "F-8606",
         "type": "scatter",
         "x": [
          "2020-03-09T10:43:14.528001",
          "2020-03-09T10:43:19.444530",
          "2020-03-09T10:43:24.666443",
          "2020-03-09T10:43:29.444923",
          "2020-03-09T10:43:34.509840",
          "2020-03-09T10:43:39.508321",
          "2020-03-09T10:43:44.573283",
          "2020-03-09T10:43:49.594041",
          "2020-03-09T10:43:54.600378",
          "2020-03-09T10:43:59.495523",
          "2020-03-09T10:44:04.523464",
          "2020-03-09T10:44:09.530148",
          "2020-03-09T10:44:14.456261",
          "2020-03-09T10:44:19.545580",
          "2020-03-09T10:44:24.604311",
          "2020-03-09T10:44:29.531821",
          "2020-03-09T10:44:34.455645",
          "2020-03-09T10:44:39.595453",
          "2020-03-09T10:44:44.620374",
          "2020-03-09T10:44:49.549761",
          "2020-03-09T10:44:54.524794",
          "2020-03-09T10:44:59.483967",
          "2020-03-09T10:45:04.569547",
          "2020-03-09T10:45:09.563125",
          "2020-03-09T10:45:16.617667",
          "2020-03-09T10:45:19.606759",
          "2020-03-09T10:45:24.597661",
          "2020-03-09T10:45:29.602946",
          "2020-03-09T10:45:34.619474",
          "2020-03-09T10:45:39.496129",
          "2020-03-09T10:45:44.576401",
          "2020-03-09T10:45:49.503252",
          "2020-03-09T10:45:54.582406",
          "2020-03-09T10:45:59.565945",
          "2020-03-09T10:46:04.929078",
          "2020-03-09T10:46:09.610937",
          "2020-03-09T10:46:14.601772",
          "2020-03-09T10:46:19.650154",
          "2020-03-09T10:46:24.526653",
          "2020-03-09T10:46:29.535336",
          "2020-03-09T10:46:34.574680",
          "2020-03-09T10:46:39.460713",
          "2020-03-09T10:46:44.558933",
          "2020-03-09T10:46:49.523930",
          "2020-03-09T10:46:54.744964",
          "2020-03-09T10:46:59.609746",
          "2020-03-09T10:47:04.509715",
          "2020-03-09T10:47:09.489161",
          "2020-03-09T10:47:14.487228",
          "2020-03-09T10:47:19.496949",
          "2020-03-09T10:47:24.627409",
          "2020-03-09T10:47:29.599761",
          "2020-03-09T10:47:34.555860",
          "2020-03-09T10:47:39.571676",
          "2020-03-09T10:47:44.569943",
          "2020-03-09T10:47:49.610355",
          "2020-03-09T10:47:54.646782",
          "2020-03-09T10:47:59.543485",
          "2020-03-09T10:48:04.525737",
          "2020-03-09T10:48:09.552204",
          "2020-03-09T10:48:14.652903",
          "2020-03-09T10:48:19.499034",
          "2020-03-09T10:48:24.551021",
          "2020-03-09T10:48:29.489667",
          "2020-03-09T10:48:34.455875",
          "2020-03-09T10:48:39.570332",
          "2020-03-09T10:48:44.592993",
          "2020-03-09T10:48:49.630514",
          "2020-03-09T10:48:54.639196",
          "2020-03-09T10:48:59.652688",
          "2020-03-09T10:49:04.567778",
          "2020-03-09T10:49:09.571632",
          "2020-03-09T10:49:14.564156",
          "2020-03-09T10:49:19.671134",
          "2020-03-09T10:49:24.530016",
          "2020-03-09T10:49:29.598482",
          "2020-03-09T10:49:34.555328",
          "2020-03-09T10:49:39.617189",
          "2020-03-09T10:49:44.631523",
          "2020-03-09T10:49:49.675136",
          "2020-03-09T10:49:54.660462",
          "2020-03-09T10:50:01.036054",
          "2020-03-09T10:50:04.489394",
          "2020-03-09T10:50:09.617049",
          "2020-03-09T10:50:14.653925",
          "2020-03-09T10:50:19.520939",
          "2020-03-09T10:50:24.510598",
          "2020-03-09T10:50:29.632550",
          "2020-03-09T10:50:34.659544",
          "2020-03-09T10:50:39.610968",
          "2020-03-09T10:50:44.614228",
          "2020-03-09T10:50:49.648727",
          "2020-03-09T10:50:54.629259",
          "2020-03-09T10:50:59.682460",
          "2020-03-09T10:51:04.617376",
          "2020-03-09T10:51:09.543356",
          "2020-03-09T10:51:14.628081",
          "2020-03-09T10:51:19.630340",
          "2020-03-09T10:51:24.632104",
          "2020-03-09T10:51:29.654030",
          "2020-03-09T10:51:34.492900",
          "2020-03-09T10:51:39.531663",
          "2020-03-09T10:51:44.507542",
          "2020-03-09T10:51:49.572063",
          "2020-03-09T10:51:54.511439",
          "2020-03-09T10:51:59.624642",
          "2020-03-09T10:52:04.640263",
          "2020-03-09T10:52:09.509494",
          "2020-03-09T10:52:14.499325",
          "2020-03-09T10:52:19.632170",
          "2020-03-09T10:52:24.664548",
          "2020-03-09T10:52:29.634647",
          "2020-03-09T10:52:34.594006",
          "2020-03-09T10:52:39.601325",
          "2020-03-09T10:52:44.484192",
          "2020-03-09T10:52:49.652224",
          "2020-03-09T10:52:54.658489",
          "2020-03-09T10:52:59.652201",
          "2020-03-09T10:53:04.629042",
          "2020-03-09T10:53:09.627118",
          "2020-03-09T10:53:14.686554",
          "2020-03-09T10:53:19.577492",
          "2020-03-09T10:53:24.600959",
          "2020-03-09T10:53:29.635990",
          "2020-03-09T10:53:34.513512",
          "2020-03-09T10:53:39.664162",
          "2020-03-09T10:53:44.654454",
          "2020-03-09T10:53:49.506381",
          "2020-03-09T10:53:54.678238",
          "2020-03-09T10:53:59.544664",
          "2020-03-09T10:54:04.607716",
          "2020-03-09T10:54:09.702888",
          "2020-03-09T10:54:14.538816",
          "2020-03-09T10:54:19.611251",
          "2020-03-09T10:54:24.585259",
          "2020-03-09T10:54:29.635419",
          "2020-03-09T10:54:34.660727",
          "2020-03-09T10:54:39.518246",
          "2020-03-09T10:54:44.501488",
          "2020-03-09T10:54:49.681574",
          "2020-03-09T10:54:54.619739",
          "2020-03-09T10:54:59.687029",
          "2020-03-09T10:55:04.581986",
          "2020-03-09T10:55:09.645939",
          "2020-03-09T10:55:14.528373",
          "2020-03-09T10:55:19.624826",
          "2020-03-09T10:55:24.663989",
          "2020-03-09T10:55:29.678838",
          "2020-03-09T10:55:34.707188",
          "2020-03-09T10:55:39.630131",
          "2020-03-09T10:55:44.640056",
          "2020-03-09T10:55:49.608299",
          "2020-03-09T10:55:54.605894",
          "2020-03-09T10:55:59.671630",
          "2020-03-09T10:56:04.583111",
          "2020-03-09T10:56:09.678437",
          "2020-03-09T10:56:14.718315",
          "2020-03-09T10:56:19.700122",
          "2020-03-09T10:56:24.634359",
          "2020-03-09T10:56:34.669263",
          "2020-03-09T10:56:39.635770",
          "2020-03-09T10:56:44.629955"
         ],
         "y": [
          2.623,
          2.607,
          2.591,
          2.575,
          2.559,
          2.543,
          2.528,
          2.512,
          2.496,
          2.48,
          2.464,
          2.448,
          2.432,
          2.417,
          2.401,
          2.385,
          2.369,
          2.595,
          2.577,
          2.559,
          2.54,
          2.522,
          2.504,
          2.486,
          2.46,
          2.45,
          2.431,
          2.599,
          2.58,
          2.56,
          2.541,
          2.521,
          2.502,
          2.482,
          2.459,
          2.443,
          2.424,
          2.404,
          2.384,
          2.365,
          2.345,
          2.326,
          2.306,
          2.287,
          2.594,
          2.571,
          2.553,
          2.531,
          2.509,
          2.486,
          2.464,
          2.441,
          2.419,
          2.397,
          2.374,
          2.352,
          2.329,
          2.307,
          2.285,
          2.262,
          2.24,
          2.217,
          2.195,
          2.173,
          2.15,
          2.382,
          2.359,
          2.336,
          2.313,
          2.291,
          2.268,
          2.245,
          2.222,
          2.199,
          2.177,
          2.154,
          2.131,
          2.108,
          2.085,
          2.063,
          2.04,
          2.008,
          1.994,
          1.971,
          1.948,
          1.926,
          1.903,
          1.88,
          1.857,
          1.834,
          1.812,
          1.789,
          1.766,
          1.743,
          1.72,
          1.698,
          1.675,
          1.652,
          1.629,
          1.606,
          1.584,
          1.561,
          1.428,
          1.402,
          1.376,
          1.35,
          1.324,
          1.298,
          1.271,
          1.245,
          1.219,
          1.193,
          1.167,
          1.141,
          1.114,
          1.015,
          0.991,
          0.967,
          0.943,
          0.919,
          0.757,
          0.74,
          0.715,
          0.693,
          0.676,
          0.65,
          0.629,
          0.612,
          0.586,
          0.569,
          0.548,
          0.522,
          0.505,
          0.484,
          0.462,
          0.437,
          0.474,
          0.453,
          0.431,
          0.41,
          0.389,
          0.367,
          0.262,
          0.241,
          0.22,
          0.2,
          0.179,
          0.213,
          0.19,
          0.175,
          0.155,
          0.136,
          0,
          0,
          0,
          0,
          0,
          0,
          0,
          0,
          0,
          0
         ]
        },
        {
         "line": {
          "width": 1
         },
         "name": "F-8607",
         "type": "scatter",
         "x": [
          "2020-03-09T10:20:39.295806",
          "2020-03-09T10:20:44.350090",
          "2020-03-09T10:20:49.525143",
          "2020-03-09T10:20:54.503251",
          "2020-03-09T10:20:59.432243",
          "2020-03-09T10:21:04.292141",
          "2020-03-09T10:21:09.402633",
          "2020-03-09T10:21:14.396797",
          "2020-03-09T10:21:19.448426",
          "2020-03-09T10:21:24.347856",
          "2020-03-09T10:21:29.428192",
          "2020-03-09T10:21:34.335669",
          "2020-03-09T10:21:39.468715",
          "2020-03-09T10:21:44.413172",
          "2020-03-09T10:21:49.428011",
          "2020-03-09T10:21:54.407754",
          "2020-03-09T10:21:59.459415",
          "2020-03-09T10:22:04.490360",
          "2020-03-09T10:22:09.507376",
          "2020-03-09T10:22:14.449948",
          "2020-03-09T10:22:19.495378",
          "2020-03-09T10:22:24.466133",
          "2020-03-09T10:22:29.332402",
          "2020-03-09T10:22:34.308517",
          "2020-03-09T10:22:39.375863",
          "2020-03-09T10:22:44.382991",
          "2020-03-09T10:22:49.479905",
          "2020-03-09T10:22:54.430529",
          "2020-03-09T10:22:59.410952",
          "2020-03-09T10:23:04.443648",
          "2020-03-09T10:23:09.468886",
          "2020-03-09T10:23:14.373860",
          "2020-03-09T10:23:19.445901",
          "2020-03-09T10:23:24.438152",
          "2020-03-09T10:23:29.455752",
          "2020-03-09T10:23:34.522162",
          "2020-03-09T10:23:39.416408",
          "2020-03-09T10:23:44.309587",
          "2020-03-09T10:23:49.452671",
          "2020-03-09T10:23:54.390569",
          "2020-03-09T10:23:59.359498",
          "2020-03-09T10:24:04.426740",
          "2020-03-09T10:24:09.308035",
          "2020-03-09T10:24:14.468489",
          "2020-03-09T10:24:19.344187",
          "2020-03-09T10:24:24.407086",
          "2020-03-09T10:24:29.464961",
          "2020-03-09T10:24:34.459078",
          "2020-03-09T10:24:40.196437",
          "2020-03-09T10:24:44.361696",
          "2020-03-09T10:24:49.416371",
          "2020-03-09T10:24:54.451349",
          "2020-03-09T10:24:59.452703",
          "2020-03-09T10:25:04.495087",
          "2020-03-09T10:25:09.345807",
          "2020-03-09T10:25:14.400362",
          "2020-03-09T10:25:19.482724",
          "2020-03-09T10:25:24.362084",
          "2020-03-09T10:25:29.445640",
          "2020-03-09T10:25:34.440821",
          "2020-03-09T10:25:39.455941",
          "2020-03-09T10:25:44.441334",
          "2020-03-09T10:25:49.449822",
          "2020-03-09T10:25:54.320482",
          "2020-03-09T10:25:59.414711",
          "2020-03-09T10:26:04.499527",
          "2020-03-09T10:26:09.390603",
          "2020-03-09T10:26:14.452546",
          "2020-03-09T10:26:19.329053",
          "2020-03-09T10:26:24.441433",
          "2020-03-09T10:26:29.389258",
          "2020-03-09T10:26:34.373801",
          "2020-03-09T10:26:39.509370",
          "2020-03-09T10:26:44.391903",
          "2020-03-09T10:26:49.493466",
          "2020-03-09T10:26:54.449879",
          "2020-03-09T10:26:59.485091",
          "2020-03-09T10:27:04.455771",
          "2020-03-09T10:27:09.489987",
          "2020-03-09T10:27:14.481484",
          "2020-03-09T10:27:19.409051",
          "2020-03-09T10:27:24.365041",
          "2020-03-09T10:27:29.438081",
          "2020-03-09T10:27:34.516485",
          "2020-03-09T10:27:39.506602",
          "2020-03-09T10:27:44.515262",
          "2020-03-09T10:27:49.432209",
          "2020-03-09T10:27:54.397544",
          "2020-03-09T10:27:59.459515",
          "2020-03-09T10:28:04.344958",
          "2020-03-09T10:28:09.470154",
          "2020-03-09T10:28:14.429994",
          "2020-03-09T10:28:19.451575",
          "2020-03-09T10:28:24.462565",
          "2020-03-09T10:28:30.403199",
          "2020-03-09T10:28:34.484629",
          "2020-03-09T10:28:39.516902",
          "2020-03-09T10:28:44.438960",
          "2020-03-09T10:28:49.405351",
          "2020-03-09T10:28:54.424073",
          "2020-03-09T10:28:59.377351",
          "2020-03-09T10:29:04.512007",
          "2020-03-09T10:29:09.402422",
          "2020-03-09T10:29:14.436999",
          "2020-03-09T10:29:19.489654",
          "2020-03-09T10:29:24.520388",
          "2020-03-09T10:29:29.487854",
          "2020-03-09T10:29:34.494792",
          "2020-03-09T10:29:39.426826",
          "2020-03-09T10:29:44.342058",
          "2020-03-09T10:29:49.495327",
          "2020-03-09T10:29:54.490719",
          "2020-03-09T10:29:59.456626",
          "2020-03-09T10:30:04.436055",
          "2020-03-09T10:30:09.484816",
          "2020-03-09T10:30:14.450447",
          "2020-03-09T10:30:19.519882",
          "2020-03-09T10:30:24.589946",
          "2020-03-09T10:30:29.348028",
          "2020-03-09T10:30:34.422601",
          "2020-03-09T10:30:39.350122",
          "2020-03-09T10:30:44.521398",
          "2020-03-09T10:30:49.504460",
          "2020-03-09T10:30:54.390710",
          "2020-03-09T10:30:59.493865",
          "2020-03-09T10:31:04.401280",
          "2020-03-09T10:31:09.572213",
          "2020-03-09T10:31:14.523531",
          "2020-03-09T10:31:19.482136",
          "2020-03-09T10:31:24.481101",
          "2020-03-09T10:31:29.430138",
          "2020-03-09T10:31:34.530196",
          "2020-03-09T10:31:39.491933",
          "2020-03-09T10:31:44.426921",
          "2020-03-09T10:31:49.444042",
          "2020-03-09T10:31:54.431056",
          "2020-03-09T10:31:59.426598"
         ],
         "y": [
          2.554,
          2.525,
          2.497,
          2.469,
          2.44,
          2.412,
          2.384,
          2.355,
          2.327,
          2.588,
          2.559,
          2.531,
          2.503,
          2.474,
          2.446,
          2.418,
          2.389,
          2.361,
          2.41,
          2.385,
          2.361,
          2.336,
          2.311,
          2.287,
          2.262,
          2.238,
          2.213,
          2.188,
          2.164,
          2.139,
          2.115,
          2.09,
          2.066,
          2.041,
          2.016,
          1.992,
          1.967,
          1.943,
          1.918,
          1.893,
          1.869,
          2.062,
          2.038,
          2.014,
          1.99,
          1.966,
          1.942,
          1.919,
          1.89,
          1.871,
          1.847,
          1.823,
          1.799,
          1.775,
          1.752,
          1.728,
          1.704,
          1.68,
          1.656,
          1.632,
          1.608,
          1.76,
          1.735,
          1.71,
          1.685,
          1.66,
          1.635,
          1.61,
          1.585,
          1.56,
          1.535,
          1.51,
          1.485,
          1.46,
          1.434,
          1.409,
          1.384,
          1.359,
          1.334,
          1.309,
          1.284,
          1.259,
          1.234,
          1.209,
          1.184,
          1.159,
          1.134,
          0.988,
          0.964,
          0.94,
          0.915,
          0.891,
          0.727,
          0.705,
          0.679,
          0.661,
          0.64,
          0.618,
          0.596,
          0.574,
          0.553,
          0.558,
          0.533,
          0.509,
          0.485,
          0.46,
          0.436,
          0.411,
          0.387,
          0.44,
          0.416,
          0.392,
          0.367,
          0.343,
          0.318,
          0.294,
          0.269,
          0.245,
          0.22,
          0.196,
          0.162,
          0.136,
          0.114,
          0.097,
          0.07,
          0.093,
          0.07,
          0.047,
          0.024,
          0,
          0,
          0,
          0,
          0,
          0,
          0,
          0
         ]
        },
        {
         "line": {
          "width": 1
         },
         "name": "F-8607",
         "type": "scatter",
         "x": [
          "2020-03-09T10:45:29.602946",
          "2020-03-09T10:45:34.619474",
          "2020-03-09T10:45:39.496129",
          "2020-03-09T10:45:44.576401",
          "2020-03-09T10:45:49.503252",
          "2020-03-09T10:45:54.582406",
          "2020-03-09T10:45:59.565945",
          "2020-03-09T10:46:04.929078",
          "2020-03-09T10:46:09.610937",
          "2020-03-09T10:46:14.601772",
          "2020-03-09T10:46:19.650154",
          "2020-03-09T10:46:24.526653",
          "2020-03-09T10:46:29.535336",
          "2020-03-09T10:46:34.574680",
          "2020-03-09T10:46:39.460713",
          "2020-03-09T10:46:44.558933",
          "2020-03-09T10:46:49.523930",
          "2020-03-09T10:46:54.744964",
          "2020-03-09T10:46:59.609746",
          "2020-03-09T10:47:04.509715",
          "2020-03-09T10:47:09.489161",
          "2020-03-09T10:47:14.487228",
          "2020-03-09T10:47:19.496949",
          "2020-03-09T10:47:24.627409",
          "2020-03-09T10:47:29.599761",
          "2020-03-09T10:47:34.555860",
          "2020-03-09T10:47:39.571676",
          "2020-03-09T10:47:44.569943",
          "2020-03-09T10:47:49.610355",
          "2020-03-09T10:47:54.646782",
          "2020-03-09T10:47:59.543485",
          "2020-03-09T10:48:04.525737",
          "2020-03-09T10:48:09.552204",
          "2020-03-09T10:48:14.652903",
          "2020-03-09T10:48:19.499034",
          "2020-03-09T10:48:24.551021",
          "2020-03-09T10:48:29.489667",
          "2020-03-09T10:48:34.455875",
          "2020-03-09T10:48:39.570332",
          "2020-03-09T10:48:44.592993",
          "2020-03-09T10:48:49.630514",
          "2020-03-09T10:48:54.639196",
          "2020-03-09T10:48:59.652688",
          "2020-03-09T10:49:04.567778",
          "2020-03-09T10:49:09.571632",
          "2020-03-09T10:49:14.564156",
          "2020-03-09T10:49:19.671134",
          "2020-03-09T10:49:24.530016",
          "2020-03-09T10:49:29.598482",
          "2020-03-09T10:49:34.555328",
          "2020-03-09T10:49:39.617189",
          "2020-03-09T10:49:44.631523",
          "2020-03-09T10:49:49.675136",
          "2020-03-09T10:49:54.660462",
          "2020-03-09T10:50:01.036054",
          "2020-03-09T10:50:04.489394",
          "2020-03-09T10:50:09.617049",
          "2020-03-09T10:50:14.653925",
          "2020-03-09T10:50:19.520939",
          "2020-03-09T10:50:24.510598",
          "2020-03-09T10:50:29.632550",
          "2020-03-09T10:50:34.659544",
          "2020-03-09T10:50:39.610968",
          "2020-03-09T10:50:44.614228",
          "2020-03-09T10:50:49.648727",
          "2020-03-09T10:50:54.629259",
          "2020-03-09T10:50:59.682460",
          "2020-03-09T10:51:04.617376",
          "2020-03-09T10:51:09.543356",
          "2020-03-09T10:51:14.628081",
          "2020-03-09T10:51:19.630340",
          "2020-03-09T10:51:24.632104",
          "2020-03-09T10:51:29.654030",
          "2020-03-09T10:51:34.492900",
          "2020-03-09T10:51:39.531663",
          "2020-03-09T10:51:44.507542",
          "2020-03-09T10:51:49.572063",
          "2020-03-09T10:51:54.511439",
          "2020-03-09T10:51:59.624642",
          "2020-03-09T10:52:04.640263",
          "2020-03-09T10:52:09.509494",
          "2020-03-09T10:52:14.499325",
          "2020-03-09T10:52:19.632170",
          "2020-03-09T10:52:24.664548",
          "2020-03-09T10:52:29.634647",
          "2020-03-09T10:52:34.594006",
          "2020-03-09T10:52:39.601325",
          "2020-03-09T10:52:44.484192",
          "2020-03-09T10:52:49.652224",
          "2020-03-09T10:52:54.658489",
          "2020-03-09T10:52:59.652201",
          "2020-03-09T10:53:04.629042",
          "2020-03-09T10:53:09.627118",
          "2020-03-09T10:53:14.686554",
          "2020-03-09T10:53:19.577492",
          "2020-03-09T10:53:24.600959",
          "2020-03-09T10:53:29.635990",
          "2020-03-09T10:53:34.513512",
          "2020-03-09T10:53:39.664162",
          "2020-03-09T10:53:44.654454",
          "2020-03-09T10:53:49.506381",
          "2020-03-09T10:53:54.678238",
          "2020-03-09T10:53:59.544664",
          "2020-03-09T10:54:04.607716",
          "2020-03-09T10:54:09.702888",
          "2020-03-09T10:54:14.538816",
          "2020-03-09T10:54:19.611251",
          "2020-03-09T10:54:24.585259",
          "2020-03-09T10:54:29.635419",
          "2020-03-09T10:54:34.660727",
          "2020-03-09T10:54:39.518246",
          "2020-03-09T10:54:44.501488",
          "2020-03-09T10:54:49.681574",
          "2020-03-09T10:54:54.619739",
          "2020-03-09T10:54:59.687029",
          "2020-03-09T10:55:04.581986",
          "2020-03-09T10:55:09.645939",
          "2020-03-09T10:55:14.528373",
          "2020-03-09T10:55:19.624826",
          "2020-03-09T10:55:24.663989",
          "2020-03-09T10:55:29.678838",
          "2020-03-09T10:55:34.707188",
          "2020-03-09T10:55:39.630131",
          "2020-03-09T10:55:44.640056",
          "2020-03-09T10:55:49.608299",
          "2020-03-09T10:55:54.605894",
          "2020-03-09T10:55:59.671630",
          "2020-03-09T10:56:04.583111",
          "2020-03-09T10:56:09.678437",
          "2020-03-09T10:56:14.718315",
          "2020-03-09T10:56:19.700122",
          "2020-03-09T10:56:24.634359",
          "2020-03-09T10:56:29.661099",
          "2020-03-09T10:56:34.669263",
          "2020-03-09T10:56:39.635770",
          "2020-03-09T10:56:44.629955",
          "2020-03-09T10:56:49.644746",
          "2020-03-09T10:56:54.642380",
          "2020-03-09T10:56:59.545956",
          "2020-03-09T10:57:04.681473",
          "2020-03-09T10:57:09.654995",
          "2020-03-09T10:57:14.614329",
          "2020-03-09T10:57:19.637066",
          "2020-03-09T10:57:24.670922",
          "2020-03-09T10:57:29.699214",
          "2020-03-09T10:57:34.647807",
          "2020-03-09T10:57:39.689541",
          "2020-03-09T10:57:44.595839",
          "2020-03-09T10:57:49.672161",
          "2020-03-09T10:57:54.664379",
          "2020-03-09T10:57:59.594332",
          "2020-03-09T10:58:04.707632",
          "2020-03-09T10:58:09.614195",
          "2020-03-09T10:58:14.588809",
          "2020-03-09T10:58:19.681629",
          "2020-03-09T10:58:24.649182",
          "2020-03-09T10:58:29.550912",
          "2020-03-09T10:58:34.687585",
          "2020-03-09T10:58:39.564990",
          "2020-03-09T10:58:44.526963",
          "2020-03-09T10:58:49.684971",
          "2020-03-09T10:58:54.558857",
          "2020-03-09T10:58:59.549023",
          "2020-03-09T10:59:04.613360",
          "2020-03-09T10:59:09.710614",
          "2020-03-09T10:59:14.645098",
          "2020-03-09T10:59:19.653849",
          "2020-03-09T10:59:24.700294",
          "2020-03-09T10:59:29.640677",
          "2020-03-09T10:59:34.678694",
          "2020-03-09T10:59:39.585706",
          "2020-03-09T10:59:44.673439",
          "2020-03-09T10:59:49.670600",
          "2020-03-09T10:59:54.685309",
          "2020-03-09T10:59:59.669000",
          "2020-03-09T11:00:04.631372",
          "2020-03-09T11:00:09.641897",
          "2020-03-09T11:00:14.706630",
          "2020-03-09T11:00:19.622114",
          "2020-03-09T11:00:24.628543",
          "2020-03-09T11:00:29.709759",
          "2020-03-09T11:00:34.690219",
          "2020-03-09T11:00:39.674111",
          "2020-03-09T11:00:44.646127",
          "2020-03-09T11:00:49.687179",
          "2020-03-09T11:00:54.597359",
          "2020-03-09T11:00:59.640065",
          "2020-03-09T11:01:04.694809",
          "2020-03-09T11:01:09.678989",
          "2020-03-09T11:01:14.603689",
          "2020-03-09T11:01:19.726386",
          "2020-03-09T11:01:24.616598",
          "2020-03-09T11:01:29.558828",
          "2020-03-09T11:01:34.689234",
          "2020-03-09T11:01:39.646076",
          "2020-03-09T11:01:44.654307",
          "2020-03-09T11:01:49.665018",
          "2020-03-09T11:01:54.701941",
          "2020-03-09T11:01:59.651911",
          "2020-03-09T11:02:04.714779",
          "2020-03-09T11:02:09.704366",
          "2020-03-09T11:02:14.682696",
          "2020-03-09T11:02:19.635148",
          "2020-03-09T11:02:24.702497",
          "2020-03-09T11:02:29.685350",
          "2020-03-09T11:02:34.707141",
          "2020-03-09T11:02:39.551544",
          "2020-03-09T11:02:44.691275",
          "2020-03-09T11:02:49.551238",
          "2020-03-09T11:02:54.709869",
          "2020-03-09T11:02:59.665358",
          "2020-03-09T11:03:04.715127",
          "2020-03-09T11:03:09.575124",
          "2020-03-09T11:03:14.636259",
          "2020-03-09T11:03:19.687612",
          "2020-03-09T11:03:24.724851",
          "2020-03-09T11:03:29.642752",
          "2020-03-09T11:03:34.790027",
          "2020-03-09T11:03:39.680936",
          "2020-03-09T11:03:44.746225",
          "2020-03-09T11:03:49.695415",
          "2020-03-09T11:03:54.698358",
          "2020-03-09T11:03:59.707909",
          "2020-03-09T11:04:04.722515",
          "2020-03-09T11:04:09.675955",
          "2020-03-09T11:04:14.683001",
          "2020-03-09T11:04:19.702923",
          "2020-03-09T11:04:24.639789",
          "2020-03-09T11:04:29.643860",
          "2020-03-09T11:04:34.760266",
          "2020-03-09T11:04:39.664993",
          "2020-03-09T11:04:44.676430",
          "2020-03-09T11:04:49.667881",
          "2020-03-09T11:04:54.684491",
          "2020-03-09T11:04:59.700439",
          "2020-03-09T11:05:04.723882",
          "2020-03-09T11:05:09.690988",
          "2020-03-09T11:05:14.699917",
          "2020-03-09T11:05:19.680458",
          "2020-03-09T11:05:24.733451",
          "2020-03-09T11:05:29.625495",
          "2020-03-09T11:05:34.678226",
          "2020-03-09T11:05:39.713333",
          "2020-03-09T11:05:44.702056",
          "2020-03-09T11:05:49.595301",
          "2020-03-09T11:05:55.847939",
          "2020-03-09T11:05:59.723024",
          "2020-03-09T11:06:04.675993",
          "2020-03-09T11:06:09.693927"
         ],
         "y": [
          4.077,
          4.058,
          4.039,
          4.02,
          4.001,
          3.982,
          3.963,
          3.94,
          3.925,
          3.906,
          3.887,
          3.868,
          3.849,
          3.83,
          3.811,
          3.793,
          3.774,
          3.755,
          3.736,
          3.717,
          3.698,
          3.679,
          3.66,
          3.641,
          3.622,
          3.603,
          3.584,
          3.565,
          3.546,
          3.527,
          3.508,
          3.489,
          3.471,
          3.452,
          3.433,
          3.414,
          3.395,
          3.376,
          3.357,
          3.338,
          3.319,
          3.3,
          3.281,
          3.262,
          3.243,
          3.224,
          3.205,
          3.186,
          3.167,
          3.149,
          3.13,
          3.111,
          3.092,
          3.073,
          3.046,
          3.035,
          3.016,
          2.997,
          2.616,
          2.6,
          2.584,
          2.567,
          2.551,
          2.535,
          2.519,
          2.503,
          2.487,
          2.471,
          2.454,
          2.438,
          2.422,
          2.406,
          2.39,
          2.374,
          2.358,
          2.588,
          2.57,
          2.553,
          2.535,
          2.517,
          2.499,
          2.481,
          2.463,
          2.445,
          2.427,
          2.409,
          2.392,
          2.374,
          2.623,
          2.603,
          2.583,
          2.563,
          2.543,
          2.523,
          2.503,
          2.483,
          2.463,
          2.444,
          2.424,
          2.404,
          2.587,
          2.561,
          2.544,
          2.518,
          2.496,
          2.479,
          2.453,
          2.431,
          2.41,
          2.61,
          2.587,
          2.564,
          2.54,
          2.517,
          2.494,
          2.47,
          2.447,
          2.423,
          2.4,
          2.377,
          2.608,
          2.583,
          2.558,
          2.533,
          2.508,
          2.482,
          2.457,
          2.432,
          2.407,
          2.382,
          2.534,
          2.506,
          2.478,
          2.45,
          2.422,
          2.394,
          2.512,
          2.484,
          2.456,
          2.428,
          2.4,
          2.372,
          2.344,
          2.316,
          2.288,
          2.26,
          2.232,
          2.204,
          2.176,
          2.148,
          2.12,
          2.092,
          2.064,
          2.036,
          2.008,
          1.98,
          1.952,
          1.924,
          2.035,
          2.005,
          1.974,
          1.944,
          1.913,
          1.883,
          1.852,
          1.822,
          1.791,
          1.761,
          1.731,
          1.7,
          1.67,
          1.639,
          1.609,
          1.578,
          1.773,
          1.741,
          1.71,
          1.678,
          1.647,
          1.615,
          1.584,
          1.552,
          1.521,
          1.489,
          1.458,
          1.426,
          1.394,
          1.363,
          1.331,
          1.3,
          1.268,
          1.237,
          1.412,
          1.379,
          1.347,
          1.314,
          1.281,
          1.248,
          1.215,
          1.182,
          1.15,
          1.117,
          1.084,
          1.051,
          0.96,
          0.93,
          0.901,
          0.871,
          0.842,
          0.813,
          0.783,
          0.754,
          0.724,
          0.695,
          0.666,
          0.636,
          0.607,
          0.577,
          0.548,
          0.518,
          0.489,
          0.46,
          0.43,
          0.401,
          0.371,
          0.342,
          0.312,
          0.283,
          0.254,
          0.224,
          0.302,
          0.273,
          0.243,
          0.214,
          0.184,
          0.154,
          0.125,
          0.095,
          0.066,
          0.102,
          0.072,
          0.042,
          0.012,
          0,
          0,
          0,
          0,
          0,
          0
         ]
        },
        {
         "line": {
          "width": 1
         },
         "name": "F-8604",
         "type": "scatter",
         "x": [
          "2020-03-09T10:25:44.441334",
          "2020-03-09T10:25:49.449822",
          "2020-03-09T10:25:54.320482",
          "2020-03-09T10:25:59.414711",
          "2020-03-09T10:26:04.499527",
          "2020-03-09T10:26:09.390603",
          "2020-03-09T10:26:14.452546",
          "2020-03-09T10:26:19.329053",
          "2020-03-09T10:26:24.441433",
          "2020-03-09T10:26:29.389258",
          "2020-03-09T10:26:34.373801",
          "2020-03-09T10:26:39.509370",
          "2020-03-09T10:26:44.391903",
          "2020-03-09T10:26:49.493466",
          "2020-03-09T10:26:54.449879",
          "2020-03-09T10:26:59.485091",
          "2020-03-09T10:27:04.455771",
          "2020-03-09T10:27:09.489987",
          "2020-03-09T10:27:14.481484",
          "2020-03-09T10:27:19.409051",
          "2020-03-09T10:27:24.365041",
          "2020-03-09T10:27:29.438081",
          "2020-03-09T10:27:34.516485",
          "2020-03-09T10:27:39.506602",
          "2020-03-09T10:27:44.515262",
          "2020-03-09T10:27:49.432209",
          "2020-03-09T10:27:54.397544",
          "2020-03-09T10:27:59.459515",
          "2020-03-09T10:28:04.344958",
          "2020-03-09T10:28:09.470154",
          "2020-03-09T10:28:14.429994",
          "2020-03-09T10:28:19.451575",
          "2020-03-09T10:28:24.462565",
          "2020-03-09T10:28:30.403199",
          "2020-03-09T10:28:34.484629",
          "2020-03-09T10:28:39.516902",
          "2020-03-09T10:28:44.438960",
          "2020-03-09T10:28:49.405351",
          "2020-03-09T10:28:54.424073",
          "2020-03-09T10:28:59.377351",
          "2020-03-09T10:29:04.512007",
          "2020-03-09T10:29:09.402422",
          "2020-03-09T10:29:14.436999",
          "2020-03-09T10:29:19.489654",
          "2020-03-09T10:29:24.520388",
          "2020-03-09T10:29:29.487854",
          "2020-03-09T10:29:34.494792",
          "2020-03-09T10:29:39.426826",
          "2020-03-09T10:29:44.342058",
          "2020-03-09T10:29:49.495327",
          "2020-03-09T10:29:54.490719",
          "2020-03-09T10:29:59.456626",
          "2020-03-09T10:30:04.436055",
          "2020-03-09T10:30:09.484816",
          "2020-03-09T10:30:14.450447",
          "2020-03-09T10:30:19.519882",
          "2020-03-09T10:30:24.589946",
          "2020-03-09T10:30:29.348028",
          "2020-03-09T10:30:34.422601",
          "2020-03-09T10:30:39.350122",
          "2020-03-09T10:30:44.521398",
          "2020-03-09T10:30:49.504460",
          "2020-03-09T10:30:54.390710",
          "2020-03-09T10:30:59.493865",
          "2020-03-09T10:31:04.401280",
          "2020-03-09T10:31:09.572213",
          "2020-03-09T10:31:14.523531",
          "2020-03-09T10:31:19.482136",
          "2020-03-09T10:31:24.481101",
          "2020-03-09T10:31:29.430138",
          "2020-03-09T10:31:34.530196",
          "2020-03-09T10:31:39.491933",
          "2020-03-09T10:31:44.426921",
          "2020-03-09T10:31:49.444042",
          "2020-03-09T10:31:54.431056",
          "2020-03-09T10:31:59.426598",
          "2020-03-09T10:32:05.539978",
          "2020-03-09T10:32:09.434372",
          "2020-03-09T10:32:14.352433",
          "2020-03-09T10:32:19.472168",
          "2020-03-09T10:32:24.374577",
          "2020-03-09T10:32:29.506733",
          "2020-03-09T10:32:34.391707",
          "2020-03-09T10:32:39.471869",
          "2020-03-09T10:32:44.466642",
          "2020-03-09T10:32:49.414490",
          "2020-03-09T10:32:54.428365",
          "2020-03-09T10:33:04.482345",
          "2020-03-09T10:32:59.515523",
          "2020-03-09T10:33:09.479278",
          "2020-03-09T10:33:14.460777",
          "2020-03-09T10:33:19.551205",
          "2020-03-09T10:33:24.500529",
          "2020-03-09T10:33:29.509452",
          "2020-03-09T10:33:34.498565",
          "2020-03-09T10:33:39.462341",
          "2020-03-09T10:33:44.509294",
          "2020-03-09T10:33:49.371000",
          "2020-03-09T10:33:54.483512",
          "2020-03-09T10:33:59.445313",
          "2020-03-09T10:34:04.406939"
         ],
         "y": [
          2.569,
          2.546,
          2.523,
          2.5,
          2.476,
          2.453,
          2.43,
          2.407,
          2.384,
          2.36,
          2.337,
          2.314,
          2.291,
          2.267,
          2.161,
          2.136,
          2.111,
          2.085,
          2.06,
          2.034,
          2.009,
          1.984,
          1.958,
          1.933,
          1.908,
          1.882,
          1.857,
          1.832,
          1.806,
          1.781,
          1.756,
          1.73,
          1.705,
          1.674,
          1.654,
          1.796,
          1.767,
          1.738,
          1.709,
          1.68,
          1.651,
          1.622,
          1.593,
          1.564,
          1.535,
          1.506,
          1.477,
          1.448,
          1.419,
          1.39,
          1.361,
          1.332,
          1.303,
          1.274,
          1.245,
          1.216,
          1.188,
          1.159,
          1.13,
          0.923,
          0.892,
          0.865,
          0.844,
          0.813,
          0.786,
          0.76,
          0.734,
          0.707,
          0.681,
          0.654,
          0.628,
          0.602,
          0.575,
          0.549,
          0.523,
          0.505,
          0.477,
          0.458,
          0.435,
          0.411,
          0.451,
          0.425,
          0.399,
          0.374,
          0.348,
          0.285,
          0.26,
          0.211,
          0.236,
          0.187,
          0.162,
          0.138,
          0.113,
          0.089,
          0.064,
          0.04,
          0,
          0,
          0,
          0,
          0
         ]
        },
        {
         "line": {
          "width": 1
         },
         "name": "F-8604",
         "type": "scatter",
         "x": [
          "2020-03-09T10:56:49.644746",
          "2020-03-09T10:56:54.642380",
          "2020-03-09T10:56:59.545956",
          "2020-03-09T10:57:04.681473",
          "2020-03-09T10:57:09.654995",
          "2020-03-09T10:57:14.614329",
          "2020-03-09T10:57:19.637066",
          "2020-03-09T10:57:24.670922",
          "2020-03-09T10:57:29.699214",
          "2020-03-09T10:57:34.647807",
          "2020-03-09T10:57:39.689541",
          "2020-03-09T10:57:44.595839",
          "2020-03-09T10:57:49.672161",
          "2020-03-09T10:57:54.664379",
          "2020-03-09T10:57:59.594332",
          "2020-03-09T10:58:04.707632",
          "2020-03-09T10:58:09.614195",
          "2020-03-09T10:58:14.588809",
          "2020-03-09T10:58:19.681629",
          "2020-03-09T10:58:24.649182",
          "2020-03-09T10:58:29.550912",
          "2020-03-09T10:58:34.687585",
          "2020-03-09T10:58:39.564990",
          "2020-03-09T10:58:44.526963",
          "2020-03-09T10:58:49.684971",
          "2020-03-09T10:58:54.558857",
          "2020-03-09T10:58:59.549023",
          "2020-03-09T10:59:04.613360",
          "2020-03-09T10:59:09.710614",
          "2020-03-09T10:59:14.645098",
          "2020-03-09T10:59:19.653849",
          "2020-03-09T10:59:24.700294",
          "2020-03-09T10:59:29.640677",
          "2020-03-09T10:59:34.678694",
          "2020-03-09T10:59:39.585706",
          "2020-03-09T10:59:44.673439",
          "2020-03-09T10:59:49.670600",
          "2020-03-09T10:59:54.685309",
          "2020-03-09T10:59:59.669000",
          "2020-03-09T11:00:04.631372",
          "2020-03-09T11:00:09.641897",
          "2020-03-09T11:00:14.706630",
          "2020-03-09T11:00:19.622114",
          "2020-03-09T11:00:24.628543",
          "2020-03-09T11:00:29.709759",
          "2020-03-09T11:00:34.690219",
          "2020-03-09T11:00:39.674111",
          "2020-03-09T11:00:44.646127",
          "2020-03-09T11:00:49.687179",
          "2020-03-09T11:00:54.597359",
          "2020-03-09T11:00:59.640065",
          "2020-03-09T11:01:04.694809",
          "2020-03-09T11:01:09.678989",
          "2020-03-09T11:01:14.603689",
          "2020-03-09T11:01:19.726386",
          "2020-03-09T11:01:24.616598",
          "2020-03-09T11:01:29.558828",
          "2020-03-09T11:01:34.689234",
          "2020-03-09T11:01:39.646076",
          "2020-03-09T11:01:44.654307",
          "2020-03-09T11:01:49.665018",
          "2020-03-09T11:01:54.701941",
          "2020-03-09T11:01:59.651911",
          "2020-03-09T11:02:04.714779",
          "2020-03-09T11:02:09.704366",
          "2020-03-09T11:02:14.682696",
          "2020-03-09T11:02:19.635148",
          "2020-03-09T11:02:24.702497",
          "2020-03-09T11:02:29.685350",
          "2020-03-09T11:02:34.707141",
          "2020-03-09T11:02:39.551544",
          "2020-03-09T11:02:44.691275",
          "2020-03-09T11:02:49.551238",
          "2020-03-09T11:02:54.709869",
          "2020-03-09T11:02:59.665358",
          "2020-03-09T11:03:04.715127",
          "2020-03-09T11:03:09.575124",
          "2020-03-09T11:03:14.636259",
          "2020-03-09T11:03:19.687612",
          "2020-03-09T11:03:24.724851",
          "2020-03-09T11:03:29.642752",
          "2020-03-09T11:03:34.790027",
          "2020-03-09T11:03:39.680936",
          "2020-03-09T11:03:44.746225",
          "2020-03-09T11:03:49.695415",
          "2020-03-09T11:03:54.698358",
          "2020-03-09T11:03:59.707909",
          "2020-03-09T11:04:04.722515",
          "2020-03-09T11:04:09.675955",
          "2020-03-09T11:04:14.683001",
          "2020-03-09T11:04:19.702923",
          "2020-03-09T11:04:24.639789",
          "2020-03-09T11:04:29.643860",
          "2020-03-09T11:04:34.760266",
          "2020-03-09T11:04:39.664993",
          "2020-03-09T11:04:44.676430",
          "2020-03-09T11:04:49.667881",
          "2020-03-09T11:04:54.684491",
          "2020-03-09T11:04:59.700439",
          "2020-03-09T11:05:04.723882",
          "2020-03-09T11:05:09.690988",
          "2020-03-09T11:05:14.699917",
          "2020-03-09T11:05:19.680458",
          "2020-03-09T11:05:24.733451",
          "2020-03-09T11:05:29.625495",
          "2020-03-09T11:05:34.678226",
          "2020-03-09T11:05:39.713333",
          "2020-03-09T11:05:44.702056",
          "2020-03-09T11:05:49.595301",
          "2020-03-09T11:05:55.847939",
          "2020-03-09T11:05:59.723024",
          "2020-03-09T11:06:04.675993",
          "2020-03-09T11:06:09.693927",
          "2020-03-09T11:06:14.768803",
          "2020-03-09T11:06:19.640015",
          "2020-03-09T11:06:24.608019",
          "2020-03-09T11:06:29.692301",
          "2020-03-09T11:06:34.586827",
          "2020-03-09T11:06:39.719080",
          "2020-03-09T11:06:44.623336",
          "2020-03-09T11:06:49.665350",
          "2020-03-09T11:06:54.585710",
          "2020-03-09T11:06:59.686702",
          "2020-03-09T11:07:04.738038",
          "2020-03-09T11:07:09.797487",
          "2020-03-09T11:07:14.725120",
          "2020-03-09T11:07:19.607528",
          "2020-03-09T11:07:24.665989",
          "2020-03-09T11:07:29.736589",
          "2020-03-09T11:07:34.726997",
          "2020-03-09T11:07:39.635289",
          "2020-03-09T11:07:44.707009",
          "2020-03-09T11:07:49.614934",
          "2020-03-09T11:07:55.167882",
          "2020-03-09T11:07:59.599906",
          "2020-03-09T11:08:04.605624",
          "2020-03-09T11:08:09.748525",
          "2020-03-09T11:08:14.710797",
          "2020-03-09T11:08:19.733852",
          "2020-03-09T11:08:24.672378",
          "2020-03-09T11:08:29.641908",
          "2020-03-09T11:08:34.734073",
          "2020-03-09T11:08:39.747091",
          "2020-03-09T11:08:44.763332",
          "2020-03-09T11:08:49.691221",
          "2020-03-09T11:08:54.727119",
          "2020-03-09T11:08:59.730758",
          "2020-03-09T11:09:04.748252",
          "2020-03-09T11:09:09.686697",
          "2020-03-09T11:09:14.708843",
          "2020-03-09T11:09:19.708034",
          "2020-03-09T11:09:24.722313",
          "2020-03-09T11:09:29.694354",
          "2020-03-09T11:09:34.600859",
          "2020-03-09T11:09:39.780643",
          "2020-03-09T11:09:44.695603",
          "2020-03-09T11:09:49.666118",
          "2020-03-09T11:09:55.183200",
          "2020-03-09T11:09:59.632972",
          "2020-03-09T11:10:04.656045",
          "2020-03-09T11:10:09.643793",
          "2020-03-09T11:10:14.652069",
          "2020-03-09T11:10:19.677152",
          "2020-03-09T11:10:24.607335",
          "2020-03-09T11:10:29.733344",
          "2020-03-09T11:10:34.766611",
          "2020-03-09T11:10:39.743722",
          "2020-03-09T11:10:44.769701",
          "2020-03-09T11:10:49.593426",
          "2020-03-09T11:10:54.778461",
          "2020-03-09T11:10:59.767591",
          "2020-03-09T11:11:04.763557",
          "2020-03-09T11:11:09.605154",
          "2020-03-09T11:11:14.667105",
          "2020-03-09T11:11:19.722232",
          "2020-03-09T11:11:24.620855",
          "2020-03-09T11:11:29.816394",
          "2020-03-09T11:11:34.756824",
          "2020-03-09T11:11:39.718293",
          "2020-03-09T11:11:44.679827",
          "2020-03-09T11:11:49.624107",
          "2020-03-09T11:11:54.708819",
          "2020-03-09T11:11:59.692392",
          "2020-03-09T11:12:04.621493",
          "2020-03-09T11:12:09.653939",
          "2020-03-09T11:12:14.704885",
          "2020-03-09T11:12:29.711437",
          "2020-03-09T11:12:34.759745",
          "2020-03-09T11:12:39.781531"
         ],
         "y": [
          2.859,
          2.842,
          2.825,
          2.809,
          2.792,
          2.775,
          2.758,
          2.741,
          2.725,
          2.708,
          2.691,
          2.674,
          2.657,
          2.641,
          2.624,
          2.607,
          2.59,
          2.573,
          2.557,
          2.54,
          2.523,
          2.506,
          2.773,
          2.754,
          2.735,
          2.717,
          2.698,
          2.679,
          2.66,
          2.641,
          2.623,
          2.604,
          2.585,
          2.566,
          2.547,
          2.529,
          2.51,
          2.491,
          2.755,
          2.735,
          2.714,
          2.694,
          2.673,
          2.653,
          2.632,
          2.612,
          2.591,
          2.57,
          2.55,
          2.529,
          2.509,
          2.488,
          2.468,
          2.447,
          2.427,
          2.406,
          2.621,
          2.599,
          2.576,
          2.554,
          2.532,
          2.51,
          2.488,
          2.465,
          2.443,
          2.421,
          2.399,
          2.376,
          2.585,
          2.561,
          2.536,
          2.512,
          2.488,
          2.464,
          2.439,
          2.315,
          2.294,
          2.263,
          2.236,
          2.21,
          2.184,
          2.158,
          2.132,
          2.106,
          2.08,
          2.054,
          2.027,
          2.001,
          1.975,
          1.949,
          1.923,
          1.897,
          1.871,
          1.845,
          1.818,
          1.792,
          1.766,
          1.74,
          1.714,
          2.104,
          2.077,
          2.05,
          2.023,
          1.996,
          1.969,
          1.942,
          1.915,
          1.888,
          1.861,
          1.829,
          1.807,
          1.78,
          1.753,
          1.857,
          1.828,
          1.799,
          1.771,
          1.742,
          1.713,
          1.685,
          1.656,
          1.628,
          1.599,
          1.57,
          1.542,
          1.513,
          1.484,
          1.456,
          1.427,
          1.398,
          1.37,
          1.341,
          1.312,
          1.449,
          1.425,
          1.389,
          1.359,
          1.329,
          1.299,
          1.269,
          1.239,
          1.209,
          1.179,
          1.149,
          1.119,
          1.252,
          1.221,
          1.19,
          1.159,
          1.129,
          0.972,
          0.938,
          0.915,
          0.887,
          0.853,
          0.83,
          0.802,
          0.768,
          0.745,
          0.583,
          0.557,
          0.53,
          0.503,
          0.476,
          0.45,
          0.423,
          0.396,
          0.369,
          0.343,
          0.316,
          0.341,
          0.312,
          0.284,
          0.256,
          0.227,
          0.121,
          0.089,
          0.058,
          0.026,
          0,
          0,
          0,
          0,
          0,
          0,
          0,
          0,
          0,
          0
         ]
        },
        {
         "line": {
          "width": 1
         },
         "name": "F-8608",
         "type": "scatter",
         "x": [
          "2020-03-09T10:31:49.444042",
          "2020-03-09T10:31:54.431056",
          "2020-03-09T10:31:59.426598",
          "2020-03-09T10:32:05.539978",
          "2020-03-09T10:32:09.434372",
          "2020-03-09T10:32:14.352433",
          "2020-03-09T10:32:19.472168",
          "2020-03-09T10:32:24.374577",
          "2020-03-09T10:32:29.506733",
          "2020-03-09T10:32:34.391707",
          "2020-03-09T10:32:39.471869",
          "2020-03-09T10:32:44.466642",
          "2020-03-09T10:32:49.414490",
          "2020-03-09T10:32:54.428365",
          "2020-03-09T10:33:04.482345",
          "2020-03-09T10:32:59.515523",
          "2020-03-09T10:33:09.479278",
          "2020-03-09T10:33:14.460777",
          "2020-03-09T10:33:19.551205",
          "2020-03-09T10:33:24.500529",
          "2020-03-09T10:33:29.509452",
          "2020-03-09T10:33:34.498565",
          "2020-03-09T10:33:39.462341",
          "2020-03-09T10:33:44.509294",
          "2020-03-09T10:33:49.371000",
          "2020-03-09T10:33:54.483512",
          "2020-03-09T10:33:59.445313",
          "2020-03-09T10:34:04.406939",
          "2020-03-09T10:34:09.460020",
          "2020-03-09T10:34:14.497376",
          "2020-03-09T10:34:19.502885",
          "2020-03-09T10:34:24.534528",
          "2020-03-09T10:34:29.430630",
          "2020-03-09T10:34:34.402701",
          "2020-03-09T10:34:39.492890",
          "2020-03-09T10:34:44.455985",
          "2020-03-09T10:34:49.504166",
          "2020-03-09T10:34:54.550877",
          "2020-03-09T10:34:59.509475",
          "2020-03-09T10:35:04.389158",
          "2020-03-09T10:35:09.473800",
          "2020-03-09T10:35:14.392537",
          "2020-03-09T10:35:19.528890",
          "2020-03-09T10:35:24.571066",
          "2020-03-09T10:35:29.496362",
          "2020-03-09T10:35:34.545601",
          "2020-03-09T10:35:39.513254",
          "2020-03-09T10:35:44.532976",
          "2020-03-09T10:35:49.409106",
          "2020-03-09T10:35:54.518164",
          "2020-03-09T10:35:59.381778",
          "2020-03-09T10:36:04.461262",
          "2020-03-09T10:36:09.475548",
          "2020-03-09T10:36:15.030302",
          "2020-03-09T10:36:19.466360",
          "2020-03-09T10:36:24.538320",
          "2020-03-09T10:36:29.453070",
          "2020-03-09T10:36:34.552042",
          "2020-03-09T10:36:39.482547",
          "2020-03-09T10:36:44.549298",
          "2020-03-09T10:36:49.473626",
          "2020-03-09T10:36:54.538280",
          "2020-03-09T10:36:59.435723",
          "2020-03-09T10:37:04.435124",
          "2020-03-09T10:37:09.540953",
          "2020-03-09T10:37:14.428178",
          "2020-03-09T10:37:19.519424",
          "2020-03-09T10:37:24.461444",
          "2020-03-09T10:37:29.551975",
          "2020-03-09T10:37:34.575593",
          "2020-03-09T10:37:39.510159",
          "2020-03-09T10:37:44.489035",
          "2020-03-09T10:37:49.487865",
          "2020-03-09T10:37:54.562513",
          "2020-03-09T10:37:59.543999",
          "2020-03-09T10:38:04.450940",
          "2020-03-09T10:38:09.452235",
          "2020-03-09T10:38:14.593156",
          "2020-03-09T10:38:19.393646",
          "2020-03-09T10:38:24.518663",
          "2020-03-09T10:38:29.520894",
          "2020-03-09T10:38:34.536305",
          "2020-03-09T10:38:39.537215",
          "2020-03-09T10:38:44.542126",
          "2020-03-09T10:38:51.592433",
          "2020-03-09T10:38:54.562938",
          "2020-03-09T10:38:59.531068",
          "2020-03-09T10:39:04.483100",
          "2020-03-09T10:39:09.494768",
          "2020-03-09T10:39:14.524487",
          "2020-03-09T10:39:19.578025",
          "2020-03-09T10:39:24.589547",
          "2020-03-09T10:39:29.562693",
          "2020-03-09T10:39:34.539148",
          "2020-03-09T10:39:39.628393",
          "2020-03-09T10:39:44.462056",
          "2020-03-09T10:39:49.508817",
          "2020-03-09T10:39:54.444476",
          "2020-03-09T10:39:59.555924",
          "2020-03-09T10:40:04.418459",
          "2020-03-09T10:40:09.606364",
          "2020-03-09T10:40:14.561856",
          "2020-03-09T10:40:20.428655",
          "2020-03-09T10:40:24.431342",
          "2020-03-09T10:40:29.593172",
          "2020-03-09T10:40:34.572938",
          "2020-03-09T10:40:39.508716",
          "2020-03-09T10:40:44.465571",
          "2020-03-09T10:40:49.534259",
          "2020-03-09T10:40:54.613300",
          "2020-03-09T10:40:59.571750",
          "2020-03-09T10:41:04.528352",
          "2020-03-09T10:41:09.494079",
          "2020-03-09T10:41:14.451268",
          "2020-03-09T10:41:19.503466",
          "2020-03-09T10:41:24.549025",
          "2020-03-09T10:41:29.538290",
          "2020-03-09T10:41:34.514457",
          "2020-03-09T10:41:39.587023",
          "2020-03-09T10:41:44.456852",
          "2020-03-09T10:41:49.520308",
          "2020-03-09T10:41:54.473523",
          "2020-03-09T10:41:59.526664",
          "2020-03-09T10:42:04.537185",
          "2020-03-09T10:42:09.565068",
          "2020-03-09T10:42:14.626284",
          "2020-03-09T10:42:19.525324",
          "2020-03-09T10:42:24.528008",
          "2020-03-09T10:42:29.601106",
          "2020-03-09T10:42:34.417630",
          "2020-03-09T10:42:40.926095",
          "2020-03-09T10:42:46.099852",
          "2020-03-09T10:42:49.580982",
          "2020-03-09T10:42:54.598209",
          "2020-03-09T10:42:59.577924",
          "2020-03-09T10:43:04.575703",
          "2020-03-09T10:43:09.504695"
         ],
         "y": [
          2.625,
          2.602,
          2.58,
          2.553,
          2.534,
          2.512,
          2.489,
          2.467,
          2.444,
          2.421,
          2.399,
          2.376,
          2.544,
          2.519,
          2.467,
          2.493,
          2.442,
          2.416,
          2.391,
          2.365,
          2.339,
          2.314,
          2.288,
          2.263,
          2.237,
          2.212,
          2.186,
          2.211,
          2.185,
          2.158,
          2.132,
          2.105,
          2.078,
          2.052,
          2.025,
          1.999,
          1.972,
          1.946,
          1.919,
          2.099,
          2.073,
          2.046,
          2.02,
          1.993,
          1.967,
          1.94,
          1.913,
          1.887,
          1.86,
          1.834,
          1.807,
          1.781,
          1.754,
          1.722,
          1.701,
          1.674,
          1.648,
          1.621,
          1.595,
          1.568,
          1.7,
          1.67,
          1.641,
          1.611,
          1.582,
          1.552,
          1.523,
          1.493,
          1.464,
          1.434,
          1.405,
          1.375,
          1.346,
          1.316,
          1.287,
          1.257,
          1.465,
          1.436,
          1.407,
          1.378,
          1.349,
          1.32,
          1.29,
          1.261,
          1.221,
          1.203,
          1.174,
          1.145,
          1.116,
          1.087,
          1.058,
          1.029,
          1,
          0.971,
          0.942,
          0.913,
          0.884,
          0.715,
          0.69,
          0.664,
          0.639,
          0.613,
          0.583,
          0.562,
          0.537,
          0.511,
          0.531,
          0.503,
          0.475,
          0.447,
          0.419,
          0.386,
          0.363,
          0.383,
          0.354,
          0.325,
          0.296,
          0.267,
          0.238,
          0.209,
          0.18,
          0.151,
          0.201,
          0.174,
          0.147,
          0.12,
          0.093,
          0.066,
          0.061,
          0.027,
          0,
          0,
          0,
          0,
          0,
          0,
          0
         ]
        },
        {
         "line": {
          "width": 1
         },
         "name": "F-8605",
         "type": "scatter",
         "x": [
          "2020-03-09T10:34:04.406939",
          "2020-03-09T10:34:09.460020",
          "2020-03-09T10:34:14.497376",
          "2020-03-09T10:34:19.502885",
          "2020-03-09T10:34:24.534528",
          "2020-03-09T10:34:29.430630",
          "2020-03-09T10:34:34.402701",
          "2020-03-09T10:34:39.492890",
          "2020-03-09T10:34:44.455985",
          "2020-03-09T10:34:49.504166",
          "2020-03-09T10:34:54.550877",
          "2020-03-09T10:34:59.509475",
          "2020-03-09T10:35:04.389158",
          "2020-03-09T10:35:09.473800",
          "2020-03-09T10:35:14.392537",
          "2020-03-09T10:35:19.528890",
          "2020-03-09T10:35:24.571066",
          "2020-03-09T10:35:29.496362",
          "2020-03-09T10:35:34.545601",
          "2020-03-09T10:35:39.513254",
          "2020-03-09T10:35:44.532976",
          "2020-03-09T10:35:49.409106",
          "2020-03-09T10:35:54.518164",
          "2020-03-09T10:35:59.381778",
          "2020-03-09T10:36:04.461262",
          "2020-03-09T10:36:09.475548",
          "2020-03-09T10:36:15.030302",
          "2020-03-09T10:36:19.466360",
          "2020-03-09T10:36:24.538320",
          "2020-03-09T10:36:29.453070",
          "2020-03-09T10:36:34.552042",
          "2020-03-09T10:36:39.482547",
          "2020-03-09T10:36:44.549298",
          "2020-03-09T10:36:49.473626",
          "2020-03-09T10:36:54.538280",
          "2020-03-09T10:36:59.435723",
          "2020-03-09T10:37:04.435124",
          "2020-03-09T10:37:09.540953",
          "2020-03-09T10:37:14.428178",
          "2020-03-09T10:37:19.519424",
          "2020-03-09T10:37:24.461444",
          "2020-03-09T10:37:29.551975",
          "2020-03-09T10:37:34.575593",
          "2020-03-09T10:37:39.510159",
          "2020-03-09T10:37:44.489035",
          "2020-03-09T10:37:49.487865",
          "2020-03-09T10:37:54.562513",
          "2020-03-09T10:37:59.543999",
          "2020-03-09T10:38:04.450940",
          "2020-03-09T10:38:09.452235",
          "2020-03-09T10:38:14.593156",
          "2020-03-09T10:38:19.393646",
          "2020-03-09T10:38:24.518663",
          "2020-03-09T10:38:29.520894",
          "2020-03-09T10:38:34.536305",
          "2020-03-09T10:38:39.537215",
          "2020-03-09T10:38:44.542126",
          "2020-03-09T10:38:51.592433",
          "2020-03-09T10:38:54.562938",
          "2020-03-09T10:38:59.531068",
          "2020-03-09T10:39:04.483100",
          "2020-03-09T10:39:09.494768",
          "2020-03-09T10:39:14.524487",
          "2020-03-09T10:39:19.578025",
          "2020-03-09T10:39:24.589547",
          "2020-03-09T10:39:29.562693",
          "2020-03-09T10:39:34.539148",
          "2020-03-09T10:39:39.628393",
          "2020-03-09T10:39:44.462056",
          "2020-03-09T10:39:49.508817",
          "2020-03-09T10:39:54.444476",
          "2020-03-09T10:39:59.555924",
          "2020-03-09T10:40:04.418459",
          "2020-03-09T10:40:09.606364",
          "2020-03-09T10:40:14.561856",
          "2020-03-09T10:40:20.428655",
          "2020-03-09T10:40:24.431342",
          "2020-03-09T10:40:29.593172",
          "2020-03-09T10:40:34.572938",
          "2020-03-09T10:40:39.508716",
          "2020-03-09T10:40:44.465571",
          "2020-03-09T10:40:49.534259",
          "2020-03-09T10:40:54.613300",
          "2020-03-09T10:40:59.571750",
          "2020-03-09T10:41:04.528352",
          "2020-03-09T10:41:09.494079",
          "2020-03-09T10:41:14.451268",
          "2020-03-09T10:41:19.503466",
          "2020-03-09T10:41:24.549025",
          "2020-03-09T10:41:29.538290",
          "2020-03-09T10:41:34.514457",
          "2020-03-09T10:41:39.587023",
          "2020-03-09T10:41:44.456852",
          "2020-03-09T10:41:49.520308",
          "2020-03-09T10:41:54.473523",
          "2020-03-09T10:41:59.526664",
          "2020-03-09T10:42:04.537185",
          "2020-03-09T10:42:09.565068",
          "2020-03-09T10:42:14.626284",
          "2020-03-09T10:42:19.525324",
          "2020-03-09T10:42:24.528008",
          "2020-03-09T10:42:29.601106",
          "2020-03-09T10:42:34.417630",
          "2020-03-09T10:42:40.926095",
          "2020-03-09T10:42:46.099852",
          "2020-03-09T10:42:49.580982",
          "2020-03-09T10:42:54.598209",
          "2020-03-09T10:42:59.577924",
          "2020-03-09T10:43:04.575703",
          "2020-03-09T10:43:09.504695",
          "2020-03-09T10:43:14.528001",
          "2020-03-09T10:43:19.444530",
          "2020-03-09T10:43:24.666443",
          "2020-03-09T10:43:29.444923",
          "2020-03-09T10:43:34.509840",
          "2020-03-09T10:43:39.508321",
          "2020-03-09T10:43:44.573283",
          "2020-03-09T10:43:49.594041",
          "2020-03-09T10:43:54.600378",
          "2020-03-09T10:43:59.495523",
          "2020-03-09T10:44:04.523464",
          "2020-03-09T10:44:09.530148",
          "2020-03-09T10:44:14.456261",
          "2020-03-09T10:44:19.545580",
          "2020-03-09T10:44:24.604311",
          "2020-03-09T10:44:29.531821",
          "2020-03-09T10:44:34.455645",
          "2020-03-09T10:44:39.595453",
          "2020-03-09T10:44:44.620374",
          "2020-03-09T10:44:49.549761",
          "2020-03-09T10:44:54.524794",
          "2020-03-09T10:44:59.483967",
          "2020-03-09T10:45:04.569547",
          "2020-03-09T10:45:09.563125",
          "2020-03-09T10:45:16.617667",
          "2020-03-09T10:45:19.606759",
          "2020-03-09T10:45:24.597661"
         ],
         "y": [
          2.616,
          2.6,
          2.584,
          2.568,
          2.552,
          2.536,
          2.519,
          2.503,
          2.487,
          2.471,
          2.455,
          2.439,
          2.423,
          2.407,
          2.391,
          2.375,
          2.359,
          2.6,
          2.583,
          2.565,
          2.548,
          2.534,
          2.513,
          2.499,
          2.481,
          2.461,
          2.443,
          2.429,
          2.408,
          2.394,
          2.373,
          2.359,
          2.338,
          2.589,
          2.569,
          2.55,
          2.531,
          2.512,
          2.493,
          2.474,
          2.454,
          2.435,
          2.416,
          2.601,
          2.58,
          2.559,
          2.538,
          2.516,
          2.495,
          2.474,
          2.453,
          2.432,
          2.411,
          2.39,
          2.59,
          2.568,
          2.546,
          2.515,
          2.502,
          2.385,
          2.361,
          2.336,
          2.312,
          2.288,
          2.264,
          2.239,
          2.215,
          2.191,
          2.166,
          2.142,
          2.118,
          2.094,
          2.069,
          2.045,
          2.021,
          1.931,
          1.909,
          1.883,
          1.856,
          1.829,
          1.803,
          1.776,
          1.749,
          1.723,
          1.691,
          1.669,
          1.643,
          1.616,
          1.589,
          1.563,
          1.536,
          1.433,
          1.404,
          1.376,
          1.347,
          1.318,
          1.289,
          1.26,
          1.231,
          1.202,
          0.898,
          0.871,
          0.844,
          0.812,
          0.785,
          0.763,
          0.674,
          0.65,
          0.627,
          0.604,
          0.585,
          0.561,
          0.537,
          0.513,
          0.489,
          0.465,
          0.441,
          0.34,
          0.314,
          0.288,
          0.262,
          0.236,
          0.16,
          0.136,
          0.112,
          0.088,
          0.064,
          0.039,
          0.015,
          0,
          0,
          0,
          0,
          0,
          0,
          0,
          0
         ]
        }
       ],
       "layout": {
        "template": {
         "data": {
          "bar": [
           {
            "error_x": {
             "color": "#2a3f5f"
            },
            "error_y": {
             "color": "#2a3f5f"
            },
            "marker": {
             "line": {
              "color": "white",
              "width": 0.5
             }
            },
            "type": "bar"
           }
          ],
          "barpolar": [
           {
            "marker": {
             "line": {
              "color": "white",
              "width": 0.5
             }
            },
            "type": "barpolar"
           }
          ],
          "carpet": [
           {
            "aaxis": {
             "endlinecolor": "#2a3f5f",
             "gridcolor": "#C8D4E3",
             "linecolor": "#C8D4E3",
             "minorgridcolor": "#C8D4E3",
             "startlinecolor": "#2a3f5f"
            },
            "baxis": {
             "endlinecolor": "#2a3f5f",
             "gridcolor": "#C8D4E3",
             "linecolor": "#C8D4E3",
             "minorgridcolor": "#C8D4E3",
             "startlinecolor": "#2a3f5f"
            },
            "type": "carpet"
           }
          ],
          "choropleth": [
           {
            "colorbar": {
             "outlinewidth": 0,
             "ticks": ""
            },
            "type": "choropleth"
           }
          ],
          "contour": [
           {
            "colorbar": {
             "outlinewidth": 0,
             "ticks": ""
            },
            "colorscale": [
             [
              0,
              "#0d0887"
             ],
             [
              0.1111111111111111,
              "#46039f"
             ],
             [
              0.2222222222222222,
              "#7201a8"
             ],
             [
              0.3333333333333333,
              "#9c179e"
             ],
             [
              0.4444444444444444,
              "#bd3786"
             ],
             [
              0.5555555555555556,
              "#d8576b"
             ],
             [
              0.6666666666666666,
              "#ed7953"
             ],
             [
              0.7777777777777778,
              "#fb9f3a"
             ],
             [
              0.8888888888888888,
              "#fdca26"
             ],
             [
              1,
              "#f0f921"
             ]
            ],
            "type": "contour"
           }
          ],
          "contourcarpet": [
           {
            "colorbar": {
             "outlinewidth": 0,
             "ticks": ""
            },
            "type": "contourcarpet"
           }
          ],
          "heatmap": [
           {
            "colorbar": {
             "outlinewidth": 0,
             "ticks": ""
            },
            "colorscale": [
             [
              0,
              "#0d0887"
             ],
             [
              0.1111111111111111,
              "#46039f"
             ],
             [
              0.2222222222222222,
              "#7201a8"
             ],
             [
              0.3333333333333333,
              "#9c179e"
             ],
             [
              0.4444444444444444,
              "#bd3786"
             ],
             [
              0.5555555555555556,
              "#d8576b"
             ],
             [
              0.6666666666666666,
              "#ed7953"
             ],
             [
              0.7777777777777778,
              "#fb9f3a"
             ],
             [
              0.8888888888888888,
              "#fdca26"
             ],
             [
              1,
              "#f0f921"
             ]
            ],
            "type": "heatmap"
           }
          ],
          "heatmapgl": [
           {
            "colorbar": {
             "outlinewidth": 0,
             "ticks": ""
            },
            "colorscale": [
             [
              0,
              "#0d0887"
             ],
             [
              0.1111111111111111,
              "#46039f"
             ],
             [
              0.2222222222222222,
              "#7201a8"
             ],
             [
              0.3333333333333333,
              "#9c179e"
             ],
             [
              0.4444444444444444,
              "#bd3786"
             ],
             [
              0.5555555555555556,
              "#d8576b"
             ],
             [
              0.6666666666666666,
              "#ed7953"
             ],
             [
              0.7777777777777778,
              "#fb9f3a"
             ],
             [
              0.8888888888888888,
              "#fdca26"
             ],
             [
              1,
              "#f0f921"
             ]
            ],
            "type": "heatmapgl"
           }
          ],
          "histogram": [
           {
            "marker": {
             "colorbar": {
              "outlinewidth": 0,
              "ticks": ""
             }
            },
            "type": "histogram"
           }
          ],
          "histogram2d": [
           {
            "colorbar": {
             "outlinewidth": 0,
             "ticks": ""
            },
            "colorscale": [
             [
              0,
              "#0d0887"
             ],
             [
              0.1111111111111111,
              "#46039f"
             ],
             [
              0.2222222222222222,
              "#7201a8"
             ],
             [
              0.3333333333333333,
              "#9c179e"
             ],
             [
              0.4444444444444444,
              "#bd3786"
             ],
             [
              0.5555555555555556,
              "#d8576b"
             ],
             [
              0.6666666666666666,
              "#ed7953"
             ],
             [
              0.7777777777777778,
              "#fb9f3a"
             ],
             [
              0.8888888888888888,
              "#fdca26"
             ],
             [
              1,
              "#f0f921"
             ]
            ],
            "type": "histogram2d"
           }
          ],
          "histogram2dcontour": [
           {
            "colorbar": {
             "outlinewidth": 0,
             "ticks": ""
            },
            "colorscale": [
             [
              0,
              "#0d0887"
             ],
             [
              0.1111111111111111,
              "#46039f"
             ],
             [
              0.2222222222222222,
              "#7201a8"
             ],
             [
              0.3333333333333333,
              "#9c179e"
             ],
             [
              0.4444444444444444,
              "#bd3786"
             ],
             [
              0.5555555555555556,
              "#d8576b"
             ],
             [
              0.6666666666666666,
              "#ed7953"
             ],
             [
              0.7777777777777778,
              "#fb9f3a"
             ],
             [
              0.8888888888888888,
              "#fdca26"
             ],
             [
              1,
              "#f0f921"
             ]
            ],
            "type": "histogram2dcontour"
           }
          ],
          "mesh3d": [
           {
            "colorbar": {
             "outlinewidth": 0,
             "ticks": ""
            },
            "type": "mesh3d"
           }
          ],
          "parcoords": [
           {
            "line": {
             "colorbar": {
              "outlinewidth": 0,
              "ticks": ""
             }
            },
            "type": "parcoords"
           }
          ],
          "pie": [
           {
            "automargin": true,
            "type": "pie"
           }
          ],
          "scatter": [
           {
            "marker": {
             "colorbar": {
              "outlinewidth": 0,
              "ticks": ""
             }
            },
            "type": "scatter"
           }
          ],
          "scatter3d": [
           {
            "line": {
             "colorbar": {
              "outlinewidth": 0,
              "ticks": ""
             }
            },
            "marker": {
             "colorbar": {
              "outlinewidth": 0,
              "ticks": ""
             }
            },
            "type": "scatter3d"
           }
          ],
          "scattercarpet": [
           {
            "marker": {
             "colorbar": {
              "outlinewidth": 0,
              "ticks": ""
             }
            },
            "type": "scattercarpet"
           }
          ],
          "scattergeo": [
           {
            "marker": {
             "colorbar": {
              "outlinewidth": 0,
              "ticks": ""
             }
            },
            "type": "scattergeo"
           }
          ],
          "scattergl": [
           {
            "marker": {
             "colorbar": {
              "outlinewidth": 0,
              "ticks": ""
             }
            },
            "type": "scattergl"
           }
          ],
          "scattermapbox": [
           {
            "marker": {
             "colorbar": {
              "outlinewidth": 0,
              "ticks": ""
             }
            },
            "type": "scattermapbox"
           }
          ],
          "scatterpolar": [
           {
            "marker": {
             "colorbar": {
              "outlinewidth": 0,
              "ticks": ""
             }
            },
            "type": "scatterpolar"
           }
          ],
          "scatterpolargl": [
           {
            "marker": {
             "colorbar": {
              "outlinewidth": 0,
              "ticks": ""
             }
            },
            "type": "scatterpolargl"
           }
          ],
          "scatterternary": [
           {
            "marker": {
             "colorbar": {
              "outlinewidth": 0,
              "ticks": ""
             }
            },
            "type": "scatterternary"
           }
          ],
          "surface": [
           {
            "colorbar": {
             "outlinewidth": 0,
             "ticks": ""
            },
            "colorscale": [
             [
              0,
              "#0d0887"
             ],
             [
              0.1111111111111111,
              "#46039f"
             ],
             [
              0.2222222222222222,
              "#7201a8"
             ],
             [
              0.3333333333333333,
              "#9c179e"
             ],
             [
              0.4444444444444444,
              "#bd3786"
             ],
             [
              0.5555555555555556,
              "#d8576b"
             ],
             [
              0.6666666666666666,
              "#ed7953"
             ],
             [
              0.7777777777777778,
              "#fb9f3a"
             ],
             [
              0.8888888888888888,
              "#fdca26"
             ],
             [
              1,
              "#f0f921"
             ]
            ],
            "type": "surface"
           }
          ],
          "table": [
           {
            "cells": {
             "fill": {
              "color": "#EBF0F8"
             },
             "line": {
              "color": "white"
             }
            },
            "header": {
             "fill": {
              "color": "#C8D4E3"
             },
             "line": {
              "color": "white"
             }
            },
            "type": "table"
           }
          ]
         },
         "layout": {
          "annotationdefaults": {
           "arrowcolor": "#2a3f5f",
           "arrowhead": 0,
           "arrowwidth": 1
          },
          "coloraxis": {
           "colorbar": {
            "outlinewidth": 0,
            "ticks": ""
           }
          },
          "colorscale": {
           "diverging": [
            [
             0,
             "#8e0152"
            ],
            [
             0.1,
             "#c51b7d"
            ],
            [
             0.2,
             "#de77ae"
            ],
            [
             0.3,
             "#f1b6da"
            ],
            [
             0.4,
             "#fde0ef"
            ],
            [
             0.5,
             "#f7f7f7"
            ],
            [
             0.6,
             "#e6f5d0"
            ],
            [
             0.7,
             "#b8e186"
            ],
            [
             0.8,
             "#7fbc41"
            ],
            [
             0.9,
             "#4d9221"
            ],
            [
             1,
             "#276419"
            ]
           ],
           "sequential": [
            [
             0,
             "#0d0887"
            ],
            [
             0.1111111111111111,
             "#46039f"
            ],
            [
             0.2222222222222222,
             "#7201a8"
            ],
            [
             0.3333333333333333,
             "#9c179e"
            ],
            [
             0.4444444444444444,
             "#bd3786"
            ],
            [
             0.5555555555555556,
             "#d8576b"
            ],
            [
             0.6666666666666666,
             "#ed7953"
            ],
            [
             0.7777777777777778,
             "#fb9f3a"
            ],
            [
             0.8888888888888888,
             "#fdca26"
            ],
            [
             1,
             "#f0f921"
            ]
           ],
           "sequentialminus": [
            [
             0,
             "#0d0887"
            ],
            [
             0.1111111111111111,
             "#46039f"
            ],
            [
             0.2222222222222222,
             "#7201a8"
            ],
            [
             0.3333333333333333,
             "#9c179e"
            ],
            [
             0.4444444444444444,
             "#bd3786"
            ],
            [
             0.5555555555555556,
             "#d8576b"
            ],
            [
             0.6666666666666666,
             "#ed7953"
            ],
            [
             0.7777777777777778,
             "#fb9f3a"
            ],
            [
             0.8888888888888888,
             "#fdca26"
            ],
            [
             1,
             "#f0f921"
            ]
           ]
          },
          "colorway": [
           "#636efa",
           "#EF553B",
           "#00cc96",
           "#ab63fa",
           "#FFA15A",
           "#19d3f3",
           "#FF6692",
           "#B6E880",
           "#FF97FF",
           "#FECB52"
          ],
          "font": {
           "color": "#2a3f5f"
          },
          "geo": {
           "bgcolor": "white",
           "lakecolor": "white",
           "landcolor": "white",
           "showlakes": true,
           "showland": true,
           "subunitcolor": "#C8D4E3"
          },
          "hoverlabel": {
           "align": "left"
          },
          "hovermode": "closest",
          "mapbox": {
           "style": "light"
          },
          "paper_bgcolor": "white",
          "plot_bgcolor": "white",
          "polar": {
           "angularaxis": {
            "gridcolor": "#EBF0F8",
            "linecolor": "#EBF0F8",
            "ticks": ""
           },
           "bgcolor": "white",
           "radialaxis": {
            "gridcolor": "#EBF0F8",
            "linecolor": "#EBF0F8",
            "ticks": ""
           }
          },
          "scene": {
           "xaxis": {
            "backgroundcolor": "white",
            "gridcolor": "#DFE8F3",
            "gridwidth": 2,
            "linecolor": "#EBF0F8",
            "showbackground": true,
            "ticks": "",
            "zerolinecolor": "#EBF0F8"
           },
           "yaxis": {
            "backgroundcolor": "white",
            "gridcolor": "#DFE8F3",
            "gridwidth": 2,
            "linecolor": "#EBF0F8",
            "showbackground": true,
            "ticks": "",
            "zerolinecolor": "#EBF0F8"
           },
           "zaxis": {
            "backgroundcolor": "white",
            "gridcolor": "#DFE8F3",
            "gridwidth": 2,
            "linecolor": "#EBF0F8",
            "showbackground": true,
            "ticks": "",
            "zerolinecolor": "#EBF0F8"
           }
          },
          "shapedefaults": {
           "line": {
            "color": "#2a3f5f"
           }
          },
          "ternary": {
           "aaxis": {
            "gridcolor": "#DFE8F3",
            "linecolor": "#A2B1C6",
            "ticks": ""
           },
           "baxis": {
            "gridcolor": "#DFE8F3",
            "linecolor": "#A2B1C6",
            "ticks": ""
           },
           "bgcolor": "white",
           "caxis": {
            "gridcolor": "#DFE8F3",
            "linecolor": "#A2B1C6",
            "ticks": ""
           }
          },
          "title": {
           "x": 0.05
          },
          "xaxis": {
           "automargin": true,
           "gridcolor": "#EBF0F8",
           "linecolor": "#EBF0F8",
           "ticks": "",
           "title": {
            "standoff": 15
           },
           "zerolinecolor": "#EBF0F8",
           "zerolinewidth": 2
          },
          "yaxis": {
           "automargin": true,
           "gridcolor": "#EBF0F8",
           "linecolor": "#EBF0F8",
           "ticks": "",
           "title": {
            "standoff": 15
           },
           "zerolinecolor": "#EBF0F8",
           "zerolinewidth": 2
          }
         }
        },
        "title": {
         "text": "Distance remaining for the buses heading stop 4285"
        },
        "xaxis": {
         "title": {
          "text": "Time"
         }
        },
        "yaxis": {
         "title": {
          "text": "DISTANCE (km)"
         }
        }
       }
      },
      "text/html": [
       "<div>\n",
       "        \n",
       "        \n",
       "            <div id=\"6689c2b2-8cd2-4800-a256-d41f32cd80fe\" class=\"plotly-graph-div\" style=\"height:525px; width:100%;\"></div>\n",
       "            <script type=\"text/javascript\">\n",
       "                require([\"plotly\"], function(Plotly) {\n",
       "                    window.PLOTLYENV=window.PLOTLYENV || {};\n",
       "                    \n",
       "                if (document.getElementById(\"6689c2b2-8cd2-4800-a256-d41f32cd80fe\")) {\n",
       "                    Plotly.newPlot(\n",
       "                        '6689c2b2-8cd2-4800-a256-d41f32cd80fe',\n",
       "                        [{\"line\": {\"width\": 1}, \"name\": \"F-8606\", \"type\": \"scatter\", \"x\": [\"2020-03-09T10:15:14.291579\", \"2020-03-09T10:15:19.273074\", \"2020-03-09T10:15:24.358194\", \"2020-03-09T10:15:29.377392\", \"2020-03-09T10:15:34.415921\", \"2020-03-09T10:15:39.387586\", \"2020-03-09T10:15:44.315381\", \"2020-03-09T10:15:49.409547\", \"2020-03-09T10:15:54.360084\", \"2020-03-09T10:15:59.426210\", \"2020-03-09T10:16:04.414333\", \"2020-03-09T10:16:09.367235\", \"2020-03-09T10:16:14.389615\", \"2020-03-09T10:16:19.393246\", \"2020-03-09T10:16:24.369738\", \"2020-03-09T10:16:29.399281\", \"2020-03-09T10:16:34.284164\", \"2020-03-09T10:16:39.403782\", \"2020-03-09T10:16:44.261734\", \"2020-03-09T10:16:49.353309\", \"2020-03-09T10:16:54.339332\", \"2020-03-09T10:16:59.359884\", \"2020-03-09T10:17:05.261131\", \"2020-03-09T10:17:09.416599\", \"2020-03-09T10:17:14.405313\", \"2020-03-09T10:17:19.385354\", \"2020-03-09T10:17:24.383666\", \"2020-03-09T10:17:29.401951\", \"2020-03-09T10:17:34.458310\", \"2020-03-09T10:17:39.385904\", \"2020-03-09T10:17:44.399085\", \"2020-03-09T10:17:49.365138\", \"2020-03-09T10:17:54.402072\", \"2020-03-09T10:17:59.420878\", \"2020-03-09T10:18:04.272648\", \"2020-03-09T10:18:09.371487\", \"2020-03-09T10:18:14.318164\", \"2020-03-09T10:18:19.447084\", \"2020-03-09T10:18:24.268468\", \"2020-03-09T10:18:29.395817\", \"2020-03-09T10:18:34.387857\", \"2020-03-09T10:18:39.438467\", \"2020-03-09T10:18:44.270344\", \"2020-03-09T10:18:49.410258\", \"2020-03-09T10:18:54.394276\", \"2020-03-09T10:18:59.412396\", \"2020-03-09T10:19:04.317460\", \"2020-03-09T10:19:09.309378\", \"2020-03-09T10:19:14.324243\", \"2020-03-09T10:19:19.312966\", \"2020-03-09T10:19:24.412814\", \"2020-03-09T10:19:29.471783\", \"2020-03-09T10:19:34.425923\", \"2020-03-09T10:19:39.371382\", \"2020-03-09T10:19:44.443748\", \"2020-03-09T10:19:49.380488\", \"2020-03-09T10:19:54.285436\", \"2020-03-09T10:19:59.451342\", \"2020-03-09T10:20:04.324307\", \"2020-03-09T10:20:09.356982\", \"2020-03-09T10:20:14.474154\", \"2020-03-09T10:20:19.364041\", \"2020-03-09T10:20:24.294261\", \"2020-03-09T10:20:29.410835\", \"2020-03-09T10:20:34.310828\"], \"y\": [1.73, 1.708, 1.686, 1.664, 1.642, 1.615, 1.597, 1.575, 1.374, 1.35, 1.327, 1.304, 1.28, 1.257, 1.233, 1.21, 1.186, 1.026, 1.004, 0.981, 0.959, 0.937, 0.91, 0.892, 0.869, 0.847, 0.825, 0.668, 0.648, 0.628, 0.608, 0.588, 0.624, 0.603, 0.582, 0.56, 0.539, 0.518, 0.496, 0.475, 0.453, 0.432, 0.411, 0.389, 0.368, 0.347, 0.325, 0.304, 0.282, 0.174, 0.149, 0.123, 0.098, 0.128, 0.101, 0.075, 0.048, 0.022, 0.0, 0.0, 0.0, 0.0, 0.0, 0.0, 0.0]}, {\"line\": {\"width\": 1}, \"name\": \"F-8606\", \"type\": \"scatter\", \"x\": [\"2020-03-09T10:43:14.528001\", \"2020-03-09T10:43:19.444530\", \"2020-03-09T10:43:24.666443\", \"2020-03-09T10:43:29.444923\", \"2020-03-09T10:43:34.509840\", \"2020-03-09T10:43:39.508321\", \"2020-03-09T10:43:44.573283\", \"2020-03-09T10:43:49.594041\", \"2020-03-09T10:43:54.600378\", \"2020-03-09T10:43:59.495523\", \"2020-03-09T10:44:04.523464\", \"2020-03-09T10:44:09.530148\", \"2020-03-09T10:44:14.456261\", \"2020-03-09T10:44:19.545580\", \"2020-03-09T10:44:24.604311\", \"2020-03-09T10:44:29.531821\", \"2020-03-09T10:44:34.455645\", \"2020-03-09T10:44:39.595453\", \"2020-03-09T10:44:44.620374\", \"2020-03-09T10:44:49.549761\", \"2020-03-09T10:44:54.524794\", \"2020-03-09T10:44:59.483967\", \"2020-03-09T10:45:04.569547\", \"2020-03-09T10:45:09.563125\", \"2020-03-09T10:45:16.617667\", \"2020-03-09T10:45:19.606759\", \"2020-03-09T10:45:24.597661\", \"2020-03-09T10:45:29.602946\", \"2020-03-09T10:45:34.619474\", \"2020-03-09T10:45:39.496129\", \"2020-03-09T10:45:44.576401\", \"2020-03-09T10:45:49.503252\", \"2020-03-09T10:45:54.582406\", \"2020-03-09T10:45:59.565945\", \"2020-03-09T10:46:04.929078\", \"2020-03-09T10:46:09.610937\", \"2020-03-09T10:46:14.601772\", \"2020-03-09T10:46:19.650154\", \"2020-03-09T10:46:24.526653\", \"2020-03-09T10:46:29.535336\", \"2020-03-09T10:46:34.574680\", \"2020-03-09T10:46:39.460713\", \"2020-03-09T10:46:44.558933\", \"2020-03-09T10:46:49.523930\", \"2020-03-09T10:46:54.744964\", \"2020-03-09T10:46:59.609746\", \"2020-03-09T10:47:04.509715\", \"2020-03-09T10:47:09.489161\", \"2020-03-09T10:47:14.487228\", \"2020-03-09T10:47:19.496949\", \"2020-03-09T10:47:24.627409\", \"2020-03-09T10:47:29.599761\", \"2020-03-09T10:47:34.555860\", \"2020-03-09T10:47:39.571676\", \"2020-03-09T10:47:44.569943\", \"2020-03-09T10:47:49.610355\", \"2020-03-09T10:47:54.646782\", \"2020-03-09T10:47:59.543485\", \"2020-03-09T10:48:04.525737\", \"2020-03-09T10:48:09.552204\", \"2020-03-09T10:48:14.652903\", \"2020-03-09T10:48:19.499034\", \"2020-03-09T10:48:24.551021\", \"2020-03-09T10:48:29.489667\", \"2020-03-09T10:48:34.455875\", \"2020-03-09T10:48:39.570332\", \"2020-03-09T10:48:44.592993\", \"2020-03-09T10:48:49.630514\", \"2020-03-09T10:48:54.639196\", \"2020-03-09T10:48:59.652688\", \"2020-03-09T10:49:04.567778\", \"2020-03-09T10:49:09.571632\", \"2020-03-09T10:49:14.564156\", \"2020-03-09T10:49:19.671134\", \"2020-03-09T10:49:24.530016\", \"2020-03-09T10:49:29.598482\", \"2020-03-09T10:49:34.555328\", \"2020-03-09T10:49:39.617189\", \"2020-03-09T10:49:44.631523\", \"2020-03-09T10:49:49.675136\", \"2020-03-09T10:49:54.660462\", \"2020-03-09T10:50:01.036054\", \"2020-03-09T10:50:04.489394\", \"2020-03-09T10:50:09.617049\", \"2020-03-09T10:50:14.653925\", \"2020-03-09T10:50:19.520939\", \"2020-03-09T10:50:24.510598\", \"2020-03-09T10:50:29.632550\", \"2020-03-09T10:50:34.659544\", \"2020-03-09T10:50:39.610968\", \"2020-03-09T10:50:44.614228\", \"2020-03-09T10:50:49.648727\", \"2020-03-09T10:50:54.629259\", \"2020-03-09T10:50:59.682460\", \"2020-03-09T10:51:04.617376\", \"2020-03-09T10:51:09.543356\", \"2020-03-09T10:51:14.628081\", \"2020-03-09T10:51:19.630340\", \"2020-03-09T10:51:24.632104\", \"2020-03-09T10:51:29.654030\", \"2020-03-09T10:51:34.492900\", \"2020-03-09T10:51:39.531663\", \"2020-03-09T10:51:44.507542\", \"2020-03-09T10:51:49.572063\", \"2020-03-09T10:51:54.511439\", \"2020-03-09T10:51:59.624642\", \"2020-03-09T10:52:04.640263\", \"2020-03-09T10:52:09.509494\", \"2020-03-09T10:52:14.499325\", \"2020-03-09T10:52:19.632170\", \"2020-03-09T10:52:24.664548\", \"2020-03-09T10:52:29.634647\", \"2020-03-09T10:52:34.594006\", \"2020-03-09T10:52:39.601325\", \"2020-03-09T10:52:44.484192\", \"2020-03-09T10:52:49.652224\", \"2020-03-09T10:52:54.658489\", \"2020-03-09T10:52:59.652201\", \"2020-03-09T10:53:04.629042\", \"2020-03-09T10:53:09.627118\", \"2020-03-09T10:53:14.686554\", \"2020-03-09T10:53:19.577492\", \"2020-03-09T10:53:24.600959\", \"2020-03-09T10:53:29.635990\", \"2020-03-09T10:53:34.513512\", \"2020-03-09T10:53:39.664162\", \"2020-03-09T10:53:44.654454\", \"2020-03-09T10:53:49.506381\", \"2020-03-09T10:53:54.678238\", \"2020-03-09T10:53:59.544664\", \"2020-03-09T10:54:04.607716\", \"2020-03-09T10:54:09.702888\", \"2020-03-09T10:54:14.538816\", \"2020-03-09T10:54:19.611251\", \"2020-03-09T10:54:24.585259\", \"2020-03-09T10:54:29.635419\", \"2020-03-09T10:54:34.660727\", \"2020-03-09T10:54:39.518246\", \"2020-03-09T10:54:44.501488\", \"2020-03-09T10:54:49.681574\", \"2020-03-09T10:54:54.619739\", \"2020-03-09T10:54:59.687029\", \"2020-03-09T10:55:04.581986\", \"2020-03-09T10:55:09.645939\", \"2020-03-09T10:55:14.528373\", \"2020-03-09T10:55:19.624826\", \"2020-03-09T10:55:24.663989\", \"2020-03-09T10:55:29.678838\", \"2020-03-09T10:55:34.707188\", \"2020-03-09T10:55:39.630131\", \"2020-03-09T10:55:44.640056\", \"2020-03-09T10:55:49.608299\", \"2020-03-09T10:55:54.605894\", \"2020-03-09T10:55:59.671630\", \"2020-03-09T10:56:04.583111\", \"2020-03-09T10:56:09.678437\", \"2020-03-09T10:56:14.718315\", \"2020-03-09T10:56:19.700122\", \"2020-03-09T10:56:24.634359\", \"2020-03-09T10:56:34.669263\", \"2020-03-09T10:56:39.635770\", \"2020-03-09T10:56:44.629955\"], \"y\": [2.623, 2.607, 2.591, 2.575, 2.559, 2.543, 2.528, 2.512, 2.496, 2.48, 2.464, 2.448, 2.432, 2.417, 2.401, 2.385, 2.369, 2.595, 2.577, 2.559, 2.54, 2.522, 2.504, 2.486, 2.46, 2.45, 2.431, 2.599, 2.58, 2.56, 2.541, 2.521, 2.502, 2.482, 2.459, 2.443, 2.424, 2.404, 2.384, 2.365, 2.345, 2.326, 2.306, 2.287, 2.594, 2.571, 2.553, 2.531, 2.509, 2.486, 2.464, 2.441, 2.419, 2.397, 2.374, 2.352, 2.329, 2.307, 2.285, 2.262, 2.24, 2.217, 2.195, 2.173, 2.15, 2.382, 2.359, 2.336, 2.313, 2.291, 2.268, 2.245, 2.222, 2.199, 2.177, 2.154, 2.131, 2.108, 2.085, 2.063, 2.04, 2.008, 1.994, 1.971, 1.948, 1.926, 1.903, 1.88, 1.857, 1.834, 1.812, 1.789, 1.766, 1.743, 1.72, 1.698, 1.675, 1.652, 1.629, 1.606, 1.584, 1.561, 1.428, 1.402, 1.376, 1.35, 1.324, 1.298, 1.271, 1.245, 1.219, 1.193, 1.167, 1.141, 1.114, 1.015, 0.991, 0.967, 0.943, 0.919, 0.757, 0.74, 0.715, 0.693, 0.676, 0.65, 0.629, 0.612, 0.586, 0.569, 0.548, 0.522, 0.505, 0.484, 0.462, 0.437, 0.474, 0.453, 0.431, 0.41, 0.389, 0.367, 0.262, 0.241, 0.22, 0.2, 0.179, 0.213, 0.19, 0.175, 0.155, 0.136, 0.0, 0.0, 0.0, 0.0, 0.0, 0.0, 0.0, 0.0, 0.0, 0.0]}, {\"line\": {\"width\": 1}, \"name\": \"F-8607\", \"type\": \"scatter\", \"x\": [\"2020-03-09T10:20:39.295806\", \"2020-03-09T10:20:44.350090\", \"2020-03-09T10:20:49.525143\", \"2020-03-09T10:20:54.503251\", \"2020-03-09T10:20:59.432243\", \"2020-03-09T10:21:04.292141\", \"2020-03-09T10:21:09.402633\", \"2020-03-09T10:21:14.396797\", \"2020-03-09T10:21:19.448426\", \"2020-03-09T10:21:24.347856\", \"2020-03-09T10:21:29.428192\", \"2020-03-09T10:21:34.335669\", \"2020-03-09T10:21:39.468715\", \"2020-03-09T10:21:44.413172\", \"2020-03-09T10:21:49.428011\", \"2020-03-09T10:21:54.407754\", \"2020-03-09T10:21:59.459415\", \"2020-03-09T10:22:04.490360\", \"2020-03-09T10:22:09.507376\", \"2020-03-09T10:22:14.449948\", \"2020-03-09T10:22:19.495378\", \"2020-03-09T10:22:24.466133\", \"2020-03-09T10:22:29.332402\", \"2020-03-09T10:22:34.308517\", \"2020-03-09T10:22:39.375863\", \"2020-03-09T10:22:44.382991\", \"2020-03-09T10:22:49.479905\", \"2020-03-09T10:22:54.430529\", \"2020-03-09T10:22:59.410952\", \"2020-03-09T10:23:04.443648\", \"2020-03-09T10:23:09.468886\", \"2020-03-09T10:23:14.373860\", \"2020-03-09T10:23:19.445901\", \"2020-03-09T10:23:24.438152\", \"2020-03-09T10:23:29.455752\", \"2020-03-09T10:23:34.522162\", \"2020-03-09T10:23:39.416408\", \"2020-03-09T10:23:44.309587\", \"2020-03-09T10:23:49.452671\", \"2020-03-09T10:23:54.390569\", \"2020-03-09T10:23:59.359498\", \"2020-03-09T10:24:04.426740\", \"2020-03-09T10:24:09.308035\", \"2020-03-09T10:24:14.468489\", \"2020-03-09T10:24:19.344187\", \"2020-03-09T10:24:24.407086\", \"2020-03-09T10:24:29.464961\", \"2020-03-09T10:24:34.459078\", \"2020-03-09T10:24:40.196437\", \"2020-03-09T10:24:44.361696\", \"2020-03-09T10:24:49.416371\", \"2020-03-09T10:24:54.451349\", \"2020-03-09T10:24:59.452703\", \"2020-03-09T10:25:04.495087\", \"2020-03-09T10:25:09.345807\", \"2020-03-09T10:25:14.400362\", \"2020-03-09T10:25:19.482724\", \"2020-03-09T10:25:24.362084\", \"2020-03-09T10:25:29.445640\", \"2020-03-09T10:25:34.440821\", \"2020-03-09T10:25:39.455941\", \"2020-03-09T10:25:44.441334\", \"2020-03-09T10:25:49.449822\", \"2020-03-09T10:25:54.320482\", \"2020-03-09T10:25:59.414711\", \"2020-03-09T10:26:04.499527\", \"2020-03-09T10:26:09.390603\", \"2020-03-09T10:26:14.452546\", \"2020-03-09T10:26:19.329053\", \"2020-03-09T10:26:24.441433\", \"2020-03-09T10:26:29.389258\", \"2020-03-09T10:26:34.373801\", \"2020-03-09T10:26:39.509370\", \"2020-03-09T10:26:44.391903\", \"2020-03-09T10:26:49.493466\", \"2020-03-09T10:26:54.449879\", \"2020-03-09T10:26:59.485091\", \"2020-03-09T10:27:04.455771\", \"2020-03-09T10:27:09.489987\", \"2020-03-09T10:27:14.481484\", \"2020-03-09T10:27:19.409051\", \"2020-03-09T10:27:24.365041\", \"2020-03-09T10:27:29.438081\", \"2020-03-09T10:27:34.516485\", \"2020-03-09T10:27:39.506602\", \"2020-03-09T10:27:44.515262\", \"2020-03-09T10:27:49.432209\", \"2020-03-09T10:27:54.397544\", \"2020-03-09T10:27:59.459515\", \"2020-03-09T10:28:04.344958\", \"2020-03-09T10:28:09.470154\", \"2020-03-09T10:28:14.429994\", \"2020-03-09T10:28:19.451575\", \"2020-03-09T10:28:24.462565\", \"2020-03-09T10:28:30.403199\", \"2020-03-09T10:28:34.484629\", \"2020-03-09T10:28:39.516902\", \"2020-03-09T10:28:44.438960\", \"2020-03-09T10:28:49.405351\", \"2020-03-09T10:28:54.424073\", \"2020-03-09T10:28:59.377351\", \"2020-03-09T10:29:04.512007\", \"2020-03-09T10:29:09.402422\", \"2020-03-09T10:29:14.436999\", \"2020-03-09T10:29:19.489654\", \"2020-03-09T10:29:24.520388\", \"2020-03-09T10:29:29.487854\", \"2020-03-09T10:29:34.494792\", \"2020-03-09T10:29:39.426826\", \"2020-03-09T10:29:44.342058\", \"2020-03-09T10:29:49.495327\", \"2020-03-09T10:29:54.490719\", \"2020-03-09T10:29:59.456626\", \"2020-03-09T10:30:04.436055\", \"2020-03-09T10:30:09.484816\", \"2020-03-09T10:30:14.450447\", \"2020-03-09T10:30:19.519882\", \"2020-03-09T10:30:24.589946\", \"2020-03-09T10:30:29.348028\", \"2020-03-09T10:30:34.422601\", \"2020-03-09T10:30:39.350122\", \"2020-03-09T10:30:44.521398\", \"2020-03-09T10:30:49.504460\", \"2020-03-09T10:30:54.390710\", \"2020-03-09T10:30:59.493865\", \"2020-03-09T10:31:04.401280\", \"2020-03-09T10:31:09.572213\", \"2020-03-09T10:31:14.523531\", \"2020-03-09T10:31:19.482136\", \"2020-03-09T10:31:24.481101\", \"2020-03-09T10:31:29.430138\", \"2020-03-09T10:31:34.530196\", \"2020-03-09T10:31:39.491933\", \"2020-03-09T10:31:44.426921\", \"2020-03-09T10:31:49.444042\", \"2020-03-09T10:31:54.431056\", \"2020-03-09T10:31:59.426598\"], \"y\": [2.554, 2.525, 2.497, 2.469, 2.44, 2.412, 2.384, 2.355, 2.327, 2.588, 2.559, 2.531, 2.503, 2.474, 2.446, 2.418, 2.389, 2.361, 2.41, 2.385, 2.361, 2.336, 2.311, 2.287, 2.262, 2.238, 2.213, 2.188, 2.164, 2.139, 2.115, 2.09, 2.066, 2.041, 2.016, 1.992, 1.967, 1.943, 1.918, 1.893, 1.869, 2.062, 2.038, 2.014, 1.99, 1.966, 1.942, 1.919, 1.89, 1.871, 1.847, 1.823, 1.799, 1.775, 1.752, 1.728, 1.704, 1.68, 1.656, 1.632, 1.608, 1.76, 1.735, 1.71, 1.685, 1.66, 1.635, 1.61, 1.585, 1.56, 1.535, 1.51, 1.485, 1.46, 1.434, 1.409, 1.384, 1.359, 1.334, 1.309, 1.284, 1.259, 1.234, 1.209, 1.184, 1.159, 1.134, 0.988, 0.964, 0.94, 0.915, 0.891, 0.727, 0.705, 0.679, 0.661, 0.64, 0.618, 0.596, 0.574, 0.553, 0.558, 0.533, 0.509, 0.485, 0.46, 0.436, 0.411, 0.387, 0.44, 0.416, 0.392, 0.367, 0.343, 0.318, 0.294, 0.269, 0.245, 0.22, 0.196, 0.162, 0.136, 0.114, 0.097, 0.07, 0.093, 0.07, 0.047, 0.024, 0.0, 0.0, 0.0, 0.0, 0.0, 0.0, 0.0, 0.0]}, {\"line\": {\"width\": 1}, \"name\": \"F-8607\", \"type\": \"scatter\", \"x\": [\"2020-03-09T10:45:29.602946\", \"2020-03-09T10:45:34.619474\", \"2020-03-09T10:45:39.496129\", \"2020-03-09T10:45:44.576401\", \"2020-03-09T10:45:49.503252\", \"2020-03-09T10:45:54.582406\", \"2020-03-09T10:45:59.565945\", \"2020-03-09T10:46:04.929078\", \"2020-03-09T10:46:09.610937\", \"2020-03-09T10:46:14.601772\", \"2020-03-09T10:46:19.650154\", \"2020-03-09T10:46:24.526653\", \"2020-03-09T10:46:29.535336\", \"2020-03-09T10:46:34.574680\", \"2020-03-09T10:46:39.460713\", \"2020-03-09T10:46:44.558933\", \"2020-03-09T10:46:49.523930\", \"2020-03-09T10:46:54.744964\", \"2020-03-09T10:46:59.609746\", \"2020-03-09T10:47:04.509715\", \"2020-03-09T10:47:09.489161\", \"2020-03-09T10:47:14.487228\", \"2020-03-09T10:47:19.496949\", \"2020-03-09T10:47:24.627409\", \"2020-03-09T10:47:29.599761\", \"2020-03-09T10:47:34.555860\", \"2020-03-09T10:47:39.571676\", \"2020-03-09T10:47:44.569943\", \"2020-03-09T10:47:49.610355\", \"2020-03-09T10:47:54.646782\", \"2020-03-09T10:47:59.543485\", \"2020-03-09T10:48:04.525737\", \"2020-03-09T10:48:09.552204\", \"2020-03-09T10:48:14.652903\", \"2020-03-09T10:48:19.499034\", \"2020-03-09T10:48:24.551021\", \"2020-03-09T10:48:29.489667\", \"2020-03-09T10:48:34.455875\", \"2020-03-09T10:48:39.570332\", \"2020-03-09T10:48:44.592993\", \"2020-03-09T10:48:49.630514\", \"2020-03-09T10:48:54.639196\", \"2020-03-09T10:48:59.652688\", \"2020-03-09T10:49:04.567778\", \"2020-03-09T10:49:09.571632\", \"2020-03-09T10:49:14.564156\", \"2020-03-09T10:49:19.671134\", \"2020-03-09T10:49:24.530016\", \"2020-03-09T10:49:29.598482\", \"2020-03-09T10:49:34.555328\", \"2020-03-09T10:49:39.617189\", \"2020-03-09T10:49:44.631523\", \"2020-03-09T10:49:49.675136\", \"2020-03-09T10:49:54.660462\", \"2020-03-09T10:50:01.036054\", \"2020-03-09T10:50:04.489394\", \"2020-03-09T10:50:09.617049\", \"2020-03-09T10:50:14.653925\", \"2020-03-09T10:50:19.520939\", \"2020-03-09T10:50:24.510598\", \"2020-03-09T10:50:29.632550\", \"2020-03-09T10:50:34.659544\", \"2020-03-09T10:50:39.610968\", \"2020-03-09T10:50:44.614228\", \"2020-03-09T10:50:49.648727\", \"2020-03-09T10:50:54.629259\", \"2020-03-09T10:50:59.682460\", \"2020-03-09T10:51:04.617376\", \"2020-03-09T10:51:09.543356\", \"2020-03-09T10:51:14.628081\", \"2020-03-09T10:51:19.630340\", \"2020-03-09T10:51:24.632104\", \"2020-03-09T10:51:29.654030\", \"2020-03-09T10:51:34.492900\", \"2020-03-09T10:51:39.531663\", \"2020-03-09T10:51:44.507542\", \"2020-03-09T10:51:49.572063\", \"2020-03-09T10:51:54.511439\", \"2020-03-09T10:51:59.624642\", \"2020-03-09T10:52:04.640263\", \"2020-03-09T10:52:09.509494\", \"2020-03-09T10:52:14.499325\", \"2020-03-09T10:52:19.632170\", \"2020-03-09T10:52:24.664548\", \"2020-03-09T10:52:29.634647\", \"2020-03-09T10:52:34.594006\", \"2020-03-09T10:52:39.601325\", \"2020-03-09T10:52:44.484192\", \"2020-03-09T10:52:49.652224\", \"2020-03-09T10:52:54.658489\", \"2020-03-09T10:52:59.652201\", \"2020-03-09T10:53:04.629042\", \"2020-03-09T10:53:09.627118\", \"2020-03-09T10:53:14.686554\", \"2020-03-09T10:53:19.577492\", \"2020-03-09T10:53:24.600959\", \"2020-03-09T10:53:29.635990\", \"2020-03-09T10:53:34.513512\", \"2020-03-09T10:53:39.664162\", \"2020-03-09T10:53:44.654454\", \"2020-03-09T10:53:49.506381\", \"2020-03-09T10:53:54.678238\", \"2020-03-09T10:53:59.544664\", \"2020-03-09T10:54:04.607716\", \"2020-03-09T10:54:09.702888\", \"2020-03-09T10:54:14.538816\", \"2020-03-09T10:54:19.611251\", \"2020-03-09T10:54:24.585259\", \"2020-03-09T10:54:29.635419\", \"2020-03-09T10:54:34.660727\", \"2020-03-09T10:54:39.518246\", \"2020-03-09T10:54:44.501488\", \"2020-03-09T10:54:49.681574\", \"2020-03-09T10:54:54.619739\", \"2020-03-09T10:54:59.687029\", \"2020-03-09T10:55:04.581986\", \"2020-03-09T10:55:09.645939\", \"2020-03-09T10:55:14.528373\", \"2020-03-09T10:55:19.624826\", \"2020-03-09T10:55:24.663989\", \"2020-03-09T10:55:29.678838\", \"2020-03-09T10:55:34.707188\", \"2020-03-09T10:55:39.630131\", \"2020-03-09T10:55:44.640056\", \"2020-03-09T10:55:49.608299\", \"2020-03-09T10:55:54.605894\", \"2020-03-09T10:55:59.671630\", \"2020-03-09T10:56:04.583111\", \"2020-03-09T10:56:09.678437\", \"2020-03-09T10:56:14.718315\", \"2020-03-09T10:56:19.700122\", \"2020-03-09T10:56:24.634359\", \"2020-03-09T10:56:29.661099\", \"2020-03-09T10:56:34.669263\", \"2020-03-09T10:56:39.635770\", \"2020-03-09T10:56:44.629955\", \"2020-03-09T10:56:49.644746\", \"2020-03-09T10:56:54.642380\", \"2020-03-09T10:56:59.545956\", \"2020-03-09T10:57:04.681473\", \"2020-03-09T10:57:09.654995\", \"2020-03-09T10:57:14.614329\", \"2020-03-09T10:57:19.637066\", \"2020-03-09T10:57:24.670922\", \"2020-03-09T10:57:29.699214\", \"2020-03-09T10:57:34.647807\", \"2020-03-09T10:57:39.689541\", \"2020-03-09T10:57:44.595839\", \"2020-03-09T10:57:49.672161\", \"2020-03-09T10:57:54.664379\", \"2020-03-09T10:57:59.594332\", \"2020-03-09T10:58:04.707632\", \"2020-03-09T10:58:09.614195\", \"2020-03-09T10:58:14.588809\", \"2020-03-09T10:58:19.681629\", \"2020-03-09T10:58:24.649182\", \"2020-03-09T10:58:29.550912\", \"2020-03-09T10:58:34.687585\", \"2020-03-09T10:58:39.564990\", \"2020-03-09T10:58:44.526963\", \"2020-03-09T10:58:49.684971\", \"2020-03-09T10:58:54.558857\", \"2020-03-09T10:58:59.549023\", \"2020-03-09T10:59:04.613360\", \"2020-03-09T10:59:09.710614\", \"2020-03-09T10:59:14.645098\", \"2020-03-09T10:59:19.653849\", \"2020-03-09T10:59:24.700294\", \"2020-03-09T10:59:29.640677\", \"2020-03-09T10:59:34.678694\", \"2020-03-09T10:59:39.585706\", \"2020-03-09T10:59:44.673439\", \"2020-03-09T10:59:49.670600\", \"2020-03-09T10:59:54.685309\", \"2020-03-09T10:59:59.669000\", \"2020-03-09T11:00:04.631372\", \"2020-03-09T11:00:09.641897\", \"2020-03-09T11:00:14.706630\", \"2020-03-09T11:00:19.622114\", \"2020-03-09T11:00:24.628543\", \"2020-03-09T11:00:29.709759\", \"2020-03-09T11:00:34.690219\", \"2020-03-09T11:00:39.674111\", \"2020-03-09T11:00:44.646127\", \"2020-03-09T11:00:49.687179\", \"2020-03-09T11:00:54.597359\", \"2020-03-09T11:00:59.640065\", \"2020-03-09T11:01:04.694809\", \"2020-03-09T11:01:09.678989\", \"2020-03-09T11:01:14.603689\", \"2020-03-09T11:01:19.726386\", \"2020-03-09T11:01:24.616598\", \"2020-03-09T11:01:29.558828\", \"2020-03-09T11:01:34.689234\", \"2020-03-09T11:01:39.646076\", \"2020-03-09T11:01:44.654307\", \"2020-03-09T11:01:49.665018\", \"2020-03-09T11:01:54.701941\", \"2020-03-09T11:01:59.651911\", \"2020-03-09T11:02:04.714779\", \"2020-03-09T11:02:09.704366\", \"2020-03-09T11:02:14.682696\", \"2020-03-09T11:02:19.635148\", \"2020-03-09T11:02:24.702497\", \"2020-03-09T11:02:29.685350\", \"2020-03-09T11:02:34.707141\", \"2020-03-09T11:02:39.551544\", \"2020-03-09T11:02:44.691275\", \"2020-03-09T11:02:49.551238\", \"2020-03-09T11:02:54.709869\", \"2020-03-09T11:02:59.665358\", \"2020-03-09T11:03:04.715127\", \"2020-03-09T11:03:09.575124\", \"2020-03-09T11:03:14.636259\", \"2020-03-09T11:03:19.687612\", \"2020-03-09T11:03:24.724851\", \"2020-03-09T11:03:29.642752\", \"2020-03-09T11:03:34.790027\", \"2020-03-09T11:03:39.680936\", \"2020-03-09T11:03:44.746225\", \"2020-03-09T11:03:49.695415\", \"2020-03-09T11:03:54.698358\", \"2020-03-09T11:03:59.707909\", \"2020-03-09T11:04:04.722515\", \"2020-03-09T11:04:09.675955\", \"2020-03-09T11:04:14.683001\", \"2020-03-09T11:04:19.702923\", \"2020-03-09T11:04:24.639789\", \"2020-03-09T11:04:29.643860\", \"2020-03-09T11:04:34.760266\", \"2020-03-09T11:04:39.664993\", \"2020-03-09T11:04:44.676430\", \"2020-03-09T11:04:49.667881\", \"2020-03-09T11:04:54.684491\", \"2020-03-09T11:04:59.700439\", \"2020-03-09T11:05:04.723882\", \"2020-03-09T11:05:09.690988\", \"2020-03-09T11:05:14.699917\", \"2020-03-09T11:05:19.680458\", \"2020-03-09T11:05:24.733451\", \"2020-03-09T11:05:29.625495\", \"2020-03-09T11:05:34.678226\", \"2020-03-09T11:05:39.713333\", \"2020-03-09T11:05:44.702056\", \"2020-03-09T11:05:49.595301\", \"2020-03-09T11:05:55.847939\", \"2020-03-09T11:05:59.723024\", \"2020-03-09T11:06:04.675993\", \"2020-03-09T11:06:09.693927\"], \"y\": [4.077, 4.058, 4.039, 4.02, 4.001, 3.982, 3.963, 3.94, 3.925, 3.906, 3.887, 3.868, 3.849, 3.83, 3.811, 3.793, 3.774, 3.755, 3.736, 3.717, 3.698, 3.679, 3.66, 3.641, 3.622, 3.603, 3.584, 3.565, 3.546, 3.527, 3.508, 3.489, 3.471, 3.452, 3.433, 3.414, 3.395, 3.376, 3.357, 3.338, 3.319, 3.3, 3.281, 3.262, 3.243, 3.224, 3.205, 3.186, 3.167, 3.149, 3.13, 3.111, 3.092, 3.073, 3.046, 3.035, 3.016, 2.997, 2.616, 2.6, 2.584, 2.567, 2.551, 2.535, 2.519, 2.503, 2.487, 2.471, 2.454, 2.438, 2.422, 2.406, 2.39, 2.374, 2.358, 2.588, 2.57, 2.553, 2.535, 2.517, 2.499, 2.481, 2.463, 2.445, 2.427, 2.409, 2.392, 2.374, 2.623, 2.603, 2.583, 2.563, 2.543, 2.523, 2.503, 2.483, 2.463, 2.444, 2.424, 2.404, 2.587, 2.561, 2.544, 2.518, 2.496, 2.479, 2.453, 2.431, 2.41, 2.61, 2.587, 2.564, 2.54, 2.517, 2.494, 2.47, 2.447, 2.423, 2.4, 2.377, 2.608, 2.583, 2.558, 2.533, 2.508, 2.482, 2.457, 2.432, 2.407, 2.382, 2.534, 2.506, 2.478, 2.45, 2.422, 2.394, 2.512, 2.484, 2.456, 2.428, 2.4, 2.372, 2.344, 2.316, 2.288, 2.26, 2.232, 2.204, 2.176, 2.148, 2.12, 2.092, 2.064, 2.036, 2.008, 1.98, 1.952, 1.924, 2.035, 2.005, 1.974, 1.944, 1.913, 1.883, 1.852, 1.822, 1.791, 1.761, 1.731, 1.7, 1.67, 1.639, 1.609, 1.578, 1.773, 1.741, 1.71, 1.678, 1.647, 1.615, 1.584, 1.552, 1.521, 1.489, 1.458, 1.426, 1.394, 1.363, 1.331, 1.3, 1.268, 1.237, 1.412, 1.379, 1.347, 1.314, 1.281, 1.248, 1.215, 1.182, 1.15, 1.117, 1.084, 1.051, 0.96, 0.93, 0.901, 0.871, 0.842, 0.813, 0.783, 0.754, 0.724, 0.695, 0.666, 0.636, 0.607, 0.577, 0.548, 0.518, 0.489, 0.46, 0.43, 0.401, 0.371, 0.342, 0.312, 0.283, 0.254, 0.224, 0.302, 0.273, 0.243, 0.214, 0.184, 0.154, 0.125, 0.095, 0.066, 0.102, 0.072, 0.042, 0.012, 0.0, 0.0, 0.0, 0.0, 0.0, 0.0]}, {\"line\": {\"width\": 1}, \"name\": \"F-8604\", \"type\": \"scatter\", \"x\": [\"2020-03-09T10:25:44.441334\", \"2020-03-09T10:25:49.449822\", \"2020-03-09T10:25:54.320482\", \"2020-03-09T10:25:59.414711\", \"2020-03-09T10:26:04.499527\", \"2020-03-09T10:26:09.390603\", \"2020-03-09T10:26:14.452546\", \"2020-03-09T10:26:19.329053\", \"2020-03-09T10:26:24.441433\", \"2020-03-09T10:26:29.389258\", \"2020-03-09T10:26:34.373801\", \"2020-03-09T10:26:39.509370\", \"2020-03-09T10:26:44.391903\", \"2020-03-09T10:26:49.493466\", \"2020-03-09T10:26:54.449879\", \"2020-03-09T10:26:59.485091\", \"2020-03-09T10:27:04.455771\", \"2020-03-09T10:27:09.489987\", \"2020-03-09T10:27:14.481484\", \"2020-03-09T10:27:19.409051\", \"2020-03-09T10:27:24.365041\", \"2020-03-09T10:27:29.438081\", \"2020-03-09T10:27:34.516485\", \"2020-03-09T10:27:39.506602\", \"2020-03-09T10:27:44.515262\", \"2020-03-09T10:27:49.432209\", \"2020-03-09T10:27:54.397544\", \"2020-03-09T10:27:59.459515\", \"2020-03-09T10:28:04.344958\", \"2020-03-09T10:28:09.470154\", \"2020-03-09T10:28:14.429994\", \"2020-03-09T10:28:19.451575\", \"2020-03-09T10:28:24.462565\", \"2020-03-09T10:28:30.403199\", \"2020-03-09T10:28:34.484629\", \"2020-03-09T10:28:39.516902\", \"2020-03-09T10:28:44.438960\", \"2020-03-09T10:28:49.405351\", \"2020-03-09T10:28:54.424073\", \"2020-03-09T10:28:59.377351\", \"2020-03-09T10:29:04.512007\", \"2020-03-09T10:29:09.402422\", \"2020-03-09T10:29:14.436999\", \"2020-03-09T10:29:19.489654\", \"2020-03-09T10:29:24.520388\", \"2020-03-09T10:29:29.487854\", \"2020-03-09T10:29:34.494792\", \"2020-03-09T10:29:39.426826\", \"2020-03-09T10:29:44.342058\", \"2020-03-09T10:29:49.495327\", \"2020-03-09T10:29:54.490719\", \"2020-03-09T10:29:59.456626\", \"2020-03-09T10:30:04.436055\", \"2020-03-09T10:30:09.484816\", \"2020-03-09T10:30:14.450447\", \"2020-03-09T10:30:19.519882\", \"2020-03-09T10:30:24.589946\", \"2020-03-09T10:30:29.348028\", \"2020-03-09T10:30:34.422601\", \"2020-03-09T10:30:39.350122\", \"2020-03-09T10:30:44.521398\", \"2020-03-09T10:30:49.504460\", \"2020-03-09T10:30:54.390710\", \"2020-03-09T10:30:59.493865\", \"2020-03-09T10:31:04.401280\", \"2020-03-09T10:31:09.572213\", \"2020-03-09T10:31:14.523531\", \"2020-03-09T10:31:19.482136\", \"2020-03-09T10:31:24.481101\", \"2020-03-09T10:31:29.430138\", \"2020-03-09T10:31:34.530196\", \"2020-03-09T10:31:39.491933\", \"2020-03-09T10:31:44.426921\", \"2020-03-09T10:31:49.444042\", \"2020-03-09T10:31:54.431056\", \"2020-03-09T10:31:59.426598\", \"2020-03-09T10:32:05.539978\", \"2020-03-09T10:32:09.434372\", \"2020-03-09T10:32:14.352433\", \"2020-03-09T10:32:19.472168\", \"2020-03-09T10:32:24.374577\", \"2020-03-09T10:32:29.506733\", \"2020-03-09T10:32:34.391707\", \"2020-03-09T10:32:39.471869\", \"2020-03-09T10:32:44.466642\", \"2020-03-09T10:32:49.414490\", \"2020-03-09T10:32:54.428365\", \"2020-03-09T10:33:04.482345\", \"2020-03-09T10:32:59.515523\", \"2020-03-09T10:33:09.479278\", \"2020-03-09T10:33:14.460777\", \"2020-03-09T10:33:19.551205\", \"2020-03-09T10:33:24.500529\", \"2020-03-09T10:33:29.509452\", \"2020-03-09T10:33:34.498565\", \"2020-03-09T10:33:39.462341\", \"2020-03-09T10:33:44.509294\", \"2020-03-09T10:33:49.371000\", \"2020-03-09T10:33:54.483512\", \"2020-03-09T10:33:59.445313\", \"2020-03-09T10:34:04.406939\"], \"y\": [2.569, 2.546, 2.523, 2.5, 2.476, 2.453, 2.43, 2.407, 2.384, 2.36, 2.337, 2.314, 2.291, 2.267, 2.161, 2.136, 2.111, 2.085, 2.06, 2.034, 2.009, 1.984, 1.958, 1.933, 1.908, 1.882, 1.857, 1.832, 1.806, 1.781, 1.756, 1.73, 1.705, 1.674, 1.654, 1.796, 1.767, 1.738, 1.709, 1.68, 1.651, 1.622, 1.593, 1.564, 1.535, 1.506, 1.477, 1.448, 1.419, 1.39, 1.361, 1.332, 1.303, 1.274, 1.245, 1.216, 1.188, 1.159, 1.13, 0.923, 0.892, 0.865, 0.844, 0.813, 0.786, 0.76, 0.734, 0.707, 0.681, 0.654, 0.628, 0.602, 0.575, 0.549, 0.523, 0.505, 0.477, 0.458, 0.435, 0.411, 0.451, 0.425, 0.399, 0.374, 0.348, 0.285, 0.26, 0.211, 0.236, 0.187, 0.162, 0.138, 0.113, 0.089, 0.064, 0.04, 0.0, 0.0, 0.0, 0.0, 0.0]}, {\"line\": {\"width\": 1}, \"name\": \"F-8604\", \"type\": \"scatter\", \"x\": [\"2020-03-09T10:56:49.644746\", \"2020-03-09T10:56:54.642380\", \"2020-03-09T10:56:59.545956\", \"2020-03-09T10:57:04.681473\", \"2020-03-09T10:57:09.654995\", \"2020-03-09T10:57:14.614329\", \"2020-03-09T10:57:19.637066\", \"2020-03-09T10:57:24.670922\", \"2020-03-09T10:57:29.699214\", \"2020-03-09T10:57:34.647807\", \"2020-03-09T10:57:39.689541\", \"2020-03-09T10:57:44.595839\", \"2020-03-09T10:57:49.672161\", \"2020-03-09T10:57:54.664379\", \"2020-03-09T10:57:59.594332\", \"2020-03-09T10:58:04.707632\", \"2020-03-09T10:58:09.614195\", \"2020-03-09T10:58:14.588809\", \"2020-03-09T10:58:19.681629\", \"2020-03-09T10:58:24.649182\", \"2020-03-09T10:58:29.550912\", \"2020-03-09T10:58:34.687585\", \"2020-03-09T10:58:39.564990\", \"2020-03-09T10:58:44.526963\", \"2020-03-09T10:58:49.684971\", \"2020-03-09T10:58:54.558857\", \"2020-03-09T10:58:59.549023\", \"2020-03-09T10:59:04.613360\", \"2020-03-09T10:59:09.710614\", \"2020-03-09T10:59:14.645098\", \"2020-03-09T10:59:19.653849\", \"2020-03-09T10:59:24.700294\", \"2020-03-09T10:59:29.640677\", \"2020-03-09T10:59:34.678694\", \"2020-03-09T10:59:39.585706\", \"2020-03-09T10:59:44.673439\", \"2020-03-09T10:59:49.670600\", \"2020-03-09T10:59:54.685309\", \"2020-03-09T10:59:59.669000\", \"2020-03-09T11:00:04.631372\", \"2020-03-09T11:00:09.641897\", \"2020-03-09T11:00:14.706630\", \"2020-03-09T11:00:19.622114\", \"2020-03-09T11:00:24.628543\", \"2020-03-09T11:00:29.709759\", \"2020-03-09T11:00:34.690219\", \"2020-03-09T11:00:39.674111\", \"2020-03-09T11:00:44.646127\", \"2020-03-09T11:00:49.687179\", \"2020-03-09T11:00:54.597359\", \"2020-03-09T11:00:59.640065\", \"2020-03-09T11:01:04.694809\", \"2020-03-09T11:01:09.678989\", \"2020-03-09T11:01:14.603689\", \"2020-03-09T11:01:19.726386\", \"2020-03-09T11:01:24.616598\", \"2020-03-09T11:01:29.558828\", \"2020-03-09T11:01:34.689234\", \"2020-03-09T11:01:39.646076\", \"2020-03-09T11:01:44.654307\", \"2020-03-09T11:01:49.665018\", \"2020-03-09T11:01:54.701941\", \"2020-03-09T11:01:59.651911\", \"2020-03-09T11:02:04.714779\", \"2020-03-09T11:02:09.704366\", \"2020-03-09T11:02:14.682696\", \"2020-03-09T11:02:19.635148\", \"2020-03-09T11:02:24.702497\", \"2020-03-09T11:02:29.685350\", \"2020-03-09T11:02:34.707141\", \"2020-03-09T11:02:39.551544\", \"2020-03-09T11:02:44.691275\", \"2020-03-09T11:02:49.551238\", \"2020-03-09T11:02:54.709869\", \"2020-03-09T11:02:59.665358\", \"2020-03-09T11:03:04.715127\", \"2020-03-09T11:03:09.575124\", \"2020-03-09T11:03:14.636259\", \"2020-03-09T11:03:19.687612\", \"2020-03-09T11:03:24.724851\", \"2020-03-09T11:03:29.642752\", \"2020-03-09T11:03:34.790027\", \"2020-03-09T11:03:39.680936\", \"2020-03-09T11:03:44.746225\", \"2020-03-09T11:03:49.695415\", \"2020-03-09T11:03:54.698358\", \"2020-03-09T11:03:59.707909\", \"2020-03-09T11:04:04.722515\", \"2020-03-09T11:04:09.675955\", \"2020-03-09T11:04:14.683001\", \"2020-03-09T11:04:19.702923\", \"2020-03-09T11:04:24.639789\", \"2020-03-09T11:04:29.643860\", \"2020-03-09T11:04:34.760266\", \"2020-03-09T11:04:39.664993\", \"2020-03-09T11:04:44.676430\", \"2020-03-09T11:04:49.667881\", \"2020-03-09T11:04:54.684491\", \"2020-03-09T11:04:59.700439\", \"2020-03-09T11:05:04.723882\", \"2020-03-09T11:05:09.690988\", \"2020-03-09T11:05:14.699917\", \"2020-03-09T11:05:19.680458\", \"2020-03-09T11:05:24.733451\", \"2020-03-09T11:05:29.625495\", \"2020-03-09T11:05:34.678226\", \"2020-03-09T11:05:39.713333\", \"2020-03-09T11:05:44.702056\", \"2020-03-09T11:05:49.595301\", \"2020-03-09T11:05:55.847939\", \"2020-03-09T11:05:59.723024\", \"2020-03-09T11:06:04.675993\", \"2020-03-09T11:06:09.693927\", \"2020-03-09T11:06:14.768803\", \"2020-03-09T11:06:19.640015\", \"2020-03-09T11:06:24.608019\", \"2020-03-09T11:06:29.692301\", \"2020-03-09T11:06:34.586827\", \"2020-03-09T11:06:39.719080\", \"2020-03-09T11:06:44.623336\", \"2020-03-09T11:06:49.665350\", \"2020-03-09T11:06:54.585710\", \"2020-03-09T11:06:59.686702\", \"2020-03-09T11:07:04.738038\", \"2020-03-09T11:07:09.797487\", \"2020-03-09T11:07:14.725120\", \"2020-03-09T11:07:19.607528\", \"2020-03-09T11:07:24.665989\", \"2020-03-09T11:07:29.736589\", \"2020-03-09T11:07:34.726997\", \"2020-03-09T11:07:39.635289\", \"2020-03-09T11:07:44.707009\", \"2020-03-09T11:07:49.614934\", \"2020-03-09T11:07:55.167882\", \"2020-03-09T11:07:59.599906\", \"2020-03-09T11:08:04.605624\", \"2020-03-09T11:08:09.748525\", \"2020-03-09T11:08:14.710797\", \"2020-03-09T11:08:19.733852\", \"2020-03-09T11:08:24.672378\", \"2020-03-09T11:08:29.641908\", \"2020-03-09T11:08:34.734073\", \"2020-03-09T11:08:39.747091\", \"2020-03-09T11:08:44.763332\", \"2020-03-09T11:08:49.691221\", \"2020-03-09T11:08:54.727119\", \"2020-03-09T11:08:59.730758\", \"2020-03-09T11:09:04.748252\", \"2020-03-09T11:09:09.686697\", \"2020-03-09T11:09:14.708843\", \"2020-03-09T11:09:19.708034\", \"2020-03-09T11:09:24.722313\", \"2020-03-09T11:09:29.694354\", \"2020-03-09T11:09:34.600859\", \"2020-03-09T11:09:39.780643\", \"2020-03-09T11:09:44.695603\", \"2020-03-09T11:09:49.666118\", \"2020-03-09T11:09:55.183200\", \"2020-03-09T11:09:59.632972\", \"2020-03-09T11:10:04.656045\", \"2020-03-09T11:10:09.643793\", \"2020-03-09T11:10:14.652069\", \"2020-03-09T11:10:19.677152\", \"2020-03-09T11:10:24.607335\", \"2020-03-09T11:10:29.733344\", \"2020-03-09T11:10:34.766611\", \"2020-03-09T11:10:39.743722\", \"2020-03-09T11:10:44.769701\", \"2020-03-09T11:10:49.593426\", \"2020-03-09T11:10:54.778461\", \"2020-03-09T11:10:59.767591\", \"2020-03-09T11:11:04.763557\", \"2020-03-09T11:11:09.605154\", \"2020-03-09T11:11:14.667105\", \"2020-03-09T11:11:19.722232\", \"2020-03-09T11:11:24.620855\", \"2020-03-09T11:11:29.816394\", \"2020-03-09T11:11:34.756824\", \"2020-03-09T11:11:39.718293\", \"2020-03-09T11:11:44.679827\", \"2020-03-09T11:11:49.624107\", \"2020-03-09T11:11:54.708819\", \"2020-03-09T11:11:59.692392\", \"2020-03-09T11:12:04.621493\", \"2020-03-09T11:12:09.653939\", \"2020-03-09T11:12:14.704885\", \"2020-03-09T11:12:29.711437\", \"2020-03-09T11:12:34.759745\", \"2020-03-09T11:12:39.781531\"], \"y\": [2.859, 2.842, 2.825, 2.809, 2.792, 2.775, 2.758, 2.741, 2.725, 2.708, 2.691, 2.674, 2.657, 2.641, 2.624, 2.607, 2.59, 2.573, 2.557, 2.54, 2.523, 2.506, 2.773, 2.754, 2.735, 2.717, 2.698, 2.679, 2.66, 2.641, 2.623, 2.604, 2.585, 2.566, 2.547, 2.529, 2.51, 2.491, 2.755, 2.735, 2.714, 2.694, 2.673, 2.653, 2.632, 2.612, 2.591, 2.57, 2.55, 2.529, 2.509, 2.488, 2.468, 2.447, 2.427, 2.406, 2.621, 2.599, 2.576, 2.554, 2.532, 2.51, 2.488, 2.465, 2.443, 2.421, 2.399, 2.376, 2.585, 2.561, 2.536, 2.512, 2.488, 2.464, 2.439, 2.315, 2.294, 2.263, 2.236, 2.21, 2.184, 2.158, 2.132, 2.106, 2.08, 2.054, 2.027, 2.001, 1.975, 1.949, 1.923, 1.897, 1.871, 1.845, 1.818, 1.792, 1.766, 1.74, 1.714, 2.104, 2.077, 2.05, 2.023, 1.996, 1.969, 1.942, 1.915, 1.888, 1.861, 1.829, 1.807, 1.78, 1.753, 1.857, 1.828, 1.799, 1.771, 1.742, 1.713, 1.685, 1.656, 1.628, 1.599, 1.57, 1.542, 1.513, 1.484, 1.456, 1.427, 1.398, 1.37, 1.341, 1.312, 1.449, 1.425, 1.389, 1.359, 1.329, 1.299, 1.269, 1.239, 1.209, 1.179, 1.149, 1.119, 1.252, 1.221, 1.19, 1.159, 1.129, 0.972, 0.938, 0.915, 0.887, 0.853, 0.83, 0.802, 0.768, 0.745, 0.583, 0.557, 0.53, 0.503, 0.476, 0.45, 0.423, 0.396, 0.369, 0.343, 0.316, 0.341, 0.312, 0.284, 0.256, 0.227, 0.121, 0.089, 0.058, 0.026, 0.0, 0.0, 0.0, 0.0, 0.0, 0.0, 0.0, 0.0, 0.0, 0.0]}, {\"line\": {\"width\": 1}, \"name\": \"F-8608\", \"type\": \"scatter\", \"x\": [\"2020-03-09T10:31:49.444042\", \"2020-03-09T10:31:54.431056\", \"2020-03-09T10:31:59.426598\", \"2020-03-09T10:32:05.539978\", \"2020-03-09T10:32:09.434372\", \"2020-03-09T10:32:14.352433\", \"2020-03-09T10:32:19.472168\", \"2020-03-09T10:32:24.374577\", \"2020-03-09T10:32:29.506733\", \"2020-03-09T10:32:34.391707\", \"2020-03-09T10:32:39.471869\", \"2020-03-09T10:32:44.466642\", \"2020-03-09T10:32:49.414490\", \"2020-03-09T10:32:54.428365\", \"2020-03-09T10:33:04.482345\", \"2020-03-09T10:32:59.515523\", \"2020-03-09T10:33:09.479278\", \"2020-03-09T10:33:14.460777\", \"2020-03-09T10:33:19.551205\", \"2020-03-09T10:33:24.500529\", \"2020-03-09T10:33:29.509452\", \"2020-03-09T10:33:34.498565\", \"2020-03-09T10:33:39.462341\", \"2020-03-09T10:33:44.509294\", \"2020-03-09T10:33:49.371000\", \"2020-03-09T10:33:54.483512\", \"2020-03-09T10:33:59.445313\", \"2020-03-09T10:34:04.406939\", \"2020-03-09T10:34:09.460020\", \"2020-03-09T10:34:14.497376\", \"2020-03-09T10:34:19.502885\", \"2020-03-09T10:34:24.534528\", \"2020-03-09T10:34:29.430630\", \"2020-03-09T10:34:34.402701\", \"2020-03-09T10:34:39.492890\", \"2020-03-09T10:34:44.455985\", \"2020-03-09T10:34:49.504166\", \"2020-03-09T10:34:54.550877\", \"2020-03-09T10:34:59.509475\", \"2020-03-09T10:35:04.389158\", \"2020-03-09T10:35:09.473800\", \"2020-03-09T10:35:14.392537\", \"2020-03-09T10:35:19.528890\", \"2020-03-09T10:35:24.571066\", \"2020-03-09T10:35:29.496362\", \"2020-03-09T10:35:34.545601\", \"2020-03-09T10:35:39.513254\", \"2020-03-09T10:35:44.532976\", \"2020-03-09T10:35:49.409106\", \"2020-03-09T10:35:54.518164\", \"2020-03-09T10:35:59.381778\", \"2020-03-09T10:36:04.461262\", \"2020-03-09T10:36:09.475548\", \"2020-03-09T10:36:15.030302\", \"2020-03-09T10:36:19.466360\", \"2020-03-09T10:36:24.538320\", \"2020-03-09T10:36:29.453070\", \"2020-03-09T10:36:34.552042\", \"2020-03-09T10:36:39.482547\", \"2020-03-09T10:36:44.549298\", \"2020-03-09T10:36:49.473626\", \"2020-03-09T10:36:54.538280\", \"2020-03-09T10:36:59.435723\", \"2020-03-09T10:37:04.435124\", \"2020-03-09T10:37:09.540953\", \"2020-03-09T10:37:14.428178\", \"2020-03-09T10:37:19.519424\", \"2020-03-09T10:37:24.461444\", \"2020-03-09T10:37:29.551975\", \"2020-03-09T10:37:34.575593\", \"2020-03-09T10:37:39.510159\", \"2020-03-09T10:37:44.489035\", \"2020-03-09T10:37:49.487865\", \"2020-03-09T10:37:54.562513\", \"2020-03-09T10:37:59.543999\", \"2020-03-09T10:38:04.450940\", \"2020-03-09T10:38:09.452235\", \"2020-03-09T10:38:14.593156\", \"2020-03-09T10:38:19.393646\", \"2020-03-09T10:38:24.518663\", \"2020-03-09T10:38:29.520894\", \"2020-03-09T10:38:34.536305\", \"2020-03-09T10:38:39.537215\", \"2020-03-09T10:38:44.542126\", \"2020-03-09T10:38:51.592433\", \"2020-03-09T10:38:54.562938\", \"2020-03-09T10:38:59.531068\", \"2020-03-09T10:39:04.483100\", \"2020-03-09T10:39:09.494768\", \"2020-03-09T10:39:14.524487\", \"2020-03-09T10:39:19.578025\", \"2020-03-09T10:39:24.589547\", \"2020-03-09T10:39:29.562693\", \"2020-03-09T10:39:34.539148\", \"2020-03-09T10:39:39.628393\", \"2020-03-09T10:39:44.462056\", \"2020-03-09T10:39:49.508817\", \"2020-03-09T10:39:54.444476\", \"2020-03-09T10:39:59.555924\", \"2020-03-09T10:40:04.418459\", \"2020-03-09T10:40:09.606364\", \"2020-03-09T10:40:14.561856\", \"2020-03-09T10:40:20.428655\", \"2020-03-09T10:40:24.431342\", \"2020-03-09T10:40:29.593172\", \"2020-03-09T10:40:34.572938\", \"2020-03-09T10:40:39.508716\", \"2020-03-09T10:40:44.465571\", \"2020-03-09T10:40:49.534259\", \"2020-03-09T10:40:54.613300\", \"2020-03-09T10:40:59.571750\", \"2020-03-09T10:41:04.528352\", \"2020-03-09T10:41:09.494079\", \"2020-03-09T10:41:14.451268\", \"2020-03-09T10:41:19.503466\", \"2020-03-09T10:41:24.549025\", \"2020-03-09T10:41:29.538290\", \"2020-03-09T10:41:34.514457\", \"2020-03-09T10:41:39.587023\", \"2020-03-09T10:41:44.456852\", \"2020-03-09T10:41:49.520308\", \"2020-03-09T10:41:54.473523\", \"2020-03-09T10:41:59.526664\", \"2020-03-09T10:42:04.537185\", \"2020-03-09T10:42:09.565068\", \"2020-03-09T10:42:14.626284\", \"2020-03-09T10:42:19.525324\", \"2020-03-09T10:42:24.528008\", \"2020-03-09T10:42:29.601106\", \"2020-03-09T10:42:34.417630\", \"2020-03-09T10:42:40.926095\", \"2020-03-09T10:42:46.099852\", \"2020-03-09T10:42:49.580982\", \"2020-03-09T10:42:54.598209\", \"2020-03-09T10:42:59.577924\", \"2020-03-09T10:43:04.575703\", \"2020-03-09T10:43:09.504695\"], \"y\": [2.625, 2.602, 2.58, 2.553, 2.534, 2.512, 2.489, 2.467, 2.444, 2.421, 2.399, 2.376, 2.544, 2.519, 2.467, 2.493, 2.442, 2.416, 2.391, 2.365, 2.339, 2.314, 2.288, 2.263, 2.237, 2.212, 2.186, 2.211, 2.185, 2.158, 2.132, 2.105, 2.078, 2.052, 2.025, 1.999, 1.972, 1.946, 1.919, 2.099, 2.073, 2.046, 2.02, 1.993, 1.967, 1.94, 1.913, 1.887, 1.86, 1.834, 1.807, 1.781, 1.754, 1.722, 1.701, 1.674, 1.648, 1.621, 1.595, 1.568, 1.7, 1.67, 1.641, 1.611, 1.582, 1.552, 1.523, 1.493, 1.464, 1.434, 1.405, 1.375, 1.346, 1.316, 1.287, 1.257, 1.465, 1.436, 1.407, 1.378, 1.349, 1.32, 1.29, 1.261, 1.221, 1.203, 1.174, 1.145, 1.116, 1.087, 1.058, 1.029, 1.0, 0.971, 0.942, 0.913, 0.884, 0.715, 0.69, 0.664, 0.639, 0.613, 0.583, 0.562, 0.537, 0.511, 0.531, 0.503, 0.475, 0.447, 0.419, 0.386, 0.363, 0.383, 0.354, 0.325, 0.296, 0.267, 0.238, 0.209, 0.18, 0.151, 0.201, 0.174, 0.147, 0.12, 0.093, 0.066, 0.061, 0.027, 0.0, 0.0, 0.0, 0.0, 0.0, 0.0, 0.0]}, {\"line\": {\"width\": 1}, \"name\": \"F-8605\", \"type\": \"scatter\", \"x\": [\"2020-03-09T10:34:04.406939\", \"2020-03-09T10:34:09.460020\", \"2020-03-09T10:34:14.497376\", \"2020-03-09T10:34:19.502885\", \"2020-03-09T10:34:24.534528\", \"2020-03-09T10:34:29.430630\", \"2020-03-09T10:34:34.402701\", \"2020-03-09T10:34:39.492890\", \"2020-03-09T10:34:44.455985\", \"2020-03-09T10:34:49.504166\", \"2020-03-09T10:34:54.550877\", \"2020-03-09T10:34:59.509475\", \"2020-03-09T10:35:04.389158\", \"2020-03-09T10:35:09.473800\", \"2020-03-09T10:35:14.392537\", \"2020-03-09T10:35:19.528890\", \"2020-03-09T10:35:24.571066\", \"2020-03-09T10:35:29.496362\", \"2020-03-09T10:35:34.545601\", \"2020-03-09T10:35:39.513254\", \"2020-03-09T10:35:44.532976\", \"2020-03-09T10:35:49.409106\", \"2020-03-09T10:35:54.518164\", \"2020-03-09T10:35:59.381778\", \"2020-03-09T10:36:04.461262\", \"2020-03-09T10:36:09.475548\", \"2020-03-09T10:36:15.030302\", \"2020-03-09T10:36:19.466360\", \"2020-03-09T10:36:24.538320\", \"2020-03-09T10:36:29.453070\", \"2020-03-09T10:36:34.552042\", \"2020-03-09T10:36:39.482547\", \"2020-03-09T10:36:44.549298\", \"2020-03-09T10:36:49.473626\", \"2020-03-09T10:36:54.538280\", \"2020-03-09T10:36:59.435723\", \"2020-03-09T10:37:04.435124\", \"2020-03-09T10:37:09.540953\", \"2020-03-09T10:37:14.428178\", \"2020-03-09T10:37:19.519424\", \"2020-03-09T10:37:24.461444\", \"2020-03-09T10:37:29.551975\", \"2020-03-09T10:37:34.575593\", \"2020-03-09T10:37:39.510159\", \"2020-03-09T10:37:44.489035\", \"2020-03-09T10:37:49.487865\", \"2020-03-09T10:37:54.562513\", \"2020-03-09T10:37:59.543999\", \"2020-03-09T10:38:04.450940\", \"2020-03-09T10:38:09.452235\", \"2020-03-09T10:38:14.593156\", \"2020-03-09T10:38:19.393646\", \"2020-03-09T10:38:24.518663\", \"2020-03-09T10:38:29.520894\", \"2020-03-09T10:38:34.536305\", \"2020-03-09T10:38:39.537215\", \"2020-03-09T10:38:44.542126\", \"2020-03-09T10:38:51.592433\", \"2020-03-09T10:38:54.562938\", \"2020-03-09T10:38:59.531068\", \"2020-03-09T10:39:04.483100\", \"2020-03-09T10:39:09.494768\", \"2020-03-09T10:39:14.524487\", \"2020-03-09T10:39:19.578025\", \"2020-03-09T10:39:24.589547\", \"2020-03-09T10:39:29.562693\", \"2020-03-09T10:39:34.539148\", \"2020-03-09T10:39:39.628393\", \"2020-03-09T10:39:44.462056\", \"2020-03-09T10:39:49.508817\", \"2020-03-09T10:39:54.444476\", \"2020-03-09T10:39:59.555924\", \"2020-03-09T10:40:04.418459\", \"2020-03-09T10:40:09.606364\", \"2020-03-09T10:40:14.561856\", \"2020-03-09T10:40:20.428655\", \"2020-03-09T10:40:24.431342\", \"2020-03-09T10:40:29.593172\", \"2020-03-09T10:40:34.572938\", \"2020-03-09T10:40:39.508716\", \"2020-03-09T10:40:44.465571\", \"2020-03-09T10:40:49.534259\", \"2020-03-09T10:40:54.613300\", \"2020-03-09T10:40:59.571750\", \"2020-03-09T10:41:04.528352\", \"2020-03-09T10:41:09.494079\", \"2020-03-09T10:41:14.451268\", \"2020-03-09T10:41:19.503466\", \"2020-03-09T10:41:24.549025\", \"2020-03-09T10:41:29.538290\", \"2020-03-09T10:41:34.514457\", \"2020-03-09T10:41:39.587023\", \"2020-03-09T10:41:44.456852\", \"2020-03-09T10:41:49.520308\", \"2020-03-09T10:41:54.473523\", \"2020-03-09T10:41:59.526664\", \"2020-03-09T10:42:04.537185\", \"2020-03-09T10:42:09.565068\", \"2020-03-09T10:42:14.626284\", \"2020-03-09T10:42:19.525324\", \"2020-03-09T10:42:24.528008\", \"2020-03-09T10:42:29.601106\", \"2020-03-09T10:42:34.417630\", \"2020-03-09T10:42:40.926095\", \"2020-03-09T10:42:46.099852\", \"2020-03-09T10:42:49.580982\", \"2020-03-09T10:42:54.598209\", \"2020-03-09T10:42:59.577924\", \"2020-03-09T10:43:04.575703\", \"2020-03-09T10:43:09.504695\", \"2020-03-09T10:43:14.528001\", \"2020-03-09T10:43:19.444530\", \"2020-03-09T10:43:24.666443\", \"2020-03-09T10:43:29.444923\", \"2020-03-09T10:43:34.509840\", \"2020-03-09T10:43:39.508321\", \"2020-03-09T10:43:44.573283\", \"2020-03-09T10:43:49.594041\", \"2020-03-09T10:43:54.600378\", \"2020-03-09T10:43:59.495523\", \"2020-03-09T10:44:04.523464\", \"2020-03-09T10:44:09.530148\", \"2020-03-09T10:44:14.456261\", \"2020-03-09T10:44:19.545580\", \"2020-03-09T10:44:24.604311\", \"2020-03-09T10:44:29.531821\", \"2020-03-09T10:44:34.455645\", \"2020-03-09T10:44:39.595453\", \"2020-03-09T10:44:44.620374\", \"2020-03-09T10:44:49.549761\", \"2020-03-09T10:44:54.524794\", \"2020-03-09T10:44:59.483967\", \"2020-03-09T10:45:04.569547\", \"2020-03-09T10:45:09.563125\", \"2020-03-09T10:45:16.617667\", \"2020-03-09T10:45:19.606759\", \"2020-03-09T10:45:24.597661\"], \"y\": [2.616, 2.6, 2.584, 2.568, 2.552, 2.536, 2.519, 2.503, 2.487, 2.471, 2.455, 2.439, 2.423, 2.407, 2.391, 2.375, 2.359, 2.6, 2.583, 2.565, 2.548, 2.534, 2.513, 2.499, 2.481, 2.461, 2.443, 2.429, 2.408, 2.394, 2.373, 2.359, 2.338, 2.589, 2.569, 2.55, 2.531, 2.512, 2.493, 2.474, 2.454, 2.435, 2.416, 2.601, 2.58, 2.559, 2.538, 2.516, 2.495, 2.474, 2.453, 2.432, 2.411, 2.39, 2.59, 2.568, 2.546, 2.515, 2.502, 2.385, 2.361, 2.336, 2.312, 2.288, 2.264, 2.239, 2.215, 2.191, 2.166, 2.142, 2.118, 2.094, 2.069, 2.045, 2.021, 1.931, 1.909, 1.883, 1.856, 1.829, 1.803, 1.776, 1.749, 1.723, 1.691, 1.669, 1.643, 1.616, 1.589, 1.563, 1.536, 1.433, 1.404, 1.376, 1.347, 1.318, 1.289, 1.26, 1.231, 1.202, 0.898, 0.871, 0.844, 0.812, 0.785, 0.763, 0.674, 0.65, 0.627, 0.604, 0.585, 0.561, 0.537, 0.513, 0.489, 0.465, 0.441, 0.34, 0.314, 0.288, 0.262, 0.236, 0.16, 0.136, 0.112, 0.088, 0.064, 0.039, 0.015, 0.0, 0.0, 0.0, 0.0, 0.0, 0.0, 0.0, 0.0]}],\n",
       "                        {\"template\": {\"data\": {\"bar\": [{\"error_x\": {\"color\": \"#2a3f5f\"}, \"error_y\": {\"color\": \"#2a3f5f\"}, \"marker\": {\"line\": {\"color\": \"white\", \"width\": 0.5}}, \"type\": \"bar\"}], \"barpolar\": [{\"marker\": {\"line\": {\"color\": \"white\", \"width\": 0.5}}, \"type\": \"barpolar\"}], \"carpet\": [{\"aaxis\": {\"endlinecolor\": \"#2a3f5f\", \"gridcolor\": \"#C8D4E3\", \"linecolor\": \"#C8D4E3\", \"minorgridcolor\": \"#C8D4E3\", \"startlinecolor\": \"#2a3f5f\"}, \"baxis\": {\"endlinecolor\": \"#2a3f5f\", \"gridcolor\": \"#C8D4E3\", \"linecolor\": \"#C8D4E3\", \"minorgridcolor\": \"#C8D4E3\", \"startlinecolor\": \"#2a3f5f\"}, \"type\": \"carpet\"}], \"choropleth\": [{\"colorbar\": {\"outlinewidth\": 0, \"ticks\": \"\"}, \"type\": \"choropleth\"}], \"contour\": [{\"colorbar\": {\"outlinewidth\": 0, \"ticks\": \"\"}, \"colorscale\": [[0.0, \"#0d0887\"], [0.1111111111111111, \"#46039f\"], [0.2222222222222222, \"#7201a8\"], [0.3333333333333333, \"#9c179e\"], [0.4444444444444444, \"#bd3786\"], [0.5555555555555556, \"#d8576b\"], [0.6666666666666666, \"#ed7953\"], [0.7777777777777778, \"#fb9f3a\"], [0.8888888888888888, \"#fdca26\"], [1.0, \"#f0f921\"]], \"type\": \"contour\"}], \"contourcarpet\": [{\"colorbar\": {\"outlinewidth\": 0, \"ticks\": \"\"}, \"type\": \"contourcarpet\"}], \"heatmap\": [{\"colorbar\": {\"outlinewidth\": 0, \"ticks\": \"\"}, \"colorscale\": [[0.0, \"#0d0887\"], [0.1111111111111111, \"#46039f\"], [0.2222222222222222, \"#7201a8\"], [0.3333333333333333, \"#9c179e\"], [0.4444444444444444, \"#bd3786\"], [0.5555555555555556, \"#d8576b\"], [0.6666666666666666, \"#ed7953\"], [0.7777777777777778, \"#fb9f3a\"], [0.8888888888888888, \"#fdca26\"], [1.0, \"#f0f921\"]], \"type\": \"heatmap\"}], \"heatmapgl\": [{\"colorbar\": {\"outlinewidth\": 0, \"ticks\": \"\"}, \"colorscale\": [[0.0, \"#0d0887\"], [0.1111111111111111, \"#46039f\"], [0.2222222222222222, \"#7201a8\"], [0.3333333333333333, \"#9c179e\"], [0.4444444444444444, \"#bd3786\"], [0.5555555555555556, \"#d8576b\"], [0.6666666666666666, \"#ed7953\"], [0.7777777777777778, \"#fb9f3a\"], [0.8888888888888888, \"#fdca26\"], [1.0, \"#f0f921\"]], \"type\": \"heatmapgl\"}], \"histogram\": [{\"marker\": {\"colorbar\": {\"outlinewidth\": 0, \"ticks\": \"\"}}, \"type\": \"histogram\"}], \"histogram2d\": [{\"colorbar\": {\"outlinewidth\": 0, \"ticks\": \"\"}, \"colorscale\": [[0.0, \"#0d0887\"], [0.1111111111111111, \"#46039f\"], [0.2222222222222222, \"#7201a8\"], [0.3333333333333333, \"#9c179e\"], [0.4444444444444444, \"#bd3786\"], [0.5555555555555556, \"#d8576b\"], [0.6666666666666666, \"#ed7953\"], [0.7777777777777778, \"#fb9f3a\"], [0.8888888888888888, \"#fdca26\"], [1.0, \"#f0f921\"]], \"type\": \"histogram2d\"}], \"histogram2dcontour\": [{\"colorbar\": {\"outlinewidth\": 0, \"ticks\": \"\"}, \"colorscale\": [[0.0, \"#0d0887\"], [0.1111111111111111, \"#46039f\"], [0.2222222222222222, \"#7201a8\"], [0.3333333333333333, \"#9c179e\"], [0.4444444444444444, \"#bd3786\"], [0.5555555555555556, \"#d8576b\"], [0.6666666666666666, \"#ed7953\"], [0.7777777777777778, \"#fb9f3a\"], [0.8888888888888888, \"#fdca26\"], [1.0, \"#f0f921\"]], \"type\": \"histogram2dcontour\"}], \"mesh3d\": [{\"colorbar\": {\"outlinewidth\": 0, \"ticks\": \"\"}, \"type\": \"mesh3d\"}], \"parcoords\": [{\"line\": {\"colorbar\": {\"outlinewidth\": 0, \"ticks\": \"\"}}, \"type\": \"parcoords\"}], \"pie\": [{\"automargin\": true, \"type\": \"pie\"}], \"scatter\": [{\"marker\": {\"colorbar\": {\"outlinewidth\": 0, \"ticks\": \"\"}}, \"type\": \"scatter\"}], \"scatter3d\": [{\"line\": {\"colorbar\": {\"outlinewidth\": 0, \"ticks\": \"\"}}, \"marker\": {\"colorbar\": {\"outlinewidth\": 0, \"ticks\": \"\"}}, \"type\": \"scatter3d\"}], \"scattercarpet\": [{\"marker\": {\"colorbar\": {\"outlinewidth\": 0, \"ticks\": \"\"}}, \"type\": \"scattercarpet\"}], \"scattergeo\": [{\"marker\": {\"colorbar\": {\"outlinewidth\": 0, \"ticks\": \"\"}}, \"type\": \"scattergeo\"}], \"scattergl\": [{\"marker\": {\"colorbar\": {\"outlinewidth\": 0, \"ticks\": \"\"}}, \"type\": \"scattergl\"}], \"scattermapbox\": [{\"marker\": {\"colorbar\": {\"outlinewidth\": 0, \"ticks\": \"\"}}, \"type\": \"scattermapbox\"}], \"scatterpolar\": [{\"marker\": {\"colorbar\": {\"outlinewidth\": 0, \"ticks\": \"\"}}, \"type\": \"scatterpolar\"}], \"scatterpolargl\": [{\"marker\": {\"colorbar\": {\"outlinewidth\": 0, \"ticks\": \"\"}}, \"type\": \"scatterpolargl\"}], \"scatterternary\": [{\"marker\": {\"colorbar\": {\"outlinewidth\": 0, \"ticks\": \"\"}}, \"type\": \"scatterternary\"}], \"surface\": [{\"colorbar\": {\"outlinewidth\": 0, \"ticks\": \"\"}, \"colorscale\": [[0.0, \"#0d0887\"], [0.1111111111111111, \"#46039f\"], [0.2222222222222222, \"#7201a8\"], [0.3333333333333333, \"#9c179e\"], [0.4444444444444444, \"#bd3786\"], [0.5555555555555556, \"#d8576b\"], [0.6666666666666666, \"#ed7953\"], [0.7777777777777778, \"#fb9f3a\"], [0.8888888888888888, \"#fdca26\"], [1.0, \"#f0f921\"]], \"type\": \"surface\"}], \"table\": [{\"cells\": {\"fill\": {\"color\": \"#EBF0F8\"}, \"line\": {\"color\": \"white\"}}, \"header\": {\"fill\": {\"color\": \"#C8D4E3\"}, \"line\": {\"color\": \"white\"}}, \"type\": \"table\"}]}, \"layout\": {\"annotationdefaults\": {\"arrowcolor\": \"#2a3f5f\", \"arrowhead\": 0, \"arrowwidth\": 1}, \"coloraxis\": {\"colorbar\": {\"outlinewidth\": 0, \"ticks\": \"\"}}, \"colorscale\": {\"diverging\": [[0, \"#8e0152\"], [0.1, \"#c51b7d\"], [0.2, \"#de77ae\"], [0.3, \"#f1b6da\"], [0.4, \"#fde0ef\"], [0.5, \"#f7f7f7\"], [0.6, \"#e6f5d0\"], [0.7, \"#b8e186\"], [0.8, \"#7fbc41\"], [0.9, \"#4d9221\"], [1, \"#276419\"]], \"sequential\": [[0.0, \"#0d0887\"], [0.1111111111111111, \"#46039f\"], [0.2222222222222222, \"#7201a8\"], [0.3333333333333333, \"#9c179e\"], [0.4444444444444444, \"#bd3786\"], [0.5555555555555556, \"#d8576b\"], [0.6666666666666666, \"#ed7953\"], [0.7777777777777778, \"#fb9f3a\"], [0.8888888888888888, \"#fdca26\"], [1.0, \"#f0f921\"]], \"sequentialminus\": [[0.0, \"#0d0887\"], [0.1111111111111111, \"#46039f\"], [0.2222222222222222, \"#7201a8\"], [0.3333333333333333, \"#9c179e\"], [0.4444444444444444, \"#bd3786\"], [0.5555555555555556, \"#d8576b\"], [0.6666666666666666, \"#ed7953\"], [0.7777777777777778, \"#fb9f3a\"], [0.8888888888888888, \"#fdca26\"], [1.0, \"#f0f921\"]]}, \"colorway\": [\"#636efa\", \"#EF553B\", \"#00cc96\", \"#ab63fa\", \"#FFA15A\", \"#19d3f3\", \"#FF6692\", \"#B6E880\", \"#FF97FF\", \"#FECB52\"], \"font\": {\"color\": \"#2a3f5f\"}, \"geo\": {\"bgcolor\": \"white\", \"lakecolor\": \"white\", \"landcolor\": \"white\", \"showlakes\": true, \"showland\": true, \"subunitcolor\": \"#C8D4E3\"}, \"hoverlabel\": {\"align\": \"left\"}, \"hovermode\": \"closest\", \"mapbox\": {\"style\": \"light\"}, \"paper_bgcolor\": \"white\", \"plot_bgcolor\": \"white\", \"polar\": {\"angularaxis\": {\"gridcolor\": \"#EBF0F8\", \"linecolor\": \"#EBF0F8\", \"ticks\": \"\"}, \"bgcolor\": \"white\", \"radialaxis\": {\"gridcolor\": \"#EBF0F8\", \"linecolor\": \"#EBF0F8\", \"ticks\": \"\"}}, \"scene\": {\"xaxis\": {\"backgroundcolor\": \"white\", \"gridcolor\": \"#DFE8F3\", \"gridwidth\": 2, \"linecolor\": \"#EBF0F8\", \"showbackground\": true, \"ticks\": \"\", \"zerolinecolor\": \"#EBF0F8\"}, \"yaxis\": {\"backgroundcolor\": \"white\", \"gridcolor\": \"#DFE8F3\", \"gridwidth\": 2, \"linecolor\": \"#EBF0F8\", \"showbackground\": true, \"ticks\": \"\", \"zerolinecolor\": \"#EBF0F8\"}, \"zaxis\": {\"backgroundcolor\": \"white\", \"gridcolor\": \"#DFE8F3\", \"gridwidth\": 2, \"linecolor\": \"#EBF0F8\", \"showbackground\": true, \"ticks\": \"\", \"zerolinecolor\": \"#EBF0F8\"}}, \"shapedefaults\": {\"line\": {\"color\": \"#2a3f5f\"}}, \"ternary\": {\"aaxis\": {\"gridcolor\": \"#DFE8F3\", \"linecolor\": \"#A2B1C6\", \"ticks\": \"\"}, \"baxis\": {\"gridcolor\": \"#DFE8F3\", \"linecolor\": \"#A2B1C6\", \"ticks\": \"\"}, \"bgcolor\": \"white\", \"caxis\": {\"gridcolor\": \"#DFE8F3\", \"linecolor\": \"#A2B1C6\", \"ticks\": \"\"}}, \"title\": {\"x\": 0.05}, \"xaxis\": {\"automargin\": true, \"gridcolor\": \"#EBF0F8\", \"linecolor\": \"#EBF0F8\", \"ticks\": \"\", \"title\": {\"standoff\": 15}, \"zerolinecolor\": \"#EBF0F8\", \"zerolinewidth\": 2}, \"yaxis\": {\"automargin\": true, \"gridcolor\": \"#EBF0F8\", \"linecolor\": \"#EBF0F8\", \"ticks\": \"\", \"title\": {\"standoff\": 15}, \"zerolinecolor\": \"#EBF0F8\", \"zerolinewidth\": 2}}}, \"title\": {\"text\": \"Distance remaining for the buses heading stop 4285\"}, \"xaxis\": {\"title\": {\"text\": \"Time\"}}, \"yaxis\": {\"title\": {\"text\": \"DISTANCE (km)\"}}},\n",
       "                        {\"responsive\": true}\n",
       "                    ).then(function(){\n",
       "                            \n",
       "var gd = document.getElementById('6689c2b2-8cd2-4800-a256-d41f32cd80fe');\n",
       "var x = new MutationObserver(function (mutations, observer) {{\n",
       "        var display = window.getComputedStyle(gd).display;\n",
       "        if (!display || display === 'none') {{\n",
       "            console.log([gd, 'removed!']);\n",
       "            Plotly.purge(gd);\n",
       "            observer.disconnect();\n",
       "        }}\n",
       "}});\n",
       "\n",
       "// Listen for the removal of the full notebook cells\n",
       "var notebookContainer = gd.closest('#notebook-container');\n",
       "if (notebookContainer) {{\n",
       "    x.observe(notebookContainer, {childList: true});\n",
       "}}\n",
       "\n",
       "// Listen for the clearing of the current output cell\n",
       "var outputEl = gd.closest('.output');\n",
       "if (outputEl) {{\n",
       "    x.observe(outputEl, {childList: true});\n",
       "}}\n",
       "\n",
       "                        })\n",
       "                };\n",
       "                });\n",
       "            </script>\n",
       "        </div>"
      ]
     },
     "metadata": {},
     "output_type": "display_data"
    }
   ],
   "source": [
    "#ETAs Figures Building\n",
    "selected_stop = 4285\n",
    "\n",
    "fs_df = hf_buses_data.loc[hf_buses_data.stop == selected_stop]\n",
    "fs_buses = fs_df['bus'].unique().tolist()\n",
    "\n",
    "fig1 = go.Figure() #Distances of bus to stop\n",
    "fig2 = go.Figure() #ETAs\n",
    "fig3 = go.Figure() #Error in ETAs\n",
    "for bus in fs_buses :\n",
    "    fs_bus_df = fs_df.loc[fs_df['bus']==bus]\n",
    "    line = fs_bus_df.iloc[0]['line']\n",
    "    bus_times = fs_bus_df.datetime.tolist()\n",
    "    bus_dists = [dist/1000 for dist in fs_bus_df['DistanceBus'].tolist()]\n",
    "    bus_etas = [eta/60 for eta in fs_bus_df['estimateArrive'].tolist()]\n",
    "    \n",
    "    bus_times_splitted,bus_dists_splitted,bus_etas_splitted,bus_etas_error_splitted = [],[],[],[] \n",
    "    last_distance = bus_dists[0]\n",
    "    last_index = 0\n",
    "    for i in range(len(bus_dists)) :\n",
    "        if (bus_dists[i] - last_distance)>1 :\n",
    "            bus_times_splitted.append(bus_times[last_index:i])\n",
    "            bus_dists_splitted.append(bus_dists[last_index:i])\n",
    "            bus_etas_splitted.append(bus_etas[last_index:i])\n",
    "            #Bus etas error\n",
    "            bus_etas_error = []\n",
    "            last_time = bus_times[i-1]\n",
    "            if bus_etas[i-1] <= 1 : \n",
    "                for k in range(last_index,i) :\n",
    "                    error = (bus_times[k] + timedelta(minutes=bus_etas[k])) - last_time\n",
    "                    error_mins = error.total_seconds()/60\n",
    "                    bus_etas_error.append(error_mins)\n",
    "                bus_etas_error_splitted.append(bus_etas_error)\n",
    "            \n",
    "            last_index = i\n",
    "        last_distance = bus_dists[i]\n",
    "        \n",
    "    # Create and style traces\n",
    "    for i in range(len(bus_times_splitted)) :\n",
    "        fig1.add_trace(go.Scatter(x=bus_times_splitted[i], y=bus_dists_splitted[i], name='{}-{}'.format(line,bus),\n",
    "                                 line=dict(width=1)))\n",
    "        fig2.add_trace(go.Scatter(x=bus_times_splitted[i], y=bus_etas_splitted[i], name='{}-{}'.format(line,bus),\n",
    "                                 line=dict(width=1)))\n",
    "        fig3.add_trace(go.Scatter(x=bus_times_splitted[i], y=bus_etas_error_splitted[i], name='{}-{}'.format(line,bus),\n",
    "                                 line=dict(width=1)))\n",
    "        \n",
    "# Edit the layout\n",
    "fig1.update_layout(title='Distance remaining for the buses heading stop {}'.format(selected_stop),\n",
    "                   xaxis_title='Time',\n",
    "                   yaxis_title='DISTANCE (km)')\n",
    "# Edit the layout\n",
    "fig2.update_layout(title='ETAs for the buses heading stop {}'.format(selected_stop),\n",
    "                   xaxis_title='Time',\n",
    "                   yaxis_title='ETA (minutes)')\n",
    "# Edit the layout\n",
    "fig3.update_layout(title='Error in ETAs for the buses heading stop {}. Positive or negative if it arrives later or sooner than expected, respectively'.format(selected_stop),\n",
    "                   xaxis_title='Time',\n",
    "                   yaxis_title='ETA ERROR (minutes)')\n",
    "\n",
    "#Show distance remaining figure\n",
    "fig1.show()"
   ]
  },
  {
   "cell_type": "code",
   "execution_count": 77,
   "metadata": {},
   "outputs": [
    {
     "data": {
      "application/vnd.plotly.v1+json": {
       "config": {
        "plotlyServerURL": "https://plot.ly"
       },
       "data": [
        {
         "line": {
          "width": 1
         },
         "name": "F-8606",
         "type": "scatter",
         "x": [
          "2020-03-09T10:15:14.291579",
          "2020-03-09T10:15:19.273074",
          "2020-03-09T10:15:24.358194",
          "2020-03-09T10:15:29.377392",
          "2020-03-09T10:15:34.415921",
          "2020-03-09T10:15:39.387586",
          "2020-03-09T10:15:44.315381",
          "2020-03-09T10:15:49.409547",
          "2020-03-09T10:15:54.360084",
          "2020-03-09T10:15:59.426210",
          "2020-03-09T10:16:04.414333",
          "2020-03-09T10:16:09.367235",
          "2020-03-09T10:16:14.389615",
          "2020-03-09T10:16:19.393246",
          "2020-03-09T10:16:24.369738",
          "2020-03-09T10:16:29.399281",
          "2020-03-09T10:16:34.284164",
          "2020-03-09T10:16:39.403782",
          "2020-03-09T10:16:44.261734",
          "2020-03-09T10:16:49.353309",
          "2020-03-09T10:16:54.339332",
          "2020-03-09T10:16:59.359884",
          "2020-03-09T10:17:05.261131",
          "2020-03-09T10:17:09.416599",
          "2020-03-09T10:17:14.405313",
          "2020-03-09T10:17:19.385354",
          "2020-03-09T10:17:24.383666",
          "2020-03-09T10:17:29.401951",
          "2020-03-09T10:17:34.458310",
          "2020-03-09T10:17:39.385904",
          "2020-03-09T10:17:44.399085",
          "2020-03-09T10:17:49.365138",
          "2020-03-09T10:17:54.402072",
          "2020-03-09T10:17:59.420878",
          "2020-03-09T10:18:04.272648",
          "2020-03-09T10:18:09.371487",
          "2020-03-09T10:18:14.318164",
          "2020-03-09T10:18:19.447084",
          "2020-03-09T10:18:24.268468",
          "2020-03-09T10:18:29.395817",
          "2020-03-09T10:18:34.387857",
          "2020-03-09T10:18:39.438467",
          "2020-03-09T10:18:44.270344",
          "2020-03-09T10:18:49.410258",
          "2020-03-09T10:18:54.394276",
          "2020-03-09T10:18:59.412396",
          "2020-03-09T10:19:04.317460",
          "2020-03-09T10:19:09.309378",
          "2020-03-09T10:19:14.324243",
          "2020-03-09T10:19:19.312966",
          "2020-03-09T10:19:24.412814",
          "2020-03-09T10:19:29.471783",
          "2020-03-09T10:19:34.425923",
          "2020-03-09T10:19:39.371382",
          "2020-03-09T10:19:44.443748",
          "2020-03-09T10:19:49.380488",
          "2020-03-09T10:19:54.285436",
          "2020-03-09T10:19:59.451342",
          "2020-03-09T10:20:04.324307",
          "2020-03-09T10:20:09.356982",
          "2020-03-09T10:20:14.474154",
          "2020-03-09T10:20:19.364041",
          "2020-03-09T10:20:24.294261",
          "2020-03-09T10:20:29.410835",
          "2020-03-09T10:20:34.310828"
         ],
         "y": [
          6.533333333333333,
          6.45,
          6.366666666666666,
          6.283333333333333,
          6.2,
          6.1,
          6.033333333333333,
          5.95,
          4.883333333333334,
          4.8,
          4.716666666666667,
          4.633333333333334,
          4.55,
          4.466666666666667,
          4.383333333333334,
          4.3,
          4.216666666666667,
          3.816666666666667,
          3.7333333333333334,
          3.65,
          3.566666666666667,
          3.4833333333333334,
          3.3833333333333333,
          3.316666666666667,
          3.2333333333333334,
          3.15,
          3.066666666666667,
          2.783333333333333,
          2.7,
          2.6166666666666667,
          2.533333333333333,
          2.45,
          2.433333333333333,
          2.35,
          2.2666666666666666,
          2.183333333333333,
          2.1,
          2.0166666666666666,
          1.9333333333333333,
          1.85,
          1.7666666666666666,
          1.6833333333333333,
          1.6,
          1.5166666666666666,
          1.4333333333333333,
          1.35,
          1.2666666666666666,
          1.1833333333333333,
          1.1,
          0.5666666666666667,
          0.48333333333333334,
          0.4,
          0.31666666666666665,
          0.4,
          0.31666666666666665,
          0.23333333333333334,
          0.15,
          0.06666666666666667,
          0,
          0,
          0,
          0,
          0,
          0,
          0
         ]
        },
        {
         "line": {
          "width": 1
         },
         "name": "F-8606",
         "type": "scatter",
         "x": [
          "2020-03-09T10:43:14.528001",
          "2020-03-09T10:43:19.444530",
          "2020-03-09T10:43:24.666443",
          "2020-03-09T10:43:29.444923",
          "2020-03-09T10:43:34.509840",
          "2020-03-09T10:43:39.508321",
          "2020-03-09T10:43:44.573283",
          "2020-03-09T10:43:49.594041",
          "2020-03-09T10:43:54.600378",
          "2020-03-09T10:43:59.495523",
          "2020-03-09T10:44:04.523464",
          "2020-03-09T10:44:09.530148",
          "2020-03-09T10:44:14.456261",
          "2020-03-09T10:44:19.545580",
          "2020-03-09T10:44:24.604311",
          "2020-03-09T10:44:29.531821",
          "2020-03-09T10:44:34.455645",
          "2020-03-09T10:44:39.595453",
          "2020-03-09T10:44:44.620374",
          "2020-03-09T10:44:49.549761",
          "2020-03-09T10:44:54.524794",
          "2020-03-09T10:44:59.483967",
          "2020-03-09T10:45:04.569547",
          "2020-03-09T10:45:09.563125",
          "2020-03-09T10:45:16.617667",
          "2020-03-09T10:45:19.606759",
          "2020-03-09T10:45:24.597661",
          "2020-03-09T10:45:29.602946",
          "2020-03-09T10:45:34.619474",
          "2020-03-09T10:45:39.496129",
          "2020-03-09T10:45:44.576401",
          "2020-03-09T10:45:49.503252",
          "2020-03-09T10:45:54.582406",
          "2020-03-09T10:45:59.565945",
          "2020-03-09T10:46:04.929078",
          "2020-03-09T10:46:09.610937",
          "2020-03-09T10:46:14.601772",
          "2020-03-09T10:46:19.650154",
          "2020-03-09T10:46:24.526653",
          "2020-03-09T10:46:29.535336",
          "2020-03-09T10:46:34.574680",
          "2020-03-09T10:46:39.460713",
          "2020-03-09T10:46:44.558933",
          "2020-03-09T10:46:49.523930",
          "2020-03-09T10:46:54.744964",
          "2020-03-09T10:46:59.609746",
          "2020-03-09T10:47:04.509715",
          "2020-03-09T10:47:09.489161",
          "2020-03-09T10:47:14.487228",
          "2020-03-09T10:47:19.496949",
          "2020-03-09T10:47:24.627409",
          "2020-03-09T10:47:29.599761",
          "2020-03-09T10:47:34.555860",
          "2020-03-09T10:47:39.571676",
          "2020-03-09T10:47:44.569943",
          "2020-03-09T10:47:49.610355",
          "2020-03-09T10:47:54.646782",
          "2020-03-09T10:47:59.543485",
          "2020-03-09T10:48:04.525737",
          "2020-03-09T10:48:09.552204",
          "2020-03-09T10:48:14.652903",
          "2020-03-09T10:48:19.499034",
          "2020-03-09T10:48:24.551021",
          "2020-03-09T10:48:29.489667",
          "2020-03-09T10:48:34.455875",
          "2020-03-09T10:48:39.570332",
          "2020-03-09T10:48:44.592993",
          "2020-03-09T10:48:49.630514",
          "2020-03-09T10:48:54.639196",
          "2020-03-09T10:48:59.652688",
          "2020-03-09T10:49:04.567778",
          "2020-03-09T10:49:09.571632",
          "2020-03-09T10:49:14.564156",
          "2020-03-09T10:49:19.671134",
          "2020-03-09T10:49:24.530016",
          "2020-03-09T10:49:29.598482",
          "2020-03-09T10:49:34.555328",
          "2020-03-09T10:49:39.617189",
          "2020-03-09T10:49:44.631523",
          "2020-03-09T10:49:49.675136",
          "2020-03-09T10:49:54.660462",
          "2020-03-09T10:50:01.036054",
          "2020-03-09T10:50:04.489394",
          "2020-03-09T10:50:09.617049",
          "2020-03-09T10:50:14.653925",
          "2020-03-09T10:50:19.520939",
          "2020-03-09T10:50:24.510598",
          "2020-03-09T10:50:29.632550",
          "2020-03-09T10:50:34.659544",
          "2020-03-09T10:50:39.610968",
          "2020-03-09T10:50:44.614228",
          "2020-03-09T10:50:49.648727",
          "2020-03-09T10:50:54.629259",
          "2020-03-09T10:50:59.682460",
          "2020-03-09T10:51:04.617376",
          "2020-03-09T10:51:09.543356",
          "2020-03-09T10:51:14.628081",
          "2020-03-09T10:51:19.630340",
          "2020-03-09T10:51:24.632104",
          "2020-03-09T10:51:29.654030",
          "2020-03-09T10:51:34.492900",
          "2020-03-09T10:51:39.531663",
          "2020-03-09T10:51:44.507542",
          "2020-03-09T10:51:49.572063",
          "2020-03-09T10:51:54.511439",
          "2020-03-09T10:51:59.624642",
          "2020-03-09T10:52:04.640263",
          "2020-03-09T10:52:09.509494",
          "2020-03-09T10:52:14.499325",
          "2020-03-09T10:52:19.632170",
          "2020-03-09T10:52:24.664548",
          "2020-03-09T10:52:29.634647",
          "2020-03-09T10:52:34.594006",
          "2020-03-09T10:52:39.601325",
          "2020-03-09T10:52:44.484192",
          "2020-03-09T10:52:49.652224",
          "2020-03-09T10:52:54.658489",
          "2020-03-09T10:52:59.652201",
          "2020-03-09T10:53:04.629042",
          "2020-03-09T10:53:09.627118",
          "2020-03-09T10:53:14.686554",
          "2020-03-09T10:53:19.577492",
          "2020-03-09T10:53:24.600959",
          "2020-03-09T10:53:29.635990",
          "2020-03-09T10:53:34.513512",
          "2020-03-09T10:53:39.664162",
          "2020-03-09T10:53:44.654454",
          "2020-03-09T10:53:49.506381",
          "2020-03-09T10:53:54.678238",
          "2020-03-09T10:53:59.544664",
          "2020-03-09T10:54:04.607716",
          "2020-03-09T10:54:09.702888",
          "2020-03-09T10:54:14.538816",
          "2020-03-09T10:54:19.611251",
          "2020-03-09T10:54:24.585259",
          "2020-03-09T10:54:29.635419",
          "2020-03-09T10:54:34.660727",
          "2020-03-09T10:54:39.518246",
          "2020-03-09T10:54:44.501488",
          "2020-03-09T10:54:49.681574",
          "2020-03-09T10:54:54.619739",
          "2020-03-09T10:54:59.687029",
          "2020-03-09T10:55:04.581986",
          "2020-03-09T10:55:09.645939",
          "2020-03-09T10:55:14.528373",
          "2020-03-09T10:55:19.624826",
          "2020-03-09T10:55:24.663989",
          "2020-03-09T10:55:29.678838",
          "2020-03-09T10:55:34.707188",
          "2020-03-09T10:55:39.630131",
          "2020-03-09T10:55:44.640056",
          "2020-03-09T10:55:49.608299",
          "2020-03-09T10:55:54.605894",
          "2020-03-09T10:55:59.671630",
          "2020-03-09T10:56:04.583111",
          "2020-03-09T10:56:09.678437",
          "2020-03-09T10:56:14.718315",
          "2020-03-09T10:56:19.700122",
          "2020-03-09T10:56:24.634359",
          "2020-03-09T10:56:34.669263",
          "2020-03-09T10:56:39.635770",
          "2020-03-09T10:56:44.629955"
         ],
         "y": [
          13.783333333333333,
          13.7,
          13.616666666666667,
          13.533333333333333,
          13.45,
          13.366666666666667,
          13.283333333333333,
          13.2,
          13.116666666666667,
          13.033333333333333,
          12.95,
          12.866666666666667,
          12.783333333333333,
          12.7,
          12.616666666666667,
          12.533333333333333,
          12.45,
          11.9,
          11.816666666666666,
          11.733333333333333,
          11.65,
          11.566666666666666,
          11.483333333333333,
          11.4,
          11.283333333333333,
          11.233333333333333,
          11.15,
          11.083333333333334,
          11,
          10.916666666666666,
          10.833333333333334,
          10.75,
          10.666666666666666,
          10.583333333333334,
          10.483333333333333,
          10.416666666666666,
          10.333333333333334,
          10.25,
          10.166666666666666,
          10.083333333333334,
          10,
          9.916666666666666,
          9.833333333333334,
          9.75,
          9.65,
          9.566666666666666,
          9.5,
          9.416666666666666,
          9.333333333333334,
          9.25,
          9.166666666666666,
          9.083333333333334,
          9,
          8.916666666666666,
          8.833333333333334,
          8.75,
          8.666666666666666,
          8.583333333333334,
          8.5,
          8.416666666666666,
          8.333333333333334,
          8.25,
          8.166666666666666,
          8.083333333333334,
          8,
          8.7,
          8.616666666666667,
          8.533333333333333,
          8.45,
          8.366666666666667,
          8.283333333333333,
          8.2,
          8.116666666666667,
          8.033333333333333,
          7.95,
          7.866666666666666,
          7.783333333333333,
          7.7,
          7.616666666666666,
          7.533333333333333,
          7.45,
          7.333333333333333,
          7.283333333333333,
          7.2,
          7.116666666666666,
          7.033333333333333,
          6.95,
          6.866666666666666,
          6.783333333333333,
          6.7,
          6.616666666666666,
          6.533333333333333,
          6.45,
          6.366666666666666,
          6.283333333333333,
          6.2,
          6.116666666666666,
          6.033333333333333,
          5.95,
          5.866666666666666,
          5.783333333333333,
          5.7,
          4.55,
          4.466666666666667,
          4.383333333333334,
          4.3,
          4.216666666666667,
          4.133333333333334,
          4.05,
          3.966666666666667,
          3.8833333333333333,
          3.8,
          3.716666666666667,
          3.6333333333333333,
          3.55,
          3.5166666666666666,
          3.433333333333333,
          3.35,
          3.2666666666666666,
          3.183333333333333,
          2.95,
          2.8833333333333333,
          2.783333333333333,
          2.7,
          2.6333333333333333,
          2.533333333333333,
          2.45,
          2.3833333333333333,
          2.283333333333333,
          2.216666666666667,
          2.1333333333333333,
          2.033333333333333,
          1.9666666666666666,
          1.8833333333333333,
          1.8,
          1.7,
          1.85,
          1.7666666666666666,
          1.6833333333333333,
          1.6,
          1.5166666666666666,
          1.4333333333333333,
          1.05,
          0.9666666666666667,
          0.8833333333333333,
          0.8,
          0.7166666666666667,
          0.9166666666666666,
          0.8166666666666667,
          0.75,
          0.6666666666666666,
          0.5833333333333334,
          0,
          0,
          0,
          0,
          0,
          0,
          0,
          0,
          0,
          0
         ]
        },
        {
         "line": {
          "width": 1
         },
         "name": "F-8607",
         "type": "scatter",
         "x": [
          "2020-03-09T10:20:39.295806",
          "2020-03-09T10:20:44.350090",
          "2020-03-09T10:20:49.525143",
          "2020-03-09T10:20:54.503251",
          "2020-03-09T10:20:59.432243",
          "2020-03-09T10:21:04.292141",
          "2020-03-09T10:21:09.402633",
          "2020-03-09T10:21:14.396797",
          "2020-03-09T10:21:19.448426",
          "2020-03-09T10:21:24.347856",
          "2020-03-09T10:21:29.428192",
          "2020-03-09T10:21:34.335669",
          "2020-03-09T10:21:39.468715",
          "2020-03-09T10:21:44.413172",
          "2020-03-09T10:21:49.428011",
          "2020-03-09T10:21:54.407754",
          "2020-03-09T10:21:59.459415",
          "2020-03-09T10:22:04.490360",
          "2020-03-09T10:22:09.507376",
          "2020-03-09T10:22:14.449948",
          "2020-03-09T10:22:19.495378",
          "2020-03-09T10:22:24.466133",
          "2020-03-09T10:22:29.332402",
          "2020-03-09T10:22:34.308517",
          "2020-03-09T10:22:39.375863",
          "2020-03-09T10:22:44.382991",
          "2020-03-09T10:22:49.479905",
          "2020-03-09T10:22:54.430529",
          "2020-03-09T10:22:59.410952",
          "2020-03-09T10:23:04.443648",
          "2020-03-09T10:23:09.468886",
          "2020-03-09T10:23:14.373860",
          "2020-03-09T10:23:19.445901",
          "2020-03-09T10:23:24.438152",
          "2020-03-09T10:23:29.455752",
          "2020-03-09T10:23:34.522162",
          "2020-03-09T10:23:39.416408",
          "2020-03-09T10:23:44.309587",
          "2020-03-09T10:23:49.452671",
          "2020-03-09T10:23:54.390569",
          "2020-03-09T10:23:59.359498",
          "2020-03-09T10:24:04.426740",
          "2020-03-09T10:24:09.308035",
          "2020-03-09T10:24:14.468489",
          "2020-03-09T10:24:19.344187",
          "2020-03-09T10:24:24.407086",
          "2020-03-09T10:24:29.464961",
          "2020-03-09T10:24:34.459078",
          "2020-03-09T10:24:40.196437",
          "2020-03-09T10:24:44.361696",
          "2020-03-09T10:24:49.416371",
          "2020-03-09T10:24:54.451349",
          "2020-03-09T10:24:59.452703",
          "2020-03-09T10:25:04.495087",
          "2020-03-09T10:25:09.345807",
          "2020-03-09T10:25:14.400362",
          "2020-03-09T10:25:19.482724",
          "2020-03-09T10:25:24.362084",
          "2020-03-09T10:25:29.445640",
          "2020-03-09T10:25:34.440821",
          "2020-03-09T10:25:39.455941",
          "2020-03-09T10:25:44.441334",
          "2020-03-09T10:25:49.449822",
          "2020-03-09T10:25:54.320482",
          "2020-03-09T10:25:59.414711",
          "2020-03-09T10:26:04.499527",
          "2020-03-09T10:26:09.390603",
          "2020-03-09T10:26:14.452546",
          "2020-03-09T10:26:19.329053",
          "2020-03-09T10:26:24.441433",
          "2020-03-09T10:26:29.389258",
          "2020-03-09T10:26:34.373801",
          "2020-03-09T10:26:39.509370",
          "2020-03-09T10:26:44.391903",
          "2020-03-09T10:26:49.493466",
          "2020-03-09T10:26:54.449879",
          "2020-03-09T10:26:59.485091",
          "2020-03-09T10:27:04.455771",
          "2020-03-09T10:27:09.489987",
          "2020-03-09T10:27:14.481484",
          "2020-03-09T10:27:19.409051",
          "2020-03-09T10:27:24.365041",
          "2020-03-09T10:27:29.438081",
          "2020-03-09T10:27:34.516485",
          "2020-03-09T10:27:39.506602",
          "2020-03-09T10:27:44.515262",
          "2020-03-09T10:27:49.432209",
          "2020-03-09T10:27:54.397544",
          "2020-03-09T10:27:59.459515",
          "2020-03-09T10:28:04.344958",
          "2020-03-09T10:28:09.470154",
          "2020-03-09T10:28:14.429994",
          "2020-03-09T10:28:19.451575",
          "2020-03-09T10:28:24.462565",
          "2020-03-09T10:28:30.403199",
          "2020-03-09T10:28:34.484629",
          "2020-03-09T10:28:39.516902",
          "2020-03-09T10:28:44.438960",
          "2020-03-09T10:28:49.405351",
          "2020-03-09T10:28:54.424073",
          "2020-03-09T10:28:59.377351",
          "2020-03-09T10:29:04.512007",
          "2020-03-09T10:29:09.402422",
          "2020-03-09T10:29:14.436999",
          "2020-03-09T10:29:19.489654",
          "2020-03-09T10:29:24.520388",
          "2020-03-09T10:29:29.487854",
          "2020-03-09T10:29:34.494792",
          "2020-03-09T10:29:39.426826",
          "2020-03-09T10:29:44.342058",
          "2020-03-09T10:29:49.495327",
          "2020-03-09T10:29:54.490719",
          "2020-03-09T10:29:59.456626",
          "2020-03-09T10:30:04.436055",
          "2020-03-09T10:30:09.484816",
          "2020-03-09T10:30:14.450447",
          "2020-03-09T10:30:19.519882",
          "2020-03-09T10:30:24.589946",
          "2020-03-09T10:30:29.348028",
          "2020-03-09T10:30:34.422601",
          "2020-03-09T10:30:39.350122",
          "2020-03-09T10:30:44.521398",
          "2020-03-09T10:30:49.504460",
          "2020-03-09T10:30:54.390710",
          "2020-03-09T10:30:59.493865",
          "2020-03-09T10:31:04.401280",
          "2020-03-09T10:31:09.572213",
          "2020-03-09T10:31:14.523531",
          "2020-03-09T10:31:19.482136",
          "2020-03-09T10:31:24.481101",
          "2020-03-09T10:31:29.430138",
          "2020-03-09T10:31:34.530196",
          "2020-03-09T10:31:39.491933",
          "2020-03-09T10:31:44.426921",
          "2020-03-09T10:31:49.444042",
          "2020-03-09T10:31:54.431056",
          "2020-03-09T10:31:59.426598"
         ],
         "y": [
          7.516666666666667,
          7.433333333333334,
          7.35,
          7.266666666666667,
          7.183333333333334,
          7.1,
          7.016666666666667,
          6.933333333333334,
          6.85,
          7.616666666666666,
          7.533333333333333,
          7.45,
          7.366666666666666,
          7.283333333333333,
          7.2,
          7.116666666666666,
          7.033333333333333,
          6.95,
          8.166666666666666,
          8.083333333333334,
          8,
          7.916666666666667,
          7.833333333333333,
          7.75,
          7.666666666666667,
          7.583333333333333,
          7.5,
          7.416666666666667,
          7.333333333333333,
          7.25,
          7.166666666666667,
          7.083333333333333,
          7,
          6.916666666666667,
          6.833333333333333,
          6.75,
          6.666666666666667,
          6.583333333333333,
          6.5,
          6.416666666666667,
          6.333333333333333,
          7.2,
          7.116666666666666,
          7.033333333333333,
          6.95,
          6.866666666666666,
          6.783333333333333,
          6.7,
          6.6,
          6.533333333333333,
          6.45,
          6.366666666666666,
          6.283333333333333,
          6.2,
          6.116666666666666,
          6.033333333333333,
          5.95,
          5.866666666666666,
          5.783333333333333,
          5.7,
          5.616666666666666,
          5.85,
          5.766666666666667,
          5.683333333333334,
          5.6,
          5.516666666666667,
          5.433333333333334,
          5.35,
          5.266666666666667,
          5.183333333333334,
          5.1,
          5.016666666666667,
          4.933333333333334,
          4.85,
          4.766666666666667,
          4.683333333333334,
          4.6,
          4.516666666666667,
          4.433333333333334,
          4.35,
          4.266666666666667,
          4.183333333333334,
          4.1,
          4.016666666666667,
          3.933333333333333,
          3.85,
          3.7666666666666666,
          3.4166666666666665,
          3.3333333333333335,
          3.25,
          3.1666666666666665,
          3.0833333333333335,
          2.783333333333333,
          2.7,
          2.6,
          2.533333333333333,
          2.45,
          2.3666666666666667,
          2.283333333333333,
          2.2,
          2.1166666666666667,
          1.9,
          1.8166666666666667,
          1.7333333333333334,
          1.65,
          1.5666666666666667,
          1.4833333333333334,
          1.4,
          1.3166666666666667,
          1.5,
          1.4166666666666667,
          1.3333333333333333,
          1.25,
          1.1666666666666667,
          1.0833333333333333,
          1,
          0.9166666666666666,
          0.8333333333333334,
          0.75,
          0.6666666666666666,
          0.6166666666666667,
          0.5166666666666667,
          0.43333333333333335,
          0.36666666666666664,
          0.26666666666666666,
          0.3333333333333333,
          0.25,
          0.16666666666666666,
          0.08333333333333333,
          0,
          0,
          0,
          0,
          0,
          0,
          0,
          0
         ]
        },
        {
         "line": {
          "width": 1
         },
         "name": "F-8607",
         "type": "scatter",
         "x": [
          "2020-03-09T10:45:29.602946",
          "2020-03-09T10:45:34.619474",
          "2020-03-09T10:45:39.496129",
          "2020-03-09T10:45:44.576401",
          "2020-03-09T10:45:49.503252",
          "2020-03-09T10:45:54.582406",
          "2020-03-09T10:45:59.565945",
          "2020-03-09T10:46:04.929078",
          "2020-03-09T10:46:09.610937",
          "2020-03-09T10:46:14.601772",
          "2020-03-09T10:46:19.650154",
          "2020-03-09T10:46:24.526653",
          "2020-03-09T10:46:29.535336",
          "2020-03-09T10:46:34.574680",
          "2020-03-09T10:46:39.460713",
          "2020-03-09T10:46:44.558933",
          "2020-03-09T10:46:49.523930",
          "2020-03-09T10:46:54.744964",
          "2020-03-09T10:46:59.609746",
          "2020-03-09T10:47:04.509715",
          "2020-03-09T10:47:09.489161",
          "2020-03-09T10:47:14.487228",
          "2020-03-09T10:47:19.496949",
          "2020-03-09T10:47:24.627409",
          "2020-03-09T10:47:29.599761",
          "2020-03-09T10:47:34.555860",
          "2020-03-09T10:47:39.571676",
          "2020-03-09T10:47:44.569943",
          "2020-03-09T10:47:49.610355",
          "2020-03-09T10:47:54.646782",
          "2020-03-09T10:47:59.543485",
          "2020-03-09T10:48:04.525737",
          "2020-03-09T10:48:09.552204",
          "2020-03-09T10:48:14.652903",
          "2020-03-09T10:48:19.499034",
          "2020-03-09T10:48:24.551021",
          "2020-03-09T10:48:29.489667",
          "2020-03-09T10:48:34.455875",
          "2020-03-09T10:48:39.570332",
          "2020-03-09T10:48:44.592993",
          "2020-03-09T10:48:49.630514",
          "2020-03-09T10:48:54.639196",
          "2020-03-09T10:48:59.652688",
          "2020-03-09T10:49:04.567778",
          "2020-03-09T10:49:09.571632",
          "2020-03-09T10:49:14.564156",
          "2020-03-09T10:49:19.671134",
          "2020-03-09T10:49:24.530016",
          "2020-03-09T10:49:29.598482",
          "2020-03-09T10:49:34.555328",
          "2020-03-09T10:49:39.617189",
          "2020-03-09T10:49:44.631523",
          "2020-03-09T10:49:49.675136",
          "2020-03-09T10:49:54.660462",
          "2020-03-09T10:50:01.036054",
          "2020-03-09T10:50:04.489394",
          "2020-03-09T10:50:09.617049",
          "2020-03-09T10:50:14.653925",
          "2020-03-09T10:50:19.520939",
          "2020-03-09T10:50:24.510598",
          "2020-03-09T10:50:29.632550",
          "2020-03-09T10:50:34.659544",
          "2020-03-09T10:50:39.610968",
          "2020-03-09T10:50:44.614228",
          "2020-03-09T10:50:49.648727",
          "2020-03-09T10:50:54.629259",
          "2020-03-09T10:50:59.682460",
          "2020-03-09T10:51:04.617376",
          "2020-03-09T10:51:09.543356",
          "2020-03-09T10:51:14.628081",
          "2020-03-09T10:51:19.630340",
          "2020-03-09T10:51:24.632104",
          "2020-03-09T10:51:29.654030",
          "2020-03-09T10:51:34.492900",
          "2020-03-09T10:51:39.531663",
          "2020-03-09T10:51:44.507542",
          "2020-03-09T10:51:49.572063",
          "2020-03-09T10:51:54.511439",
          "2020-03-09T10:51:59.624642",
          "2020-03-09T10:52:04.640263",
          "2020-03-09T10:52:09.509494",
          "2020-03-09T10:52:14.499325",
          "2020-03-09T10:52:19.632170",
          "2020-03-09T10:52:24.664548",
          "2020-03-09T10:52:29.634647",
          "2020-03-09T10:52:34.594006",
          "2020-03-09T10:52:39.601325",
          "2020-03-09T10:52:44.484192",
          "2020-03-09T10:52:49.652224",
          "2020-03-09T10:52:54.658489",
          "2020-03-09T10:52:59.652201",
          "2020-03-09T10:53:04.629042",
          "2020-03-09T10:53:09.627118",
          "2020-03-09T10:53:14.686554",
          "2020-03-09T10:53:19.577492",
          "2020-03-09T10:53:24.600959",
          "2020-03-09T10:53:29.635990",
          "2020-03-09T10:53:34.513512",
          "2020-03-09T10:53:39.664162",
          "2020-03-09T10:53:44.654454",
          "2020-03-09T10:53:49.506381",
          "2020-03-09T10:53:54.678238",
          "2020-03-09T10:53:59.544664",
          "2020-03-09T10:54:04.607716",
          "2020-03-09T10:54:09.702888",
          "2020-03-09T10:54:14.538816",
          "2020-03-09T10:54:19.611251",
          "2020-03-09T10:54:24.585259",
          "2020-03-09T10:54:29.635419",
          "2020-03-09T10:54:34.660727",
          "2020-03-09T10:54:39.518246",
          "2020-03-09T10:54:44.501488",
          "2020-03-09T10:54:49.681574",
          "2020-03-09T10:54:54.619739",
          "2020-03-09T10:54:59.687029",
          "2020-03-09T10:55:04.581986",
          "2020-03-09T10:55:09.645939",
          "2020-03-09T10:55:14.528373",
          "2020-03-09T10:55:19.624826",
          "2020-03-09T10:55:24.663989",
          "2020-03-09T10:55:29.678838",
          "2020-03-09T10:55:34.707188",
          "2020-03-09T10:55:39.630131",
          "2020-03-09T10:55:44.640056",
          "2020-03-09T10:55:49.608299",
          "2020-03-09T10:55:54.605894",
          "2020-03-09T10:55:59.671630",
          "2020-03-09T10:56:04.583111",
          "2020-03-09T10:56:09.678437",
          "2020-03-09T10:56:14.718315",
          "2020-03-09T10:56:19.700122",
          "2020-03-09T10:56:24.634359",
          "2020-03-09T10:56:29.661099",
          "2020-03-09T10:56:34.669263",
          "2020-03-09T10:56:39.635770",
          "2020-03-09T10:56:44.629955",
          "2020-03-09T10:56:49.644746",
          "2020-03-09T10:56:54.642380",
          "2020-03-09T10:56:59.545956",
          "2020-03-09T10:57:04.681473",
          "2020-03-09T10:57:09.654995",
          "2020-03-09T10:57:14.614329",
          "2020-03-09T10:57:19.637066",
          "2020-03-09T10:57:24.670922",
          "2020-03-09T10:57:29.699214",
          "2020-03-09T10:57:34.647807",
          "2020-03-09T10:57:39.689541",
          "2020-03-09T10:57:44.595839",
          "2020-03-09T10:57:49.672161",
          "2020-03-09T10:57:54.664379",
          "2020-03-09T10:57:59.594332",
          "2020-03-09T10:58:04.707632",
          "2020-03-09T10:58:09.614195",
          "2020-03-09T10:58:14.588809",
          "2020-03-09T10:58:19.681629",
          "2020-03-09T10:58:24.649182",
          "2020-03-09T10:58:29.550912",
          "2020-03-09T10:58:34.687585",
          "2020-03-09T10:58:39.564990",
          "2020-03-09T10:58:44.526963",
          "2020-03-09T10:58:49.684971",
          "2020-03-09T10:58:54.558857",
          "2020-03-09T10:58:59.549023",
          "2020-03-09T10:59:04.613360",
          "2020-03-09T10:59:09.710614",
          "2020-03-09T10:59:14.645098",
          "2020-03-09T10:59:19.653849",
          "2020-03-09T10:59:24.700294",
          "2020-03-09T10:59:29.640677",
          "2020-03-09T10:59:34.678694",
          "2020-03-09T10:59:39.585706",
          "2020-03-09T10:59:44.673439",
          "2020-03-09T10:59:49.670600",
          "2020-03-09T10:59:54.685309",
          "2020-03-09T10:59:59.669000",
          "2020-03-09T11:00:04.631372",
          "2020-03-09T11:00:09.641897",
          "2020-03-09T11:00:14.706630",
          "2020-03-09T11:00:19.622114",
          "2020-03-09T11:00:24.628543",
          "2020-03-09T11:00:29.709759",
          "2020-03-09T11:00:34.690219",
          "2020-03-09T11:00:39.674111",
          "2020-03-09T11:00:44.646127",
          "2020-03-09T11:00:49.687179",
          "2020-03-09T11:00:54.597359",
          "2020-03-09T11:00:59.640065",
          "2020-03-09T11:01:04.694809",
          "2020-03-09T11:01:09.678989",
          "2020-03-09T11:01:14.603689",
          "2020-03-09T11:01:19.726386",
          "2020-03-09T11:01:24.616598",
          "2020-03-09T11:01:29.558828",
          "2020-03-09T11:01:34.689234",
          "2020-03-09T11:01:39.646076",
          "2020-03-09T11:01:44.654307",
          "2020-03-09T11:01:49.665018",
          "2020-03-09T11:01:54.701941",
          "2020-03-09T11:01:59.651911",
          "2020-03-09T11:02:04.714779",
          "2020-03-09T11:02:09.704366",
          "2020-03-09T11:02:14.682696",
          "2020-03-09T11:02:19.635148",
          "2020-03-09T11:02:24.702497",
          "2020-03-09T11:02:29.685350",
          "2020-03-09T11:02:34.707141",
          "2020-03-09T11:02:39.551544",
          "2020-03-09T11:02:44.691275",
          "2020-03-09T11:02:49.551238",
          "2020-03-09T11:02:54.709869",
          "2020-03-09T11:02:59.665358",
          "2020-03-09T11:03:04.715127",
          "2020-03-09T11:03:09.575124",
          "2020-03-09T11:03:14.636259",
          "2020-03-09T11:03:19.687612",
          "2020-03-09T11:03:24.724851",
          "2020-03-09T11:03:29.642752",
          "2020-03-09T11:03:34.790027",
          "2020-03-09T11:03:39.680936",
          "2020-03-09T11:03:44.746225",
          "2020-03-09T11:03:49.695415",
          "2020-03-09T11:03:54.698358",
          "2020-03-09T11:03:59.707909",
          "2020-03-09T11:04:04.722515",
          "2020-03-09T11:04:09.675955",
          "2020-03-09T11:04:14.683001",
          "2020-03-09T11:04:19.702923",
          "2020-03-09T11:04:24.639789",
          "2020-03-09T11:04:29.643860",
          "2020-03-09T11:04:34.760266",
          "2020-03-09T11:04:39.664993",
          "2020-03-09T11:04:44.676430",
          "2020-03-09T11:04:49.667881",
          "2020-03-09T11:04:54.684491",
          "2020-03-09T11:04:59.700439",
          "2020-03-09T11:05:04.723882",
          "2020-03-09T11:05:09.690988",
          "2020-03-09T11:05:14.699917",
          "2020-03-09T11:05:19.680458",
          "2020-03-09T11:05:24.733451",
          "2020-03-09T11:05:29.625495",
          "2020-03-09T11:05:34.678226",
          "2020-03-09T11:05:39.713333",
          "2020-03-09T11:05:44.702056",
          "2020-03-09T11:05:49.595301",
          "2020-03-09T11:05:55.847939",
          "2020-03-09T11:05:59.723024",
          "2020-03-09T11:06:04.675993",
          "2020-03-09T11:06:09.693927"
         ],
         "y": [
          17.933333333333334,
          17.85,
          17.766666666666666,
          17.683333333333334,
          17.6,
          17.516666666666666,
          17.433333333333334,
          17.333333333333332,
          17.266666666666666,
          17.183333333333334,
          17.1,
          17.016666666666666,
          16.933333333333334,
          16.85,
          16.766666666666666,
          16.683333333333334,
          16.6,
          16.516666666666666,
          16.433333333333334,
          16.35,
          16.266666666666666,
          16.183333333333334,
          16.1,
          16.016666666666666,
          15.933333333333334,
          15.85,
          15.766666666666667,
          15.683333333333334,
          15.6,
          15.516666666666667,
          15.433333333333334,
          15.35,
          15.266666666666667,
          15.183333333333334,
          15.1,
          15.016666666666667,
          14.933333333333334,
          14.85,
          14.766666666666667,
          14.683333333333334,
          14.6,
          14.516666666666667,
          14.433333333333334,
          14.35,
          14.266666666666667,
          14.183333333333334,
          14.1,
          14.016666666666667,
          13.933333333333334,
          13.85,
          13.766666666666667,
          13.683333333333334,
          13.6,
          13.516666666666667,
          13.4,
          13.35,
          13.266666666666667,
          13.183333333333334,
          13.5,
          13.416666666666666,
          13.333333333333334,
          13.25,
          13.166666666666666,
          13.083333333333334,
          13,
          12.916666666666666,
          12.833333333333334,
          12.75,
          12.666666666666666,
          12.583333333333334,
          12.5,
          12.416666666666666,
          12.333333333333334,
          12.25,
          12.166666666666666,
          12.05,
          11.966666666666667,
          11.883333333333333,
          11.8,
          11.716666666666667,
          11.633333333333333,
          11.55,
          11.466666666666667,
          11.383333333333333,
          11.3,
          11.216666666666667,
          11.133333333333333,
          11.05,
          10.983333333333333,
          10.9,
          10.816666666666666,
          10.733333333333333,
          10.65,
          10.566666666666666,
          10.483333333333333,
          10.4,
          10.316666666666666,
          10.233333333333333,
          10.15,
          10.066666666666666,
          9.983333333333333,
          9.883333333333333,
          9.816666666666666,
          9.716666666666667,
          9.633333333333333,
          9.566666666666666,
          9.466666666666667,
          9.383333333333333,
          9.3,
          9.3,
          9.216666666666667,
          9.133333333333333,
          9.05,
          8.966666666666667,
          8.883333333333333,
          8.8,
          8.716666666666667,
          8.633333333333333,
          8.55,
          8.466666666666667,
          8.633333333333333,
          8.55,
          8.466666666666667,
          8.383333333333333,
          8.3,
          8.216666666666667,
          8.133333333333333,
          8.05,
          7.966666666666667,
          7.883333333333334,
          7.55,
          7.466666666666667,
          7.383333333333334,
          7.3,
          7.216666666666667,
          7.133333333333334,
          7.483333333333333,
          7.4,
          7.316666666666666,
          7.233333333333333,
          7.15,
          7.066666666666666,
          6.983333333333333,
          6.9,
          6.816666666666666,
          6.733333333333333,
          6.65,
          6.566666666666666,
          6.483333333333333,
          6.4,
          6.316666666666666,
          6.233333333333333,
          6.15,
          6.066666666666666,
          5.983333333333333,
          5.9,
          5.816666666666666,
          5.733333333333333,
          5.566666666666666,
          5.483333333333333,
          5.4,
          5.316666666666666,
          5.233333333333333,
          5.15,
          5.066666666666666,
          4.983333333333333,
          4.9,
          4.816666666666666,
          4.733333333333333,
          4.65,
          4.566666666666666,
          4.483333333333333,
          4.4,
          4.316666666666666,
          4.683333333333334,
          4.6,
          4.516666666666667,
          4.433333333333334,
          4.35,
          4.266666666666667,
          4.183333333333334,
          4.1,
          4.016666666666667,
          3.933333333333333,
          3.85,
          3.7666666666666666,
          3.683333333333333,
          3.6,
          3.5166666666666666,
          3.433333333333333,
          3.35,
          3.2666666666666666,
          3.5833333333333335,
          3.5,
          3.4166666666666665,
          3.3333333333333335,
          3.25,
          3.1666666666666665,
          3.0833333333333335,
          3,
          2.9166666666666665,
          2.8333333333333335,
          2.75,
          2.6666666666666665,
          2.716666666666667,
          2.6333333333333333,
          2.55,
          2.466666666666667,
          2.3833333333333333,
          2.3,
          2.216666666666667,
          2.1333333333333333,
          2.05,
          1.9666666666666666,
          1.8833333333333333,
          1.8,
          1.7166666666666666,
          1.6333333333333333,
          1.55,
          1.4666666666666666,
          1.3833333333333333,
          1.3,
          1.2166666666666666,
          1.1333333333333333,
          1.05,
          0.9666666666666667,
          0.8833333333333333,
          0.8,
          0.7166666666666667,
          0.6333333333333333,
          0.85,
          0.7666666666666667,
          0.6833333333333333,
          0.6,
          0.5166666666666667,
          0.43333333333333335,
          0.35,
          0.26666666666666666,
          0.18333333333333332,
          0.2833333333333333,
          0.2,
          0.11666666666666667,
          0.03333333333333333,
          0,
          0,
          0,
          0,
          0,
          0
         ]
        },
        {
         "line": {
          "width": 1
         },
         "name": "F-8604",
         "type": "scatter",
         "x": [
          "2020-03-09T10:25:44.441334",
          "2020-03-09T10:25:49.449822",
          "2020-03-09T10:25:54.320482",
          "2020-03-09T10:25:59.414711",
          "2020-03-09T10:26:04.499527",
          "2020-03-09T10:26:09.390603",
          "2020-03-09T10:26:14.452546",
          "2020-03-09T10:26:19.329053",
          "2020-03-09T10:26:24.441433",
          "2020-03-09T10:26:29.389258",
          "2020-03-09T10:26:34.373801",
          "2020-03-09T10:26:39.509370",
          "2020-03-09T10:26:44.391903",
          "2020-03-09T10:26:49.493466",
          "2020-03-09T10:26:54.449879",
          "2020-03-09T10:26:59.485091",
          "2020-03-09T10:27:04.455771",
          "2020-03-09T10:27:09.489987",
          "2020-03-09T10:27:14.481484",
          "2020-03-09T10:27:19.409051",
          "2020-03-09T10:27:24.365041",
          "2020-03-09T10:27:29.438081",
          "2020-03-09T10:27:34.516485",
          "2020-03-09T10:27:39.506602",
          "2020-03-09T10:27:44.515262",
          "2020-03-09T10:27:49.432209",
          "2020-03-09T10:27:54.397544",
          "2020-03-09T10:27:59.459515",
          "2020-03-09T10:28:04.344958",
          "2020-03-09T10:28:09.470154",
          "2020-03-09T10:28:14.429994",
          "2020-03-09T10:28:19.451575",
          "2020-03-09T10:28:24.462565",
          "2020-03-09T10:28:30.403199",
          "2020-03-09T10:28:34.484629",
          "2020-03-09T10:28:39.516902",
          "2020-03-09T10:28:44.438960",
          "2020-03-09T10:28:49.405351",
          "2020-03-09T10:28:54.424073",
          "2020-03-09T10:28:59.377351",
          "2020-03-09T10:29:04.512007",
          "2020-03-09T10:29:09.402422",
          "2020-03-09T10:29:14.436999",
          "2020-03-09T10:29:19.489654",
          "2020-03-09T10:29:24.520388",
          "2020-03-09T10:29:29.487854",
          "2020-03-09T10:29:34.494792",
          "2020-03-09T10:29:39.426826",
          "2020-03-09T10:29:44.342058",
          "2020-03-09T10:29:49.495327",
          "2020-03-09T10:29:54.490719",
          "2020-03-09T10:29:59.456626",
          "2020-03-09T10:30:04.436055",
          "2020-03-09T10:30:09.484816",
          "2020-03-09T10:30:14.450447",
          "2020-03-09T10:30:19.519882",
          "2020-03-09T10:30:24.589946",
          "2020-03-09T10:30:29.348028",
          "2020-03-09T10:30:34.422601",
          "2020-03-09T10:30:39.350122",
          "2020-03-09T10:30:44.521398",
          "2020-03-09T10:30:49.504460",
          "2020-03-09T10:30:54.390710",
          "2020-03-09T10:30:59.493865",
          "2020-03-09T10:31:04.401280",
          "2020-03-09T10:31:09.572213",
          "2020-03-09T10:31:14.523531",
          "2020-03-09T10:31:19.482136",
          "2020-03-09T10:31:24.481101",
          "2020-03-09T10:31:29.430138",
          "2020-03-09T10:31:34.530196",
          "2020-03-09T10:31:39.491933",
          "2020-03-09T10:31:44.426921",
          "2020-03-09T10:31:49.444042",
          "2020-03-09T10:31:54.431056",
          "2020-03-09T10:31:59.426598",
          "2020-03-09T10:32:05.539978",
          "2020-03-09T10:32:09.434372",
          "2020-03-09T10:32:14.352433",
          "2020-03-09T10:32:19.472168",
          "2020-03-09T10:32:24.374577",
          "2020-03-09T10:32:29.506733",
          "2020-03-09T10:32:34.391707",
          "2020-03-09T10:32:39.471869",
          "2020-03-09T10:32:44.466642",
          "2020-03-09T10:32:49.414490",
          "2020-03-09T10:32:54.428365",
          "2020-03-09T10:33:04.482345",
          "2020-03-09T10:32:59.515523",
          "2020-03-09T10:33:09.479278",
          "2020-03-09T10:33:14.460777",
          "2020-03-09T10:33:19.551205",
          "2020-03-09T10:33:24.500529",
          "2020-03-09T10:33:29.509452",
          "2020-03-09T10:33:34.498565",
          "2020-03-09T10:33:39.462341",
          "2020-03-09T10:33:44.509294",
          "2020-03-09T10:33:49.371000",
          "2020-03-09T10:33:54.483512",
          "2020-03-09T10:33:59.445313",
          "2020-03-09T10:34:04.406939"
         ],
         "y": [
          9.216666666666667,
          9.133333333333333,
          9.05,
          8.966666666666667,
          8.883333333333333,
          8.8,
          8.716666666666667,
          8.633333333333333,
          8.55,
          8.466666666666667,
          8.383333333333333,
          8.3,
          8.216666666666667,
          8.133333333333333,
          7.1,
          7.016666666666667,
          6.933333333333334,
          6.85,
          6.766666666666667,
          6.683333333333334,
          6.6,
          6.516666666666667,
          6.433333333333334,
          6.35,
          6.266666666666667,
          6.183333333333334,
          6.1,
          6.016666666666667,
          5.933333333333334,
          5.85,
          5.766666666666667,
          5.683333333333334,
          5.6,
          5.5,
          5.433333333333334,
          5.166666666666667,
          5.083333333333333,
          5,
          4.916666666666667,
          4.833333333333333,
          4.75,
          4.666666666666667,
          4.583333333333333,
          4.5,
          4.416666666666667,
          4.333333333333333,
          4.25,
          4.166666666666667,
          4.083333333333333,
          4,
          3.9166666666666665,
          3.8333333333333335,
          3.75,
          3.6666666666666665,
          3.5833333333333335,
          3.5,
          3.4166666666666665,
          3.3333333333333335,
          3.25,
          2.9166666666666665,
          2.816666666666667,
          2.7333333333333334,
          2.6666666666666665,
          2.566666666666667,
          2.4833333333333334,
          2.4,
          2.316666666666667,
          2.2333333333333334,
          2.15,
          2.066666666666667,
          1.9833333333333334,
          1.9,
          1.8166666666666667,
          1.7333333333333334,
          1.65,
          1.8,
          1.7,
          1.6333333333333333,
          1.55,
          1.4666666666666666,
          1.45,
          1.3666666666666667,
          1.2833333333333334,
          1.2,
          1.1166666666666667,
          0.9666666666666667,
          0.8833333333333333,
          0.7166666666666667,
          0.8,
          0.6333333333333333,
          0.55,
          0.4666666666666667,
          0.38333333333333336,
          0.3,
          0.21666666666666667,
          0.13333333333333333,
          0,
          0,
          0,
          0,
          0
         ]
        },
        {
         "line": {
          "width": 1
         },
         "name": "F-8604",
         "type": "scatter",
         "x": [
          "2020-03-09T10:56:49.644746",
          "2020-03-09T10:56:54.642380",
          "2020-03-09T10:56:59.545956",
          "2020-03-09T10:57:04.681473",
          "2020-03-09T10:57:09.654995",
          "2020-03-09T10:57:14.614329",
          "2020-03-09T10:57:19.637066",
          "2020-03-09T10:57:24.670922",
          "2020-03-09T10:57:29.699214",
          "2020-03-09T10:57:34.647807",
          "2020-03-09T10:57:39.689541",
          "2020-03-09T10:57:44.595839",
          "2020-03-09T10:57:49.672161",
          "2020-03-09T10:57:54.664379",
          "2020-03-09T10:57:59.594332",
          "2020-03-09T10:58:04.707632",
          "2020-03-09T10:58:09.614195",
          "2020-03-09T10:58:14.588809",
          "2020-03-09T10:58:19.681629",
          "2020-03-09T10:58:24.649182",
          "2020-03-09T10:58:29.550912",
          "2020-03-09T10:58:34.687585",
          "2020-03-09T10:58:39.564990",
          "2020-03-09T10:58:44.526963",
          "2020-03-09T10:58:49.684971",
          "2020-03-09T10:58:54.558857",
          "2020-03-09T10:58:59.549023",
          "2020-03-09T10:59:04.613360",
          "2020-03-09T10:59:09.710614",
          "2020-03-09T10:59:14.645098",
          "2020-03-09T10:59:19.653849",
          "2020-03-09T10:59:24.700294",
          "2020-03-09T10:59:29.640677",
          "2020-03-09T10:59:34.678694",
          "2020-03-09T10:59:39.585706",
          "2020-03-09T10:59:44.673439",
          "2020-03-09T10:59:49.670600",
          "2020-03-09T10:59:54.685309",
          "2020-03-09T10:59:59.669000",
          "2020-03-09T11:00:04.631372",
          "2020-03-09T11:00:09.641897",
          "2020-03-09T11:00:14.706630",
          "2020-03-09T11:00:19.622114",
          "2020-03-09T11:00:24.628543",
          "2020-03-09T11:00:29.709759",
          "2020-03-09T11:00:34.690219",
          "2020-03-09T11:00:39.674111",
          "2020-03-09T11:00:44.646127",
          "2020-03-09T11:00:49.687179",
          "2020-03-09T11:00:54.597359",
          "2020-03-09T11:00:59.640065",
          "2020-03-09T11:01:04.694809",
          "2020-03-09T11:01:09.678989",
          "2020-03-09T11:01:14.603689",
          "2020-03-09T11:01:19.726386",
          "2020-03-09T11:01:24.616598",
          "2020-03-09T11:01:29.558828",
          "2020-03-09T11:01:34.689234",
          "2020-03-09T11:01:39.646076",
          "2020-03-09T11:01:44.654307",
          "2020-03-09T11:01:49.665018",
          "2020-03-09T11:01:54.701941",
          "2020-03-09T11:01:59.651911",
          "2020-03-09T11:02:04.714779",
          "2020-03-09T11:02:09.704366",
          "2020-03-09T11:02:14.682696",
          "2020-03-09T11:02:19.635148",
          "2020-03-09T11:02:24.702497",
          "2020-03-09T11:02:29.685350",
          "2020-03-09T11:02:34.707141",
          "2020-03-09T11:02:39.551544",
          "2020-03-09T11:02:44.691275",
          "2020-03-09T11:02:49.551238",
          "2020-03-09T11:02:54.709869",
          "2020-03-09T11:02:59.665358",
          "2020-03-09T11:03:04.715127",
          "2020-03-09T11:03:09.575124",
          "2020-03-09T11:03:14.636259",
          "2020-03-09T11:03:19.687612",
          "2020-03-09T11:03:24.724851",
          "2020-03-09T11:03:29.642752",
          "2020-03-09T11:03:34.790027",
          "2020-03-09T11:03:39.680936",
          "2020-03-09T11:03:44.746225",
          "2020-03-09T11:03:49.695415",
          "2020-03-09T11:03:54.698358",
          "2020-03-09T11:03:59.707909",
          "2020-03-09T11:04:04.722515",
          "2020-03-09T11:04:09.675955",
          "2020-03-09T11:04:14.683001",
          "2020-03-09T11:04:19.702923",
          "2020-03-09T11:04:24.639789",
          "2020-03-09T11:04:29.643860",
          "2020-03-09T11:04:34.760266",
          "2020-03-09T11:04:39.664993",
          "2020-03-09T11:04:44.676430",
          "2020-03-09T11:04:49.667881",
          "2020-03-09T11:04:54.684491",
          "2020-03-09T11:04:59.700439",
          "2020-03-09T11:05:04.723882",
          "2020-03-09T11:05:09.690988",
          "2020-03-09T11:05:14.699917",
          "2020-03-09T11:05:19.680458",
          "2020-03-09T11:05:24.733451",
          "2020-03-09T11:05:29.625495",
          "2020-03-09T11:05:34.678226",
          "2020-03-09T11:05:39.713333",
          "2020-03-09T11:05:44.702056",
          "2020-03-09T11:05:49.595301",
          "2020-03-09T11:05:55.847939",
          "2020-03-09T11:05:59.723024",
          "2020-03-09T11:06:04.675993",
          "2020-03-09T11:06:09.693927",
          "2020-03-09T11:06:14.768803",
          "2020-03-09T11:06:19.640015",
          "2020-03-09T11:06:24.608019",
          "2020-03-09T11:06:29.692301",
          "2020-03-09T11:06:34.586827",
          "2020-03-09T11:06:39.719080",
          "2020-03-09T11:06:44.623336",
          "2020-03-09T11:06:49.665350",
          "2020-03-09T11:06:54.585710",
          "2020-03-09T11:06:59.686702",
          "2020-03-09T11:07:04.738038",
          "2020-03-09T11:07:09.797487",
          "2020-03-09T11:07:14.725120",
          "2020-03-09T11:07:19.607528",
          "2020-03-09T11:07:24.665989",
          "2020-03-09T11:07:29.736589",
          "2020-03-09T11:07:34.726997",
          "2020-03-09T11:07:39.635289",
          "2020-03-09T11:07:44.707009",
          "2020-03-09T11:07:49.614934",
          "2020-03-09T11:07:55.167882",
          "2020-03-09T11:07:59.599906",
          "2020-03-09T11:08:04.605624",
          "2020-03-09T11:08:09.748525",
          "2020-03-09T11:08:14.710797",
          "2020-03-09T11:08:19.733852",
          "2020-03-09T11:08:24.672378",
          "2020-03-09T11:08:29.641908",
          "2020-03-09T11:08:34.734073",
          "2020-03-09T11:08:39.747091",
          "2020-03-09T11:08:44.763332",
          "2020-03-09T11:08:49.691221",
          "2020-03-09T11:08:54.727119",
          "2020-03-09T11:08:59.730758",
          "2020-03-09T11:09:04.748252",
          "2020-03-09T11:09:09.686697",
          "2020-03-09T11:09:14.708843",
          "2020-03-09T11:09:19.708034",
          "2020-03-09T11:09:24.722313",
          "2020-03-09T11:09:29.694354",
          "2020-03-09T11:09:34.600859",
          "2020-03-09T11:09:39.780643",
          "2020-03-09T11:09:44.695603",
          "2020-03-09T11:09:49.666118",
          "2020-03-09T11:09:55.183200",
          "2020-03-09T11:09:59.632972",
          "2020-03-09T11:10:04.656045",
          "2020-03-09T11:10:09.643793",
          "2020-03-09T11:10:14.652069",
          "2020-03-09T11:10:19.677152",
          "2020-03-09T11:10:24.607335",
          "2020-03-09T11:10:29.733344",
          "2020-03-09T11:10:34.766611",
          "2020-03-09T11:10:39.743722",
          "2020-03-09T11:10:44.769701",
          "2020-03-09T11:10:49.593426",
          "2020-03-09T11:10:54.778461",
          "2020-03-09T11:10:59.767591",
          "2020-03-09T11:11:04.763557",
          "2020-03-09T11:11:09.605154",
          "2020-03-09T11:11:14.667105",
          "2020-03-09T11:11:19.722232",
          "2020-03-09T11:11:24.620855",
          "2020-03-09T11:11:29.816394",
          "2020-03-09T11:11:34.756824",
          "2020-03-09T11:11:39.718293",
          "2020-03-09T11:11:44.679827",
          "2020-03-09T11:11:49.624107",
          "2020-03-09T11:11:54.708819",
          "2020-03-09T11:11:59.692392",
          "2020-03-09T11:12:04.621493",
          "2020-03-09T11:12:09.653939",
          "2020-03-09T11:12:14.704885",
          "2020-03-09T11:12:29.711437",
          "2020-03-09T11:12:34.759745",
          "2020-03-09T11:12:39.781531"
         ],
         "y": [
          14.183333333333334,
          14.1,
          14.016666666666667,
          13.933333333333334,
          13.85,
          13.766666666666667,
          13.683333333333334,
          13.6,
          13.516666666666667,
          13.433333333333334,
          13.35,
          13.266666666666667,
          13.183333333333334,
          13.1,
          13.016666666666667,
          12.933333333333334,
          12.85,
          12.766666666666667,
          12.683333333333334,
          12.6,
          12.516666666666667,
          12.433333333333334,
          12.283333333333333,
          12.2,
          12.116666666666667,
          12.033333333333333,
          11.95,
          11.866666666666667,
          11.783333333333333,
          11.7,
          11.616666666666667,
          11.533333333333333,
          11.45,
          11.366666666666667,
          11.283333333333333,
          11.2,
          11.116666666666667,
          11.033333333333333,
          11.166666666666666,
          11.083333333333334,
          11,
          10.916666666666666,
          10.833333333333334,
          10.75,
          10.666666666666666,
          10.583333333333334,
          10.5,
          10.416666666666666,
          10.333333333333334,
          10.25,
          10.166666666666666,
          10.083333333333334,
          10,
          9.916666666666666,
          9.833333333333334,
          9.75,
          9.833333333333334,
          9.75,
          9.666666666666666,
          9.583333333333334,
          9.5,
          9.416666666666666,
          9.333333333333334,
          9.25,
          9.166666666666666,
          9.083333333333334,
          9,
          8.916666666666666,
          8.866666666666667,
          8.783333333333333,
          8.7,
          8.616666666666667,
          8.533333333333333,
          8.45,
          8.366666666666667,
          7.383333333333334,
          7.316666666666666,
          7.216666666666667,
          7.133333333333334,
          7.05,
          6.966666666666667,
          6.883333333333334,
          6.8,
          6.716666666666667,
          6.633333333333334,
          6.55,
          6.466666666666667,
          6.383333333333334,
          6.3,
          6.216666666666667,
          6.133333333333334,
          6.05,
          5.966666666666667,
          5.883333333333334,
          5.8,
          5.716666666666667,
          5.633333333333334,
          5.55,
          5.466666666666667,
          6.5,
          6.416666666666667,
          6.333333333333333,
          6.25,
          6.166666666666667,
          6.083333333333333,
          6,
          5.916666666666667,
          5.833333333333333,
          5.75,
          5.65,
          5.583333333333333,
          5.5,
          5.416666666666667,
          5.4,
          5.316666666666666,
          5.233333333333333,
          5.15,
          5.066666666666666,
          4.983333333333333,
          4.9,
          4.816666666666666,
          4.733333333333333,
          4.65,
          4.566666666666666,
          4.483333333333333,
          4.4,
          4.316666666666666,
          4.233333333333333,
          4.15,
          4.066666666666666,
          3.9833333333333334,
          3.9,
          3.816666666666667,
          4.016666666666667,
          3.95,
          3.85,
          3.7666666666666666,
          3.683333333333333,
          3.6,
          3.5166666666666666,
          3.433333333333333,
          3.35,
          3.2666666666666666,
          3.183333333333333,
          3.1,
          3.3833333333333333,
          3.3,
          3.216666666666667,
          3.1333333333333333,
          3.05,
          2.85,
          2.75,
          2.683333333333333,
          2.6,
          2.5,
          2.433333333333333,
          2.35,
          2.25,
          2.183333333333333,
          1.8166666666666667,
          1.7333333333333334,
          1.65,
          1.5666666666666667,
          1.4833333333333334,
          1.4,
          1.3166666666666667,
          1.2333333333333334,
          1.15,
          1.0666666666666667,
          0.9833333333333333,
          1,
          0.9166666666666666,
          0.8333333333333334,
          0.75,
          0.6666666666666666,
          0.31666666666666665,
          0.23333333333333334,
          0.15,
          0.06666666666666667,
          0,
          0,
          0,
          0,
          0,
          0,
          0,
          0,
          0,
          0
         ]
        },
        {
         "line": {
          "width": 1
         },
         "name": "F-8608",
         "type": "scatter",
         "x": [
          "2020-03-09T10:31:49.444042",
          "2020-03-09T10:31:54.431056",
          "2020-03-09T10:31:59.426598",
          "2020-03-09T10:32:05.539978",
          "2020-03-09T10:32:09.434372",
          "2020-03-09T10:32:14.352433",
          "2020-03-09T10:32:19.472168",
          "2020-03-09T10:32:24.374577",
          "2020-03-09T10:32:29.506733",
          "2020-03-09T10:32:34.391707",
          "2020-03-09T10:32:39.471869",
          "2020-03-09T10:32:44.466642",
          "2020-03-09T10:32:49.414490",
          "2020-03-09T10:32:54.428365",
          "2020-03-09T10:33:04.482345",
          "2020-03-09T10:32:59.515523",
          "2020-03-09T10:33:09.479278",
          "2020-03-09T10:33:14.460777",
          "2020-03-09T10:33:19.551205",
          "2020-03-09T10:33:24.500529",
          "2020-03-09T10:33:29.509452",
          "2020-03-09T10:33:34.498565",
          "2020-03-09T10:33:39.462341",
          "2020-03-09T10:33:44.509294",
          "2020-03-09T10:33:49.371000",
          "2020-03-09T10:33:54.483512",
          "2020-03-09T10:33:59.445313",
          "2020-03-09T10:34:04.406939",
          "2020-03-09T10:34:09.460020",
          "2020-03-09T10:34:14.497376",
          "2020-03-09T10:34:19.502885",
          "2020-03-09T10:34:24.534528",
          "2020-03-09T10:34:29.430630",
          "2020-03-09T10:34:34.402701",
          "2020-03-09T10:34:39.492890",
          "2020-03-09T10:34:44.455985",
          "2020-03-09T10:34:49.504166",
          "2020-03-09T10:34:54.550877",
          "2020-03-09T10:34:59.509475",
          "2020-03-09T10:35:04.389158",
          "2020-03-09T10:35:09.473800",
          "2020-03-09T10:35:14.392537",
          "2020-03-09T10:35:19.528890",
          "2020-03-09T10:35:24.571066",
          "2020-03-09T10:35:29.496362",
          "2020-03-09T10:35:34.545601",
          "2020-03-09T10:35:39.513254",
          "2020-03-09T10:35:44.532976",
          "2020-03-09T10:35:49.409106",
          "2020-03-09T10:35:54.518164",
          "2020-03-09T10:35:59.381778",
          "2020-03-09T10:36:04.461262",
          "2020-03-09T10:36:09.475548",
          "2020-03-09T10:36:15.030302",
          "2020-03-09T10:36:19.466360",
          "2020-03-09T10:36:24.538320",
          "2020-03-09T10:36:29.453070",
          "2020-03-09T10:36:34.552042",
          "2020-03-09T10:36:39.482547",
          "2020-03-09T10:36:44.549298",
          "2020-03-09T10:36:49.473626",
          "2020-03-09T10:36:54.538280",
          "2020-03-09T10:36:59.435723",
          "2020-03-09T10:37:04.435124",
          "2020-03-09T10:37:09.540953",
          "2020-03-09T10:37:14.428178",
          "2020-03-09T10:37:19.519424",
          "2020-03-09T10:37:24.461444",
          "2020-03-09T10:37:29.551975",
          "2020-03-09T10:37:34.575593",
          "2020-03-09T10:37:39.510159",
          "2020-03-09T10:37:44.489035",
          "2020-03-09T10:37:49.487865",
          "2020-03-09T10:37:54.562513",
          "2020-03-09T10:37:59.543999",
          "2020-03-09T10:38:04.450940",
          "2020-03-09T10:38:09.452235",
          "2020-03-09T10:38:14.593156",
          "2020-03-09T10:38:19.393646",
          "2020-03-09T10:38:24.518663",
          "2020-03-09T10:38:29.520894",
          "2020-03-09T10:38:34.536305",
          "2020-03-09T10:38:39.537215",
          "2020-03-09T10:38:44.542126",
          "2020-03-09T10:38:51.592433",
          "2020-03-09T10:38:54.562938",
          "2020-03-09T10:38:59.531068",
          "2020-03-09T10:39:04.483100",
          "2020-03-09T10:39:09.494768",
          "2020-03-09T10:39:14.524487",
          "2020-03-09T10:39:19.578025",
          "2020-03-09T10:39:24.589547",
          "2020-03-09T10:39:29.562693",
          "2020-03-09T10:39:34.539148",
          "2020-03-09T10:39:39.628393",
          "2020-03-09T10:39:44.462056",
          "2020-03-09T10:39:49.508817",
          "2020-03-09T10:39:54.444476",
          "2020-03-09T10:39:59.555924",
          "2020-03-09T10:40:04.418459",
          "2020-03-09T10:40:09.606364",
          "2020-03-09T10:40:14.561856",
          "2020-03-09T10:40:20.428655",
          "2020-03-09T10:40:24.431342",
          "2020-03-09T10:40:29.593172",
          "2020-03-09T10:40:34.572938",
          "2020-03-09T10:40:39.508716",
          "2020-03-09T10:40:44.465571",
          "2020-03-09T10:40:49.534259",
          "2020-03-09T10:40:54.613300",
          "2020-03-09T10:40:59.571750",
          "2020-03-09T10:41:04.528352",
          "2020-03-09T10:41:09.494079",
          "2020-03-09T10:41:14.451268",
          "2020-03-09T10:41:19.503466",
          "2020-03-09T10:41:24.549025",
          "2020-03-09T10:41:29.538290",
          "2020-03-09T10:41:34.514457",
          "2020-03-09T10:41:39.587023",
          "2020-03-09T10:41:44.456852",
          "2020-03-09T10:41:49.520308",
          "2020-03-09T10:41:54.473523",
          "2020-03-09T10:41:59.526664",
          "2020-03-09T10:42:04.537185",
          "2020-03-09T10:42:09.565068",
          "2020-03-09T10:42:14.626284",
          "2020-03-09T10:42:19.525324",
          "2020-03-09T10:42:24.528008",
          "2020-03-09T10:42:29.601106",
          "2020-03-09T10:42:34.417630",
          "2020-03-09T10:42:40.926095",
          "2020-03-09T10:42:46.099852",
          "2020-03-09T10:42:49.580982",
          "2020-03-09T10:42:54.598209",
          "2020-03-09T10:42:59.577924",
          "2020-03-09T10:43:04.575703",
          "2020-03-09T10:43:09.504695"
         ],
         "y": [
          9.666666666666666,
          9.583333333333334,
          9.5,
          9.4,
          9.333333333333334,
          9.25,
          9.166666666666666,
          9.083333333333334,
          9,
          8.916666666666666,
          8.833333333333334,
          8.75,
          8.283333333333333,
          8.2,
          8.033333333333333,
          8.116666666666667,
          7.95,
          7.866666666666666,
          7.783333333333333,
          7.7,
          7.616666666666666,
          7.533333333333333,
          7.45,
          7.366666666666666,
          7.283333333333333,
          7.2,
          7.116666666666666,
          6.933333333333334,
          6.85,
          6.766666666666667,
          6.683333333333334,
          6.6,
          6.516666666666667,
          6.433333333333334,
          6.35,
          6.266666666666667,
          6.183333333333334,
          6.1,
          6.016666666666667,
          6.583333333333333,
          6.5,
          6.416666666666667,
          6.333333333333333,
          6.25,
          6.166666666666667,
          6.083333333333333,
          6,
          5.916666666666667,
          5.833333333333333,
          5.75,
          5.666666666666667,
          5.583333333333333,
          5.5,
          5.4,
          5.333333333333333,
          5.25,
          5.166666666666667,
          5.083333333333333,
          5,
          4.916666666666667,
          4.8,
          4.716666666666667,
          4.633333333333334,
          4.55,
          4.466666666666667,
          4.383333333333334,
          4.3,
          4.216666666666667,
          4.133333333333334,
          4.05,
          3.966666666666667,
          3.8833333333333333,
          3.8,
          3.716666666666667,
          3.6333333333333333,
          3.55,
          4.2,
          4.116666666666666,
          4.033333333333333,
          3.95,
          3.8666666666666667,
          3.783333333333333,
          3.7,
          3.6166666666666667,
          3.5,
          3.45,
          3.3666666666666667,
          3.283333333333333,
          3.2,
          3.1166666666666667,
          3.033333333333333,
          2.95,
          2.8666666666666667,
          2.783333333333333,
          2.7,
          2.6166666666666667,
          2.533333333333333,
          2.3333333333333335,
          2.25,
          2.1666666666666665,
          2.0833333333333335,
          2,
          1.9,
          1.8333333333333333,
          1.75,
          1.6666666666666667,
          1.5833333333333333,
          1.5,
          1.4166666666666667,
          1.3333333333333333,
          1.25,
          1.15,
          1.0833333333333333,
          1.1,
          1.0166666666666666,
          0.9333333333333333,
          0.85,
          0.7666666666666667,
          0.6833333333333333,
          0.6,
          0.5166666666666667,
          0.43333333333333335,
          0.6166666666666667,
          0.5333333333333333,
          0.45,
          0.36666666666666664,
          0.2833333333333333,
          0.2,
          0.15,
          0.06666666666666667,
          0,
          0,
          0,
          0,
          0,
          0,
          0
         ]
        },
        {
         "line": {
          "width": 1
         },
         "name": "F-8605",
         "type": "scatter",
         "x": [
          "2020-03-09T10:34:04.406939",
          "2020-03-09T10:34:09.460020",
          "2020-03-09T10:34:14.497376",
          "2020-03-09T10:34:19.502885",
          "2020-03-09T10:34:24.534528",
          "2020-03-09T10:34:29.430630",
          "2020-03-09T10:34:34.402701",
          "2020-03-09T10:34:39.492890",
          "2020-03-09T10:34:44.455985",
          "2020-03-09T10:34:49.504166",
          "2020-03-09T10:34:54.550877",
          "2020-03-09T10:34:59.509475",
          "2020-03-09T10:35:04.389158",
          "2020-03-09T10:35:09.473800",
          "2020-03-09T10:35:14.392537",
          "2020-03-09T10:35:19.528890",
          "2020-03-09T10:35:24.571066",
          "2020-03-09T10:35:29.496362",
          "2020-03-09T10:35:34.545601",
          "2020-03-09T10:35:39.513254",
          "2020-03-09T10:35:44.532976",
          "2020-03-09T10:35:49.409106",
          "2020-03-09T10:35:54.518164",
          "2020-03-09T10:35:59.381778",
          "2020-03-09T10:36:04.461262",
          "2020-03-09T10:36:09.475548",
          "2020-03-09T10:36:15.030302",
          "2020-03-09T10:36:19.466360",
          "2020-03-09T10:36:24.538320",
          "2020-03-09T10:36:29.453070",
          "2020-03-09T10:36:34.552042",
          "2020-03-09T10:36:39.482547",
          "2020-03-09T10:36:44.549298",
          "2020-03-09T10:36:49.473626",
          "2020-03-09T10:36:54.538280",
          "2020-03-09T10:36:59.435723",
          "2020-03-09T10:37:04.435124",
          "2020-03-09T10:37:09.540953",
          "2020-03-09T10:37:14.428178",
          "2020-03-09T10:37:19.519424",
          "2020-03-09T10:37:24.461444",
          "2020-03-09T10:37:29.551975",
          "2020-03-09T10:37:34.575593",
          "2020-03-09T10:37:39.510159",
          "2020-03-09T10:37:44.489035",
          "2020-03-09T10:37:49.487865",
          "2020-03-09T10:37:54.562513",
          "2020-03-09T10:37:59.543999",
          "2020-03-09T10:38:04.450940",
          "2020-03-09T10:38:09.452235",
          "2020-03-09T10:38:14.593156",
          "2020-03-09T10:38:19.393646",
          "2020-03-09T10:38:24.518663",
          "2020-03-09T10:38:29.520894",
          "2020-03-09T10:38:34.536305",
          "2020-03-09T10:38:39.537215",
          "2020-03-09T10:38:44.542126",
          "2020-03-09T10:38:51.592433",
          "2020-03-09T10:38:54.562938",
          "2020-03-09T10:38:59.531068",
          "2020-03-09T10:39:04.483100",
          "2020-03-09T10:39:09.494768",
          "2020-03-09T10:39:14.524487",
          "2020-03-09T10:39:19.578025",
          "2020-03-09T10:39:24.589547",
          "2020-03-09T10:39:29.562693",
          "2020-03-09T10:39:34.539148",
          "2020-03-09T10:39:39.628393",
          "2020-03-09T10:39:44.462056",
          "2020-03-09T10:39:49.508817",
          "2020-03-09T10:39:54.444476",
          "2020-03-09T10:39:59.555924",
          "2020-03-09T10:40:04.418459",
          "2020-03-09T10:40:09.606364",
          "2020-03-09T10:40:14.561856",
          "2020-03-09T10:40:20.428655",
          "2020-03-09T10:40:24.431342",
          "2020-03-09T10:40:29.593172",
          "2020-03-09T10:40:34.572938",
          "2020-03-09T10:40:39.508716",
          "2020-03-09T10:40:44.465571",
          "2020-03-09T10:40:49.534259",
          "2020-03-09T10:40:54.613300",
          "2020-03-09T10:40:59.571750",
          "2020-03-09T10:41:04.528352",
          "2020-03-09T10:41:09.494079",
          "2020-03-09T10:41:14.451268",
          "2020-03-09T10:41:19.503466",
          "2020-03-09T10:41:24.549025",
          "2020-03-09T10:41:29.538290",
          "2020-03-09T10:41:34.514457",
          "2020-03-09T10:41:39.587023",
          "2020-03-09T10:41:44.456852",
          "2020-03-09T10:41:49.520308",
          "2020-03-09T10:41:54.473523",
          "2020-03-09T10:41:59.526664",
          "2020-03-09T10:42:04.537185",
          "2020-03-09T10:42:09.565068",
          "2020-03-09T10:42:14.626284",
          "2020-03-09T10:42:19.525324",
          "2020-03-09T10:42:24.528008",
          "2020-03-09T10:42:29.601106",
          "2020-03-09T10:42:34.417630",
          "2020-03-09T10:42:40.926095",
          "2020-03-09T10:42:46.099852",
          "2020-03-09T10:42:49.580982",
          "2020-03-09T10:42:54.598209",
          "2020-03-09T10:42:59.577924",
          "2020-03-09T10:43:04.575703",
          "2020-03-09T10:43:09.504695",
          "2020-03-09T10:43:14.528001",
          "2020-03-09T10:43:19.444530",
          "2020-03-09T10:43:24.666443",
          "2020-03-09T10:43:29.444923",
          "2020-03-09T10:43:34.509840",
          "2020-03-09T10:43:39.508321",
          "2020-03-09T10:43:44.573283",
          "2020-03-09T10:43:49.594041",
          "2020-03-09T10:43:54.600378",
          "2020-03-09T10:43:59.495523",
          "2020-03-09T10:44:04.523464",
          "2020-03-09T10:44:09.530148",
          "2020-03-09T10:44:14.456261",
          "2020-03-09T10:44:19.545580",
          "2020-03-09T10:44:24.604311",
          "2020-03-09T10:44:29.531821",
          "2020-03-09T10:44:34.455645",
          "2020-03-09T10:44:39.595453",
          "2020-03-09T10:44:44.620374",
          "2020-03-09T10:44:49.549761",
          "2020-03-09T10:44:54.524794",
          "2020-03-09T10:44:59.483967",
          "2020-03-09T10:45:04.569547",
          "2020-03-09T10:45:09.563125",
          "2020-03-09T10:45:16.617667",
          "2020-03-09T10:45:19.606759",
          "2020-03-09T10:45:24.597661"
         ],
         "y": [
          13.55,
          13.466666666666667,
          13.383333333333333,
          13.3,
          13.216666666666667,
          13.133333333333333,
          13.05,
          12.966666666666667,
          12.883333333333333,
          12.8,
          12.716666666666667,
          12.633333333333333,
          12.55,
          12.466666666666667,
          12.383333333333333,
          12.3,
          12.216666666666667,
          12.416666666666666,
          12.333333333333334,
          12.25,
          12.166666666666666,
          12.1,
          12,
          11.933333333333334,
          11.85,
          11.75,
          11.666666666666666,
          11.6,
          11.5,
          11.433333333333334,
          11.333333333333334,
          11.266666666666667,
          11.166666666666666,
          11.25,
          11.166666666666666,
          11.083333333333334,
          11,
          10.916666666666666,
          10.833333333333334,
          10.75,
          10.666666666666666,
          10.583333333333334,
          10.5,
          10.3,
          10.216666666666667,
          10.133333333333333,
          10.05,
          9.966666666666667,
          9.883333333333333,
          9.8,
          9.716666666666667,
          9.633333333333333,
          9.55,
          9.466666666666667,
          9.8,
          9.716666666666667,
          9.633333333333333,
          9.516666666666667,
          9.466666666666667,
          8.183333333333334,
          8.1,
          8.016666666666667,
          7.933333333333334,
          7.85,
          7.766666666666667,
          7.683333333333334,
          7.6,
          7.516666666666667,
          7.433333333333334,
          7.35,
          7.266666666666667,
          7.183333333333334,
          7.1,
          7.016666666666667,
          6.933333333333334,
          6.033333333333333,
          5.966666666666667,
          5.883333333333334,
          5.8,
          5.716666666666667,
          5.633333333333334,
          5.55,
          5.466666666666667,
          5.383333333333334,
          5.283333333333333,
          5.216666666666667,
          5.133333333333334,
          5.05,
          4.966666666666667,
          4.883333333333334,
          4.8,
          4.133333333333334,
          4.05,
          3.966666666666667,
          3.8833333333333333,
          3.8,
          3.716666666666667,
          3.6333333333333333,
          3.55,
          3.466666666666667,
          2.7666666666666666,
          2.683333333333333,
          2.6,
          2.5,
          2.4166666666666665,
          2.35,
          2.4,
          2.316666666666667,
          2.2333333333333334,
          2.15,
          2.033333333333333,
          1.95,
          1.8666666666666667,
          1.7833333333333334,
          1.7,
          1.6166666666666667,
          1.5333333333333334,
          1.0833333333333333,
          1,
          0.9166666666666666,
          0.8333333333333334,
          0.75,
          0.55,
          0.4666666666666667,
          0.38333333333333336,
          0.3,
          0.21666666666666667,
          0.13333333333333333,
          0.05,
          0,
          0,
          0,
          0,
          0,
          0,
          0,
          0
         ]
        }
       ],
       "layout": {
        "template": {
         "data": {
          "bar": [
           {
            "error_x": {
             "color": "#2a3f5f"
            },
            "error_y": {
             "color": "#2a3f5f"
            },
            "marker": {
             "line": {
              "color": "white",
              "width": 0.5
             }
            },
            "type": "bar"
           }
          ],
          "barpolar": [
           {
            "marker": {
             "line": {
              "color": "white",
              "width": 0.5
             }
            },
            "type": "barpolar"
           }
          ],
          "carpet": [
           {
            "aaxis": {
             "endlinecolor": "#2a3f5f",
             "gridcolor": "#C8D4E3",
             "linecolor": "#C8D4E3",
             "minorgridcolor": "#C8D4E3",
             "startlinecolor": "#2a3f5f"
            },
            "baxis": {
             "endlinecolor": "#2a3f5f",
             "gridcolor": "#C8D4E3",
             "linecolor": "#C8D4E3",
             "minorgridcolor": "#C8D4E3",
             "startlinecolor": "#2a3f5f"
            },
            "type": "carpet"
           }
          ],
          "choropleth": [
           {
            "colorbar": {
             "outlinewidth": 0,
             "ticks": ""
            },
            "type": "choropleth"
           }
          ],
          "contour": [
           {
            "colorbar": {
             "outlinewidth": 0,
             "ticks": ""
            },
            "colorscale": [
             [
              0,
              "#0d0887"
             ],
             [
              0.1111111111111111,
              "#46039f"
             ],
             [
              0.2222222222222222,
              "#7201a8"
             ],
             [
              0.3333333333333333,
              "#9c179e"
             ],
             [
              0.4444444444444444,
              "#bd3786"
             ],
             [
              0.5555555555555556,
              "#d8576b"
             ],
             [
              0.6666666666666666,
              "#ed7953"
             ],
             [
              0.7777777777777778,
              "#fb9f3a"
             ],
             [
              0.8888888888888888,
              "#fdca26"
             ],
             [
              1,
              "#f0f921"
             ]
            ],
            "type": "contour"
           }
          ],
          "contourcarpet": [
           {
            "colorbar": {
             "outlinewidth": 0,
             "ticks": ""
            },
            "type": "contourcarpet"
           }
          ],
          "heatmap": [
           {
            "colorbar": {
             "outlinewidth": 0,
             "ticks": ""
            },
            "colorscale": [
             [
              0,
              "#0d0887"
             ],
             [
              0.1111111111111111,
              "#46039f"
             ],
             [
              0.2222222222222222,
              "#7201a8"
             ],
             [
              0.3333333333333333,
              "#9c179e"
             ],
             [
              0.4444444444444444,
              "#bd3786"
             ],
             [
              0.5555555555555556,
              "#d8576b"
             ],
             [
              0.6666666666666666,
              "#ed7953"
             ],
             [
              0.7777777777777778,
              "#fb9f3a"
             ],
             [
              0.8888888888888888,
              "#fdca26"
             ],
             [
              1,
              "#f0f921"
             ]
            ],
            "type": "heatmap"
           }
          ],
          "heatmapgl": [
           {
            "colorbar": {
             "outlinewidth": 0,
             "ticks": ""
            },
            "colorscale": [
             [
              0,
              "#0d0887"
             ],
             [
              0.1111111111111111,
              "#46039f"
             ],
             [
              0.2222222222222222,
              "#7201a8"
             ],
             [
              0.3333333333333333,
              "#9c179e"
             ],
             [
              0.4444444444444444,
              "#bd3786"
             ],
             [
              0.5555555555555556,
              "#d8576b"
             ],
             [
              0.6666666666666666,
              "#ed7953"
             ],
             [
              0.7777777777777778,
              "#fb9f3a"
             ],
             [
              0.8888888888888888,
              "#fdca26"
             ],
             [
              1,
              "#f0f921"
             ]
            ],
            "type": "heatmapgl"
           }
          ],
          "histogram": [
           {
            "marker": {
             "colorbar": {
              "outlinewidth": 0,
              "ticks": ""
             }
            },
            "type": "histogram"
           }
          ],
          "histogram2d": [
           {
            "colorbar": {
             "outlinewidth": 0,
             "ticks": ""
            },
            "colorscale": [
             [
              0,
              "#0d0887"
             ],
             [
              0.1111111111111111,
              "#46039f"
             ],
             [
              0.2222222222222222,
              "#7201a8"
             ],
             [
              0.3333333333333333,
              "#9c179e"
             ],
             [
              0.4444444444444444,
              "#bd3786"
             ],
             [
              0.5555555555555556,
              "#d8576b"
             ],
             [
              0.6666666666666666,
              "#ed7953"
             ],
             [
              0.7777777777777778,
              "#fb9f3a"
             ],
             [
              0.8888888888888888,
              "#fdca26"
             ],
             [
              1,
              "#f0f921"
             ]
            ],
            "type": "histogram2d"
           }
          ],
          "histogram2dcontour": [
           {
            "colorbar": {
             "outlinewidth": 0,
             "ticks": ""
            },
            "colorscale": [
             [
              0,
              "#0d0887"
             ],
             [
              0.1111111111111111,
              "#46039f"
             ],
             [
              0.2222222222222222,
              "#7201a8"
             ],
             [
              0.3333333333333333,
              "#9c179e"
             ],
             [
              0.4444444444444444,
              "#bd3786"
             ],
             [
              0.5555555555555556,
              "#d8576b"
             ],
             [
              0.6666666666666666,
              "#ed7953"
             ],
             [
              0.7777777777777778,
              "#fb9f3a"
             ],
             [
              0.8888888888888888,
              "#fdca26"
             ],
             [
              1,
              "#f0f921"
             ]
            ],
            "type": "histogram2dcontour"
           }
          ],
          "mesh3d": [
           {
            "colorbar": {
             "outlinewidth": 0,
             "ticks": ""
            },
            "type": "mesh3d"
           }
          ],
          "parcoords": [
           {
            "line": {
             "colorbar": {
              "outlinewidth": 0,
              "ticks": ""
             }
            },
            "type": "parcoords"
           }
          ],
          "pie": [
           {
            "automargin": true,
            "type": "pie"
           }
          ],
          "scatter": [
           {
            "marker": {
             "colorbar": {
              "outlinewidth": 0,
              "ticks": ""
             }
            },
            "type": "scatter"
           }
          ],
          "scatter3d": [
           {
            "line": {
             "colorbar": {
              "outlinewidth": 0,
              "ticks": ""
             }
            },
            "marker": {
             "colorbar": {
              "outlinewidth": 0,
              "ticks": ""
             }
            },
            "type": "scatter3d"
           }
          ],
          "scattercarpet": [
           {
            "marker": {
             "colorbar": {
              "outlinewidth": 0,
              "ticks": ""
             }
            },
            "type": "scattercarpet"
           }
          ],
          "scattergeo": [
           {
            "marker": {
             "colorbar": {
              "outlinewidth": 0,
              "ticks": ""
             }
            },
            "type": "scattergeo"
           }
          ],
          "scattergl": [
           {
            "marker": {
             "colorbar": {
              "outlinewidth": 0,
              "ticks": ""
             }
            },
            "type": "scattergl"
           }
          ],
          "scattermapbox": [
           {
            "marker": {
             "colorbar": {
              "outlinewidth": 0,
              "ticks": ""
             }
            },
            "type": "scattermapbox"
           }
          ],
          "scatterpolar": [
           {
            "marker": {
             "colorbar": {
              "outlinewidth": 0,
              "ticks": ""
             }
            },
            "type": "scatterpolar"
           }
          ],
          "scatterpolargl": [
           {
            "marker": {
             "colorbar": {
              "outlinewidth": 0,
              "ticks": ""
             }
            },
            "type": "scatterpolargl"
           }
          ],
          "scatterternary": [
           {
            "marker": {
             "colorbar": {
              "outlinewidth": 0,
              "ticks": ""
             }
            },
            "type": "scatterternary"
           }
          ],
          "surface": [
           {
            "colorbar": {
             "outlinewidth": 0,
             "ticks": ""
            },
            "colorscale": [
             [
              0,
              "#0d0887"
             ],
             [
              0.1111111111111111,
              "#46039f"
             ],
             [
              0.2222222222222222,
              "#7201a8"
             ],
             [
              0.3333333333333333,
              "#9c179e"
             ],
             [
              0.4444444444444444,
              "#bd3786"
             ],
             [
              0.5555555555555556,
              "#d8576b"
             ],
             [
              0.6666666666666666,
              "#ed7953"
             ],
             [
              0.7777777777777778,
              "#fb9f3a"
             ],
             [
              0.8888888888888888,
              "#fdca26"
             ],
             [
              1,
              "#f0f921"
             ]
            ],
            "type": "surface"
           }
          ],
          "table": [
           {
            "cells": {
             "fill": {
              "color": "#EBF0F8"
             },
             "line": {
              "color": "white"
             }
            },
            "header": {
             "fill": {
              "color": "#C8D4E3"
             },
             "line": {
              "color": "white"
             }
            },
            "type": "table"
           }
          ]
         },
         "layout": {
          "annotationdefaults": {
           "arrowcolor": "#2a3f5f",
           "arrowhead": 0,
           "arrowwidth": 1
          },
          "coloraxis": {
           "colorbar": {
            "outlinewidth": 0,
            "ticks": ""
           }
          },
          "colorscale": {
           "diverging": [
            [
             0,
             "#8e0152"
            ],
            [
             0.1,
             "#c51b7d"
            ],
            [
             0.2,
             "#de77ae"
            ],
            [
             0.3,
             "#f1b6da"
            ],
            [
             0.4,
             "#fde0ef"
            ],
            [
             0.5,
             "#f7f7f7"
            ],
            [
             0.6,
             "#e6f5d0"
            ],
            [
             0.7,
             "#b8e186"
            ],
            [
             0.8,
             "#7fbc41"
            ],
            [
             0.9,
             "#4d9221"
            ],
            [
             1,
             "#276419"
            ]
           ],
           "sequential": [
            [
             0,
             "#0d0887"
            ],
            [
             0.1111111111111111,
             "#46039f"
            ],
            [
             0.2222222222222222,
             "#7201a8"
            ],
            [
             0.3333333333333333,
             "#9c179e"
            ],
            [
             0.4444444444444444,
             "#bd3786"
            ],
            [
             0.5555555555555556,
             "#d8576b"
            ],
            [
             0.6666666666666666,
             "#ed7953"
            ],
            [
             0.7777777777777778,
             "#fb9f3a"
            ],
            [
             0.8888888888888888,
             "#fdca26"
            ],
            [
             1,
             "#f0f921"
            ]
           ],
           "sequentialminus": [
            [
             0,
             "#0d0887"
            ],
            [
             0.1111111111111111,
             "#46039f"
            ],
            [
             0.2222222222222222,
             "#7201a8"
            ],
            [
             0.3333333333333333,
             "#9c179e"
            ],
            [
             0.4444444444444444,
             "#bd3786"
            ],
            [
             0.5555555555555556,
             "#d8576b"
            ],
            [
             0.6666666666666666,
             "#ed7953"
            ],
            [
             0.7777777777777778,
             "#fb9f3a"
            ],
            [
             0.8888888888888888,
             "#fdca26"
            ],
            [
             1,
             "#f0f921"
            ]
           ]
          },
          "colorway": [
           "#636efa",
           "#EF553B",
           "#00cc96",
           "#ab63fa",
           "#FFA15A",
           "#19d3f3",
           "#FF6692",
           "#B6E880",
           "#FF97FF",
           "#FECB52"
          ],
          "font": {
           "color": "#2a3f5f"
          },
          "geo": {
           "bgcolor": "white",
           "lakecolor": "white",
           "landcolor": "white",
           "showlakes": true,
           "showland": true,
           "subunitcolor": "#C8D4E3"
          },
          "hoverlabel": {
           "align": "left"
          },
          "hovermode": "closest",
          "mapbox": {
           "style": "light"
          },
          "paper_bgcolor": "white",
          "plot_bgcolor": "white",
          "polar": {
           "angularaxis": {
            "gridcolor": "#EBF0F8",
            "linecolor": "#EBF0F8",
            "ticks": ""
           },
           "bgcolor": "white",
           "radialaxis": {
            "gridcolor": "#EBF0F8",
            "linecolor": "#EBF0F8",
            "ticks": ""
           }
          },
          "scene": {
           "xaxis": {
            "backgroundcolor": "white",
            "gridcolor": "#DFE8F3",
            "gridwidth": 2,
            "linecolor": "#EBF0F8",
            "showbackground": true,
            "ticks": "",
            "zerolinecolor": "#EBF0F8"
           },
           "yaxis": {
            "backgroundcolor": "white",
            "gridcolor": "#DFE8F3",
            "gridwidth": 2,
            "linecolor": "#EBF0F8",
            "showbackground": true,
            "ticks": "",
            "zerolinecolor": "#EBF0F8"
           },
           "zaxis": {
            "backgroundcolor": "white",
            "gridcolor": "#DFE8F3",
            "gridwidth": 2,
            "linecolor": "#EBF0F8",
            "showbackground": true,
            "ticks": "",
            "zerolinecolor": "#EBF0F8"
           }
          },
          "shapedefaults": {
           "line": {
            "color": "#2a3f5f"
           }
          },
          "ternary": {
           "aaxis": {
            "gridcolor": "#DFE8F3",
            "linecolor": "#A2B1C6",
            "ticks": ""
           },
           "baxis": {
            "gridcolor": "#DFE8F3",
            "linecolor": "#A2B1C6",
            "ticks": ""
           },
           "bgcolor": "white",
           "caxis": {
            "gridcolor": "#DFE8F3",
            "linecolor": "#A2B1C6",
            "ticks": ""
           }
          },
          "title": {
           "x": 0.05
          },
          "xaxis": {
           "automargin": true,
           "gridcolor": "#EBF0F8",
           "linecolor": "#EBF0F8",
           "ticks": "",
           "title": {
            "standoff": 15
           },
           "zerolinecolor": "#EBF0F8",
           "zerolinewidth": 2
          },
          "yaxis": {
           "automargin": true,
           "gridcolor": "#EBF0F8",
           "linecolor": "#EBF0F8",
           "ticks": "",
           "title": {
            "standoff": 15
           },
           "zerolinecolor": "#EBF0F8",
           "zerolinewidth": 2
          }
         }
        },
        "title": {
         "text": "ETAs for the buses heading stop 4285"
        },
        "xaxis": {
         "title": {
          "text": "Time"
         }
        },
        "yaxis": {
         "title": {
          "text": "ETA (minutes)"
         }
        }
       }
      },
      "text/html": [
       "<div>\n",
       "        \n",
       "        \n",
       "            <div id=\"f9bbf9f1-ad41-46b3-9293-c5ccd64dda5e\" class=\"plotly-graph-div\" style=\"height:525px; width:100%;\"></div>\n",
       "            <script type=\"text/javascript\">\n",
       "                require([\"plotly\"], function(Plotly) {\n",
       "                    window.PLOTLYENV=window.PLOTLYENV || {};\n",
       "                    \n",
       "                if (document.getElementById(\"f9bbf9f1-ad41-46b3-9293-c5ccd64dda5e\")) {\n",
       "                    Plotly.newPlot(\n",
       "                        'f9bbf9f1-ad41-46b3-9293-c5ccd64dda5e',\n",
       "                        [{\"line\": {\"width\": 1}, \"name\": \"F-8606\", \"type\": \"scatter\", \"x\": [\"2020-03-09T10:15:14.291579\", \"2020-03-09T10:15:19.273074\", \"2020-03-09T10:15:24.358194\", \"2020-03-09T10:15:29.377392\", \"2020-03-09T10:15:34.415921\", \"2020-03-09T10:15:39.387586\", \"2020-03-09T10:15:44.315381\", \"2020-03-09T10:15:49.409547\", \"2020-03-09T10:15:54.360084\", \"2020-03-09T10:15:59.426210\", \"2020-03-09T10:16:04.414333\", \"2020-03-09T10:16:09.367235\", \"2020-03-09T10:16:14.389615\", \"2020-03-09T10:16:19.393246\", \"2020-03-09T10:16:24.369738\", \"2020-03-09T10:16:29.399281\", \"2020-03-09T10:16:34.284164\", \"2020-03-09T10:16:39.403782\", \"2020-03-09T10:16:44.261734\", \"2020-03-09T10:16:49.353309\", \"2020-03-09T10:16:54.339332\", \"2020-03-09T10:16:59.359884\", \"2020-03-09T10:17:05.261131\", \"2020-03-09T10:17:09.416599\", \"2020-03-09T10:17:14.405313\", \"2020-03-09T10:17:19.385354\", \"2020-03-09T10:17:24.383666\", \"2020-03-09T10:17:29.401951\", \"2020-03-09T10:17:34.458310\", \"2020-03-09T10:17:39.385904\", \"2020-03-09T10:17:44.399085\", \"2020-03-09T10:17:49.365138\", \"2020-03-09T10:17:54.402072\", \"2020-03-09T10:17:59.420878\", \"2020-03-09T10:18:04.272648\", \"2020-03-09T10:18:09.371487\", \"2020-03-09T10:18:14.318164\", \"2020-03-09T10:18:19.447084\", \"2020-03-09T10:18:24.268468\", \"2020-03-09T10:18:29.395817\", \"2020-03-09T10:18:34.387857\", \"2020-03-09T10:18:39.438467\", \"2020-03-09T10:18:44.270344\", \"2020-03-09T10:18:49.410258\", \"2020-03-09T10:18:54.394276\", \"2020-03-09T10:18:59.412396\", \"2020-03-09T10:19:04.317460\", \"2020-03-09T10:19:09.309378\", \"2020-03-09T10:19:14.324243\", \"2020-03-09T10:19:19.312966\", \"2020-03-09T10:19:24.412814\", \"2020-03-09T10:19:29.471783\", \"2020-03-09T10:19:34.425923\", \"2020-03-09T10:19:39.371382\", \"2020-03-09T10:19:44.443748\", \"2020-03-09T10:19:49.380488\", \"2020-03-09T10:19:54.285436\", \"2020-03-09T10:19:59.451342\", \"2020-03-09T10:20:04.324307\", \"2020-03-09T10:20:09.356982\", \"2020-03-09T10:20:14.474154\", \"2020-03-09T10:20:19.364041\", \"2020-03-09T10:20:24.294261\", \"2020-03-09T10:20:29.410835\", \"2020-03-09T10:20:34.310828\"], \"y\": [6.533333333333333, 6.45, 6.366666666666666, 6.283333333333333, 6.2, 6.1, 6.033333333333333, 5.95, 4.883333333333334, 4.8, 4.716666666666667, 4.633333333333334, 4.55, 4.466666666666667, 4.383333333333334, 4.3, 4.216666666666667, 3.816666666666667, 3.7333333333333334, 3.65, 3.566666666666667, 3.4833333333333334, 3.3833333333333333, 3.316666666666667, 3.2333333333333334, 3.15, 3.066666666666667, 2.783333333333333, 2.7, 2.6166666666666667, 2.533333333333333, 2.45, 2.433333333333333, 2.35, 2.2666666666666666, 2.183333333333333, 2.1, 2.0166666666666666, 1.9333333333333333, 1.85, 1.7666666666666666, 1.6833333333333333, 1.6, 1.5166666666666666, 1.4333333333333333, 1.35, 1.2666666666666666, 1.1833333333333333, 1.1, 0.5666666666666667, 0.48333333333333334, 0.4, 0.31666666666666665, 0.4, 0.31666666666666665, 0.23333333333333334, 0.15, 0.06666666666666667, 0.0, 0.0, 0.0, 0.0, 0.0, 0.0, 0.0]}, {\"line\": {\"width\": 1}, \"name\": \"F-8606\", \"type\": \"scatter\", \"x\": [\"2020-03-09T10:43:14.528001\", \"2020-03-09T10:43:19.444530\", \"2020-03-09T10:43:24.666443\", \"2020-03-09T10:43:29.444923\", \"2020-03-09T10:43:34.509840\", \"2020-03-09T10:43:39.508321\", \"2020-03-09T10:43:44.573283\", \"2020-03-09T10:43:49.594041\", \"2020-03-09T10:43:54.600378\", \"2020-03-09T10:43:59.495523\", \"2020-03-09T10:44:04.523464\", \"2020-03-09T10:44:09.530148\", \"2020-03-09T10:44:14.456261\", \"2020-03-09T10:44:19.545580\", \"2020-03-09T10:44:24.604311\", \"2020-03-09T10:44:29.531821\", \"2020-03-09T10:44:34.455645\", \"2020-03-09T10:44:39.595453\", \"2020-03-09T10:44:44.620374\", \"2020-03-09T10:44:49.549761\", \"2020-03-09T10:44:54.524794\", \"2020-03-09T10:44:59.483967\", \"2020-03-09T10:45:04.569547\", \"2020-03-09T10:45:09.563125\", \"2020-03-09T10:45:16.617667\", \"2020-03-09T10:45:19.606759\", \"2020-03-09T10:45:24.597661\", \"2020-03-09T10:45:29.602946\", \"2020-03-09T10:45:34.619474\", \"2020-03-09T10:45:39.496129\", \"2020-03-09T10:45:44.576401\", \"2020-03-09T10:45:49.503252\", \"2020-03-09T10:45:54.582406\", \"2020-03-09T10:45:59.565945\", \"2020-03-09T10:46:04.929078\", \"2020-03-09T10:46:09.610937\", \"2020-03-09T10:46:14.601772\", \"2020-03-09T10:46:19.650154\", \"2020-03-09T10:46:24.526653\", \"2020-03-09T10:46:29.535336\", \"2020-03-09T10:46:34.574680\", \"2020-03-09T10:46:39.460713\", \"2020-03-09T10:46:44.558933\", \"2020-03-09T10:46:49.523930\", \"2020-03-09T10:46:54.744964\", \"2020-03-09T10:46:59.609746\", \"2020-03-09T10:47:04.509715\", \"2020-03-09T10:47:09.489161\", \"2020-03-09T10:47:14.487228\", \"2020-03-09T10:47:19.496949\", \"2020-03-09T10:47:24.627409\", \"2020-03-09T10:47:29.599761\", \"2020-03-09T10:47:34.555860\", \"2020-03-09T10:47:39.571676\", \"2020-03-09T10:47:44.569943\", \"2020-03-09T10:47:49.610355\", \"2020-03-09T10:47:54.646782\", \"2020-03-09T10:47:59.543485\", \"2020-03-09T10:48:04.525737\", \"2020-03-09T10:48:09.552204\", \"2020-03-09T10:48:14.652903\", \"2020-03-09T10:48:19.499034\", \"2020-03-09T10:48:24.551021\", \"2020-03-09T10:48:29.489667\", \"2020-03-09T10:48:34.455875\", \"2020-03-09T10:48:39.570332\", \"2020-03-09T10:48:44.592993\", \"2020-03-09T10:48:49.630514\", \"2020-03-09T10:48:54.639196\", \"2020-03-09T10:48:59.652688\", \"2020-03-09T10:49:04.567778\", \"2020-03-09T10:49:09.571632\", \"2020-03-09T10:49:14.564156\", \"2020-03-09T10:49:19.671134\", \"2020-03-09T10:49:24.530016\", \"2020-03-09T10:49:29.598482\", \"2020-03-09T10:49:34.555328\", \"2020-03-09T10:49:39.617189\", \"2020-03-09T10:49:44.631523\", \"2020-03-09T10:49:49.675136\", \"2020-03-09T10:49:54.660462\", \"2020-03-09T10:50:01.036054\", \"2020-03-09T10:50:04.489394\", \"2020-03-09T10:50:09.617049\", \"2020-03-09T10:50:14.653925\", \"2020-03-09T10:50:19.520939\", \"2020-03-09T10:50:24.510598\", \"2020-03-09T10:50:29.632550\", \"2020-03-09T10:50:34.659544\", \"2020-03-09T10:50:39.610968\", \"2020-03-09T10:50:44.614228\", \"2020-03-09T10:50:49.648727\", \"2020-03-09T10:50:54.629259\", \"2020-03-09T10:50:59.682460\", \"2020-03-09T10:51:04.617376\", \"2020-03-09T10:51:09.543356\", \"2020-03-09T10:51:14.628081\", \"2020-03-09T10:51:19.630340\", \"2020-03-09T10:51:24.632104\", \"2020-03-09T10:51:29.654030\", \"2020-03-09T10:51:34.492900\", \"2020-03-09T10:51:39.531663\", \"2020-03-09T10:51:44.507542\", \"2020-03-09T10:51:49.572063\", \"2020-03-09T10:51:54.511439\", \"2020-03-09T10:51:59.624642\", \"2020-03-09T10:52:04.640263\", \"2020-03-09T10:52:09.509494\", \"2020-03-09T10:52:14.499325\", \"2020-03-09T10:52:19.632170\", \"2020-03-09T10:52:24.664548\", \"2020-03-09T10:52:29.634647\", \"2020-03-09T10:52:34.594006\", \"2020-03-09T10:52:39.601325\", \"2020-03-09T10:52:44.484192\", \"2020-03-09T10:52:49.652224\", \"2020-03-09T10:52:54.658489\", \"2020-03-09T10:52:59.652201\", \"2020-03-09T10:53:04.629042\", \"2020-03-09T10:53:09.627118\", \"2020-03-09T10:53:14.686554\", \"2020-03-09T10:53:19.577492\", \"2020-03-09T10:53:24.600959\", \"2020-03-09T10:53:29.635990\", \"2020-03-09T10:53:34.513512\", \"2020-03-09T10:53:39.664162\", \"2020-03-09T10:53:44.654454\", \"2020-03-09T10:53:49.506381\", \"2020-03-09T10:53:54.678238\", \"2020-03-09T10:53:59.544664\", \"2020-03-09T10:54:04.607716\", \"2020-03-09T10:54:09.702888\", \"2020-03-09T10:54:14.538816\", \"2020-03-09T10:54:19.611251\", \"2020-03-09T10:54:24.585259\", \"2020-03-09T10:54:29.635419\", \"2020-03-09T10:54:34.660727\", \"2020-03-09T10:54:39.518246\", \"2020-03-09T10:54:44.501488\", \"2020-03-09T10:54:49.681574\", \"2020-03-09T10:54:54.619739\", \"2020-03-09T10:54:59.687029\", \"2020-03-09T10:55:04.581986\", \"2020-03-09T10:55:09.645939\", \"2020-03-09T10:55:14.528373\", \"2020-03-09T10:55:19.624826\", \"2020-03-09T10:55:24.663989\", \"2020-03-09T10:55:29.678838\", \"2020-03-09T10:55:34.707188\", \"2020-03-09T10:55:39.630131\", \"2020-03-09T10:55:44.640056\", \"2020-03-09T10:55:49.608299\", \"2020-03-09T10:55:54.605894\", \"2020-03-09T10:55:59.671630\", \"2020-03-09T10:56:04.583111\", \"2020-03-09T10:56:09.678437\", \"2020-03-09T10:56:14.718315\", \"2020-03-09T10:56:19.700122\", \"2020-03-09T10:56:24.634359\", \"2020-03-09T10:56:34.669263\", \"2020-03-09T10:56:39.635770\", \"2020-03-09T10:56:44.629955\"], \"y\": [13.783333333333333, 13.7, 13.616666666666667, 13.533333333333333, 13.45, 13.366666666666667, 13.283333333333333, 13.2, 13.116666666666667, 13.033333333333333, 12.95, 12.866666666666667, 12.783333333333333, 12.7, 12.616666666666667, 12.533333333333333, 12.45, 11.9, 11.816666666666666, 11.733333333333333, 11.65, 11.566666666666666, 11.483333333333333, 11.4, 11.283333333333333, 11.233333333333333, 11.15, 11.083333333333334, 11.0, 10.916666666666666, 10.833333333333334, 10.75, 10.666666666666666, 10.583333333333334, 10.483333333333333, 10.416666666666666, 10.333333333333334, 10.25, 10.166666666666666, 10.083333333333334, 10.0, 9.916666666666666, 9.833333333333334, 9.75, 9.65, 9.566666666666666, 9.5, 9.416666666666666, 9.333333333333334, 9.25, 9.166666666666666, 9.083333333333334, 9.0, 8.916666666666666, 8.833333333333334, 8.75, 8.666666666666666, 8.583333333333334, 8.5, 8.416666666666666, 8.333333333333334, 8.25, 8.166666666666666, 8.083333333333334, 8.0, 8.7, 8.616666666666667, 8.533333333333333, 8.45, 8.366666666666667, 8.283333333333333, 8.2, 8.116666666666667, 8.033333333333333, 7.95, 7.866666666666666, 7.783333333333333, 7.7, 7.616666666666666, 7.533333333333333, 7.45, 7.333333333333333, 7.283333333333333, 7.2, 7.116666666666666, 7.033333333333333, 6.95, 6.866666666666666, 6.783333333333333, 6.7, 6.616666666666666, 6.533333333333333, 6.45, 6.366666666666666, 6.283333333333333, 6.2, 6.116666666666666, 6.033333333333333, 5.95, 5.866666666666666, 5.783333333333333, 5.7, 4.55, 4.466666666666667, 4.383333333333334, 4.3, 4.216666666666667, 4.133333333333334, 4.05, 3.966666666666667, 3.8833333333333333, 3.8, 3.716666666666667, 3.6333333333333333, 3.55, 3.5166666666666666, 3.433333333333333, 3.35, 3.2666666666666666, 3.183333333333333, 2.95, 2.8833333333333333, 2.783333333333333, 2.7, 2.6333333333333333, 2.533333333333333, 2.45, 2.3833333333333333, 2.283333333333333, 2.216666666666667, 2.1333333333333333, 2.033333333333333, 1.9666666666666666, 1.8833333333333333, 1.8, 1.7, 1.85, 1.7666666666666666, 1.6833333333333333, 1.6, 1.5166666666666666, 1.4333333333333333, 1.05, 0.9666666666666667, 0.8833333333333333, 0.8, 0.7166666666666667, 0.9166666666666666, 0.8166666666666667, 0.75, 0.6666666666666666, 0.5833333333333334, 0.0, 0.0, 0.0, 0.0, 0.0, 0.0, 0.0, 0.0, 0.0, 0.0]}, {\"line\": {\"width\": 1}, \"name\": \"F-8607\", \"type\": \"scatter\", \"x\": [\"2020-03-09T10:20:39.295806\", \"2020-03-09T10:20:44.350090\", \"2020-03-09T10:20:49.525143\", \"2020-03-09T10:20:54.503251\", \"2020-03-09T10:20:59.432243\", \"2020-03-09T10:21:04.292141\", \"2020-03-09T10:21:09.402633\", \"2020-03-09T10:21:14.396797\", \"2020-03-09T10:21:19.448426\", \"2020-03-09T10:21:24.347856\", \"2020-03-09T10:21:29.428192\", \"2020-03-09T10:21:34.335669\", \"2020-03-09T10:21:39.468715\", \"2020-03-09T10:21:44.413172\", \"2020-03-09T10:21:49.428011\", \"2020-03-09T10:21:54.407754\", \"2020-03-09T10:21:59.459415\", \"2020-03-09T10:22:04.490360\", \"2020-03-09T10:22:09.507376\", \"2020-03-09T10:22:14.449948\", \"2020-03-09T10:22:19.495378\", \"2020-03-09T10:22:24.466133\", \"2020-03-09T10:22:29.332402\", \"2020-03-09T10:22:34.308517\", \"2020-03-09T10:22:39.375863\", \"2020-03-09T10:22:44.382991\", \"2020-03-09T10:22:49.479905\", \"2020-03-09T10:22:54.430529\", \"2020-03-09T10:22:59.410952\", \"2020-03-09T10:23:04.443648\", \"2020-03-09T10:23:09.468886\", \"2020-03-09T10:23:14.373860\", \"2020-03-09T10:23:19.445901\", \"2020-03-09T10:23:24.438152\", \"2020-03-09T10:23:29.455752\", \"2020-03-09T10:23:34.522162\", \"2020-03-09T10:23:39.416408\", \"2020-03-09T10:23:44.309587\", \"2020-03-09T10:23:49.452671\", \"2020-03-09T10:23:54.390569\", \"2020-03-09T10:23:59.359498\", \"2020-03-09T10:24:04.426740\", \"2020-03-09T10:24:09.308035\", \"2020-03-09T10:24:14.468489\", \"2020-03-09T10:24:19.344187\", \"2020-03-09T10:24:24.407086\", \"2020-03-09T10:24:29.464961\", \"2020-03-09T10:24:34.459078\", \"2020-03-09T10:24:40.196437\", \"2020-03-09T10:24:44.361696\", \"2020-03-09T10:24:49.416371\", \"2020-03-09T10:24:54.451349\", \"2020-03-09T10:24:59.452703\", \"2020-03-09T10:25:04.495087\", \"2020-03-09T10:25:09.345807\", \"2020-03-09T10:25:14.400362\", \"2020-03-09T10:25:19.482724\", \"2020-03-09T10:25:24.362084\", \"2020-03-09T10:25:29.445640\", \"2020-03-09T10:25:34.440821\", \"2020-03-09T10:25:39.455941\", \"2020-03-09T10:25:44.441334\", \"2020-03-09T10:25:49.449822\", \"2020-03-09T10:25:54.320482\", \"2020-03-09T10:25:59.414711\", \"2020-03-09T10:26:04.499527\", \"2020-03-09T10:26:09.390603\", \"2020-03-09T10:26:14.452546\", \"2020-03-09T10:26:19.329053\", \"2020-03-09T10:26:24.441433\", \"2020-03-09T10:26:29.389258\", \"2020-03-09T10:26:34.373801\", \"2020-03-09T10:26:39.509370\", \"2020-03-09T10:26:44.391903\", \"2020-03-09T10:26:49.493466\", \"2020-03-09T10:26:54.449879\", \"2020-03-09T10:26:59.485091\", \"2020-03-09T10:27:04.455771\", \"2020-03-09T10:27:09.489987\", \"2020-03-09T10:27:14.481484\", \"2020-03-09T10:27:19.409051\", \"2020-03-09T10:27:24.365041\", \"2020-03-09T10:27:29.438081\", \"2020-03-09T10:27:34.516485\", \"2020-03-09T10:27:39.506602\", \"2020-03-09T10:27:44.515262\", \"2020-03-09T10:27:49.432209\", \"2020-03-09T10:27:54.397544\", \"2020-03-09T10:27:59.459515\", \"2020-03-09T10:28:04.344958\", \"2020-03-09T10:28:09.470154\", \"2020-03-09T10:28:14.429994\", \"2020-03-09T10:28:19.451575\", \"2020-03-09T10:28:24.462565\", \"2020-03-09T10:28:30.403199\", \"2020-03-09T10:28:34.484629\", \"2020-03-09T10:28:39.516902\", \"2020-03-09T10:28:44.438960\", \"2020-03-09T10:28:49.405351\", \"2020-03-09T10:28:54.424073\", \"2020-03-09T10:28:59.377351\", \"2020-03-09T10:29:04.512007\", \"2020-03-09T10:29:09.402422\", \"2020-03-09T10:29:14.436999\", \"2020-03-09T10:29:19.489654\", \"2020-03-09T10:29:24.520388\", \"2020-03-09T10:29:29.487854\", \"2020-03-09T10:29:34.494792\", \"2020-03-09T10:29:39.426826\", \"2020-03-09T10:29:44.342058\", \"2020-03-09T10:29:49.495327\", \"2020-03-09T10:29:54.490719\", \"2020-03-09T10:29:59.456626\", \"2020-03-09T10:30:04.436055\", \"2020-03-09T10:30:09.484816\", \"2020-03-09T10:30:14.450447\", \"2020-03-09T10:30:19.519882\", \"2020-03-09T10:30:24.589946\", \"2020-03-09T10:30:29.348028\", \"2020-03-09T10:30:34.422601\", \"2020-03-09T10:30:39.350122\", \"2020-03-09T10:30:44.521398\", \"2020-03-09T10:30:49.504460\", \"2020-03-09T10:30:54.390710\", \"2020-03-09T10:30:59.493865\", \"2020-03-09T10:31:04.401280\", \"2020-03-09T10:31:09.572213\", \"2020-03-09T10:31:14.523531\", \"2020-03-09T10:31:19.482136\", \"2020-03-09T10:31:24.481101\", \"2020-03-09T10:31:29.430138\", \"2020-03-09T10:31:34.530196\", \"2020-03-09T10:31:39.491933\", \"2020-03-09T10:31:44.426921\", \"2020-03-09T10:31:49.444042\", \"2020-03-09T10:31:54.431056\", \"2020-03-09T10:31:59.426598\"], \"y\": [7.516666666666667, 7.433333333333334, 7.35, 7.266666666666667, 7.183333333333334, 7.1, 7.016666666666667, 6.933333333333334, 6.85, 7.616666666666666, 7.533333333333333, 7.45, 7.366666666666666, 7.283333333333333, 7.2, 7.116666666666666, 7.033333333333333, 6.95, 8.166666666666666, 8.083333333333334, 8.0, 7.916666666666667, 7.833333333333333, 7.75, 7.666666666666667, 7.583333333333333, 7.5, 7.416666666666667, 7.333333333333333, 7.25, 7.166666666666667, 7.083333333333333, 7.0, 6.916666666666667, 6.833333333333333, 6.75, 6.666666666666667, 6.583333333333333, 6.5, 6.416666666666667, 6.333333333333333, 7.2, 7.116666666666666, 7.033333333333333, 6.95, 6.866666666666666, 6.783333333333333, 6.7, 6.6, 6.533333333333333, 6.45, 6.366666666666666, 6.283333333333333, 6.2, 6.116666666666666, 6.033333333333333, 5.95, 5.866666666666666, 5.783333333333333, 5.7, 5.616666666666666, 5.85, 5.766666666666667, 5.683333333333334, 5.6, 5.516666666666667, 5.433333333333334, 5.35, 5.266666666666667, 5.183333333333334, 5.1, 5.016666666666667, 4.933333333333334, 4.85, 4.766666666666667, 4.683333333333334, 4.6, 4.516666666666667, 4.433333333333334, 4.35, 4.266666666666667, 4.183333333333334, 4.1, 4.016666666666667, 3.933333333333333, 3.85, 3.7666666666666666, 3.4166666666666665, 3.3333333333333335, 3.25, 3.1666666666666665, 3.0833333333333335, 2.783333333333333, 2.7, 2.6, 2.533333333333333, 2.45, 2.3666666666666667, 2.283333333333333, 2.2, 2.1166666666666667, 1.9, 1.8166666666666667, 1.7333333333333334, 1.65, 1.5666666666666667, 1.4833333333333334, 1.4, 1.3166666666666667, 1.5, 1.4166666666666667, 1.3333333333333333, 1.25, 1.1666666666666667, 1.0833333333333333, 1.0, 0.9166666666666666, 0.8333333333333334, 0.75, 0.6666666666666666, 0.6166666666666667, 0.5166666666666667, 0.43333333333333335, 0.36666666666666664, 0.26666666666666666, 0.3333333333333333, 0.25, 0.16666666666666666, 0.08333333333333333, 0.0, 0.0, 0.0, 0.0, 0.0, 0.0, 0.0, 0.0]}, {\"line\": {\"width\": 1}, \"name\": \"F-8607\", \"type\": \"scatter\", \"x\": [\"2020-03-09T10:45:29.602946\", \"2020-03-09T10:45:34.619474\", \"2020-03-09T10:45:39.496129\", \"2020-03-09T10:45:44.576401\", \"2020-03-09T10:45:49.503252\", \"2020-03-09T10:45:54.582406\", \"2020-03-09T10:45:59.565945\", \"2020-03-09T10:46:04.929078\", \"2020-03-09T10:46:09.610937\", \"2020-03-09T10:46:14.601772\", \"2020-03-09T10:46:19.650154\", \"2020-03-09T10:46:24.526653\", \"2020-03-09T10:46:29.535336\", \"2020-03-09T10:46:34.574680\", \"2020-03-09T10:46:39.460713\", \"2020-03-09T10:46:44.558933\", \"2020-03-09T10:46:49.523930\", \"2020-03-09T10:46:54.744964\", \"2020-03-09T10:46:59.609746\", \"2020-03-09T10:47:04.509715\", \"2020-03-09T10:47:09.489161\", \"2020-03-09T10:47:14.487228\", \"2020-03-09T10:47:19.496949\", \"2020-03-09T10:47:24.627409\", \"2020-03-09T10:47:29.599761\", \"2020-03-09T10:47:34.555860\", \"2020-03-09T10:47:39.571676\", \"2020-03-09T10:47:44.569943\", \"2020-03-09T10:47:49.610355\", \"2020-03-09T10:47:54.646782\", \"2020-03-09T10:47:59.543485\", \"2020-03-09T10:48:04.525737\", \"2020-03-09T10:48:09.552204\", \"2020-03-09T10:48:14.652903\", \"2020-03-09T10:48:19.499034\", \"2020-03-09T10:48:24.551021\", \"2020-03-09T10:48:29.489667\", \"2020-03-09T10:48:34.455875\", \"2020-03-09T10:48:39.570332\", \"2020-03-09T10:48:44.592993\", \"2020-03-09T10:48:49.630514\", \"2020-03-09T10:48:54.639196\", \"2020-03-09T10:48:59.652688\", \"2020-03-09T10:49:04.567778\", \"2020-03-09T10:49:09.571632\", \"2020-03-09T10:49:14.564156\", \"2020-03-09T10:49:19.671134\", \"2020-03-09T10:49:24.530016\", \"2020-03-09T10:49:29.598482\", \"2020-03-09T10:49:34.555328\", \"2020-03-09T10:49:39.617189\", \"2020-03-09T10:49:44.631523\", \"2020-03-09T10:49:49.675136\", \"2020-03-09T10:49:54.660462\", \"2020-03-09T10:50:01.036054\", \"2020-03-09T10:50:04.489394\", \"2020-03-09T10:50:09.617049\", \"2020-03-09T10:50:14.653925\", \"2020-03-09T10:50:19.520939\", \"2020-03-09T10:50:24.510598\", \"2020-03-09T10:50:29.632550\", \"2020-03-09T10:50:34.659544\", \"2020-03-09T10:50:39.610968\", \"2020-03-09T10:50:44.614228\", \"2020-03-09T10:50:49.648727\", \"2020-03-09T10:50:54.629259\", \"2020-03-09T10:50:59.682460\", \"2020-03-09T10:51:04.617376\", \"2020-03-09T10:51:09.543356\", \"2020-03-09T10:51:14.628081\", \"2020-03-09T10:51:19.630340\", \"2020-03-09T10:51:24.632104\", \"2020-03-09T10:51:29.654030\", \"2020-03-09T10:51:34.492900\", \"2020-03-09T10:51:39.531663\", \"2020-03-09T10:51:44.507542\", \"2020-03-09T10:51:49.572063\", \"2020-03-09T10:51:54.511439\", \"2020-03-09T10:51:59.624642\", \"2020-03-09T10:52:04.640263\", \"2020-03-09T10:52:09.509494\", \"2020-03-09T10:52:14.499325\", \"2020-03-09T10:52:19.632170\", \"2020-03-09T10:52:24.664548\", \"2020-03-09T10:52:29.634647\", \"2020-03-09T10:52:34.594006\", \"2020-03-09T10:52:39.601325\", \"2020-03-09T10:52:44.484192\", \"2020-03-09T10:52:49.652224\", \"2020-03-09T10:52:54.658489\", \"2020-03-09T10:52:59.652201\", \"2020-03-09T10:53:04.629042\", \"2020-03-09T10:53:09.627118\", \"2020-03-09T10:53:14.686554\", \"2020-03-09T10:53:19.577492\", \"2020-03-09T10:53:24.600959\", \"2020-03-09T10:53:29.635990\", \"2020-03-09T10:53:34.513512\", \"2020-03-09T10:53:39.664162\", \"2020-03-09T10:53:44.654454\", \"2020-03-09T10:53:49.506381\", \"2020-03-09T10:53:54.678238\", \"2020-03-09T10:53:59.544664\", \"2020-03-09T10:54:04.607716\", \"2020-03-09T10:54:09.702888\", \"2020-03-09T10:54:14.538816\", \"2020-03-09T10:54:19.611251\", \"2020-03-09T10:54:24.585259\", \"2020-03-09T10:54:29.635419\", \"2020-03-09T10:54:34.660727\", \"2020-03-09T10:54:39.518246\", \"2020-03-09T10:54:44.501488\", \"2020-03-09T10:54:49.681574\", \"2020-03-09T10:54:54.619739\", \"2020-03-09T10:54:59.687029\", \"2020-03-09T10:55:04.581986\", \"2020-03-09T10:55:09.645939\", \"2020-03-09T10:55:14.528373\", \"2020-03-09T10:55:19.624826\", \"2020-03-09T10:55:24.663989\", \"2020-03-09T10:55:29.678838\", \"2020-03-09T10:55:34.707188\", \"2020-03-09T10:55:39.630131\", \"2020-03-09T10:55:44.640056\", \"2020-03-09T10:55:49.608299\", \"2020-03-09T10:55:54.605894\", \"2020-03-09T10:55:59.671630\", \"2020-03-09T10:56:04.583111\", \"2020-03-09T10:56:09.678437\", \"2020-03-09T10:56:14.718315\", \"2020-03-09T10:56:19.700122\", \"2020-03-09T10:56:24.634359\", \"2020-03-09T10:56:29.661099\", \"2020-03-09T10:56:34.669263\", \"2020-03-09T10:56:39.635770\", \"2020-03-09T10:56:44.629955\", \"2020-03-09T10:56:49.644746\", \"2020-03-09T10:56:54.642380\", \"2020-03-09T10:56:59.545956\", \"2020-03-09T10:57:04.681473\", \"2020-03-09T10:57:09.654995\", \"2020-03-09T10:57:14.614329\", \"2020-03-09T10:57:19.637066\", \"2020-03-09T10:57:24.670922\", \"2020-03-09T10:57:29.699214\", \"2020-03-09T10:57:34.647807\", \"2020-03-09T10:57:39.689541\", \"2020-03-09T10:57:44.595839\", \"2020-03-09T10:57:49.672161\", \"2020-03-09T10:57:54.664379\", \"2020-03-09T10:57:59.594332\", \"2020-03-09T10:58:04.707632\", \"2020-03-09T10:58:09.614195\", \"2020-03-09T10:58:14.588809\", \"2020-03-09T10:58:19.681629\", \"2020-03-09T10:58:24.649182\", \"2020-03-09T10:58:29.550912\", \"2020-03-09T10:58:34.687585\", \"2020-03-09T10:58:39.564990\", \"2020-03-09T10:58:44.526963\", \"2020-03-09T10:58:49.684971\", \"2020-03-09T10:58:54.558857\", \"2020-03-09T10:58:59.549023\", \"2020-03-09T10:59:04.613360\", \"2020-03-09T10:59:09.710614\", \"2020-03-09T10:59:14.645098\", \"2020-03-09T10:59:19.653849\", \"2020-03-09T10:59:24.700294\", \"2020-03-09T10:59:29.640677\", \"2020-03-09T10:59:34.678694\", \"2020-03-09T10:59:39.585706\", \"2020-03-09T10:59:44.673439\", \"2020-03-09T10:59:49.670600\", \"2020-03-09T10:59:54.685309\", \"2020-03-09T10:59:59.669000\", \"2020-03-09T11:00:04.631372\", \"2020-03-09T11:00:09.641897\", \"2020-03-09T11:00:14.706630\", \"2020-03-09T11:00:19.622114\", \"2020-03-09T11:00:24.628543\", \"2020-03-09T11:00:29.709759\", \"2020-03-09T11:00:34.690219\", \"2020-03-09T11:00:39.674111\", \"2020-03-09T11:00:44.646127\", \"2020-03-09T11:00:49.687179\", \"2020-03-09T11:00:54.597359\", \"2020-03-09T11:00:59.640065\", \"2020-03-09T11:01:04.694809\", \"2020-03-09T11:01:09.678989\", \"2020-03-09T11:01:14.603689\", \"2020-03-09T11:01:19.726386\", \"2020-03-09T11:01:24.616598\", \"2020-03-09T11:01:29.558828\", \"2020-03-09T11:01:34.689234\", \"2020-03-09T11:01:39.646076\", \"2020-03-09T11:01:44.654307\", \"2020-03-09T11:01:49.665018\", \"2020-03-09T11:01:54.701941\", \"2020-03-09T11:01:59.651911\", \"2020-03-09T11:02:04.714779\", \"2020-03-09T11:02:09.704366\", \"2020-03-09T11:02:14.682696\", \"2020-03-09T11:02:19.635148\", \"2020-03-09T11:02:24.702497\", \"2020-03-09T11:02:29.685350\", \"2020-03-09T11:02:34.707141\", \"2020-03-09T11:02:39.551544\", \"2020-03-09T11:02:44.691275\", \"2020-03-09T11:02:49.551238\", \"2020-03-09T11:02:54.709869\", \"2020-03-09T11:02:59.665358\", \"2020-03-09T11:03:04.715127\", \"2020-03-09T11:03:09.575124\", \"2020-03-09T11:03:14.636259\", \"2020-03-09T11:03:19.687612\", \"2020-03-09T11:03:24.724851\", \"2020-03-09T11:03:29.642752\", \"2020-03-09T11:03:34.790027\", \"2020-03-09T11:03:39.680936\", \"2020-03-09T11:03:44.746225\", \"2020-03-09T11:03:49.695415\", \"2020-03-09T11:03:54.698358\", \"2020-03-09T11:03:59.707909\", \"2020-03-09T11:04:04.722515\", \"2020-03-09T11:04:09.675955\", \"2020-03-09T11:04:14.683001\", \"2020-03-09T11:04:19.702923\", \"2020-03-09T11:04:24.639789\", \"2020-03-09T11:04:29.643860\", \"2020-03-09T11:04:34.760266\", \"2020-03-09T11:04:39.664993\", \"2020-03-09T11:04:44.676430\", \"2020-03-09T11:04:49.667881\", \"2020-03-09T11:04:54.684491\", \"2020-03-09T11:04:59.700439\", \"2020-03-09T11:05:04.723882\", \"2020-03-09T11:05:09.690988\", \"2020-03-09T11:05:14.699917\", \"2020-03-09T11:05:19.680458\", \"2020-03-09T11:05:24.733451\", \"2020-03-09T11:05:29.625495\", \"2020-03-09T11:05:34.678226\", \"2020-03-09T11:05:39.713333\", \"2020-03-09T11:05:44.702056\", \"2020-03-09T11:05:49.595301\", \"2020-03-09T11:05:55.847939\", \"2020-03-09T11:05:59.723024\", \"2020-03-09T11:06:04.675993\", \"2020-03-09T11:06:09.693927\"], \"y\": [17.933333333333334, 17.85, 17.766666666666666, 17.683333333333334, 17.6, 17.516666666666666, 17.433333333333334, 17.333333333333332, 17.266666666666666, 17.183333333333334, 17.1, 17.016666666666666, 16.933333333333334, 16.85, 16.766666666666666, 16.683333333333334, 16.6, 16.516666666666666, 16.433333333333334, 16.35, 16.266666666666666, 16.183333333333334, 16.1, 16.016666666666666, 15.933333333333334, 15.85, 15.766666666666667, 15.683333333333334, 15.6, 15.516666666666667, 15.433333333333334, 15.35, 15.266666666666667, 15.183333333333334, 15.1, 15.016666666666667, 14.933333333333334, 14.85, 14.766666666666667, 14.683333333333334, 14.6, 14.516666666666667, 14.433333333333334, 14.35, 14.266666666666667, 14.183333333333334, 14.1, 14.016666666666667, 13.933333333333334, 13.85, 13.766666666666667, 13.683333333333334, 13.6, 13.516666666666667, 13.4, 13.35, 13.266666666666667, 13.183333333333334, 13.5, 13.416666666666666, 13.333333333333334, 13.25, 13.166666666666666, 13.083333333333334, 13.0, 12.916666666666666, 12.833333333333334, 12.75, 12.666666666666666, 12.583333333333334, 12.5, 12.416666666666666, 12.333333333333334, 12.25, 12.166666666666666, 12.05, 11.966666666666667, 11.883333333333333, 11.8, 11.716666666666667, 11.633333333333333, 11.55, 11.466666666666667, 11.383333333333333, 11.3, 11.216666666666667, 11.133333333333333, 11.05, 10.983333333333333, 10.9, 10.816666666666666, 10.733333333333333, 10.65, 10.566666666666666, 10.483333333333333, 10.4, 10.316666666666666, 10.233333333333333, 10.15, 10.066666666666666, 9.983333333333333, 9.883333333333333, 9.816666666666666, 9.716666666666667, 9.633333333333333, 9.566666666666666, 9.466666666666667, 9.383333333333333, 9.3, 9.3, 9.216666666666667, 9.133333333333333, 9.05, 8.966666666666667, 8.883333333333333, 8.8, 8.716666666666667, 8.633333333333333, 8.55, 8.466666666666667, 8.633333333333333, 8.55, 8.466666666666667, 8.383333333333333, 8.3, 8.216666666666667, 8.133333333333333, 8.05, 7.966666666666667, 7.883333333333334, 7.55, 7.466666666666667, 7.383333333333334, 7.3, 7.216666666666667, 7.133333333333334, 7.483333333333333, 7.4, 7.316666666666666, 7.233333333333333, 7.15, 7.066666666666666, 6.983333333333333, 6.9, 6.816666666666666, 6.733333333333333, 6.65, 6.566666666666666, 6.483333333333333, 6.4, 6.316666666666666, 6.233333333333333, 6.15, 6.066666666666666, 5.983333333333333, 5.9, 5.816666666666666, 5.733333333333333, 5.566666666666666, 5.483333333333333, 5.4, 5.316666666666666, 5.233333333333333, 5.15, 5.066666666666666, 4.983333333333333, 4.9, 4.816666666666666, 4.733333333333333, 4.65, 4.566666666666666, 4.483333333333333, 4.4, 4.316666666666666, 4.683333333333334, 4.6, 4.516666666666667, 4.433333333333334, 4.35, 4.266666666666667, 4.183333333333334, 4.1, 4.016666666666667, 3.933333333333333, 3.85, 3.7666666666666666, 3.683333333333333, 3.6, 3.5166666666666666, 3.433333333333333, 3.35, 3.2666666666666666, 3.5833333333333335, 3.5, 3.4166666666666665, 3.3333333333333335, 3.25, 3.1666666666666665, 3.0833333333333335, 3.0, 2.9166666666666665, 2.8333333333333335, 2.75, 2.6666666666666665, 2.716666666666667, 2.6333333333333333, 2.55, 2.466666666666667, 2.3833333333333333, 2.3, 2.216666666666667, 2.1333333333333333, 2.05, 1.9666666666666666, 1.8833333333333333, 1.8, 1.7166666666666666, 1.6333333333333333, 1.55, 1.4666666666666666, 1.3833333333333333, 1.3, 1.2166666666666666, 1.1333333333333333, 1.05, 0.9666666666666667, 0.8833333333333333, 0.8, 0.7166666666666667, 0.6333333333333333, 0.85, 0.7666666666666667, 0.6833333333333333, 0.6, 0.5166666666666667, 0.43333333333333335, 0.35, 0.26666666666666666, 0.18333333333333332, 0.2833333333333333, 0.2, 0.11666666666666667, 0.03333333333333333, 0.0, 0.0, 0.0, 0.0, 0.0, 0.0]}, {\"line\": {\"width\": 1}, \"name\": \"F-8604\", \"type\": \"scatter\", \"x\": [\"2020-03-09T10:25:44.441334\", \"2020-03-09T10:25:49.449822\", \"2020-03-09T10:25:54.320482\", \"2020-03-09T10:25:59.414711\", \"2020-03-09T10:26:04.499527\", \"2020-03-09T10:26:09.390603\", \"2020-03-09T10:26:14.452546\", \"2020-03-09T10:26:19.329053\", \"2020-03-09T10:26:24.441433\", \"2020-03-09T10:26:29.389258\", \"2020-03-09T10:26:34.373801\", \"2020-03-09T10:26:39.509370\", \"2020-03-09T10:26:44.391903\", \"2020-03-09T10:26:49.493466\", \"2020-03-09T10:26:54.449879\", \"2020-03-09T10:26:59.485091\", \"2020-03-09T10:27:04.455771\", \"2020-03-09T10:27:09.489987\", \"2020-03-09T10:27:14.481484\", \"2020-03-09T10:27:19.409051\", \"2020-03-09T10:27:24.365041\", \"2020-03-09T10:27:29.438081\", \"2020-03-09T10:27:34.516485\", \"2020-03-09T10:27:39.506602\", \"2020-03-09T10:27:44.515262\", \"2020-03-09T10:27:49.432209\", \"2020-03-09T10:27:54.397544\", \"2020-03-09T10:27:59.459515\", \"2020-03-09T10:28:04.344958\", \"2020-03-09T10:28:09.470154\", \"2020-03-09T10:28:14.429994\", \"2020-03-09T10:28:19.451575\", \"2020-03-09T10:28:24.462565\", \"2020-03-09T10:28:30.403199\", \"2020-03-09T10:28:34.484629\", \"2020-03-09T10:28:39.516902\", \"2020-03-09T10:28:44.438960\", \"2020-03-09T10:28:49.405351\", \"2020-03-09T10:28:54.424073\", \"2020-03-09T10:28:59.377351\", \"2020-03-09T10:29:04.512007\", \"2020-03-09T10:29:09.402422\", \"2020-03-09T10:29:14.436999\", \"2020-03-09T10:29:19.489654\", \"2020-03-09T10:29:24.520388\", \"2020-03-09T10:29:29.487854\", \"2020-03-09T10:29:34.494792\", \"2020-03-09T10:29:39.426826\", \"2020-03-09T10:29:44.342058\", \"2020-03-09T10:29:49.495327\", \"2020-03-09T10:29:54.490719\", \"2020-03-09T10:29:59.456626\", \"2020-03-09T10:30:04.436055\", \"2020-03-09T10:30:09.484816\", \"2020-03-09T10:30:14.450447\", \"2020-03-09T10:30:19.519882\", \"2020-03-09T10:30:24.589946\", \"2020-03-09T10:30:29.348028\", \"2020-03-09T10:30:34.422601\", \"2020-03-09T10:30:39.350122\", \"2020-03-09T10:30:44.521398\", \"2020-03-09T10:30:49.504460\", \"2020-03-09T10:30:54.390710\", \"2020-03-09T10:30:59.493865\", \"2020-03-09T10:31:04.401280\", \"2020-03-09T10:31:09.572213\", \"2020-03-09T10:31:14.523531\", \"2020-03-09T10:31:19.482136\", \"2020-03-09T10:31:24.481101\", \"2020-03-09T10:31:29.430138\", \"2020-03-09T10:31:34.530196\", \"2020-03-09T10:31:39.491933\", \"2020-03-09T10:31:44.426921\", \"2020-03-09T10:31:49.444042\", \"2020-03-09T10:31:54.431056\", \"2020-03-09T10:31:59.426598\", \"2020-03-09T10:32:05.539978\", \"2020-03-09T10:32:09.434372\", \"2020-03-09T10:32:14.352433\", \"2020-03-09T10:32:19.472168\", \"2020-03-09T10:32:24.374577\", \"2020-03-09T10:32:29.506733\", \"2020-03-09T10:32:34.391707\", \"2020-03-09T10:32:39.471869\", \"2020-03-09T10:32:44.466642\", \"2020-03-09T10:32:49.414490\", \"2020-03-09T10:32:54.428365\", \"2020-03-09T10:33:04.482345\", \"2020-03-09T10:32:59.515523\", \"2020-03-09T10:33:09.479278\", \"2020-03-09T10:33:14.460777\", \"2020-03-09T10:33:19.551205\", \"2020-03-09T10:33:24.500529\", \"2020-03-09T10:33:29.509452\", \"2020-03-09T10:33:34.498565\", \"2020-03-09T10:33:39.462341\", \"2020-03-09T10:33:44.509294\", \"2020-03-09T10:33:49.371000\", \"2020-03-09T10:33:54.483512\", \"2020-03-09T10:33:59.445313\", \"2020-03-09T10:34:04.406939\"], \"y\": [9.216666666666667, 9.133333333333333, 9.05, 8.966666666666667, 8.883333333333333, 8.8, 8.716666666666667, 8.633333333333333, 8.55, 8.466666666666667, 8.383333333333333, 8.3, 8.216666666666667, 8.133333333333333, 7.1, 7.016666666666667, 6.933333333333334, 6.85, 6.766666666666667, 6.683333333333334, 6.6, 6.516666666666667, 6.433333333333334, 6.35, 6.266666666666667, 6.183333333333334, 6.1, 6.016666666666667, 5.933333333333334, 5.85, 5.766666666666667, 5.683333333333334, 5.6, 5.5, 5.433333333333334, 5.166666666666667, 5.083333333333333, 5.0, 4.916666666666667, 4.833333333333333, 4.75, 4.666666666666667, 4.583333333333333, 4.5, 4.416666666666667, 4.333333333333333, 4.25, 4.166666666666667, 4.083333333333333, 4.0, 3.9166666666666665, 3.8333333333333335, 3.75, 3.6666666666666665, 3.5833333333333335, 3.5, 3.4166666666666665, 3.3333333333333335, 3.25, 2.9166666666666665, 2.816666666666667, 2.7333333333333334, 2.6666666666666665, 2.566666666666667, 2.4833333333333334, 2.4, 2.316666666666667, 2.2333333333333334, 2.15, 2.066666666666667, 1.9833333333333334, 1.9, 1.8166666666666667, 1.7333333333333334, 1.65, 1.8, 1.7, 1.6333333333333333, 1.55, 1.4666666666666666, 1.45, 1.3666666666666667, 1.2833333333333334, 1.2, 1.1166666666666667, 0.9666666666666667, 0.8833333333333333, 0.7166666666666667, 0.8, 0.6333333333333333, 0.55, 0.4666666666666667, 0.38333333333333336, 0.3, 0.21666666666666667, 0.13333333333333333, 0.0, 0.0, 0.0, 0.0, 0.0]}, {\"line\": {\"width\": 1}, \"name\": \"F-8604\", \"type\": \"scatter\", \"x\": [\"2020-03-09T10:56:49.644746\", \"2020-03-09T10:56:54.642380\", \"2020-03-09T10:56:59.545956\", \"2020-03-09T10:57:04.681473\", \"2020-03-09T10:57:09.654995\", \"2020-03-09T10:57:14.614329\", \"2020-03-09T10:57:19.637066\", \"2020-03-09T10:57:24.670922\", \"2020-03-09T10:57:29.699214\", \"2020-03-09T10:57:34.647807\", \"2020-03-09T10:57:39.689541\", \"2020-03-09T10:57:44.595839\", \"2020-03-09T10:57:49.672161\", \"2020-03-09T10:57:54.664379\", \"2020-03-09T10:57:59.594332\", \"2020-03-09T10:58:04.707632\", \"2020-03-09T10:58:09.614195\", \"2020-03-09T10:58:14.588809\", \"2020-03-09T10:58:19.681629\", \"2020-03-09T10:58:24.649182\", \"2020-03-09T10:58:29.550912\", \"2020-03-09T10:58:34.687585\", \"2020-03-09T10:58:39.564990\", \"2020-03-09T10:58:44.526963\", \"2020-03-09T10:58:49.684971\", \"2020-03-09T10:58:54.558857\", \"2020-03-09T10:58:59.549023\", \"2020-03-09T10:59:04.613360\", \"2020-03-09T10:59:09.710614\", \"2020-03-09T10:59:14.645098\", \"2020-03-09T10:59:19.653849\", \"2020-03-09T10:59:24.700294\", \"2020-03-09T10:59:29.640677\", \"2020-03-09T10:59:34.678694\", \"2020-03-09T10:59:39.585706\", \"2020-03-09T10:59:44.673439\", \"2020-03-09T10:59:49.670600\", \"2020-03-09T10:59:54.685309\", \"2020-03-09T10:59:59.669000\", \"2020-03-09T11:00:04.631372\", \"2020-03-09T11:00:09.641897\", \"2020-03-09T11:00:14.706630\", \"2020-03-09T11:00:19.622114\", \"2020-03-09T11:00:24.628543\", \"2020-03-09T11:00:29.709759\", \"2020-03-09T11:00:34.690219\", \"2020-03-09T11:00:39.674111\", \"2020-03-09T11:00:44.646127\", \"2020-03-09T11:00:49.687179\", \"2020-03-09T11:00:54.597359\", \"2020-03-09T11:00:59.640065\", \"2020-03-09T11:01:04.694809\", \"2020-03-09T11:01:09.678989\", \"2020-03-09T11:01:14.603689\", \"2020-03-09T11:01:19.726386\", \"2020-03-09T11:01:24.616598\", \"2020-03-09T11:01:29.558828\", \"2020-03-09T11:01:34.689234\", \"2020-03-09T11:01:39.646076\", \"2020-03-09T11:01:44.654307\", \"2020-03-09T11:01:49.665018\", \"2020-03-09T11:01:54.701941\", \"2020-03-09T11:01:59.651911\", \"2020-03-09T11:02:04.714779\", \"2020-03-09T11:02:09.704366\", \"2020-03-09T11:02:14.682696\", \"2020-03-09T11:02:19.635148\", \"2020-03-09T11:02:24.702497\", \"2020-03-09T11:02:29.685350\", \"2020-03-09T11:02:34.707141\", \"2020-03-09T11:02:39.551544\", \"2020-03-09T11:02:44.691275\", \"2020-03-09T11:02:49.551238\", \"2020-03-09T11:02:54.709869\", \"2020-03-09T11:02:59.665358\", \"2020-03-09T11:03:04.715127\", \"2020-03-09T11:03:09.575124\", \"2020-03-09T11:03:14.636259\", \"2020-03-09T11:03:19.687612\", \"2020-03-09T11:03:24.724851\", \"2020-03-09T11:03:29.642752\", \"2020-03-09T11:03:34.790027\", \"2020-03-09T11:03:39.680936\", \"2020-03-09T11:03:44.746225\", \"2020-03-09T11:03:49.695415\", \"2020-03-09T11:03:54.698358\", \"2020-03-09T11:03:59.707909\", \"2020-03-09T11:04:04.722515\", \"2020-03-09T11:04:09.675955\", \"2020-03-09T11:04:14.683001\", \"2020-03-09T11:04:19.702923\", \"2020-03-09T11:04:24.639789\", \"2020-03-09T11:04:29.643860\", \"2020-03-09T11:04:34.760266\", \"2020-03-09T11:04:39.664993\", \"2020-03-09T11:04:44.676430\", \"2020-03-09T11:04:49.667881\", \"2020-03-09T11:04:54.684491\", \"2020-03-09T11:04:59.700439\", \"2020-03-09T11:05:04.723882\", \"2020-03-09T11:05:09.690988\", \"2020-03-09T11:05:14.699917\", \"2020-03-09T11:05:19.680458\", \"2020-03-09T11:05:24.733451\", \"2020-03-09T11:05:29.625495\", \"2020-03-09T11:05:34.678226\", \"2020-03-09T11:05:39.713333\", \"2020-03-09T11:05:44.702056\", \"2020-03-09T11:05:49.595301\", \"2020-03-09T11:05:55.847939\", \"2020-03-09T11:05:59.723024\", \"2020-03-09T11:06:04.675993\", \"2020-03-09T11:06:09.693927\", \"2020-03-09T11:06:14.768803\", \"2020-03-09T11:06:19.640015\", \"2020-03-09T11:06:24.608019\", \"2020-03-09T11:06:29.692301\", \"2020-03-09T11:06:34.586827\", \"2020-03-09T11:06:39.719080\", \"2020-03-09T11:06:44.623336\", \"2020-03-09T11:06:49.665350\", \"2020-03-09T11:06:54.585710\", \"2020-03-09T11:06:59.686702\", \"2020-03-09T11:07:04.738038\", \"2020-03-09T11:07:09.797487\", \"2020-03-09T11:07:14.725120\", \"2020-03-09T11:07:19.607528\", \"2020-03-09T11:07:24.665989\", \"2020-03-09T11:07:29.736589\", \"2020-03-09T11:07:34.726997\", \"2020-03-09T11:07:39.635289\", \"2020-03-09T11:07:44.707009\", \"2020-03-09T11:07:49.614934\", \"2020-03-09T11:07:55.167882\", \"2020-03-09T11:07:59.599906\", \"2020-03-09T11:08:04.605624\", \"2020-03-09T11:08:09.748525\", \"2020-03-09T11:08:14.710797\", \"2020-03-09T11:08:19.733852\", \"2020-03-09T11:08:24.672378\", \"2020-03-09T11:08:29.641908\", \"2020-03-09T11:08:34.734073\", \"2020-03-09T11:08:39.747091\", \"2020-03-09T11:08:44.763332\", \"2020-03-09T11:08:49.691221\", \"2020-03-09T11:08:54.727119\", \"2020-03-09T11:08:59.730758\", \"2020-03-09T11:09:04.748252\", \"2020-03-09T11:09:09.686697\", \"2020-03-09T11:09:14.708843\", \"2020-03-09T11:09:19.708034\", \"2020-03-09T11:09:24.722313\", \"2020-03-09T11:09:29.694354\", \"2020-03-09T11:09:34.600859\", \"2020-03-09T11:09:39.780643\", \"2020-03-09T11:09:44.695603\", \"2020-03-09T11:09:49.666118\", \"2020-03-09T11:09:55.183200\", \"2020-03-09T11:09:59.632972\", \"2020-03-09T11:10:04.656045\", \"2020-03-09T11:10:09.643793\", \"2020-03-09T11:10:14.652069\", \"2020-03-09T11:10:19.677152\", \"2020-03-09T11:10:24.607335\", \"2020-03-09T11:10:29.733344\", \"2020-03-09T11:10:34.766611\", \"2020-03-09T11:10:39.743722\", \"2020-03-09T11:10:44.769701\", \"2020-03-09T11:10:49.593426\", \"2020-03-09T11:10:54.778461\", \"2020-03-09T11:10:59.767591\", \"2020-03-09T11:11:04.763557\", \"2020-03-09T11:11:09.605154\", \"2020-03-09T11:11:14.667105\", \"2020-03-09T11:11:19.722232\", \"2020-03-09T11:11:24.620855\", \"2020-03-09T11:11:29.816394\", \"2020-03-09T11:11:34.756824\", \"2020-03-09T11:11:39.718293\", \"2020-03-09T11:11:44.679827\", \"2020-03-09T11:11:49.624107\", \"2020-03-09T11:11:54.708819\", \"2020-03-09T11:11:59.692392\", \"2020-03-09T11:12:04.621493\", \"2020-03-09T11:12:09.653939\", \"2020-03-09T11:12:14.704885\", \"2020-03-09T11:12:29.711437\", \"2020-03-09T11:12:34.759745\", \"2020-03-09T11:12:39.781531\"], \"y\": [14.183333333333334, 14.1, 14.016666666666667, 13.933333333333334, 13.85, 13.766666666666667, 13.683333333333334, 13.6, 13.516666666666667, 13.433333333333334, 13.35, 13.266666666666667, 13.183333333333334, 13.1, 13.016666666666667, 12.933333333333334, 12.85, 12.766666666666667, 12.683333333333334, 12.6, 12.516666666666667, 12.433333333333334, 12.283333333333333, 12.2, 12.116666666666667, 12.033333333333333, 11.95, 11.866666666666667, 11.783333333333333, 11.7, 11.616666666666667, 11.533333333333333, 11.45, 11.366666666666667, 11.283333333333333, 11.2, 11.116666666666667, 11.033333333333333, 11.166666666666666, 11.083333333333334, 11.0, 10.916666666666666, 10.833333333333334, 10.75, 10.666666666666666, 10.583333333333334, 10.5, 10.416666666666666, 10.333333333333334, 10.25, 10.166666666666666, 10.083333333333334, 10.0, 9.916666666666666, 9.833333333333334, 9.75, 9.833333333333334, 9.75, 9.666666666666666, 9.583333333333334, 9.5, 9.416666666666666, 9.333333333333334, 9.25, 9.166666666666666, 9.083333333333334, 9.0, 8.916666666666666, 8.866666666666667, 8.783333333333333, 8.7, 8.616666666666667, 8.533333333333333, 8.45, 8.366666666666667, 7.383333333333334, 7.316666666666666, 7.216666666666667, 7.133333333333334, 7.05, 6.966666666666667, 6.883333333333334, 6.8, 6.716666666666667, 6.633333333333334, 6.55, 6.466666666666667, 6.383333333333334, 6.3, 6.216666666666667, 6.133333333333334, 6.05, 5.966666666666667, 5.883333333333334, 5.8, 5.716666666666667, 5.633333333333334, 5.55, 5.466666666666667, 6.5, 6.416666666666667, 6.333333333333333, 6.25, 6.166666666666667, 6.083333333333333, 6.0, 5.916666666666667, 5.833333333333333, 5.75, 5.65, 5.583333333333333, 5.5, 5.416666666666667, 5.4, 5.316666666666666, 5.233333333333333, 5.15, 5.066666666666666, 4.983333333333333, 4.9, 4.816666666666666, 4.733333333333333, 4.65, 4.566666666666666, 4.483333333333333, 4.4, 4.316666666666666, 4.233333333333333, 4.15, 4.066666666666666, 3.9833333333333334, 3.9, 3.816666666666667, 4.016666666666667, 3.95, 3.85, 3.7666666666666666, 3.683333333333333, 3.6, 3.5166666666666666, 3.433333333333333, 3.35, 3.2666666666666666, 3.183333333333333, 3.1, 3.3833333333333333, 3.3, 3.216666666666667, 3.1333333333333333, 3.05, 2.85, 2.75, 2.683333333333333, 2.6, 2.5, 2.433333333333333, 2.35, 2.25, 2.183333333333333, 1.8166666666666667, 1.7333333333333334, 1.65, 1.5666666666666667, 1.4833333333333334, 1.4, 1.3166666666666667, 1.2333333333333334, 1.15, 1.0666666666666667, 0.9833333333333333, 1.0, 0.9166666666666666, 0.8333333333333334, 0.75, 0.6666666666666666, 0.31666666666666665, 0.23333333333333334, 0.15, 0.06666666666666667, 0.0, 0.0, 0.0, 0.0, 0.0, 0.0, 0.0, 0.0, 0.0, 0.0]}, {\"line\": {\"width\": 1}, \"name\": \"F-8608\", \"type\": \"scatter\", \"x\": [\"2020-03-09T10:31:49.444042\", \"2020-03-09T10:31:54.431056\", \"2020-03-09T10:31:59.426598\", \"2020-03-09T10:32:05.539978\", \"2020-03-09T10:32:09.434372\", \"2020-03-09T10:32:14.352433\", \"2020-03-09T10:32:19.472168\", \"2020-03-09T10:32:24.374577\", \"2020-03-09T10:32:29.506733\", \"2020-03-09T10:32:34.391707\", \"2020-03-09T10:32:39.471869\", \"2020-03-09T10:32:44.466642\", \"2020-03-09T10:32:49.414490\", \"2020-03-09T10:32:54.428365\", \"2020-03-09T10:33:04.482345\", \"2020-03-09T10:32:59.515523\", \"2020-03-09T10:33:09.479278\", \"2020-03-09T10:33:14.460777\", \"2020-03-09T10:33:19.551205\", \"2020-03-09T10:33:24.500529\", \"2020-03-09T10:33:29.509452\", \"2020-03-09T10:33:34.498565\", \"2020-03-09T10:33:39.462341\", \"2020-03-09T10:33:44.509294\", \"2020-03-09T10:33:49.371000\", \"2020-03-09T10:33:54.483512\", \"2020-03-09T10:33:59.445313\", \"2020-03-09T10:34:04.406939\", \"2020-03-09T10:34:09.460020\", \"2020-03-09T10:34:14.497376\", \"2020-03-09T10:34:19.502885\", \"2020-03-09T10:34:24.534528\", \"2020-03-09T10:34:29.430630\", \"2020-03-09T10:34:34.402701\", \"2020-03-09T10:34:39.492890\", \"2020-03-09T10:34:44.455985\", \"2020-03-09T10:34:49.504166\", \"2020-03-09T10:34:54.550877\", \"2020-03-09T10:34:59.509475\", \"2020-03-09T10:35:04.389158\", \"2020-03-09T10:35:09.473800\", \"2020-03-09T10:35:14.392537\", \"2020-03-09T10:35:19.528890\", \"2020-03-09T10:35:24.571066\", \"2020-03-09T10:35:29.496362\", \"2020-03-09T10:35:34.545601\", \"2020-03-09T10:35:39.513254\", \"2020-03-09T10:35:44.532976\", \"2020-03-09T10:35:49.409106\", \"2020-03-09T10:35:54.518164\", \"2020-03-09T10:35:59.381778\", \"2020-03-09T10:36:04.461262\", \"2020-03-09T10:36:09.475548\", \"2020-03-09T10:36:15.030302\", \"2020-03-09T10:36:19.466360\", \"2020-03-09T10:36:24.538320\", \"2020-03-09T10:36:29.453070\", \"2020-03-09T10:36:34.552042\", \"2020-03-09T10:36:39.482547\", \"2020-03-09T10:36:44.549298\", \"2020-03-09T10:36:49.473626\", \"2020-03-09T10:36:54.538280\", \"2020-03-09T10:36:59.435723\", \"2020-03-09T10:37:04.435124\", \"2020-03-09T10:37:09.540953\", \"2020-03-09T10:37:14.428178\", \"2020-03-09T10:37:19.519424\", \"2020-03-09T10:37:24.461444\", \"2020-03-09T10:37:29.551975\", \"2020-03-09T10:37:34.575593\", \"2020-03-09T10:37:39.510159\", \"2020-03-09T10:37:44.489035\", \"2020-03-09T10:37:49.487865\", \"2020-03-09T10:37:54.562513\", \"2020-03-09T10:37:59.543999\", \"2020-03-09T10:38:04.450940\", \"2020-03-09T10:38:09.452235\", \"2020-03-09T10:38:14.593156\", \"2020-03-09T10:38:19.393646\", \"2020-03-09T10:38:24.518663\", \"2020-03-09T10:38:29.520894\", \"2020-03-09T10:38:34.536305\", \"2020-03-09T10:38:39.537215\", \"2020-03-09T10:38:44.542126\", \"2020-03-09T10:38:51.592433\", \"2020-03-09T10:38:54.562938\", \"2020-03-09T10:38:59.531068\", \"2020-03-09T10:39:04.483100\", \"2020-03-09T10:39:09.494768\", \"2020-03-09T10:39:14.524487\", \"2020-03-09T10:39:19.578025\", \"2020-03-09T10:39:24.589547\", \"2020-03-09T10:39:29.562693\", \"2020-03-09T10:39:34.539148\", \"2020-03-09T10:39:39.628393\", \"2020-03-09T10:39:44.462056\", \"2020-03-09T10:39:49.508817\", \"2020-03-09T10:39:54.444476\", \"2020-03-09T10:39:59.555924\", \"2020-03-09T10:40:04.418459\", \"2020-03-09T10:40:09.606364\", \"2020-03-09T10:40:14.561856\", \"2020-03-09T10:40:20.428655\", \"2020-03-09T10:40:24.431342\", \"2020-03-09T10:40:29.593172\", \"2020-03-09T10:40:34.572938\", \"2020-03-09T10:40:39.508716\", \"2020-03-09T10:40:44.465571\", \"2020-03-09T10:40:49.534259\", \"2020-03-09T10:40:54.613300\", \"2020-03-09T10:40:59.571750\", \"2020-03-09T10:41:04.528352\", \"2020-03-09T10:41:09.494079\", \"2020-03-09T10:41:14.451268\", \"2020-03-09T10:41:19.503466\", \"2020-03-09T10:41:24.549025\", \"2020-03-09T10:41:29.538290\", \"2020-03-09T10:41:34.514457\", \"2020-03-09T10:41:39.587023\", \"2020-03-09T10:41:44.456852\", \"2020-03-09T10:41:49.520308\", \"2020-03-09T10:41:54.473523\", \"2020-03-09T10:41:59.526664\", \"2020-03-09T10:42:04.537185\", \"2020-03-09T10:42:09.565068\", \"2020-03-09T10:42:14.626284\", \"2020-03-09T10:42:19.525324\", \"2020-03-09T10:42:24.528008\", \"2020-03-09T10:42:29.601106\", \"2020-03-09T10:42:34.417630\", \"2020-03-09T10:42:40.926095\", \"2020-03-09T10:42:46.099852\", \"2020-03-09T10:42:49.580982\", \"2020-03-09T10:42:54.598209\", \"2020-03-09T10:42:59.577924\", \"2020-03-09T10:43:04.575703\", \"2020-03-09T10:43:09.504695\"], \"y\": [9.666666666666666, 9.583333333333334, 9.5, 9.4, 9.333333333333334, 9.25, 9.166666666666666, 9.083333333333334, 9.0, 8.916666666666666, 8.833333333333334, 8.75, 8.283333333333333, 8.2, 8.033333333333333, 8.116666666666667, 7.95, 7.866666666666666, 7.783333333333333, 7.7, 7.616666666666666, 7.533333333333333, 7.45, 7.366666666666666, 7.283333333333333, 7.2, 7.116666666666666, 6.933333333333334, 6.85, 6.766666666666667, 6.683333333333334, 6.6, 6.516666666666667, 6.433333333333334, 6.35, 6.266666666666667, 6.183333333333334, 6.1, 6.016666666666667, 6.583333333333333, 6.5, 6.416666666666667, 6.333333333333333, 6.25, 6.166666666666667, 6.083333333333333, 6.0, 5.916666666666667, 5.833333333333333, 5.75, 5.666666666666667, 5.583333333333333, 5.5, 5.4, 5.333333333333333, 5.25, 5.166666666666667, 5.083333333333333, 5.0, 4.916666666666667, 4.8, 4.716666666666667, 4.633333333333334, 4.55, 4.466666666666667, 4.383333333333334, 4.3, 4.216666666666667, 4.133333333333334, 4.05, 3.966666666666667, 3.8833333333333333, 3.8, 3.716666666666667, 3.6333333333333333, 3.55, 4.2, 4.116666666666666, 4.033333333333333, 3.95, 3.8666666666666667, 3.783333333333333, 3.7, 3.6166666666666667, 3.5, 3.45, 3.3666666666666667, 3.283333333333333, 3.2, 3.1166666666666667, 3.033333333333333, 2.95, 2.8666666666666667, 2.783333333333333, 2.7, 2.6166666666666667, 2.533333333333333, 2.3333333333333335, 2.25, 2.1666666666666665, 2.0833333333333335, 2.0, 1.9, 1.8333333333333333, 1.75, 1.6666666666666667, 1.5833333333333333, 1.5, 1.4166666666666667, 1.3333333333333333, 1.25, 1.15, 1.0833333333333333, 1.1, 1.0166666666666666, 0.9333333333333333, 0.85, 0.7666666666666667, 0.6833333333333333, 0.6, 0.5166666666666667, 0.43333333333333335, 0.6166666666666667, 0.5333333333333333, 0.45, 0.36666666666666664, 0.2833333333333333, 0.2, 0.15, 0.06666666666666667, 0.0, 0.0, 0.0, 0.0, 0.0, 0.0, 0.0]}, {\"line\": {\"width\": 1}, \"name\": \"F-8605\", \"type\": \"scatter\", \"x\": [\"2020-03-09T10:34:04.406939\", \"2020-03-09T10:34:09.460020\", \"2020-03-09T10:34:14.497376\", \"2020-03-09T10:34:19.502885\", \"2020-03-09T10:34:24.534528\", \"2020-03-09T10:34:29.430630\", \"2020-03-09T10:34:34.402701\", \"2020-03-09T10:34:39.492890\", \"2020-03-09T10:34:44.455985\", \"2020-03-09T10:34:49.504166\", \"2020-03-09T10:34:54.550877\", \"2020-03-09T10:34:59.509475\", \"2020-03-09T10:35:04.389158\", \"2020-03-09T10:35:09.473800\", \"2020-03-09T10:35:14.392537\", \"2020-03-09T10:35:19.528890\", \"2020-03-09T10:35:24.571066\", \"2020-03-09T10:35:29.496362\", \"2020-03-09T10:35:34.545601\", \"2020-03-09T10:35:39.513254\", \"2020-03-09T10:35:44.532976\", \"2020-03-09T10:35:49.409106\", \"2020-03-09T10:35:54.518164\", \"2020-03-09T10:35:59.381778\", \"2020-03-09T10:36:04.461262\", \"2020-03-09T10:36:09.475548\", \"2020-03-09T10:36:15.030302\", \"2020-03-09T10:36:19.466360\", \"2020-03-09T10:36:24.538320\", \"2020-03-09T10:36:29.453070\", \"2020-03-09T10:36:34.552042\", \"2020-03-09T10:36:39.482547\", \"2020-03-09T10:36:44.549298\", \"2020-03-09T10:36:49.473626\", \"2020-03-09T10:36:54.538280\", \"2020-03-09T10:36:59.435723\", \"2020-03-09T10:37:04.435124\", \"2020-03-09T10:37:09.540953\", \"2020-03-09T10:37:14.428178\", \"2020-03-09T10:37:19.519424\", \"2020-03-09T10:37:24.461444\", \"2020-03-09T10:37:29.551975\", \"2020-03-09T10:37:34.575593\", \"2020-03-09T10:37:39.510159\", \"2020-03-09T10:37:44.489035\", \"2020-03-09T10:37:49.487865\", \"2020-03-09T10:37:54.562513\", \"2020-03-09T10:37:59.543999\", \"2020-03-09T10:38:04.450940\", \"2020-03-09T10:38:09.452235\", \"2020-03-09T10:38:14.593156\", \"2020-03-09T10:38:19.393646\", \"2020-03-09T10:38:24.518663\", \"2020-03-09T10:38:29.520894\", \"2020-03-09T10:38:34.536305\", \"2020-03-09T10:38:39.537215\", \"2020-03-09T10:38:44.542126\", \"2020-03-09T10:38:51.592433\", \"2020-03-09T10:38:54.562938\", \"2020-03-09T10:38:59.531068\", \"2020-03-09T10:39:04.483100\", \"2020-03-09T10:39:09.494768\", \"2020-03-09T10:39:14.524487\", \"2020-03-09T10:39:19.578025\", \"2020-03-09T10:39:24.589547\", \"2020-03-09T10:39:29.562693\", \"2020-03-09T10:39:34.539148\", \"2020-03-09T10:39:39.628393\", \"2020-03-09T10:39:44.462056\", \"2020-03-09T10:39:49.508817\", \"2020-03-09T10:39:54.444476\", \"2020-03-09T10:39:59.555924\", \"2020-03-09T10:40:04.418459\", \"2020-03-09T10:40:09.606364\", \"2020-03-09T10:40:14.561856\", \"2020-03-09T10:40:20.428655\", \"2020-03-09T10:40:24.431342\", \"2020-03-09T10:40:29.593172\", \"2020-03-09T10:40:34.572938\", \"2020-03-09T10:40:39.508716\", \"2020-03-09T10:40:44.465571\", \"2020-03-09T10:40:49.534259\", \"2020-03-09T10:40:54.613300\", \"2020-03-09T10:40:59.571750\", \"2020-03-09T10:41:04.528352\", \"2020-03-09T10:41:09.494079\", \"2020-03-09T10:41:14.451268\", \"2020-03-09T10:41:19.503466\", \"2020-03-09T10:41:24.549025\", \"2020-03-09T10:41:29.538290\", \"2020-03-09T10:41:34.514457\", \"2020-03-09T10:41:39.587023\", \"2020-03-09T10:41:44.456852\", \"2020-03-09T10:41:49.520308\", \"2020-03-09T10:41:54.473523\", \"2020-03-09T10:41:59.526664\", \"2020-03-09T10:42:04.537185\", \"2020-03-09T10:42:09.565068\", \"2020-03-09T10:42:14.626284\", \"2020-03-09T10:42:19.525324\", \"2020-03-09T10:42:24.528008\", \"2020-03-09T10:42:29.601106\", \"2020-03-09T10:42:34.417630\", \"2020-03-09T10:42:40.926095\", \"2020-03-09T10:42:46.099852\", \"2020-03-09T10:42:49.580982\", \"2020-03-09T10:42:54.598209\", \"2020-03-09T10:42:59.577924\", \"2020-03-09T10:43:04.575703\", \"2020-03-09T10:43:09.504695\", \"2020-03-09T10:43:14.528001\", \"2020-03-09T10:43:19.444530\", \"2020-03-09T10:43:24.666443\", \"2020-03-09T10:43:29.444923\", \"2020-03-09T10:43:34.509840\", \"2020-03-09T10:43:39.508321\", \"2020-03-09T10:43:44.573283\", \"2020-03-09T10:43:49.594041\", \"2020-03-09T10:43:54.600378\", \"2020-03-09T10:43:59.495523\", \"2020-03-09T10:44:04.523464\", \"2020-03-09T10:44:09.530148\", \"2020-03-09T10:44:14.456261\", \"2020-03-09T10:44:19.545580\", \"2020-03-09T10:44:24.604311\", \"2020-03-09T10:44:29.531821\", \"2020-03-09T10:44:34.455645\", \"2020-03-09T10:44:39.595453\", \"2020-03-09T10:44:44.620374\", \"2020-03-09T10:44:49.549761\", \"2020-03-09T10:44:54.524794\", \"2020-03-09T10:44:59.483967\", \"2020-03-09T10:45:04.569547\", \"2020-03-09T10:45:09.563125\", \"2020-03-09T10:45:16.617667\", \"2020-03-09T10:45:19.606759\", \"2020-03-09T10:45:24.597661\"], \"y\": [13.55, 13.466666666666667, 13.383333333333333, 13.3, 13.216666666666667, 13.133333333333333, 13.05, 12.966666666666667, 12.883333333333333, 12.8, 12.716666666666667, 12.633333333333333, 12.55, 12.466666666666667, 12.383333333333333, 12.3, 12.216666666666667, 12.416666666666666, 12.333333333333334, 12.25, 12.166666666666666, 12.1, 12.0, 11.933333333333334, 11.85, 11.75, 11.666666666666666, 11.6, 11.5, 11.433333333333334, 11.333333333333334, 11.266666666666667, 11.166666666666666, 11.25, 11.166666666666666, 11.083333333333334, 11.0, 10.916666666666666, 10.833333333333334, 10.75, 10.666666666666666, 10.583333333333334, 10.5, 10.3, 10.216666666666667, 10.133333333333333, 10.05, 9.966666666666667, 9.883333333333333, 9.8, 9.716666666666667, 9.633333333333333, 9.55, 9.466666666666667, 9.8, 9.716666666666667, 9.633333333333333, 9.516666666666667, 9.466666666666667, 8.183333333333334, 8.1, 8.016666666666667, 7.933333333333334, 7.85, 7.766666666666667, 7.683333333333334, 7.6, 7.516666666666667, 7.433333333333334, 7.35, 7.266666666666667, 7.183333333333334, 7.1, 7.016666666666667, 6.933333333333334, 6.033333333333333, 5.966666666666667, 5.883333333333334, 5.8, 5.716666666666667, 5.633333333333334, 5.55, 5.466666666666667, 5.383333333333334, 5.283333333333333, 5.216666666666667, 5.133333333333334, 5.05, 4.966666666666667, 4.883333333333334, 4.8, 4.133333333333334, 4.05, 3.966666666666667, 3.8833333333333333, 3.8, 3.716666666666667, 3.6333333333333333, 3.55, 3.466666666666667, 2.7666666666666666, 2.683333333333333, 2.6, 2.5, 2.4166666666666665, 2.35, 2.4, 2.316666666666667, 2.2333333333333334, 2.15, 2.033333333333333, 1.95, 1.8666666666666667, 1.7833333333333334, 1.7, 1.6166666666666667, 1.5333333333333334, 1.0833333333333333, 1.0, 0.9166666666666666, 0.8333333333333334, 0.75, 0.55, 0.4666666666666667, 0.38333333333333336, 0.3, 0.21666666666666667, 0.13333333333333333, 0.05, 0.0, 0.0, 0.0, 0.0, 0.0, 0.0, 0.0, 0.0]}],\n",
       "                        {\"template\": {\"data\": {\"bar\": [{\"error_x\": {\"color\": \"#2a3f5f\"}, \"error_y\": {\"color\": \"#2a3f5f\"}, \"marker\": {\"line\": {\"color\": \"white\", \"width\": 0.5}}, \"type\": \"bar\"}], \"barpolar\": [{\"marker\": {\"line\": {\"color\": \"white\", \"width\": 0.5}}, \"type\": \"barpolar\"}], \"carpet\": [{\"aaxis\": {\"endlinecolor\": \"#2a3f5f\", \"gridcolor\": \"#C8D4E3\", \"linecolor\": \"#C8D4E3\", \"minorgridcolor\": \"#C8D4E3\", \"startlinecolor\": \"#2a3f5f\"}, \"baxis\": {\"endlinecolor\": \"#2a3f5f\", \"gridcolor\": \"#C8D4E3\", \"linecolor\": \"#C8D4E3\", \"minorgridcolor\": \"#C8D4E3\", \"startlinecolor\": \"#2a3f5f\"}, \"type\": \"carpet\"}], \"choropleth\": [{\"colorbar\": {\"outlinewidth\": 0, \"ticks\": \"\"}, \"type\": \"choropleth\"}], \"contour\": [{\"colorbar\": {\"outlinewidth\": 0, \"ticks\": \"\"}, \"colorscale\": [[0.0, \"#0d0887\"], [0.1111111111111111, \"#46039f\"], [0.2222222222222222, \"#7201a8\"], [0.3333333333333333, \"#9c179e\"], [0.4444444444444444, \"#bd3786\"], [0.5555555555555556, \"#d8576b\"], [0.6666666666666666, \"#ed7953\"], [0.7777777777777778, \"#fb9f3a\"], [0.8888888888888888, \"#fdca26\"], [1.0, \"#f0f921\"]], \"type\": \"contour\"}], \"contourcarpet\": [{\"colorbar\": {\"outlinewidth\": 0, \"ticks\": \"\"}, \"type\": \"contourcarpet\"}], \"heatmap\": [{\"colorbar\": {\"outlinewidth\": 0, \"ticks\": \"\"}, \"colorscale\": [[0.0, \"#0d0887\"], [0.1111111111111111, \"#46039f\"], [0.2222222222222222, \"#7201a8\"], [0.3333333333333333, \"#9c179e\"], [0.4444444444444444, \"#bd3786\"], [0.5555555555555556, \"#d8576b\"], [0.6666666666666666, \"#ed7953\"], [0.7777777777777778, \"#fb9f3a\"], [0.8888888888888888, \"#fdca26\"], [1.0, \"#f0f921\"]], \"type\": \"heatmap\"}], \"heatmapgl\": [{\"colorbar\": {\"outlinewidth\": 0, \"ticks\": \"\"}, \"colorscale\": [[0.0, \"#0d0887\"], [0.1111111111111111, \"#46039f\"], [0.2222222222222222, \"#7201a8\"], [0.3333333333333333, \"#9c179e\"], [0.4444444444444444, \"#bd3786\"], [0.5555555555555556, \"#d8576b\"], [0.6666666666666666, \"#ed7953\"], [0.7777777777777778, \"#fb9f3a\"], [0.8888888888888888, \"#fdca26\"], [1.0, \"#f0f921\"]], \"type\": \"heatmapgl\"}], \"histogram\": [{\"marker\": {\"colorbar\": {\"outlinewidth\": 0, \"ticks\": \"\"}}, \"type\": \"histogram\"}], \"histogram2d\": [{\"colorbar\": {\"outlinewidth\": 0, \"ticks\": \"\"}, \"colorscale\": [[0.0, \"#0d0887\"], [0.1111111111111111, \"#46039f\"], [0.2222222222222222, \"#7201a8\"], [0.3333333333333333, \"#9c179e\"], [0.4444444444444444, \"#bd3786\"], [0.5555555555555556, \"#d8576b\"], [0.6666666666666666, \"#ed7953\"], [0.7777777777777778, \"#fb9f3a\"], [0.8888888888888888, \"#fdca26\"], [1.0, \"#f0f921\"]], \"type\": \"histogram2d\"}], \"histogram2dcontour\": [{\"colorbar\": {\"outlinewidth\": 0, \"ticks\": \"\"}, \"colorscale\": [[0.0, \"#0d0887\"], [0.1111111111111111, \"#46039f\"], [0.2222222222222222, \"#7201a8\"], [0.3333333333333333, \"#9c179e\"], [0.4444444444444444, \"#bd3786\"], [0.5555555555555556, \"#d8576b\"], [0.6666666666666666, \"#ed7953\"], [0.7777777777777778, \"#fb9f3a\"], [0.8888888888888888, \"#fdca26\"], [1.0, \"#f0f921\"]], \"type\": \"histogram2dcontour\"}], \"mesh3d\": [{\"colorbar\": {\"outlinewidth\": 0, \"ticks\": \"\"}, \"type\": \"mesh3d\"}], \"parcoords\": [{\"line\": {\"colorbar\": {\"outlinewidth\": 0, \"ticks\": \"\"}}, \"type\": \"parcoords\"}], \"pie\": [{\"automargin\": true, \"type\": \"pie\"}], \"scatter\": [{\"marker\": {\"colorbar\": {\"outlinewidth\": 0, \"ticks\": \"\"}}, \"type\": \"scatter\"}], \"scatter3d\": [{\"line\": {\"colorbar\": {\"outlinewidth\": 0, \"ticks\": \"\"}}, \"marker\": {\"colorbar\": {\"outlinewidth\": 0, \"ticks\": \"\"}}, \"type\": \"scatter3d\"}], \"scattercarpet\": [{\"marker\": {\"colorbar\": {\"outlinewidth\": 0, \"ticks\": \"\"}}, \"type\": \"scattercarpet\"}], \"scattergeo\": [{\"marker\": {\"colorbar\": {\"outlinewidth\": 0, \"ticks\": \"\"}}, \"type\": \"scattergeo\"}], \"scattergl\": [{\"marker\": {\"colorbar\": {\"outlinewidth\": 0, \"ticks\": \"\"}}, \"type\": \"scattergl\"}], \"scattermapbox\": [{\"marker\": {\"colorbar\": {\"outlinewidth\": 0, \"ticks\": \"\"}}, \"type\": \"scattermapbox\"}], \"scatterpolar\": [{\"marker\": {\"colorbar\": {\"outlinewidth\": 0, \"ticks\": \"\"}}, \"type\": \"scatterpolar\"}], \"scatterpolargl\": [{\"marker\": {\"colorbar\": {\"outlinewidth\": 0, \"ticks\": \"\"}}, \"type\": \"scatterpolargl\"}], \"scatterternary\": [{\"marker\": {\"colorbar\": {\"outlinewidth\": 0, \"ticks\": \"\"}}, \"type\": \"scatterternary\"}], \"surface\": [{\"colorbar\": {\"outlinewidth\": 0, \"ticks\": \"\"}, \"colorscale\": [[0.0, \"#0d0887\"], [0.1111111111111111, \"#46039f\"], [0.2222222222222222, \"#7201a8\"], [0.3333333333333333, \"#9c179e\"], [0.4444444444444444, \"#bd3786\"], [0.5555555555555556, \"#d8576b\"], [0.6666666666666666, \"#ed7953\"], [0.7777777777777778, \"#fb9f3a\"], [0.8888888888888888, \"#fdca26\"], [1.0, \"#f0f921\"]], \"type\": \"surface\"}], \"table\": [{\"cells\": {\"fill\": {\"color\": \"#EBF0F8\"}, \"line\": {\"color\": \"white\"}}, \"header\": {\"fill\": {\"color\": \"#C8D4E3\"}, \"line\": {\"color\": \"white\"}}, \"type\": \"table\"}]}, \"layout\": {\"annotationdefaults\": {\"arrowcolor\": \"#2a3f5f\", \"arrowhead\": 0, \"arrowwidth\": 1}, \"coloraxis\": {\"colorbar\": {\"outlinewidth\": 0, \"ticks\": \"\"}}, \"colorscale\": {\"diverging\": [[0, \"#8e0152\"], [0.1, \"#c51b7d\"], [0.2, \"#de77ae\"], [0.3, \"#f1b6da\"], [0.4, \"#fde0ef\"], [0.5, \"#f7f7f7\"], [0.6, \"#e6f5d0\"], [0.7, \"#b8e186\"], [0.8, \"#7fbc41\"], [0.9, \"#4d9221\"], [1, \"#276419\"]], \"sequential\": [[0.0, \"#0d0887\"], [0.1111111111111111, \"#46039f\"], [0.2222222222222222, \"#7201a8\"], [0.3333333333333333, \"#9c179e\"], [0.4444444444444444, \"#bd3786\"], [0.5555555555555556, \"#d8576b\"], [0.6666666666666666, \"#ed7953\"], [0.7777777777777778, \"#fb9f3a\"], [0.8888888888888888, \"#fdca26\"], [1.0, \"#f0f921\"]], \"sequentialminus\": [[0.0, \"#0d0887\"], [0.1111111111111111, \"#46039f\"], [0.2222222222222222, \"#7201a8\"], [0.3333333333333333, \"#9c179e\"], [0.4444444444444444, \"#bd3786\"], [0.5555555555555556, \"#d8576b\"], [0.6666666666666666, \"#ed7953\"], [0.7777777777777778, \"#fb9f3a\"], [0.8888888888888888, \"#fdca26\"], [1.0, \"#f0f921\"]]}, \"colorway\": [\"#636efa\", \"#EF553B\", \"#00cc96\", \"#ab63fa\", \"#FFA15A\", \"#19d3f3\", \"#FF6692\", \"#B6E880\", \"#FF97FF\", \"#FECB52\"], \"font\": {\"color\": \"#2a3f5f\"}, \"geo\": {\"bgcolor\": \"white\", \"lakecolor\": \"white\", \"landcolor\": \"white\", \"showlakes\": true, \"showland\": true, \"subunitcolor\": \"#C8D4E3\"}, \"hoverlabel\": {\"align\": \"left\"}, \"hovermode\": \"closest\", \"mapbox\": {\"style\": \"light\"}, \"paper_bgcolor\": \"white\", \"plot_bgcolor\": \"white\", \"polar\": {\"angularaxis\": {\"gridcolor\": \"#EBF0F8\", \"linecolor\": \"#EBF0F8\", \"ticks\": \"\"}, \"bgcolor\": \"white\", \"radialaxis\": {\"gridcolor\": \"#EBF0F8\", \"linecolor\": \"#EBF0F8\", \"ticks\": \"\"}}, \"scene\": {\"xaxis\": {\"backgroundcolor\": \"white\", \"gridcolor\": \"#DFE8F3\", \"gridwidth\": 2, \"linecolor\": \"#EBF0F8\", \"showbackground\": true, \"ticks\": \"\", \"zerolinecolor\": \"#EBF0F8\"}, \"yaxis\": {\"backgroundcolor\": \"white\", \"gridcolor\": \"#DFE8F3\", \"gridwidth\": 2, \"linecolor\": \"#EBF0F8\", \"showbackground\": true, \"ticks\": \"\", \"zerolinecolor\": \"#EBF0F8\"}, \"zaxis\": {\"backgroundcolor\": \"white\", \"gridcolor\": \"#DFE8F3\", \"gridwidth\": 2, \"linecolor\": \"#EBF0F8\", \"showbackground\": true, \"ticks\": \"\", \"zerolinecolor\": \"#EBF0F8\"}}, \"shapedefaults\": {\"line\": {\"color\": \"#2a3f5f\"}}, \"ternary\": {\"aaxis\": {\"gridcolor\": \"#DFE8F3\", \"linecolor\": \"#A2B1C6\", \"ticks\": \"\"}, \"baxis\": {\"gridcolor\": \"#DFE8F3\", \"linecolor\": \"#A2B1C6\", \"ticks\": \"\"}, \"bgcolor\": \"white\", \"caxis\": {\"gridcolor\": \"#DFE8F3\", \"linecolor\": \"#A2B1C6\", \"ticks\": \"\"}}, \"title\": {\"x\": 0.05}, \"xaxis\": {\"automargin\": true, \"gridcolor\": \"#EBF0F8\", \"linecolor\": \"#EBF0F8\", \"ticks\": \"\", \"title\": {\"standoff\": 15}, \"zerolinecolor\": \"#EBF0F8\", \"zerolinewidth\": 2}, \"yaxis\": {\"automargin\": true, \"gridcolor\": \"#EBF0F8\", \"linecolor\": \"#EBF0F8\", \"ticks\": \"\", \"title\": {\"standoff\": 15}, \"zerolinecolor\": \"#EBF0F8\", \"zerolinewidth\": 2}}}, \"title\": {\"text\": \"ETAs for the buses heading stop 4285\"}, \"xaxis\": {\"title\": {\"text\": \"Time\"}}, \"yaxis\": {\"title\": {\"text\": \"ETA (minutes)\"}}},\n",
       "                        {\"responsive\": true}\n",
       "                    ).then(function(){\n",
       "                            \n",
       "var gd = document.getElementById('f9bbf9f1-ad41-46b3-9293-c5ccd64dda5e');\n",
       "var x = new MutationObserver(function (mutations, observer) {{\n",
       "        var display = window.getComputedStyle(gd).display;\n",
       "        if (!display || display === 'none') {{\n",
       "            console.log([gd, 'removed!']);\n",
       "            Plotly.purge(gd);\n",
       "            observer.disconnect();\n",
       "        }}\n",
       "}});\n",
       "\n",
       "// Listen for the removal of the full notebook cells\n",
       "var notebookContainer = gd.closest('#notebook-container');\n",
       "if (notebookContainer) {{\n",
       "    x.observe(notebookContainer, {childList: true});\n",
       "}}\n",
       "\n",
       "// Listen for the clearing of the current output cell\n",
       "var outputEl = gd.closest('.output');\n",
       "if (outputEl) {{\n",
       "    x.observe(outputEl, {childList: true});\n",
       "}}\n",
       "\n",
       "                        })\n",
       "                };\n",
       "                });\n",
       "            </script>\n",
       "        </div>"
      ]
     },
     "metadata": {},
     "output_type": "display_data"
    }
   ],
   "source": [
    "#Show ETA figure\n",
    "fig2.show()"
   ]
  },
  {
   "cell_type": "code",
   "execution_count": 78,
   "metadata": {},
   "outputs": [
    {
     "data": {
      "application/vnd.plotly.v1+json": {
       "config": {
        "plotlyServerURL": "https://plot.ly"
       },
       "data": [
        {
         "line": {
          "width": 1
         },
         "name": "F-8606",
         "type": "scatter",
         "x": [
          "2020-03-09T10:15:14.291579",
          "2020-03-09T10:15:19.273074",
          "2020-03-09T10:15:24.358194",
          "2020-03-09T10:15:29.377392",
          "2020-03-09T10:15:34.415921",
          "2020-03-09T10:15:39.387586",
          "2020-03-09T10:15:44.315381",
          "2020-03-09T10:15:49.409547",
          "2020-03-09T10:15:54.360084",
          "2020-03-09T10:15:59.426210",
          "2020-03-09T10:16:04.414333",
          "2020-03-09T10:16:09.367235",
          "2020-03-09T10:16:14.389615",
          "2020-03-09T10:16:19.393246",
          "2020-03-09T10:16:24.369738",
          "2020-03-09T10:16:29.399281",
          "2020-03-09T10:16:34.284164",
          "2020-03-09T10:16:39.403782",
          "2020-03-09T10:16:44.261734",
          "2020-03-09T10:16:49.353309",
          "2020-03-09T10:16:54.339332",
          "2020-03-09T10:16:59.359884",
          "2020-03-09T10:17:05.261131",
          "2020-03-09T10:17:09.416599",
          "2020-03-09T10:17:14.405313",
          "2020-03-09T10:17:19.385354",
          "2020-03-09T10:17:24.383666",
          "2020-03-09T10:17:29.401951",
          "2020-03-09T10:17:34.458310",
          "2020-03-09T10:17:39.385904",
          "2020-03-09T10:17:44.399085",
          "2020-03-09T10:17:49.365138",
          "2020-03-09T10:17:54.402072",
          "2020-03-09T10:17:59.420878",
          "2020-03-09T10:18:04.272648",
          "2020-03-09T10:18:09.371487",
          "2020-03-09T10:18:14.318164",
          "2020-03-09T10:18:19.447084",
          "2020-03-09T10:18:24.268468",
          "2020-03-09T10:18:29.395817",
          "2020-03-09T10:18:34.387857",
          "2020-03-09T10:18:39.438467",
          "2020-03-09T10:18:44.270344",
          "2020-03-09T10:18:49.410258",
          "2020-03-09T10:18:54.394276",
          "2020-03-09T10:18:59.412396",
          "2020-03-09T10:19:04.317460",
          "2020-03-09T10:19:09.309378",
          "2020-03-09T10:19:14.324243",
          "2020-03-09T10:19:19.312966",
          "2020-03-09T10:19:24.412814",
          "2020-03-09T10:19:29.471783",
          "2020-03-09T10:19:34.425923",
          "2020-03-09T10:19:39.371382",
          "2020-03-09T10:19:44.443748",
          "2020-03-09T10:19:49.380488",
          "2020-03-09T10:19:54.285436",
          "2020-03-09T10:19:59.451342",
          "2020-03-09T10:20:04.324307",
          "2020-03-09T10:20:09.356982",
          "2020-03-09T10:20:14.474154",
          "2020-03-09T10:20:19.364041",
          "2020-03-09T10:20:24.294261",
          "2020-03-09T10:20:29.410835",
          "2020-03-09T10:20:34.310828"
         ],
         "y": [
          1.1996791833333333,
          1.1993707666666666,
          1.2007894333333333,
          1.2011094,
          1.20175155,
          1.1846126333333333,
          1.2000758833333334,
          1.2016453166666667,
          0.2174876,
          0.2185897,
          0.21839175,
          0.21760678333333333,
          0.21797978333333334,
          0.21804030000000002,
          0.2176485,
          0.2181408833333333,
          0.21622226666666666,
          -0.09845076666666668,
          -0.10081823333333334,
          -0.09929198333333332,
          -0.09952493333333333,
          -0.09918239999999999,
          -0.10082828333333334,
          -0.09823715000000001,
          -0.09842525,
          -0.09875790000000001,
          -0.09878603333333333,
          -0.29848128333333335,
          -0.29754196666666666,
          -0.29874873333333335,
          -0.29852905,
          -0.2990948333333333,
          -0.2318126,
          -0.23149916666666667,
          -0.2339696666666667,
          -0.23232235,
          -0.23321106666666666,
          -0.2310624,
          -0.23403933333333335,
          -0.23191685,
          -0.23204951666666668,
          -0.23120601666666665,
          -0.23400806666666665,
          -0.23167616666666666,
          -0.2319425333333333,
          -0.23164053333333331,
          -0.2332228,
          -0.2333575,
          -0.23310975,
          -0.6832977,
          -0.6816335666666667,
          -0.68065075,
          -0.6814150833333333,
          -0.5156574333333334,
          -0.5144513333333334,
          -0.5155056666666666,
          -0.5170898666666667,
          -0.5143247666666667,
          -0.49977535,
          -0.4158974333333333,
          -0.3306112333333333,
          -0.24911311666666666,
          -0.16694278333333334,
          -0.08166655,
          0
         ]
        },
        {
         "line": {
          "width": 1
         },
         "name": "F-8606",
         "type": "scatter",
         "x": [
          "2020-03-09T10:43:14.528001",
          "2020-03-09T10:43:19.444530",
          "2020-03-09T10:43:24.666443",
          "2020-03-09T10:43:29.444923",
          "2020-03-09T10:43:34.509840",
          "2020-03-09T10:43:39.508321",
          "2020-03-09T10:43:44.573283",
          "2020-03-09T10:43:49.594041",
          "2020-03-09T10:43:54.600378",
          "2020-03-09T10:43:59.495523",
          "2020-03-09T10:44:04.523464",
          "2020-03-09T10:44:09.530148",
          "2020-03-09T10:44:14.456261",
          "2020-03-09T10:44:19.545580",
          "2020-03-09T10:44:24.604311",
          "2020-03-09T10:44:29.531821",
          "2020-03-09T10:44:34.455645",
          "2020-03-09T10:44:39.595453",
          "2020-03-09T10:44:44.620374",
          "2020-03-09T10:44:49.549761",
          "2020-03-09T10:44:54.524794",
          "2020-03-09T10:44:59.483967",
          "2020-03-09T10:45:04.569547",
          "2020-03-09T10:45:09.563125",
          "2020-03-09T10:45:16.617667",
          "2020-03-09T10:45:19.606759",
          "2020-03-09T10:45:24.597661",
          "2020-03-09T10:45:29.602946",
          "2020-03-09T10:45:34.619474",
          "2020-03-09T10:45:39.496129",
          "2020-03-09T10:45:44.576401",
          "2020-03-09T10:45:49.503252",
          "2020-03-09T10:45:54.582406",
          "2020-03-09T10:45:59.565945",
          "2020-03-09T10:46:04.929078",
          "2020-03-09T10:46:09.610937",
          "2020-03-09T10:46:14.601772",
          "2020-03-09T10:46:19.650154",
          "2020-03-09T10:46:24.526653",
          "2020-03-09T10:46:29.535336",
          "2020-03-09T10:46:34.574680",
          "2020-03-09T10:46:39.460713",
          "2020-03-09T10:46:44.558933",
          "2020-03-09T10:46:49.523930",
          "2020-03-09T10:46:54.744964",
          "2020-03-09T10:46:59.609746",
          "2020-03-09T10:47:04.509715",
          "2020-03-09T10:47:09.489161",
          "2020-03-09T10:47:14.487228",
          "2020-03-09T10:47:19.496949",
          "2020-03-09T10:47:24.627409",
          "2020-03-09T10:47:29.599761",
          "2020-03-09T10:47:34.555860",
          "2020-03-09T10:47:39.571676",
          "2020-03-09T10:47:44.569943",
          "2020-03-09T10:47:49.610355",
          "2020-03-09T10:47:54.646782",
          "2020-03-09T10:47:59.543485",
          "2020-03-09T10:48:04.525737",
          "2020-03-09T10:48:09.552204",
          "2020-03-09T10:48:14.652903",
          "2020-03-09T10:48:19.499034",
          "2020-03-09T10:48:24.551021",
          "2020-03-09T10:48:29.489667",
          "2020-03-09T10:48:34.455875",
          "2020-03-09T10:48:39.570332",
          "2020-03-09T10:48:44.592993",
          "2020-03-09T10:48:49.630514",
          "2020-03-09T10:48:54.639196",
          "2020-03-09T10:48:59.652688",
          "2020-03-09T10:49:04.567778",
          "2020-03-09T10:49:09.571632",
          "2020-03-09T10:49:14.564156",
          "2020-03-09T10:49:19.671134",
          "2020-03-09T10:49:24.530016",
          "2020-03-09T10:49:29.598482",
          "2020-03-09T10:49:34.555328",
          "2020-03-09T10:49:39.617189",
          "2020-03-09T10:49:44.631523",
          "2020-03-09T10:49:49.675136",
          "2020-03-09T10:49:54.660462",
          "2020-03-09T10:50:01.036054",
          "2020-03-09T10:50:04.489394",
          "2020-03-09T10:50:09.617049",
          "2020-03-09T10:50:14.653925",
          "2020-03-09T10:50:19.520939",
          "2020-03-09T10:50:24.510598",
          "2020-03-09T10:50:29.632550",
          "2020-03-09T10:50:34.659544",
          "2020-03-09T10:50:39.610968",
          "2020-03-09T10:50:44.614228",
          "2020-03-09T10:50:49.648727",
          "2020-03-09T10:50:54.629259",
          "2020-03-09T10:50:59.682460",
          "2020-03-09T10:51:04.617376",
          "2020-03-09T10:51:09.543356",
          "2020-03-09T10:51:14.628081",
          "2020-03-09T10:51:19.630340",
          "2020-03-09T10:51:24.632104",
          "2020-03-09T10:51:29.654030",
          "2020-03-09T10:51:34.492900",
          "2020-03-09T10:51:39.531663",
          "2020-03-09T10:51:44.507542",
          "2020-03-09T10:51:49.572063",
          "2020-03-09T10:51:54.511439",
          "2020-03-09T10:51:59.624642",
          "2020-03-09T10:52:04.640263",
          "2020-03-09T10:52:09.509494",
          "2020-03-09T10:52:14.499325",
          "2020-03-09T10:52:19.632170",
          "2020-03-09T10:52:24.664548",
          "2020-03-09T10:52:29.634647",
          "2020-03-09T10:52:34.594006",
          "2020-03-09T10:52:39.601325",
          "2020-03-09T10:52:44.484192",
          "2020-03-09T10:52:49.652224",
          "2020-03-09T10:52:54.658489",
          "2020-03-09T10:52:59.652201",
          "2020-03-09T10:53:04.629042",
          "2020-03-09T10:53:09.627118",
          "2020-03-09T10:53:14.686554",
          "2020-03-09T10:53:19.577492",
          "2020-03-09T10:53:24.600959",
          "2020-03-09T10:53:29.635990",
          "2020-03-09T10:53:34.513512",
          "2020-03-09T10:53:39.664162",
          "2020-03-09T10:53:44.654454",
          "2020-03-09T10:53:49.506381",
          "2020-03-09T10:53:54.678238",
          "2020-03-09T10:53:59.544664",
          "2020-03-09T10:54:04.607716",
          "2020-03-09T10:54:09.702888",
          "2020-03-09T10:54:14.538816",
          "2020-03-09T10:54:19.611251",
          "2020-03-09T10:54:24.585259",
          "2020-03-09T10:54:29.635419",
          "2020-03-09T10:54:34.660727",
          "2020-03-09T10:54:39.518246",
          "2020-03-09T10:54:44.501488",
          "2020-03-09T10:54:49.681574",
          "2020-03-09T10:54:54.619739",
          "2020-03-09T10:54:59.687029",
          "2020-03-09T10:55:04.581986",
          "2020-03-09T10:55:09.645939",
          "2020-03-09T10:55:14.528373",
          "2020-03-09T10:55:19.624826",
          "2020-03-09T10:55:24.663989",
          "2020-03-09T10:55:29.678838",
          "2020-03-09T10:55:34.707188",
          "2020-03-09T10:55:39.630131",
          "2020-03-09T10:55:44.640056",
          "2020-03-09T10:55:49.608299",
          "2020-03-09T10:55:54.605894",
          "2020-03-09T10:55:59.671630",
          "2020-03-09T10:56:04.583111",
          "2020-03-09T10:56:09.678437",
          "2020-03-09T10:56:14.718315",
          "2020-03-09T10:56:19.700122",
          "2020-03-09T10:56:24.634359",
          "2020-03-09T10:56:34.669263",
          "2020-03-09T10:56:39.635770",
          "2020-03-09T10:56:44.629955"
         ],
         "y": [
          0.2816341,
          0.2802429166666667,
          0.28394146666666664,
          0.28024946666666667,
          0.28133141666666667,
          0.2813061,
          0.2823888,
          0.2827347666666667,
          0.28284038333333333,
          0.2810928,
          0.2815584833333334,
          0.28166988333333337,
          0.2804384333333333,
          0.28192708333333333,
          0.28290593333333336,
          0.2816977666666666,
          0.2804281666666667,
          -0.18390836666666666,
          -0.18349301666666668,
          -0.1846699,
          -0.1850860166666667,
          -0.18576646666666666,
          -0.18434013333333335,
          -0.18444716666666666,
          -0.18353813333333333,
          -0.18371993333333334,
          -0.18387156666666668,
          -0.16711681666666667,
          -0.16684135,
          -0.1688971,
          -0.16755923333333334,
          -0.1687783833333333,
          -0.16745915,
          -0.1677335,
          -0.17834795,
          -0.16698363333333335,
          -0.16713638333333333,
          -0.16633001666666666,
          -0.16838836666666665,
          -0.16824365,
          -0.16758791666666667,
          -0.16948736666666667,
          -0.16785036666666667,
          -0.16843375000000002,
          -0.18141651666666667,
          -0.18367015,
          -0.1686706666666667,
          -0.16901323333333332,
          -0.16904545,
          -0.16888343333333333,
          -0.1667091,
          -0.1671699,
          -0.16790158333333333,
          -0.16763798333333335,
          -0.16766686666666666,
          -0.16699333333333335,
          -0.16638621666666667,
          -0.16810783333333335,
          -0.16840363333333333,
          -0.16796251666666664,
          -0.16628420000000002,
          -0.16884868333333333,
          -0.16798223333333334,
          -0.1690048,
          -0.169568,
          0.61567295,
          0.6160506333333333,
          0.6166759833333334,
          0.6168206833333334,
          0.61704555,
          0.6156303833333333,
          0.6156946166666667,
          0.6155700166666667,
          0.6173529833333333,
          0.6150010166666667,
          0.6161421166666667,
          0.6154228833333334,
          0.6164539,
          0.6166927999999999,
          0.6174196833333333,
          0.6171751166666667,
          0.6067683166666666,
          0.6143239833333334,
          0.6164515666666667,
          0.6170661666666667,
          0.6148497333333334,
          0.6146773833333333,
          0.6167099166666666,
          0.6171598166666666,
          0.6163502166666667,
          0.61640455,
          0.6169795333333333,
          0.6166550666666667,
          0.6175417499999999,
          0.6164570166666666,
          0.6152233500000001,
          0.6166354333333334,
          0.6166730833333334,
          0.6167024833333333,
          0.6170679166666667,
          0.6143824166666667,
          0.6150284666666667,
          -0.4520402166666667,
          -0.45096486666666663,
          -0.45197526666666665,
          -0.45008855000000003,
          -0.4498282,
          -0.4520076833333333,
          -0.4521771666666667,
          -0.44996308333333335,
          -0.44942345,
          -0.44992180000000004,
          -0.45059915,
          -0.45047716666666665,
          -0.4524293833333333,
          -0.39962885,
          -0.3995244333333333,
          -0.39962923333333333,
          -0.4000152166666667,
          -0.40004728333333334,
          -0.5490566833333334,
          -0.5342077166666667,
          -0.5504832666666667,
          -0.5498994166666668,
          -0.53527405,
          -0.5494298833333333,
          -0.5495916833333333,
          -0.5353929,
          -0.5491952833333333,
          -0.53475485,
          -0.5337039833333334,
          -0.54878445,
          -0.5348523166666667,
          -0.5336450666666667,
          -0.5340782666666667,
          -0.5499089333333332,
          -0.31615380000000004,
          -0.31852848333333333,
          -0.3188077833333333,
          -0.31580635,
          -0.31683693333333335,
          -0.31571543333333335,
          -0.61746615,
          -0.6164002666666666,
          -0.6183597,
          -0.6167521499999999,
          -0.6160994333333334,
          -0.33251861666666666,
          -0.34871278333333333,
          -0.3333304,
          -0.33316498333333333,
          -0.3336942666666667,
          -0.8337343500000001,
          -0.7493054166666667,
          -0.6674474,
          -0.5825253,
          -0.4985273333333333,
          -0.41549721666666667,
          -0.3332599333333333,
          -0.16601153333333332,
          -0.08323641666666666,
          0
         ]
        },
        {
         "line": {
          "width": 1
         },
         "name": "F-8607",
         "type": "scatter",
         "x": [
          "2020-03-09T10:20:39.295806",
          "2020-03-09T10:20:44.350090",
          "2020-03-09T10:20:49.525143",
          "2020-03-09T10:20:54.503251",
          "2020-03-09T10:20:59.432243",
          "2020-03-09T10:21:04.292141",
          "2020-03-09T10:21:09.402633",
          "2020-03-09T10:21:14.396797",
          "2020-03-09T10:21:19.448426",
          "2020-03-09T10:21:24.347856",
          "2020-03-09T10:21:29.428192",
          "2020-03-09T10:21:34.335669",
          "2020-03-09T10:21:39.468715",
          "2020-03-09T10:21:44.413172",
          "2020-03-09T10:21:49.428011",
          "2020-03-09T10:21:54.407754",
          "2020-03-09T10:21:59.459415",
          "2020-03-09T10:22:04.490360",
          "2020-03-09T10:22:09.507376",
          "2020-03-09T10:22:14.449948",
          "2020-03-09T10:22:19.495378",
          "2020-03-09T10:22:24.466133",
          "2020-03-09T10:22:29.332402",
          "2020-03-09T10:22:34.308517",
          "2020-03-09T10:22:39.375863",
          "2020-03-09T10:22:44.382991",
          "2020-03-09T10:22:49.479905",
          "2020-03-09T10:22:54.430529",
          "2020-03-09T10:22:59.410952",
          "2020-03-09T10:23:04.443648",
          "2020-03-09T10:23:09.468886",
          "2020-03-09T10:23:14.373860",
          "2020-03-09T10:23:19.445901",
          "2020-03-09T10:23:24.438152",
          "2020-03-09T10:23:29.455752",
          "2020-03-09T10:23:34.522162",
          "2020-03-09T10:23:39.416408",
          "2020-03-09T10:23:44.309587",
          "2020-03-09T10:23:49.452671",
          "2020-03-09T10:23:54.390569",
          "2020-03-09T10:23:59.359498",
          "2020-03-09T10:24:04.426740",
          "2020-03-09T10:24:09.308035",
          "2020-03-09T10:24:14.468489",
          "2020-03-09T10:24:19.344187",
          "2020-03-09T10:24:24.407086",
          "2020-03-09T10:24:29.464961",
          "2020-03-09T10:24:34.459078",
          "2020-03-09T10:24:40.196437",
          "2020-03-09T10:24:44.361696",
          "2020-03-09T10:24:49.416371",
          "2020-03-09T10:24:54.451349",
          "2020-03-09T10:24:59.452703",
          "2020-03-09T10:25:04.495087",
          "2020-03-09T10:25:09.345807",
          "2020-03-09T10:25:14.400362",
          "2020-03-09T10:25:19.482724",
          "2020-03-09T10:25:24.362084",
          "2020-03-09T10:25:29.445640",
          "2020-03-09T10:25:34.440821",
          "2020-03-09T10:25:39.455941",
          "2020-03-09T10:25:44.441334",
          "2020-03-09T10:25:49.449822",
          "2020-03-09T10:25:54.320482",
          "2020-03-09T10:25:59.414711",
          "2020-03-09T10:26:04.499527",
          "2020-03-09T10:26:09.390603",
          "2020-03-09T10:26:14.452546",
          "2020-03-09T10:26:19.329053",
          "2020-03-09T10:26:24.441433",
          "2020-03-09T10:26:29.389258",
          "2020-03-09T10:26:34.373801",
          "2020-03-09T10:26:39.509370",
          "2020-03-09T10:26:44.391903",
          "2020-03-09T10:26:49.493466",
          "2020-03-09T10:26:54.449879",
          "2020-03-09T10:26:59.485091",
          "2020-03-09T10:27:04.455771",
          "2020-03-09T10:27:09.489987",
          "2020-03-09T10:27:14.481484",
          "2020-03-09T10:27:19.409051",
          "2020-03-09T10:27:24.365041",
          "2020-03-09T10:27:29.438081",
          "2020-03-09T10:27:34.516485",
          "2020-03-09T10:27:39.506602",
          "2020-03-09T10:27:44.515262",
          "2020-03-09T10:27:49.432209",
          "2020-03-09T10:27:54.397544",
          "2020-03-09T10:27:59.459515",
          "2020-03-09T10:28:04.344958",
          "2020-03-09T10:28:09.470154",
          "2020-03-09T10:28:14.429994",
          "2020-03-09T10:28:19.451575",
          "2020-03-09T10:28:24.462565",
          "2020-03-09T10:28:30.403199",
          "2020-03-09T10:28:34.484629",
          "2020-03-09T10:28:39.516902",
          "2020-03-09T10:28:44.438960",
          "2020-03-09T10:28:49.405351",
          "2020-03-09T10:28:54.424073",
          "2020-03-09T10:28:59.377351",
          "2020-03-09T10:29:04.512007",
          "2020-03-09T10:29:09.402422",
          "2020-03-09T10:29:14.436999",
          "2020-03-09T10:29:19.489654",
          "2020-03-09T10:29:24.520388",
          "2020-03-09T10:29:29.487854",
          "2020-03-09T10:29:34.494792",
          "2020-03-09T10:29:39.426826",
          "2020-03-09T10:29:44.342058",
          "2020-03-09T10:29:49.495327",
          "2020-03-09T10:29:54.490719",
          "2020-03-09T10:29:59.456626",
          "2020-03-09T10:30:04.436055",
          "2020-03-09T10:30:09.484816",
          "2020-03-09T10:30:14.450447",
          "2020-03-09T10:30:19.519882",
          "2020-03-09T10:30:24.589946",
          "2020-03-09T10:30:29.348028",
          "2020-03-09T10:30:34.422601",
          "2020-03-09T10:30:39.350122",
          "2020-03-09T10:30:44.521398",
          "2020-03-09T10:30:49.504460",
          "2020-03-09T10:30:54.390710",
          "2020-03-09T10:30:59.493865",
          "2020-03-09T10:31:04.401280",
          "2020-03-09T10:31:09.572213",
          "2020-03-09T10:31:14.523531",
          "2020-03-09T10:31:19.482136",
          "2020-03-09T10:31:24.481101",
          "2020-03-09T10:31:29.430138",
          "2020-03-09T10:31:34.530196",
          "2020-03-09T10:31:39.491933",
          "2020-03-09T10:31:44.426921",
          "2020-03-09T10:31:49.444042",
          "2020-03-09T10:31:54.431056",
          "2020-03-09T10:31:59.426598"
         ],
         "y": [
          -3.8188465333333337,
          -3.8179418,
          -3.81502425,
          -3.8153891166666667,
          -3.8165725833333335,
          -3.8189076166666664,
          -3.817066083333333,
          -3.81716335,
          -3.8163028666666667,
          -2.9679790333333336,
          -2.9666401,
          -2.9681821499999996,
          -2.965964716666667,
          -2.9668904333333335,
          -2.9666431166666665,
          -2.9669807333333336,
          -2.966119716666667,
          -2.965603966666667,
          -1.6653203666666667,
          -1.6662775,
          -1.6655203333333333,
          -1.66600775,
          -1.6682366,
          -1.6686346833333334,
          -1.6675122500000001,
          -1.6673934499999998,
          -1.6657782166666666,
          -1.6666011500000002,
          -1.6669274333333335,
          -1.6663825,
          -1.6659618666666667,
          -1.6675456333333334,
          -1.66634495,
          -1.6664740999999998,
          -1.6661807666666666,
          -1.6650739333333333,
          -1.6668364999999998,
          -1.66861685,
          -1.6662321166666667,
          -1.66726715,
          -1.6677849999999999,
          -0.7166643,
          -0.7186427166666667,
          -0.7159684833333333,
          -0.7180401833333333,
          -0.7169918666666667,
          -0.7160272833333334,
          -0.7161253333333334,
          -0.7205026833333333,
          -0.7177483666666666,
          -0.7168371166666667,
          -0.7162541499999999,
          -0.7162315833333334,
          -0.7155251833333334,
          -0.7180131833333333,
          -0.7171039333333333,
          -0.7157312333333333,
          -0.7177419,
          -0.7163493,
          -0.7164296166666666,
          -0.7161776166666667,
          -0.3997544,
          -0.39961293333333336,
          -0.4017686,
          -0.4001981166666667,
          -0.3987845166666667,
          -0.40059991666666667,
          -0.39956753333333334,
          -0.40162575,
          -0.39975275,
          -0.40062233333333336,
          -0.40087995000000004,
          -0.3986204666666667,
          -0.40057824999999997,
          -0.3988855333333333,
          -0.3996119833333333,
          -0.3990251166666667,
          -0.3995137833333333,
          -0.39894351666666666,
          -0.39908523333333334,
          -0.40029245,
          -0.40102595,
          -0.39980861666666667,
          -0.3985018833333333,
          -0.39866660000000004,
          -0.3985222666666666,
          -0.39990648333333334,
          -0.6671509,
          -0.66611805,
          -0.6680273333333333,
          -0.6659407333333333,
          -0.6666100666666667,
          -0.88291705,
          -0.8827338833333334,
          -0.8837233166666666,
          -0.88236615,
          -0.8818282666666666,
          -0.8831273,
          -0.88368745,
          -0.8833754166666666,
          -0.8841541166666667,
          -1.0152431833333333,
          -1.0170696,
          -1.0164933166666665,
          -1.0156157333333333,
          -1.0151035,
          -1.0156457333333333,
          -1.0155301,
          -1.0166628666666666,
          -0.751409,
          -0.7488545166666667,
          -0.7489313166666667,
          -0.7494995333333333,
          -0.7498423833333334,
          -0.7490297,
          -0.7496025166666667,
          -0.7484452666666667,
          -0.7472775333333334,
          -0.7513095,
          -0.7500666166666666,
          -0.7179412666666667,
          -0.7317533333333334,
          -0.7320356333333333,
          -0.7172648,
          -0.7322122166666667,
          -0.5837553,
          -0.5809064166666666,
          -0.5817177833333333,
          -0.5824077,
          -0.58242495,
          -0.49994099999999997,
          -0.4149400333333333,
          -0.33224441666666665,
          -0.24999461666666667,
          -0.16637593333333334,
          -0.08325903333333334,
          0
         ]
        },
        {
         "line": {
          "width": 1
         },
         "name": "F-8607",
         "type": "scatter",
         "x": [
          "2020-03-09T10:45:29.602946",
          "2020-03-09T10:45:34.619474",
          "2020-03-09T10:45:39.496129",
          "2020-03-09T10:45:44.576401",
          "2020-03-09T10:45:49.503252",
          "2020-03-09T10:45:54.582406",
          "2020-03-09T10:45:59.565945",
          "2020-03-09T10:46:04.929078",
          "2020-03-09T10:46:09.610937",
          "2020-03-09T10:46:14.601772",
          "2020-03-09T10:46:19.650154",
          "2020-03-09T10:46:24.526653",
          "2020-03-09T10:46:29.535336",
          "2020-03-09T10:46:34.574680",
          "2020-03-09T10:46:39.460713",
          "2020-03-09T10:46:44.558933",
          "2020-03-09T10:46:49.523930",
          "2020-03-09T10:46:54.744964",
          "2020-03-09T10:46:59.609746",
          "2020-03-09T10:47:04.509715",
          "2020-03-09T10:47:09.489161",
          "2020-03-09T10:47:14.487228",
          "2020-03-09T10:47:19.496949",
          "2020-03-09T10:47:24.627409",
          "2020-03-09T10:47:29.599761",
          "2020-03-09T10:47:34.555860",
          "2020-03-09T10:47:39.571676",
          "2020-03-09T10:47:44.569943",
          "2020-03-09T10:47:49.610355",
          "2020-03-09T10:47:54.646782",
          "2020-03-09T10:47:59.543485",
          "2020-03-09T10:48:04.525737",
          "2020-03-09T10:48:09.552204",
          "2020-03-09T10:48:14.652903",
          "2020-03-09T10:48:19.499034",
          "2020-03-09T10:48:24.551021",
          "2020-03-09T10:48:29.489667",
          "2020-03-09T10:48:34.455875",
          "2020-03-09T10:48:39.570332",
          "2020-03-09T10:48:44.592993",
          "2020-03-09T10:48:49.630514",
          "2020-03-09T10:48:54.639196",
          "2020-03-09T10:48:59.652688",
          "2020-03-09T10:49:04.567778",
          "2020-03-09T10:49:09.571632",
          "2020-03-09T10:49:14.564156",
          "2020-03-09T10:49:19.671134",
          "2020-03-09T10:49:24.530016",
          "2020-03-09T10:49:29.598482",
          "2020-03-09T10:49:34.555328",
          "2020-03-09T10:49:39.617189",
          "2020-03-09T10:49:44.631523",
          "2020-03-09T10:49:49.675136",
          "2020-03-09T10:49:54.660462",
          "2020-03-09T10:50:01.036054",
          "2020-03-09T10:50:04.489394",
          "2020-03-09T10:50:09.617049",
          "2020-03-09T10:50:14.653925",
          "2020-03-09T10:50:19.520939",
          "2020-03-09T10:50:24.510598",
          "2020-03-09T10:50:29.632550",
          "2020-03-09T10:50:34.659544",
          "2020-03-09T10:50:39.610968",
          "2020-03-09T10:50:44.614228",
          "2020-03-09T10:50:49.648727",
          "2020-03-09T10:50:54.629259",
          "2020-03-09T10:50:59.682460",
          "2020-03-09T10:51:04.617376",
          "2020-03-09T10:51:09.543356",
          "2020-03-09T10:51:14.628081",
          "2020-03-09T10:51:19.630340",
          "2020-03-09T10:51:24.632104",
          "2020-03-09T10:51:29.654030",
          "2020-03-09T10:51:34.492900",
          "2020-03-09T10:51:39.531663",
          "2020-03-09T10:51:44.507542",
          "2020-03-09T10:51:49.572063",
          "2020-03-09T10:51:54.511439",
          "2020-03-09T10:51:59.624642",
          "2020-03-09T10:52:04.640263",
          "2020-03-09T10:52:09.509494",
          "2020-03-09T10:52:14.499325",
          "2020-03-09T10:52:19.632170",
          "2020-03-09T10:52:24.664548",
          "2020-03-09T10:52:29.634647",
          "2020-03-09T10:52:34.594006",
          "2020-03-09T10:52:39.601325",
          "2020-03-09T10:52:44.484192",
          "2020-03-09T10:52:49.652224",
          "2020-03-09T10:52:54.658489",
          "2020-03-09T10:52:59.652201",
          "2020-03-09T10:53:04.629042",
          "2020-03-09T10:53:09.627118",
          "2020-03-09T10:53:14.686554",
          "2020-03-09T10:53:19.577492",
          "2020-03-09T10:53:24.600959",
          "2020-03-09T10:53:29.635990",
          "2020-03-09T10:53:34.513512",
          "2020-03-09T10:53:39.664162",
          "2020-03-09T10:53:44.654454",
          "2020-03-09T10:53:49.506381",
          "2020-03-09T10:53:54.678238",
          "2020-03-09T10:53:59.544664",
          "2020-03-09T10:54:04.607716",
          "2020-03-09T10:54:09.702888",
          "2020-03-09T10:54:14.538816",
          "2020-03-09T10:54:19.611251",
          "2020-03-09T10:54:24.585259",
          "2020-03-09T10:54:29.635419",
          "2020-03-09T10:54:34.660727",
          "2020-03-09T10:54:39.518246",
          "2020-03-09T10:54:44.501488",
          "2020-03-09T10:54:49.681574",
          "2020-03-09T10:54:54.619739",
          "2020-03-09T10:54:59.687029",
          "2020-03-09T10:55:04.581986",
          "2020-03-09T10:55:09.645939",
          "2020-03-09T10:55:14.528373",
          "2020-03-09T10:55:19.624826",
          "2020-03-09T10:55:24.663989",
          "2020-03-09T10:55:29.678838",
          "2020-03-09T10:55:34.707188",
          "2020-03-09T10:55:39.630131",
          "2020-03-09T10:55:44.640056",
          "2020-03-09T10:55:49.608299",
          "2020-03-09T10:55:54.605894",
          "2020-03-09T10:55:59.671630",
          "2020-03-09T10:56:04.583111",
          "2020-03-09T10:56:09.678437",
          "2020-03-09T10:56:14.718315",
          "2020-03-09T10:56:19.700122",
          "2020-03-09T10:56:24.634359",
          "2020-03-09T10:56:29.661099",
          "2020-03-09T10:56:34.669263",
          "2020-03-09T10:56:39.635770",
          "2020-03-09T10:56:44.629955",
          "2020-03-09T10:56:49.644746",
          "2020-03-09T10:56:54.642380",
          "2020-03-09T10:56:59.545956",
          "2020-03-09T10:57:04.681473",
          "2020-03-09T10:57:09.654995",
          "2020-03-09T10:57:14.614329",
          "2020-03-09T10:57:19.637066",
          "2020-03-09T10:57:24.670922",
          "2020-03-09T10:57:29.699214",
          "2020-03-09T10:57:34.647807",
          "2020-03-09T10:57:39.689541",
          "2020-03-09T10:57:44.595839",
          "2020-03-09T10:57:49.672161",
          "2020-03-09T10:57:54.664379",
          "2020-03-09T10:57:59.594332",
          "2020-03-09T10:58:04.707632",
          "2020-03-09T10:58:09.614195",
          "2020-03-09T10:58:14.588809",
          "2020-03-09T10:58:19.681629",
          "2020-03-09T10:58:24.649182",
          "2020-03-09T10:58:29.550912",
          "2020-03-09T10:58:34.687585",
          "2020-03-09T10:58:39.564990",
          "2020-03-09T10:58:44.526963",
          "2020-03-09T10:58:49.684971",
          "2020-03-09T10:58:54.558857",
          "2020-03-09T10:58:59.549023",
          "2020-03-09T10:59:04.613360",
          "2020-03-09T10:59:09.710614",
          "2020-03-09T10:59:14.645098",
          "2020-03-09T10:59:19.653849",
          "2020-03-09T10:59:24.700294",
          "2020-03-09T10:59:29.640677",
          "2020-03-09T10:59:34.678694",
          "2020-03-09T10:59:39.585706",
          "2020-03-09T10:59:44.673439",
          "2020-03-09T10:59:49.670600",
          "2020-03-09T10:59:54.685309",
          "2020-03-09T10:59:59.669000",
          "2020-03-09T11:00:04.631372",
          "2020-03-09T11:00:09.641897",
          "2020-03-09T11:00:14.706630",
          "2020-03-09T11:00:19.622114",
          "2020-03-09T11:00:24.628543",
          "2020-03-09T11:00:29.709759",
          "2020-03-09T11:00:34.690219",
          "2020-03-09T11:00:39.674111",
          "2020-03-09T11:00:44.646127",
          "2020-03-09T11:00:49.687179",
          "2020-03-09T11:00:54.597359",
          "2020-03-09T11:00:59.640065",
          "2020-03-09T11:01:04.694809",
          "2020-03-09T11:01:09.678989",
          "2020-03-09T11:01:14.603689",
          "2020-03-09T11:01:19.726386",
          "2020-03-09T11:01:24.616598",
          "2020-03-09T11:01:29.558828",
          "2020-03-09T11:01:34.689234",
          "2020-03-09T11:01:39.646076",
          "2020-03-09T11:01:44.654307",
          "2020-03-09T11:01:49.665018",
          "2020-03-09T11:01:54.701941",
          "2020-03-09T11:01:59.651911",
          "2020-03-09T11:02:04.714779",
          "2020-03-09T11:02:09.704366",
          "2020-03-09T11:02:14.682696",
          "2020-03-09T11:02:19.635148",
          "2020-03-09T11:02:24.702497",
          "2020-03-09T11:02:29.685350",
          "2020-03-09T11:02:34.707141",
          "2020-03-09T11:02:39.551544",
          "2020-03-09T11:02:44.691275",
          "2020-03-09T11:02:49.551238",
          "2020-03-09T11:02:54.709869",
          "2020-03-09T11:02:59.665358",
          "2020-03-09T11:03:04.715127",
          "2020-03-09T11:03:09.575124",
          "2020-03-09T11:03:14.636259",
          "2020-03-09T11:03:19.687612",
          "2020-03-09T11:03:24.724851",
          "2020-03-09T11:03:29.642752",
          "2020-03-09T11:03:34.790027",
          "2020-03-09T11:03:39.680936",
          "2020-03-09T11:03:44.746225",
          "2020-03-09T11:03:49.695415",
          "2020-03-09T11:03:54.698358",
          "2020-03-09T11:03:59.707909",
          "2020-03-09T11:04:04.722515",
          "2020-03-09T11:04:09.675955",
          "2020-03-09T11:04:14.683001",
          "2020-03-09T11:04:19.702923",
          "2020-03-09T11:04:24.639789",
          "2020-03-09T11:04:29.643860",
          "2020-03-09T11:04:34.760266",
          "2020-03-09T11:04:39.664993",
          "2020-03-09T11:04:44.676430",
          "2020-03-09T11:04:49.667881",
          "2020-03-09T11:04:54.684491",
          "2020-03-09T11:04:59.700439",
          "2020-03-09T11:05:04.723882",
          "2020-03-09T11:05:09.690988",
          "2020-03-09T11:05:14.699917",
          "2020-03-09T11:05:19.680458",
          "2020-03-09T11:05:24.733451",
          "2020-03-09T11:05:29.625495",
          "2020-03-09T11:05:34.678226",
          "2020-03-09T11:05:39.713333",
          "2020-03-09T11:05:44.702056",
          "2020-03-09T11:05:49.595301",
          "2020-03-09T11:05:55.847939",
          "2020-03-09T11:05:59.723024",
          "2020-03-09T11:06:04.675993",
          "2020-03-09T11:06:09.693927"
         ],
         "y": [
          -2.734849683333333,
          -2.7345742166666667,
          -2.736629966666667,
          -2.7352921,
          -2.73651125,
          -2.735192016666667,
          -2.7354663666666665,
          -2.746080816666667,
          -2.7347164999999998,
          -2.73486925,
          -2.734062883333333,
          -2.7361212333333333,
          -2.7359765166666667,
          -2.7353207833333335,
          -2.7372202333333333,
          -2.7355832333333336,
          -2.7361666166666665,
          -2.7324827166666665,
          -2.73473635,
          -2.736403533333333,
          -2.7367461,
          -2.7367783166666664,
          -2.7366163,
          -2.7344419666666666,
          -2.7349027666666665,
          -2.73563445,
          -2.7353708500000002,
          -2.7353997333333333,
          -2.7347262,
          -2.7341190833333333,
          -2.7358407,
          -2.7361365,
          -2.7356953833333337,
          -2.7340170666666666,
          -2.73658155,
          -2.7357151,
          -2.736737666666667,
          -2.7373008666666667,
          -2.73539325,
          -2.7350155666666667,
          -2.7343902166666667,
          -2.734245516666667,
          -2.7340206499999997,
          -2.7354358166666666,
          -2.7353715833333334,
          -2.7354961833333333,
          -2.7337132166666667,
          -2.7360651833333334,
          -2.7349240833333335,
          -2.7356433166666667,
          -2.7346123,
          -2.7343734,
          -2.7336465166666666,
          -2.7338910833333334,
          -2.744297883333333,
          -2.736742216666667,
          -2.7346146333333334,
          -2.734000033333333,
          -2.336216466666667,
          -2.3363888166666666,
          -2.3343562833333333,
          -2.3339063833333333,
          -2.334715983333333,
          -2.33466165,
          -2.3340866666666664,
          -2.3344111333333335,
          -2.33352445,
          -2.3346091833333333,
          -2.33584285,
          -2.3344307666666664,
          -2.334393116666667,
          -2.3343637166666666,
          -2.3339982833333335,
          -2.3366837833333336,
          -2.3360377333333333,
          -2.3697730833333335,
          -2.368697733333333,
          -2.3697081333333334,
          -2.3678214166666667,
          -2.3675610666666667,
          -2.3697405500000004,
          -2.3699100333333334,
          -2.36769595,
          -2.3671563166666667,
          -2.3676546666666667,
          -2.3683320166666664,
          -2.3682100333333334,
          -2.37016225,
          -2.35069505,
          -2.3505906333333333,
          -2.3506954333333336,
          -2.3510814166666667,
          -2.3511134833333336,
          -2.3501228833333334,
          -2.351940583333333,
          -2.351549466666667,
          -2.350965616666667,
          -2.3530069166666667,
          -2.3504960833333333,
          -2.350657883333333,
          -2.3531257666666665,
          -2.36692815,
          -2.3524877166666665,
          -2.3681035166666664,
          -2.3665173166666666,
          -2.3525851833333333,
          -2.3680445999999997,
          -2.3684778,
          -2.3676418,
          -2.2838866666666666,
          -2.2862613499999997,
          -2.28654065,
          -2.2835392166666666,
          -2.2845698,
          -2.2834483000000003,
          -2.2851990166666667,
          -2.2841331333333335,
          -2.2860925666666665,
          -2.2844850166666664,
          -2.2838323,
          -2.0335848166666666,
          -2.0331123166666667,
          -2.0343966,
          -2.0342311833333335,
          -2.0347604666666665,
          -2.03480055,
          -2.0337049499999997,
          -2.0351802666666665,
          -2.0335915,
          -2.0329268666666667,
          -2.2832300833333337,
          -2.2843261333333333,
          -2.2838804666666666,
          -2.2837444000000002,
          -2.2843026166666665,
          -2.2843995333333336,
          -1.8508196833333335,
          -1.8508591166666666,
          -1.8524661833333333,
          -1.8502075666666669,
          -1.8506488666666667,
          -1.8513266333333334,
          -1.8509476833333334,
          -1.8503834166666666,
          -1.8499118833333335,
          -1.8507686666666667,
          -1.8500731,
          -1.8516348,
          -1.8503627666666667,
          -1.8504924666666667,
          -1.8516599166666665,
          -1.8497715833333332,
          -1.8513288666666667,
          -1.8517519666666666,
          -1.8502049666666667,
          -1.8507457500000002,
          -1.8523835833333335,
          -1.8501057,
          -1.9354822833333332,
          -1.9361160666666666,
          -1.9334826,
          -1.9355845,
          -1.9357484,
          -1.9346761166666666,
          -1.9330552166666666,
          -1.93414715,
          -1.9340012999999998,
          -1.9332272166666666,
          -1.9342208333333335,
          -1.9335872166666666,
          -1.9351370166666666,
          -1.9336748,
          -1.9337221166666665,
          -1.9334769666666667,
          -1.4837487833333334,
          -1.4843759166666668,
          -1.4842005,
          -1.4831216166666665,
          -1.4845302166666667,
          -1.4844230666666667,
          -1.4830694666666666,
          -1.4833951333333333,
          -1.4836636,
          -1.48413,
          -1.4834458,
          -1.4849428,
          -1.4842310333333333,
          -1.4833186333333332,
          -1.4835823,
          -1.4848373,
          -1.48279235,
          -1.48462215,
          -1.0855849833333333,
          -1.0834115500000001,
          -1.08413085,
          -1.0839936666666667,
          -1.08381515,
          -1.0831997666666666,
          -1.0840336000000002,
          -1.0829857999999999,
          -1.0831593499999999,
          -1.0835205166666666,
          -1.0843129833333334,
          -1.0831905,
          -0.95014295,
          -0.9497797666666667,
          -0.95237305,
          -0.9500442,
          -0.9523781499999999,
          -0.9497342999999999,
          -0.95047615,
          -0.9496466666666666,
          -0.95198005,
          -0.9509611333333333,
          -0.95010525,
          -0.9494846,
          -0.9508529166666667,
          -0.9483983333333333,
          -0.9502165166666666,
          -0.9491283666666667,
          -0.9499752,
          -0.94992615,
          -0.9497669666666667,
          -0.9495235333333334,
          -0.9502995333333334,
          -0.9501820999999999,
          -0.9498500666666666,
          -0.9509023,
          -0.95083445,
          -0.94889435,
          -0.6504822333333333,
          -0.6502916166666667,
          -0.6504341,
          -0.6501572666666667,
          -0.6498914666666666,
          -0.64950075,
          -0.6500489833333333,
          -0.6499001666666667,
          -0.6502244833333334,
          -0.46600793333333335,
          -0.46780720000000003,
          -0.46692835,
          -0.46634323333333333,
          -0.41653118333333333,
          -0.33497709999999997,
          -0.23076646666666667,
          -0.16618171666666667,
          -0.08363223333333333,
          0
         ]
        },
        {
         "line": {
          "width": 1
         },
         "name": "F-8604",
         "type": "scatter",
         "x": [
          "2020-03-09T10:25:44.441334",
          "2020-03-09T10:25:49.449822",
          "2020-03-09T10:25:54.320482",
          "2020-03-09T10:25:59.414711",
          "2020-03-09T10:26:04.499527",
          "2020-03-09T10:26:09.390603",
          "2020-03-09T10:26:14.452546",
          "2020-03-09T10:26:19.329053",
          "2020-03-09T10:26:24.441433",
          "2020-03-09T10:26:29.389258",
          "2020-03-09T10:26:34.373801",
          "2020-03-09T10:26:39.509370",
          "2020-03-09T10:26:44.391903",
          "2020-03-09T10:26:49.493466",
          "2020-03-09T10:26:54.449879",
          "2020-03-09T10:26:59.485091",
          "2020-03-09T10:27:04.455771",
          "2020-03-09T10:27:09.489987",
          "2020-03-09T10:27:14.481484",
          "2020-03-09T10:27:19.409051",
          "2020-03-09T10:27:24.365041",
          "2020-03-09T10:27:29.438081",
          "2020-03-09T10:27:34.516485",
          "2020-03-09T10:27:39.506602",
          "2020-03-09T10:27:44.515262",
          "2020-03-09T10:27:49.432209",
          "2020-03-09T10:27:54.397544",
          "2020-03-09T10:27:59.459515",
          "2020-03-09T10:28:04.344958",
          "2020-03-09T10:28:09.470154",
          "2020-03-09T10:28:14.429994",
          "2020-03-09T10:28:19.451575",
          "2020-03-09T10:28:24.462565",
          "2020-03-09T10:28:30.403199",
          "2020-03-09T10:28:34.484629",
          "2020-03-09T10:28:39.516902",
          "2020-03-09T10:28:44.438960",
          "2020-03-09T10:28:49.405351",
          "2020-03-09T10:28:54.424073",
          "2020-03-09T10:28:59.377351",
          "2020-03-09T10:29:04.512007",
          "2020-03-09T10:29:09.402422",
          "2020-03-09T10:29:14.436999",
          "2020-03-09T10:29:19.489654",
          "2020-03-09T10:29:24.520388",
          "2020-03-09T10:29:29.487854",
          "2020-03-09T10:29:34.494792",
          "2020-03-09T10:29:39.426826",
          "2020-03-09T10:29:44.342058",
          "2020-03-09T10:29:49.495327",
          "2020-03-09T10:29:54.490719",
          "2020-03-09T10:29:59.456626",
          "2020-03-09T10:30:04.436055",
          "2020-03-09T10:30:09.484816",
          "2020-03-09T10:30:14.450447",
          "2020-03-09T10:30:19.519882",
          "2020-03-09T10:30:24.589946",
          "2020-03-09T10:30:29.348028",
          "2020-03-09T10:30:34.422601",
          "2020-03-09T10:30:39.350122",
          "2020-03-09T10:30:44.521398",
          "2020-03-09T10:30:49.504460",
          "2020-03-09T10:30:54.390710",
          "2020-03-09T10:30:59.493865",
          "2020-03-09T10:31:04.401280",
          "2020-03-09T10:31:09.572213",
          "2020-03-09T10:31:14.523531",
          "2020-03-09T10:31:19.482136",
          "2020-03-09T10:31:24.481101",
          "2020-03-09T10:31:29.430138",
          "2020-03-09T10:31:34.530196",
          "2020-03-09T10:31:39.491933",
          "2020-03-09T10:31:44.426921",
          "2020-03-09T10:31:49.444042",
          "2020-03-09T10:31:54.431056",
          "2020-03-09T10:31:59.426598",
          "2020-03-09T10:32:05.539978",
          "2020-03-09T10:32:09.434372",
          "2020-03-09T10:32:14.352433",
          "2020-03-09T10:32:19.472168",
          "2020-03-09T10:32:24.374577",
          "2020-03-09T10:32:29.506733",
          "2020-03-09T10:32:34.391707",
          "2020-03-09T10:32:39.471869",
          "2020-03-09T10:32:44.466642",
          "2020-03-09T10:32:49.414490",
          "2020-03-09T10:32:54.428365",
          "2020-03-09T10:33:04.482345",
          "2020-03-09T10:32:59.515523",
          "2020-03-09T10:33:09.479278",
          "2020-03-09T10:33:14.460777",
          "2020-03-09T10:33:19.551205",
          "2020-03-09T10:33:24.500529",
          "2020-03-09T10:33:29.509452",
          "2020-03-09T10:33:34.498565",
          "2020-03-09T10:33:39.462341",
          "2020-03-09T10:33:44.509294",
          "2020-03-09T10:33:49.371000",
          "2020-03-09T10:33:54.483512",
          "2020-03-09T10:33:59.445313",
          "2020-03-09T10:34:04.406939"
         ],
         "y": [
          0.8839065833333334,
          0.8840480500000001,
          0.8818923833333333,
          0.8834628666666667,
          0.8848764666666666,
          0.8830610666666666,
          0.88409345,
          0.8820352333333333,
          0.8839082333333333,
          0.8830386499999999,
          0.8827810333333334,
          0.8850405166666667,
          0.8830827333333333,
          0.8847754499999999,
          -0.065951,
          -0.06536413333333332,
          -0.0658528,
          -0.06528253333333334,
          -0.06542425,
          -0.06663146666666667,
          -0.06736496666666666,
          -0.06614763333333333,
          -0.0648409,
          -0.06500561666666667,
          -0.06486128333333334,
          -0.0662455,
          -0.06682324999999999,
          -0.0657904,
          -0.06769968333333334,
          -0.06561308333333334,
          -0.06628241666666666,
          -0.06592273333333333,
          -0.06573956666666667,
          -0.066729,
          -0.06537183333333334,
          -0.24816728333333332,
          -0.24946631666666666,
          -0.25002646666666667,
          -0.24971443333333332,
          -0.25049313333333334,
          -0.24824886666666668,
          -0.25007528333333334,
          -0.249499,
          -0.24862141666666665,
          -0.24810918333333334,
          -0.24865141666666668,
          -0.24853578333333332,
          -0.24966855,
          -0.25108135,
          -0.24852686666666665,
          -0.24860366666666664,
          -0.24917188333333332,
          -0.24951473333333332,
          -0.24870204999999998,
          -0.24927486666666668,
          -0.24811761666666668,
          -0.24694988333333334,
          -0.25098185,
          -0.24973896666666665,
          -0.50094695,
          -0.5147590166666667,
          -0.5150413166666666,
          -0.5002704833333333,
          -0.5152179,
          -0.5167609833333333,
          -0.5139121,
          -0.5147234666666667,
          -0.5154133833333333,
          -0.5154306333333333,
          -0.5162800166666667,
          -0.5146123833333334,
          -0.5152501,
          -0.5163336333333334,
          -0.5160482833333334,
          -0.5162647166666666,
          -0.2830056833333333,
          -0.2811160166666667,
          -0.2828761166666667,
          -0.2842417666666667,
          -0.28224618333333334,
          -0.21720603333333333,
          -0.21500343333333335,
          -0.21692053333333333,
          -0.21558449999999998,
          -0.21567161666666665,
          -0.28320748333333334,
          -0.2829762333333333,
          -0.28207656666666664,
          -0.2815236,
          -0.2821276833333333,
          -0.28243603333333334,
          -0.28092890000000004,
          -0.2817735,
          -0.28162478333333335,
          -0.2818062333333333,
          -0.2824099666666667,
          -0.3316274166666667,
          -0.25059898333333336,
          -0.16539045,
          -0.08269376666666667,
          0
         ]
        },
        {
         "line": {
          "width": 1
         },
         "name": "F-8604",
         "type": "scatter",
         "x": [
          "2020-03-09T10:56:49.644746",
          "2020-03-09T10:56:54.642380",
          "2020-03-09T10:56:59.545956",
          "2020-03-09T10:57:04.681473",
          "2020-03-09T10:57:09.654995",
          "2020-03-09T10:57:14.614329",
          "2020-03-09T10:57:19.637066",
          "2020-03-09T10:57:24.670922",
          "2020-03-09T10:57:29.699214",
          "2020-03-09T10:57:34.647807",
          "2020-03-09T10:57:39.689541",
          "2020-03-09T10:57:44.595839",
          "2020-03-09T10:57:49.672161",
          "2020-03-09T10:57:54.664379",
          "2020-03-09T10:57:59.594332",
          "2020-03-09T10:58:04.707632",
          "2020-03-09T10:58:09.614195",
          "2020-03-09T10:58:14.588809",
          "2020-03-09T10:58:19.681629",
          "2020-03-09T10:58:24.649182",
          "2020-03-09T10:58:29.550912",
          "2020-03-09T10:58:34.687585",
          "2020-03-09T10:58:39.564990",
          "2020-03-09T10:58:44.526963",
          "2020-03-09T10:58:49.684971",
          "2020-03-09T10:58:54.558857",
          "2020-03-09T10:58:59.549023",
          "2020-03-09T10:59:04.613360",
          "2020-03-09T10:59:09.710614",
          "2020-03-09T10:59:14.645098",
          "2020-03-09T10:59:19.653849",
          "2020-03-09T10:59:24.700294",
          "2020-03-09T10:59:29.640677",
          "2020-03-09T10:59:34.678694",
          "2020-03-09T10:59:39.585706",
          "2020-03-09T10:59:44.673439",
          "2020-03-09T10:59:49.670600",
          "2020-03-09T10:59:54.685309",
          "2020-03-09T10:59:59.669000",
          "2020-03-09T11:00:04.631372",
          "2020-03-09T11:00:09.641897",
          "2020-03-09T11:00:14.706630",
          "2020-03-09T11:00:19.622114",
          "2020-03-09T11:00:24.628543",
          "2020-03-09T11:00:29.709759",
          "2020-03-09T11:00:34.690219",
          "2020-03-09T11:00:39.674111",
          "2020-03-09T11:00:44.646127",
          "2020-03-09T11:00:49.687179",
          "2020-03-09T11:00:54.597359",
          "2020-03-09T11:00:59.640065",
          "2020-03-09T11:01:04.694809",
          "2020-03-09T11:01:09.678989",
          "2020-03-09T11:01:14.603689",
          "2020-03-09T11:01:19.726386",
          "2020-03-09T11:01:24.616598",
          "2020-03-09T11:01:29.558828",
          "2020-03-09T11:01:34.689234",
          "2020-03-09T11:01:39.646076",
          "2020-03-09T11:01:44.654307",
          "2020-03-09T11:01:49.665018",
          "2020-03-09T11:01:54.701941",
          "2020-03-09T11:01:59.651911",
          "2020-03-09T11:02:04.714779",
          "2020-03-09T11:02:09.704366",
          "2020-03-09T11:02:14.682696",
          "2020-03-09T11:02:19.635148",
          "2020-03-09T11:02:24.702497",
          "2020-03-09T11:02:29.685350",
          "2020-03-09T11:02:34.707141",
          "2020-03-09T11:02:39.551544",
          "2020-03-09T11:02:44.691275",
          "2020-03-09T11:02:49.551238",
          "2020-03-09T11:02:54.709869",
          "2020-03-09T11:02:59.665358",
          "2020-03-09T11:03:04.715127",
          "2020-03-09T11:03:09.575124",
          "2020-03-09T11:03:14.636259",
          "2020-03-09T11:03:19.687612",
          "2020-03-09T11:03:24.724851",
          "2020-03-09T11:03:29.642752",
          "2020-03-09T11:03:34.790027",
          "2020-03-09T11:03:39.680936",
          "2020-03-09T11:03:44.746225",
          "2020-03-09T11:03:49.695415",
          "2020-03-09T11:03:54.698358",
          "2020-03-09T11:03:59.707909",
          "2020-03-09T11:04:04.722515",
          "2020-03-09T11:04:09.675955",
          "2020-03-09T11:04:14.683001",
          "2020-03-09T11:04:19.702923",
          "2020-03-09T11:04:24.639789",
          "2020-03-09T11:04:29.643860",
          "2020-03-09T11:04:34.760266",
          "2020-03-09T11:04:39.664993",
          "2020-03-09T11:04:44.676430",
          "2020-03-09T11:04:49.667881",
          "2020-03-09T11:04:54.684491",
          "2020-03-09T11:04:59.700439",
          "2020-03-09T11:05:04.723882",
          "2020-03-09T11:05:09.690988",
          "2020-03-09T11:05:14.699917",
          "2020-03-09T11:05:19.680458",
          "2020-03-09T11:05:24.733451",
          "2020-03-09T11:05:29.625495",
          "2020-03-09T11:05:34.678226",
          "2020-03-09T11:05:39.713333",
          "2020-03-09T11:05:44.702056",
          "2020-03-09T11:05:49.595301",
          "2020-03-09T11:05:55.847939",
          "2020-03-09T11:05:59.723024",
          "2020-03-09T11:06:04.675993",
          "2020-03-09T11:06:09.693927",
          "2020-03-09T11:06:14.768803",
          "2020-03-09T11:06:19.640015",
          "2020-03-09T11:06:24.608019",
          "2020-03-09T11:06:29.692301",
          "2020-03-09T11:06:34.586827",
          "2020-03-09T11:06:39.719080",
          "2020-03-09T11:06:44.623336",
          "2020-03-09T11:06:49.665350",
          "2020-03-09T11:06:54.585710",
          "2020-03-09T11:06:59.686702",
          "2020-03-09T11:07:04.738038",
          "2020-03-09T11:07:09.797487",
          "2020-03-09T11:07:14.725120",
          "2020-03-09T11:07:19.607528",
          "2020-03-09T11:07:24.665989",
          "2020-03-09T11:07:29.736589",
          "2020-03-09T11:07:34.726997",
          "2020-03-09T11:07:39.635289",
          "2020-03-09T11:07:44.707009",
          "2020-03-09T11:07:49.614934",
          "2020-03-09T11:07:55.167882",
          "2020-03-09T11:07:59.599906",
          "2020-03-09T11:08:04.605624",
          "2020-03-09T11:08:09.748525",
          "2020-03-09T11:08:14.710797",
          "2020-03-09T11:08:19.733852",
          "2020-03-09T11:08:24.672378",
          "2020-03-09T11:08:29.641908",
          "2020-03-09T11:08:34.734073",
          "2020-03-09T11:08:39.747091",
          "2020-03-09T11:08:44.763332",
          "2020-03-09T11:08:49.691221",
          "2020-03-09T11:08:54.727119",
          "2020-03-09T11:08:59.730758",
          "2020-03-09T11:09:04.748252",
          "2020-03-09T11:09:09.686697",
          "2020-03-09T11:09:14.708843",
          "2020-03-09T11:09:19.708034",
          "2020-03-09T11:09:24.722313",
          "2020-03-09T11:09:29.694354",
          "2020-03-09T11:09:34.600859",
          "2020-03-09T11:09:39.780643",
          "2020-03-09T11:09:44.695603",
          "2020-03-09T11:09:49.666118",
          "2020-03-09T11:09:55.183200",
          "2020-03-09T11:09:59.632972",
          "2020-03-09T11:10:04.656045",
          "2020-03-09T11:10:09.643793",
          "2020-03-09T11:10:14.652069",
          "2020-03-09T11:10:19.677152",
          "2020-03-09T11:10:24.607335",
          "2020-03-09T11:10:29.733344",
          "2020-03-09T11:10:34.766611",
          "2020-03-09T11:10:39.743722",
          "2020-03-09T11:10:44.769701",
          "2020-03-09T11:10:49.593426",
          "2020-03-09T11:10:54.778461",
          "2020-03-09T11:10:59.767591",
          "2020-03-09T11:11:04.763557",
          "2020-03-09T11:11:09.605154",
          "2020-03-09T11:11:14.667105",
          "2020-03-09T11:11:19.722232",
          "2020-03-09T11:11:24.620855",
          "2020-03-09T11:11:29.816394",
          "2020-03-09T11:11:34.756824",
          "2020-03-09T11:11:39.718293",
          "2020-03-09T11:11:44.679827",
          "2020-03-09T11:11:49.624107",
          "2020-03-09T11:11:54.708819",
          "2020-03-09T11:11:59.692392",
          "2020-03-09T11:12:04.621493",
          "2020-03-09T11:12:09.653939",
          "2020-03-09T11:12:14.704885",
          "2020-03-09T11:12:29.711437",
          "2020-03-09T11:12:34.759745",
          "2020-03-09T11:12:39.781531"
         ],
         "y": [
          -1.6522797500000002,
          -1.6523191833333333,
          -1.65392625,
          -1.6516676333333333,
          -1.6521089333333334,
          -1.6527867,
          -1.6524077499999998,
          -1.6518434833333333,
          -1.6513719500000001,
          -1.6522287333333334,
          -1.6515331666666666,
          -1.6530948666666667,
          -1.6518228333333334,
          -1.6519525333333334,
          -1.6531199833333334,
          -1.65123165,
          -1.6527889333333334,
          -1.6532120333333333,
          -1.6516650333333334,
          -1.6522058166666667,
          -1.65384365,
          -1.6515657666666668,
          -1.7202756833333335,
          -1.7209094666666667,
          -1.718276,
          -1.7203779,
          -1.7205418,
          -1.7194695166666667,
          -1.7178486166666667,
          -1.71894055,
          -1.7187947,
          -1.7180206166666667,
          -1.7190142333333334,
          -1.7183806166666666,
          -1.7199304166666667,
          -1.7184682,
          -1.7185155166666666,
          -1.7182703666666665,
          -1.5018755166666666,
          -1.50250265,
          -1.5023272333333333,
          -1.50124835,
          -1.50265695,
          -1.5025498,
          -1.5011961999999999,
          -1.5015218666666668,
          -1.5017903333333333,
          -1.5022567333333332,
          -1.5015725333333334,
          -1.5030695333333335,
          -1.5023577666666665,
          -1.5014453666666665,
          -1.5017090333333334,
          -1.5029640333333334,
          -1.5009190833333332,
          -1.5027488833333333,
          -1.33704505,
          -1.3348716166666668,
          -1.3355909166666666,
          -1.3354537333333334,
          -1.3352752166666666,
          -1.3346598333333333,
          -1.3354936666666668,
          -1.3344458666666665,
          -1.3346194166666665,
          -1.3349805833333332,
          -1.33577305,
          -1.3346505666666666,
          -1.3016030166666668,
          -1.3012398333333333,
          -1.3038331166666666,
          -1.3015042666666665,
          -1.3038382166666667,
          -1.3011943666666668,
          -1.3019362166666668,
          -2.2011067333333334,
          -2.18677345,
          -2.2024212000000003,
          -2.2015653166666667,
          -2.2009446666666665,
          -2.2023129833333335,
          -2.1998583999999997,
          -2.201676583333333,
          -2.200588433333333,
          -2.2014352666666666,
          -2.2013862166666667,
          -2.2012270333333332,
          -2.2009836000000003,
          -2.2017596000000004,
          -2.201642166666667,
          -2.2013101333333336,
          -2.2023623666666667,
          -2.202294516666667,
          -2.200354416666667,
          -2.2019423,
          -2.2017516833333333,
          -2.201894166666667,
          -2.201617333333333,
          -2.2013515333333333,
          -1.08429415,
          -1.0848423833333334,
          -1.0846935666666666,
          -1.0850178833333333,
          -1.0841346666666667,
          -1.0859339333333333,
          -1.0850550833333334,
          -1.0844699666666666,
          -1.0846579166666668,
          -1.0864371666666666,
          -1.0822265333333334,
          -1.0843084500000002,
          -1.0850923,
          -1.0847934,
          -1.0168788,
          -1.0190252666666668,
          -1.0195585333333335,
          -1.0181538333333333,
          -1.0199117333333334,
          -1.0177075166666667,
          -1.0193032499999999,
          -1.0186030166666666,
          -1.01993035,
          -1.0182471499999999,
          -1.01739155,
          -1.0164007333333334,
          -1.01760685,
          -1.0195667166666667,
          -1.0185923666666665,
          -1.0174157,
          -1.0175755666666666,
          -1.0191040333333334,
          -1.0179087,
          -1.0194432833333333,
          -0.72689415,
          -0.7196937499999999,
          -0.7362651166666667,
          -0.7338834333333334,
          -0.7345122333333334,
          -0.7341279833333334,
          -0.73515255,
          -0.7356603833333334,
          -0.7341243,
          -0.7339073333333332,
          -0.73363665,
          -0.7348385000000001,
          -0.3675735333333333,
          -0.3675128833333333,
          -0.3672213166666667,
          -0.3682472333333333,
          -0.3678781333333333,
          -0.48455828333333334,
          -0.5009869666666666,
          -0.48478628333333335,
          -0.48634453333333333,
          -0.5000148,
          -0.48476546666666664,
          -0.48525688333333333,
          -0.4933055166666667,
          -0.48580931666666666,
          -0.7687581,
          -0.7689623,
          -0.7688243666666666,
          -0.7684063166666667,
          -0.7695699333333333,
          -0.7674697833333333,
          -0.7669153333333333,
          -0.7672968166666667,
          -0.7668638333333334,
          -0.76980175,
          -0.7667178333333333,
          -0.666899,
          -0.6669662333333334,
          -0.6696062833333334,
          -0.6685737666666667,
          -0.6676549833333334,
          -0.9360112666666667,
          -0.9327522833333333,
          -0.9337451166666667,
          -0.9343872999999999,
          -0.9183617333333333,
          -0.8359570666666667,
          -0.7512118666666667,
          -0.6681523166666667,
          -0.5860006333333333,
          -0.5021265333333333,
          -0.4179441,
          -0.16783489999999998,
          -0.08369643333333333,
          0
         ]
        },
        {
         "line": {
          "width": 1
         },
         "name": "F-8608",
         "type": "scatter",
         "x": [
          "2020-03-09T10:31:49.444042",
          "2020-03-09T10:31:54.431056",
          "2020-03-09T10:31:59.426598",
          "2020-03-09T10:32:05.539978",
          "2020-03-09T10:32:09.434372",
          "2020-03-09T10:32:14.352433",
          "2020-03-09T10:32:19.472168",
          "2020-03-09T10:32:24.374577",
          "2020-03-09T10:32:29.506733",
          "2020-03-09T10:32:34.391707",
          "2020-03-09T10:32:39.471869",
          "2020-03-09T10:32:44.466642",
          "2020-03-09T10:32:49.414490",
          "2020-03-09T10:32:54.428365",
          "2020-03-09T10:33:04.482345",
          "2020-03-09T10:32:59.515523",
          "2020-03-09T10:33:09.479278",
          "2020-03-09T10:33:14.460777",
          "2020-03-09T10:33:19.551205",
          "2020-03-09T10:33:24.500529",
          "2020-03-09T10:33:29.509452",
          "2020-03-09T10:33:34.498565",
          "2020-03-09T10:33:39.462341",
          "2020-03-09T10:33:44.509294",
          "2020-03-09T10:33:49.371000",
          "2020-03-09T10:33:54.483512",
          "2020-03-09T10:33:59.445313",
          "2020-03-09T10:34:04.406939",
          "2020-03-09T10:34:09.460020",
          "2020-03-09T10:34:14.497376",
          "2020-03-09T10:34:19.502885",
          "2020-03-09T10:34:24.534528",
          "2020-03-09T10:34:29.430630",
          "2020-03-09T10:34:34.402701",
          "2020-03-09T10:34:39.492890",
          "2020-03-09T10:34:44.455985",
          "2020-03-09T10:34:49.504166",
          "2020-03-09T10:34:54.550877",
          "2020-03-09T10:34:59.509475",
          "2020-03-09T10:35:04.389158",
          "2020-03-09T10:35:09.473800",
          "2020-03-09T10:35:14.392537",
          "2020-03-09T10:35:19.528890",
          "2020-03-09T10:35:24.571066",
          "2020-03-09T10:35:29.496362",
          "2020-03-09T10:35:34.545601",
          "2020-03-09T10:35:39.513254",
          "2020-03-09T10:35:44.532976",
          "2020-03-09T10:35:49.409106",
          "2020-03-09T10:35:54.518164",
          "2020-03-09T10:35:59.381778",
          "2020-03-09T10:36:04.461262",
          "2020-03-09T10:36:09.475548",
          "2020-03-09T10:36:15.030302",
          "2020-03-09T10:36:19.466360",
          "2020-03-09T10:36:24.538320",
          "2020-03-09T10:36:29.453070",
          "2020-03-09T10:36:34.552042",
          "2020-03-09T10:36:39.482547",
          "2020-03-09T10:36:44.549298",
          "2020-03-09T10:36:49.473626",
          "2020-03-09T10:36:54.538280",
          "2020-03-09T10:36:59.435723",
          "2020-03-09T10:37:04.435124",
          "2020-03-09T10:37:09.540953",
          "2020-03-09T10:37:14.428178",
          "2020-03-09T10:37:19.519424",
          "2020-03-09T10:37:24.461444",
          "2020-03-09T10:37:29.551975",
          "2020-03-09T10:37:34.575593",
          "2020-03-09T10:37:39.510159",
          "2020-03-09T10:37:44.489035",
          "2020-03-09T10:37:49.487865",
          "2020-03-09T10:37:54.562513",
          "2020-03-09T10:37:59.543999",
          "2020-03-09T10:38:04.450940",
          "2020-03-09T10:38:09.452235",
          "2020-03-09T10:38:14.593156",
          "2020-03-09T10:38:19.393646",
          "2020-03-09T10:38:24.518663",
          "2020-03-09T10:38:29.520894",
          "2020-03-09T10:38:34.536305",
          "2020-03-09T10:38:39.537215",
          "2020-03-09T10:38:44.542126",
          "2020-03-09T10:38:51.592433",
          "2020-03-09T10:38:54.562938",
          "2020-03-09T10:38:59.531068",
          "2020-03-09T10:39:04.483100",
          "2020-03-09T10:39:09.494768",
          "2020-03-09T10:39:14.524487",
          "2020-03-09T10:39:19.578025",
          "2020-03-09T10:39:24.589547",
          "2020-03-09T10:39:29.562693",
          "2020-03-09T10:39:34.539148",
          "2020-03-09T10:39:39.628393",
          "2020-03-09T10:39:44.462056",
          "2020-03-09T10:39:49.508817",
          "2020-03-09T10:39:54.444476",
          "2020-03-09T10:39:59.555924",
          "2020-03-09T10:40:04.418459",
          "2020-03-09T10:40:09.606364",
          "2020-03-09T10:40:14.561856",
          "2020-03-09T10:40:20.428655",
          "2020-03-09T10:40:24.431342",
          "2020-03-09T10:40:29.593172",
          "2020-03-09T10:40:34.572938",
          "2020-03-09T10:40:39.508716",
          "2020-03-09T10:40:44.465571",
          "2020-03-09T10:40:49.534259",
          "2020-03-09T10:40:54.613300",
          "2020-03-09T10:40:59.571750",
          "2020-03-09T10:41:04.528352",
          "2020-03-09T10:41:09.494079",
          "2020-03-09T10:41:14.451268",
          "2020-03-09T10:41:19.503466",
          "2020-03-09T10:41:24.549025",
          "2020-03-09T10:41:29.538290",
          "2020-03-09T10:41:34.514457",
          "2020-03-09T10:41:39.587023",
          "2020-03-09T10:41:44.456852",
          "2020-03-09T10:41:49.520308",
          "2020-03-09T10:41:54.473523",
          "2020-03-09T10:41:59.526664",
          "2020-03-09T10:42:04.537185",
          "2020-03-09T10:42:09.565068",
          "2020-03-09T10:42:14.626284",
          "2020-03-09T10:42:19.525324",
          "2020-03-09T10:42:24.528008",
          "2020-03-09T10:42:29.601106",
          "2020-03-09T10:42:34.417630",
          "2020-03-09T10:42:40.926095",
          "2020-03-09T10:42:46.099852",
          "2020-03-09T10:42:49.580982",
          "2020-03-09T10:42:54.598209",
          "2020-03-09T10:42:59.577924",
          "2020-03-09T10:43:04.575703",
          "2020-03-09T10:43:09.504695"
         ],
         "y": [
          -1.66767755,
          -1.6678939833333333,
          -1.6679682833333334,
          -1.6660786166666666,
          -1.6678387166666666,
          -1.6692043666666665,
          -1.6672087833333333,
          -1.6688353,
          -1.6666327,
          -1.6685498,
          -1.6672137666666667,
          -1.6673008833333334,
          -2.051503416666667,
          -2.0512721666666667,
          -2.0503725,
          -2.0498195333333333,
          -2.050423616666667,
          -2.0507319666666666,
          -2.049224833333333,
          -2.0500694333333334,
          -2.0499207166666666,
          -2.0501021666666666,
          -2.0507059,
          -2.04992335,
          -2.05222825,
          -2.05035305,
          -2.0509897,
          -2.1516292666666668,
          -2.1507445833333336,
          -2.1501219833333334,
          -2.150030166666667,
          -2.1495027833333333,
          -2.1512344166666666,
          -2.1516998999999997,
          -2.15019675,
          -2.1508118333333335,
          -2.150008816666667,
          -2.1492303,
          -2.149920333333333,
          -1.5019256166666668,
          -1.5005149166666667,
          -1.5018692999999999,
          -1.4995967499999998,
          -1.4988938166666665,
          -1.5001388833333331,
          -1.4993182333333333,
          -1.4998573499999999,
          -1.4995286499999998,
          -1.5015931500000002,
          -1.4997755166666666,
          -1.5020486166666667,
          -1.5007238833333332,
          -1.5004857833333332,
          -1.5079065500000002,
          -1.5006389166666667,
          -1.4994395833333334,
          -1.5008604166666666,
          -1.4992108833333333,
          -1.5003691333333333,
          -1.4992566166666668,
          -1.53385115,
          -1.5327735833333334,
          -1.5344828666666668,
          -1.53449285,
          -1.5327290333333332,
          -1.5346086166666666,
          -1.53308785,
          -1.5340541833333332,
          -1.5325453333333334,
          -1.5321517,
          -1.5332422666666665,
          -1.5335943333333333,
          -1.5336138333333333,
          -1.5323697,
          -1.5326782666666667,
          -1.5342292499999999,
          -0.8008743333333334,
          -0.79852565,
          -0.8018508166666667,
          -0.7997672,
          -0.7997300166666667,
          -0.7994731666666667,
          -0.799458,
          -0.7993761500000001,
          -0.7985377,
          -0.7990292833333333,
          -0.79956045,
          -0.8003599166666666,
          -0.80016545,
          -0.7996701333333333,
          -0.7987778333333334,
          -0.7985858,
          -0.7990333666666667,
          -0.7994257833333334,
          -0.7979383666666667,
          -0.80071065,
          -0.7999313,
          -0.9176703166666667,
          -0.91581285,
          -0.9181039333333333,
          -0.9149721833333333,
          -0.9157139833333333,
          -0.917934,
          -0.9178892166666667,
          -0.91519205,
          -0.9155292833333333,
          -0.91659965,
          -0.9173187333333334,
          -0.9161739333333333,
          -0.9148565833333334,
          -0.9155490833333333,
          -0.93293905,
          -0.9168436,
          -0.8175571166666666,
          -0.81668715,
          -0.8159278333333333,
          -0.81610675,
          -0.8165039666666666,
          -0.8152945333333333,
          -0.81746405,
          -0.81640645,
          -0.8171862,
          -0.54963385,
          -0.5494585,
          -0.5489937833333334,
          -0.5479735166666667,
          -0.5496561833333333,
          -0.54961145,
          -0.5150598166666667,
          -0.5181177499999999,
          -0.47631,
          -0.39008071666666666,
          -0.3320618833333333,
          -0.24844143333333332,
          -0.16544618333333333,
          -0.08214986666666667,
          0
         ]
        },
        {
         "line": {
          "width": 1
         },
         "name": "F-8605",
         "type": "scatter",
         "x": [
          "2020-03-09T10:34:04.406939",
          "2020-03-09T10:34:09.460020",
          "2020-03-09T10:34:14.497376",
          "2020-03-09T10:34:19.502885",
          "2020-03-09T10:34:24.534528",
          "2020-03-09T10:34:29.430630",
          "2020-03-09T10:34:34.402701",
          "2020-03-09T10:34:39.492890",
          "2020-03-09T10:34:44.455985",
          "2020-03-09T10:34:49.504166",
          "2020-03-09T10:34:54.550877",
          "2020-03-09T10:34:59.509475",
          "2020-03-09T10:35:04.389158",
          "2020-03-09T10:35:09.473800",
          "2020-03-09T10:35:14.392537",
          "2020-03-09T10:35:19.528890",
          "2020-03-09T10:35:24.571066",
          "2020-03-09T10:35:29.496362",
          "2020-03-09T10:35:34.545601",
          "2020-03-09T10:35:39.513254",
          "2020-03-09T10:35:44.532976",
          "2020-03-09T10:35:49.409106",
          "2020-03-09T10:35:54.518164",
          "2020-03-09T10:35:59.381778",
          "2020-03-09T10:36:04.461262",
          "2020-03-09T10:36:09.475548",
          "2020-03-09T10:36:15.030302",
          "2020-03-09T10:36:19.466360",
          "2020-03-09T10:36:24.538320",
          "2020-03-09T10:36:29.453070",
          "2020-03-09T10:36:34.552042",
          "2020-03-09T10:36:39.482547",
          "2020-03-09T10:36:44.549298",
          "2020-03-09T10:36:49.473626",
          "2020-03-09T10:36:54.538280",
          "2020-03-09T10:36:59.435723",
          "2020-03-09T10:37:04.435124",
          "2020-03-09T10:37:09.540953",
          "2020-03-09T10:37:14.428178",
          "2020-03-09T10:37:19.519424",
          "2020-03-09T10:37:24.461444",
          "2020-03-09T10:37:29.551975",
          "2020-03-09T10:37:34.575593",
          "2020-03-09T10:37:39.510159",
          "2020-03-09T10:37:44.489035",
          "2020-03-09T10:37:49.487865",
          "2020-03-09T10:37:54.562513",
          "2020-03-09T10:37:59.543999",
          "2020-03-09T10:38:04.450940",
          "2020-03-09T10:38:09.452235",
          "2020-03-09T10:38:14.593156",
          "2020-03-09T10:38:19.393646",
          "2020-03-09T10:38:24.518663",
          "2020-03-09T10:38:29.520894",
          "2020-03-09T10:38:34.536305",
          "2020-03-09T10:38:39.537215",
          "2020-03-09T10:38:44.542126",
          "2020-03-09T10:38:51.592433",
          "2020-03-09T10:38:54.562938",
          "2020-03-09T10:38:59.531068",
          "2020-03-09T10:39:04.483100",
          "2020-03-09T10:39:09.494768",
          "2020-03-09T10:39:14.524487",
          "2020-03-09T10:39:19.578025",
          "2020-03-09T10:39:24.589547",
          "2020-03-09T10:39:29.562693",
          "2020-03-09T10:39:34.539148",
          "2020-03-09T10:39:39.628393",
          "2020-03-09T10:39:44.462056",
          "2020-03-09T10:39:49.508817",
          "2020-03-09T10:39:54.444476",
          "2020-03-09T10:39:59.555924",
          "2020-03-09T10:40:04.418459",
          "2020-03-09T10:40:09.606364",
          "2020-03-09T10:40:14.561856",
          "2020-03-09T10:40:20.428655",
          "2020-03-09T10:40:24.431342",
          "2020-03-09T10:40:29.593172",
          "2020-03-09T10:40:34.572938",
          "2020-03-09T10:40:39.508716",
          "2020-03-09T10:40:44.465571",
          "2020-03-09T10:40:49.534259",
          "2020-03-09T10:40:54.613300",
          "2020-03-09T10:40:59.571750",
          "2020-03-09T10:41:04.528352",
          "2020-03-09T10:41:09.494079",
          "2020-03-09T10:41:14.451268",
          "2020-03-09T10:41:19.503466",
          "2020-03-09T10:41:24.549025",
          "2020-03-09T10:41:29.538290",
          "2020-03-09T10:41:34.514457",
          "2020-03-09T10:41:39.587023",
          "2020-03-09T10:41:44.456852",
          "2020-03-09T10:41:49.520308",
          "2020-03-09T10:41:54.473523",
          "2020-03-09T10:41:59.526664",
          "2020-03-09T10:42:04.537185",
          "2020-03-09T10:42:09.565068",
          "2020-03-09T10:42:14.626284",
          "2020-03-09T10:42:19.525324",
          "2020-03-09T10:42:24.528008",
          "2020-03-09T10:42:29.601106",
          "2020-03-09T10:42:34.417630",
          "2020-03-09T10:42:40.926095",
          "2020-03-09T10:42:46.099852",
          "2020-03-09T10:42:49.580982",
          "2020-03-09T10:42:54.598209",
          "2020-03-09T10:42:59.577924",
          "2020-03-09T10:43:04.575703",
          "2020-03-09T10:43:09.504695",
          "2020-03-09T10:43:14.528001",
          "2020-03-09T10:43:19.444530",
          "2020-03-09T10:43:24.666443",
          "2020-03-09T10:43:29.444923",
          "2020-03-09T10:43:34.509840",
          "2020-03-09T10:43:39.508321",
          "2020-03-09T10:43:44.573283",
          "2020-03-09T10:43:49.594041",
          "2020-03-09T10:43:54.600378",
          "2020-03-09T10:43:59.495523",
          "2020-03-09T10:44:04.523464",
          "2020-03-09T10:44:09.530148",
          "2020-03-09T10:44:14.456261",
          "2020-03-09T10:44:19.545580",
          "2020-03-09T10:44:24.604311",
          "2020-03-09T10:44:29.531821",
          "2020-03-09T10:44:34.455645",
          "2020-03-09T10:44:39.595453",
          "2020-03-09T10:44:44.620374",
          "2020-03-09T10:44:49.549761",
          "2020-03-09T10:44:54.524794",
          "2020-03-09T10:44:59.483967",
          "2020-03-09T10:45:04.569547",
          "2020-03-09T10:45:09.563125",
          "2020-03-09T10:45:16.617667",
          "2020-03-09T10:45:19.606759",
          "2020-03-09T10:45:24.597661"
         ],
         "y": [
          2.213487966666667,
          2.21437265,
          2.21499525,
          2.215087066666667,
          2.21561445,
          2.2138828166666666,
          2.213417333333333,
          2.214920483333333,
          2.2143054,
          2.215108416666667,
          2.215886933333333,
          2.2151969,
          2.2131916166666668,
          2.2146023166666664,
          2.2132479333333333,
          2.2155204833333335,
          2.216223416666667,
          2.498311683333333,
          2.4991323333333333,
          2.498593216666667,
          2.4989219166666667,
          2.513524083333333,
          2.49867505,
          2.5130686166666667,
          2.5143933499999997,
          2.497964783333333,
          2.507210683333333,
          2.5144783166666667,
          2.4990109833333336,
          2.514256816666667,
          2.4992396833333337,
          2.5147481,
          2.49919395,
          2.664599416666667,
          2.6656769833333334,
          2.6639677,
          2.663957716666667,
          2.6657215333333335,
          2.6638419499999997,
          2.6653627166666665,
          2.6643963833333335,
          2.6659052333333335,
          2.6662988666666667,
          2.5485416333333335,
          2.5481895666666667,
          2.5481700666666667,
          2.5494142,
          2.5491056333333333,
          2.54755465,
          2.5475762333333334,
          2.549924916666667,
          2.54659975,
          2.5486833666666664,
          2.54872055,
          2.965644066666667,
          2.965659233333333,
          2.9657410833333335,
          2.9665795333333334,
          2.96608795,
          1.7655567833333334,
          1.7647573166666668,
          1.7649517833333335,
          1.7654471,
          1.7663394,
          1.7665314333333333,
          1.7660838666666665,
          1.7656914499999998,
          1.7671788666666666,
          1.7644065833333333,
          1.7651859333333335,
          1.7641135833333335,
          1.76597105,
          1.7636799666666667,
          1.7668117166666666,
          1.7660699166666667,
          0.9638498999999999,
          0.9638946833333333,
          0.96659185,
          0.9662546166666667,
          0.96518425,
          0.9644651666666667,
          0.9656099666666667,
          0.9669273166666666,
          0.9662348166666667,
          0.9488448500000001,
          0.9649403,
          0.9642267833333332,
          0.9650967500000001,
          0.9658560666666667,
          0.96567715,
          0.9652799333333333,
          0.3831560333333333,
          0.38098651666666666,
          0.3820441166666667,
          0.3812643666666667,
          0.38215005,
          0.3823254,
          0.3827901166666667,
          0.38381038333333334,
          0.3821277166666667,
          -0.23449421666666667,
          -0.23327591666666667,
          -0.23633384999999998,
          -0.22785943333333333,
          -0.22496348333333333,
          -0.23361131666666665,
          -0.09999086666666666,
          -0.10032895,
          -0.10036596666666667,
          -0.10154943333333333,
          -0.13449433333333335,
          -0.13588551666666668,
          -0.13218696666666668,
          -0.13587896666666666,
          -0.13479701666666666,
          -0.13482233333333332,
          -0.13373963333333333,
          -0.5000603333333333,
          -0.49995471666666663,
          -0.5017023,
          -0.5012366166666667,
          -0.5011252166666667,
          -0.6190233333333333,
          -0.6175346833333334,
          -0.6165558333333333,
          -0.617764,
          -0.6190336,
          -0.6167034666666668,
          -0.6162881166666666,
          -0.5841316666666666,
          -0.50121445,
          -0.41856156666666666,
          -0.3338019,
          -0.2505756,
          -0.1329999,
          -0.0831817,
          0
         ]
        }
       ],
       "layout": {
        "template": {
         "data": {
          "bar": [
           {
            "error_x": {
             "color": "#2a3f5f"
            },
            "error_y": {
             "color": "#2a3f5f"
            },
            "marker": {
             "line": {
              "color": "white",
              "width": 0.5
             }
            },
            "type": "bar"
           }
          ],
          "barpolar": [
           {
            "marker": {
             "line": {
              "color": "white",
              "width": 0.5
             }
            },
            "type": "barpolar"
           }
          ],
          "carpet": [
           {
            "aaxis": {
             "endlinecolor": "#2a3f5f",
             "gridcolor": "#C8D4E3",
             "linecolor": "#C8D4E3",
             "minorgridcolor": "#C8D4E3",
             "startlinecolor": "#2a3f5f"
            },
            "baxis": {
             "endlinecolor": "#2a3f5f",
             "gridcolor": "#C8D4E3",
             "linecolor": "#C8D4E3",
             "minorgridcolor": "#C8D4E3",
             "startlinecolor": "#2a3f5f"
            },
            "type": "carpet"
           }
          ],
          "choropleth": [
           {
            "colorbar": {
             "outlinewidth": 0,
             "ticks": ""
            },
            "type": "choropleth"
           }
          ],
          "contour": [
           {
            "colorbar": {
             "outlinewidth": 0,
             "ticks": ""
            },
            "colorscale": [
             [
              0,
              "#0d0887"
             ],
             [
              0.1111111111111111,
              "#46039f"
             ],
             [
              0.2222222222222222,
              "#7201a8"
             ],
             [
              0.3333333333333333,
              "#9c179e"
             ],
             [
              0.4444444444444444,
              "#bd3786"
             ],
             [
              0.5555555555555556,
              "#d8576b"
             ],
             [
              0.6666666666666666,
              "#ed7953"
             ],
             [
              0.7777777777777778,
              "#fb9f3a"
             ],
             [
              0.8888888888888888,
              "#fdca26"
             ],
             [
              1,
              "#f0f921"
             ]
            ],
            "type": "contour"
           }
          ],
          "contourcarpet": [
           {
            "colorbar": {
             "outlinewidth": 0,
             "ticks": ""
            },
            "type": "contourcarpet"
           }
          ],
          "heatmap": [
           {
            "colorbar": {
             "outlinewidth": 0,
             "ticks": ""
            },
            "colorscale": [
             [
              0,
              "#0d0887"
             ],
             [
              0.1111111111111111,
              "#46039f"
             ],
             [
              0.2222222222222222,
              "#7201a8"
             ],
             [
              0.3333333333333333,
              "#9c179e"
             ],
             [
              0.4444444444444444,
              "#bd3786"
             ],
             [
              0.5555555555555556,
              "#d8576b"
             ],
             [
              0.6666666666666666,
              "#ed7953"
             ],
             [
              0.7777777777777778,
              "#fb9f3a"
             ],
             [
              0.8888888888888888,
              "#fdca26"
             ],
             [
              1,
              "#f0f921"
             ]
            ],
            "type": "heatmap"
           }
          ],
          "heatmapgl": [
           {
            "colorbar": {
             "outlinewidth": 0,
             "ticks": ""
            },
            "colorscale": [
             [
              0,
              "#0d0887"
             ],
             [
              0.1111111111111111,
              "#46039f"
             ],
             [
              0.2222222222222222,
              "#7201a8"
             ],
             [
              0.3333333333333333,
              "#9c179e"
             ],
             [
              0.4444444444444444,
              "#bd3786"
             ],
             [
              0.5555555555555556,
              "#d8576b"
             ],
             [
              0.6666666666666666,
              "#ed7953"
             ],
             [
              0.7777777777777778,
              "#fb9f3a"
             ],
             [
              0.8888888888888888,
              "#fdca26"
             ],
             [
              1,
              "#f0f921"
             ]
            ],
            "type": "heatmapgl"
           }
          ],
          "histogram": [
           {
            "marker": {
             "colorbar": {
              "outlinewidth": 0,
              "ticks": ""
             }
            },
            "type": "histogram"
           }
          ],
          "histogram2d": [
           {
            "colorbar": {
             "outlinewidth": 0,
             "ticks": ""
            },
            "colorscale": [
             [
              0,
              "#0d0887"
             ],
             [
              0.1111111111111111,
              "#46039f"
             ],
             [
              0.2222222222222222,
              "#7201a8"
             ],
             [
              0.3333333333333333,
              "#9c179e"
             ],
             [
              0.4444444444444444,
              "#bd3786"
             ],
             [
              0.5555555555555556,
              "#d8576b"
             ],
             [
              0.6666666666666666,
              "#ed7953"
             ],
             [
              0.7777777777777778,
              "#fb9f3a"
             ],
             [
              0.8888888888888888,
              "#fdca26"
             ],
             [
              1,
              "#f0f921"
             ]
            ],
            "type": "histogram2d"
           }
          ],
          "histogram2dcontour": [
           {
            "colorbar": {
             "outlinewidth": 0,
             "ticks": ""
            },
            "colorscale": [
             [
              0,
              "#0d0887"
             ],
             [
              0.1111111111111111,
              "#46039f"
             ],
             [
              0.2222222222222222,
              "#7201a8"
             ],
             [
              0.3333333333333333,
              "#9c179e"
             ],
             [
              0.4444444444444444,
              "#bd3786"
             ],
             [
              0.5555555555555556,
              "#d8576b"
             ],
             [
              0.6666666666666666,
              "#ed7953"
             ],
             [
              0.7777777777777778,
              "#fb9f3a"
             ],
             [
              0.8888888888888888,
              "#fdca26"
             ],
             [
              1,
              "#f0f921"
             ]
            ],
            "type": "histogram2dcontour"
           }
          ],
          "mesh3d": [
           {
            "colorbar": {
             "outlinewidth": 0,
             "ticks": ""
            },
            "type": "mesh3d"
           }
          ],
          "parcoords": [
           {
            "line": {
             "colorbar": {
              "outlinewidth": 0,
              "ticks": ""
             }
            },
            "type": "parcoords"
           }
          ],
          "pie": [
           {
            "automargin": true,
            "type": "pie"
           }
          ],
          "scatter": [
           {
            "marker": {
             "colorbar": {
              "outlinewidth": 0,
              "ticks": ""
             }
            },
            "type": "scatter"
           }
          ],
          "scatter3d": [
           {
            "line": {
             "colorbar": {
              "outlinewidth": 0,
              "ticks": ""
             }
            },
            "marker": {
             "colorbar": {
              "outlinewidth": 0,
              "ticks": ""
             }
            },
            "type": "scatter3d"
           }
          ],
          "scattercarpet": [
           {
            "marker": {
             "colorbar": {
              "outlinewidth": 0,
              "ticks": ""
             }
            },
            "type": "scattercarpet"
           }
          ],
          "scattergeo": [
           {
            "marker": {
             "colorbar": {
              "outlinewidth": 0,
              "ticks": ""
             }
            },
            "type": "scattergeo"
           }
          ],
          "scattergl": [
           {
            "marker": {
             "colorbar": {
              "outlinewidth": 0,
              "ticks": ""
             }
            },
            "type": "scattergl"
           }
          ],
          "scattermapbox": [
           {
            "marker": {
             "colorbar": {
              "outlinewidth": 0,
              "ticks": ""
             }
            },
            "type": "scattermapbox"
           }
          ],
          "scatterpolar": [
           {
            "marker": {
             "colorbar": {
              "outlinewidth": 0,
              "ticks": ""
             }
            },
            "type": "scatterpolar"
           }
          ],
          "scatterpolargl": [
           {
            "marker": {
             "colorbar": {
              "outlinewidth": 0,
              "ticks": ""
             }
            },
            "type": "scatterpolargl"
           }
          ],
          "scatterternary": [
           {
            "marker": {
             "colorbar": {
              "outlinewidth": 0,
              "ticks": ""
             }
            },
            "type": "scatterternary"
           }
          ],
          "surface": [
           {
            "colorbar": {
             "outlinewidth": 0,
             "ticks": ""
            },
            "colorscale": [
             [
              0,
              "#0d0887"
             ],
             [
              0.1111111111111111,
              "#46039f"
             ],
             [
              0.2222222222222222,
              "#7201a8"
             ],
             [
              0.3333333333333333,
              "#9c179e"
             ],
             [
              0.4444444444444444,
              "#bd3786"
             ],
             [
              0.5555555555555556,
              "#d8576b"
             ],
             [
              0.6666666666666666,
              "#ed7953"
             ],
             [
              0.7777777777777778,
              "#fb9f3a"
             ],
             [
              0.8888888888888888,
              "#fdca26"
             ],
             [
              1,
              "#f0f921"
             ]
            ],
            "type": "surface"
           }
          ],
          "table": [
           {
            "cells": {
             "fill": {
              "color": "#EBF0F8"
             },
             "line": {
              "color": "white"
             }
            },
            "header": {
             "fill": {
              "color": "#C8D4E3"
             },
             "line": {
              "color": "white"
             }
            },
            "type": "table"
           }
          ]
         },
         "layout": {
          "annotationdefaults": {
           "arrowcolor": "#2a3f5f",
           "arrowhead": 0,
           "arrowwidth": 1
          },
          "coloraxis": {
           "colorbar": {
            "outlinewidth": 0,
            "ticks": ""
           }
          },
          "colorscale": {
           "diverging": [
            [
             0,
             "#8e0152"
            ],
            [
             0.1,
             "#c51b7d"
            ],
            [
             0.2,
             "#de77ae"
            ],
            [
             0.3,
             "#f1b6da"
            ],
            [
             0.4,
             "#fde0ef"
            ],
            [
             0.5,
             "#f7f7f7"
            ],
            [
             0.6,
             "#e6f5d0"
            ],
            [
             0.7,
             "#b8e186"
            ],
            [
             0.8,
             "#7fbc41"
            ],
            [
             0.9,
             "#4d9221"
            ],
            [
             1,
             "#276419"
            ]
           ],
           "sequential": [
            [
             0,
             "#0d0887"
            ],
            [
             0.1111111111111111,
             "#46039f"
            ],
            [
             0.2222222222222222,
             "#7201a8"
            ],
            [
             0.3333333333333333,
             "#9c179e"
            ],
            [
             0.4444444444444444,
             "#bd3786"
            ],
            [
             0.5555555555555556,
             "#d8576b"
            ],
            [
             0.6666666666666666,
             "#ed7953"
            ],
            [
             0.7777777777777778,
             "#fb9f3a"
            ],
            [
             0.8888888888888888,
             "#fdca26"
            ],
            [
             1,
             "#f0f921"
            ]
           ],
           "sequentialminus": [
            [
             0,
             "#0d0887"
            ],
            [
             0.1111111111111111,
             "#46039f"
            ],
            [
             0.2222222222222222,
             "#7201a8"
            ],
            [
             0.3333333333333333,
             "#9c179e"
            ],
            [
             0.4444444444444444,
             "#bd3786"
            ],
            [
             0.5555555555555556,
             "#d8576b"
            ],
            [
             0.6666666666666666,
             "#ed7953"
            ],
            [
             0.7777777777777778,
             "#fb9f3a"
            ],
            [
             0.8888888888888888,
             "#fdca26"
            ],
            [
             1,
             "#f0f921"
            ]
           ]
          },
          "colorway": [
           "#636efa",
           "#EF553B",
           "#00cc96",
           "#ab63fa",
           "#FFA15A",
           "#19d3f3",
           "#FF6692",
           "#B6E880",
           "#FF97FF",
           "#FECB52"
          ],
          "font": {
           "color": "#2a3f5f"
          },
          "geo": {
           "bgcolor": "white",
           "lakecolor": "white",
           "landcolor": "white",
           "showlakes": true,
           "showland": true,
           "subunitcolor": "#C8D4E3"
          },
          "hoverlabel": {
           "align": "left"
          },
          "hovermode": "closest",
          "mapbox": {
           "style": "light"
          },
          "paper_bgcolor": "white",
          "plot_bgcolor": "white",
          "polar": {
           "angularaxis": {
            "gridcolor": "#EBF0F8",
            "linecolor": "#EBF0F8",
            "ticks": ""
           },
           "bgcolor": "white",
           "radialaxis": {
            "gridcolor": "#EBF0F8",
            "linecolor": "#EBF0F8",
            "ticks": ""
           }
          },
          "scene": {
           "xaxis": {
            "backgroundcolor": "white",
            "gridcolor": "#DFE8F3",
            "gridwidth": 2,
            "linecolor": "#EBF0F8",
            "showbackground": true,
            "ticks": "",
            "zerolinecolor": "#EBF0F8"
           },
           "yaxis": {
            "backgroundcolor": "white",
            "gridcolor": "#DFE8F3",
            "gridwidth": 2,
            "linecolor": "#EBF0F8",
            "showbackground": true,
            "ticks": "",
            "zerolinecolor": "#EBF0F8"
           },
           "zaxis": {
            "backgroundcolor": "white",
            "gridcolor": "#DFE8F3",
            "gridwidth": 2,
            "linecolor": "#EBF0F8",
            "showbackground": true,
            "ticks": "",
            "zerolinecolor": "#EBF0F8"
           }
          },
          "shapedefaults": {
           "line": {
            "color": "#2a3f5f"
           }
          },
          "ternary": {
           "aaxis": {
            "gridcolor": "#DFE8F3",
            "linecolor": "#A2B1C6",
            "ticks": ""
           },
           "baxis": {
            "gridcolor": "#DFE8F3",
            "linecolor": "#A2B1C6",
            "ticks": ""
           },
           "bgcolor": "white",
           "caxis": {
            "gridcolor": "#DFE8F3",
            "linecolor": "#A2B1C6",
            "ticks": ""
           }
          },
          "title": {
           "x": 0.05
          },
          "xaxis": {
           "automargin": true,
           "gridcolor": "#EBF0F8",
           "linecolor": "#EBF0F8",
           "ticks": "",
           "title": {
            "standoff": 15
           },
           "zerolinecolor": "#EBF0F8",
           "zerolinewidth": 2
          },
          "yaxis": {
           "automargin": true,
           "gridcolor": "#EBF0F8",
           "linecolor": "#EBF0F8",
           "ticks": "",
           "title": {
            "standoff": 15
           },
           "zerolinecolor": "#EBF0F8",
           "zerolinewidth": 2
          }
         }
        },
        "title": {
         "text": "Error in ETAs for the buses heading stop 4285. Positive or negative if it arrives later or sooner than expected, respectively"
        },
        "xaxis": {
         "title": {
          "text": "Time"
         }
        },
        "yaxis": {
         "title": {
          "text": "ETA ERROR (minutes)"
         }
        }
       }
      },
      "text/html": [
       "<div>\n",
       "        \n",
       "        \n",
       "            <div id=\"3aca861a-ee69-408e-9f2e-1226683f7f17\" class=\"plotly-graph-div\" style=\"height:525px; width:100%;\"></div>\n",
       "            <script type=\"text/javascript\">\n",
       "                require([\"plotly\"], function(Plotly) {\n",
       "                    window.PLOTLYENV=window.PLOTLYENV || {};\n",
       "                    \n",
       "                if (document.getElementById(\"3aca861a-ee69-408e-9f2e-1226683f7f17\")) {\n",
       "                    Plotly.newPlot(\n",
       "                        '3aca861a-ee69-408e-9f2e-1226683f7f17',\n",
       "                        [{\"line\": {\"width\": 1}, \"name\": \"F-8606\", \"type\": \"scatter\", \"x\": [\"2020-03-09T10:15:14.291579\", \"2020-03-09T10:15:19.273074\", \"2020-03-09T10:15:24.358194\", \"2020-03-09T10:15:29.377392\", \"2020-03-09T10:15:34.415921\", \"2020-03-09T10:15:39.387586\", \"2020-03-09T10:15:44.315381\", \"2020-03-09T10:15:49.409547\", \"2020-03-09T10:15:54.360084\", \"2020-03-09T10:15:59.426210\", \"2020-03-09T10:16:04.414333\", \"2020-03-09T10:16:09.367235\", \"2020-03-09T10:16:14.389615\", \"2020-03-09T10:16:19.393246\", \"2020-03-09T10:16:24.369738\", \"2020-03-09T10:16:29.399281\", \"2020-03-09T10:16:34.284164\", \"2020-03-09T10:16:39.403782\", \"2020-03-09T10:16:44.261734\", \"2020-03-09T10:16:49.353309\", \"2020-03-09T10:16:54.339332\", \"2020-03-09T10:16:59.359884\", \"2020-03-09T10:17:05.261131\", \"2020-03-09T10:17:09.416599\", \"2020-03-09T10:17:14.405313\", \"2020-03-09T10:17:19.385354\", \"2020-03-09T10:17:24.383666\", \"2020-03-09T10:17:29.401951\", \"2020-03-09T10:17:34.458310\", \"2020-03-09T10:17:39.385904\", \"2020-03-09T10:17:44.399085\", \"2020-03-09T10:17:49.365138\", \"2020-03-09T10:17:54.402072\", \"2020-03-09T10:17:59.420878\", \"2020-03-09T10:18:04.272648\", \"2020-03-09T10:18:09.371487\", \"2020-03-09T10:18:14.318164\", \"2020-03-09T10:18:19.447084\", \"2020-03-09T10:18:24.268468\", \"2020-03-09T10:18:29.395817\", \"2020-03-09T10:18:34.387857\", \"2020-03-09T10:18:39.438467\", \"2020-03-09T10:18:44.270344\", \"2020-03-09T10:18:49.410258\", \"2020-03-09T10:18:54.394276\", \"2020-03-09T10:18:59.412396\", \"2020-03-09T10:19:04.317460\", \"2020-03-09T10:19:09.309378\", \"2020-03-09T10:19:14.324243\", \"2020-03-09T10:19:19.312966\", \"2020-03-09T10:19:24.412814\", \"2020-03-09T10:19:29.471783\", \"2020-03-09T10:19:34.425923\", \"2020-03-09T10:19:39.371382\", \"2020-03-09T10:19:44.443748\", \"2020-03-09T10:19:49.380488\", \"2020-03-09T10:19:54.285436\", \"2020-03-09T10:19:59.451342\", \"2020-03-09T10:20:04.324307\", \"2020-03-09T10:20:09.356982\", \"2020-03-09T10:20:14.474154\", \"2020-03-09T10:20:19.364041\", \"2020-03-09T10:20:24.294261\", \"2020-03-09T10:20:29.410835\", \"2020-03-09T10:20:34.310828\"], \"y\": [1.1996791833333333, 1.1993707666666666, 1.2007894333333333, 1.2011094, 1.20175155, 1.1846126333333333, 1.2000758833333334, 1.2016453166666667, 0.2174876, 0.2185897, 0.21839175, 0.21760678333333333, 0.21797978333333334, 0.21804030000000002, 0.2176485, 0.2181408833333333, 0.21622226666666666, -0.09845076666666668, -0.10081823333333334, -0.09929198333333332, -0.09952493333333333, -0.09918239999999999, -0.10082828333333334, -0.09823715000000001, -0.09842525, -0.09875790000000001, -0.09878603333333333, -0.29848128333333335, -0.29754196666666666, -0.29874873333333335, -0.29852905, -0.2990948333333333, -0.2318126, -0.23149916666666667, -0.2339696666666667, -0.23232235, -0.23321106666666666, -0.2310624, -0.23403933333333335, -0.23191685, -0.23204951666666668, -0.23120601666666665, -0.23400806666666665, -0.23167616666666666, -0.2319425333333333, -0.23164053333333331, -0.2332228, -0.2333575, -0.23310975, -0.6832977, -0.6816335666666667, -0.68065075, -0.6814150833333333, -0.5156574333333334, -0.5144513333333334, -0.5155056666666666, -0.5170898666666667, -0.5143247666666667, -0.49977535, -0.4158974333333333, -0.3306112333333333, -0.24911311666666666, -0.16694278333333334, -0.08166655, 0.0]}, {\"line\": {\"width\": 1}, \"name\": \"F-8606\", \"type\": \"scatter\", \"x\": [\"2020-03-09T10:43:14.528001\", \"2020-03-09T10:43:19.444530\", \"2020-03-09T10:43:24.666443\", \"2020-03-09T10:43:29.444923\", \"2020-03-09T10:43:34.509840\", \"2020-03-09T10:43:39.508321\", \"2020-03-09T10:43:44.573283\", \"2020-03-09T10:43:49.594041\", \"2020-03-09T10:43:54.600378\", \"2020-03-09T10:43:59.495523\", \"2020-03-09T10:44:04.523464\", \"2020-03-09T10:44:09.530148\", \"2020-03-09T10:44:14.456261\", \"2020-03-09T10:44:19.545580\", \"2020-03-09T10:44:24.604311\", \"2020-03-09T10:44:29.531821\", \"2020-03-09T10:44:34.455645\", \"2020-03-09T10:44:39.595453\", \"2020-03-09T10:44:44.620374\", \"2020-03-09T10:44:49.549761\", \"2020-03-09T10:44:54.524794\", \"2020-03-09T10:44:59.483967\", \"2020-03-09T10:45:04.569547\", \"2020-03-09T10:45:09.563125\", \"2020-03-09T10:45:16.617667\", \"2020-03-09T10:45:19.606759\", \"2020-03-09T10:45:24.597661\", \"2020-03-09T10:45:29.602946\", \"2020-03-09T10:45:34.619474\", \"2020-03-09T10:45:39.496129\", \"2020-03-09T10:45:44.576401\", \"2020-03-09T10:45:49.503252\", \"2020-03-09T10:45:54.582406\", \"2020-03-09T10:45:59.565945\", \"2020-03-09T10:46:04.929078\", \"2020-03-09T10:46:09.610937\", \"2020-03-09T10:46:14.601772\", \"2020-03-09T10:46:19.650154\", \"2020-03-09T10:46:24.526653\", \"2020-03-09T10:46:29.535336\", \"2020-03-09T10:46:34.574680\", \"2020-03-09T10:46:39.460713\", \"2020-03-09T10:46:44.558933\", \"2020-03-09T10:46:49.523930\", \"2020-03-09T10:46:54.744964\", \"2020-03-09T10:46:59.609746\", \"2020-03-09T10:47:04.509715\", \"2020-03-09T10:47:09.489161\", \"2020-03-09T10:47:14.487228\", \"2020-03-09T10:47:19.496949\", \"2020-03-09T10:47:24.627409\", \"2020-03-09T10:47:29.599761\", \"2020-03-09T10:47:34.555860\", \"2020-03-09T10:47:39.571676\", \"2020-03-09T10:47:44.569943\", \"2020-03-09T10:47:49.610355\", \"2020-03-09T10:47:54.646782\", \"2020-03-09T10:47:59.543485\", \"2020-03-09T10:48:04.525737\", \"2020-03-09T10:48:09.552204\", \"2020-03-09T10:48:14.652903\", \"2020-03-09T10:48:19.499034\", \"2020-03-09T10:48:24.551021\", \"2020-03-09T10:48:29.489667\", \"2020-03-09T10:48:34.455875\", \"2020-03-09T10:48:39.570332\", \"2020-03-09T10:48:44.592993\", \"2020-03-09T10:48:49.630514\", \"2020-03-09T10:48:54.639196\", \"2020-03-09T10:48:59.652688\", \"2020-03-09T10:49:04.567778\", \"2020-03-09T10:49:09.571632\", \"2020-03-09T10:49:14.564156\", \"2020-03-09T10:49:19.671134\", \"2020-03-09T10:49:24.530016\", \"2020-03-09T10:49:29.598482\", \"2020-03-09T10:49:34.555328\", \"2020-03-09T10:49:39.617189\", \"2020-03-09T10:49:44.631523\", \"2020-03-09T10:49:49.675136\", \"2020-03-09T10:49:54.660462\", \"2020-03-09T10:50:01.036054\", \"2020-03-09T10:50:04.489394\", \"2020-03-09T10:50:09.617049\", \"2020-03-09T10:50:14.653925\", \"2020-03-09T10:50:19.520939\", \"2020-03-09T10:50:24.510598\", \"2020-03-09T10:50:29.632550\", \"2020-03-09T10:50:34.659544\", \"2020-03-09T10:50:39.610968\", \"2020-03-09T10:50:44.614228\", \"2020-03-09T10:50:49.648727\", \"2020-03-09T10:50:54.629259\", \"2020-03-09T10:50:59.682460\", \"2020-03-09T10:51:04.617376\", \"2020-03-09T10:51:09.543356\", \"2020-03-09T10:51:14.628081\", \"2020-03-09T10:51:19.630340\", \"2020-03-09T10:51:24.632104\", \"2020-03-09T10:51:29.654030\", \"2020-03-09T10:51:34.492900\", \"2020-03-09T10:51:39.531663\", \"2020-03-09T10:51:44.507542\", \"2020-03-09T10:51:49.572063\", \"2020-03-09T10:51:54.511439\", \"2020-03-09T10:51:59.624642\", \"2020-03-09T10:52:04.640263\", \"2020-03-09T10:52:09.509494\", \"2020-03-09T10:52:14.499325\", \"2020-03-09T10:52:19.632170\", \"2020-03-09T10:52:24.664548\", \"2020-03-09T10:52:29.634647\", \"2020-03-09T10:52:34.594006\", \"2020-03-09T10:52:39.601325\", \"2020-03-09T10:52:44.484192\", \"2020-03-09T10:52:49.652224\", \"2020-03-09T10:52:54.658489\", \"2020-03-09T10:52:59.652201\", \"2020-03-09T10:53:04.629042\", \"2020-03-09T10:53:09.627118\", \"2020-03-09T10:53:14.686554\", \"2020-03-09T10:53:19.577492\", \"2020-03-09T10:53:24.600959\", \"2020-03-09T10:53:29.635990\", \"2020-03-09T10:53:34.513512\", \"2020-03-09T10:53:39.664162\", \"2020-03-09T10:53:44.654454\", \"2020-03-09T10:53:49.506381\", \"2020-03-09T10:53:54.678238\", \"2020-03-09T10:53:59.544664\", \"2020-03-09T10:54:04.607716\", \"2020-03-09T10:54:09.702888\", \"2020-03-09T10:54:14.538816\", \"2020-03-09T10:54:19.611251\", \"2020-03-09T10:54:24.585259\", \"2020-03-09T10:54:29.635419\", \"2020-03-09T10:54:34.660727\", \"2020-03-09T10:54:39.518246\", \"2020-03-09T10:54:44.501488\", \"2020-03-09T10:54:49.681574\", \"2020-03-09T10:54:54.619739\", \"2020-03-09T10:54:59.687029\", \"2020-03-09T10:55:04.581986\", \"2020-03-09T10:55:09.645939\", \"2020-03-09T10:55:14.528373\", \"2020-03-09T10:55:19.624826\", \"2020-03-09T10:55:24.663989\", \"2020-03-09T10:55:29.678838\", \"2020-03-09T10:55:34.707188\", \"2020-03-09T10:55:39.630131\", \"2020-03-09T10:55:44.640056\", \"2020-03-09T10:55:49.608299\", \"2020-03-09T10:55:54.605894\", \"2020-03-09T10:55:59.671630\", \"2020-03-09T10:56:04.583111\", \"2020-03-09T10:56:09.678437\", \"2020-03-09T10:56:14.718315\", \"2020-03-09T10:56:19.700122\", \"2020-03-09T10:56:24.634359\", \"2020-03-09T10:56:34.669263\", \"2020-03-09T10:56:39.635770\", \"2020-03-09T10:56:44.629955\"], \"y\": [0.2816341, 0.2802429166666667, 0.28394146666666664, 0.28024946666666667, 0.28133141666666667, 0.2813061, 0.2823888, 0.2827347666666667, 0.28284038333333333, 0.2810928, 0.2815584833333334, 0.28166988333333337, 0.2804384333333333, 0.28192708333333333, 0.28290593333333336, 0.2816977666666666, 0.2804281666666667, -0.18390836666666666, -0.18349301666666668, -0.1846699, -0.1850860166666667, -0.18576646666666666, -0.18434013333333335, -0.18444716666666666, -0.18353813333333333, -0.18371993333333334, -0.18387156666666668, -0.16711681666666667, -0.16684135, -0.1688971, -0.16755923333333334, -0.1687783833333333, -0.16745915, -0.1677335, -0.17834795, -0.16698363333333335, -0.16713638333333333, -0.16633001666666666, -0.16838836666666665, -0.16824365, -0.16758791666666667, -0.16948736666666667, -0.16785036666666667, -0.16843375000000002, -0.18141651666666667, -0.18367015, -0.1686706666666667, -0.16901323333333332, -0.16904545, -0.16888343333333333, -0.1667091, -0.1671699, -0.16790158333333333, -0.16763798333333335, -0.16766686666666666, -0.16699333333333335, -0.16638621666666667, -0.16810783333333335, -0.16840363333333333, -0.16796251666666664, -0.16628420000000002, -0.16884868333333333, -0.16798223333333334, -0.1690048, -0.169568, 0.61567295, 0.6160506333333333, 0.6166759833333334, 0.6168206833333334, 0.61704555, 0.6156303833333333, 0.6156946166666667, 0.6155700166666667, 0.6173529833333333, 0.6150010166666667, 0.6161421166666667, 0.6154228833333334, 0.6164539, 0.6166927999999999, 0.6174196833333333, 0.6171751166666667, 0.6067683166666666, 0.6143239833333334, 0.6164515666666667, 0.6170661666666667, 0.6148497333333334, 0.6146773833333333, 0.6167099166666666, 0.6171598166666666, 0.6163502166666667, 0.61640455, 0.6169795333333333, 0.6166550666666667, 0.6175417499999999, 0.6164570166666666, 0.6152233500000001, 0.6166354333333334, 0.6166730833333334, 0.6167024833333333, 0.6170679166666667, 0.6143824166666667, 0.6150284666666667, -0.4520402166666667, -0.45096486666666663, -0.45197526666666665, -0.45008855000000003, -0.4498282, -0.4520076833333333, -0.4521771666666667, -0.44996308333333335, -0.44942345, -0.44992180000000004, -0.45059915, -0.45047716666666665, -0.4524293833333333, -0.39962885, -0.3995244333333333, -0.39962923333333333, -0.4000152166666667, -0.40004728333333334, -0.5490566833333334, -0.5342077166666667, -0.5504832666666667, -0.5498994166666668, -0.53527405, -0.5494298833333333, -0.5495916833333333, -0.5353929, -0.5491952833333333, -0.53475485, -0.5337039833333334, -0.54878445, -0.5348523166666667, -0.5336450666666667, -0.5340782666666667, -0.5499089333333332, -0.31615380000000004, -0.31852848333333333, -0.3188077833333333, -0.31580635, -0.31683693333333335, -0.31571543333333335, -0.61746615, -0.6164002666666666, -0.6183597, -0.6167521499999999, -0.6160994333333334, -0.33251861666666666, -0.34871278333333333, -0.3333304, -0.33316498333333333, -0.3336942666666667, -0.8337343500000001, -0.7493054166666667, -0.6674474, -0.5825253, -0.4985273333333333, -0.41549721666666667, -0.3332599333333333, -0.16601153333333332, -0.08323641666666666, 0.0]}, {\"line\": {\"width\": 1}, \"name\": \"F-8607\", \"type\": \"scatter\", \"x\": [\"2020-03-09T10:20:39.295806\", \"2020-03-09T10:20:44.350090\", \"2020-03-09T10:20:49.525143\", \"2020-03-09T10:20:54.503251\", \"2020-03-09T10:20:59.432243\", \"2020-03-09T10:21:04.292141\", \"2020-03-09T10:21:09.402633\", \"2020-03-09T10:21:14.396797\", \"2020-03-09T10:21:19.448426\", \"2020-03-09T10:21:24.347856\", \"2020-03-09T10:21:29.428192\", \"2020-03-09T10:21:34.335669\", \"2020-03-09T10:21:39.468715\", \"2020-03-09T10:21:44.413172\", \"2020-03-09T10:21:49.428011\", \"2020-03-09T10:21:54.407754\", \"2020-03-09T10:21:59.459415\", \"2020-03-09T10:22:04.490360\", \"2020-03-09T10:22:09.507376\", \"2020-03-09T10:22:14.449948\", \"2020-03-09T10:22:19.495378\", \"2020-03-09T10:22:24.466133\", \"2020-03-09T10:22:29.332402\", \"2020-03-09T10:22:34.308517\", \"2020-03-09T10:22:39.375863\", \"2020-03-09T10:22:44.382991\", \"2020-03-09T10:22:49.479905\", \"2020-03-09T10:22:54.430529\", \"2020-03-09T10:22:59.410952\", \"2020-03-09T10:23:04.443648\", \"2020-03-09T10:23:09.468886\", \"2020-03-09T10:23:14.373860\", \"2020-03-09T10:23:19.445901\", \"2020-03-09T10:23:24.438152\", \"2020-03-09T10:23:29.455752\", \"2020-03-09T10:23:34.522162\", \"2020-03-09T10:23:39.416408\", \"2020-03-09T10:23:44.309587\", \"2020-03-09T10:23:49.452671\", \"2020-03-09T10:23:54.390569\", \"2020-03-09T10:23:59.359498\", \"2020-03-09T10:24:04.426740\", \"2020-03-09T10:24:09.308035\", \"2020-03-09T10:24:14.468489\", \"2020-03-09T10:24:19.344187\", \"2020-03-09T10:24:24.407086\", \"2020-03-09T10:24:29.464961\", \"2020-03-09T10:24:34.459078\", \"2020-03-09T10:24:40.196437\", \"2020-03-09T10:24:44.361696\", \"2020-03-09T10:24:49.416371\", \"2020-03-09T10:24:54.451349\", \"2020-03-09T10:24:59.452703\", \"2020-03-09T10:25:04.495087\", \"2020-03-09T10:25:09.345807\", \"2020-03-09T10:25:14.400362\", \"2020-03-09T10:25:19.482724\", \"2020-03-09T10:25:24.362084\", \"2020-03-09T10:25:29.445640\", \"2020-03-09T10:25:34.440821\", \"2020-03-09T10:25:39.455941\", \"2020-03-09T10:25:44.441334\", \"2020-03-09T10:25:49.449822\", \"2020-03-09T10:25:54.320482\", \"2020-03-09T10:25:59.414711\", \"2020-03-09T10:26:04.499527\", \"2020-03-09T10:26:09.390603\", \"2020-03-09T10:26:14.452546\", \"2020-03-09T10:26:19.329053\", \"2020-03-09T10:26:24.441433\", \"2020-03-09T10:26:29.389258\", \"2020-03-09T10:26:34.373801\", \"2020-03-09T10:26:39.509370\", \"2020-03-09T10:26:44.391903\", \"2020-03-09T10:26:49.493466\", \"2020-03-09T10:26:54.449879\", \"2020-03-09T10:26:59.485091\", \"2020-03-09T10:27:04.455771\", \"2020-03-09T10:27:09.489987\", \"2020-03-09T10:27:14.481484\", \"2020-03-09T10:27:19.409051\", \"2020-03-09T10:27:24.365041\", \"2020-03-09T10:27:29.438081\", \"2020-03-09T10:27:34.516485\", \"2020-03-09T10:27:39.506602\", \"2020-03-09T10:27:44.515262\", \"2020-03-09T10:27:49.432209\", \"2020-03-09T10:27:54.397544\", \"2020-03-09T10:27:59.459515\", \"2020-03-09T10:28:04.344958\", \"2020-03-09T10:28:09.470154\", \"2020-03-09T10:28:14.429994\", \"2020-03-09T10:28:19.451575\", \"2020-03-09T10:28:24.462565\", \"2020-03-09T10:28:30.403199\", \"2020-03-09T10:28:34.484629\", \"2020-03-09T10:28:39.516902\", \"2020-03-09T10:28:44.438960\", \"2020-03-09T10:28:49.405351\", \"2020-03-09T10:28:54.424073\", \"2020-03-09T10:28:59.377351\", \"2020-03-09T10:29:04.512007\", \"2020-03-09T10:29:09.402422\", \"2020-03-09T10:29:14.436999\", \"2020-03-09T10:29:19.489654\", \"2020-03-09T10:29:24.520388\", \"2020-03-09T10:29:29.487854\", \"2020-03-09T10:29:34.494792\", \"2020-03-09T10:29:39.426826\", \"2020-03-09T10:29:44.342058\", \"2020-03-09T10:29:49.495327\", \"2020-03-09T10:29:54.490719\", \"2020-03-09T10:29:59.456626\", \"2020-03-09T10:30:04.436055\", \"2020-03-09T10:30:09.484816\", \"2020-03-09T10:30:14.450447\", \"2020-03-09T10:30:19.519882\", \"2020-03-09T10:30:24.589946\", \"2020-03-09T10:30:29.348028\", \"2020-03-09T10:30:34.422601\", \"2020-03-09T10:30:39.350122\", \"2020-03-09T10:30:44.521398\", \"2020-03-09T10:30:49.504460\", \"2020-03-09T10:30:54.390710\", \"2020-03-09T10:30:59.493865\", \"2020-03-09T10:31:04.401280\", \"2020-03-09T10:31:09.572213\", \"2020-03-09T10:31:14.523531\", \"2020-03-09T10:31:19.482136\", \"2020-03-09T10:31:24.481101\", \"2020-03-09T10:31:29.430138\", \"2020-03-09T10:31:34.530196\", \"2020-03-09T10:31:39.491933\", \"2020-03-09T10:31:44.426921\", \"2020-03-09T10:31:49.444042\", \"2020-03-09T10:31:54.431056\", \"2020-03-09T10:31:59.426598\"], \"y\": [-3.8188465333333337, -3.8179418, -3.81502425, -3.8153891166666667, -3.8165725833333335, -3.8189076166666664, -3.817066083333333, -3.81716335, -3.8163028666666667, -2.9679790333333336, -2.9666401, -2.9681821499999996, -2.965964716666667, -2.9668904333333335, -2.9666431166666665, -2.9669807333333336, -2.966119716666667, -2.965603966666667, -1.6653203666666667, -1.6662775, -1.6655203333333333, -1.66600775, -1.6682366, -1.6686346833333334, -1.6675122500000001, -1.6673934499999998, -1.6657782166666666, -1.6666011500000002, -1.6669274333333335, -1.6663825, -1.6659618666666667, -1.6675456333333334, -1.66634495, -1.6664740999999998, -1.6661807666666666, -1.6650739333333333, -1.6668364999999998, -1.66861685, -1.6662321166666667, -1.66726715, -1.6677849999999999, -0.7166643, -0.7186427166666667, -0.7159684833333333, -0.7180401833333333, -0.7169918666666667, -0.7160272833333334, -0.7161253333333334, -0.7205026833333333, -0.7177483666666666, -0.7168371166666667, -0.7162541499999999, -0.7162315833333334, -0.7155251833333334, -0.7180131833333333, -0.7171039333333333, -0.7157312333333333, -0.7177419, -0.7163493, -0.7164296166666666, -0.7161776166666667, -0.3997544, -0.39961293333333336, -0.4017686, -0.4001981166666667, -0.3987845166666667, -0.40059991666666667, -0.39956753333333334, -0.40162575, -0.39975275, -0.40062233333333336, -0.40087995000000004, -0.3986204666666667, -0.40057824999999997, -0.3988855333333333, -0.3996119833333333, -0.3990251166666667, -0.3995137833333333, -0.39894351666666666, -0.39908523333333334, -0.40029245, -0.40102595, -0.39980861666666667, -0.3985018833333333, -0.39866660000000004, -0.3985222666666666, -0.39990648333333334, -0.6671509, -0.66611805, -0.6680273333333333, -0.6659407333333333, -0.6666100666666667, -0.88291705, -0.8827338833333334, -0.8837233166666666, -0.88236615, -0.8818282666666666, -0.8831273, -0.88368745, -0.8833754166666666, -0.8841541166666667, -1.0152431833333333, -1.0170696, -1.0164933166666665, -1.0156157333333333, -1.0151035, -1.0156457333333333, -1.0155301, -1.0166628666666666, -0.751409, -0.7488545166666667, -0.7489313166666667, -0.7494995333333333, -0.7498423833333334, -0.7490297, -0.7496025166666667, -0.7484452666666667, -0.7472775333333334, -0.7513095, -0.7500666166666666, -0.7179412666666667, -0.7317533333333334, -0.7320356333333333, -0.7172648, -0.7322122166666667, -0.5837553, -0.5809064166666666, -0.5817177833333333, -0.5824077, -0.58242495, -0.49994099999999997, -0.4149400333333333, -0.33224441666666665, -0.24999461666666667, -0.16637593333333334, -0.08325903333333334, 0.0]}, {\"line\": {\"width\": 1}, \"name\": \"F-8607\", \"type\": \"scatter\", \"x\": [\"2020-03-09T10:45:29.602946\", \"2020-03-09T10:45:34.619474\", \"2020-03-09T10:45:39.496129\", \"2020-03-09T10:45:44.576401\", \"2020-03-09T10:45:49.503252\", \"2020-03-09T10:45:54.582406\", \"2020-03-09T10:45:59.565945\", \"2020-03-09T10:46:04.929078\", \"2020-03-09T10:46:09.610937\", \"2020-03-09T10:46:14.601772\", \"2020-03-09T10:46:19.650154\", \"2020-03-09T10:46:24.526653\", \"2020-03-09T10:46:29.535336\", \"2020-03-09T10:46:34.574680\", \"2020-03-09T10:46:39.460713\", \"2020-03-09T10:46:44.558933\", \"2020-03-09T10:46:49.523930\", \"2020-03-09T10:46:54.744964\", \"2020-03-09T10:46:59.609746\", \"2020-03-09T10:47:04.509715\", \"2020-03-09T10:47:09.489161\", \"2020-03-09T10:47:14.487228\", \"2020-03-09T10:47:19.496949\", \"2020-03-09T10:47:24.627409\", \"2020-03-09T10:47:29.599761\", \"2020-03-09T10:47:34.555860\", \"2020-03-09T10:47:39.571676\", \"2020-03-09T10:47:44.569943\", \"2020-03-09T10:47:49.610355\", \"2020-03-09T10:47:54.646782\", \"2020-03-09T10:47:59.543485\", \"2020-03-09T10:48:04.525737\", \"2020-03-09T10:48:09.552204\", \"2020-03-09T10:48:14.652903\", \"2020-03-09T10:48:19.499034\", \"2020-03-09T10:48:24.551021\", \"2020-03-09T10:48:29.489667\", \"2020-03-09T10:48:34.455875\", \"2020-03-09T10:48:39.570332\", \"2020-03-09T10:48:44.592993\", \"2020-03-09T10:48:49.630514\", \"2020-03-09T10:48:54.639196\", \"2020-03-09T10:48:59.652688\", \"2020-03-09T10:49:04.567778\", \"2020-03-09T10:49:09.571632\", \"2020-03-09T10:49:14.564156\", \"2020-03-09T10:49:19.671134\", \"2020-03-09T10:49:24.530016\", \"2020-03-09T10:49:29.598482\", \"2020-03-09T10:49:34.555328\", \"2020-03-09T10:49:39.617189\", \"2020-03-09T10:49:44.631523\", \"2020-03-09T10:49:49.675136\", \"2020-03-09T10:49:54.660462\", \"2020-03-09T10:50:01.036054\", \"2020-03-09T10:50:04.489394\", \"2020-03-09T10:50:09.617049\", \"2020-03-09T10:50:14.653925\", \"2020-03-09T10:50:19.520939\", \"2020-03-09T10:50:24.510598\", \"2020-03-09T10:50:29.632550\", \"2020-03-09T10:50:34.659544\", \"2020-03-09T10:50:39.610968\", \"2020-03-09T10:50:44.614228\", \"2020-03-09T10:50:49.648727\", \"2020-03-09T10:50:54.629259\", \"2020-03-09T10:50:59.682460\", \"2020-03-09T10:51:04.617376\", \"2020-03-09T10:51:09.543356\", \"2020-03-09T10:51:14.628081\", \"2020-03-09T10:51:19.630340\", \"2020-03-09T10:51:24.632104\", \"2020-03-09T10:51:29.654030\", \"2020-03-09T10:51:34.492900\", \"2020-03-09T10:51:39.531663\", \"2020-03-09T10:51:44.507542\", \"2020-03-09T10:51:49.572063\", \"2020-03-09T10:51:54.511439\", \"2020-03-09T10:51:59.624642\", \"2020-03-09T10:52:04.640263\", \"2020-03-09T10:52:09.509494\", \"2020-03-09T10:52:14.499325\", \"2020-03-09T10:52:19.632170\", \"2020-03-09T10:52:24.664548\", \"2020-03-09T10:52:29.634647\", \"2020-03-09T10:52:34.594006\", \"2020-03-09T10:52:39.601325\", \"2020-03-09T10:52:44.484192\", \"2020-03-09T10:52:49.652224\", \"2020-03-09T10:52:54.658489\", \"2020-03-09T10:52:59.652201\", \"2020-03-09T10:53:04.629042\", \"2020-03-09T10:53:09.627118\", \"2020-03-09T10:53:14.686554\", \"2020-03-09T10:53:19.577492\", \"2020-03-09T10:53:24.600959\", \"2020-03-09T10:53:29.635990\", \"2020-03-09T10:53:34.513512\", \"2020-03-09T10:53:39.664162\", \"2020-03-09T10:53:44.654454\", \"2020-03-09T10:53:49.506381\", \"2020-03-09T10:53:54.678238\", \"2020-03-09T10:53:59.544664\", \"2020-03-09T10:54:04.607716\", \"2020-03-09T10:54:09.702888\", \"2020-03-09T10:54:14.538816\", \"2020-03-09T10:54:19.611251\", \"2020-03-09T10:54:24.585259\", \"2020-03-09T10:54:29.635419\", \"2020-03-09T10:54:34.660727\", \"2020-03-09T10:54:39.518246\", \"2020-03-09T10:54:44.501488\", \"2020-03-09T10:54:49.681574\", \"2020-03-09T10:54:54.619739\", \"2020-03-09T10:54:59.687029\", \"2020-03-09T10:55:04.581986\", \"2020-03-09T10:55:09.645939\", \"2020-03-09T10:55:14.528373\", \"2020-03-09T10:55:19.624826\", \"2020-03-09T10:55:24.663989\", \"2020-03-09T10:55:29.678838\", \"2020-03-09T10:55:34.707188\", \"2020-03-09T10:55:39.630131\", \"2020-03-09T10:55:44.640056\", \"2020-03-09T10:55:49.608299\", \"2020-03-09T10:55:54.605894\", \"2020-03-09T10:55:59.671630\", \"2020-03-09T10:56:04.583111\", \"2020-03-09T10:56:09.678437\", \"2020-03-09T10:56:14.718315\", \"2020-03-09T10:56:19.700122\", \"2020-03-09T10:56:24.634359\", \"2020-03-09T10:56:29.661099\", \"2020-03-09T10:56:34.669263\", \"2020-03-09T10:56:39.635770\", \"2020-03-09T10:56:44.629955\", \"2020-03-09T10:56:49.644746\", \"2020-03-09T10:56:54.642380\", \"2020-03-09T10:56:59.545956\", \"2020-03-09T10:57:04.681473\", \"2020-03-09T10:57:09.654995\", \"2020-03-09T10:57:14.614329\", \"2020-03-09T10:57:19.637066\", \"2020-03-09T10:57:24.670922\", \"2020-03-09T10:57:29.699214\", \"2020-03-09T10:57:34.647807\", \"2020-03-09T10:57:39.689541\", \"2020-03-09T10:57:44.595839\", \"2020-03-09T10:57:49.672161\", \"2020-03-09T10:57:54.664379\", \"2020-03-09T10:57:59.594332\", \"2020-03-09T10:58:04.707632\", \"2020-03-09T10:58:09.614195\", \"2020-03-09T10:58:14.588809\", \"2020-03-09T10:58:19.681629\", \"2020-03-09T10:58:24.649182\", \"2020-03-09T10:58:29.550912\", \"2020-03-09T10:58:34.687585\", \"2020-03-09T10:58:39.564990\", \"2020-03-09T10:58:44.526963\", \"2020-03-09T10:58:49.684971\", \"2020-03-09T10:58:54.558857\", \"2020-03-09T10:58:59.549023\", \"2020-03-09T10:59:04.613360\", \"2020-03-09T10:59:09.710614\", \"2020-03-09T10:59:14.645098\", \"2020-03-09T10:59:19.653849\", \"2020-03-09T10:59:24.700294\", \"2020-03-09T10:59:29.640677\", \"2020-03-09T10:59:34.678694\", \"2020-03-09T10:59:39.585706\", \"2020-03-09T10:59:44.673439\", \"2020-03-09T10:59:49.670600\", \"2020-03-09T10:59:54.685309\", \"2020-03-09T10:59:59.669000\", \"2020-03-09T11:00:04.631372\", \"2020-03-09T11:00:09.641897\", \"2020-03-09T11:00:14.706630\", \"2020-03-09T11:00:19.622114\", \"2020-03-09T11:00:24.628543\", \"2020-03-09T11:00:29.709759\", \"2020-03-09T11:00:34.690219\", \"2020-03-09T11:00:39.674111\", \"2020-03-09T11:00:44.646127\", \"2020-03-09T11:00:49.687179\", \"2020-03-09T11:00:54.597359\", \"2020-03-09T11:00:59.640065\", \"2020-03-09T11:01:04.694809\", \"2020-03-09T11:01:09.678989\", \"2020-03-09T11:01:14.603689\", \"2020-03-09T11:01:19.726386\", \"2020-03-09T11:01:24.616598\", \"2020-03-09T11:01:29.558828\", \"2020-03-09T11:01:34.689234\", \"2020-03-09T11:01:39.646076\", \"2020-03-09T11:01:44.654307\", \"2020-03-09T11:01:49.665018\", \"2020-03-09T11:01:54.701941\", \"2020-03-09T11:01:59.651911\", \"2020-03-09T11:02:04.714779\", \"2020-03-09T11:02:09.704366\", \"2020-03-09T11:02:14.682696\", \"2020-03-09T11:02:19.635148\", \"2020-03-09T11:02:24.702497\", \"2020-03-09T11:02:29.685350\", \"2020-03-09T11:02:34.707141\", \"2020-03-09T11:02:39.551544\", \"2020-03-09T11:02:44.691275\", \"2020-03-09T11:02:49.551238\", \"2020-03-09T11:02:54.709869\", \"2020-03-09T11:02:59.665358\", \"2020-03-09T11:03:04.715127\", \"2020-03-09T11:03:09.575124\", \"2020-03-09T11:03:14.636259\", \"2020-03-09T11:03:19.687612\", \"2020-03-09T11:03:24.724851\", \"2020-03-09T11:03:29.642752\", \"2020-03-09T11:03:34.790027\", \"2020-03-09T11:03:39.680936\", \"2020-03-09T11:03:44.746225\", \"2020-03-09T11:03:49.695415\", \"2020-03-09T11:03:54.698358\", \"2020-03-09T11:03:59.707909\", \"2020-03-09T11:04:04.722515\", \"2020-03-09T11:04:09.675955\", \"2020-03-09T11:04:14.683001\", \"2020-03-09T11:04:19.702923\", \"2020-03-09T11:04:24.639789\", \"2020-03-09T11:04:29.643860\", \"2020-03-09T11:04:34.760266\", \"2020-03-09T11:04:39.664993\", \"2020-03-09T11:04:44.676430\", \"2020-03-09T11:04:49.667881\", \"2020-03-09T11:04:54.684491\", \"2020-03-09T11:04:59.700439\", \"2020-03-09T11:05:04.723882\", \"2020-03-09T11:05:09.690988\", \"2020-03-09T11:05:14.699917\", \"2020-03-09T11:05:19.680458\", \"2020-03-09T11:05:24.733451\", \"2020-03-09T11:05:29.625495\", \"2020-03-09T11:05:34.678226\", \"2020-03-09T11:05:39.713333\", \"2020-03-09T11:05:44.702056\", \"2020-03-09T11:05:49.595301\", \"2020-03-09T11:05:55.847939\", \"2020-03-09T11:05:59.723024\", \"2020-03-09T11:06:04.675993\", \"2020-03-09T11:06:09.693927\"], \"y\": [-2.734849683333333, -2.7345742166666667, -2.736629966666667, -2.7352921, -2.73651125, -2.735192016666667, -2.7354663666666665, -2.746080816666667, -2.7347164999999998, -2.73486925, -2.734062883333333, -2.7361212333333333, -2.7359765166666667, -2.7353207833333335, -2.7372202333333333, -2.7355832333333336, -2.7361666166666665, -2.7324827166666665, -2.73473635, -2.736403533333333, -2.7367461, -2.7367783166666664, -2.7366163, -2.7344419666666666, -2.7349027666666665, -2.73563445, -2.7353708500000002, -2.7353997333333333, -2.7347262, -2.7341190833333333, -2.7358407, -2.7361365, -2.7356953833333337, -2.7340170666666666, -2.73658155, -2.7357151, -2.736737666666667, -2.7373008666666667, -2.73539325, -2.7350155666666667, -2.7343902166666667, -2.734245516666667, -2.7340206499999997, -2.7354358166666666, -2.7353715833333334, -2.7354961833333333, -2.7337132166666667, -2.7360651833333334, -2.7349240833333335, -2.7356433166666667, -2.7346123, -2.7343734, -2.7336465166666666, -2.7338910833333334, -2.744297883333333, -2.736742216666667, -2.7346146333333334, -2.734000033333333, -2.336216466666667, -2.3363888166666666, -2.3343562833333333, -2.3339063833333333, -2.334715983333333, -2.33466165, -2.3340866666666664, -2.3344111333333335, -2.33352445, -2.3346091833333333, -2.33584285, -2.3344307666666664, -2.334393116666667, -2.3343637166666666, -2.3339982833333335, -2.3366837833333336, -2.3360377333333333, -2.3697730833333335, -2.368697733333333, -2.3697081333333334, -2.3678214166666667, -2.3675610666666667, -2.3697405500000004, -2.3699100333333334, -2.36769595, -2.3671563166666667, -2.3676546666666667, -2.3683320166666664, -2.3682100333333334, -2.37016225, -2.35069505, -2.3505906333333333, -2.3506954333333336, -2.3510814166666667, -2.3511134833333336, -2.3501228833333334, -2.351940583333333, -2.351549466666667, -2.350965616666667, -2.3530069166666667, -2.3504960833333333, -2.350657883333333, -2.3531257666666665, -2.36692815, -2.3524877166666665, -2.3681035166666664, -2.3665173166666666, -2.3525851833333333, -2.3680445999999997, -2.3684778, -2.3676418, -2.2838866666666666, -2.2862613499999997, -2.28654065, -2.2835392166666666, -2.2845698, -2.2834483000000003, -2.2851990166666667, -2.2841331333333335, -2.2860925666666665, -2.2844850166666664, -2.2838323, -2.0335848166666666, -2.0331123166666667, -2.0343966, -2.0342311833333335, -2.0347604666666665, -2.03480055, -2.0337049499999997, -2.0351802666666665, -2.0335915, -2.0329268666666667, -2.2832300833333337, -2.2843261333333333, -2.2838804666666666, -2.2837444000000002, -2.2843026166666665, -2.2843995333333336, -1.8508196833333335, -1.8508591166666666, -1.8524661833333333, -1.8502075666666669, -1.8506488666666667, -1.8513266333333334, -1.8509476833333334, -1.8503834166666666, -1.8499118833333335, -1.8507686666666667, -1.8500731, -1.8516348, -1.8503627666666667, -1.8504924666666667, -1.8516599166666665, -1.8497715833333332, -1.8513288666666667, -1.8517519666666666, -1.8502049666666667, -1.8507457500000002, -1.8523835833333335, -1.8501057, -1.9354822833333332, -1.9361160666666666, -1.9334826, -1.9355845, -1.9357484, -1.9346761166666666, -1.9330552166666666, -1.93414715, -1.9340012999999998, -1.9332272166666666, -1.9342208333333335, -1.9335872166666666, -1.9351370166666666, -1.9336748, -1.9337221166666665, -1.9334769666666667, -1.4837487833333334, -1.4843759166666668, -1.4842005, -1.4831216166666665, -1.4845302166666667, -1.4844230666666667, -1.4830694666666666, -1.4833951333333333, -1.4836636, -1.48413, -1.4834458, -1.4849428, -1.4842310333333333, -1.4833186333333332, -1.4835823, -1.4848373, -1.48279235, -1.48462215, -1.0855849833333333, -1.0834115500000001, -1.08413085, -1.0839936666666667, -1.08381515, -1.0831997666666666, -1.0840336000000002, -1.0829857999999999, -1.0831593499999999, -1.0835205166666666, -1.0843129833333334, -1.0831905, -0.95014295, -0.9497797666666667, -0.95237305, -0.9500442, -0.9523781499999999, -0.9497342999999999, -0.95047615, -0.9496466666666666, -0.95198005, -0.9509611333333333, -0.95010525, -0.9494846, -0.9508529166666667, -0.9483983333333333, -0.9502165166666666, -0.9491283666666667, -0.9499752, -0.94992615, -0.9497669666666667, -0.9495235333333334, -0.9502995333333334, -0.9501820999999999, -0.9498500666666666, -0.9509023, -0.95083445, -0.94889435, -0.6504822333333333, -0.6502916166666667, -0.6504341, -0.6501572666666667, -0.6498914666666666, -0.64950075, -0.6500489833333333, -0.6499001666666667, -0.6502244833333334, -0.46600793333333335, -0.46780720000000003, -0.46692835, -0.46634323333333333, -0.41653118333333333, -0.33497709999999997, -0.23076646666666667, -0.16618171666666667, -0.08363223333333333, 0.0]}, {\"line\": {\"width\": 1}, \"name\": \"F-8604\", \"type\": \"scatter\", \"x\": [\"2020-03-09T10:25:44.441334\", \"2020-03-09T10:25:49.449822\", \"2020-03-09T10:25:54.320482\", \"2020-03-09T10:25:59.414711\", \"2020-03-09T10:26:04.499527\", \"2020-03-09T10:26:09.390603\", \"2020-03-09T10:26:14.452546\", \"2020-03-09T10:26:19.329053\", \"2020-03-09T10:26:24.441433\", \"2020-03-09T10:26:29.389258\", \"2020-03-09T10:26:34.373801\", \"2020-03-09T10:26:39.509370\", \"2020-03-09T10:26:44.391903\", \"2020-03-09T10:26:49.493466\", \"2020-03-09T10:26:54.449879\", \"2020-03-09T10:26:59.485091\", \"2020-03-09T10:27:04.455771\", \"2020-03-09T10:27:09.489987\", \"2020-03-09T10:27:14.481484\", \"2020-03-09T10:27:19.409051\", \"2020-03-09T10:27:24.365041\", \"2020-03-09T10:27:29.438081\", \"2020-03-09T10:27:34.516485\", \"2020-03-09T10:27:39.506602\", \"2020-03-09T10:27:44.515262\", \"2020-03-09T10:27:49.432209\", \"2020-03-09T10:27:54.397544\", \"2020-03-09T10:27:59.459515\", \"2020-03-09T10:28:04.344958\", \"2020-03-09T10:28:09.470154\", \"2020-03-09T10:28:14.429994\", \"2020-03-09T10:28:19.451575\", \"2020-03-09T10:28:24.462565\", \"2020-03-09T10:28:30.403199\", \"2020-03-09T10:28:34.484629\", \"2020-03-09T10:28:39.516902\", \"2020-03-09T10:28:44.438960\", \"2020-03-09T10:28:49.405351\", \"2020-03-09T10:28:54.424073\", \"2020-03-09T10:28:59.377351\", \"2020-03-09T10:29:04.512007\", \"2020-03-09T10:29:09.402422\", \"2020-03-09T10:29:14.436999\", \"2020-03-09T10:29:19.489654\", \"2020-03-09T10:29:24.520388\", \"2020-03-09T10:29:29.487854\", \"2020-03-09T10:29:34.494792\", \"2020-03-09T10:29:39.426826\", \"2020-03-09T10:29:44.342058\", \"2020-03-09T10:29:49.495327\", \"2020-03-09T10:29:54.490719\", \"2020-03-09T10:29:59.456626\", \"2020-03-09T10:30:04.436055\", \"2020-03-09T10:30:09.484816\", \"2020-03-09T10:30:14.450447\", \"2020-03-09T10:30:19.519882\", \"2020-03-09T10:30:24.589946\", \"2020-03-09T10:30:29.348028\", \"2020-03-09T10:30:34.422601\", \"2020-03-09T10:30:39.350122\", \"2020-03-09T10:30:44.521398\", \"2020-03-09T10:30:49.504460\", \"2020-03-09T10:30:54.390710\", \"2020-03-09T10:30:59.493865\", \"2020-03-09T10:31:04.401280\", \"2020-03-09T10:31:09.572213\", \"2020-03-09T10:31:14.523531\", \"2020-03-09T10:31:19.482136\", \"2020-03-09T10:31:24.481101\", \"2020-03-09T10:31:29.430138\", \"2020-03-09T10:31:34.530196\", \"2020-03-09T10:31:39.491933\", \"2020-03-09T10:31:44.426921\", \"2020-03-09T10:31:49.444042\", \"2020-03-09T10:31:54.431056\", \"2020-03-09T10:31:59.426598\", \"2020-03-09T10:32:05.539978\", \"2020-03-09T10:32:09.434372\", \"2020-03-09T10:32:14.352433\", \"2020-03-09T10:32:19.472168\", \"2020-03-09T10:32:24.374577\", \"2020-03-09T10:32:29.506733\", \"2020-03-09T10:32:34.391707\", \"2020-03-09T10:32:39.471869\", \"2020-03-09T10:32:44.466642\", \"2020-03-09T10:32:49.414490\", \"2020-03-09T10:32:54.428365\", \"2020-03-09T10:33:04.482345\", \"2020-03-09T10:32:59.515523\", \"2020-03-09T10:33:09.479278\", \"2020-03-09T10:33:14.460777\", \"2020-03-09T10:33:19.551205\", \"2020-03-09T10:33:24.500529\", \"2020-03-09T10:33:29.509452\", \"2020-03-09T10:33:34.498565\", \"2020-03-09T10:33:39.462341\", \"2020-03-09T10:33:44.509294\", \"2020-03-09T10:33:49.371000\", \"2020-03-09T10:33:54.483512\", \"2020-03-09T10:33:59.445313\", \"2020-03-09T10:34:04.406939\"], \"y\": [0.8839065833333334, 0.8840480500000001, 0.8818923833333333, 0.8834628666666667, 0.8848764666666666, 0.8830610666666666, 0.88409345, 0.8820352333333333, 0.8839082333333333, 0.8830386499999999, 0.8827810333333334, 0.8850405166666667, 0.8830827333333333, 0.8847754499999999, -0.065951, -0.06536413333333332, -0.0658528, -0.06528253333333334, -0.06542425, -0.06663146666666667, -0.06736496666666666, -0.06614763333333333, -0.0648409, -0.06500561666666667, -0.06486128333333334, -0.0662455, -0.06682324999999999, -0.0657904, -0.06769968333333334, -0.06561308333333334, -0.06628241666666666, -0.06592273333333333, -0.06573956666666667, -0.066729, -0.06537183333333334, -0.24816728333333332, -0.24946631666666666, -0.25002646666666667, -0.24971443333333332, -0.25049313333333334, -0.24824886666666668, -0.25007528333333334, -0.249499, -0.24862141666666665, -0.24810918333333334, -0.24865141666666668, -0.24853578333333332, -0.24966855, -0.25108135, -0.24852686666666665, -0.24860366666666664, -0.24917188333333332, -0.24951473333333332, -0.24870204999999998, -0.24927486666666668, -0.24811761666666668, -0.24694988333333334, -0.25098185, -0.24973896666666665, -0.50094695, -0.5147590166666667, -0.5150413166666666, -0.5002704833333333, -0.5152179, -0.5167609833333333, -0.5139121, -0.5147234666666667, -0.5154133833333333, -0.5154306333333333, -0.5162800166666667, -0.5146123833333334, -0.5152501, -0.5163336333333334, -0.5160482833333334, -0.5162647166666666, -0.2830056833333333, -0.2811160166666667, -0.2828761166666667, -0.2842417666666667, -0.28224618333333334, -0.21720603333333333, -0.21500343333333335, -0.21692053333333333, -0.21558449999999998, -0.21567161666666665, -0.28320748333333334, -0.2829762333333333, -0.28207656666666664, -0.2815236, -0.2821276833333333, -0.28243603333333334, -0.28092890000000004, -0.2817735, -0.28162478333333335, -0.2818062333333333, -0.2824099666666667, -0.3316274166666667, -0.25059898333333336, -0.16539045, -0.08269376666666667, 0.0]}, {\"line\": {\"width\": 1}, \"name\": \"F-8604\", \"type\": \"scatter\", \"x\": [\"2020-03-09T10:56:49.644746\", \"2020-03-09T10:56:54.642380\", \"2020-03-09T10:56:59.545956\", \"2020-03-09T10:57:04.681473\", \"2020-03-09T10:57:09.654995\", \"2020-03-09T10:57:14.614329\", \"2020-03-09T10:57:19.637066\", \"2020-03-09T10:57:24.670922\", \"2020-03-09T10:57:29.699214\", \"2020-03-09T10:57:34.647807\", \"2020-03-09T10:57:39.689541\", \"2020-03-09T10:57:44.595839\", \"2020-03-09T10:57:49.672161\", \"2020-03-09T10:57:54.664379\", \"2020-03-09T10:57:59.594332\", \"2020-03-09T10:58:04.707632\", \"2020-03-09T10:58:09.614195\", \"2020-03-09T10:58:14.588809\", \"2020-03-09T10:58:19.681629\", \"2020-03-09T10:58:24.649182\", \"2020-03-09T10:58:29.550912\", \"2020-03-09T10:58:34.687585\", \"2020-03-09T10:58:39.564990\", \"2020-03-09T10:58:44.526963\", \"2020-03-09T10:58:49.684971\", \"2020-03-09T10:58:54.558857\", \"2020-03-09T10:58:59.549023\", \"2020-03-09T10:59:04.613360\", \"2020-03-09T10:59:09.710614\", \"2020-03-09T10:59:14.645098\", \"2020-03-09T10:59:19.653849\", \"2020-03-09T10:59:24.700294\", \"2020-03-09T10:59:29.640677\", \"2020-03-09T10:59:34.678694\", \"2020-03-09T10:59:39.585706\", \"2020-03-09T10:59:44.673439\", \"2020-03-09T10:59:49.670600\", \"2020-03-09T10:59:54.685309\", \"2020-03-09T10:59:59.669000\", \"2020-03-09T11:00:04.631372\", \"2020-03-09T11:00:09.641897\", \"2020-03-09T11:00:14.706630\", \"2020-03-09T11:00:19.622114\", \"2020-03-09T11:00:24.628543\", \"2020-03-09T11:00:29.709759\", \"2020-03-09T11:00:34.690219\", \"2020-03-09T11:00:39.674111\", \"2020-03-09T11:00:44.646127\", \"2020-03-09T11:00:49.687179\", \"2020-03-09T11:00:54.597359\", \"2020-03-09T11:00:59.640065\", \"2020-03-09T11:01:04.694809\", \"2020-03-09T11:01:09.678989\", \"2020-03-09T11:01:14.603689\", \"2020-03-09T11:01:19.726386\", \"2020-03-09T11:01:24.616598\", \"2020-03-09T11:01:29.558828\", \"2020-03-09T11:01:34.689234\", \"2020-03-09T11:01:39.646076\", \"2020-03-09T11:01:44.654307\", \"2020-03-09T11:01:49.665018\", \"2020-03-09T11:01:54.701941\", \"2020-03-09T11:01:59.651911\", \"2020-03-09T11:02:04.714779\", \"2020-03-09T11:02:09.704366\", \"2020-03-09T11:02:14.682696\", \"2020-03-09T11:02:19.635148\", \"2020-03-09T11:02:24.702497\", \"2020-03-09T11:02:29.685350\", \"2020-03-09T11:02:34.707141\", \"2020-03-09T11:02:39.551544\", \"2020-03-09T11:02:44.691275\", \"2020-03-09T11:02:49.551238\", \"2020-03-09T11:02:54.709869\", \"2020-03-09T11:02:59.665358\", \"2020-03-09T11:03:04.715127\", \"2020-03-09T11:03:09.575124\", \"2020-03-09T11:03:14.636259\", \"2020-03-09T11:03:19.687612\", \"2020-03-09T11:03:24.724851\", \"2020-03-09T11:03:29.642752\", \"2020-03-09T11:03:34.790027\", \"2020-03-09T11:03:39.680936\", \"2020-03-09T11:03:44.746225\", \"2020-03-09T11:03:49.695415\", \"2020-03-09T11:03:54.698358\", \"2020-03-09T11:03:59.707909\", \"2020-03-09T11:04:04.722515\", \"2020-03-09T11:04:09.675955\", \"2020-03-09T11:04:14.683001\", \"2020-03-09T11:04:19.702923\", \"2020-03-09T11:04:24.639789\", \"2020-03-09T11:04:29.643860\", \"2020-03-09T11:04:34.760266\", \"2020-03-09T11:04:39.664993\", \"2020-03-09T11:04:44.676430\", \"2020-03-09T11:04:49.667881\", \"2020-03-09T11:04:54.684491\", \"2020-03-09T11:04:59.700439\", \"2020-03-09T11:05:04.723882\", \"2020-03-09T11:05:09.690988\", \"2020-03-09T11:05:14.699917\", \"2020-03-09T11:05:19.680458\", \"2020-03-09T11:05:24.733451\", \"2020-03-09T11:05:29.625495\", \"2020-03-09T11:05:34.678226\", \"2020-03-09T11:05:39.713333\", \"2020-03-09T11:05:44.702056\", \"2020-03-09T11:05:49.595301\", \"2020-03-09T11:05:55.847939\", \"2020-03-09T11:05:59.723024\", \"2020-03-09T11:06:04.675993\", \"2020-03-09T11:06:09.693927\", \"2020-03-09T11:06:14.768803\", \"2020-03-09T11:06:19.640015\", \"2020-03-09T11:06:24.608019\", \"2020-03-09T11:06:29.692301\", \"2020-03-09T11:06:34.586827\", \"2020-03-09T11:06:39.719080\", \"2020-03-09T11:06:44.623336\", \"2020-03-09T11:06:49.665350\", \"2020-03-09T11:06:54.585710\", \"2020-03-09T11:06:59.686702\", \"2020-03-09T11:07:04.738038\", \"2020-03-09T11:07:09.797487\", \"2020-03-09T11:07:14.725120\", \"2020-03-09T11:07:19.607528\", \"2020-03-09T11:07:24.665989\", \"2020-03-09T11:07:29.736589\", \"2020-03-09T11:07:34.726997\", \"2020-03-09T11:07:39.635289\", \"2020-03-09T11:07:44.707009\", \"2020-03-09T11:07:49.614934\", \"2020-03-09T11:07:55.167882\", \"2020-03-09T11:07:59.599906\", \"2020-03-09T11:08:04.605624\", \"2020-03-09T11:08:09.748525\", \"2020-03-09T11:08:14.710797\", \"2020-03-09T11:08:19.733852\", \"2020-03-09T11:08:24.672378\", \"2020-03-09T11:08:29.641908\", \"2020-03-09T11:08:34.734073\", \"2020-03-09T11:08:39.747091\", \"2020-03-09T11:08:44.763332\", \"2020-03-09T11:08:49.691221\", \"2020-03-09T11:08:54.727119\", \"2020-03-09T11:08:59.730758\", \"2020-03-09T11:09:04.748252\", \"2020-03-09T11:09:09.686697\", \"2020-03-09T11:09:14.708843\", \"2020-03-09T11:09:19.708034\", \"2020-03-09T11:09:24.722313\", \"2020-03-09T11:09:29.694354\", \"2020-03-09T11:09:34.600859\", \"2020-03-09T11:09:39.780643\", \"2020-03-09T11:09:44.695603\", \"2020-03-09T11:09:49.666118\", \"2020-03-09T11:09:55.183200\", \"2020-03-09T11:09:59.632972\", \"2020-03-09T11:10:04.656045\", \"2020-03-09T11:10:09.643793\", \"2020-03-09T11:10:14.652069\", \"2020-03-09T11:10:19.677152\", \"2020-03-09T11:10:24.607335\", \"2020-03-09T11:10:29.733344\", \"2020-03-09T11:10:34.766611\", \"2020-03-09T11:10:39.743722\", \"2020-03-09T11:10:44.769701\", \"2020-03-09T11:10:49.593426\", \"2020-03-09T11:10:54.778461\", \"2020-03-09T11:10:59.767591\", \"2020-03-09T11:11:04.763557\", \"2020-03-09T11:11:09.605154\", \"2020-03-09T11:11:14.667105\", \"2020-03-09T11:11:19.722232\", \"2020-03-09T11:11:24.620855\", \"2020-03-09T11:11:29.816394\", \"2020-03-09T11:11:34.756824\", \"2020-03-09T11:11:39.718293\", \"2020-03-09T11:11:44.679827\", \"2020-03-09T11:11:49.624107\", \"2020-03-09T11:11:54.708819\", \"2020-03-09T11:11:59.692392\", \"2020-03-09T11:12:04.621493\", \"2020-03-09T11:12:09.653939\", \"2020-03-09T11:12:14.704885\", \"2020-03-09T11:12:29.711437\", \"2020-03-09T11:12:34.759745\", \"2020-03-09T11:12:39.781531\"], \"y\": [-1.6522797500000002, -1.6523191833333333, -1.65392625, -1.6516676333333333, -1.6521089333333334, -1.6527867, -1.6524077499999998, -1.6518434833333333, -1.6513719500000001, -1.6522287333333334, -1.6515331666666666, -1.6530948666666667, -1.6518228333333334, -1.6519525333333334, -1.6531199833333334, -1.65123165, -1.6527889333333334, -1.6532120333333333, -1.6516650333333334, -1.6522058166666667, -1.65384365, -1.6515657666666668, -1.7202756833333335, -1.7209094666666667, -1.718276, -1.7203779, -1.7205418, -1.7194695166666667, -1.7178486166666667, -1.71894055, -1.7187947, -1.7180206166666667, -1.7190142333333334, -1.7183806166666666, -1.7199304166666667, -1.7184682, -1.7185155166666666, -1.7182703666666665, -1.5018755166666666, -1.50250265, -1.5023272333333333, -1.50124835, -1.50265695, -1.5025498, -1.5011961999999999, -1.5015218666666668, -1.5017903333333333, -1.5022567333333332, -1.5015725333333334, -1.5030695333333335, -1.5023577666666665, -1.5014453666666665, -1.5017090333333334, -1.5029640333333334, -1.5009190833333332, -1.5027488833333333, -1.33704505, -1.3348716166666668, -1.3355909166666666, -1.3354537333333334, -1.3352752166666666, -1.3346598333333333, -1.3354936666666668, -1.3344458666666665, -1.3346194166666665, -1.3349805833333332, -1.33577305, -1.3346505666666666, -1.3016030166666668, -1.3012398333333333, -1.3038331166666666, -1.3015042666666665, -1.3038382166666667, -1.3011943666666668, -1.3019362166666668, -2.2011067333333334, -2.18677345, -2.2024212000000003, -2.2015653166666667, -2.2009446666666665, -2.2023129833333335, -2.1998583999999997, -2.201676583333333, -2.200588433333333, -2.2014352666666666, -2.2013862166666667, -2.2012270333333332, -2.2009836000000003, -2.2017596000000004, -2.201642166666667, -2.2013101333333336, -2.2023623666666667, -2.202294516666667, -2.200354416666667, -2.2019423, -2.2017516833333333, -2.201894166666667, -2.201617333333333, -2.2013515333333333, -1.08429415, -1.0848423833333334, -1.0846935666666666, -1.0850178833333333, -1.0841346666666667, -1.0859339333333333, -1.0850550833333334, -1.0844699666666666, -1.0846579166666668, -1.0864371666666666, -1.0822265333333334, -1.0843084500000002, -1.0850923, -1.0847934, -1.0168788, -1.0190252666666668, -1.0195585333333335, -1.0181538333333333, -1.0199117333333334, -1.0177075166666667, -1.0193032499999999, -1.0186030166666666, -1.01993035, -1.0182471499999999, -1.01739155, -1.0164007333333334, -1.01760685, -1.0195667166666667, -1.0185923666666665, -1.0174157, -1.0175755666666666, -1.0191040333333334, -1.0179087, -1.0194432833333333, -0.72689415, -0.7196937499999999, -0.7362651166666667, -0.7338834333333334, -0.7345122333333334, -0.7341279833333334, -0.73515255, -0.7356603833333334, -0.7341243, -0.7339073333333332, -0.73363665, -0.7348385000000001, -0.3675735333333333, -0.3675128833333333, -0.3672213166666667, -0.3682472333333333, -0.3678781333333333, -0.48455828333333334, -0.5009869666666666, -0.48478628333333335, -0.48634453333333333, -0.5000148, -0.48476546666666664, -0.48525688333333333, -0.4933055166666667, -0.48580931666666666, -0.7687581, -0.7689623, -0.7688243666666666, -0.7684063166666667, -0.7695699333333333, -0.7674697833333333, -0.7669153333333333, -0.7672968166666667, -0.7668638333333334, -0.76980175, -0.7667178333333333, -0.666899, -0.6669662333333334, -0.6696062833333334, -0.6685737666666667, -0.6676549833333334, -0.9360112666666667, -0.9327522833333333, -0.9337451166666667, -0.9343872999999999, -0.9183617333333333, -0.8359570666666667, -0.7512118666666667, -0.6681523166666667, -0.5860006333333333, -0.5021265333333333, -0.4179441, -0.16783489999999998, -0.08369643333333333, 0.0]}, {\"line\": {\"width\": 1}, \"name\": \"F-8608\", \"type\": \"scatter\", \"x\": [\"2020-03-09T10:31:49.444042\", \"2020-03-09T10:31:54.431056\", \"2020-03-09T10:31:59.426598\", \"2020-03-09T10:32:05.539978\", \"2020-03-09T10:32:09.434372\", \"2020-03-09T10:32:14.352433\", \"2020-03-09T10:32:19.472168\", \"2020-03-09T10:32:24.374577\", \"2020-03-09T10:32:29.506733\", \"2020-03-09T10:32:34.391707\", \"2020-03-09T10:32:39.471869\", \"2020-03-09T10:32:44.466642\", \"2020-03-09T10:32:49.414490\", \"2020-03-09T10:32:54.428365\", \"2020-03-09T10:33:04.482345\", \"2020-03-09T10:32:59.515523\", \"2020-03-09T10:33:09.479278\", \"2020-03-09T10:33:14.460777\", \"2020-03-09T10:33:19.551205\", \"2020-03-09T10:33:24.500529\", \"2020-03-09T10:33:29.509452\", \"2020-03-09T10:33:34.498565\", \"2020-03-09T10:33:39.462341\", \"2020-03-09T10:33:44.509294\", \"2020-03-09T10:33:49.371000\", \"2020-03-09T10:33:54.483512\", \"2020-03-09T10:33:59.445313\", \"2020-03-09T10:34:04.406939\", \"2020-03-09T10:34:09.460020\", \"2020-03-09T10:34:14.497376\", \"2020-03-09T10:34:19.502885\", \"2020-03-09T10:34:24.534528\", \"2020-03-09T10:34:29.430630\", \"2020-03-09T10:34:34.402701\", \"2020-03-09T10:34:39.492890\", \"2020-03-09T10:34:44.455985\", \"2020-03-09T10:34:49.504166\", \"2020-03-09T10:34:54.550877\", \"2020-03-09T10:34:59.509475\", \"2020-03-09T10:35:04.389158\", \"2020-03-09T10:35:09.473800\", \"2020-03-09T10:35:14.392537\", \"2020-03-09T10:35:19.528890\", \"2020-03-09T10:35:24.571066\", \"2020-03-09T10:35:29.496362\", \"2020-03-09T10:35:34.545601\", \"2020-03-09T10:35:39.513254\", \"2020-03-09T10:35:44.532976\", \"2020-03-09T10:35:49.409106\", \"2020-03-09T10:35:54.518164\", \"2020-03-09T10:35:59.381778\", \"2020-03-09T10:36:04.461262\", \"2020-03-09T10:36:09.475548\", \"2020-03-09T10:36:15.030302\", \"2020-03-09T10:36:19.466360\", \"2020-03-09T10:36:24.538320\", \"2020-03-09T10:36:29.453070\", \"2020-03-09T10:36:34.552042\", \"2020-03-09T10:36:39.482547\", \"2020-03-09T10:36:44.549298\", \"2020-03-09T10:36:49.473626\", \"2020-03-09T10:36:54.538280\", \"2020-03-09T10:36:59.435723\", \"2020-03-09T10:37:04.435124\", \"2020-03-09T10:37:09.540953\", \"2020-03-09T10:37:14.428178\", \"2020-03-09T10:37:19.519424\", \"2020-03-09T10:37:24.461444\", \"2020-03-09T10:37:29.551975\", \"2020-03-09T10:37:34.575593\", \"2020-03-09T10:37:39.510159\", \"2020-03-09T10:37:44.489035\", \"2020-03-09T10:37:49.487865\", \"2020-03-09T10:37:54.562513\", \"2020-03-09T10:37:59.543999\", \"2020-03-09T10:38:04.450940\", \"2020-03-09T10:38:09.452235\", \"2020-03-09T10:38:14.593156\", \"2020-03-09T10:38:19.393646\", \"2020-03-09T10:38:24.518663\", \"2020-03-09T10:38:29.520894\", \"2020-03-09T10:38:34.536305\", \"2020-03-09T10:38:39.537215\", \"2020-03-09T10:38:44.542126\", \"2020-03-09T10:38:51.592433\", \"2020-03-09T10:38:54.562938\", \"2020-03-09T10:38:59.531068\", \"2020-03-09T10:39:04.483100\", \"2020-03-09T10:39:09.494768\", \"2020-03-09T10:39:14.524487\", \"2020-03-09T10:39:19.578025\", \"2020-03-09T10:39:24.589547\", \"2020-03-09T10:39:29.562693\", \"2020-03-09T10:39:34.539148\", \"2020-03-09T10:39:39.628393\", \"2020-03-09T10:39:44.462056\", \"2020-03-09T10:39:49.508817\", \"2020-03-09T10:39:54.444476\", \"2020-03-09T10:39:59.555924\", \"2020-03-09T10:40:04.418459\", \"2020-03-09T10:40:09.606364\", \"2020-03-09T10:40:14.561856\", \"2020-03-09T10:40:20.428655\", \"2020-03-09T10:40:24.431342\", \"2020-03-09T10:40:29.593172\", \"2020-03-09T10:40:34.572938\", \"2020-03-09T10:40:39.508716\", \"2020-03-09T10:40:44.465571\", \"2020-03-09T10:40:49.534259\", \"2020-03-09T10:40:54.613300\", \"2020-03-09T10:40:59.571750\", \"2020-03-09T10:41:04.528352\", \"2020-03-09T10:41:09.494079\", \"2020-03-09T10:41:14.451268\", \"2020-03-09T10:41:19.503466\", \"2020-03-09T10:41:24.549025\", \"2020-03-09T10:41:29.538290\", \"2020-03-09T10:41:34.514457\", \"2020-03-09T10:41:39.587023\", \"2020-03-09T10:41:44.456852\", \"2020-03-09T10:41:49.520308\", \"2020-03-09T10:41:54.473523\", \"2020-03-09T10:41:59.526664\", \"2020-03-09T10:42:04.537185\", \"2020-03-09T10:42:09.565068\", \"2020-03-09T10:42:14.626284\", \"2020-03-09T10:42:19.525324\", \"2020-03-09T10:42:24.528008\", \"2020-03-09T10:42:29.601106\", \"2020-03-09T10:42:34.417630\", \"2020-03-09T10:42:40.926095\", \"2020-03-09T10:42:46.099852\", \"2020-03-09T10:42:49.580982\", \"2020-03-09T10:42:54.598209\", \"2020-03-09T10:42:59.577924\", \"2020-03-09T10:43:04.575703\", \"2020-03-09T10:43:09.504695\"], \"y\": [-1.66767755, -1.6678939833333333, -1.6679682833333334, -1.6660786166666666, -1.6678387166666666, -1.6692043666666665, -1.6672087833333333, -1.6688353, -1.6666327, -1.6685498, -1.6672137666666667, -1.6673008833333334, -2.051503416666667, -2.0512721666666667, -2.0503725, -2.0498195333333333, -2.050423616666667, -2.0507319666666666, -2.049224833333333, -2.0500694333333334, -2.0499207166666666, -2.0501021666666666, -2.0507059, -2.04992335, -2.05222825, -2.05035305, -2.0509897, -2.1516292666666668, -2.1507445833333336, -2.1501219833333334, -2.150030166666667, -2.1495027833333333, -2.1512344166666666, -2.1516998999999997, -2.15019675, -2.1508118333333335, -2.150008816666667, -2.1492303, -2.149920333333333, -1.5019256166666668, -1.5005149166666667, -1.5018692999999999, -1.4995967499999998, -1.4988938166666665, -1.5001388833333331, -1.4993182333333333, -1.4998573499999999, -1.4995286499999998, -1.5015931500000002, -1.4997755166666666, -1.5020486166666667, -1.5007238833333332, -1.5004857833333332, -1.5079065500000002, -1.5006389166666667, -1.4994395833333334, -1.5008604166666666, -1.4992108833333333, -1.5003691333333333, -1.4992566166666668, -1.53385115, -1.5327735833333334, -1.5344828666666668, -1.53449285, -1.5327290333333332, -1.5346086166666666, -1.53308785, -1.5340541833333332, -1.5325453333333334, -1.5321517, -1.5332422666666665, -1.5335943333333333, -1.5336138333333333, -1.5323697, -1.5326782666666667, -1.5342292499999999, -0.8008743333333334, -0.79852565, -0.8018508166666667, -0.7997672, -0.7997300166666667, -0.7994731666666667, -0.799458, -0.7993761500000001, -0.7985377, -0.7990292833333333, -0.79956045, -0.8003599166666666, -0.80016545, -0.7996701333333333, -0.7987778333333334, -0.7985858, -0.7990333666666667, -0.7994257833333334, -0.7979383666666667, -0.80071065, -0.7999313, -0.9176703166666667, -0.91581285, -0.9181039333333333, -0.9149721833333333, -0.9157139833333333, -0.917934, -0.9178892166666667, -0.91519205, -0.9155292833333333, -0.91659965, -0.9173187333333334, -0.9161739333333333, -0.9148565833333334, -0.9155490833333333, -0.93293905, -0.9168436, -0.8175571166666666, -0.81668715, -0.8159278333333333, -0.81610675, -0.8165039666666666, -0.8152945333333333, -0.81746405, -0.81640645, -0.8171862, -0.54963385, -0.5494585, -0.5489937833333334, -0.5479735166666667, -0.5496561833333333, -0.54961145, -0.5150598166666667, -0.5181177499999999, -0.47631, -0.39008071666666666, -0.3320618833333333, -0.24844143333333332, -0.16544618333333333, -0.08214986666666667, 0.0]}, {\"line\": {\"width\": 1}, \"name\": \"F-8605\", \"type\": \"scatter\", \"x\": [\"2020-03-09T10:34:04.406939\", \"2020-03-09T10:34:09.460020\", \"2020-03-09T10:34:14.497376\", \"2020-03-09T10:34:19.502885\", \"2020-03-09T10:34:24.534528\", \"2020-03-09T10:34:29.430630\", \"2020-03-09T10:34:34.402701\", \"2020-03-09T10:34:39.492890\", \"2020-03-09T10:34:44.455985\", \"2020-03-09T10:34:49.504166\", \"2020-03-09T10:34:54.550877\", \"2020-03-09T10:34:59.509475\", \"2020-03-09T10:35:04.389158\", \"2020-03-09T10:35:09.473800\", \"2020-03-09T10:35:14.392537\", \"2020-03-09T10:35:19.528890\", \"2020-03-09T10:35:24.571066\", \"2020-03-09T10:35:29.496362\", \"2020-03-09T10:35:34.545601\", \"2020-03-09T10:35:39.513254\", \"2020-03-09T10:35:44.532976\", \"2020-03-09T10:35:49.409106\", \"2020-03-09T10:35:54.518164\", \"2020-03-09T10:35:59.381778\", \"2020-03-09T10:36:04.461262\", \"2020-03-09T10:36:09.475548\", \"2020-03-09T10:36:15.030302\", \"2020-03-09T10:36:19.466360\", \"2020-03-09T10:36:24.538320\", \"2020-03-09T10:36:29.453070\", \"2020-03-09T10:36:34.552042\", \"2020-03-09T10:36:39.482547\", \"2020-03-09T10:36:44.549298\", \"2020-03-09T10:36:49.473626\", \"2020-03-09T10:36:54.538280\", \"2020-03-09T10:36:59.435723\", \"2020-03-09T10:37:04.435124\", \"2020-03-09T10:37:09.540953\", \"2020-03-09T10:37:14.428178\", \"2020-03-09T10:37:19.519424\", \"2020-03-09T10:37:24.461444\", \"2020-03-09T10:37:29.551975\", \"2020-03-09T10:37:34.575593\", \"2020-03-09T10:37:39.510159\", \"2020-03-09T10:37:44.489035\", \"2020-03-09T10:37:49.487865\", \"2020-03-09T10:37:54.562513\", \"2020-03-09T10:37:59.543999\", \"2020-03-09T10:38:04.450940\", \"2020-03-09T10:38:09.452235\", \"2020-03-09T10:38:14.593156\", \"2020-03-09T10:38:19.393646\", \"2020-03-09T10:38:24.518663\", \"2020-03-09T10:38:29.520894\", \"2020-03-09T10:38:34.536305\", \"2020-03-09T10:38:39.537215\", \"2020-03-09T10:38:44.542126\", \"2020-03-09T10:38:51.592433\", \"2020-03-09T10:38:54.562938\", \"2020-03-09T10:38:59.531068\", \"2020-03-09T10:39:04.483100\", \"2020-03-09T10:39:09.494768\", \"2020-03-09T10:39:14.524487\", \"2020-03-09T10:39:19.578025\", \"2020-03-09T10:39:24.589547\", \"2020-03-09T10:39:29.562693\", \"2020-03-09T10:39:34.539148\", \"2020-03-09T10:39:39.628393\", \"2020-03-09T10:39:44.462056\", \"2020-03-09T10:39:49.508817\", \"2020-03-09T10:39:54.444476\", \"2020-03-09T10:39:59.555924\", \"2020-03-09T10:40:04.418459\", \"2020-03-09T10:40:09.606364\", \"2020-03-09T10:40:14.561856\", \"2020-03-09T10:40:20.428655\", \"2020-03-09T10:40:24.431342\", \"2020-03-09T10:40:29.593172\", \"2020-03-09T10:40:34.572938\", \"2020-03-09T10:40:39.508716\", \"2020-03-09T10:40:44.465571\", \"2020-03-09T10:40:49.534259\", \"2020-03-09T10:40:54.613300\", \"2020-03-09T10:40:59.571750\", \"2020-03-09T10:41:04.528352\", \"2020-03-09T10:41:09.494079\", \"2020-03-09T10:41:14.451268\", \"2020-03-09T10:41:19.503466\", \"2020-03-09T10:41:24.549025\", \"2020-03-09T10:41:29.538290\", \"2020-03-09T10:41:34.514457\", \"2020-03-09T10:41:39.587023\", \"2020-03-09T10:41:44.456852\", \"2020-03-09T10:41:49.520308\", \"2020-03-09T10:41:54.473523\", \"2020-03-09T10:41:59.526664\", \"2020-03-09T10:42:04.537185\", \"2020-03-09T10:42:09.565068\", \"2020-03-09T10:42:14.626284\", \"2020-03-09T10:42:19.525324\", \"2020-03-09T10:42:24.528008\", \"2020-03-09T10:42:29.601106\", \"2020-03-09T10:42:34.417630\", \"2020-03-09T10:42:40.926095\", \"2020-03-09T10:42:46.099852\", \"2020-03-09T10:42:49.580982\", \"2020-03-09T10:42:54.598209\", \"2020-03-09T10:42:59.577924\", \"2020-03-09T10:43:04.575703\", \"2020-03-09T10:43:09.504695\", \"2020-03-09T10:43:14.528001\", \"2020-03-09T10:43:19.444530\", \"2020-03-09T10:43:24.666443\", \"2020-03-09T10:43:29.444923\", \"2020-03-09T10:43:34.509840\", \"2020-03-09T10:43:39.508321\", \"2020-03-09T10:43:44.573283\", \"2020-03-09T10:43:49.594041\", \"2020-03-09T10:43:54.600378\", \"2020-03-09T10:43:59.495523\", \"2020-03-09T10:44:04.523464\", \"2020-03-09T10:44:09.530148\", \"2020-03-09T10:44:14.456261\", \"2020-03-09T10:44:19.545580\", \"2020-03-09T10:44:24.604311\", \"2020-03-09T10:44:29.531821\", \"2020-03-09T10:44:34.455645\", \"2020-03-09T10:44:39.595453\", \"2020-03-09T10:44:44.620374\", \"2020-03-09T10:44:49.549761\", \"2020-03-09T10:44:54.524794\", \"2020-03-09T10:44:59.483967\", \"2020-03-09T10:45:04.569547\", \"2020-03-09T10:45:09.563125\", \"2020-03-09T10:45:16.617667\", \"2020-03-09T10:45:19.606759\", \"2020-03-09T10:45:24.597661\"], \"y\": [2.213487966666667, 2.21437265, 2.21499525, 2.215087066666667, 2.21561445, 2.2138828166666666, 2.213417333333333, 2.214920483333333, 2.2143054, 2.215108416666667, 2.215886933333333, 2.2151969, 2.2131916166666668, 2.2146023166666664, 2.2132479333333333, 2.2155204833333335, 2.216223416666667, 2.498311683333333, 2.4991323333333333, 2.498593216666667, 2.4989219166666667, 2.513524083333333, 2.49867505, 2.5130686166666667, 2.5143933499999997, 2.497964783333333, 2.507210683333333, 2.5144783166666667, 2.4990109833333336, 2.514256816666667, 2.4992396833333337, 2.5147481, 2.49919395, 2.664599416666667, 2.6656769833333334, 2.6639677, 2.663957716666667, 2.6657215333333335, 2.6638419499999997, 2.6653627166666665, 2.6643963833333335, 2.6659052333333335, 2.6662988666666667, 2.5485416333333335, 2.5481895666666667, 2.5481700666666667, 2.5494142, 2.5491056333333333, 2.54755465, 2.5475762333333334, 2.549924916666667, 2.54659975, 2.5486833666666664, 2.54872055, 2.965644066666667, 2.965659233333333, 2.9657410833333335, 2.9665795333333334, 2.96608795, 1.7655567833333334, 1.7647573166666668, 1.7649517833333335, 1.7654471, 1.7663394, 1.7665314333333333, 1.7660838666666665, 1.7656914499999998, 1.7671788666666666, 1.7644065833333333, 1.7651859333333335, 1.7641135833333335, 1.76597105, 1.7636799666666667, 1.7668117166666666, 1.7660699166666667, 0.9638498999999999, 0.9638946833333333, 0.96659185, 0.9662546166666667, 0.96518425, 0.9644651666666667, 0.9656099666666667, 0.9669273166666666, 0.9662348166666667, 0.9488448500000001, 0.9649403, 0.9642267833333332, 0.9650967500000001, 0.9658560666666667, 0.96567715, 0.9652799333333333, 0.3831560333333333, 0.38098651666666666, 0.3820441166666667, 0.3812643666666667, 0.38215005, 0.3823254, 0.3827901166666667, 0.38381038333333334, 0.3821277166666667, -0.23449421666666667, -0.23327591666666667, -0.23633384999999998, -0.22785943333333333, -0.22496348333333333, -0.23361131666666665, -0.09999086666666666, -0.10032895, -0.10036596666666667, -0.10154943333333333, -0.13449433333333335, -0.13588551666666668, -0.13218696666666668, -0.13587896666666666, -0.13479701666666666, -0.13482233333333332, -0.13373963333333333, -0.5000603333333333, -0.49995471666666663, -0.5017023, -0.5012366166666667, -0.5011252166666667, -0.6190233333333333, -0.6175346833333334, -0.6165558333333333, -0.617764, -0.6190336, -0.6167034666666668, -0.6162881166666666, -0.5841316666666666, -0.50121445, -0.41856156666666666, -0.3338019, -0.2505756, -0.1329999, -0.0831817, 0.0]}],\n",
       "                        {\"template\": {\"data\": {\"bar\": [{\"error_x\": {\"color\": \"#2a3f5f\"}, \"error_y\": {\"color\": \"#2a3f5f\"}, \"marker\": {\"line\": {\"color\": \"white\", \"width\": 0.5}}, \"type\": \"bar\"}], \"barpolar\": [{\"marker\": {\"line\": {\"color\": \"white\", \"width\": 0.5}}, \"type\": \"barpolar\"}], \"carpet\": [{\"aaxis\": {\"endlinecolor\": \"#2a3f5f\", \"gridcolor\": \"#C8D4E3\", \"linecolor\": \"#C8D4E3\", \"minorgridcolor\": \"#C8D4E3\", \"startlinecolor\": \"#2a3f5f\"}, \"baxis\": {\"endlinecolor\": \"#2a3f5f\", \"gridcolor\": \"#C8D4E3\", \"linecolor\": \"#C8D4E3\", \"minorgridcolor\": \"#C8D4E3\", \"startlinecolor\": \"#2a3f5f\"}, \"type\": \"carpet\"}], \"choropleth\": [{\"colorbar\": {\"outlinewidth\": 0, \"ticks\": \"\"}, \"type\": \"choropleth\"}], \"contour\": [{\"colorbar\": {\"outlinewidth\": 0, \"ticks\": \"\"}, \"colorscale\": [[0.0, \"#0d0887\"], [0.1111111111111111, \"#46039f\"], [0.2222222222222222, \"#7201a8\"], [0.3333333333333333, \"#9c179e\"], [0.4444444444444444, \"#bd3786\"], [0.5555555555555556, \"#d8576b\"], [0.6666666666666666, \"#ed7953\"], [0.7777777777777778, \"#fb9f3a\"], [0.8888888888888888, \"#fdca26\"], [1.0, \"#f0f921\"]], \"type\": \"contour\"}], \"contourcarpet\": [{\"colorbar\": {\"outlinewidth\": 0, \"ticks\": \"\"}, \"type\": \"contourcarpet\"}], \"heatmap\": [{\"colorbar\": {\"outlinewidth\": 0, \"ticks\": \"\"}, \"colorscale\": [[0.0, \"#0d0887\"], [0.1111111111111111, \"#46039f\"], [0.2222222222222222, \"#7201a8\"], [0.3333333333333333, \"#9c179e\"], [0.4444444444444444, \"#bd3786\"], [0.5555555555555556, \"#d8576b\"], [0.6666666666666666, \"#ed7953\"], [0.7777777777777778, \"#fb9f3a\"], [0.8888888888888888, \"#fdca26\"], [1.0, \"#f0f921\"]], \"type\": \"heatmap\"}], \"heatmapgl\": [{\"colorbar\": {\"outlinewidth\": 0, \"ticks\": \"\"}, \"colorscale\": [[0.0, \"#0d0887\"], [0.1111111111111111, \"#46039f\"], [0.2222222222222222, \"#7201a8\"], [0.3333333333333333, \"#9c179e\"], [0.4444444444444444, \"#bd3786\"], [0.5555555555555556, \"#d8576b\"], [0.6666666666666666, \"#ed7953\"], [0.7777777777777778, \"#fb9f3a\"], [0.8888888888888888, \"#fdca26\"], [1.0, \"#f0f921\"]], \"type\": \"heatmapgl\"}], \"histogram\": [{\"marker\": {\"colorbar\": {\"outlinewidth\": 0, \"ticks\": \"\"}}, \"type\": \"histogram\"}], \"histogram2d\": [{\"colorbar\": {\"outlinewidth\": 0, \"ticks\": \"\"}, \"colorscale\": [[0.0, \"#0d0887\"], [0.1111111111111111, \"#46039f\"], [0.2222222222222222, \"#7201a8\"], [0.3333333333333333, \"#9c179e\"], [0.4444444444444444, \"#bd3786\"], [0.5555555555555556, \"#d8576b\"], [0.6666666666666666, \"#ed7953\"], [0.7777777777777778, \"#fb9f3a\"], [0.8888888888888888, \"#fdca26\"], [1.0, \"#f0f921\"]], \"type\": \"histogram2d\"}], \"histogram2dcontour\": [{\"colorbar\": {\"outlinewidth\": 0, \"ticks\": \"\"}, \"colorscale\": [[0.0, \"#0d0887\"], [0.1111111111111111, \"#46039f\"], [0.2222222222222222, \"#7201a8\"], [0.3333333333333333, \"#9c179e\"], [0.4444444444444444, \"#bd3786\"], [0.5555555555555556, \"#d8576b\"], [0.6666666666666666, \"#ed7953\"], [0.7777777777777778, \"#fb9f3a\"], [0.8888888888888888, \"#fdca26\"], [1.0, \"#f0f921\"]], \"type\": \"histogram2dcontour\"}], \"mesh3d\": [{\"colorbar\": {\"outlinewidth\": 0, \"ticks\": \"\"}, \"type\": \"mesh3d\"}], \"parcoords\": [{\"line\": {\"colorbar\": {\"outlinewidth\": 0, \"ticks\": \"\"}}, \"type\": \"parcoords\"}], \"pie\": [{\"automargin\": true, \"type\": \"pie\"}], \"scatter\": [{\"marker\": {\"colorbar\": {\"outlinewidth\": 0, \"ticks\": \"\"}}, \"type\": \"scatter\"}], \"scatter3d\": [{\"line\": {\"colorbar\": {\"outlinewidth\": 0, \"ticks\": \"\"}}, \"marker\": {\"colorbar\": {\"outlinewidth\": 0, \"ticks\": \"\"}}, \"type\": \"scatter3d\"}], \"scattercarpet\": [{\"marker\": {\"colorbar\": {\"outlinewidth\": 0, \"ticks\": \"\"}}, \"type\": \"scattercarpet\"}], \"scattergeo\": [{\"marker\": {\"colorbar\": {\"outlinewidth\": 0, \"ticks\": \"\"}}, \"type\": \"scattergeo\"}], \"scattergl\": [{\"marker\": {\"colorbar\": {\"outlinewidth\": 0, \"ticks\": \"\"}}, \"type\": \"scattergl\"}], \"scattermapbox\": [{\"marker\": {\"colorbar\": {\"outlinewidth\": 0, \"ticks\": \"\"}}, \"type\": \"scattermapbox\"}], \"scatterpolar\": [{\"marker\": {\"colorbar\": {\"outlinewidth\": 0, \"ticks\": \"\"}}, \"type\": \"scatterpolar\"}], \"scatterpolargl\": [{\"marker\": {\"colorbar\": {\"outlinewidth\": 0, \"ticks\": \"\"}}, \"type\": \"scatterpolargl\"}], \"scatterternary\": [{\"marker\": {\"colorbar\": {\"outlinewidth\": 0, \"ticks\": \"\"}}, \"type\": \"scatterternary\"}], \"surface\": [{\"colorbar\": {\"outlinewidth\": 0, \"ticks\": \"\"}, \"colorscale\": [[0.0, \"#0d0887\"], [0.1111111111111111, \"#46039f\"], [0.2222222222222222, \"#7201a8\"], [0.3333333333333333, \"#9c179e\"], [0.4444444444444444, \"#bd3786\"], [0.5555555555555556, \"#d8576b\"], [0.6666666666666666, \"#ed7953\"], [0.7777777777777778, \"#fb9f3a\"], [0.8888888888888888, \"#fdca26\"], [1.0, \"#f0f921\"]], \"type\": \"surface\"}], \"table\": [{\"cells\": {\"fill\": {\"color\": \"#EBF0F8\"}, \"line\": {\"color\": \"white\"}}, \"header\": {\"fill\": {\"color\": \"#C8D4E3\"}, \"line\": {\"color\": \"white\"}}, \"type\": \"table\"}]}, \"layout\": {\"annotationdefaults\": {\"arrowcolor\": \"#2a3f5f\", \"arrowhead\": 0, \"arrowwidth\": 1}, \"coloraxis\": {\"colorbar\": {\"outlinewidth\": 0, \"ticks\": \"\"}}, \"colorscale\": {\"diverging\": [[0, \"#8e0152\"], [0.1, \"#c51b7d\"], [0.2, \"#de77ae\"], [0.3, \"#f1b6da\"], [0.4, \"#fde0ef\"], [0.5, \"#f7f7f7\"], [0.6, \"#e6f5d0\"], [0.7, \"#b8e186\"], [0.8, \"#7fbc41\"], [0.9, \"#4d9221\"], [1, \"#276419\"]], \"sequential\": [[0.0, \"#0d0887\"], [0.1111111111111111, \"#46039f\"], [0.2222222222222222, \"#7201a8\"], [0.3333333333333333, \"#9c179e\"], [0.4444444444444444, \"#bd3786\"], [0.5555555555555556, \"#d8576b\"], [0.6666666666666666, \"#ed7953\"], [0.7777777777777778, \"#fb9f3a\"], [0.8888888888888888, \"#fdca26\"], [1.0, \"#f0f921\"]], \"sequentialminus\": [[0.0, \"#0d0887\"], [0.1111111111111111, \"#46039f\"], [0.2222222222222222, \"#7201a8\"], [0.3333333333333333, \"#9c179e\"], [0.4444444444444444, \"#bd3786\"], [0.5555555555555556, \"#d8576b\"], [0.6666666666666666, \"#ed7953\"], [0.7777777777777778, \"#fb9f3a\"], [0.8888888888888888, \"#fdca26\"], [1.0, \"#f0f921\"]]}, \"colorway\": [\"#636efa\", \"#EF553B\", \"#00cc96\", \"#ab63fa\", \"#FFA15A\", \"#19d3f3\", \"#FF6692\", \"#B6E880\", \"#FF97FF\", \"#FECB52\"], \"font\": {\"color\": \"#2a3f5f\"}, \"geo\": {\"bgcolor\": \"white\", \"lakecolor\": \"white\", \"landcolor\": \"white\", \"showlakes\": true, \"showland\": true, \"subunitcolor\": \"#C8D4E3\"}, \"hoverlabel\": {\"align\": \"left\"}, \"hovermode\": \"closest\", \"mapbox\": {\"style\": \"light\"}, \"paper_bgcolor\": \"white\", \"plot_bgcolor\": \"white\", \"polar\": {\"angularaxis\": {\"gridcolor\": \"#EBF0F8\", \"linecolor\": \"#EBF0F8\", \"ticks\": \"\"}, \"bgcolor\": \"white\", \"radialaxis\": {\"gridcolor\": \"#EBF0F8\", \"linecolor\": \"#EBF0F8\", \"ticks\": \"\"}}, \"scene\": {\"xaxis\": {\"backgroundcolor\": \"white\", \"gridcolor\": \"#DFE8F3\", \"gridwidth\": 2, \"linecolor\": \"#EBF0F8\", \"showbackground\": true, \"ticks\": \"\", \"zerolinecolor\": \"#EBF0F8\"}, \"yaxis\": {\"backgroundcolor\": \"white\", \"gridcolor\": \"#DFE8F3\", \"gridwidth\": 2, \"linecolor\": \"#EBF0F8\", \"showbackground\": true, \"ticks\": \"\", \"zerolinecolor\": \"#EBF0F8\"}, \"zaxis\": {\"backgroundcolor\": \"white\", \"gridcolor\": \"#DFE8F3\", \"gridwidth\": 2, \"linecolor\": \"#EBF0F8\", \"showbackground\": true, \"ticks\": \"\", \"zerolinecolor\": \"#EBF0F8\"}}, \"shapedefaults\": {\"line\": {\"color\": \"#2a3f5f\"}}, \"ternary\": {\"aaxis\": {\"gridcolor\": \"#DFE8F3\", \"linecolor\": \"#A2B1C6\", \"ticks\": \"\"}, \"baxis\": {\"gridcolor\": \"#DFE8F3\", \"linecolor\": \"#A2B1C6\", \"ticks\": \"\"}, \"bgcolor\": \"white\", \"caxis\": {\"gridcolor\": \"#DFE8F3\", \"linecolor\": \"#A2B1C6\", \"ticks\": \"\"}}, \"title\": {\"x\": 0.05}, \"xaxis\": {\"automargin\": true, \"gridcolor\": \"#EBF0F8\", \"linecolor\": \"#EBF0F8\", \"ticks\": \"\", \"title\": {\"standoff\": 15}, \"zerolinecolor\": \"#EBF0F8\", \"zerolinewidth\": 2}, \"yaxis\": {\"automargin\": true, \"gridcolor\": \"#EBF0F8\", \"linecolor\": \"#EBF0F8\", \"ticks\": \"\", \"title\": {\"standoff\": 15}, \"zerolinecolor\": \"#EBF0F8\", \"zerolinewidth\": 2}}}, \"title\": {\"text\": \"Error in ETAs for the buses heading stop 4285. Positive or negative if it arrives later or sooner than expected, respectively\"}, \"xaxis\": {\"title\": {\"text\": \"Time\"}}, \"yaxis\": {\"title\": {\"text\": \"ETA ERROR (minutes)\"}}},\n",
       "                        {\"responsive\": true}\n",
       "                    ).then(function(){\n",
       "                            \n",
       "var gd = document.getElementById('3aca861a-ee69-408e-9f2e-1226683f7f17');\n",
       "var x = new MutationObserver(function (mutations, observer) {{\n",
       "        var display = window.getComputedStyle(gd).display;\n",
       "        if (!display || display === 'none') {{\n",
       "            console.log([gd, 'removed!']);\n",
       "            Plotly.purge(gd);\n",
       "            observer.disconnect();\n",
       "        }}\n",
       "}});\n",
       "\n",
       "// Listen for the removal of the full notebook cells\n",
       "var notebookContainer = gd.closest('#notebook-container');\n",
       "if (notebookContainer) {{\n",
       "    x.observe(notebookContainer, {childList: true});\n",
       "}}\n",
       "\n",
       "// Listen for the clearing of the current output cell\n",
       "var outputEl = gd.closest('.output');\n",
       "if (outputEl) {{\n",
       "    x.observe(outputEl, {childList: true});\n",
       "}}\n",
       "\n",
       "                        })\n",
       "                };\n",
       "                });\n",
       "            </script>\n",
       "        </div>"
      ]
     },
     "metadata": {},
     "output_type": "display_data"
    }
   ],
   "source": [
    "#Show ETA error figure\n",
    "fig3.show()"
   ]
  },
  {
   "cell_type": "code",
   "execution_count": 79,
   "metadata": {},
   "outputs": [
    {
     "data": {
      "text/plain": [
       "'CUATRO CAMINOS'"
      ]
     },
     "execution_count": 79,
     "metadata": {},
     "output_type": "execute_result"
    }
   ],
   "source": [
    "#Destinations dictionary\n",
    "destinations = {\n",
    "    '1' : ('CRISTO REY', 'PROSPERIDAD'),\n",
    "    '82' : ('MONCLOA', 'PITIS'),\n",
    "    '132' : ('MONCLOA', 'HOSPITAL LA PAZ'),\n",
    "    '91' : ('CUATRO CAMINOS', 'CIUDAD UNIVERSITARIA'),\n",
    "    '92' : ('MONCLOA', 'CIUDAD UNIVERSITARIA'),\n",
    "    '99' : ('AVENIDA DE SENECA', 'PARANINFO'),\n",
    "    '502' : ('PLAZA DE CIBELES', 'VALDEBEBAS'),\n",
    "    '506' : ('PLAZA DE CIBELES', 'LAS ROSAS')\n",
    "}\n",
    "destinations['91'][0]"
   ]
  },
  {
   "cell_type": "code",
   "execution_count": 183,
   "metadata": {},
   "outputs": [
    {
     "data": {
      "text/html": [
       "<div>\n",
       "<style scoped>\n",
       "    .dataframe tbody tr th:only-of-type {\n",
       "        vertical-align: middle;\n",
       "    }\n",
       "\n",
       "    .dataframe tbody tr th {\n",
       "        vertical-align: top;\n",
       "    }\n",
       "\n",
       "    .dataframe thead th {\n",
       "        text-align: right;\n",
       "    }\n",
       "</style>\n",
       "<table border=\"1\" class=\"dataframe\">\n",
       "  <thead>\n",
       "    <tr style=\"text-align: right;\">\n",
       "      <th></th>\n",
       "      <th>line</th>\n",
       "      <th>destination</th>\n",
       "      <th>stop</th>\n",
       "      <th>bus</th>\n",
       "      <th>day_trip</th>\n",
       "      <th>datetime</th>\n",
       "      <th>estimateArrive</th>\n",
       "      <th>DistanceBus</th>\n",
       "      <th>arrival_time</th>\n",
       "      <th>given_coords</th>\n",
       "      <th>lat</th>\n",
       "      <th>lon</th>\n",
       "    </tr>\n",
       "  </thead>\n",
       "  <tbody>\n",
       "    <tr>\n",
       "      <th>46</th>\n",
       "      <td>F</td>\n",
       "      <td>CIUDAD UNIVERSITARIA</td>\n",
       "      <td>4285</td>\n",
       "      <td>8606</td>\n",
       "      <td>1</td>\n",
       "      <td>2020-03-09 10:15:14.291579</td>\n",
       "      <td>392</td>\n",
       "      <td>1730</td>\n",
       "      <td>2020-03-09 10:20:04.324307</td>\n",
       "      <td>1</td>\n",
       "      <td>40.449985615</td>\n",
       "      <td>-3.734595387</td>\n",
       "    </tr>\n",
       "    <tr>\n",
       "      <th>47</th>\n",
       "      <td>F</td>\n",
       "      <td>CIUDAD UNIVERSITARIA</td>\n",
       "      <td>4285</td>\n",
       "      <td>8603</td>\n",
       "      <td>1</td>\n",
       "      <td>2020-03-09 10:15:14.291579</td>\n",
       "      <td>538</td>\n",
       "      <td>2629</td>\n",
       "      <td>2020-03-09 10:25:06.495087</td>\n",
       "      <td>1</td>\n",
       "      <td>40.448432930</td>\n",
       "      <td>-3.734188718</td>\n",
       "    </tr>\n",
       "    <tr>\n",
       "      <th>24</th>\n",
       "      <td>F</td>\n",
       "      <td>CUATRO CAMINOS</td>\n",
       "      <td>5316</td>\n",
       "      <td>8608</td>\n",
       "      <td>1</td>\n",
       "      <td>2020-03-09 10:15:14.331733</td>\n",
       "      <td>436</td>\n",
       "      <td>1975</td>\n",
       "      <td>2020-03-09 10:22:44.477872</td>\n",
       "      <td>1</td>\n",
       "      <td>40.447668581</td>\n",
       "      <td>-3.726714627</td>\n",
       "    </tr>\n",
       "    <tr>\n",
       "      <th>25</th>\n",
       "      <td>F</td>\n",
       "      <td>CUATRO CAMINOS</td>\n",
       "      <td>5316</td>\n",
       "      <td>8605</td>\n",
       "      <td>1</td>\n",
       "      <td>2020-03-09 10:15:14.331733</td>\n",
       "      <td>657</td>\n",
       "      <td>1637</td>\n",
       "      <td>2020-03-09 10:25:59.420481</td>\n",
       "      <td>1</td>\n",
       "      <td>40.446392521</td>\n",
       "      <td>-3.704028544</td>\n",
       "    </tr>\n",
       "    <tr>\n",
       "      <th>48</th>\n",
       "      <td>F</td>\n",
       "      <td>CUATRO CAMINOS</td>\n",
       "      <td>4284</td>\n",
       "      <td>8607</td>\n",
       "      <td>1</td>\n",
       "      <td>2020-03-09 10:15:14.336624</td>\n",
       "      <td>66</td>\n",
       "      <td>208</td>\n",
       "      <td>2020-03-09 10:16:39.406235</td>\n",
       "      <td>1</td>\n",
       "      <td>40.449713112</td>\n",
       "      <td>-3.735205562</td>\n",
       "    </tr>\n",
       "  </tbody>\n",
       "</table>\n",
       "</div>"
      ],
      "text/plain": [
       "   line           destination  stop   bus  day_trip  \\\n",
       "46    F  CIUDAD UNIVERSITARIA  4285  8606         1   \n",
       "47    F  CIUDAD UNIVERSITARIA  4285  8603         1   \n",
       "24    F        CUATRO CAMINOS  5316  8608         1   \n",
       "25    F        CUATRO CAMINOS  5316  8605         1   \n",
       "48    F        CUATRO CAMINOS  4284  8607         1   \n",
       "\n",
       "                     datetime  estimateArrive  DistanceBus  \\\n",
       "46 2020-03-09 10:15:14.291579             392         1730   \n",
       "47 2020-03-09 10:15:14.291579             538         2629   \n",
       "24 2020-03-09 10:15:14.331733             436         1975   \n",
       "25 2020-03-09 10:15:14.331733             657         1637   \n",
       "48 2020-03-09 10:15:14.336624              66          208   \n",
       "\n",
       "                 arrival_time  given_coords           lat          lon  \n",
       "46 2020-03-09 10:20:04.324307             1  40.449985615 -3.734595387  \n",
       "47 2020-03-09 10:25:06.495087             1  40.448432930 -3.734188718  \n",
       "24 2020-03-09 10:22:44.477872             1  40.447668581 -3.726714627  \n",
       "25 2020-03-09 10:25:59.420481             1  40.446392521 -3.704028544  \n",
       "48 2020-03-09 10:16:39.406235             1  40.449713112 -3.735205562  "
      ]
     },
     "execution_count": 183,
     "metadata": {},
     "output_type": "execute_result"
    }
   ],
   "source": [
    "def add_arrival_time_estim(df,threshold) :\n",
    "    '''\n",
    "    Returns the dataframe with a new column with the estimation of the time when the bus has arrived the stop\n",
    "    that is giving the estimation, and another column with the trip index in the day. The estimation \n",
    "    is based on the value of ''estimateArrive'' for the first row that is less than threshold \n",
    "    seconds away from the stop.\n",
    "    \n",
    "    May take a long time for big dataframes\n",
    "    \n",
    "    Parameters\n",
    "    ----------------------\n",
    "    df : The dataframe where we wish to add the column\n",
    "    \n",
    "    '''\n",
    "    #List to add the trip dataframes\n",
    "    trips = []\n",
    "    #For each line of the bus.\n",
    "    lines = df.line.unique().tolist()\n",
    "    for line in lines : \n",
    "        df_line = df.loc[df.line == line]\n",
    "        line_id = str(lines_shapes.loc[lines_shapes.line_sn == line].iloc[0].line_id)\n",
    "        #For each destination in that line\n",
    "        for dest in destinations[line_id] :\n",
    "            direction = '1' if dest == destinations[line_id][1] else '2'\n",
    "            df_dest = df_line.loc[df.destination == dest]\n",
    "            #For each stop in that line and destination\n",
    "            for stop in line_stops_dict[line_id][direction] :\n",
    "                df_stop = df_dest.loc[df_dest.stop == int(stop)]\n",
    "                #For each bus in that line destination and stop\n",
    "                buses = df_stop.bus.unique().tolist()\n",
    "                for bus in buses :\n",
    "                    df_bus = df_stop.loc[df_stop.bus == bus]\n",
    "                    last_index = 0\n",
    "                    last_distance = df_bus.iloc[0].DistanceBus\n",
    "                    last_day = df_bus.iloc[0].datetime.day\n",
    "                    day_trip = 0\n",
    "                    for i in range(df_bus.shape[0]) :\n",
    "                        if ((df_bus.iloc[i].DistanceBus - last_distance) > 1000) | (last_day != df_bus.iloc[i].datetime.day) | (i==df_bus.shape[0]-1) :\n",
    "                            #Trip dataframe\n",
    "                            df_trip = df_bus.iloc[last_index:i]\n",
    "                            last_index = i\n",
    "                            \n",
    "                            if df_trip.shape[0] != 0 :\n",
    "                                #Trip number inside the day\n",
    "                                if last_day == df_trip.iloc[0].datetime.day :\n",
    "                                    day_trip = day_trip + 1 \n",
    "                                else :\n",
    "                                    last_day = df_trip.iloc[0].datetime.day\n",
    "                                    day_trip = 1\n",
    "\n",
    "                                #Get first row with estimateArrive < threshold seconds\n",
    "                                df_close = df_trip.loc[df_trip.estimateArrive<threshold]\n",
    "                                if df_close.shape[0] != 0 :\n",
    "                                    row = df_close.sort_values(by='datetime',ascending='True').iloc[0]\n",
    "                                else :\n",
    "                                    row = df_trip.loc[df_trip.estimateArrive==df_trip.estimateArrive.min()].iloc[0]\n",
    "\n",
    "                                #Assign arrival time and trip day\n",
    "                                df_trip = df_trip.assign(\n",
    "                                    day_trip=day_trip,\n",
    "                                    arrival_time=row.datetime + timedelta(seconds=int(row.estimateArrive))\n",
    "                                )\n",
    "                                trips.append(df_trip)\n",
    "                        #Update last distance value\n",
    "                        last_distance = df_bus.iloc[i].DistanceBus\n",
    "            \n",
    "    return pd.concat(trips).sort_values(by='datetime',ascending='True')[['line','destination','stop','bus','day_trip','datetime','estimateArrive','DistanceBus','arrival_time','given_coords','lat','lon']]\n",
    "\n",
    "#Threshold is arbitrary set to half the interval between requests\n",
    "hf_buses_data_arrival_times = add_arrival_time_estim(hf_buses_data,2.5)\n",
    "hf_buses_data_arrival_times.head()"
   ]
  },
  {
   "cell_type": "code",
   "execution_count": 188,
   "metadata": {},
   "outputs": [
    {
     "data": {
      "text/html": [
       "<div>\n",
       "<style scoped>\n",
       "    .dataframe tbody tr th:only-of-type {\n",
       "        vertical-align: middle;\n",
       "    }\n",
       "\n",
       "    .dataframe tbody tr th {\n",
       "        vertical-align: top;\n",
       "    }\n",
       "\n",
       "    .dataframe thead th {\n",
       "        text-align: right;\n",
       "    }\n",
       "</style>\n",
       "<table border=\"1\" class=\"dataframe\">\n",
       "  <thead>\n",
       "    <tr style=\"text-align: right;\">\n",
       "      <th></th>\n",
       "      <th>line</th>\n",
       "      <th>destination</th>\n",
       "      <th>stop</th>\n",
       "      <th>bus</th>\n",
       "      <th>day_trip</th>\n",
       "      <th>datetime</th>\n",
       "      <th>estimateArrive</th>\n",
       "      <th>DistanceBus</th>\n",
       "      <th>arrival_time</th>\n",
       "      <th>given_coords</th>\n",
       "      <th>lat</th>\n",
       "      <th>lon</th>\n",
       "    </tr>\n",
       "  </thead>\n",
       "  <tbody>\n",
       "    <tr>\n",
       "      <th>0</th>\n",
       "      <td>F</td>\n",
       "      <td>CIUDAD UNIVERSITARIA</td>\n",
       "      <td>1693</td>\n",
       "      <td>8603</td>\n",
       "      <td>1</td>\n",
       "      <td>2020-03-09 10:15:20.338493</td>\n",
       "      <td>490</td>\n",
       "      <td>2265</td>\n",
       "      <td>2020-03-09 10:24:41.278622</td>\n",
       "      <td>1</td>\n",
       "      <td>40.448432930</td>\n",
       "      <td>-3.734188718</td>\n",
       "    </tr>\n",
       "    <tr>\n",
       "      <th>1</th>\n",
       "      <td>F</td>\n",
       "      <td>CIUDAD UNIVERSITARIA</td>\n",
       "      <td>1693</td>\n",
       "      <td>8606</td>\n",
       "      <td>1</td>\n",
       "      <td>2020-03-09 10:15:20.338493</td>\n",
       "      <td>341</td>\n",
       "      <td>1491</td>\n",
       "      <td>2020-03-09 10:19:21.218566</td>\n",
       "      <td>1</td>\n",
       "      <td>40.449985615</td>\n",
       "      <td>-3.734595387</td>\n",
       "    </tr>\n",
       "    <tr>\n",
       "      <th>2</th>\n",
       "      <td>F</td>\n",
       "      <td>CUATRO CAMINOS</td>\n",
       "      <td>3276</td>\n",
       "      <td>8608</td>\n",
       "      <td>1</td>\n",
       "      <td>2020-03-09 10:15:20.844635</td>\n",
       "      <td>383</td>\n",
       "      <td>1579</td>\n",
       "      <td>2020-03-09 10:21:59.537811</td>\n",
       "      <td>1</td>\n",
       "      <td>40.447668581</td>\n",
       "      <td>-3.726714627</td>\n",
       "    </tr>\n",
       "    <tr>\n",
       "      <th>3</th>\n",
       "      <td>F</td>\n",
       "      <td>CUATRO CAMINOS</td>\n",
       "      <td>3276</td>\n",
       "      <td>8605</td>\n",
       "      <td>1</td>\n",
       "      <td>2020-03-09 10:15:20.844635</td>\n",
       "      <td>605</td>\n",
       "      <td>1264</td>\n",
       "      <td>2020-03-09 10:25:25.788645</td>\n",
       "      <td>1</td>\n",
       "      <td>40.446392521</td>\n",
       "      <td>-3.704028544</td>\n",
       "    </tr>\n",
       "    <tr>\n",
       "      <th>5</th>\n",
       "      <td>F</td>\n",
       "      <td>CIUDAD UNIVERSITARIA</td>\n",
       "      <td>4289</td>\n",
       "      <td>8603</td>\n",
       "      <td>1</td>\n",
       "      <td>2020-03-09 10:15:20.852928</td>\n",
       "      <td>736</td>\n",
       "      <td>3757</td>\n",
       "      <td>2020-03-09 10:30:07.327394</td>\n",
       "      <td>1</td>\n",
       "      <td>40.448432930</td>\n",
       "      <td>-3.734188718</td>\n",
       "    </tr>\n",
       "  </tbody>\n",
       "</table>\n",
       "</div>"
      ],
      "text/plain": [
       "  line           destination  stop   bus  day_trip                   datetime  \\\n",
       "0    F  CIUDAD UNIVERSITARIA  1693  8603         1 2020-03-09 10:15:20.338493   \n",
       "1    F  CIUDAD UNIVERSITARIA  1693  8606         1 2020-03-09 10:15:20.338493   \n",
       "2    F        CUATRO CAMINOS  3276  8608         1 2020-03-09 10:15:20.844635   \n",
       "3    F        CUATRO CAMINOS  3276  8605         1 2020-03-09 10:15:20.844635   \n",
       "5    F  CIUDAD UNIVERSITARIA  4289  8603         1 2020-03-09 10:15:20.852928   \n",
       "\n",
       "   estimateArrive  DistanceBus               arrival_time  given_coords  \\\n",
       "0             490         2265 2020-03-09 10:24:41.278622             1   \n",
       "1             341         1491 2020-03-09 10:19:21.218566             1   \n",
       "2             383         1579 2020-03-09 10:21:59.537811             1   \n",
       "3             605         1264 2020-03-09 10:25:25.788645             1   \n",
       "5             736         3757 2020-03-09 10:30:07.327394             1   \n",
       "\n",
       "            lat          lon  \n",
       "0  40.448432930 -3.734188718  \n",
       "1  40.449985615 -3.734595387  \n",
       "2  40.447668581 -3.726714627  \n",
       "3  40.446392521 -3.704028544  \n",
       "5  40.448432930 -3.734188718  "
      ]
     },
     "execution_count": 188,
     "metadata": {},
     "output_type": "execute_result"
    }
   ],
   "source": [
    "#Threshold is arbitrary set to half the interval between requests\n",
    "buses_data_arrival_times = add_arrival_time_estim(buses_data,27.5)\n",
    "buses_data_arrival_times.head()"
   ]
  },
  {
   "cell_type": "code",
   "execution_count": 189,
   "metadata": {},
   "outputs": [],
   "source": [
    "def get_estim_errors(df,stops_df) :\n",
    "    '''\n",
    "    Returns a list with the estimation errors\n",
    "\n",
    "    Parameters\n",
    "    ----------------------\n",
    "    df : The dataframe where we wish to add the column\n",
    "    df_stops : The dataframe with the real stop arriving times\n",
    "    '''\n",
    "    mask = (df.datetime > stops_df.datetime.min()) & (df.datetime < stops_df.datetime.max())\n",
    "    bus_8607 = df.loc[(df.bus == 8607)&mask]\n",
    "    estim_errors = []\n",
    "    for row in stops_df.itertuples():\n",
    "        stop_row = bus_8607.loc[(bus_8607.stop == int(row.stop))].iloc[0]\n",
    "        estim_error_seconds = (stop_row.arrival_time - row.datetime).total_seconds() \n",
    "        estim_errors.append(estim_error_seconds)\n",
    "    \n",
    "    return estim_errors\n",
    "\n",
    "estim_errors_hf = get_estim_errors(hf_buses_data_arrival_times,stops_tracked)\n",
    "estim_errors = get_estim_errors(buses_data_arrival_times,stops_tracked)"
   ]
  },
  {
   "cell_type": "code",
   "execution_count": 190,
   "metadata": {},
   "outputs": [
    {
     "data": {
      "application/vnd.plotly.v1+json": {
       "config": {
        "plotlyServerURL": "https://plot.ly"
       },
       "data": [
        {
         "name": "HF",
         "type": "bar",
         "x": [
          "Stop: 1418",
          "Stop: 1416",
          "Stop: 2712",
          "Stop: 3278",
          "Stop: 5140",
          "Stop: 3292",
          "Stop: 3274",
          "Stop: 1693",
          "Stop: 4285"
         ],
         "y": [
          -36.355446,
          -0.306974,
          11.672024,
          3.667014,
          -13.307088,
          -18.272927,
          -17.336902,
          -20.235245,
          -2.286667
         ]
        },
        {
         "name": "Orig",
         "type": "bar",
         "x": [
          "Stop: 1418",
          "Stop: 1416",
          "Stop: 2712",
          "Stop: 3278",
          "Stop: 5140",
          "Stop: 3292",
          "Stop: 3274",
          "Stop: 1693",
          "Stop: 4285"
         ],
         "y": [
          -33.855644,
          10.752895,
          10.479338,
          2.532238,
          -13.249907,
          -3.327758,
          0.305718,
          -2.683513,
          2.442907
         ]
        }
       ],
       "layout": {
        "height": 500,
        "margin": {
         "b": 0,
         "l": 0,
         "r": 0,
         "t": 0
        },
        "template": {
         "data": {
          "bar": [
           {
            "error_x": {
             "color": "#2a3f5f"
            },
            "error_y": {
             "color": "#2a3f5f"
            },
            "marker": {
             "line": {
              "color": "white",
              "width": 0.5
             }
            },
            "type": "bar"
           }
          ],
          "barpolar": [
           {
            "marker": {
             "line": {
              "color": "white",
              "width": 0.5
             }
            },
            "type": "barpolar"
           }
          ],
          "carpet": [
           {
            "aaxis": {
             "endlinecolor": "#2a3f5f",
             "gridcolor": "#C8D4E3",
             "linecolor": "#C8D4E3",
             "minorgridcolor": "#C8D4E3",
             "startlinecolor": "#2a3f5f"
            },
            "baxis": {
             "endlinecolor": "#2a3f5f",
             "gridcolor": "#C8D4E3",
             "linecolor": "#C8D4E3",
             "minorgridcolor": "#C8D4E3",
             "startlinecolor": "#2a3f5f"
            },
            "type": "carpet"
           }
          ],
          "choropleth": [
           {
            "colorbar": {
             "outlinewidth": 0,
             "ticks": ""
            },
            "type": "choropleth"
           }
          ],
          "contour": [
           {
            "colorbar": {
             "outlinewidth": 0,
             "ticks": ""
            },
            "colorscale": [
             [
              0,
              "#0d0887"
             ],
             [
              0.1111111111111111,
              "#46039f"
             ],
             [
              0.2222222222222222,
              "#7201a8"
             ],
             [
              0.3333333333333333,
              "#9c179e"
             ],
             [
              0.4444444444444444,
              "#bd3786"
             ],
             [
              0.5555555555555556,
              "#d8576b"
             ],
             [
              0.6666666666666666,
              "#ed7953"
             ],
             [
              0.7777777777777778,
              "#fb9f3a"
             ],
             [
              0.8888888888888888,
              "#fdca26"
             ],
             [
              1,
              "#f0f921"
             ]
            ],
            "type": "contour"
           }
          ],
          "contourcarpet": [
           {
            "colorbar": {
             "outlinewidth": 0,
             "ticks": ""
            },
            "type": "contourcarpet"
           }
          ],
          "heatmap": [
           {
            "colorbar": {
             "outlinewidth": 0,
             "ticks": ""
            },
            "colorscale": [
             [
              0,
              "#0d0887"
             ],
             [
              0.1111111111111111,
              "#46039f"
             ],
             [
              0.2222222222222222,
              "#7201a8"
             ],
             [
              0.3333333333333333,
              "#9c179e"
             ],
             [
              0.4444444444444444,
              "#bd3786"
             ],
             [
              0.5555555555555556,
              "#d8576b"
             ],
             [
              0.6666666666666666,
              "#ed7953"
             ],
             [
              0.7777777777777778,
              "#fb9f3a"
             ],
             [
              0.8888888888888888,
              "#fdca26"
             ],
             [
              1,
              "#f0f921"
             ]
            ],
            "type": "heatmap"
           }
          ],
          "heatmapgl": [
           {
            "colorbar": {
             "outlinewidth": 0,
             "ticks": ""
            },
            "colorscale": [
             [
              0,
              "#0d0887"
             ],
             [
              0.1111111111111111,
              "#46039f"
             ],
             [
              0.2222222222222222,
              "#7201a8"
             ],
             [
              0.3333333333333333,
              "#9c179e"
             ],
             [
              0.4444444444444444,
              "#bd3786"
             ],
             [
              0.5555555555555556,
              "#d8576b"
             ],
             [
              0.6666666666666666,
              "#ed7953"
             ],
             [
              0.7777777777777778,
              "#fb9f3a"
             ],
             [
              0.8888888888888888,
              "#fdca26"
             ],
             [
              1,
              "#f0f921"
             ]
            ],
            "type": "heatmapgl"
           }
          ],
          "histogram": [
           {
            "marker": {
             "colorbar": {
              "outlinewidth": 0,
              "ticks": ""
             }
            },
            "type": "histogram"
           }
          ],
          "histogram2d": [
           {
            "colorbar": {
             "outlinewidth": 0,
             "ticks": ""
            },
            "colorscale": [
             [
              0,
              "#0d0887"
             ],
             [
              0.1111111111111111,
              "#46039f"
             ],
             [
              0.2222222222222222,
              "#7201a8"
             ],
             [
              0.3333333333333333,
              "#9c179e"
             ],
             [
              0.4444444444444444,
              "#bd3786"
             ],
             [
              0.5555555555555556,
              "#d8576b"
             ],
             [
              0.6666666666666666,
              "#ed7953"
             ],
             [
              0.7777777777777778,
              "#fb9f3a"
             ],
             [
              0.8888888888888888,
              "#fdca26"
             ],
             [
              1,
              "#f0f921"
             ]
            ],
            "type": "histogram2d"
           }
          ],
          "histogram2dcontour": [
           {
            "colorbar": {
             "outlinewidth": 0,
             "ticks": ""
            },
            "colorscale": [
             [
              0,
              "#0d0887"
             ],
             [
              0.1111111111111111,
              "#46039f"
             ],
             [
              0.2222222222222222,
              "#7201a8"
             ],
             [
              0.3333333333333333,
              "#9c179e"
             ],
             [
              0.4444444444444444,
              "#bd3786"
             ],
             [
              0.5555555555555556,
              "#d8576b"
             ],
             [
              0.6666666666666666,
              "#ed7953"
             ],
             [
              0.7777777777777778,
              "#fb9f3a"
             ],
             [
              0.8888888888888888,
              "#fdca26"
             ],
             [
              1,
              "#f0f921"
             ]
            ],
            "type": "histogram2dcontour"
           }
          ],
          "mesh3d": [
           {
            "colorbar": {
             "outlinewidth": 0,
             "ticks": ""
            },
            "type": "mesh3d"
           }
          ],
          "parcoords": [
           {
            "line": {
             "colorbar": {
              "outlinewidth": 0,
              "ticks": ""
             }
            },
            "type": "parcoords"
           }
          ],
          "pie": [
           {
            "automargin": true,
            "type": "pie"
           }
          ],
          "scatter": [
           {
            "marker": {
             "colorbar": {
              "outlinewidth": 0,
              "ticks": ""
             }
            },
            "type": "scatter"
           }
          ],
          "scatter3d": [
           {
            "line": {
             "colorbar": {
              "outlinewidth": 0,
              "ticks": ""
             }
            },
            "marker": {
             "colorbar": {
              "outlinewidth": 0,
              "ticks": ""
             }
            },
            "type": "scatter3d"
           }
          ],
          "scattercarpet": [
           {
            "marker": {
             "colorbar": {
              "outlinewidth": 0,
              "ticks": ""
             }
            },
            "type": "scattercarpet"
           }
          ],
          "scattergeo": [
           {
            "marker": {
             "colorbar": {
              "outlinewidth": 0,
              "ticks": ""
             }
            },
            "type": "scattergeo"
           }
          ],
          "scattergl": [
           {
            "marker": {
             "colorbar": {
              "outlinewidth": 0,
              "ticks": ""
             }
            },
            "type": "scattergl"
           }
          ],
          "scattermapbox": [
           {
            "marker": {
             "colorbar": {
              "outlinewidth": 0,
              "ticks": ""
             }
            },
            "type": "scattermapbox"
           }
          ],
          "scatterpolar": [
           {
            "marker": {
             "colorbar": {
              "outlinewidth": 0,
              "ticks": ""
             }
            },
            "type": "scatterpolar"
           }
          ],
          "scatterpolargl": [
           {
            "marker": {
             "colorbar": {
              "outlinewidth": 0,
              "ticks": ""
             }
            },
            "type": "scatterpolargl"
           }
          ],
          "scatterternary": [
           {
            "marker": {
             "colorbar": {
              "outlinewidth": 0,
              "ticks": ""
             }
            },
            "type": "scatterternary"
           }
          ],
          "surface": [
           {
            "colorbar": {
             "outlinewidth": 0,
             "ticks": ""
            },
            "colorscale": [
             [
              0,
              "#0d0887"
             ],
             [
              0.1111111111111111,
              "#46039f"
             ],
             [
              0.2222222222222222,
              "#7201a8"
             ],
             [
              0.3333333333333333,
              "#9c179e"
             ],
             [
              0.4444444444444444,
              "#bd3786"
             ],
             [
              0.5555555555555556,
              "#d8576b"
             ],
             [
              0.6666666666666666,
              "#ed7953"
             ],
             [
              0.7777777777777778,
              "#fb9f3a"
             ],
             [
              0.8888888888888888,
              "#fdca26"
             ],
             [
              1,
              "#f0f921"
             ]
            ],
            "type": "surface"
           }
          ],
          "table": [
           {
            "cells": {
             "fill": {
              "color": "#EBF0F8"
             },
             "line": {
              "color": "white"
             }
            },
            "header": {
             "fill": {
              "color": "#C8D4E3"
             },
             "line": {
              "color": "white"
             }
            },
            "type": "table"
           }
          ]
         },
         "layout": {
          "annotationdefaults": {
           "arrowcolor": "#2a3f5f",
           "arrowhead": 0,
           "arrowwidth": 1
          },
          "coloraxis": {
           "colorbar": {
            "outlinewidth": 0,
            "ticks": ""
           }
          },
          "colorscale": {
           "diverging": [
            [
             0,
             "#8e0152"
            ],
            [
             0.1,
             "#c51b7d"
            ],
            [
             0.2,
             "#de77ae"
            ],
            [
             0.3,
             "#f1b6da"
            ],
            [
             0.4,
             "#fde0ef"
            ],
            [
             0.5,
             "#f7f7f7"
            ],
            [
             0.6,
             "#e6f5d0"
            ],
            [
             0.7,
             "#b8e186"
            ],
            [
             0.8,
             "#7fbc41"
            ],
            [
             0.9,
             "#4d9221"
            ],
            [
             1,
             "#276419"
            ]
           ],
           "sequential": [
            [
             0,
             "#0d0887"
            ],
            [
             0.1111111111111111,
             "#46039f"
            ],
            [
             0.2222222222222222,
             "#7201a8"
            ],
            [
             0.3333333333333333,
             "#9c179e"
            ],
            [
             0.4444444444444444,
             "#bd3786"
            ],
            [
             0.5555555555555556,
             "#d8576b"
            ],
            [
             0.6666666666666666,
             "#ed7953"
            ],
            [
             0.7777777777777778,
             "#fb9f3a"
            ],
            [
             0.8888888888888888,
             "#fdca26"
            ],
            [
             1,
             "#f0f921"
            ]
           ],
           "sequentialminus": [
            [
             0,
             "#0d0887"
            ],
            [
             0.1111111111111111,
             "#46039f"
            ],
            [
             0.2222222222222222,
             "#7201a8"
            ],
            [
             0.3333333333333333,
             "#9c179e"
            ],
            [
             0.4444444444444444,
             "#bd3786"
            ],
            [
             0.5555555555555556,
             "#d8576b"
            ],
            [
             0.6666666666666666,
             "#ed7953"
            ],
            [
             0.7777777777777778,
             "#fb9f3a"
            ],
            [
             0.8888888888888888,
             "#fdca26"
            ],
            [
             1,
             "#f0f921"
            ]
           ]
          },
          "colorway": [
           "#636efa",
           "#EF553B",
           "#00cc96",
           "#ab63fa",
           "#FFA15A",
           "#19d3f3",
           "#FF6692",
           "#B6E880",
           "#FF97FF",
           "#FECB52"
          ],
          "font": {
           "color": "#2a3f5f"
          },
          "geo": {
           "bgcolor": "white",
           "lakecolor": "white",
           "landcolor": "white",
           "showlakes": true,
           "showland": true,
           "subunitcolor": "#C8D4E3"
          },
          "hoverlabel": {
           "align": "left"
          },
          "hovermode": "closest",
          "mapbox": {
           "style": "light"
          },
          "paper_bgcolor": "white",
          "plot_bgcolor": "white",
          "polar": {
           "angularaxis": {
            "gridcolor": "#EBF0F8",
            "linecolor": "#EBF0F8",
            "ticks": ""
           },
           "bgcolor": "white",
           "radialaxis": {
            "gridcolor": "#EBF0F8",
            "linecolor": "#EBF0F8",
            "ticks": ""
           }
          },
          "scene": {
           "xaxis": {
            "backgroundcolor": "white",
            "gridcolor": "#DFE8F3",
            "gridwidth": 2,
            "linecolor": "#EBF0F8",
            "showbackground": true,
            "ticks": "",
            "zerolinecolor": "#EBF0F8"
           },
           "yaxis": {
            "backgroundcolor": "white",
            "gridcolor": "#DFE8F3",
            "gridwidth": 2,
            "linecolor": "#EBF0F8",
            "showbackground": true,
            "ticks": "",
            "zerolinecolor": "#EBF0F8"
           },
           "zaxis": {
            "backgroundcolor": "white",
            "gridcolor": "#DFE8F3",
            "gridwidth": 2,
            "linecolor": "#EBF0F8",
            "showbackground": true,
            "ticks": "",
            "zerolinecolor": "#EBF0F8"
           }
          },
          "shapedefaults": {
           "line": {
            "color": "#2a3f5f"
           }
          },
          "ternary": {
           "aaxis": {
            "gridcolor": "#DFE8F3",
            "linecolor": "#A2B1C6",
            "ticks": ""
           },
           "baxis": {
            "gridcolor": "#DFE8F3",
            "linecolor": "#A2B1C6",
            "ticks": ""
           },
           "bgcolor": "white",
           "caxis": {
            "gridcolor": "#DFE8F3",
            "linecolor": "#A2B1C6",
            "ticks": ""
           }
          },
          "title": {
           "x": 0.05
          },
          "xaxis": {
           "automargin": true,
           "gridcolor": "#EBF0F8",
           "linecolor": "#EBF0F8",
           "ticks": "",
           "title": {
            "standoff": 15
           },
           "zerolinecolor": "#EBF0F8",
           "zerolinewidth": 2
          },
          "yaxis": {
           "automargin": true,
           "gridcolor": "#EBF0F8",
           "linecolor": "#EBF0F8",
           "ticks": "",
           "title": {
            "standoff": 15
           },
           "zerolinecolor": "#EBF0F8",
           "zerolinewidth": 2
          }
         }
        },
        "yaxis": {
         "title": {
          "text": "Error in seconds between estimated and real arrival times"
         }
        }
       }
      },
      "text/html": [
       "<div>\n",
       "        \n",
       "        \n",
       "            <div id=\"48f52bdb-32a5-46ae-b649-293b11770587\" class=\"plotly-graph-div\" style=\"height:500px; width:100%;\"></div>\n",
       "            <script type=\"text/javascript\">\n",
       "                require([\"plotly\"], function(Plotly) {\n",
       "                    window.PLOTLYENV=window.PLOTLYENV || {};\n",
       "                    \n",
       "                if (document.getElementById(\"48f52bdb-32a5-46ae-b649-293b11770587\")) {\n",
       "                    Plotly.newPlot(\n",
       "                        '48f52bdb-32a5-46ae-b649-293b11770587',\n",
       "                        [{\"name\": \"HF\", \"type\": \"bar\", \"x\": [\"Stop: 1418\", \"Stop: 1416\", \"Stop: 2712\", \"Stop: 3278\", \"Stop: 5140\", \"Stop: 3292\", \"Stop: 3274\", \"Stop: 1693\", \"Stop: 4285\"], \"y\": [-36.355446, -0.306974, 11.672024, 3.667014, -13.307088, -18.272927, -17.336902, -20.235245, -2.286667]}, {\"name\": \"Orig\", \"type\": \"bar\", \"x\": [\"Stop: 1418\", \"Stop: 1416\", \"Stop: 2712\", \"Stop: 3278\", \"Stop: 5140\", \"Stop: 3292\", \"Stop: 3274\", \"Stop: 1693\", \"Stop: 4285\"], \"y\": [-33.855644, 10.752895, 10.479338, 2.532238, -13.249907, -3.327758, 0.305718, -2.683513, 2.442907]}],\n",
       "                        {\"height\": 500, \"margin\": {\"b\": 0, \"l\": 0, \"r\": 0, \"t\": 0}, \"template\": {\"data\": {\"bar\": [{\"error_x\": {\"color\": \"#2a3f5f\"}, \"error_y\": {\"color\": \"#2a3f5f\"}, \"marker\": {\"line\": {\"color\": \"white\", \"width\": 0.5}}, \"type\": \"bar\"}], \"barpolar\": [{\"marker\": {\"line\": {\"color\": \"white\", \"width\": 0.5}}, \"type\": \"barpolar\"}], \"carpet\": [{\"aaxis\": {\"endlinecolor\": \"#2a3f5f\", \"gridcolor\": \"#C8D4E3\", \"linecolor\": \"#C8D4E3\", \"minorgridcolor\": \"#C8D4E3\", \"startlinecolor\": \"#2a3f5f\"}, \"baxis\": {\"endlinecolor\": \"#2a3f5f\", \"gridcolor\": \"#C8D4E3\", \"linecolor\": \"#C8D4E3\", \"minorgridcolor\": \"#C8D4E3\", \"startlinecolor\": \"#2a3f5f\"}, \"type\": \"carpet\"}], \"choropleth\": [{\"colorbar\": {\"outlinewidth\": 0, \"ticks\": \"\"}, \"type\": \"choropleth\"}], \"contour\": [{\"colorbar\": {\"outlinewidth\": 0, \"ticks\": \"\"}, \"colorscale\": [[0.0, \"#0d0887\"], [0.1111111111111111, \"#46039f\"], [0.2222222222222222, \"#7201a8\"], [0.3333333333333333, \"#9c179e\"], [0.4444444444444444, \"#bd3786\"], [0.5555555555555556, \"#d8576b\"], [0.6666666666666666, \"#ed7953\"], [0.7777777777777778, \"#fb9f3a\"], [0.8888888888888888, \"#fdca26\"], [1.0, \"#f0f921\"]], \"type\": \"contour\"}], \"contourcarpet\": [{\"colorbar\": {\"outlinewidth\": 0, \"ticks\": \"\"}, \"type\": \"contourcarpet\"}], \"heatmap\": [{\"colorbar\": {\"outlinewidth\": 0, \"ticks\": \"\"}, \"colorscale\": [[0.0, \"#0d0887\"], [0.1111111111111111, \"#46039f\"], [0.2222222222222222, \"#7201a8\"], [0.3333333333333333, \"#9c179e\"], [0.4444444444444444, \"#bd3786\"], [0.5555555555555556, \"#d8576b\"], [0.6666666666666666, \"#ed7953\"], [0.7777777777777778, \"#fb9f3a\"], [0.8888888888888888, \"#fdca26\"], [1.0, \"#f0f921\"]], \"type\": \"heatmap\"}], \"heatmapgl\": [{\"colorbar\": {\"outlinewidth\": 0, \"ticks\": \"\"}, \"colorscale\": [[0.0, \"#0d0887\"], [0.1111111111111111, \"#46039f\"], [0.2222222222222222, \"#7201a8\"], [0.3333333333333333, \"#9c179e\"], [0.4444444444444444, \"#bd3786\"], [0.5555555555555556, \"#d8576b\"], [0.6666666666666666, \"#ed7953\"], [0.7777777777777778, \"#fb9f3a\"], [0.8888888888888888, \"#fdca26\"], [1.0, \"#f0f921\"]], \"type\": \"heatmapgl\"}], \"histogram\": [{\"marker\": {\"colorbar\": {\"outlinewidth\": 0, \"ticks\": \"\"}}, \"type\": \"histogram\"}], \"histogram2d\": [{\"colorbar\": {\"outlinewidth\": 0, \"ticks\": \"\"}, \"colorscale\": [[0.0, \"#0d0887\"], [0.1111111111111111, \"#46039f\"], [0.2222222222222222, \"#7201a8\"], [0.3333333333333333, \"#9c179e\"], [0.4444444444444444, \"#bd3786\"], [0.5555555555555556, \"#d8576b\"], [0.6666666666666666, \"#ed7953\"], [0.7777777777777778, \"#fb9f3a\"], [0.8888888888888888, \"#fdca26\"], [1.0, \"#f0f921\"]], \"type\": \"histogram2d\"}], \"histogram2dcontour\": [{\"colorbar\": {\"outlinewidth\": 0, \"ticks\": \"\"}, \"colorscale\": [[0.0, \"#0d0887\"], [0.1111111111111111, \"#46039f\"], [0.2222222222222222, \"#7201a8\"], [0.3333333333333333, \"#9c179e\"], [0.4444444444444444, \"#bd3786\"], [0.5555555555555556, \"#d8576b\"], [0.6666666666666666, \"#ed7953\"], [0.7777777777777778, \"#fb9f3a\"], [0.8888888888888888, \"#fdca26\"], [1.0, \"#f0f921\"]], \"type\": \"histogram2dcontour\"}], \"mesh3d\": [{\"colorbar\": {\"outlinewidth\": 0, \"ticks\": \"\"}, \"type\": \"mesh3d\"}], \"parcoords\": [{\"line\": {\"colorbar\": {\"outlinewidth\": 0, \"ticks\": \"\"}}, \"type\": \"parcoords\"}], \"pie\": [{\"automargin\": true, \"type\": \"pie\"}], \"scatter\": [{\"marker\": {\"colorbar\": {\"outlinewidth\": 0, \"ticks\": \"\"}}, \"type\": \"scatter\"}], \"scatter3d\": [{\"line\": {\"colorbar\": {\"outlinewidth\": 0, \"ticks\": \"\"}}, \"marker\": {\"colorbar\": {\"outlinewidth\": 0, \"ticks\": \"\"}}, \"type\": \"scatter3d\"}], \"scattercarpet\": [{\"marker\": {\"colorbar\": {\"outlinewidth\": 0, \"ticks\": \"\"}}, \"type\": \"scattercarpet\"}], \"scattergeo\": [{\"marker\": {\"colorbar\": {\"outlinewidth\": 0, \"ticks\": \"\"}}, \"type\": \"scattergeo\"}], \"scattergl\": [{\"marker\": {\"colorbar\": {\"outlinewidth\": 0, \"ticks\": \"\"}}, \"type\": \"scattergl\"}], \"scattermapbox\": [{\"marker\": {\"colorbar\": {\"outlinewidth\": 0, \"ticks\": \"\"}}, \"type\": \"scattermapbox\"}], \"scatterpolar\": [{\"marker\": {\"colorbar\": {\"outlinewidth\": 0, \"ticks\": \"\"}}, \"type\": \"scatterpolar\"}], \"scatterpolargl\": [{\"marker\": {\"colorbar\": {\"outlinewidth\": 0, \"ticks\": \"\"}}, \"type\": \"scatterpolargl\"}], \"scatterternary\": [{\"marker\": {\"colorbar\": {\"outlinewidth\": 0, \"ticks\": \"\"}}, \"type\": \"scatterternary\"}], \"surface\": [{\"colorbar\": {\"outlinewidth\": 0, \"ticks\": \"\"}, \"colorscale\": [[0.0, \"#0d0887\"], [0.1111111111111111, \"#46039f\"], [0.2222222222222222, \"#7201a8\"], [0.3333333333333333, \"#9c179e\"], [0.4444444444444444, \"#bd3786\"], [0.5555555555555556, \"#d8576b\"], [0.6666666666666666, \"#ed7953\"], [0.7777777777777778, \"#fb9f3a\"], [0.8888888888888888, \"#fdca26\"], [1.0, \"#f0f921\"]], \"type\": \"surface\"}], \"table\": [{\"cells\": {\"fill\": {\"color\": \"#EBF0F8\"}, \"line\": {\"color\": \"white\"}}, \"header\": {\"fill\": {\"color\": \"#C8D4E3\"}, \"line\": {\"color\": \"white\"}}, \"type\": \"table\"}]}, \"layout\": {\"annotationdefaults\": {\"arrowcolor\": \"#2a3f5f\", \"arrowhead\": 0, \"arrowwidth\": 1}, \"coloraxis\": {\"colorbar\": {\"outlinewidth\": 0, \"ticks\": \"\"}}, \"colorscale\": {\"diverging\": [[0, \"#8e0152\"], [0.1, \"#c51b7d\"], [0.2, \"#de77ae\"], [0.3, \"#f1b6da\"], [0.4, \"#fde0ef\"], [0.5, \"#f7f7f7\"], [0.6, \"#e6f5d0\"], [0.7, \"#b8e186\"], [0.8, \"#7fbc41\"], [0.9, \"#4d9221\"], [1, \"#276419\"]], \"sequential\": [[0.0, \"#0d0887\"], [0.1111111111111111, \"#46039f\"], [0.2222222222222222, \"#7201a8\"], [0.3333333333333333, \"#9c179e\"], [0.4444444444444444, \"#bd3786\"], [0.5555555555555556, \"#d8576b\"], [0.6666666666666666, \"#ed7953\"], [0.7777777777777778, \"#fb9f3a\"], [0.8888888888888888, \"#fdca26\"], [1.0, \"#f0f921\"]], \"sequentialminus\": [[0.0, \"#0d0887\"], [0.1111111111111111, \"#46039f\"], [0.2222222222222222, \"#7201a8\"], [0.3333333333333333, \"#9c179e\"], [0.4444444444444444, \"#bd3786\"], [0.5555555555555556, \"#d8576b\"], [0.6666666666666666, \"#ed7953\"], [0.7777777777777778, \"#fb9f3a\"], [0.8888888888888888, \"#fdca26\"], [1.0, \"#f0f921\"]]}, \"colorway\": [\"#636efa\", \"#EF553B\", \"#00cc96\", \"#ab63fa\", \"#FFA15A\", \"#19d3f3\", \"#FF6692\", \"#B6E880\", \"#FF97FF\", \"#FECB52\"], \"font\": {\"color\": \"#2a3f5f\"}, \"geo\": {\"bgcolor\": \"white\", \"lakecolor\": \"white\", \"landcolor\": \"white\", \"showlakes\": true, \"showland\": true, \"subunitcolor\": \"#C8D4E3\"}, \"hoverlabel\": {\"align\": \"left\"}, \"hovermode\": \"closest\", \"mapbox\": {\"style\": \"light\"}, \"paper_bgcolor\": \"white\", \"plot_bgcolor\": \"white\", \"polar\": {\"angularaxis\": {\"gridcolor\": \"#EBF0F8\", \"linecolor\": \"#EBF0F8\", \"ticks\": \"\"}, \"bgcolor\": \"white\", \"radialaxis\": {\"gridcolor\": \"#EBF0F8\", \"linecolor\": \"#EBF0F8\", \"ticks\": \"\"}}, \"scene\": {\"xaxis\": {\"backgroundcolor\": \"white\", \"gridcolor\": \"#DFE8F3\", \"gridwidth\": 2, \"linecolor\": \"#EBF0F8\", \"showbackground\": true, \"ticks\": \"\", \"zerolinecolor\": \"#EBF0F8\"}, \"yaxis\": {\"backgroundcolor\": \"white\", \"gridcolor\": \"#DFE8F3\", \"gridwidth\": 2, \"linecolor\": \"#EBF0F8\", \"showbackground\": true, \"ticks\": \"\", \"zerolinecolor\": \"#EBF0F8\"}, \"zaxis\": {\"backgroundcolor\": \"white\", \"gridcolor\": \"#DFE8F3\", \"gridwidth\": 2, \"linecolor\": \"#EBF0F8\", \"showbackground\": true, \"ticks\": \"\", \"zerolinecolor\": \"#EBF0F8\"}}, \"shapedefaults\": {\"line\": {\"color\": \"#2a3f5f\"}}, \"ternary\": {\"aaxis\": {\"gridcolor\": \"#DFE8F3\", \"linecolor\": \"#A2B1C6\", \"ticks\": \"\"}, \"baxis\": {\"gridcolor\": \"#DFE8F3\", \"linecolor\": \"#A2B1C6\", \"ticks\": \"\"}, \"bgcolor\": \"white\", \"caxis\": {\"gridcolor\": \"#DFE8F3\", \"linecolor\": \"#A2B1C6\", \"ticks\": \"\"}}, \"title\": {\"x\": 0.05}, \"xaxis\": {\"automargin\": true, \"gridcolor\": \"#EBF0F8\", \"linecolor\": \"#EBF0F8\", \"ticks\": \"\", \"title\": {\"standoff\": 15}, \"zerolinecolor\": \"#EBF0F8\", \"zerolinewidth\": 2}, \"yaxis\": {\"automargin\": true, \"gridcolor\": \"#EBF0F8\", \"linecolor\": \"#EBF0F8\", \"ticks\": \"\", \"title\": {\"standoff\": 15}, \"zerolinecolor\": \"#EBF0F8\", \"zerolinewidth\": 2}}}, \"yaxis\": {\"title\": {\"text\": \"Error in seconds between estimated and real arrival times\"}}},\n",
       "                        {\"responsive\": true}\n",
       "                    ).then(function(){\n",
       "                            \n",
       "var gd = document.getElementById('48f52bdb-32a5-46ae-b649-293b11770587');\n",
       "var x = new MutationObserver(function (mutations, observer) {{\n",
       "        var display = window.getComputedStyle(gd).display;\n",
       "        if (!display || display === 'none') {{\n",
       "            console.log([gd, 'removed!']);\n",
       "            Plotly.purge(gd);\n",
       "            observer.disconnect();\n",
       "        }}\n",
       "}});\n",
       "\n",
       "// Listen for the removal of the full notebook cells\n",
       "var notebookContainer = gd.closest('#notebook-container');\n",
       "if (notebookContainer) {{\n",
       "    x.observe(notebookContainer, {childList: true});\n",
       "}}\n",
       "\n",
       "// Listen for the clearing of the current output cell\n",
       "var outputEl = gd.closest('.output');\n",
       "if (outputEl) {{\n",
       "    x.observe(outputEl, {childList: true});\n",
       "}}\n",
       "\n",
       "                        })\n",
       "                };\n",
       "                });\n",
       "            </script>\n",
       "        </div>"
      ]
     },
     "metadata": {},
     "output_type": "display_data"
    }
   ],
   "source": [
    "#We create the figure object\n",
    "x = ['Stop: {}'.format(stop) for stop in stops_tracked.stop.tolist()]\n",
    "\n",
    "fig4 = go.Figure()\n",
    "fig4.add_trace(go.Bar(x=x,\n",
    "    y=estim_errors_hf,\n",
    "    name='HF'\n",
    "))\n",
    "fig4.add_trace(go.Bar(x=x,\n",
    "    y=estim_errors,\n",
    "    name='Orig'\n",
    "))\n",
    "\n",
    "fig4.update_layout(\n",
    "    height=500,\n",
    "    margin=dict(r=0, l=0, t=0, b=0),\n",
    "    yaxis=dict(\n",
    "        title='Error in seconds between estimated and real arrival times'\n",
    "    )\n",
    ")\n",
    "#NEGATIVE IF IT ARRIVES SOONER THAN EXPECTED"
   ]
  },
  {
   "cell_type": "markdown",
   "metadata": {},
   "source": [
    "## Calculated coords of the bus\n",
    "As the coordinates given officially by the API seem to be of very bad quality, we are going to build an estimator for them, and then check its quality."
   ]
  },
  {
   "cell_type": "code",
   "execution_count": 127,
   "metadata": {},
   "outputs": [
    {
     "data": {
      "text/html": [
       "<div>\n",
       "<style scoped>\n",
       "    .dataframe tbody tr th:only-of-type {\n",
       "        vertical-align: middle;\n",
       "    }\n",
       "\n",
       "    .dataframe tbody tr th {\n",
       "        vertical-align: top;\n",
       "    }\n",
       "\n",
       "    .dataframe thead th {\n",
       "        text-align: right;\n",
       "    }\n",
       "</style>\n",
       "<table border=\"1\" class=\"dataframe\">\n",
       "  <thead>\n",
       "    <tr style=\"text-align: right;\">\n",
       "      <th></th>\n",
       "      <th>line</th>\n",
       "      <th>destination</th>\n",
       "      <th>stop</th>\n",
       "      <th>bus</th>\n",
       "      <th>day_trip</th>\n",
       "      <th>datetime</th>\n",
       "      <th>estimateArrive</th>\n",
       "      <th>DistanceBus</th>\n",
       "      <th>arrival_time</th>\n",
       "      <th>given_coords</th>\n",
       "      <th>lat</th>\n",
       "      <th>lon</th>\n",
       "      <th>tracked_lat</th>\n",
       "      <th>tracked_lon</th>\n",
       "    </tr>\n",
       "  </thead>\n",
       "  <tbody>\n",
       "    <tr>\n",
       "      <th>0</th>\n",
       "      <td>F</td>\n",
       "      <td>CIUDAD UNIVERSITARIA</td>\n",
       "      <td>4285</td>\n",
       "      <td>8607</td>\n",
       "      <td>2</td>\n",
       "      <td>2020-03-09 10:55:04.581986</td>\n",
       "      <td>528</td>\n",
       "      <td>2470</td>\n",
       "      <td>2020-03-09 11:05:30.699917</td>\n",
       "      <td>1</td>\n",
       "      <td>40.44680536</td>\n",
       "      <td>-3.70433438</td>\n",
       "      <td>40.446766209</td>\n",
       "      <td>-3.705201047</td>\n",
       "    </tr>\n",
       "    <tr>\n",
       "      <th>1</th>\n",
       "      <td>F</td>\n",
       "      <td>CIUDAD UNIVERSITARIA</td>\n",
       "      <td>4285</td>\n",
       "      <td>8607</td>\n",
       "      <td>2</td>\n",
       "      <td>2020-03-09 10:55:09.645939</td>\n",
       "      <td>523</td>\n",
       "      <td>2447</td>\n",
       "      <td>2020-03-09 11:05:30.699917</td>\n",
       "      <td>1</td>\n",
       "      <td>40.44680536</td>\n",
       "      <td>-3.70433438</td>\n",
       "      <td>40.446714652</td>\n",
       "      <td>-3.705333657</td>\n",
       "    </tr>\n",
       "    <tr>\n",
       "      <th>2</th>\n",
       "      <td>F</td>\n",
       "      <td>CIUDAD UNIVERSITARIA</td>\n",
       "      <td>4285</td>\n",
       "      <td>8607</td>\n",
       "      <td>2</td>\n",
       "      <td>2020-03-09 10:55:14.528373</td>\n",
       "      <td>518</td>\n",
       "      <td>2423</td>\n",
       "      <td>2020-03-09 11:05:30.699917</td>\n",
       "      <td>1</td>\n",
       "      <td>40.44680536</td>\n",
       "      <td>-3.70433438</td>\n",
       "      <td>40.446738472</td>\n",
       "      <td>-3.705345736</td>\n",
       "    </tr>\n",
       "    <tr>\n",
       "      <th>3</th>\n",
       "      <td>F</td>\n",
       "      <td>CIUDAD UNIVERSITARIA</td>\n",
       "      <td>4285</td>\n",
       "      <td>8607</td>\n",
       "      <td>2</td>\n",
       "      <td>2020-03-09 10:55:19.624826</td>\n",
       "      <td>513</td>\n",
       "      <td>2400</td>\n",
       "      <td>2020-03-09 11:05:30.699917</td>\n",
       "      <td>1</td>\n",
       "      <td>40.44680536</td>\n",
       "      <td>-3.70433438</td>\n",
       "      <td>40.446714881</td>\n",
       "      <td>-3.705359969</td>\n",
       "    </tr>\n",
       "    <tr>\n",
       "      <th>4</th>\n",
       "      <td>F</td>\n",
       "      <td>CIUDAD UNIVERSITARIA</td>\n",
       "      <td>4285</td>\n",
       "      <td>8607</td>\n",
       "      <td>2</td>\n",
       "      <td>2020-03-09 10:55:24.663989</td>\n",
       "      <td>508</td>\n",
       "      <td>2377</td>\n",
       "      <td>2020-03-09 11:05:30.699917</td>\n",
       "      <td>1</td>\n",
       "      <td>40.44680536</td>\n",
       "      <td>-3.70433438</td>\n",
       "      <td>40.446733719</td>\n",
       "      <td>-3.705382652</td>\n",
       "    </tr>\n",
       "  </tbody>\n",
       "</table>\n",
       "</div>"
      ],
      "text/plain": [
       "  line           destination  stop   bus  day_trip                   datetime  \\\n",
       "0    F  CIUDAD UNIVERSITARIA  4285  8607         2 2020-03-09 10:55:04.581986   \n",
       "1    F  CIUDAD UNIVERSITARIA  4285  8607         2 2020-03-09 10:55:09.645939   \n",
       "2    F  CIUDAD UNIVERSITARIA  4285  8607         2 2020-03-09 10:55:14.528373   \n",
       "3    F  CIUDAD UNIVERSITARIA  4285  8607         2 2020-03-09 10:55:19.624826   \n",
       "4    F  CIUDAD UNIVERSITARIA  4285  8607         2 2020-03-09 10:55:24.663989   \n",
       "\n",
       "   estimateArrive  DistanceBus               arrival_time  given_coords  \\\n",
       "0             528         2470 2020-03-09 11:05:30.699917             1   \n",
       "1             523         2447 2020-03-09 11:05:30.699917             1   \n",
       "2             518         2423 2020-03-09 11:05:30.699917             1   \n",
       "3             513         2400 2020-03-09 11:05:30.699917             1   \n",
       "4             508         2377 2020-03-09 11:05:30.699917             1   \n",
       "\n",
       "           lat         lon   tracked_lat  tracked_lon  \n",
       "0  40.44680536 -3.70433438  40.446766209 -3.705201047  \n",
       "1  40.44680536 -3.70433438  40.446714652 -3.705333657  \n",
       "2  40.44680536 -3.70433438  40.446738472 -3.705345736  \n",
       "3  40.44680536 -3.70433438  40.446714881 -3.705359969  \n",
       "4  40.44680536 -3.70433438  40.446733719 -3.705382652  "
      ]
     },
     "execution_count": 127,
     "metadata": {},
     "output_type": "execute_result"
    }
   ],
   "source": [
    "def nearest_time_rows(df,df_tracked,stop) :\n",
    "    #Loc the values\n",
    "    mask = (df.datetime > df_tracked.datetime.min()) & (df.datetime < df_tracked.datetime.max())\n",
    "    bus_8607 = df.loc[(df.bus == 8607) & (df.stop == stop) & mask].sort_values(by='datetime',ascending=True)\n",
    "    #Find the nearest rows\n",
    "    nearest_rows,tracked_lats,tracked_lons = [],[],[]\n",
    "    last_nearest_row = 0\n",
    "    for row in df_tracked.itertuples():\n",
    "        nearest_time_row = find_nearest_row_by_time(bus_8607,row.datetime)\n",
    "        #Avoid adding duplicate nearest rows\n",
    "        if last_nearest_row != nearest_time_row :\n",
    "            tracked_lats.append(row.lat)\n",
    "            tracked_lons.append(row.lon)\n",
    "            nearest_rows.append(nearest_time_row)\n",
    "            last_nearest_row = nearest_time_row\n",
    "    \n",
    "    new_df = pd.DataFrame(nearest_rows).drop('Index',axis=1)\n",
    "    new_df['tracked_lat'] = tracked_lats\n",
    "    new_df['tracked_lon'] = tracked_lons\n",
    "    return new_df\n",
    "\n",
    "#Get nearest rows for the specified bus and stop\n",
    "hf_buses_data_path = nearest_time_rows(hf_buses_data_arrival_times,bus_tracked,4285)\n",
    "hf_buses_data_path.head()"
   ]
  },
  {
   "cell_type": "code",
   "execution_count": 128,
   "metadata": {},
   "outputs": [
    {
     "data": {
      "text/html": [
       "<div>\n",
       "<style scoped>\n",
       "    .dataframe tbody tr th:only-of-type {\n",
       "        vertical-align: middle;\n",
       "    }\n",
       "\n",
       "    .dataframe tbody tr th {\n",
       "        vertical-align: top;\n",
       "    }\n",
       "\n",
       "    .dataframe thead th {\n",
       "        text-align: right;\n",
       "    }\n",
       "</style>\n",
       "<table border=\"1\" class=\"dataframe\">\n",
       "  <thead>\n",
       "    <tr style=\"text-align: right;\">\n",
       "      <th></th>\n",
       "      <th>line</th>\n",
       "      <th>destination</th>\n",
       "      <th>stop</th>\n",
       "      <th>bus</th>\n",
       "      <th>day_trip</th>\n",
       "      <th>datetime</th>\n",
       "      <th>estimateArrive</th>\n",
       "      <th>DistanceBus</th>\n",
       "      <th>arrival_time</th>\n",
       "      <th>given_coords</th>\n",
       "      <th>lat</th>\n",
       "      <th>lon</th>\n",
       "      <th>tracked_lat</th>\n",
       "      <th>tracked_lon</th>\n",
       "    </tr>\n",
       "  </thead>\n",
       "  <tbody>\n",
       "    <tr>\n",
       "      <th>0</th>\n",
       "      <td>F</td>\n",
       "      <td>CIUDAD UNIVERSITARIA</td>\n",
       "      <td>4285</td>\n",
       "      <td>8607</td>\n",
       "      <td>2</td>\n",
       "      <td>2020-03-09 10:56:36.842317</td>\n",
       "      <td>436</td>\n",
       "      <td>2439</td>\n",
       "      <td>2020-03-09 11:05:46.442907</td>\n",
       "      <td>1</td>\n",
       "      <td>40.446805360</td>\n",
       "      <td>-3.704334380</td>\n",
       "      <td>40.446766209</td>\n",
       "      <td>-3.705201047</td>\n",
       "    </tr>\n",
       "    <tr>\n",
       "      <th>1</th>\n",
       "      <td>F</td>\n",
       "      <td>CIUDAD UNIVERSITARIA</td>\n",
       "      <td>4285</td>\n",
       "      <td>8607</td>\n",
       "      <td>2</td>\n",
       "      <td>2020-03-09 10:57:31.573753</td>\n",
       "      <td>407</td>\n",
       "      <td>2277</td>\n",
       "      <td>2020-03-09 11:05:46.442907</td>\n",
       "      <td>1</td>\n",
       "      <td>40.446805360</td>\n",
       "      <td>-3.704334380</td>\n",
       "      <td>40.447099769</td>\n",
       "      <td>-3.707907606</td>\n",
       "    </tr>\n",
       "    <tr>\n",
       "      <th>2</th>\n",
       "      <td>F</td>\n",
       "      <td>CIUDAD UNIVERSITARIA</td>\n",
       "      <td>4285</td>\n",
       "      <td>8607</td>\n",
       "      <td>2</td>\n",
       "      <td>2020-03-09 10:58:26.429938</td>\n",
       "      <td>352</td>\n",
       "      <td>1969</td>\n",
       "      <td>2020-03-09 11:05:46.442907</td>\n",
       "      <td>1</td>\n",
       "      <td>40.446805360</td>\n",
       "      <td>-3.704334380</td>\n",
       "      <td>40.446733384</td>\n",
       "      <td>-3.710678134</td>\n",
       "    </tr>\n",
       "    <tr>\n",
       "      <th>3</th>\n",
       "      <td>F</td>\n",
       "      <td>CIUDAD UNIVERSITARIA</td>\n",
       "      <td>4285</td>\n",
       "      <td>8607</td>\n",
       "      <td>2</td>\n",
       "      <td>2020-03-09 10:59:21.567477</td>\n",
       "      <td>292</td>\n",
       "      <td>1779</td>\n",
       "      <td>2020-03-09 11:05:46.442907</td>\n",
       "      <td>1</td>\n",
       "      <td>40.446805360</td>\n",
       "      <td>-3.704334380</td>\n",
       "      <td>40.446470511</td>\n",
       "      <td>-3.711878042</td>\n",
       "    </tr>\n",
       "    <tr>\n",
       "      <th>4</th>\n",
       "      <td>F</td>\n",
       "      <td>CIUDAD UNIVERSITARIA</td>\n",
       "      <td>4285</td>\n",
       "      <td>8607</td>\n",
       "      <td>2</td>\n",
       "      <td>2020-03-09 11:00:16.775696</td>\n",
       "      <td>264</td>\n",
       "      <td>1666</td>\n",
       "      <td>2020-03-09 11:05:46.442907</td>\n",
       "      <td>1</td>\n",
       "      <td>40.446784692</td>\n",
       "      <td>-3.703300035</td>\n",
       "      <td>40.447093914</td>\n",
       "      <td>-3.714205989</td>\n",
       "    </tr>\n",
       "  </tbody>\n",
       "</table>\n",
       "</div>"
      ],
      "text/plain": [
       "  line           destination  stop   bus  day_trip                   datetime  \\\n",
       "0    F  CIUDAD UNIVERSITARIA  4285  8607         2 2020-03-09 10:56:36.842317   \n",
       "1    F  CIUDAD UNIVERSITARIA  4285  8607         2 2020-03-09 10:57:31.573753   \n",
       "2    F  CIUDAD UNIVERSITARIA  4285  8607         2 2020-03-09 10:58:26.429938   \n",
       "3    F  CIUDAD UNIVERSITARIA  4285  8607         2 2020-03-09 10:59:21.567477   \n",
       "4    F  CIUDAD UNIVERSITARIA  4285  8607         2 2020-03-09 11:00:16.775696   \n",
       "\n",
       "   estimateArrive  DistanceBus               arrival_time  given_coords  \\\n",
       "0             436         2439 2020-03-09 11:05:46.442907             1   \n",
       "1             407         2277 2020-03-09 11:05:46.442907             1   \n",
       "2             352         1969 2020-03-09 11:05:46.442907             1   \n",
       "3             292         1779 2020-03-09 11:05:46.442907             1   \n",
       "4             264         1666 2020-03-09 11:05:46.442907             1   \n",
       "\n",
       "            lat          lon   tracked_lat  tracked_lon  \n",
       "0  40.446805360 -3.704334380  40.446766209 -3.705201047  \n",
       "1  40.446805360 -3.704334380  40.447099769 -3.707907606  \n",
       "2  40.446805360 -3.704334380  40.446733384 -3.710678134  \n",
       "3  40.446805360 -3.704334380  40.446470511 -3.711878042  \n",
       "4  40.446784692 -3.703300035  40.447093914 -3.714205989  "
      ]
     },
     "execution_count": 128,
     "metadata": {},
     "output_type": "execute_result"
    }
   ],
   "source": [
    "buses_data_path = nearest_time_rows(buses_data_arrival_times,bus_tracked,4285)\n",
    "buses_data_path.head()"
   ]
  },
  {
   "cell_type": "code",
   "execution_count": 136,
   "metadata": {},
   "outputs": [
    {
     "data": {
      "text/html": [
       "<div>\n",
       "<style scoped>\n",
       "    .dataframe tbody tr th:only-of-type {\n",
       "        vertical-align: middle;\n",
       "    }\n",
       "\n",
       "    .dataframe tbody tr th {\n",
       "        vertical-align: top;\n",
       "    }\n",
       "\n",
       "    .dataframe thead th {\n",
       "        text-align: right;\n",
       "    }\n",
       "</style>\n",
       "<table border=\"1\" class=\"dataframe\">\n",
       "  <thead>\n",
       "    <tr style=\"text-align: right;\">\n",
       "      <th></th>\n",
       "      <th>line</th>\n",
       "      <th>destination</th>\n",
       "      <th>stop</th>\n",
       "      <th>bus</th>\n",
       "      <th>day_trip</th>\n",
       "      <th>datetime</th>\n",
       "      <th>estimateArrive</th>\n",
       "      <th>DistanceBus</th>\n",
       "      <th>arrival_time</th>\n",
       "      <th>given_coords</th>\n",
       "      <th>lat</th>\n",
       "      <th>lon</th>\n",
       "      <th>tracked_lat</th>\n",
       "      <th>tracked_lon</th>\n",
       "      <th>dist_to_tracked</th>\n",
       "    </tr>\n",
       "  </thead>\n",
       "  <tbody>\n",
       "    <tr>\n",
       "      <th>0</th>\n",
       "      <td>F</td>\n",
       "      <td>CIUDAD UNIVERSITARIA</td>\n",
       "      <td>4285</td>\n",
       "      <td>8607</td>\n",
       "      <td>2</td>\n",
       "      <td>2020-03-09 10:55:04.581986</td>\n",
       "      <td>528</td>\n",
       "      <td>2470</td>\n",
       "      <td>2020-03-09 11:05:30.699917</td>\n",
       "      <td>1</td>\n",
       "      <td>40.44680536</td>\n",
       "      <td>-3.70433438</td>\n",
       "      <td>40.446766209</td>\n",
       "      <td>-3.705201047</td>\n",
       "      <td>73.487511968</td>\n",
       "    </tr>\n",
       "    <tr>\n",
       "      <th>1</th>\n",
       "      <td>F</td>\n",
       "      <td>CIUDAD UNIVERSITARIA</td>\n",
       "      <td>4285</td>\n",
       "      <td>8607</td>\n",
       "      <td>2</td>\n",
       "      <td>2020-03-09 10:55:09.645939</td>\n",
       "      <td>523</td>\n",
       "      <td>2447</td>\n",
       "      <td>2020-03-09 11:05:30.699917</td>\n",
       "      <td>1</td>\n",
       "      <td>40.44680536</td>\n",
       "      <td>-3.70433438</td>\n",
       "      <td>40.446714652</td>\n",
       "      <td>-3.705333657</td>\n",
       "      <td>85.182672381</td>\n",
       "    </tr>\n",
       "    <tr>\n",
       "      <th>2</th>\n",
       "      <td>F</td>\n",
       "      <td>CIUDAD UNIVERSITARIA</td>\n",
       "      <td>4285</td>\n",
       "      <td>8607</td>\n",
       "      <td>2</td>\n",
       "      <td>2020-03-09 10:55:14.528373</td>\n",
       "      <td>518</td>\n",
       "      <td>2423</td>\n",
       "      <td>2020-03-09 11:05:30.699917</td>\n",
       "      <td>1</td>\n",
       "      <td>40.44680536</td>\n",
       "      <td>-3.70433438</td>\n",
       "      <td>40.446738472</td>\n",
       "      <td>-3.705345736</td>\n",
       "      <td>85.928128128</td>\n",
       "    </tr>\n",
       "    <tr>\n",
       "      <th>3</th>\n",
       "      <td>F</td>\n",
       "      <td>CIUDAD UNIVERSITARIA</td>\n",
       "      <td>4285</td>\n",
       "      <td>8607</td>\n",
       "      <td>2</td>\n",
       "      <td>2020-03-09 10:55:19.624826</td>\n",
       "      <td>513</td>\n",
       "      <td>2400</td>\n",
       "      <td>2020-03-09 11:05:30.699917</td>\n",
       "      <td>1</td>\n",
       "      <td>40.44680536</td>\n",
       "      <td>-3.70433438</td>\n",
       "      <td>40.446714881</td>\n",
       "      <td>-3.705359969</td>\n",
       "      <td>87.391626623</td>\n",
       "    </tr>\n",
       "    <tr>\n",
       "      <th>4</th>\n",
       "      <td>F</td>\n",
       "      <td>CIUDAD UNIVERSITARIA</td>\n",
       "      <td>4285</td>\n",
       "      <td>8607</td>\n",
       "      <td>2</td>\n",
       "      <td>2020-03-09 10:55:24.663989</td>\n",
       "      <td>508</td>\n",
       "      <td>2377</td>\n",
       "      <td>2020-03-09 11:05:30.699917</td>\n",
       "      <td>1</td>\n",
       "      <td>40.44680536</td>\n",
       "      <td>-3.70433438</td>\n",
       "      <td>40.446733719</td>\n",
       "      <td>-3.705382652</td>\n",
       "      <td>89.087265487</td>\n",
       "    </tr>\n",
       "  </tbody>\n",
       "</table>\n",
       "</div>"
      ],
      "text/plain": [
       "  line           destination  stop   bus  day_trip                   datetime  \\\n",
       "0    F  CIUDAD UNIVERSITARIA  4285  8607         2 2020-03-09 10:55:04.581986   \n",
       "1    F  CIUDAD UNIVERSITARIA  4285  8607         2 2020-03-09 10:55:09.645939   \n",
       "2    F  CIUDAD UNIVERSITARIA  4285  8607         2 2020-03-09 10:55:14.528373   \n",
       "3    F  CIUDAD UNIVERSITARIA  4285  8607         2 2020-03-09 10:55:19.624826   \n",
       "4    F  CIUDAD UNIVERSITARIA  4285  8607         2 2020-03-09 10:55:24.663989   \n",
       "\n",
       "   estimateArrive  DistanceBus               arrival_time  given_coords  \\\n",
       "0             528         2470 2020-03-09 11:05:30.699917             1   \n",
       "1             523         2447 2020-03-09 11:05:30.699917             1   \n",
       "2             518         2423 2020-03-09 11:05:30.699917             1   \n",
       "3             513         2400 2020-03-09 11:05:30.699917             1   \n",
       "4             508         2377 2020-03-09 11:05:30.699917             1   \n",
       "\n",
       "           lat         lon   tracked_lat  tracked_lon  dist_to_tracked  \n",
       "0  40.44680536 -3.70433438  40.446766209 -3.705201047     73.487511968  \n",
       "1  40.44680536 -3.70433438  40.446714652 -3.705333657     85.182672381  \n",
       "2  40.44680536 -3.70433438  40.446738472 -3.705345736     85.928128128  \n",
       "3  40.44680536 -3.70433438  40.446714881 -3.705359969     87.391626623  \n",
       "4  40.44680536 -3.70433438  40.446733719 -3.705382652     89.087265487  "
      ]
     },
     "execution_count": 136,
     "metadata": {},
     "output_type": "execute_result"
    }
   ],
   "source": [
    "def get_distance_diff(df_tracked,df) :\n",
    "    '''\n",
    "    Returns a dataframe with the distance difference between the bus tracked data and the coordinates\n",
    "    given in the dataframe\n",
    "    '''\n",
    "    distance_diff = []\n",
    "    \n",
    "    for row in df.itertuples() :\n",
    "        distance_diff.append(\n",
    "            haversine(\n",
    "                (row.lat,row.lon),\n",
    "                (row.tracked_lat,row.tracked_lon)\n",
    "            ))\n",
    "    return distance_diff\n",
    "\n",
    "hf_buses_data_path['dist_to_tracked'] = get_distance_diff(bus_tracked,hf_buses_data_path)\n",
    "hf_buses_data_path.head()"
   ]
  },
  {
   "cell_type": "code",
   "execution_count": 137,
   "metadata": {},
   "outputs": [
    {
     "data": {
      "text/html": [
       "<div>\n",
       "<style scoped>\n",
       "    .dataframe tbody tr th:only-of-type {\n",
       "        vertical-align: middle;\n",
       "    }\n",
       "\n",
       "    .dataframe tbody tr th {\n",
       "        vertical-align: top;\n",
       "    }\n",
       "\n",
       "    .dataframe thead th {\n",
       "        text-align: right;\n",
       "    }\n",
       "</style>\n",
       "<table border=\"1\" class=\"dataframe\">\n",
       "  <thead>\n",
       "    <tr style=\"text-align: right;\">\n",
       "      <th></th>\n",
       "      <th>line</th>\n",
       "      <th>destination</th>\n",
       "      <th>stop</th>\n",
       "      <th>bus</th>\n",
       "      <th>day_trip</th>\n",
       "      <th>datetime</th>\n",
       "      <th>estimateArrive</th>\n",
       "      <th>DistanceBus</th>\n",
       "      <th>arrival_time</th>\n",
       "      <th>given_coords</th>\n",
       "      <th>lat</th>\n",
       "      <th>lon</th>\n",
       "      <th>tracked_lat</th>\n",
       "      <th>tracked_lon</th>\n",
       "      <th>dist_to_tracked</th>\n",
       "    </tr>\n",
       "  </thead>\n",
       "  <tbody>\n",
       "    <tr>\n",
       "      <th>0</th>\n",
       "      <td>F</td>\n",
       "      <td>CIUDAD UNIVERSITARIA</td>\n",
       "      <td>4285</td>\n",
       "      <td>8607</td>\n",
       "      <td>2</td>\n",
       "      <td>2020-03-09 10:56:36.842317</td>\n",
       "      <td>436</td>\n",
       "      <td>2439</td>\n",
       "      <td>2020-03-09 11:05:46.442907</td>\n",
       "      <td>1</td>\n",
       "      <td>40.446805360</td>\n",
       "      <td>-3.704334380</td>\n",
       "      <td>40.446766209</td>\n",
       "      <td>-3.705201047</td>\n",
       "      <td>73.487511968</td>\n",
       "    </tr>\n",
       "    <tr>\n",
       "      <th>1</th>\n",
       "      <td>F</td>\n",
       "      <td>CIUDAD UNIVERSITARIA</td>\n",
       "      <td>4285</td>\n",
       "      <td>8607</td>\n",
       "      <td>2</td>\n",
       "      <td>2020-03-09 10:57:31.573753</td>\n",
       "      <td>407</td>\n",
       "      <td>2277</td>\n",
       "      <td>2020-03-09 11:05:46.442907</td>\n",
       "      <td>1</td>\n",
       "      <td>40.446805360</td>\n",
       "      <td>-3.704334380</td>\n",
       "      <td>40.447099769</td>\n",
       "      <td>-3.707907606</td>\n",
       "      <td>304.219738447</td>\n",
       "    </tr>\n",
       "    <tr>\n",
       "      <th>2</th>\n",
       "      <td>F</td>\n",
       "      <td>CIUDAD UNIVERSITARIA</td>\n",
       "      <td>4285</td>\n",
       "      <td>8607</td>\n",
       "      <td>2</td>\n",
       "      <td>2020-03-09 10:58:26.429938</td>\n",
       "      <td>352</td>\n",
       "      <td>1969</td>\n",
       "      <td>2020-03-09 11:05:46.442907</td>\n",
       "      <td>1</td>\n",
       "      <td>40.446805360</td>\n",
       "      <td>-3.704334380</td>\n",
       "      <td>40.446733384</td>\n",
       "      <td>-3.710678134</td>\n",
       "      <td>537.022025875</td>\n",
       "    </tr>\n",
       "    <tr>\n",
       "      <th>3</th>\n",
       "      <td>F</td>\n",
       "      <td>CIUDAD UNIVERSITARIA</td>\n",
       "      <td>4285</td>\n",
       "      <td>8607</td>\n",
       "      <td>2</td>\n",
       "      <td>2020-03-09 10:59:21.567477</td>\n",
       "      <td>292</td>\n",
       "      <td>1779</td>\n",
       "      <td>2020-03-09 11:05:46.442907</td>\n",
       "      <td>1</td>\n",
       "      <td>40.446805360</td>\n",
       "      <td>-3.704334380</td>\n",
       "      <td>40.446470511</td>\n",
       "      <td>-3.711878042</td>\n",
       "      <td>639.614134121</td>\n",
       "    </tr>\n",
       "    <tr>\n",
       "      <th>4</th>\n",
       "      <td>F</td>\n",
       "      <td>CIUDAD UNIVERSITARIA</td>\n",
       "      <td>4285</td>\n",
       "      <td>8607</td>\n",
       "      <td>2</td>\n",
       "      <td>2020-03-09 11:00:16.775696</td>\n",
       "      <td>264</td>\n",
       "      <td>1666</td>\n",
       "      <td>2020-03-09 11:05:46.442907</td>\n",
       "      <td>1</td>\n",
       "      <td>40.446784692</td>\n",
       "      <td>-3.703300035</td>\n",
       "      <td>40.447093914</td>\n",
       "      <td>-3.714205989</td>\n",
       "      <td>923.764410596</td>\n",
       "    </tr>\n",
       "  </tbody>\n",
       "</table>\n",
       "</div>"
      ],
      "text/plain": [
       "  line           destination  stop   bus  day_trip                   datetime  \\\n",
       "0    F  CIUDAD UNIVERSITARIA  4285  8607         2 2020-03-09 10:56:36.842317   \n",
       "1    F  CIUDAD UNIVERSITARIA  4285  8607         2 2020-03-09 10:57:31.573753   \n",
       "2    F  CIUDAD UNIVERSITARIA  4285  8607         2 2020-03-09 10:58:26.429938   \n",
       "3    F  CIUDAD UNIVERSITARIA  4285  8607         2 2020-03-09 10:59:21.567477   \n",
       "4    F  CIUDAD UNIVERSITARIA  4285  8607         2 2020-03-09 11:00:16.775696   \n",
       "\n",
       "   estimateArrive  DistanceBus               arrival_time  given_coords  \\\n",
       "0             436         2439 2020-03-09 11:05:46.442907             1   \n",
       "1             407         2277 2020-03-09 11:05:46.442907             1   \n",
       "2             352         1969 2020-03-09 11:05:46.442907             1   \n",
       "3             292         1779 2020-03-09 11:05:46.442907             1   \n",
       "4             264         1666 2020-03-09 11:05:46.442907             1   \n",
       "\n",
       "            lat          lon   tracked_lat  tracked_lon  dist_to_tracked  \n",
       "0  40.446805360 -3.704334380  40.446766209 -3.705201047     73.487511968  \n",
       "1  40.446805360 -3.704334380  40.447099769 -3.707907606    304.219738447  \n",
       "2  40.446805360 -3.704334380  40.446733384 -3.710678134    537.022025875  \n",
       "3  40.446805360 -3.704334380  40.446470511 -3.711878042    639.614134121  \n",
       "4  40.446784692 -3.703300035  40.447093914 -3.714205989    923.764410596  "
      ]
     },
     "execution_count": 137,
     "metadata": {},
     "output_type": "execute_result"
    }
   ],
   "source": [
    "buses_data_path['dist_to_tracked'] = get_distance_diff(bus_tracked,buses_data_path)\n",
    "buses_data_path.head()"
   ]
  },
  {
   "cell_type": "code",
   "execution_count": 139,
   "metadata": {},
   "outputs": [
    {
     "data": {
      "application/vnd.plotly.v1+json": {
       "config": {
        "plotlyServerURL": "https://plot.ly"
       },
       "data": [
        {
         "line": {
          "width": 2
         },
         "mode": "lines",
         "name": "HF",
         "type": "scatter",
         "x": [
          "2020-03-09T10:55:04.581986",
          "2020-03-09T10:55:09.645939",
          "2020-03-09T10:55:14.528373",
          "2020-03-09T10:55:19.624826",
          "2020-03-09T10:55:24.663989",
          "2020-03-09T10:55:29.678838",
          "2020-03-09T10:55:39.630131",
          "2020-03-09T10:55:44.640056",
          "2020-03-09T10:55:49.608299",
          "2020-03-09T10:55:54.605894",
          "2020-03-09T10:55:59.671630",
          "2020-03-09T10:56:04.583111",
          "2020-03-09T10:56:09.678437",
          "2020-03-09T10:56:14.718315",
          "2020-03-09T10:56:19.700122",
          "2020-03-09T10:56:24.634359",
          "2020-03-09T10:56:29.661099",
          "2020-03-09T10:56:34.669263",
          "2020-03-09T10:56:39.635770",
          "2020-03-09T10:56:44.629955",
          "2020-03-09T10:56:49.644746",
          "2020-03-09T10:56:54.642380",
          "2020-03-09T10:56:59.545956",
          "2020-03-09T10:57:04.681473",
          "2020-03-09T10:57:09.654995",
          "2020-03-09T10:57:14.614329",
          "2020-03-09T10:57:19.637066",
          "2020-03-09T10:57:24.670922",
          "2020-03-09T10:57:29.699214",
          "2020-03-09T10:57:34.647807",
          "2020-03-09T10:57:39.689541",
          "2020-03-09T10:57:44.595839",
          "2020-03-09T10:57:49.672161",
          "2020-03-09T10:57:54.664379",
          "2020-03-09T10:57:59.594332",
          "2020-03-09T10:58:04.707632",
          "2020-03-09T10:58:09.614195",
          "2020-03-09T10:58:14.588809",
          "2020-03-09T10:58:19.681629",
          "2020-03-09T10:58:24.649182",
          "2020-03-09T10:58:29.550912",
          "2020-03-09T10:58:34.687585",
          "2020-03-09T10:58:39.564990",
          "2020-03-09T10:58:44.526963",
          "2020-03-09T10:58:49.684971",
          "2020-03-09T10:58:54.558857",
          "2020-03-09T10:58:59.549023",
          "2020-03-09T10:59:04.613360",
          "2020-03-09T10:59:09.710614",
          "2020-03-09T10:59:14.645098",
          "2020-03-09T10:59:19.653849",
          "2020-03-09T10:59:24.700294",
          "2020-03-09T10:59:29.640677",
          "2020-03-09T10:59:34.678694",
          "2020-03-09T10:59:39.585706",
          "2020-03-09T10:59:44.673439",
          "2020-03-09T10:59:49.670600",
          "2020-03-09T10:59:54.685309",
          "2020-03-09T10:59:59.669000",
          "2020-03-09T11:00:04.631372",
          "2020-03-09T11:00:09.641897",
          "2020-03-09T11:00:14.706630",
          "2020-03-09T11:00:19.622114",
          "2020-03-09T11:00:24.628543",
          "2020-03-09T11:00:29.709759",
          "2020-03-09T11:00:34.690219",
          "2020-03-09T11:00:39.674111",
          "2020-03-09T11:00:44.646127",
          "2020-03-09T11:00:49.687179",
          "2020-03-09T11:00:54.597359",
          "2020-03-09T11:00:59.640065",
          "2020-03-09T11:01:04.694809",
          "2020-03-09T11:01:09.678989",
          "2020-03-09T11:01:14.603689",
          "2020-03-09T11:01:19.726386",
          "2020-03-09T11:01:24.616598",
          "2020-03-09T11:01:29.558828",
          "2020-03-09T11:01:34.689234",
          "2020-03-09T11:01:39.646076",
          "2020-03-09T11:01:44.654307",
          "2020-03-09T11:01:49.665018",
          "2020-03-09T11:01:54.701941",
          "2020-03-09T11:01:59.651911",
          "2020-03-09T11:02:04.714779",
          "2020-03-09T11:02:09.704366",
          "2020-03-09T11:02:14.682696",
          "2020-03-09T11:02:19.635148",
          "2020-03-09T11:02:24.702497",
          "2020-03-09T11:02:29.685350",
          "2020-03-09T11:02:34.707141",
          "2020-03-09T11:02:39.551544",
          "2020-03-09T11:02:44.691275",
          "2020-03-09T11:02:49.551238",
          "2020-03-09T11:02:54.709869",
          "2020-03-09T11:02:59.665358",
          "2020-03-09T11:03:04.715127",
          "2020-03-09T11:03:09.575124",
          "2020-03-09T11:03:14.636259",
          "2020-03-09T11:03:19.687612",
          "2020-03-09T11:03:24.724851",
          "2020-03-09T11:03:29.642752",
          "2020-03-09T11:03:34.790027",
          "2020-03-09T11:03:39.680936",
          "2020-03-09T11:03:44.746225",
          "2020-03-09T11:03:49.695415",
          "2020-03-09T11:03:54.698358",
          "2020-03-09T11:03:59.707909",
          "2020-03-09T11:04:04.722515",
          "2020-03-09T11:04:09.675955",
          "2020-03-09T11:04:14.683001",
          "2020-03-09T11:04:19.702923",
          "2020-03-09T11:04:24.639789",
          "2020-03-09T11:04:29.643860",
          "2020-03-09T11:04:34.760266",
          "2020-03-09T11:04:39.664993",
          "2020-03-09T11:04:44.676430",
          "2020-03-09T11:04:49.667881",
          "2020-03-09T11:04:54.684491",
          "2020-03-09T11:04:59.700439",
          "2020-03-09T11:05:04.723882",
          "2020-03-09T11:05:09.690988",
          "2020-03-09T11:05:14.699917",
          "2020-03-09T11:05:19.680458",
          "2020-03-09T11:05:24.733451",
          "2020-03-09T11:05:29.625495",
          "2020-03-09T11:05:34.678226",
          "2020-03-09T11:05:39.713333",
          "2020-03-09T11:05:44.702056"
         ],
         "y": [
          73.48751196798437,
          85.18267238132565,
          85.92812812847276,
          87.39162662329531,
          89.0872654870896,
          91.76920493336247,
          95.10363579003022,
          99.60738054718334,
          105.64450850728886,
          103.9484807516428,
          101.69311449493985,
          101.44118338214905,
          101.51167059055079,
          101.82302051574175,
          106.1592683170069,
          115.45024401988842,
          119.5536917934297,
          120.97445146935715,
          141.071989374824,
          195.99318678526336,
          232.47084517602406,
          278.9012277904585,
          302.2693071197307,
          304.3502100400814,
          304.2197384469276,
          304.2197384469276,
          307.1935252580182,
          322.44258061733643,
          355.2884044009076,
          386.9672441143718,
          408.3120316091945,
          445.10243446199064,
          468.4428404208769,
          501.79107885536615,
          525.4064989267587,
          555.1198393145958,
          559.2560250301965,
          558.4693820716147,
          576.7845330860231,
          597.9795475941679,
          619.0317422745543,
          625.9898566350322,
          625.6721264649995,
          625.6721264649995,
          625.6721264649995,
          639.6141341210772,
          656.2791487405769,
          697.5773089767105,
          736.7913581118156,
          785.8355711442897,
          799.8612639829888,
          806.1065507865403,
          814.2327828171177,
          813.1103223288164,
          813.1103223288164,
          901.3269241388391,
          913.9588858622008,
          930.2529895968378,
          940.2918029367628,
          963.6307597341163,
          986.7760325327823,
          1039.7397624878743,
          1084.261254595602,
          1106.2964736751508,
          1114.171315156752,
          1113.0031870516646,
          1113.0031870516646,
          1113.0031870516646,
          1113.1441042270565,
          1126.0636891513077,
          1137.8919482615922,
          1139.5336553805255,
          1139.5336553805255,
          1141.6108860592044,
          1154.8469211094932,
          1185.4907497899724,
          1205.5418480630792,
          1204.137043251493,
          1204.6266460199788,
          1204.6266460199788,
          1218.4603021221858,
          1250.442932262711,
          1252.9581519284402,
          1309.5830622823094,
          1346.7187046944205,
          1397.2882531983428,
          1423.4838823820542,
          1436.665450884799,
          1436.5506138972758,
          1440.6514762379145,
          1481.7927519439158,
          1521.7882052682548,
          1588.5364035883338,
          1636.6365779628184,
          1705.6637631217932,
          1723.3699858187208,
          1725.3501141413421,
          1728.032587177794,
          1734.441614490645,
          1760.4025580517803,
          1775.59008970423,
          1797.912947906881,
          1821.4749171100239,
          1842.722890706563,
          1863.0235317997035,
          1859.5841482194016,
          1754.9066982083393,
          1760.0530902514831,
          1782.9448403326992,
          1824.8892359355355,
          1845.4176715228184,
          1870.455646259786,
          1880.197596629806,
          1899.0007477419265,
          1915.5710528045477,
          1923.7282351996676,
          1929.3931461335144,
          1930.0693618003484,
          1930.1125713755844,
          1929.8919360762472,
          1934.4552173335658,
          1943.64823476377,
          1957.8724252652792,
          1973.220004495212,
          1990.752993856777,
          2003.7936153773667,
          1997.2878241258338,
          2004.1351159330727
         ]
        },
        {
         "line": {
          "width": 2
         },
         "mode": "lines",
         "name": "Orig",
         "type": "scatter",
         "x": [
          "2020-03-09T10:56:36.842317",
          "2020-03-09T10:57:31.573753",
          "2020-03-09T10:58:26.429938",
          "2020-03-09T10:59:21.567477",
          "2020-03-09T11:00:16.775696",
          "2020-03-09T11:01:11.693360",
          "2020-03-09T11:02:07.072449",
          "2020-03-09T11:03:01.726808",
          "2020-03-09T11:03:56.866652",
          "2020-03-09T11:04:51.813575",
          "2020-03-09T11:05:46.442907"
         ],
         "y": [
          73.48751196798437,
          304.2197384469276,
          537.0220258754641,
          639.6141341210772,
          923.7644105961076,
          1113.0031870516646,
          1157.1144179689118,
          1449.9258837655889,
          1779.4257402082708,
          1875.320654083454,
          1963.9129096977035
         ]
        }
       ],
       "layout": {
        "height": 500,
        "margin": {
         "b": 0,
         "l": 0,
         "r": 0,
         "t": 0
        },
        "template": {
         "data": {
          "bar": [
           {
            "error_x": {
             "color": "#2a3f5f"
            },
            "error_y": {
             "color": "#2a3f5f"
            },
            "marker": {
             "line": {
              "color": "white",
              "width": 0.5
             }
            },
            "type": "bar"
           }
          ],
          "barpolar": [
           {
            "marker": {
             "line": {
              "color": "white",
              "width": 0.5
             }
            },
            "type": "barpolar"
           }
          ],
          "carpet": [
           {
            "aaxis": {
             "endlinecolor": "#2a3f5f",
             "gridcolor": "#C8D4E3",
             "linecolor": "#C8D4E3",
             "minorgridcolor": "#C8D4E3",
             "startlinecolor": "#2a3f5f"
            },
            "baxis": {
             "endlinecolor": "#2a3f5f",
             "gridcolor": "#C8D4E3",
             "linecolor": "#C8D4E3",
             "minorgridcolor": "#C8D4E3",
             "startlinecolor": "#2a3f5f"
            },
            "type": "carpet"
           }
          ],
          "choropleth": [
           {
            "colorbar": {
             "outlinewidth": 0,
             "ticks": ""
            },
            "type": "choropleth"
           }
          ],
          "contour": [
           {
            "colorbar": {
             "outlinewidth": 0,
             "ticks": ""
            },
            "colorscale": [
             [
              0,
              "#0d0887"
             ],
             [
              0.1111111111111111,
              "#46039f"
             ],
             [
              0.2222222222222222,
              "#7201a8"
             ],
             [
              0.3333333333333333,
              "#9c179e"
             ],
             [
              0.4444444444444444,
              "#bd3786"
             ],
             [
              0.5555555555555556,
              "#d8576b"
             ],
             [
              0.6666666666666666,
              "#ed7953"
             ],
             [
              0.7777777777777778,
              "#fb9f3a"
             ],
             [
              0.8888888888888888,
              "#fdca26"
             ],
             [
              1,
              "#f0f921"
             ]
            ],
            "type": "contour"
           }
          ],
          "contourcarpet": [
           {
            "colorbar": {
             "outlinewidth": 0,
             "ticks": ""
            },
            "type": "contourcarpet"
           }
          ],
          "heatmap": [
           {
            "colorbar": {
             "outlinewidth": 0,
             "ticks": ""
            },
            "colorscale": [
             [
              0,
              "#0d0887"
             ],
             [
              0.1111111111111111,
              "#46039f"
             ],
             [
              0.2222222222222222,
              "#7201a8"
             ],
             [
              0.3333333333333333,
              "#9c179e"
             ],
             [
              0.4444444444444444,
              "#bd3786"
             ],
             [
              0.5555555555555556,
              "#d8576b"
             ],
             [
              0.6666666666666666,
              "#ed7953"
             ],
             [
              0.7777777777777778,
              "#fb9f3a"
             ],
             [
              0.8888888888888888,
              "#fdca26"
             ],
             [
              1,
              "#f0f921"
             ]
            ],
            "type": "heatmap"
           }
          ],
          "heatmapgl": [
           {
            "colorbar": {
             "outlinewidth": 0,
             "ticks": ""
            },
            "colorscale": [
             [
              0,
              "#0d0887"
             ],
             [
              0.1111111111111111,
              "#46039f"
             ],
             [
              0.2222222222222222,
              "#7201a8"
             ],
             [
              0.3333333333333333,
              "#9c179e"
             ],
             [
              0.4444444444444444,
              "#bd3786"
             ],
             [
              0.5555555555555556,
              "#d8576b"
             ],
             [
              0.6666666666666666,
              "#ed7953"
             ],
             [
              0.7777777777777778,
              "#fb9f3a"
             ],
             [
              0.8888888888888888,
              "#fdca26"
             ],
             [
              1,
              "#f0f921"
             ]
            ],
            "type": "heatmapgl"
           }
          ],
          "histogram": [
           {
            "marker": {
             "colorbar": {
              "outlinewidth": 0,
              "ticks": ""
             }
            },
            "type": "histogram"
           }
          ],
          "histogram2d": [
           {
            "colorbar": {
             "outlinewidth": 0,
             "ticks": ""
            },
            "colorscale": [
             [
              0,
              "#0d0887"
             ],
             [
              0.1111111111111111,
              "#46039f"
             ],
             [
              0.2222222222222222,
              "#7201a8"
             ],
             [
              0.3333333333333333,
              "#9c179e"
             ],
             [
              0.4444444444444444,
              "#bd3786"
             ],
             [
              0.5555555555555556,
              "#d8576b"
             ],
             [
              0.6666666666666666,
              "#ed7953"
             ],
             [
              0.7777777777777778,
              "#fb9f3a"
             ],
             [
              0.8888888888888888,
              "#fdca26"
             ],
             [
              1,
              "#f0f921"
             ]
            ],
            "type": "histogram2d"
           }
          ],
          "histogram2dcontour": [
           {
            "colorbar": {
             "outlinewidth": 0,
             "ticks": ""
            },
            "colorscale": [
             [
              0,
              "#0d0887"
             ],
             [
              0.1111111111111111,
              "#46039f"
             ],
             [
              0.2222222222222222,
              "#7201a8"
             ],
             [
              0.3333333333333333,
              "#9c179e"
             ],
             [
              0.4444444444444444,
              "#bd3786"
             ],
             [
              0.5555555555555556,
              "#d8576b"
             ],
             [
              0.6666666666666666,
              "#ed7953"
             ],
             [
              0.7777777777777778,
              "#fb9f3a"
             ],
             [
              0.8888888888888888,
              "#fdca26"
             ],
             [
              1,
              "#f0f921"
             ]
            ],
            "type": "histogram2dcontour"
           }
          ],
          "mesh3d": [
           {
            "colorbar": {
             "outlinewidth": 0,
             "ticks": ""
            },
            "type": "mesh3d"
           }
          ],
          "parcoords": [
           {
            "line": {
             "colorbar": {
              "outlinewidth": 0,
              "ticks": ""
             }
            },
            "type": "parcoords"
           }
          ],
          "pie": [
           {
            "automargin": true,
            "type": "pie"
           }
          ],
          "scatter": [
           {
            "marker": {
             "colorbar": {
              "outlinewidth": 0,
              "ticks": ""
             }
            },
            "type": "scatter"
           }
          ],
          "scatter3d": [
           {
            "line": {
             "colorbar": {
              "outlinewidth": 0,
              "ticks": ""
             }
            },
            "marker": {
             "colorbar": {
              "outlinewidth": 0,
              "ticks": ""
             }
            },
            "type": "scatter3d"
           }
          ],
          "scattercarpet": [
           {
            "marker": {
             "colorbar": {
              "outlinewidth": 0,
              "ticks": ""
             }
            },
            "type": "scattercarpet"
           }
          ],
          "scattergeo": [
           {
            "marker": {
             "colorbar": {
              "outlinewidth": 0,
              "ticks": ""
             }
            },
            "type": "scattergeo"
           }
          ],
          "scattergl": [
           {
            "marker": {
             "colorbar": {
              "outlinewidth": 0,
              "ticks": ""
             }
            },
            "type": "scattergl"
           }
          ],
          "scattermapbox": [
           {
            "marker": {
             "colorbar": {
              "outlinewidth": 0,
              "ticks": ""
             }
            },
            "type": "scattermapbox"
           }
          ],
          "scatterpolar": [
           {
            "marker": {
             "colorbar": {
              "outlinewidth": 0,
              "ticks": ""
             }
            },
            "type": "scatterpolar"
           }
          ],
          "scatterpolargl": [
           {
            "marker": {
             "colorbar": {
              "outlinewidth": 0,
              "ticks": ""
             }
            },
            "type": "scatterpolargl"
           }
          ],
          "scatterternary": [
           {
            "marker": {
             "colorbar": {
              "outlinewidth": 0,
              "ticks": ""
             }
            },
            "type": "scatterternary"
           }
          ],
          "surface": [
           {
            "colorbar": {
             "outlinewidth": 0,
             "ticks": ""
            },
            "colorscale": [
             [
              0,
              "#0d0887"
             ],
             [
              0.1111111111111111,
              "#46039f"
             ],
             [
              0.2222222222222222,
              "#7201a8"
             ],
             [
              0.3333333333333333,
              "#9c179e"
             ],
             [
              0.4444444444444444,
              "#bd3786"
             ],
             [
              0.5555555555555556,
              "#d8576b"
             ],
             [
              0.6666666666666666,
              "#ed7953"
             ],
             [
              0.7777777777777778,
              "#fb9f3a"
             ],
             [
              0.8888888888888888,
              "#fdca26"
             ],
             [
              1,
              "#f0f921"
             ]
            ],
            "type": "surface"
           }
          ],
          "table": [
           {
            "cells": {
             "fill": {
              "color": "#EBF0F8"
             },
             "line": {
              "color": "white"
             }
            },
            "header": {
             "fill": {
              "color": "#C8D4E3"
             },
             "line": {
              "color": "white"
             }
            },
            "type": "table"
           }
          ]
         },
         "layout": {
          "annotationdefaults": {
           "arrowcolor": "#2a3f5f",
           "arrowhead": 0,
           "arrowwidth": 1
          },
          "coloraxis": {
           "colorbar": {
            "outlinewidth": 0,
            "ticks": ""
           }
          },
          "colorscale": {
           "diverging": [
            [
             0,
             "#8e0152"
            ],
            [
             0.1,
             "#c51b7d"
            ],
            [
             0.2,
             "#de77ae"
            ],
            [
             0.3,
             "#f1b6da"
            ],
            [
             0.4,
             "#fde0ef"
            ],
            [
             0.5,
             "#f7f7f7"
            ],
            [
             0.6,
             "#e6f5d0"
            ],
            [
             0.7,
             "#b8e186"
            ],
            [
             0.8,
             "#7fbc41"
            ],
            [
             0.9,
             "#4d9221"
            ],
            [
             1,
             "#276419"
            ]
           ],
           "sequential": [
            [
             0,
             "#0d0887"
            ],
            [
             0.1111111111111111,
             "#46039f"
            ],
            [
             0.2222222222222222,
             "#7201a8"
            ],
            [
             0.3333333333333333,
             "#9c179e"
            ],
            [
             0.4444444444444444,
             "#bd3786"
            ],
            [
             0.5555555555555556,
             "#d8576b"
            ],
            [
             0.6666666666666666,
             "#ed7953"
            ],
            [
             0.7777777777777778,
             "#fb9f3a"
            ],
            [
             0.8888888888888888,
             "#fdca26"
            ],
            [
             1,
             "#f0f921"
            ]
           ],
           "sequentialminus": [
            [
             0,
             "#0d0887"
            ],
            [
             0.1111111111111111,
             "#46039f"
            ],
            [
             0.2222222222222222,
             "#7201a8"
            ],
            [
             0.3333333333333333,
             "#9c179e"
            ],
            [
             0.4444444444444444,
             "#bd3786"
            ],
            [
             0.5555555555555556,
             "#d8576b"
            ],
            [
             0.6666666666666666,
             "#ed7953"
            ],
            [
             0.7777777777777778,
             "#fb9f3a"
            ],
            [
             0.8888888888888888,
             "#fdca26"
            ],
            [
             1,
             "#f0f921"
            ]
           ]
          },
          "colorway": [
           "#636efa",
           "#EF553B",
           "#00cc96",
           "#ab63fa",
           "#FFA15A",
           "#19d3f3",
           "#FF6692",
           "#B6E880",
           "#FF97FF",
           "#FECB52"
          ],
          "font": {
           "color": "#2a3f5f"
          },
          "geo": {
           "bgcolor": "white",
           "lakecolor": "white",
           "landcolor": "white",
           "showlakes": true,
           "showland": true,
           "subunitcolor": "#C8D4E3"
          },
          "hoverlabel": {
           "align": "left"
          },
          "hovermode": "closest",
          "mapbox": {
           "style": "light"
          },
          "paper_bgcolor": "white",
          "plot_bgcolor": "white",
          "polar": {
           "angularaxis": {
            "gridcolor": "#EBF0F8",
            "linecolor": "#EBF0F8",
            "ticks": ""
           },
           "bgcolor": "white",
           "radialaxis": {
            "gridcolor": "#EBF0F8",
            "linecolor": "#EBF0F8",
            "ticks": ""
           }
          },
          "scene": {
           "xaxis": {
            "backgroundcolor": "white",
            "gridcolor": "#DFE8F3",
            "gridwidth": 2,
            "linecolor": "#EBF0F8",
            "showbackground": true,
            "ticks": "",
            "zerolinecolor": "#EBF0F8"
           },
           "yaxis": {
            "backgroundcolor": "white",
            "gridcolor": "#DFE8F3",
            "gridwidth": 2,
            "linecolor": "#EBF0F8",
            "showbackground": true,
            "ticks": "",
            "zerolinecolor": "#EBF0F8"
           },
           "zaxis": {
            "backgroundcolor": "white",
            "gridcolor": "#DFE8F3",
            "gridwidth": 2,
            "linecolor": "#EBF0F8",
            "showbackground": true,
            "ticks": "",
            "zerolinecolor": "#EBF0F8"
           }
          },
          "shapedefaults": {
           "line": {
            "color": "#2a3f5f"
           }
          },
          "ternary": {
           "aaxis": {
            "gridcolor": "#DFE8F3",
            "linecolor": "#A2B1C6",
            "ticks": ""
           },
           "baxis": {
            "gridcolor": "#DFE8F3",
            "linecolor": "#A2B1C6",
            "ticks": ""
           },
           "bgcolor": "white",
           "caxis": {
            "gridcolor": "#DFE8F3",
            "linecolor": "#A2B1C6",
            "ticks": ""
           }
          },
          "title": {
           "x": 0.05
          },
          "xaxis": {
           "automargin": true,
           "gridcolor": "#EBF0F8",
           "linecolor": "#EBF0F8",
           "ticks": "",
           "title": {
            "standoff": 15
           },
           "zerolinecolor": "#EBF0F8",
           "zerolinewidth": 2
          },
          "yaxis": {
           "automargin": true,
           "gridcolor": "#EBF0F8",
           "linecolor": "#EBF0F8",
           "ticks": "",
           "title": {
            "standoff": 15
           },
           "zerolinecolor": "#EBF0F8",
           "zerolinewidth": 2
          }
         }
        },
        "yaxis": {
         "title": {
          "text": "Error in meters between real path and given path"
         }
        }
       }
      },
      "text/html": [
       "<div>\n",
       "        \n",
       "        \n",
       "            <div id=\"e7473019-7f25-48c1-92f5-63491828a579\" class=\"plotly-graph-div\" style=\"height:500px; width:100%;\"></div>\n",
       "            <script type=\"text/javascript\">\n",
       "                require([\"plotly\"], function(Plotly) {\n",
       "                    window.PLOTLYENV=window.PLOTLYENV || {};\n",
       "                    \n",
       "                if (document.getElementById(\"e7473019-7f25-48c1-92f5-63491828a579\")) {\n",
       "                    Plotly.newPlot(\n",
       "                        'e7473019-7f25-48c1-92f5-63491828a579',\n",
       "                        [{\"line\": {\"width\": 2}, \"mode\": \"lines\", \"name\": \"HF\", \"type\": \"scatter\", \"x\": [\"2020-03-09T10:55:04.581986\", \"2020-03-09T10:55:09.645939\", \"2020-03-09T10:55:14.528373\", \"2020-03-09T10:55:19.624826\", \"2020-03-09T10:55:24.663989\", \"2020-03-09T10:55:29.678838\", \"2020-03-09T10:55:39.630131\", \"2020-03-09T10:55:44.640056\", \"2020-03-09T10:55:49.608299\", \"2020-03-09T10:55:54.605894\", \"2020-03-09T10:55:59.671630\", \"2020-03-09T10:56:04.583111\", \"2020-03-09T10:56:09.678437\", \"2020-03-09T10:56:14.718315\", \"2020-03-09T10:56:19.700122\", \"2020-03-09T10:56:24.634359\", \"2020-03-09T10:56:29.661099\", \"2020-03-09T10:56:34.669263\", \"2020-03-09T10:56:39.635770\", \"2020-03-09T10:56:44.629955\", \"2020-03-09T10:56:49.644746\", \"2020-03-09T10:56:54.642380\", \"2020-03-09T10:56:59.545956\", \"2020-03-09T10:57:04.681473\", \"2020-03-09T10:57:09.654995\", \"2020-03-09T10:57:14.614329\", \"2020-03-09T10:57:19.637066\", \"2020-03-09T10:57:24.670922\", \"2020-03-09T10:57:29.699214\", \"2020-03-09T10:57:34.647807\", \"2020-03-09T10:57:39.689541\", \"2020-03-09T10:57:44.595839\", \"2020-03-09T10:57:49.672161\", \"2020-03-09T10:57:54.664379\", \"2020-03-09T10:57:59.594332\", \"2020-03-09T10:58:04.707632\", \"2020-03-09T10:58:09.614195\", \"2020-03-09T10:58:14.588809\", \"2020-03-09T10:58:19.681629\", \"2020-03-09T10:58:24.649182\", \"2020-03-09T10:58:29.550912\", \"2020-03-09T10:58:34.687585\", \"2020-03-09T10:58:39.564990\", \"2020-03-09T10:58:44.526963\", \"2020-03-09T10:58:49.684971\", \"2020-03-09T10:58:54.558857\", \"2020-03-09T10:58:59.549023\", \"2020-03-09T10:59:04.613360\", \"2020-03-09T10:59:09.710614\", \"2020-03-09T10:59:14.645098\", \"2020-03-09T10:59:19.653849\", \"2020-03-09T10:59:24.700294\", \"2020-03-09T10:59:29.640677\", \"2020-03-09T10:59:34.678694\", \"2020-03-09T10:59:39.585706\", \"2020-03-09T10:59:44.673439\", \"2020-03-09T10:59:49.670600\", \"2020-03-09T10:59:54.685309\", \"2020-03-09T10:59:59.669000\", \"2020-03-09T11:00:04.631372\", \"2020-03-09T11:00:09.641897\", \"2020-03-09T11:00:14.706630\", \"2020-03-09T11:00:19.622114\", \"2020-03-09T11:00:24.628543\", \"2020-03-09T11:00:29.709759\", \"2020-03-09T11:00:34.690219\", \"2020-03-09T11:00:39.674111\", \"2020-03-09T11:00:44.646127\", \"2020-03-09T11:00:49.687179\", \"2020-03-09T11:00:54.597359\", \"2020-03-09T11:00:59.640065\", \"2020-03-09T11:01:04.694809\", \"2020-03-09T11:01:09.678989\", \"2020-03-09T11:01:14.603689\", \"2020-03-09T11:01:19.726386\", \"2020-03-09T11:01:24.616598\", \"2020-03-09T11:01:29.558828\", \"2020-03-09T11:01:34.689234\", \"2020-03-09T11:01:39.646076\", \"2020-03-09T11:01:44.654307\", \"2020-03-09T11:01:49.665018\", \"2020-03-09T11:01:54.701941\", \"2020-03-09T11:01:59.651911\", \"2020-03-09T11:02:04.714779\", \"2020-03-09T11:02:09.704366\", \"2020-03-09T11:02:14.682696\", \"2020-03-09T11:02:19.635148\", \"2020-03-09T11:02:24.702497\", \"2020-03-09T11:02:29.685350\", \"2020-03-09T11:02:34.707141\", \"2020-03-09T11:02:39.551544\", \"2020-03-09T11:02:44.691275\", \"2020-03-09T11:02:49.551238\", \"2020-03-09T11:02:54.709869\", \"2020-03-09T11:02:59.665358\", \"2020-03-09T11:03:04.715127\", \"2020-03-09T11:03:09.575124\", \"2020-03-09T11:03:14.636259\", \"2020-03-09T11:03:19.687612\", \"2020-03-09T11:03:24.724851\", \"2020-03-09T11:03:29.642752\", \"2020-03-09T11:03:34.790027\", \"2020-03-09T11:03:39.680936\", \"2020-03-09T11:03:44.746225\", \"2020-03-09T11:03:49.695415\", \"2020-03-09T11:03:54.698358\", \"2020-03-09T11:03:59.707909\", \"2020-03-09T11:04:04.722515\", \"2020-03-09T11:04:09.675955\", \"2020-03-09T11:04:14.683001\", \"2020-03-09T11:04:19.702923\", \"2020-03-09T11:04:24.639789\", \"2020-03-09T11:04:29.643860\", \"2020-03-09T11:04:34.760266\", \"2020-03-09T11:04:39.664993\", \"2020-03-09T11:04:44.676430\", \"2020-03-09T11:04:49.667881\", \"2020-03-09T11:04:54.684491\", \"2020-03-09T11:04:59.700439\", \"2020-03-09T11:05:04.723882\", \"2020-03-09T11:05:09.690988\", \"2020-03-09T11:05:14.699917\", \"2020-03-09T11:05:19.680458\", \"2020-03-09T11:05:24.733451\", \"2020-03-09T11:05:29.625495\", \"2020-03-09T11:05:34.678226\", \"2020-03-09T11:05:39.713333\", \"2020-03-09T11:05:44.702056\"], \"y\": [73.48751196798437, 85.18267238132565, 85.92812812847276, 87.39162662329531, 89.0872654870896, 91.76920493336247, 95.10363579003022, 99.60738054718334, 105.64450850728886, 103.9484807516428, 101.69311449493985, 101.44118338214905, 101.51167059055079, 101.82302051574175, 106.1592683170069, 115.45024401988842, 119.5536917934297, 120.97445146935715, 141.071989374824, 195.99318678526336, 232.47084517602406, 278.9012277904585, 302.2693071197307, 304.3502100400814, 304.2197384469276, 304.2197384469276, 307.1935252580182, 322.44258061733643, 355.2884044009076, 386.9672441143718, 408.3120316091945, 445.10243446199064, 468.4428404208769, 501.79107885536615, 525.4064989267587, 555.1198393145958, 559.2560250301965, 558.4693820716147, 576.7845330860231, 597.9795475941679, 619.0317422745543, 625.9898566350322, 625.6721264649995, 625.6721264649995, 625.6721264649995, 639.6141341210772, 656.2791487405769, 697.5773089767105, 736.7913581118156, 785.8355711442897, 799.8612639829888, 806.1065507865403, 814.2327828171177, 813.1103223288164, 813.1103223288164, 901.3269241388391, 913.9588858622008, 930.2529895968378, 940.2918029367628, 963.6307597341163, 986.7760325327823, 1039.7397624878743, 1084.261254595602, 1106.2964736751508, 1114.171315156752, 1113.0031870516646, 1113.0031870516646, 1113.0031870516646, 1113.1441042270565, 1126.0636891513077, 1137.8919482615922, 1139.5336553805255, 1139.5336553805255, 1141.6108860592044, 1154.8469211094932, 1185.4907497899724, 1205.5418480630792, 1204.137043251493, 1204.6266460199788, 1204.6266460199788, 1218.4603021221858, 1250.442932262711, 1252.9581519284402, 1309.5830622823094, 1346.7187046944205, 1397.2882531983428, 1423.4838823820542, 1436.665450884799, 1436.5506138972758, 1440.6514762379145, 1481.7927519439158, 1521.7882052682548, 1588.5364035883338, 1636.6365779628184, 1705.6637631217932, 1723.3699858187208, 1725.3501141413421, 1728.032587177794, 1734.441614490645, 1760.4025580517803, 1775.59008970423, 1797.912947906881, 1821.4749171100239, 1842.722890706563, 1863.0235317997035, 1859.5841482194016, 1754.9066982083393, 1760.0530902514831, 1782.9448403326992, 1824.8892359355355, 1845.4176715228184, 1870.455646259786, 1880.197596629806, 1899.0007477419265, 1915.5710528045477, 1923.7282351996676, 1929.3931461335144, 1930.0693618003484, 1930.1125713755844, 1929.8919360762472, 1934.4552173335658, 1943.64823476377, 1957.8724252652792, 1973.220004495212, 1990.752993856777, 2003.7936153773667, 1997.2878241258338, 2004.1351159330727]}, {\"line\": {\"width\": 2}, \"mode\": \"lines\", \"name\": \"Orig\", \"type\": \"scatter\", \"x\": [\"2020-03-09T10:56:36.842317\", \"2020-03-09T10:57:31.573753\", \"2020-03-09T10:58:26.429938\", \"2020-03-09T10:59:21.567477\", \"2020-03-09T11:00:16.775696\", \"2020-03-09T11:01:11.693360\", \"2020-03-09T11:02:07.072449\", \"2020-03-09T11:03:01.726808\", \"2020-03-09T11:03:56.866652\", \"2020-03-09T11:04:51.813575\", \"2020-03-09T11:05:46.442907\"], \"y\": [73.48751196798437, 304.2197384469276, 537.0220258754641, 639.6141341210772, 923.7644105961076, 1113.0031870516646, 1157.1144179689118, 1449.9258837655889, 1779.4257402082708, 1875.320654083454, 1963.9129096977035]}],\n",
       "                        {\"height\": 500, \"margin\": {\"b\": 0, \"l\": 0, \"r\": 0, \"t\": 0}, \"template\": {\"data\": {\"bar\": [{\"error_x\": {\"color\": \"#2a3f5f\"}, \"error_y\": {\"color\": \"#2a3f5f\"}, \"marker\": {\"line\": {\"color\": \"white\", \"width\": 0.5}}, \"type\": \"bar\"}], \"barpolar\": [{\"marker\": {\"line\": {\"color\": \"white\", \"width\": 0.5}}, \"type\": \"barpolar\"}], \"carpet\": [{\"aaxis\": {\"endlinecolor\": \"#2a3f5f\", \"gridcolor\": \"#C8D4E3\", \"linecolor\": \"#C8D4E3\", \"minorgridcolor\": \"#C8D4E3\", \"startlinecolor\": \"#2a3f5f\"}, \"baxis\": {\"endlinecolor\": \"#2a3f5f\", \"gridcolor\": \"#C8D4E3\", \"linecolor\": \"#C8D4E3\", \"minorgridcolor\": \"#C8D4E3\", \"startlinecolor\": \"#2a3f5f\"}, \"type\": \"carpet\"}], \"choropleth\": [{\"colorbar\": {\"outlinewidth\": 0, \"ticks\": \"\"}, \"type\": \"choropleth\"}], \"contour\": [{\"colorbar\": {\"outlinewidth\": 0, \"ticks\": \"\"}, \"colorscale\": [[0.0, \"#0d0887\"], [0.1111111111111111, \"#46039f\"], [0.2222222222222222, \"#7201a8\"], [0.3333333333333333, \"#9c179e\"], [0.4444444444444444, \"#bd3786\"], [0.5555555555555556, \"#d8576b\"], [0.6666666666666666, \"#ed7953\"], [0.7777777777777778, \"#fb9f3a\"], [0.8888888888888888, \"#fdca26\"], [1.0, \"#f0f921\"]], \"type\": \"contour\"}], \"contourcarpet\": [{\"colorbar\": {\"outlinewidth\": 0, \"ticks\": \"\"}, \"type\": \"contourcarpet\"}], \"heatmap\": [{\"colorbar\": {\"outlinewidth\": 0, \"ticks\": \"\"}, \"colorscale\": [[0.0, \"#0d0887\"], [0.1111111111111111, \"#46039f\"], [0.2222222222222222, \"#7201a8\"], [0.3333333333333333, \"#9c179e\"], [0.4444444444444444, \"#bd3786\"], [0.5555555555555556, \"#d8576b\"], [0.6666666666666666, \"#ed7953\"], [0.7777777777777778, \"#fb9f3a\"], [0.8888888888888888, \"#fdca26\"], [1.0, \"#f0f921\"]], \"type\": \"heatmap\"}], \"heatmapgl\": [{\"colorbar\": {\"outlinewidth\": 0, \"ticks\": \"\"}, \"colorscale\": [[0.0, \"#0d0887\"], [0.1111111111111111, \"#46039f\"], [0.2222222222222222, \"#7201a8\"], [0.3333333333333333, \"#9c179e\"], [0.4444444444444444, \"#bd3786\"], [0.5555555555555556, \"#d8576b\"], [0.6666666666666666, \"#ed7953\"], [0.7777777777777778, \"#fb9f3a\"], [0.8888888888888888, \"#fdca26\"], [1.0, \"#f0f921\"]], \"type\": \"heatmapgl\"}], \"histogram\": [{\"marker\": {\"colorbar\": {\"outlinewidth\": 0, \"ticks\": \"\"}}, \"type\": \"histogram\"}], \"histogram2d\": [{\"colorbar\": {\"outlinewidth\": 0, \"ticks\": \"\"}, \"colorscale\": [[0.0, \"#0d0887\"], [0.1111111111111111, \"#46039f\"], [0.2222222222222222, \"#7201a8\"], [0.3333333333333333, \"#9c179e\"], [0.4444444444444444, \"#bd3786\"], [0.5555555555555556, \"#d8576b\"], [0.6666666666666666, \"#ed7953\"], [0.7777777777777778, \"#fb9f3a\"], [0.8888888888888888, \"#fdca26\"], [1.0, \"#f0f921\"]], \"type\": \"histogram2d\"}], \"histogram2dcontour\": [{\"colorbar\": {\"outlinewidth\": 0, \"ticks\": \"\"}, \"colorscale\": [[0.0, \"#0d0887\"], [0.1111111111111111, \"#46039f\"], [0.2222222222222222, \"#7201a8\"], [0.3333333333333333, \"#9c179e\"], [0.4444444444444444, \"#bd3786\"], [0.5555555555555556, \"#d8576b\"], [0.6666666666666666, \"#ed7953\"], [0.7777777777777778, \"#fb9f3a\"], [0.8888888888888888, \"#fdca26\"], [1.0, \"#f0f921\"]], \"type\": \"histogram2dcontour\"}], \"mesh3d\": [{\"colorbar\": {\"outlinewidth\": 0, \"ticks\": \"\"}, \"type\": \"mesh3d\"}], \"parcoords\": [{\"line\": {\"colorbar\": {\"outlinewidth\": 0, \"ticks\": \"\"}}, \"type\": \"parcoords\"}], \"pie\": [{\"automargin\": true, \"type\": \"pie\"}], \"scatter\": [{\"marker\": {\"colorbar\": {\"outlinewidth\": 0, \"ticks\": \"\"}}, \"type\": \"scatter\"}], \"scatter3d\": [{\"line\": {\"colorbar\": {\"outlinewidth\": 0, \"ticks\": \"\"}}, \"marker\": {\"colorbar\": {\"outlinewidth\": 0, \"ticks\": \"\"}}, \"type\": \"scatter3d\"}], \"scattercarpet\": [{\"marker\": {\"colorbar\": {\"outlinewidth\": 0, \"ticks\": \"\"}}, \"type\": \"scattercarpet\"}], \"scattergeo\": [{\"marker\": {\"colorbar\": {\"outlinewidth\": 0, \"ticks\": \"\"}}, \"type\": \"scattergeo\"}], \"scattergl\": [{\"marker\": {\"colorbar\": {\"outlinewidth\": 0, \"ticks\": \"\"}}, \"type\": \"scattergl\"}], \"scattermapbox\": [{\"marker\": {\"colorbar\": {\"outlinewidth\": 0, \"ticks\": \"\"}}, \"type\": \"scattermapbox\"}], \"scatterpolar\": [{\"marker\": {\"colorbar\": {\"outlinewidth\": 0, \"ticks\": \"\"}}, \"type\": \"scatterpolar\"}], \"scatterpolargl\": [{\"marker\": {\"colorbar\": {\"outlinewidth\": 0, \"ticks\": \"\"}}, \"type\": \"scatterpolargl\"}], \"scatterternary\": [{\"marker\": {\"colorbar\": {\"outlinewidth\": 0, \"ticks\": \"\"}}, \"type\": \"scatterternary\"}], \"surface\": [{\"colorbar\": {\"outlinewidth\": 0, \"ticks\": \"\"}, \"colorscale\": [[0.0, \"#0d0887\"], [0.1111111111111111, \"#46039f\"], [0.2222222222222222, \"#7201a8\"], [0.3333333333333333, \"#9c179e\"], [0.4444444444444444, \"#bd3786\"], [0.5555555555555556, \"#d8576b\"], [0.6666666666666666, \"#ed7953\"], [0.7777777777777778, \"#fb9f3a\"], [0.8888888888888888, \"#fdca26\"], [1.0, \"#f0f921\"]], \"type\": \"surface\"}], \"table\": [{\"cells\": {\"fill\": {\"color\": \"#EBF0F8\"}, \"line\": {\"color\": \"white\"}}, \"header\": {\"fill\": {\"color\": \"#C8D4E3\"}, \"line\": {\"color\": \"white\"}}, \"type\": \"table\"}]}, \"layout\": {\"annotationdefaults\": {\"arrowcolor\": \"#2a3f5f\", \"arrowhead\": 0, \"arrowwidth\": 1}, \"coloraxis\": {\"colorbar\": {\"outlinewidth\": 0, \"ticks\": \"\"}}, \"colorscale\": {\"diverging\": [[0, \"#8e0152\"], [0.1, \"#c51b7d\"], [0.2, \"#de77ae\"], [0.3, \"#f1b6da\"], [0.4, \"#fde0ef\"], [0.5, \"#f7f7f7\"], [0.6, \"#e6f5d0\"], [0.7, \"#b8e186\"], [0.8, \"#7fbc41\"], [0.9, \"#4d9221\"], [1, \"#276419\"]], \"sequential\": [[0.0, \"#0d0887\"], [0.1111111111111111, \"#46039f\"], [0.2222222222222222, \"#7201a8\"], [0.3333333333333333, \"#9c179e\"], [0.4444444444444444, \"#bd3786\"], [0.5555555555555556, \"#d8576b\"], [0.6666666666666666, \"#ed7953\"], [0.7777777777777778, \"#fb9f3a\"], [0.8888888888888888, \"#fdca26\"], [1.0, \"#f0f921\"]], \"sequentialminus\": [[0.0, \"#0d0887\"], [0.1111111111111111, \"#46039f\"], [0.2222222222222222, \"#7201a8\"], [0.3333333333333333, \"#9c179e\"], [0.4444444444444444, \"#bd3786\"], [0.5555555555555556, \"#d8576b\"], [0.6666666666666666, \"#ed7953\"], [0.7777777777777778, \"#fb9f3a\"], [0.8888888888888888, \"#fdca26\"], [1.0, \"#f0f921\"]]}, \"colorway\": [\"#636efa\", \"#EF553B\", \"#00cc96\", \"#ab63fa\", \"#FFA15A\", \"#19d3f3\", \"#FF6692\", \"#B6E880\", \"#FF97FF\", \"#FECB52\"], \"font\": {\"color\": \"#2a3f5f\"}, \"geo\": {\"bgcolor\": \"white\", \"lakecolor\": \"white\", \"landcolor\": \"white\", \"showlakes\": true, \"showland\": true, \"subunitcolor\": \"#C8D4E3\"}, \"hoverlabel\": {\"align\": \"left\"}, \"hovermode\": \"closest\", \"mapbox\": {\"style\": \"light\"}, \"paper_bgcolor\": \"white\", \"plot_bgcolor\": \"white\", \"polar\": {\"angularaxis\": {\"gridcolor\": \"#EBF0F8\", \"linecolor\": \"#EBF0F8\", \"ticks\": \"\"}, \"bgcolor\": \"white\", \"radialaxis\": {\"gridcolor\": \"#EBF0F8\", \"linecolor\": \"#EBF0F8\", \"ticks\": \"\"}}, \"scene\": {\"xaxis\": {\"backgroundcolor\": \"white\", \"gridcolor\": \"#DFE8F3\", \"gridwidth\": 2, \"linecolor\": \"#EBF0F8\", \"showbackground\": true, \"ticks\": \"\", \"zerolinecolor\": \"#EBF0F8\"}, \"yaxis\": {\"backgroundcolor\": \"white\", \"gridcolor\": \"#DFE8F3\", \"gridwidth\": 2, \"linecolor\": \"#EBF0F8\", \"showbackground\": true, \"ticks\": \"\", \"zerolinecolor\": \"#EBF0F8\"}, \"zaxis\": {\"backgroundcolor\": \"white\", \"gridcolor\": \"#DFE8F3\", \"gridwidth\": 2, \"linecolor\": \"#EBF0F8\", \"showbackground\": true, \"ticks\": \"\", \"zerolinecolor\": \"#EBF0F8\"}}, \"shapedefaults\": {\"line\": {\"color\": \"#2a3f5f\"}}, \"ternary\": {\"aaxis\": {\"gridcolor\": \"#DFE8F3\", \"linecolor\": \"#A2B1C6\", \"ticks\": \"\"}, \"baxis\": {\"gridcolor\": \"#DFE8F3\", \"linecolor\": \"#A2B1C6\", \"ticks\": \"\"}, \"bgcolor\": \"white\", \"caxis\": {\"gridcolor\": \"#DFE8F3\", \"linecolor\": \"#A2B1C6\", \"ticks\": \"\"}}, \"title\": {\"x\": 0.05}, \"xaxis\": {\"automargin\": true, \"gridcolor\": \"#EBF0F8\", \"linecolor\": \"#EBF0F8\", \"ticks\": \"\", \"title\": {\"standoff\": 15}, \"zerolinecolor\": \"#EBF0F8\", \"zerolinewidth\": 2}, \"yaxis\": {\"automargin\": true, \"gridcolor\": \"#EBF0F8\", \"linecolor\": \"#EBF0F8\", \"ticks\": \"\", \"title\": {\"standoff\": 15}, \"zerolinecolor\": \"#EBF0F8\", \"zerolinewidth\": 2}}}, \"yaxis\": {\"title\": {\"text\": \"Error in meters between real path and given path\"}}},\n",
       "                        {\"responsive\": true}\n",
       "                    ).then(function(){\n",
       "                            \n",
       "var gd = document.getElementById('e7473019-7f25-48c1-92f5-63491828a579');\n",
       "var x = new MutationObserver(function (mutations, observer) {{\n",
       "        var display = window.getComputedStyle(gd).display;\n",
       "        if (!display || display === 'none') {{\n",
       "            console.log([gd, 'removed!']);\n",
       "            Plotly.purge(gd);\n",
       "            observer.disconnect();\n",
       "        }}\n",
       "}});\n",
       "\n",
       "// Listen for the removal of the full notebook cells\n",
       "var notebookContainer = gd.closest('#notebook-container');\n",
       "if (notebookContainer) {{\n",
       "    x.observe(notebookContainer, {childList: true});\n",
       "}}\n",
       "\n",
       "// Listen for the clearing of the current output cell\n",
       "var outputEl = gd.closest('.output');\n",
       "if (outputEl) {{\n",
       "    x.observe(outputEl, {childList: true});\n",
       "}}\n",
       "\n",
       "                        })\n",
       "                };\n",
       "                });\n",
       "            </script>\n",
       "        </div>"
      ]
     },
     "metadata": {},
     "output_type": "display_data"
    }
   ],
   "source": [
    "#Distance between points of paths over time\n",
    "fig6 = go.Figure()\n",
    "fig6.add_trace(go.Scatter(\n",
    "    x=hf_buses_data_path.datetime, \n",
    "    y=hf_buses_data_path.dist_to_tracked, \n",
    "    mode='lines',\n",
    "    name='HF',\n",
    "    line=dict(width=2)\n",
    "))\n",
    "fig6.add_trace(go.Scatter(\n",
    "    x=buses_data_path.datetime, \n",
    "    y=buses_data_path.dist_to_tracked, \n",
    "    mode='lines',\n",
    "    name='Orig',\n",
    "    line=dict(width=2)\n",
    "))\n",
    "\n",
    "fig6.update_layout(\n",
    "    height=500,\n",
    "    margin=dict(r=0, l=0, t=0, b=0),\n",
    "    yaxis=dict(\n",
    "        title='Error in meters between real path and given path'\n",
    "    )\n",
    ")"
   ]
  },
  {
   "cell_type": "code",
   "execution_count": 145,
   "metadata": {},
   "outputs": [
    {
     "data": {
      "application/vnd.plotly.v1+json": {
       "config": {
        "plotlyServerURL": "https://plot.ly"
       },
       "data": [
        {
         "hoverinfo": "text",
         "lat": [
          40.446766208798,
          40.44700513696822,
          40.44673094565124,
          40.44671465246461,
          40.44673321624735,
          40.4467391117401,
          40.446738471957566,
          40.44672585856044,
          40.4467148812651,
          40.446716184979955,
          40.44672453354607,
          40.44673371901647,
          40.44672991451675,
          40.44671015585849,
          40.44670181190481,
          40.44666597286184,
          40.44666875960167,
          40.44666913177827,
          40.44666725433251,
          40.44666328706852,
          40.446654537332066,
          40.446674486556205,
          40.44668790061233,
          40.44669595930792,
          40.44669219955264,
          40.44670420077316,
          40.44670801318834,
          40.446718831041466,
          40.44672504123623,
          40.44672952905814,
          40.44672952905814,
          40.44672952905814,
          40.44672741026464,
          40.446720808502135,
          40.4467476074084,
          40.446778584751705,
          40.446803842585524,
          40.446849223700085,
          40.44687077240438,
          40.44687808076316,
          40.446882026775626,
          40.446882026775626,
          40.44691237866696,
          40.44692282488942,
          40.44692583334583,
          40.446935401845266,
          40.44693860539393,
          40.446945734014136,
          40.446951046678215,
          40.44695510661688,
          40.44697232442102,
          40.44699704839841,
          40.44700537695799,
          40.44704992232774,
          40.44708802204004,
          40.44710605508429,
          40.44710067857115,
          40.44709976869237,
          40.44709976869237,
          40.44709976869237,
          40.44709976869237,
          40.44709976869237,
          40.44709976869237,
          40.44709852397708,
          40.44709289412352,
          40.44709136640431,
          40.447091770395126,
          40.447096103772964,
          40.44709648980885,
          40.4471159379105,
          40.44715737565564,
          40.44716598224045,
          40.44716739955802,
          40.44716949740309,
          40.447169921927134,
          40.44714538192061,
          40.447102974345796,
          40.44705911349034,
          40.447009096875256,
          40.4469684009537,
          40.44694750705021,
          40.44690957472738,
          40.446840232628084,
          40.44677776784524,
          40.446733384261414,
          40.44670083030654,
          40.4466712114506,
          40.44664729884058,
          40.44665523573822,
          40.446648099510746,
          40.44664244014996,
          40.44663255268687,
          40.446628871331136,
          40.4466298667082,
          40.44660802955234,
          40.44659226902699,
          40.44656036941478,
          40.446529373891515,
          40.44651030459854,
          40.446495663552966,
          40.446494556198324,
          40.44649596214369,
          40.44649378102674,
          40.44649378102674,
          40.44649378102674,
          40.44649378102674,
          40.44649378102674,
          40.44649378102674,
          40.44649364787947,
          40.44647785488544,
          40.446470511061214,
          40.446446657184325,
          40.44641146167192,
          40.44637712387369,
          40.446341164973695,
          40.4463045179273,
          40.44624628975241,
          40.446172009863176,
          40.44611695579147,
          40.446071257423874,
          40.446046495747915,
          40.44608680429978,
          40.44616055347929,
          40.44625163698584,
          40.44633073667623,
          40.44638522070047,
          40.44641475373893,
          40.446413225951765,
          40.44640941550286,
          40.44641323066374,
          40.44641323066374,
          40.44641323066374,
          40.44641323066374,
          40.44644447373806,
          40.446500767839254,
          40.446657784226424,
          40.44677453694801,
          40.44689639822926,
          40.44709391412003,
          40.44724094281161,
          40.44738556574043,
          40.44752642816514,
          40.44765923278733,
          40.44776602997401,
          40.447851961273905,
          40.44791598190597,
          40.4479942357152,
          40.44808243672292,
          40.448164220754364,
          40.44825202239654,
          40.448338654291824,
          40.44846049189604,
          40.44848992797901,
          40.44850270463518,
          40.448523563734206,
          40.448561917714585,
          40.4485720318733,
          40.44857273393515,
          40.44857260007451,
          40.44857260007451,
          40.44857260007451,
          40.44857260007451,
          40.44857260007451,
          40.44857260007451,
          40.44857260007451,
          40.44857260007451,
          40.44857503962415,
          40.448617737290796,
          40.44865264087205,
          40.448691954705126,
          40.44873306976843,
          40.448778479803835,
          40.44878777165573,
          40.448783229867786,
          40.448783229867786,
          40.448783229867786,
          40.44879652263919,
          40.44884942837542,
          40.448933738018006,
          40.44903525518529,
          40.44912657471619,
          40.449179158032436,
          40.44917182414493,
          40.44916502498263,
          40.449167301354734,
          40.44916468154292,
          40.44917338474453,
          40.44918158007398,
          40.449182876852824,
          40.449182876852824,
          40.449182876852824,
          40.449182876852824,
          40.449182876852824,
          40.44918368740286,
          40.4491798905015,
          40.44915887341544,
          40.449135595653495,
          40.44911236921058,
          40.449091838820955,
          40.44908285781343,
          40.449065768625,
          40.449046435468375,
          40.4490016398154,
          40.44896852686601,
          40.44893394702529,
          40.44889703292569,
          40.448862931201226,
          40.44880562535006,
          40.448762669476636,
          40.448721763965835,
          40.44868653373942,
          40.44867901544052,
          40.4486841538126,
          40.44868834993792,
          40.44868834993792,
          40.44868370395876,
          40.44866611765467,
          40.448628231938365,
          40.44857688556518,
          40.44851054914833,
          40.448435641245815,
          40.448362208618704,
          40.44829960056434,
          40.448247201872434,
          40.44819294117368,
          40.44813991471029,
          40.44808926872422,
          40.44803836050828,
          40.44798959744665,
          40.447939122807234,
          40.447907440755884,
          40.4478929539939,
          40.44788477492509,
          40.44788282511638,
          40.44788277225325,
          40.447881859641406,
          40.44788093952597,
          40.44787933870018,
          40.44787041538757,
          40.44785116670433,
          40.447843059606726,
          40.44787420027847,
          40.44796080978107,
          40.4480934072743,
          40.44823860176034,
          40.44837100817347,
          40.44851922089712,
          40.448559210166536,
          40.44855748851869,
          40.448542798160965,
          40.4485260400231,
          40.44852183194181,
          40.44853127256408,
          40.4485344442016,
          40.4485326041995,
          40.44852457363588,
          40.448522960829514,
          40.44851984344957,
          40.44851503863682,
          40.44851030188291,
          40.44850159449954,
          40.44848641574789,
          40.44845126769182,
          40.44842237362099,
          40.4483977302919,
          40.448372302969815,
          40.44834862222953,
          40.448340280257796,
          40.44833943094953,
          40.44836112156319,
          40.44842102703932,
          40.44850876053394,
          40.448618201943525,
          40.448742581742366,
          40.44890305938104,
          40.449078780250936,
          40.44925820038981,
          40.44951466543828,
          40.44966100032818,
          40.4497824322774,
          40.44988437724639,
          40.4499687092616,
          40.450017996213894,
          40.45004616590397,
          40.45004985653404,
          40.45006127314143,
          40.45006238274782,
          40.45006535433086,
          40.45007295872518,
          40.450075338598396,
          40.450101585462534,
          40.45015380046655,
          40.450242880540436,
          40.450349479084814,
          40.45046570703184,
          40.450690040097605,
          40.450873894800324,
          40.45105503619113,
          40.451235874892404,
          40.45139596117038,
          40.4516589354424,
          40.451799452664545,
          40.45193194673157,
          40.45202709020315,
          40.452096985931014,
          40.45212509833601,
          40.45201224230819,
          40.452113618131676,
          40.452113618131676,
          40.45212402179659,
          40.45215082809134,
          40.452194619309616
         ],
         "line": {
          "color": "purple",
          "width": 2
         },
         "lon": [
          -3.7052010468764154,
          -3.7050899967822875,
          -3.7053149681954443,
          -3.7053336569009763,
          -3.705327954445885,
          -3.7053267335216264,
          -3.705345735521233,
          -3.7053508822534305,
          -3.705359968990183,
          -3.7053656667916703,
          -3.705370089239909,
          -3.705382651541665,
          -3.705400451370943,
          -3.7054113128097153,
          -3.7054130090075166,
          -3.705442918120206,
          -3.70543633604038,
          -3.705450656117454,
          -3.7054970782680794,
          -3.705533827702722,
          -3.7055666434074426,
          -3.7055689894718,
          -3.705552704323477,
          -3.7055352746418793,
          -3.7055300867798002,
          -3.7055284208945,
          -3.7055275767053955,
          -3.7055274150366455,
          -3.705531428284225,
          -3.7055295070686007,
          -3.7055295070686007,
          -3.7055295070686007,
          -3.705532963430742,
          -3.7055436354875217,
          -3.7055862633940233,
          -3.7056295655179983,
          -3.70566694281025,
          -3.705697109185908,
          -3.705725859435428,
          -3.705743570489259,
          -3.7057404578769466,
          -3.7057404578769466,
          -3.7057566568387976,
          -3.705834925440593,
          -3.705993492532433,
          -3.7061938854068637,
          -3.7064110405189066,
          -3.706642517786405,
          -3.7068675744665724,
          -3.7070737719493896,
          -3.707274653486256,
          -3.7074578083655942,
          -3.7076188684573625,
          -3.7077974162489538,
          -3.707886075567274,
          -3.7079183476018693,
          -3.707909026855082,
          -3.707907606005725,
          -3.707907606005725,
          -3.707907606005725,
          -3.707907606005725,
          -3.707907606005725,
          -3.707907606005725,
          -3.7079093439405737,
          -3.7079438990257265,
          -3.7080207208452407,
          -3.708125138429427,
          -3.7082400907785056,
          -3.70836292530595,
          -3.7085119353880653,
          -3.7087506170354305,
          -3.7088814583816996,
          -3.7090052947707455,
          -3.7091344654316245,
          -3.7092669381525467,
          -3.709412511120793,
          -3.7095783393394752,
          -3.7097251903702153,
          -3.7098621666392595,
          -3.7100002439002693,
          -3.710130821188961,
          -3.710261041548992,
          -3.710398626407592,
          -3.710541507984318,
          -3.7106781344159447,
          -3.710799112933124,
          -3.7108902772247068,
          -3.710913512190139,
          -3.7109385657996885,
          -3.7109256188373605,
          -3.7109287431020825,
          -3.710950547538286,
          -3.7110114516257906,
          -3.7111446912706887,
          -3.7112675982150614,
          -3.7113934420127452,
          -3.7114994490712383,
          -3.711581420635266,
          -3.7116374179125757,
          -3.7116908034815705,
          -3.7117186201329773,
          -3.7117167100890103,
          -3.7117148042080332,
          -3.7117148042080332,
          -3.7117148042080332,
          -3.7117148042080332,
          -3.7117148042080332,
          -3.7117148042080332,
          -3.711729513237492,
          -3.7117898755620478,
          -3.7118780419581947,
          -3.7119646387046132,
          -3.712070446354489,
          -3.712199274166417,
          -3.7123578480097397,
          -3.712549317337179,
          -3.7127665542345016,
          -3.7129990309855065,
          -3.7132184177164334,
          -3.713411325274393,
          -3.713564604769254,
          -3.7137213018084823,
          -3.7137459585255685,
          -3.7137857384555595,
          -3.713837372628031,
          -3.713892530797555,
          -3.7139358323783833,
          -3.7139400156377373,
          -3.713930783056254,
          -3.713926735990964,
          -3.713926735990964,
          -3.713926735990964,
          -3.713926735990964,
          -3.7139293415425034,
          -3.713941890023651,
          -3.7139345004324835,
          -3.7140208705872046,
          -3.71409669758787,
          -3.7142059885483354,
          -3.7142738596168545,
          -3.7143312686535714,
          -3.714366007281548,
          -3.7144077471435977,
          -3.714485993211807,
          -3.7145978945784113,
          -3.714724226712357,
          -3.7148492091518595,
          -3.7150195623901623,
          -3.7152164487366273,
          -3.715431541694746,
          -3.7156385220959467,
          -3.715919125448928,
          -3.716080979713336,
          -3.7161737098676095,
          -3.716219234073622,
          -3.716246984031062,
          -3.7162519723438385,
          -3.716240826489752,
          -3.716237810890956,
          -3.716237810890956,
          -3.716237810890956,
          -3.716237810890956,
          -3.716237810890956,
          -3.716237810890956,
          -3.716237810890956,
          -3.716237810890956,
          -3.7162389207150985,
          -3.7162974767297543,
          -3.7163753052879747,
          -3.716449456264717,
          -3.71649740587723,
          -3.7165136692846157,
          -3.716509221208434,
          -3.7165042287173606,
          -3.7165042287173606,
          -3.7165042287173606,
          -3.7165033875941718,
          -3.7165037108721832,
          -3.7164884610887525,
          -3.7165144668048384,
          -3.716592224925223,
          -3.7167956164696014,
          -3.7169500575652763,
          -3.717086400174914,
          -3.7171711535479175,
          -3.7171951317475043,
          -3.7171804008584313,
          -3.717173098083573,
          -3.7171786428796563,
          -3.7171786428796563,
          -3.7171786428796563,
          -3.7171786428796563,
          -3.7171786428796563,
          -3.71718598728283,
          -3.7172446693373744,
          -3.717353227191062,
          -3.7175261436395957,
          -3.7177531000769437,
          -3.71813260078039,
          -3.7183699046595526,
          -3.7186033546194124,
          -3.718842774997474,
          -3.71907467546899,
          -3.7193104078372357,
          -3.719538294604374,
          -3.7197636541898658,
          -3.7199766080211254,
          -3.720174650397203,
          -3.7203544993048165,
          -3.720506094218353,
          -3.720613966389129,
          -3.7206704640776156,
          -3.7206713632935724,
          -3.72066914631062,
          -3.72066914631062,
          -3.7206743414562435,
          -3.7207226004630205,
          -3.720840806394777,
          -3.721030221278264,
          -3.7212428041179413,
          -3.7214670134667744,
          -3.721743972026,
          -3.7220039582173263,
          -3.722277681158739,
          -3.7225622105785887,
          -3.722852641947117,
          -3.723146507266807,
          -3.723426049797007,
          -3.723675798435602,
          -3.7239819330199992,
          -3.7241233280183947,
          -3.7241964167216186,
          -3.7242176935197198,
          -3.7242208714441936,
          -3.7242246859408863,
          -3.7242302178883926,
          -3.7242528345597408,
          -3.72427918214839,
          -3.7243297776141486,
          -3.7244147901169375,
          -3.7245208385822166,
          -3.724636938721136,
          -3.7247390839039065,
          -3.7247941719353816,
          -3.724822478781897,
          -3.7248633421614596,
          -3.7250040858667552,
          -3.725139170858053,
          -3.725278571637065,
          -3.725414183716755,
          -3.7255357031856566,
          -3.725652573970368,
          -3.7257455259563166,
          -3.7257757549959156,
          -3.7257618244205686,
          -3.7257362854557337,
          -3.7257282637624245,
          -3.7257340515465365,
          -3.7257391444685286,
          -3.7257543523526047,
          -3.725802178564007,
          -3.7258884674522434,
          -3.7260809594333937,
          -3.726241584059163,
          -3.7264197834655537,
          -3.7265890488932842,
          -3.7267288621017074,
          -3.7268365320933503,
          -3.726933187605345,
          -3.7270305084703623,
          -3.72712373578382,
          -3.7271702445280166,
          -3.727213330521421,
          -3.727267820744127,
          -3.727314311158664,
          -3.7273646831970066,
          -3.7274151271378657,
          -3.727479285314048,
          -3.727512238676782,
          -3.7275187433039263,
          -3.727521379372542,
          -3.727524842379147,
          -3.727531012472255,
          -3.727534590978699,
          -3.7275312766791475,
          -3.727529792681699,
          -3.7275289823908735,
          -3.727527942014814,
          -3.727523640547289,
          -3.727522795294742,
          -3.7275191916167763,
          -3.7275183326946495,
          -3.7275347482132664,
          -3.7275634999661924,
          -3.7275852229586235,
          -3.7276175992288354,
          -3.7276371302296285,
          -3.727653131002257,
          -3.727670483296761,
          -3.72765180815229,
          -3.7277108867356206,
          -3.7277195903074367,
          -3.7277332970027888,
          -3.7277550952809753,
          -3.7277640849592752,
          -3.7277670016863493,
          -3.727717556723474,
          -3.7277667737340807,
          -3.7277667737340807,
          -3.727757415770494,
          -3.7277511586472576,
          -3.727734681278653
         ],
         "mode": "lines",
         "name": "Tracked path",
         "text": "Real path",
         "type": "scattermapbox"
        },
        {
         "hoverinfo": "text",
         "lat": [
          40.4468053604688,
          40.4468053604688,
          40.4468053604688,
          40.4468053604688,
          40.4468053604688,
          40.4468053604688,
          40.4468053604688,
          40.4468053604688,
          40.4468053604688,
          40.4468053604688,
          40.4468053604688,
          40.4468053604688,
          40.4468053604688,
          40.4468053604688,
          40.4468053604688,
          40.4468053604688,
          40.4468053604688,
          40.4468053604688,
          40.4468053604688,
          40.4468053604688,
          40.4468053604688,
          40.4468053604688,
          40.4468053604688,
          40.4468053604688,
          40.4468053604688,
          40.4468053604688,
          40.4468053604688,
          40.4468053604688,
          40.4468053604688,
          40.4468053604688,
          40.4468053604688,
          40.4468053604688,
          40.4468053604688,
          40.4468053604688,
          40.4468053604688,
          40.4468053604688,
          40.4468053604688,
          40.4468053604688,
          40.4468053604688,
          40.4468053604688,
          40.4468053604688,
          40.4468053604688,
          40.4468053604688,
          40.4468053604688,
          40.4468053604688,
          40.4468053604688,
          40.4468053604688,
          40.4468053604688,
          40.4468053604688,
          40.4468053604688,
          40.4468053604688,
          40.4468053604688,
          40.4468053604688,
          40.4468053604688,
          40.4468053604688,
          40.446784691515134,
          40.446784691515134,
          40.446784691515134,
          40.446784691515134,
          40.446784691515134,
          40.446784691515134,
          40.446784691515134,
          40.446784691515134,
          40.446784691515134,
          40.446784691515134,
          40.446784691515134,
          40.446784691515134,
          40.446784691515134,
          40.446784691515134,
          40.446784691515134,
          40.446784691515134,
          40.446784691515134,
          40.446784691515134,
          40.446784691515134,
          40.446784691515134,
          40.446784691515134,
          40.446784691515134,
          40.446784691515134,
          40.446784691515134,
          40.446784691515134,
          40.446784691515134,
          40.446784691515134,
          40.44672985690725,
          40.44672985690725,
          40.44672985690725,
          40.44672985690725,
          40.44672985690725,
          40.44672985690725,
          40.44672985690725,
          40.44672985690725,
          40.44672985690725,
          40.44672985690725,
          40.44672985690725,
          40.44672985690725,
          40.44672985690725,
          40.44672985690725,
          40.44672985690725,
          40.44672985690725,
          40.44672985690725,
          40.44672985690725,
          40.44672985690725,
          40.44672985690725,
          40.44672985690725,
          40.44672985690725,
          40.44672985690725,
          40.44672985690725,
          40.4468286900952,
          40.4468286900952,
          40.4468286900952,
          40.4468286900952,
          40.4468286900952,
          40.4468286900952,
          40.4468286900952,
          40.4468286900952,
          40.4468286900952,
          40.4468286900952,
          40.4468286900952,
          40.4468286900952,
          40.4468286900952,
          40.4468286900952,
          40.4468286900952,
          40.4468286900952,
          40.4468286900952,
          40.4468286900952,
          40.4468286900952,
          40.4468286900952,
          40.4468286900952,
          40.4468286900952
         ],
         "line": {
          "color": "blue",
          "width": 2
         },
         "lon": [
          -3.704334379699834,
          -3.704334379699834,
          -3.704334379699834,
          -3.704334379699834,
          -3.704334379699834,
          -3.704334379699834,
          -3.704334379699834,
          -3.704334379699834,
          -3.704334379699834,
          -3.704334379699834,
          -3.704334379699834,
          -3.704334379699834,
          -3.704334379699834,
          -3.704334379699834,
          -3.704334379699834,
          -3.704334379699834,
          -3.704334379699834,
          -3.704334379699834,
          -3.704334379699834,
          -3.704334379699834,
          -3.704334379699834,
          -3.704334379699834,
          -3.704334379699834,
          -3.704334379699834,
          -3.704334379699834,
          -3.704334379699834,
          -3.704334379699834,
          -3.704334379699834,
          -3.704334379699834,
          -3.704334379699834,
          -3.704334379699834,
          -3.704334379699834,
          -3.704334379699834,
          -3.704334379699834,
          -3.704334379699834,
          -3.704334379699834,
          -3.704334379699834,
          -3.704334379699834,
          -3.704334379699834,
          -3.704334379699834,
          -3.704334379699834,
          -3.704334379699834,
          -3.704334379699834,
          -3.704334379699834,
          -3.704334379699834,
          -3.704334379699834,
          -3.704334379699834,
          -3.704334379699834,
          -3.704334379699834,
          -3.704334379699834,
          -3.704334379699834,
          -3.704334379699834,
          -3.704334379699834,
          -3.704334379699834,
          -3.704334379699834,
          -3.703300034931261,
          -3.703300034931261,
          -3.703300034931261,
          -3.703300034931261,
          -3.703300034931261,
          -3.703300034931261,
          -3.703300034931261,
          -3.703300034931261,
          -3.703300034931261,
          -3.703300034931261,
          -3.703300034931261,
          -3.703300034931261,
          -3.703300034931261,
          -3.703300034931261,
          -3.703300034931261,
          -3.703300034931261,
          -3.703300034931261,
          -3.703300034931261,
          -3.703300034931261,
          -3.703300034931261,
          -3.703300034931261,
          -3.703300034931261,
          -3.703300034931261,
          -3.703300034931261,
          -3.703300034931261,
          -3.703300034931261,
          -3.703300034931261,
          -3.7038935436185874,
          -3.7038935436185874,
          -3.7038935436185874,
          -3.7038935436185874,
          -3.7038935436185874,
          -3.7038935436185874,
          -3.7038935436185874,
          -3.7038935436185874,
          -3.7038935436185874,
          -3.7038935436185874,
          -3.7038935436185874,
          -3.7038935436185874,
          -3.7038935436185874,
          -3.7038935436185874,
          -3.7038935436185874,
          -3.7038935436185874,
          -3.7038935436185874,
          -3.7038935436185874,
          -3.7038935436185874,
          -3.7038935436185874,
          -3.7038935436185874,
          -3.7038935436185874,
          -3.7038935436185874,
          -3.7038935436185874,
          -3.7051248945886393,
          -3.7051248945886393,
          -3.7051248945886393,
          -3.7051248945886393,
          -3.7051248945886393,
          -3.7051248945886393,
          -3.7051248945886393,
          -3.7051248945886393,
          -3.7051248945886393,
          -3.7051248945886393,
          -3.7051248945886393,
          -3.7051248945886393,
          -3.7051248945886393,
          -3.7051248945886393,
          -3.7051248945886393,
          -3.7051248945886393,
          -3.7051248945886393,
          -3.7051248945886393,
          -3.7051248945886393,
          -3.7051248945886393,
          -3.7051248945886393,
          -3.7051248945886393
         ],
         "mode": "lines",
         "name": "HF path",
         "text": "Experiment path",
         "type": "scattermapbox"
        },
        {
         "hoverinfo": "text",
         "lat": [
          40.4468053604688,
          40.4468053604688,
          40.4468053604688,
          40.4468053604688,
          40.446784691515134,
          40.446784691515134,
          40.44672985690725,
          40.44672985690725,
          40.44672985690725,
          40.4468286900952,
          40.4468286900952
         ],
         "line": {
          "color": "green",
          "width": 2
         },
         "lon": [
          -3.704334379699834,
          -3.704334379699834,
          -3.704334379699834,
          -3.704334379699834,
          -3.703300034931261,
          -3.703300034931261,
          -3.7038935436185874,
          -3.7038935436185874,
          -3.7038935436185874,
          -3.7051248945886393,
          -3.7051248945886393
         ],
         "mode": "lines",
         "name": "Original path",
         "text": "Original path",
         "type": "scattermapbox"
        }
       ],
       "layout": {
        "height": 500,
        "hovermode": "closest",
        "mapbox": {
         "accesstoken": "pk.eyJ1IjoiYWxlanAxOTk4IiwiYSI6ImNrNnFwMmM0dDE2OHYzZXFwazZiZTdmbGcifQ.k5qPtvMgar7i9cbQx1fP0w",
         "bearing": 0,
         "center": {
          "lat": 40.44799083411279,
          "lon": -3.7162118725312467
         },
         "pitch": 0,
         "style": "mapbox://styles/alejp1998/ck6z9mohb25ni1iod4sqvqa0d",
         "zoom": 14
        },
        "margin": {
         "b": 0,
         "l": 0,
         "r": 0,
         "t": 50
        },
        "showlegend": true,
        "template": {
         "data": {
          "bar": [
           {
            "error_x": {
             "color": "#2a3f5f"
            },
            "error_y": {
             "color": "#2a3f5f"
            },
            "marker": {
             "line": {
              "color": "white",
              "width": 0.5
             }
            },
            "type": "bar"
           }
          ],
          "barpolar": [
           {
            "marker": {
             "line": {
              "color": "white",
              "width": 0.5
             }
            },
            "type": "barpolar"
           }
          ],
          "carpet": [
           {
            "aaxis": {
             "endlinecolor": "#2a3f5f",
             "gridcolor": "#C8D4E3",
             "linecolor": "#C8D4E3",
             "minorgridcolor": "#C8D4E3",
             "startlinecolor": "#2a3f5f"
            },
            "baxis": {
             "endlinecolor": "#2a3f5f",
             "gridcolor": "#C8D4E3",
             "linecolor": "#C8D4E3",
             "minorgridcolor": "#C8D4E3",
             "startlinecolor": "#2a3f5f"
            },
            "type": "carpet"
           }
          ],
          "choropleth": [
           {
            "colorbar": {
             "outlinewidth": 0,
             "ticks": ""
            },
            "type": "choropleth"
           }
          ],
          "contour": [
           {
            "colorbar": {
             "outlinewidth": 0,
             "ticks": ""
            },
            "colorscale": [
             [
              0,
              "#0d0887"
             ],
             [
              0.1111111111111111,
              "#46039f"
             ],
             [
              0.2222222222222222,
              "#7201a8"
             ],
             [
              0.3333333333333333,
              "#9c179e"
             ],
             [
              0.4444444444444444,
              "#bd3786"
             ],
             [
              0.5555555555555556,
              "#d8576b"
             ],
             [
              0.6666666666666666,
              "#ed7953"
             ],
             [
              0.7777777777777778,
              "#fb9f3a"
             ],
             [
              0.8888888888888888,
              "#fdca26"
             ],
             [
              1,
              "#f0f921"
             ]
            ],
            "type": "contour"
           }
          ],
          "contourcarpet": [
           {
            "colorbar": {
             "outlinewidth": 0,
             "ticks": ""
            },
            "type": "contourcarpet"
           }
          ],
          "heatmap": [
           {
            "colorbar": {
             "outlinewidth": 0,
             "ticks": ""
            },
            "colorscale": [
             [
              0,
              "#0d0887"
             ],
             [
              0.1111111111111111,
              "#46039f"
             ],
             [
              0.2222222222222222,
              "#7201a8"
             ],
             [
              0.3333333333333333,
              "#9c179e"
             ],
             [
              0.4444444444444444,
              "#bd3786"
             ],
             [
              0.5555555555555556,
              "#d8576b"
             ],
             [
              0.6666666666666666,
              "#ed7953"
             ],
             [
              0.7777777777777778,
              "#fb9f3a"
             ],
             [
              0.8888888888888888,
              "#fdca26"
             ],
             [
              1,
              "#f0f921"
             ]
            ],
            "type": "heatmap"
           }
          ],
          "heatmapgl": [
           {
            "colorbar": {
             "outlinewidth": 0,
             "ticks": ""
            },
            "colorscale": [
             [
              0,
              "#0d0887"
             ],
             [
              0.1111111111111111,
              "#46039f"
             ],
             [
              0.2222222222222222,
              "#7201a8"
             ],
             [
              0.3333333333333333,
              "#9c179e"
             ],
             [
              0.4444444444444444,
              "#bd3786"
             ],
             [
              0.5555555555555556,
              "#d8576b"
             ],
             [
              0.6666666666666666,
              "#ed7953"
             ],
             [
              0.7777777777777778,
              "#fb9f3a"
             ],
             [
              0.8888888888888888,
              "#fdca26"
             ],
             [
              1,
              "#f0f921"
             ]
            ],
            "type": "heatmapgl"
           }
          ],
          "histogram": [
           {
            "marker": {
             "colorbar": {
              "outlinewidth": 0,
              "ticks": ""
             }
            },
            "type": "histogram"
           }
          ],
          "histogram2d": [
           {
            "colorbar": {
             "outlinewidth": 0,
             "ticks": ""
            },
            "colorscale": [
             [
              0,
              "#0d0887"
             ],
             [
              0.1111111111111111,
              "#46039f"
             ],
             [
              0.2222222222222222,
              "#7201a8"
             ],
             [
              0.3333333333333333,
              "#9c179e"
             ],
             [
              0.4444444444444444,
              "#bd3786"
             ],
             [
              0.5555555555555556,
              "#d8576b"
             ],
             [
              0.6666666666666666,
              "#ed7953"
             ],
             [
              0.7777777777777778,
              "#fb9f3a"
             ],
             [
              0.8888888888888888,
              "#fdca26"
             ],
             [
              1,
              "#f0f921"
             ]
            ],
            "type": "histogram2d"
           }
          ],
          "histogram2dcontour": [
           {
            "colorbar": {
             "outlinewidth": 0,
             "ticks": ""
            },
            "colorscale": [
             [
              0,
              "#0d0887"
             ],
             [
              0.1111111111111111,
              "#46039f"
             ],
             [
              0.2222222222222222,
              "#7201a8"
             ],
             [
              0.3333333333333333,
              "#9c179e"
             ],
             [
              0.4444444444444444,
              "#bd3786"
             ],
             [
              0.5555555555555556,
              "#d8576b"
             ],
             [
              0.6666666666666666,
              "#ed7953"
             ],
             [
              0.7777777777777778,
              "#fb9f3a"
             ],
             [
              0.8888888888888888,
              "#fdca26"
             ],
             [
              1,
              "#f0f921"
             ]
            ],
            "type": "histogram2dcontour"
           }
          ],
          "mesh3d": [
           {
            "colorbar": {
             "outlinewidth": 0,
             "ticks": ""
            },
            "type": "mesh3d"
           }
          ],
          "parcoords": [
           {
            "line": {
             "colorbar": {
              "outlinewidth": 0,
              "ticks": ""
             }
            },
            "type": "parcoords"
           }
          ],
          "pie": [
           {
            "automargin": true,
            "type": "pie"
           }
          ],
          "scatter": [
           {
            "marker": {
             "colorbar": {
              "outlinewidth": 0,
              "ticks": ""
             }
            },
            "type": "scatter"
           }
          ],
          "scatter3d": [
           {
            "line": {
             "colorbar": {
              "outlinewidth": 0,
              "ticks": ""
             }
            },
            "marker": {
             "colorbar": {
              "outlinewidth": 0,
              "ticks": ""
             }
            },
            "type": "scatter3d"
           }
          ],
          "scattercarpet": [
           {
            "marker": {
             "colorbar": {
              "outlinewidth": 0,
              "ticks": ""
             }
            },
            "type": "scattercarpet"
           }
          ],
          "scattergeo": [
           {
            "marker": {
             "colorbar": {
              "outlinewidth": 0,
              "ticks": ""
             }
            },
            "type": "scattergeo"
           }
          ],
          "scattergl": [
           {
            "marker": {
             "colorbar": {
              "outlinewidth": 0,
              "ticks": ""
             }
            },
            "type": "scattergl"
           }
          ],
          "scattermapbox": [
           {
            "marker": {
             "colorbar": {
              "outlinewidth": 0,
              "ticks": ""
             }
            },
            "type": "scattermapbox"
           }
          ],
          "scatterpolar": [
           {
            "marker": {
             "colorbar": {
              "outlinewidth": 0,
              "ticks": ""
             }
            },
            "type": "scatterpolar"
           }
          ],
          "scatterpolargl": [
           {
            "marker": {
             "colorbar": {
              "outlinewidth": 0,
              "ticks": ""
             }
            },
            "type": "scatterpolargl"
           }
          ],
          "scatterternary": [
           {
            "marker": {
             "colorbar": {
              "outlinewidth": 0,
              "ticks": ""
             }
            },
            "type": "scatterternary"
           }
          ],
          "surface": [
           {
            "colorbar": {
             "outlinewidth": 0,
             "ticks": ""
            },
            "colorscale": [
             [
              0,
              "#0d0887"
             ],
             [
              0.1111111111111111,
              "#46039f"
             ],
             [
              0.2222222222222222,
              "#7201a8"
             ],
             [
              0.3333333333333333,
              "#9c179e"
             ],
             [
              0.4444444444444444,
              "#bd3786"
             ],
             [
              0.5555555555555556,
              "#d8576b"
             ],
             [
              0.6666666666666666,
              "#ed7953"
             ],
             [
              0.7777777777777778,
              "#fb9f3a"
             ],
             [
              0.8888888888888888,
              "#fdca26"
             ],
             [
              1,
              "#f0f921"
             ]
            ],
            "type": "surface"
           }
          ],
          "table": [
           {
            "cells": {
             "fill": {
              "color": "#EBF0F8"
             },
             "line": {
              "color": "white"
             }
            },
            "header": {
             "fill": {
              "color": "#C8D4E3"
             },
             "line": {
              "color": "white"
             }
            },
            "type": "table"
           }
          ]
         },
         "layout": {
          "annotationdefaults": {
           "arrowcolor": "#2a3f5f",
           "arrowhead": 0,
           "arrowwidth": 1
          },
          "coloraxis": {
           "colorbar": {
            "outlinewidth": 0,
            "ticks": ""
           }
          },
          "colorscale": {
           "diverging": [
            [
             0,
             "#8e0152"
            ],
            [
             0.1,
             "#c51b7d"
            ],
            [
             0.2,
             "#de77ae"
            ],
            [
             0.3,
             "#f1b6da"
            ],
            [
             0.4,
             "#fde0ef"
            ],
            [
             0.5,
             "#f7f7f7"
            ],
            [
             0.6,
             "#e6f5d0"
            ],
            [
             0.7,
             "#b8e186"
            ],
            [
             0.8,
             "#7fbc41"
            ],
            [
             0.9,
             "#4d9221"
            ],
            [
             1,
             "#276419"
            ]
           ],
           "sequential": [
            [
             0,
             "#0d0887"
            ],
            [
             0.1111111111111111,
             "#46039f"
            ],
            [
             0.2222222222222222,
             "#7201a8"
            ],
            [
             0.3333333333333333,
             "#9c179e"
            ],
            [
             0.4444444444444444,
             "#bd3786"
            ],
            [
             0.5555555555555556,
             "#d8576b"
            ],
            [
             0.6666666666666666,
             "#ed7953"
            ],
            [
             0.7777777777777778,
             "#fb9f3a"
            ],
            [
             0.8888888888888888,
             "#fdca26"
            ],
            [
             1,
             "#f0f921"
            ]
           ],
           "sequentialminus": [
            [
             0,
             "#0d0887"
            ],
            [
             0.1111111111111111,
             "#46039f"
            ],
            [
             0.2222222222222222,
             "#7201a8"
            ],
            [
             0.3333333333333333,
             "#9c179e"
            ],
            [
             0.4444444444444444,
             "#bd3786"
            ],
            [
             0.5555555555555556,
             "#d8576b"
            ],
            [
             0.6666666666666666,
             "#ed7953"
            ],
            [
             0.7777777777777778,
             "#fb9f3a"
            ],
            [
             0.8888888888888888,
             "#fdca26"
            ],
            [
             1,
             "#f0f921"
            ]
           ]
          },
          "colorway": [
           "#636efa",
           "#EF553B",
           "#00cc96",
           "#ab63fa",
           "#FFA15A",
           "#19d3f3",
           "#FF6692",
           "#B6E880",
           "#FF97FF",
           "#FECB52"
          ],
          "font": {
           "color": "#2a3f5f"
          },
          "geo": {
           "bgcolor": "white",
           "lakecolor": "white",
           "landcolor": "white",
           "showlakes": true,
           "showland": true,
           "subunitcolor": "#C8D4E3"
          },
          "hoverlabel": {
           "align": "left"
          },
          "hovermode": "closest",
          "mapbox": {
           "style": "light"
          },
          "paper_bgcolor": "white",
          "plot_bgcolor": "white",
          "polar": {
           "angularaxis": {
            "gridcolor": "#EBF0F8",
            "linecolor": "#EBF0F8",
            "ticks": ""
           },
           "bgcolor": "white",
           "radialaxis": {
            "gridcolor": "#EBF0F8",
            "linecolor": "#EBF0F8",
            "ticks": ""
           }
          },
          "scene": {
           "xaxis": {
            "backgroundcolor": "white",
            "gridcolor": "#DFE8F3",
            "gridwidth": 2,
            "linecolor": "#EBF0F8",
            "showbackground": true,
            "ticks": "",
            "zerolinecolor": "#EBF0F8"
           },
           "yaxis": {
            "backgroundcolor": "white",
            "gridcolor": "#DFE8F3",
            "gridwidth": 2,
            "linecolor": "#EBF0F8",
            "showbackground": true,
            "ticks": "",
            "zerolinecolor": "#EBF0F8"
           },
           "zaxis": {
            "backgroundcolor": "white",
            "gridcolor": "#DFE8F3",
            "gridwidth": 2,
            "linecolor": "#EBF0F8",
            "showbackground": true,
            "ticks": "",
            "zerolinecolor": "#EBF0F8"
           }
          },
          "shapedefaults": {
           "line": {
            "color": "#2a3f5f"
           }
          },
          "ternary": {
           "aaxis": {
            "gridcolor": "#DFE8F3",
            "linecolor": "#A2B1C6",
            "ticks": ""
           },
           "baxis": {
            "gridcolor": "#DFE8F3",
            "linecolor": "#A2B1C6",
            "ticks": ""
           },
           "bgcolor": "white",
           "caxis": {
            "gridcolor": "#DFE8F3",
            "linecolor": "#A2B1C6",
            "ticks": ""
           }
          },
          "title": {
           "x": 0.05
          },
          "xaxis": {
           "automargin": true,
           "gridcolor": "#EBF0F8",
           "linecolor": "#EBF0F8",
           "ticks": "",
           "title": {
            "standoff": 15
           },
           "zerolinecolor": "#EBF0F8",
           "zerolinewidth": 2
          },
          "yaxis": {
           "automargin": true,
           "gridcolor": "#EBF0F8",
           "linecolor": "#EBF0F8",
           "ticks": "",
           "title": {
            "standoff": 15
           },
           "zerolinecolor": "#EBF0F8",
           "zerolinewidth": 2
          }
         }
        },
        "title": {
         "text": "Tracked path compared to given paths"
        }
       }
      },
      "text/html": [
       "<div>\n",
       "        \n",
       "        \n",
       "            <div id=\"d5316317-1e5b-4032-8e0c-e72649a8a559\" class=\"plotly-graph-div\" style=\"height:500px; width:100%;\"></div>\n",
       "            <script type=\"text/javascript\">\n",
       "                require([\"plotly\"], function(Plotly) {\n",
       "                    window.PLOTLYENV=window.PLOTLYENV || {};\n",
       "                    \n",
       "                if (document.getElementById(\"d5316317-1e5b-4032-8e0c-e72649a8a559\")) {\n",
       "                    Plotly.newPlot(\n",
       "                        'd5316317-1e5b-4032-8e0c-e72649a8a559',\n",
       "                        [{\"hoverinfo\": \"text\", \"lat\": [40.446766208798, 40.44700513696822, 40.44673094565124, 40.44671465246461, 40.44673321624735, 40.4467391117401, 40.446738471957566, 40.44672585856044, 40.4467148812651, 40.446716184979955, 40.44672453354607, 40.44673371901647, 40.44672991451675, 40.44671015585849, 40.44670181190481, 40.44666597286184, 40.44666875960167, 40.44666913177827, 40.44666725433251, 40.44666328706852, 40.446654537332066, 40.446674486556205, 40.44668790061233, 40.44669595930792, 40.44669219955264, 40.44670420077316, 40.44670801318834, 40.446718831041466, 40.44672504123623, 40.44672952905814, 40.44672952905814, 40.44672952905814, 40.44672741026464, 40.446720808502135, 40.4467476074084, 40.446778584751705, 40.446803842585524, 40.446849223700085, 40.44687077240438, 40.44687808076316, 40.446882026775626, 40.446882026775626, 40.44691237866696, 40.44692282488942, 40.44692583334583, 40.446935401845266, 40.44693860539393, 40.446945734014136, 40.446951046678215, 40.44695510661688, 40.44697232442102, 40.44699704839841, 40.44700537695799, 40.44704992232774, 40.44708802204004, 40.44710605508429, 40.44710067857115, 40.44709976869237, 40.44709976869237, 40.44709976869237, 40.44709976869237, 40.44709976869237, 40.44709976869237, 40.44709852397708, 40.44709289412352, 40.44709136640431, 40.447091770395126, 40.447096103772964, 40.44709648980885, 40.4471159379105, 40.44715737565564, 40.44716598224045, 40.44716739955802, 40.44716949740309, 40.447169921927134, 40.44714538192061, 40.447102974345796, 40.44705911349034, 40.447009096875256, 40.4469684009537, 40.44694750705021, 40.44690957472738, 40.446840232628084, 40.44677776784524, 40.446733384261414, 40.44670083030654, 40.4466712114506, 40.44664729884058, 40.44665523573822, 40.446648099510746, 40.44664244014996, 40.44663255268687, 40.446628871331136, 40.4466298667082, 40.44660802955234, 40.44659226902699, 40.44656036941478, 40.446529373891515, 40.44651030459854, 40.446495663552966, 40.446494556198324, 40.44649596214369, 40.44649378102674, 40.44649378102674, 40.44649378102674, 40.44649378102674, 40.44649378102674, 40.44649378102674, 40.44649364787947, 40.44647785488544, 40.446470511061214, 40.446446657184325, 40.44641146167192, 40.44637712387369, 40.446341164973695, 40.4463045179273, 40.44624628975241, 40.446172009863176, 40.44611695579147, 40.446071257423874, 40.446046495747915, 40.44608680429978, 40.44616055347929, 40.44625163698584, 40.44633073667623, 40.44638522070047, 40.44641475373893, 40.446413225951765, 40.44640941550286, 40.44641323066374, 40.44641323066374, 40.44641323066374, 40.44641323066374, 40.44644447373806, 40.446500767839254, 40.446657784226424, 40.44677453694801, 40.44689639822926, 40.44709391412003, 40.44724094281161, 40.44738556574043, 40.44752642816514, 40.44765923278733, 40.44776602997401, 40.447851961273905, 40.44791598190597, 40.4479942357152, 40.44808243672292, 40.448164220754364, 40.44825202239654, 40.448338654291824, 40.44846049189604, 40.44848992797901, 40.44850270463518, 40.448523563734206, 40.448561917714585, 40.4485720318733, 40.44857273393515, 40.44857260007451, 40.44857260007451, 40.44857260007451, 40.44857260007451, 40.44857260007451, 40.44857260007451, 40.44857260007451, 40.44857260007451, 40.44857503962415, 40.448617737290796, 40.44865264087205, 40.448691954705126, 40.44873306976843, 40.448778479803835, 40.44878777165573, 40.448783229867786, 40.448783229867786, 40.448783229867786, 40.44879652263919, 40.44884942837542, 40.448933738018006, 40.44903525518529, 40.44912657471619, 40.449179158032436, 40.44917182414493, 40.44916502498263, 40.449167301354734, 40.44916468154292, 40.44917338474453, 40.44918158007398, 40.449182876852824, 40.449182876852824, 40.449182876852824, 40.449182876852824, 40.449182876852824, 40.44918368740286, 40.4491798905015, 40.44915887341544, 40.449135595653495, 40.44911236921058, 40.449091838820955, 40.44908285781343, 40.449065768625, 40.449046435468375, 40.4490016398154, 40.44896852686601, 40.44893394702529, 40.44889703292569, 40.448862931201226, 40.44880562535006, 40.448762669476636, 40.448721763965835, 40.44868653373942, 40.44867901544052, 40.4486841538126, 40.44868834993792, 40.44868834993792, 40.44868370395876, 40.44866611765467, 40.448628231938365, 40.44857688556518, 40.44851054914833, 40.448435641245815, 40.448362208618704, 40.44829960056434, 40.448247201872434, 40.44819294117368, 40.44813991471029, 40.44808926872422, 40.44803836050828, 40.44798959744665, 40.447939122807234, 40.447907440755884, 40.4478929539939, 40.44788477492509, 40.44788282511638, 40.44788277225325, 40.447881859641406, 40.44788093952597, 40.44787933870018, 40.44787041538757, 40.44785116670433, 40.447843059606726, 40.44787420027847, 40.44796080978107, 40.4480934072743, 40.44823860176034, 40.44837100817347, 40.44851922089712, 40.448559210166536, 40.44855748851869, 40.448542798160965, 40.4485260400231, 40.44852183194181, 40.44853127256408, 40.4485344442016, 40.4485326041995, 40.44852457363588, 40.448522960829514, 40.44851984344957, 40.44851503863682, 40.44851030188291, 40.44850159449954, 40.44848641574789, 40.44845126769182, 40.44842237362099, 40.4483977302919, 40.448372302969815, 40.44834862222953, 40.448340280257796, 40.44833943094953, 40.44836112156319, 40.44842102703932, 40.44850876053394, 40.448618201943525, 40.448742581742366, 40.44890305938104, 40.449078780250936, 40.44925820038981, 40.44951466543828, 40.44966100032818, 40.4497824322774, 40.44988437724639, 40.4499687092616, 40.450017996213894, 40.45004616590397, 40.45004985653404, 40.45006127314143, 40.45006238274782, 40.45006535433086, 40.45007295872518, 40.450075338598396, 40.450101585462534, 40.45015380046655, 40.450242880540436, 40.450349479084814, 40.45046570703184, 40.450690040097605, 40.450873894800324, 40.45105503619113, 40.451235874892404, 40.45139596117038, 40.4516589354424, 40.451799452664545, 40.45193194673157, 40.45202709020315, 40.452096985931014, 40.45212509833601, 40.45201224230819, 40.452113618131676, 40.452113618131676, 40.45212402179659, 40.45215082809134, 40.452194619309616], \"line\": {\"color\": \"purple\", \"width\": 2}, \"lon\": [-3.7052010468764154, -3.7050899967822875, -3.7053149681954443, -3.7053336569009763, -3.705327954445885, -3.7053267335216264, -3.705345735521233, -3.7053508822534305, -3.705359968990183, -3.7053656667916703, -3.705370089239909, -3.705382651541665, -3.705400451370943, -3.7054113128097153, -3.7054130090075166, -3.705442918120206, -3.70543633604038, -3.705450656117454, -3.7054970782680794, -3.705533827702722, -3.7055666434074426, -3.7055689894718, -3.705552704323477, -3.7055352746418793, -3.7055300867798002, -3.7055284208945, -3.7055275767053955, -3.7055274150366455, -3.705531428284225, -3.7055295070686007, -3.7055295070686007, -3.7055295070686007, -3.705532963430742, -3.7055436354875217, -3.7055862633940233, -3.7056295655179983, -3.70566694281025, -3.705697109185908, -3.705725859435428, -3.705743570489259, -3.7057404578769466, -3.7057404578769466, -3.7057566568387976, -3.705834925440593, -3.705993492532433, -3.7061938854068637, -3.7064110405189066, -3.706642517786405, -3.7068675744665724, -3.7070737719493896, -3.707274653486256, -3.7074578083655942, -3.7076188684573625, -3.7077974162489538, -3.707886075567274, -3.7079183476018693, -3.707909026855082, -3.707907606005725, -3.707907606005725, -3.707907606005725, -3.707907606005725, -3.707907606005725, -3.707907606005725, -3.7079093439405737, -3.7079438990257265, -3.7080207208452407, -3.708125138429427, -3.7082400907785056, -3.70836292530595, -3.7085119353880653, -3.7087506170354305, -3.7088814583816996, -3.7090052947707455, -3.7091344654316245, -3.7092669381525467, -3.709412511120793, -3.7095783393394752, -3.7097251903702153, -3.7098621666392595, -3.7100002439002693, -3.710130821188961, -3.710261041548992, -3.710398626407592, -3.710541507984318, -3.7106781344159447, -3.710799112933124, -3.7108902772247068, -3.710913512190139, -3.7109385657996885, -3.7109256188373605, -3.7109287431020825, -3.710950547538286, -3.7110114516257906, -3.7111446912706887, -3.7112675982150614, -3.7113934420127452, -3.7114994490712383, -3.711581420635266, -3.7116374179125757, -3.7116908034815705, -3.7117186201329773, -3.7117167100890103, -3.7117148042080332, -3.7117148042080332, -3.7117148042080332, -3.7117148042080332, -3.7117148042080332, -3.7117148042080332, -3.711729513237492, -3.7117898755620478, -3.7118780419581947, -3.7119646387046132, -3.712070446354489, -3.712199274166417, -3.7123578480097397, -3.712549317337179, -3.7127665542345016, -3.7129990309855065, -3.7132184177164334, -3.713411325274393, -3.713564604769254, -3.7137213018084823, -3.7137459585255685, -3.7137857384555595, -3.713837372628031, -3.713892530797555, -3.7139358323783833, -3.7139400156377373, -3.713930783056254, -3.713926735990964, -3.713926735990964, -3.713926735990964, -3.713926735990964, -3.7139293415425034, -3.713941890023651, -3.7139345004324835, -3.7140208705872046, -3.71409669758787, -3.7142059885483354, -3.7142738596168545, -3.7143312686535714, -3.714366007281548, -3.7144077471435977, -3.714485993211807, -3.7145978945784113, -3.714724226712357, -3.7148492091518595, -3.7150195623901623, -3.7152164487366273, -3.715431541694746, -3.7156385220959467, -3.715919125448928, -3.716080979713336, -3.7161737098676095, -3.716219234073622, -3.716246984031062, -3.7162519723438385, -3.716240826489752, -3.716237810890956, -3.716237810890956, -3.716237810890956, -3.716237810890956, -3.716237810890956, -3.716237810890956, -3.716237810890956, -3.716237810890956, -3.7162389207150985, -3.7162974767297543, -3.7163753052879747, -3.716449456264717, -3.71649740587723, -3.7165136692846157, -3.716509221208434, -3.7165042287173606, -3.7165042287173606, -3.7165042287173606, -3.7165033875941718, -3.7165037108721832, -3.7164884610887525, -3.7165144668048384, -3.716592224925223, -3.7167956164696014, -3.7169500575652763, -3.717086400174914, -3.7171711535479175, -3.7171951317475043, -3.7171804008584313, -3.717173098083573, -3.7171786428796563, -3.7171786428796563, -3.7171786428796563, -3.7171786428796563, -3.7171786428796563, -3.71718598728283, -3.7172446693373744, -3.717353227191062, -3.7175261436395957, -3.7177531000769437, -3.71813260078039, -3.7183699046595526, -3.7186033546194124, -3.718842774997474, -3.71907467546899, -3.7193104078372357, -3.719538294604374, -3.7197636541898658, -3.7199766080211254, -3.720174650397203, -3.7203544993048165, -3.720506094218353, -3.720613966389129, -3.7206704640776156, -3.7206713632935724, -3.72066914631062, -3.72066914631062, -3.7206743414562435, -3.7207226004630205, -3.720840806394777, -3.721030221278264, -3.7212428041179413, -3.7214670134667744, -3.721743972026, -3.7220039582173263, -3.722277681158739, -3.7225622105785887, -3.722852641947117, -3.723146507266807, -3.723426049797007, -3.723675798435602, -3.7239819330199992, -3.7241233280183947, -3.7241964167216186, -3.7242176935197198, -3.7242208714441936, -3.7242246859408863, -3.7242302178883926, -3.7242528345597408, -3.72427918214839, -3.7243297776141486, -3.7244147901169375, -3.7245208385822166, -3.724636938721136, -3.7247390839039065, -3.7247941719353816, -3.724822478781897, -3.7248633421614596, -3.7250040858667552, -3.725139170858053, -3.725278571637065, -3.725414183716755, -3.7255357031856566, -3.725652573970368, -3.7257455259563166, -3.7257757549959156, -3.7257618244205686, -3.7257362854557337, -3.7257282637624245, -3.7257340515465365, -3.7257391444685286, -3.7257543523526047, -3.725802178564007, -3.7258884674522434, -3.7260809594333937, -3.726241584059163, -3.7264197834655537, -3.7265890488932842, -3.7267288621017074, -3.7268365320933503, -3.726933187605345, -3.7270305084703623, -3.72712373578382, -3.7271702445280166, -3.727213330521421, -3.727267820744127, -3.727314311158664, -3.7273646831970066, -3.7274151271378657, -3.727479285314048, -3.727512238676782, -3.7275187433039263, -3.727521379372542, -3.727524842379147, -3.727531012472255, -3.727534590978699, -3.7275312766791475, -3.727529792681699, -3.7275289823908735, -3.727527942014814, -3.727523640547289, -3.727522795294742, -3.7275191916167763, -3.7275183326946495, -3.7275347482132664, -3.7275634999661924, -3.7275852229586235, -3.7276175992288354, -3.7276371302296285, -3.727653131002257, -3.727670483296761, -3.72765180815229, -3.7277108867356206, -3.7277195903074367, -3.7277332970027888, -3.7277550952809753, -3.7277640849592752, -3.7277670016863493, -3.727717556723474, -3.7277667737340807, -3.7277667737340807, -3.727757415770494, -3.7277511586472576, -3.727734681278653], \"mode\": \"lines\", \"name\": \"Tracked path\", \"text\": \"Real path\", \"type\": \"scattermapbox\"}, {\"hoverinfo\": \"text\", \"lat\": [40.4468053604688, 40.4468053604688, 40.4468053604688, 40.4468053604688, 40.4468053604688, 40.4468053604688, 40.4468053604688, 40.4468053604688, 40.4468053604688, 40.4468053604688, 40.4468053604688, 40.4468053604688, 40.4468053604688, 40.4468053604688, 40.4468053604688, 40.4468053604688, 40.4468053604688, 40.4468053604688, 40.4468053604688, 40.4468053604688, 40.4468053604688, 40.4468053604688, 40.4468053604688, 40.4468053604688, 40.4468053604688, 40.4468053604688, 40.4468053604688, 40.4468053604688, 40.4468053604688, 40.4468053604688, 40.4468053604688, 40.4468053604688, 40.4468053604688, 40.4468053604688, 40.4468053604688, 40.4468053604688, 40.4468053604688, 40.4468053604688, 40.4468053604688, 40.4468053604688, 40.4468053604688, 40.4468053604688, 40.4468053604688, 40.4468053604688, 40.4468053604688, 40.4468053604688, 40.4468053604688, 40.4468053604688, 40.4468053604688, 40.4468053604688, 40.4468053604688, 40.4468053604688, 40.4468053604688, 40.4468053604688, 40.4468053604688, 40.446784691515134, 40.446784691515134, 40.446784691515134, 40.446784691515134, 40.446784691515134, 40.446784691515134, 40.446784691515134, 40.446784691515134, 40.446784691515134, 40.446784691515134, 40.446784691515134, 40.446784691515134, 40.446784691515134, 40.446784691515134, 40.446784691515134, 40.446784691515134, 40.446784691515134, 40.446784691515134, 40.446784691515134, 40.446784691515134, 40.446784691515134, 40.446784691515134, 40.446784691515134, 40.446784691515134, 40.446784691515134, 40.446784691515134, 40.446784691515134, 40.44672985690725, 40.44672985690725, 40.44672985690725, 40.44672985690725, 40.44672985690725, 40.44672985690725, 40.44672985690725, 40.44672985690725, 40.44672985690725, 40.44672985690725, 40.44672985690725, 40.44672985690725, 40.44672985690725, 40.44672985690725, 40.44672985690725, 40.44672985690725, 40.44672985690725, 40.44672985690725, 40.44672985690725, 40.44672985690725, 40.44672985690725, 40.44672985690725, 40.44672985690725, 40.44672985690725, 40.4468286900952, 40.4468286900952, 40.4468286900952, 40.4468286900952, 40.4468286900952, 40.4468286900952, 40.4468286900952, 40.4468286900952, 40.4468286900952, 40.4468286900952, 40.4468286900952, 40.4468286900952, 40.4468286900952, 40.4468286900952, 40.4468286900952, 40.4468286900952, 40.4468286900952, 40.4468286900952, 40.4468286900952, 40.4468286900952, 40.4468286900952, 40.4468286900952], \"line\": {\"color\": \"blue\", \"width\": 2}, \"lon\": [-3.704334379699834, -3.704334379699834, -3.704334379699834, -3.704334379699834, -3.704334379699834, -3.704334379699834, -3.704334379699834, -3.704334379699834, -3.704334379699834, -3.704334379699834, -3.704334379699834, -3.704334379699834, -3.704334379699834, -3.704334379699834, -3.704334379699834, -3.704334379699834, -3.704334379699834, -3.704334379699834, -3.704334379699834, -3.704334379699834, -3.704334379699834, -3.704334379699834, -3.704334379699834, -3.704334379699834, -3.704334379699834, -3.704334379699834, -3.704334379699834, -3.704334379699834, -3.704334379699834, -3.704334379699834, -3.704334379699834, -3.704334379699834, -3.704334379699834, -3.704334379699834, -3.704334379699834, -3.704334379699834, -3.704334379699834, -3.704334379699834, -3.704334379699834, -3.704334379699834, -3.704334379699834, -3.704334379699834, -3.704334379699834, -3.704334379699834, -3.704334379699834, -3.704334379699834, -3.704334379699834, -3.704334379699834, -3.704334379699834, -3.704334379699834, -3.704334379699834, -3.704334379699834, -3.704334379699834, -3.704334379699834, -3.704334379699834, -3.703300034931261, -3.703300034931261, -3.703300034931261, -3.703300034931261, -3.703300034931261, -3.703300034931261, -3.703300034931261, -3.703300034931261, -3.703300034931261, -3.703300034931261, -3.703300034931261, -3.703300034931261, -3.703300034931261, -3.703300034931261, -3.703300034931261, -3.703300034931261, -3.703300034931261, -3.703300034931261, -3.703300034931261, -3.703300034931261, -3.703300034931261, -3.703300034931261, -3.703300034931261, -3.703300034931261, -3.703300034931261, -3.703300034931261, -3.703300034931261, -3.7038935436185874, -3.7038935436185874, -3.7038935436185874, -3.7038935436185874, -3.7038935436185874, -3.7038935436185874, -3.7038935436185874, -3.7038935436185874, -3.7038935436185874, -3.7038935436185874, -3.7038935436185874, -3.7038935436185874, -3.7038935436185874, -3.7038935436185874, -3.7038935436185874, -3.7038935436185874, -3.7038935436185874, -3.7038935436185874, -3.7038935436185874, -3.7038935436185874, -3.7038935436185874, -3.7038935436185874, -3.7038935436185874, -3.7038935436185874, -3.7051248945886393, -3.7051248945886393, -3.7051248945886393, -3.7051248945886393, -3.7051248945886393, -3.7051248945886393, -3.7051248945886393, -3.7051248945886393, -3.7051248945886393, -3.7051248945886393, -3.7051248945886393, -3.7051248945886393, -3.7051248945886393, -3.7051248945886393, -3.7051248945886393, -3.7051248945886393, -3.7051248945886393, -3.7051248945886393, -3.7051248945886393, -3.7051248945886393, -3.7051248945886393, -3.7051248945886393], \"mode\": \"lines\", \"name\": \"HF path\", \"text\": \"Experiment path\", \"type\": \"scattermapbox\"}, {\"hoverinfo\": \"text\", \"lat\": [40.4468053604688, 40.4468053604688, 40.4468053604688, 40.4468053604688, 40.446784691515134, 40.446784691515134, 40.44672985690725, 40.44672985690725, 40.44672985690725, 40.4468286900952, 40.4468286900952], \"line\": {\"color\": \"green\", \"width\": 2}, \"lon\": [-3.704334379699834, -3.704334379699834, -3.704334379699834, -3.704334379699834, -3.703300034931261, -3.703300034931261, -3.7038935436185874, -3.7038935436185874, -3.7038935436185874, -3.7051248945886393, -3.7051248945886393], \"mode\": \"lines\", \"name\": \"Original path\", \"text\": \"Original path\", \"type\": \"scattermapbox\"}],\n",
       "                        {\"height\": 500, \"hovermode\": \"closest\", \"mapbox\": {\"accesstoken\": \"pk.eyJ1IjoiYWxlanAxOTk4IiwiYSI6ImNrNnFwMmM0dDE2OHYzZXFwazZiZTdmbGcifQ.k5qPtvMgar7i9cbQx1fP0w\", \"bearing\": 0, \"center\": {\"lat\": 40.44799083411279, \"lon\": -3.7162118725312467}, \"pitch\": 0, \"style\": \"mapbox://styles/alejp1998/ck6z9mohb25ni1iod4sqvqa0d\", \"zoom\": 14}, \"margin\": {\"b\": 0, \"l\": 0, \"r\": 0, \"t\": 50}, \"showlegend\": true, \"template\": {\"data\": {\"bar\": [{\"error_x\": {\"color\": \"#2a3f5f\"}, \"error_y\": {\"color\": \"#2a3f5f\"}, \"marker\": {\"line\": {\"color\": \"white\", \"width\": 0.5}}, \"type\": \"bar\"}], \"barpolar\": [{\"marker\": {\"line\": {\"color\": \"white\", \"width\": 0.5}}, \"type\": \"barpolar\"}], \"carpet\": [{\"aaxis\": {\"endlinecolor\": \"#2a3f5f\", \"gridcolor\": \"#C8D4E3\", \"linecolor\": \"#C8D4E3\", \"minorgridcolor\": \"#C8D4E3\", \"startlinecolor\": \"#2a3f5f\"}, \"baxis\": {\"endlinecolor\": \"#2a3f5f\", \"gridcolor\": \"#C8D4E3\", \"linecolor\": \"#C8D4E3\", \"minorgridcolor\": \"#C8D4E3\", \"startlinecolor\": \"#2a3f5f\"}, \"type\": \"carpet\"}], \"choropleth\": [{\"colorbar\": {\"outlinewidth\": 0, \"ticks\": \"\"}, \"type\": \"choropleth\"}], \"contour\": [{\"colorbar\": {\"outlinewidth\": 0, \"ticks\": \"\"}, \"colorscale\": [[0.0, \"#0d0887\"], [0.1111111111111111, \"#46039f\"], [0.2222222222222222, \"#7201a8\"], [0.3333333333333333, \"#9c179e\"], [0.4444444444444444, \"#bd3786\"], [0.5555555555555556, \"#d8576b\"], [0.6666666666666666, \"#ed7953\"], [0.7777777777777778, \"#fb9f3a\"], [0.8888888888888888, \"#fdca26\"], [1.0, \"#f0f921\"]], \"type\": \"contour\"}], \"contourcarpet\": [{\"colorbar\": {\"outlinewidth\": 0, \"ticks\": \"\"}, \"type\": \"contourcarpet\"}], \"heatmap\": [{\"colorbar\": {\"outlinewidth\": 0, \"ticks\": \"\"}, \"colorscale\": [[0.0, \"#0d0887\"], [0.1111111111111111, \"#46039f\"], [0.2222222222222222, \"#7201a8\"], [0.3333333333333333, \"#9c179e\"], [0.4444444444444444, \"#bd3786\"], [0.5555555555555556, \"#d8576b\"], [0.6666666666666666, \"#ed7953\"], [0.7777777777777778, \"#fb9f3a\"], [0.8888888888888888, \"#fdca26\"], [1.0, \"#f0f921\"]], \"type\": \"heatmap\"}], \"heatmapgl\": [{\"colorbar\": {\"outlinewidth\": 0, \"ticks\": \"\"}, \"colorscale\": [[0.0, \"#0d0887\"], [0.1111111111111111, \"#46039f\"], [0.2222222222222222, \"#7201a8\"], [0.3333333333333333, \"#9c179e\"], [0.4444444444444444, \"#bd3786\"], [0.5555555555555556, \"#d8576b\"], [0.6666666666666666, \"#ed7953\"], [0.7777777777777778, \"#fb9f3a\"], [0.8888888888888888, \"#fdca26\"], [1.0, \"#f0f921\"]], \"type\": \"heatmapgl\"}], \"histogram\": [{\"marker\": {\"colorbar\": {\"outlinewidth\": 0, \"ticks\": \"\"}}, \"type\": \"histogram\"}], \"histogram2d\": [{\"colorbar\": {\"outlinewidth\": 0, \"ticks\": \"\"}, \"colorscale\": [[0.0, \"#0d0887\"], [0.1111111111111111, \"#46039f\"], [0.2222222222222222, \"#7201a8\"], [0.3333333333333333, \"#9c179e\"], [0.4444444444444444, \"#bd3786\"], [0.5555555555555556, \"#d8576b\"], [0.6666666666666666, \"#ed7953\"], [0.7777777777777778, \"#fb9f3a\"], [0.8888888888888888, \"#fdca26\"], [1.0, \"#f0f921\"]], \"type\": \"histogram2d\"}], \"histogram2dcontour\": [{\"colorbar\": {\"outlinewidth\": 0, \"ticks\": \"\"}, \"colorscale\": [[0.0, \"#0d0887\"], [0.1111111111111111, \"#46039f\"], [0.2222222222222222, \"#7201a8\"], [0.3333333333333333, \"#9c179e\"], [0.4444444444444444, \"#bd3786\"], [0.5555555555555556, \"#d8576b\"], [0.6666666666666666, \"#ed7953\"], [0.7777777777777778, \"#fb9f3a\"], [0.8888888888888888, \"#fdca26\"], [1.0, \"#f0f921\"]], \"type\": \"histogram2dcontour\"}], \"mesh3d\": [{\"colorbar\": {\"outlinewidth\": 0, \"ticks\": \"\"}, \"type\": \"mesh3d\"}], \"parcoords\": [{\"line\": {\"colorbar\": {\"outlinewidth\": 0, \"ticks\": \"\"}}, \"type\": \"parcoords\"}], \"pie\": [{\"automargin\": true, \"type\": \"pie\"}], \"scatter\": [{\"marker\": {\"colorbar\": {\"outlinewidth\": 0, \"ticks\": \"\"}}, \"type\": \"scatter\"}], \"scatter3d\": [{\"line\": {\"colorbar\": {\"outlinewidth\": 0, \"ticks\": \"\"}}, \"marker\": {\"colorbar\": {\"outlinewidth\": 0, \"ticks\": \"\"}}, \"type\": \"scatter3d\"}], \"scattercarpet\": [{\"marker\": {\"colorbar\": {\"outlinewidth\": 0, \"ticks\": \"\"}}, \"type\": \"scattercarpet\"}], \"scattergeo\": [{\"marker\": {\"colorbar\": {\"outlinewidth\": 0, \"ticks\": \"\"}}, \"type\": \"scattergeo\"}], \"scattergl\": [{\"marker\": {\"colorbar\": {\"outlinewidth\": 0, \"ticks\": \"\"}}, \"type\": \"scattergl\"}], \"scattermapbox\": [{\"marker\": {\"colorbar\": {\"outlinewidth\": 0, \"ticks\": \"\"}}, \"type\": \"scattermapbox\"}], \"scatterpolar\": [{\"marker\": {\"colorbar\": {\"outlinewidth\": 0, \"ticks\": \"\"}}, \"type\": \"scatterpolar\"}], \"scatterpolargl\": [{\"marker\": {\"colorbar\": {\"outlinewidth\": 0, \"ticks\": \"\"}}, \"type\": \"scatterpolargl\"}], \"scatterternary\": [{\"marker\": {\"colorbar\": {\"outlinewidth\": 0, \"ticks\": \"\"}}, \"type\": \"scatterternary\"}], \"surface\": [{\"colorbar\": {\"outlinewidth\": 0, \"ticks\": \"\"}, \"colorscale\": [[0.0, \"#0d0887\"], [0.1111111111111111, \"#46039f\"], [0.2222222222222222, \"#7201a8\"], [0.3333333333333333, \"#9c179e\"], [0.4444444444444444, \"#bd3786\"], [0.5555555555555556, \"#d8576b\"], [0.6666666666666666, \"#ed7953\"], [0.7777777777777778, \"#fb9f3a\"], [0.8888888888888888, \"#fdca26\"], [1.0, \"#f0f921\"]], \"type\": \"surface\"}], \"table\": [{\"cells\": {\"fill\": {\"color\": \"#EBF0F8\"}, \"line\": {\"color\": \"white\"}}, \"header\": {\"fill\": {\"color\": \"#C8D4E3\"}, \"line\": {\"color\": \"white\"}}, \"type\": \"table\"}]}, \"layout\": {\"annotationdefaults\": {\"arrowcolor\": \"#2a3f5f\", \"arrowhead\": 0, \"arrowwidth\": 1}, \"coloraxis\": {\"colorbar\": {\"outlinewidth\": 0, \"ticks\": \"\"}}, \"colorscale\": {\"diverging\": [[0, \"#8e0152\"], [0.1, \"#c51b7d\"], [0.2, \"#de77ae\"], [0.3, \"#f1b6da\"], [0.4, \"#fde0ef\"], [0.5, \"#f7f7f7\"], [0.6, \"#e6f5d0\"], [0.7, \"#b8e186\"], [0.8, \"#7fbc41\"], [0.9, \"#4d9221\"], [1, \"#276419\"]], \"sequential\": [[0.0, \"#0d0887\"], [0.1111111111111111, \"#46039f\"], [0.2222222222222222, \"#7201a8\"], [0.3333333333333333, \"#9c179e\"], [0.4444444444444444, \"#bd3786\"], [0.5555555555555556, \"#d8576b\"], [0.6666666666666666, \"#ed7953\"], [0.7777777777777778, \"#fb9f3a\"], [0.8888888888888888, \"#fdca26\"], [1.0, \"#f0f921\"]], \"sequentialminus\": [[0.0, \"#0d0887\"], [0.1111111111111111, \"#46039f\"], [0.2222222222222222, \"#7201a8\"], [0.3333333333333333, \"#9c179e\"], [0.4444444444444444, \"#bd3786\"], [0.5555555555555556, \"#d8576b\"], [0.6666666666666666, \"#ed7953\"], [0.7777777777777778, \"#fb9f3a\"], [0.8888888888888888, \"#fdca26\"], [1.0, \"#f0f921\"]]}, \"colorway\": [\"#636efa\", \"#EF553B\", \"#00cc96\", \"#ab63fa\", \"#FFA15A\", \"#19d3f3\", \"#FF6692\", \"#B6E880\", \"#FF97FF\", \"#FECB52\"], \"font\": {\"color\": \"#2a3f5f\"}, \"geo\": {\"bgcolor\": \"white\", \"lakecolor\": \"white\", \"landcolor\": \"white\", \"showlakes\": true, \"showland\": true, \"subunitcolor\": \"#C8D4E3\"}, \"hoverlabel\": {\"align\": \"left\"}, \"hovermode\": \"closest\", \"mapbox\": {\"style\": \"light\"}, \"paper_bgcolor\": \"white\", \"plot_bgcolor\": \"white\", \"polar\": {\"angularaxis\": {\"gridcolor\": \"#EBF0F8\", \"linecolor\": \"#EBF0F8\", \"ticks\": \"\"}, \"bgcolor\": \"white\", \"radialaxis\": {\"gridcolor\": \"#EBF0F8\", \"linecolor\": \"#EBF0F8\", \"ticks\": \"\"}}, \"scene\": {\"xaxis\": {\"backgroundcolor\": \"white\", \"gridcolor\": \"#DFE8F3\", \"gridwidth\": 2, \"linecolor\": \"#EBF0F8\", \"showbackground\": true, \"ticks\": \"\", \"zerolinecolor\": \"#EBF0F8\"}, \"yaxis\": {\"backgroundcolor\": \"white\", \"gridcolor\": \"#DFE8F3\", \"gridwidth\": 2, \"linecolor\": \"#EBF0F8\", \"showbackground\": true, \"ticks\": \"\", \"zerolinecolor\": \"#EBF0F8\"}, \"zaxis\": {\"backgroundcolor\": \"white\", \"gridcolor\": \"#DFE8F3\", \"gridwidth\": 2, \"linecolor\": \"#EBF0F8\", \"showbackground\": true, \"ticks\": \"\", \"zerolinecolor\": \"#EBF0F8\"}}, \"shapedefaults\": {\"line\": {\"color\": \"#2a3f5f\"}}, \"ternary\": {\"aaxis\": {\"gridcolor\": \"#DFE8F3\", \"linecolor\": \"#A2B1C6\", \"ticks\": \"\"}, \"baxis\": {\"gridcolor\": \"#DFE8F3\", \"linecolor\": \"#A2B1C6\", \"ticks\": \"\"}, \"bgcolor\": \"white\", \"caxis\": {\"gridcolor\": \"#DFE8F3\", \"linecolor\": \"#A2B1C6\", \"ticks\": \"\"}}, \"title\": {\"x\": 0.05}, \"xaxis\": {\"automargin\": true, \"gridcolor\": \"#EBF0F8\", \"linecolor\": \"#EBF0F8\", \"ticks\": \"\", \"title\": {\"standoff\": 15}, \"zerolinecolor\": \"#EBF0F8\", \"zerolinewidth\": 2}, \"yaxis\": {\"automargin\": true, \"gridcolor\": \"#EBF0F8\", \"linecolor\": \"#EBF0F8\", \"ticks\": \"\", \"title\": {\"standoff\": 15}, \"zerolinecolor\": \"#EBF0F8\", \"zerolinewidth\": 2}}}, \"title\": {\"text\": \"Tracked path compared to given paths\"}},\n",
       "                        {\"responsive\": true}\n",
       "                    ).then(function(){\n",
       "                            \n",
       "var gd = document.getElementById('d5316317-1e5b-4032-8e0c-e72649a8a559');\n",
       "var x = new MutationObserver(function (mutations, observer) {{\n",
       "        var display = window.getComputedStyle(gd).display;\n",
       "        if (!display || display === 'none') {{\n",
       "            console.log([gd, 'removed!']);\n",
       "            Plotly.purge(gd);\n",
       "            observer.disconnect();\n",
       "        }}\n",
       "}});\n",
       "\n",
       "// Listen for the removal of the full notebook cells\n",
       "var notebookContainer = gd.closest('#notebook-container');\n",
       "if (notebookContainer) {{\n",
       "    x.observe(notebookContainer, {childList: true});\n",
       "}}\n",
       "\n",
       "// Listen for the clearing of the current output cell\n",
       "var outputEl = gd.closest('.output');\n",
       "if (outputEl) {{\n",
       "    x.observe(outputEl, {childList: true});\n",
       "}}\n",
       "\n",
       "                        })\n",
       "                };\n",
       "                });\n",
       "            </script>\n",
       "        </div>"
      ]
     },
     "metadata": {},
     "output_type": "display_data"
    }
   ],
   "source": [
    "#We create the figure object\n",
    "fig7 = go.Figure()\n",
    "#Real path\n",
    "fig7.add_trace(go.Scattermapbox(\n",
    "    name='Tracked path',\n",
    "    lat=lats,\n",
    "    lon=lons,\n",
    "    mode='lines',\n",
    "    line=dict(width=2, color='purple'),\n",
    "    text='Real path',\n",
    "    hoverinfo='text'\n",
    "))\n",
    "#Exp path\n",
    "fig7.add_trace(go.Scattermapbox(\n",
    "    name='HF path',\n",
    "    lat=hf_buses_data_path.lat,\n",
    "    lon=hf_buses_data_path.lon,\n",
    "    mode='lines',\n",
    "    line=dict(width=2, color='blue'),\n",
    "    text='Experiment path',\n",
    "    hoverinfo='text'\n",
    "))\n",
    "#Orig path\n",
    "fig7.add_trace(go.Scattermapbox(\n",
    "    name='Original path',\n",
    "    lat=buses_data_path.lat,\n",
    "    lon=buses_data_path.lon,\n",
    "    mode='lines',\n",
    "    line=dict(width=2, color='green'),\n",
    "    text='Original path',\n",
    "    hoverinfo='text'\n",
    "))\n",
    "\n",
    "#And set the figure layout\n",
    "fig7.update_layout(\n",
    "    title='Tracked path compared to given paths',\n",
    "    height=500,\n",
    "    margin=dict(r=0, l=0, t=50, b=0),\n",
    "    hovermode='closest',\n",
    "    showlegend=True,\n",
    "    mapbox=dict(\n",
    "        accesstoken=mapbox_access_token,\n",
    "        bearing=0,\n",
    "        center=dict(\n",
    "            lat=statistics.mean(lats),\n",
    "            lon=statistics.mean(lons)\n",
    "        ),\n",
    "        pitch=0,\n",
    "        zoom=14,\n",
    "        style=style_day\n",
    "    )\n",
    ")"
   ]
  },
  {
   "cell_type": "markdown",
   "metadata": {},
   "source": [
    "### Now that we know how bad is the location given by the api, we are going to compare the real path with the path obtained with the position estimator based on the DistanceBus attribute."
   ]
  },
  {
   "cell_type": "code",
   "execution_count": 155,
   "metadata": {},
   "outputs": [],
   "source": [
    "def get_calculated_coords(df,bus_tracked) :\n",
    "    stop = stops.loc[stops.id == 4285].iloc[0]\n",
    "    line = line91_1\n",
    "    \n",
    "    calculated_lats, calculated_lons = [],[]\n",
    "    dist_calc = []\n",
    "    \n",
    "    for row in df.itertuples() :\n",
    "        #Calc coordinates and append them to the list\n",
    "        calc_point_lon,calc_point_lat = point_by_distance_on_line(line,row.DistanceBus,stop.lat,stop.lon)\n",
    "        calculated_lats.append(calc_point_lat)\n",
    "        calculated_lons.append(calc_point_lon)\n",
    "        \n",
    "        #Calculate distances between calc coords and stop coords\n",
    "        dist_calc.append(haversine((row.tracked_lat,row.tracked_lon),(calc_point_lat,calc_point_lon)))\n",
    "        \n",
    "    \n",
    "    df['calc_lat'] = calculated_lats\n",
    "    df['calc_lon'] = calculated_lons\n",
    "    df['dist_calc'] = dist_calc\n",
    "    return df\n",
    "\n",
    "def get_tracked_distance(df) :\n",
    "    stop = stops.loc[stops.id == 4285].iloc[0]\n",
    "    line = line91_1\n",
    "    \n",
    "    dist_to_stop,dist_to_stop_on_line = [],[]\n",
    "    for row in df.itertuples() :\n",
    "        #Calc distances between tracked coords and stop\n",
    "        dist_to_stop.append(haversine((row.lat,row.lon),(stop.lat,stop.lon)))\n",
    "        dist_to_stop_on_line.append(distance_on_line(line,row.lat,row.lon,stop.lat,stop.lon))\n",
    "    \n",
    "    df['dist_to_stop'] = dist_to_stop\n",
    "    df['dist_to_stop_on_line'] = dist_to_stop_on_line\n",
    "    return df\n",
    "\n",
    "hf_buses_data_path = get_calculated_coords(hf_buses_data_path,bus_tracked)\n",
    "buses_data_path = get_calculated_coords(buses_data_path,bus_tracked)\n",
    "bus_tracked = get_tracked_distance(bus_tracked)"
   ]
  },
  {
   "cell_type": "code",
   "execution_count": 158,
   "metadata": {},
   "outputs": [
    {
     "data": {
      "application/vnd.plotly.v1+json": {
       "config": {
        "plotlyServerURL": "https://plot.ly"
       },
       "data": [
        {
         "line": {
          "width": 2
         },
         "mode": "lines",
         "name": "HF - Error in calculated coords",
         "type": "scatter",
         "x": [
          "2020-03-09T10:55:04.581986",
          "2020-03-09T10:55:09.645939",
          "2020-03-09T10:55:14.528373",
          "2020-03-09T10:55:19.624826",
          "2020-03-09T10:55:24.663989",
          "2020-03-09T10:55:29.678838",
          "2020-03-09T10:55:39.630131",
          "2020-03-09T10:55:44.640056",
          "2020-03-09T10:55:49.608299",
          "2020-03-09T10:55:54.605894",
          "2020-03-09T10:55:59.671630",
          "2020-03-09T10:56:04.583111",
          "2020-03-09T10:56:09.678437",
          "2020-03-09T10:56:14.718315",
          "2020-03-09T10:56:19.700122",
          "2020-03-09T10:56:24.634359",
          "2020-03-09T10:56:29.661099",
          "2020-03-09T10:56:34.669263",
          "2020-03-09T10:56:39.635770",
          "2020-03-09T10:56:44.629955",
          "2020-03-09T10:56:49.644746",
          "2020-03-09T10:56:54.642380",
          "2020-03-09T10:56:59.545956",
          "2020-03-09T10:57:04.681473",
          "2020-03-09T10:57:09.654995",
          "2020-03-09T10:57:14.614329",
          "2020-03-09T10:57:19.637066",
          "2020-03-09T10:57:24.670922",
          "2020-03-09T10:57:29.699214",
          "2020-03-09T10:57:34.647807",
          "2020-03-09T10:57:39.689541",
          "2020-03-09T10:57:44.595839",
          "2020-03-09T10:57:49.672161",
          "2020-03-09T10:57:54.664379",
          "2020-03-09T10:57:59.594332",
          "2020-03-09T10:58:04.707632",
          "2020-03-09T10:58:09.614195",
          "2020-03-09T10:58:14.588809",
          "2020-03-09T10:58:19.681629",
          "2020-03-09T10:58:24.649182",
          "2020-03-09T10:58:29.550912",
          "2020-03-09T10:58:34.687585",
          "2020-03-09T10:58:39.564990",
          "2020-03-09T10:58:44.526963",
          "2020-03-09T10:58:49.684971",
          "2020-03-09T10:58:54.558857",
          "2020-03-09T10:58:59.549023",
          "2020-03-09T10:59:04.613360",
          "2020-03-09T10:59:09.710614",
          "2020-03-09T10:59:14.645098",
          "2020-03-09T10:59:19.653849",
          "2020-03-09T10:59:24.700294",
          "2020-03-09T10:59:29.640677",
          "2020-03-09T10:59:34.678694",
          "2020-03-09T10:59:39.585706",
          "2020-03-09T10:59:44.673439",
          "2020-03-09T10:59:49.670600",
          "2020-03-09T10:59:54.685309",
          "2020-03-09T10:59:59.669000",
          "2020-03-09T11:00:04.631372",
          "2020-03-09T11:00:09.641897",
          "2020-03-09T11:00:14.706630",
          "2020-03-09T11:00:19.622114",
          "2020-03-09T11:00:24.628543",
          "2020-03-09T11:00:29.709759",
          "2020-03-09T11:00:34.690219",
          "2020-03-09T11:00:39.674111",
          "2020-03-09T11:00:44.646127",
          "2020-03-09T11:00:49.687179",
          "2020-03-09T11:00:54.597359",
          "2020-03-09T11:00:59.640065",
          "2020-03-09T11:01:04.694809",
          "2020-03-09T11:01:09.678989",
          "2020-03-09T11:01:14.603689",
          "2020-03-09T11:01:19.726386",
          "2020-03-09T11:01:24.616598",
          "2020-03-09T11:01:29.558828",
          "2020-03-09T11:01:34.689234",
          "2020-03-09T11:01:39.646076",
          "2020-03-09T11:01:44.654307",
          "2020-03-09T11:01:49.665018",
          "2020-03-09T11:01:54.701941",
          "2020-03-09T11:01:59.651911",
          "2020-03-09T11:02:04.714779",
          "2020-03-09T11:02:09.704366",
          "2020-03-09T11:02:14.682696",
          "2020-03-09T11:02:19.635148",
          "2020-03-09T11:02:24.702497",
          "2020-03-09T11:02:29.685350",
          "2020-03-09T11:02:34.707141",
          "2020-03-09T11:02:39.551544",
          "2020-03-09T11:02:44.691275",
          "2020-03-09T11:02:49.551238",
          "2020-03-09T11:02:54.709869",
          "2020-03-09T11:02:59.665358",
          "2020-03-09T11:03:04.715127",
          "2020-03-09T11:03:09.575124",
          "2020-03-09T11:03:14.636259",
          "2020-03-09T11:03:19.687612",
          "2020-03-09T11:03:24.724851",
          "2020-03-09T11:03:29.642752",
          "2020-03-09T11:03:34.790027",
          "2020-03-09T11:03:39.680936",
          "2020-03-09T11:03:44.746225",
          "2020-03-09T11:03:49.695415",
          "2020-03-09T11:03:54.698358",
          "2020-03-09T11:03:59.707909",
          "2020-03-09T11:04:04.722515",
          "2020-03-09T11:04:09.675955",
          "2020-03-09T11:04:14.683001",
          "2020-03-09T11:04:19.702923",
          "2020-03-09T11:04:24.639789",
          "2020-03-09T11:04:29.643860",
          "2020-03-09T11:04:34.760266",
          "2020-03-09T11:04:39.664993",
          "2020-03-09T11:04:44.676430",
          "2020-03-09T11:04:49.667881",
          "2020-03-09T11:04:54.684491",
          "2020-03-09T11:04:59.700439",
          "2020-03-09T11:05:04.723882",
          "2020-03-09T11:05:09.690988",
          "2020-03-09T11:05:14.699917",
          "2020-03-09T11:05:19.680458",
          "2020-03-09T11:05:24.733451",
          "2020-03-09T11:05:29.625495",
          "2020-03-09T11:05:34.678226",
          "2020-03-09T11:05:39.713333",
          "2020-03-09T11:05:44.702056"
         ],
         "y": [
          219.2929096495409,
          210.27332084572063,
          230.93461484486787,
          244.76761090745592,
          270.1025050755272,
          51.4753310114795,
          72.98472822691251,
          125.56152737626485,
          121.16124660955485,
          120.33008911166542,
          195.10353646286447,
          194.6253155161601,
          216.11540699655936,
          230.17031871258024,
          114.7069386482907,
          101.40017018330842,
          96.52256789912163,
          169.62016780501227,
          172.8675348981594,
          133.24426660823954,
          37.15302872577325,
          73.44230057400021,
          29.958789000452256,
          29.955871322534655,
          25.28575702329918,
          52.73769800521432,
          50.031127742496714,
          35.83421243618267,
          13.070596151808616,
          121.18442383700987,
          99.95799123694255,
          61.79550266522295,
          51.0699207508552,
          66.33570474437107,
          47.26051289105071,
          101.31299399501837,
          97.15045084238767,
          118.55927699392234,
          117.59962909141552,
          96.22918908021155,
          174.82362666700834,
          167.74368261697802,
          52.272727377810234,
          68.66102616429121,
          68.66102616429121,
          153.98750158171396,
          136.8079562308153,
          99.6603580071015,
          87.79267894657154,
          102.79164417945039,
          86.15281545760949,
          189.58872704344256,
          178.52478137867368,
          178.79173657651745,
          202.15682295680094,
          232.59685718649,
          204.2026335149355,
          164.34890512823705,
          75.41011640064228,
          19.259808840713088,
          35.08455139527837,
          60.61797774746544,
          98.65967539892732,
          79.1356522578095,
          69.67532317415922,
          14.143753896395511,
          14.143753896395511,
          42.71235077724173,
          69.47717738095974,
          72.15633385523782,
          64.59668288393486,
          59.26059482803081,
          85.90028776888542,
          102.6126794440458,
          88.60477369619541,
          152.8764741551581,
          84.29186204048759,
          61.644285624334316,
          38.31163088223596,
          15.112662807771114,
          25.344073069686704,
          19.028540407252013,
          35.30102115407267,
          19.540658459683307,
          25.245754516255193,
          62.57211654420931,
          53.51512537804255,
          23.68894794392682,
          46.27626793685502,
          76.3075614835562,
          82.70117108325684,
          61.2020698577051,
          23.73398179431788,
          66.80359455671532,
          23.848525360102084,
          22.898756241667353,
          24.292032785176943,
          23.762320250868406,
          46.60280660820276,
          42.00039081684384,
          46.745990540380454,
          22.63245333340109,
          25.928803413432618,
          31.354743512843513,
          31.409076503771054,
          116.13834367537547,
          115.83928863433678,
          116.10691926270215,
          112.0447902150752,
          125.42427796285988,
          120.25363677989375,
          121.47629832873906,
          166.16337631468002,
          129.68270945032967,
          13.874956283138149,
          35.46905549255962,
          13.001068375091052,
          24.158076704481662,
          64.28582226030983,
          63.17570101883185,
          93.67393580393758,
          115.724924438404,
          70.13095692822577,
          12.287549102436707,
          33.059930717039016,
          66.36087084438196,
          23.585182734670717,
          10.75063960590128
         ]
        },
        {
         "line": {
          "width": 2
         },
         "mode": "lines",
         "name": "Orig - Error in calculated coords",
         "type": "scatter",
         "x": [
          "2020-03-09T10:56:36.842317",
          "2020-03-09T10:57:31.573753",
          "2020-03-09T10:58:26.429938",
          "2020-03-09T10:59:21.567477",
          "2020-03-09T11:00:16.775696",
          "2020-03-09T11:01:11.693360",
          "2020-03-09T11:02:07.072449",
          "2020-03-09T11:03:01.726808",
          "2020-03-09T11:03:56.866652",
          "2020-03-09T11:04:51.813575",
          "2020-03-09T11:05:46.442907"
         ],
         "y": [
          219.2929096495409,
          203.03147596975793,
          158.27824656248956,
          185.0686122042348,
          122.96286170110186,
          118.37772318430346,
          156.34595618921296,
          287.9993534278263,
          194.89499572912743,
          178.67450363970818,
          129.47968550093572
         ]
        },
        {
         "line": {
          "width": 2
         },
         "mode": "lines",
         "name": "HF - Distance to stop given by the API ",
         "type": "scatter",
         "x": [
          "2020-03-09T10:55:04.581986",
          "2020-03-09T10:55:09.645939",
          "2020-03-09T10:55:14.528373",
          "2020-03-09T10:55:19.624826",
          "2020-03-09T10:55:24.663989",
          "2020-03-09T10:55:29.678838",
          "2020-03-09T10:55:39.630131",
          "2020-03-09T10:55:44.640056",
          "2020-03-09T10:55:49.608299",
          "2020-03-09T10:55:54.605894",
          "2020-03-09T10:55:59.671630",
          "2020-03-09T10:56:04.583111",
          "2020-03-09T10:56:09.678437",
          "2020-03-09T10:56:14.718315",
          "2020-03-09T10:56:19.700122",
          "2020-03-09T10:56:24.634359",
          "2020-03-09T10:56:29.661099",
          "2020-03-09T10:56:34.669263",
          "2020-03-09T10:56:39.635770",
          "2020-03-09T10:56:44.629955",
          "2020-03-09T10:56:49.644746",
          "2020-03-09T10:56:54.642380",
          "2020-03-09T10:56:59.545956",
          "2020-03-09T10:57:04.681473",
          "2020-03-09T10:57:09.654995",
          "2020-03-09T10:57:14.614329",
          "2020-03-09T10:57:19.637066",
          "2020-03-09T10:57:24.670922",
          "2020-03-09T10:57:29.699214",
          "2020-03-09T10:57:34.647807",
          "2020-03-09T10:57:39.689541",
          "2020-03-09T10:57:44.595839",
          "2020-03-09T10:57:49.672161",
          "2020-03-09T10:57:54.664379",
          "2020-03-09T10:57:59.594332",
          "2020-03-09T10:58:04.707632",
          "2020-03-09T10:58:09.614195",
          "2020-03-09T10:58:14.588809",
          "2020-03-09T10:58:19.681629",
          "2020-03-09T10:58:24.649182",
          "2020-03-09T10:58:29.550912",
          "2020-03-09T10:58:34.687585",
          "2020-03-09T10:58:39.564990",
          "2020-03-09T10:58:44.526963",
          "2020-03-09T10:58:49.684971",
          "2020-03-09T10:58:54.558857",
          "2020-03-09T10:58:59.549023",
          "2020-03-09T10:59:04.613360",
          "2020-03-09T10:59:09.710614",
          "2020-03-09T10:59:14.645098",
          "2020-03-09T10:59:19.653849",
          "2020-03-09T10:59:24.700294",
          "2020-03-09T10:59:29.640677",
          "2020-03-09T10:59:34.678694",
          "2020-03-09T10:59:39.585706",
          "2020-03-09T10:59:44.673439",
          "2020-03-09T10:59:49.670600",
          "2020-03-09T10:59:54.685309",
          "2020-03-09T10:59:59.669000",
          "2020-03-09T11:00:04.631372",
          "2020-03-09T11:00:09.641897",
          "2020-03-09T11:00:14.706630",
          "2020-03-09T11:00:19.622114",
          "2020-03-09T11:00:24.628543",
          "2020-03-09T11:00:29.709759",
          "2020-03-09T11:00:34.690219",
          "2020-03-09T11:00:39.674111",
          "2020-03-09T11:00:44.646127",
          "2020-03-09T11:00:49.687179",
          "2020-03-09T11:00:54.597359",
          "2020-03-09T11:00:59.640065",
          "2020-03-09T11:01:04.694809",
          "2020-03-09T11:01:09.678989",
          "2020-03-09T11:01:14.603689",
          "2020-03-09T11:01:19.726386",
          "2020-03-09T11:01:24.616598",
          "2020-03-09T11:01:29.558828",
          "2020-03-09T11:01:34.689234",
          "2020-03-09T11:01:39.646076",
          "2020-03-09T11:01:44.654307",
          "2020-03-09T11:01:49.665018",
          "2020-03-09T11:01:54.701941",
          "2020-03-09T11:01:59.651911",
          "2020-03-09T11:02:04.714779",
          "2020-03-09T11:02:09.704366",
          "2020-03-09T11:02:14.682696",
          "2020-03-09T11:02:19.635148",
          "2020-03-09T11:02:24.702497",
          "2020-03-09T11:02:29.685350",
          "2020-03-09T11:02:34.707141",
          "2020-03-09T11:02:39.551544",
          "2020-03-09T11:02:44.691275",
          "2020-03-09T11:02:49.551238",
          "2020-03-09T11:02:54.709869",
          "2020-03-09T11:02:59.665358",
          "2020-03-09T11:03:04.715127",
          "2020-03-09T11:03:09.575124",
          "2020-03-09T11:03:14.636259",
          "2020-03-09T11:03:19.687612",
          "2020-03-09T11:03:24.724851",
          "2020-03-09T11:03:29.642752",
          "2020-03-09T11:03:34.790027",
          "2020-03-09T11:03:39.680936",
          "2020-03-09T11:03:44.746225",
          "2020-03-09T11:03:49.695415",
          "2020-03-09T11:03:54.698358",
          "2020-03-09T11:03:59.707909",
          "2020-03-09T11:04:04.722515",
          "2020-03-09T11:04:09.675955",
          "2020-03-09T11:04:14.683001",
          "2020-03-09T11:04:19.702923",
          "2020-03-09T11:04:24.639789",
          "2020-03-09T11:04:29.643860",
          "2020-03-09T11:04:34.760266",
          "2020-03-09T11:04:39.664993",
          "2020-03-09T11:04:44.676430",
          "2020-03-09T11:04:49.667881",
          "2020-03-09T11:04:54.684491",
          "2020-03-09T11:04:59.700439",
          "2020-03-09T11:05:04.723882",
          "2020-03-09T11:05:09.690988",
          "2020-03-09T11:05:14.699917",
          "2020-03-09T11:05:19.680458",
          "2020-03-09T11:05:24.733451",
          "2020-03-09T11:05:29.625495",
          "2020-03-09T11:05:34.678226",
          "2020-03-09T11:05:39.713333",
          "2020-03-09T11:05:44.702056"
         ],
         "y": [
          2470,
          2447,
          2423,
          2400,
          2377,
          2608,
          2558,
          2533,
          2508,
          2482,
          2457,
          2432,
          2407,
          2382,
          2534,
          2506,
          2478,
          2450,
          2422,
          2394,
          2512,
          2484,
          2456,
          2428,
          2400,
          2372,
          2344,
          2316,
          2288,
          2260,
          2232,
          2204,
          2176,
          2148,
          2120,
          2092,
          2064,
          2036,
          2008,
          1980,
          1952,
          1924,
          2035,
          2005,
          1974,
          1944,
          1913,
          1883,
          1852,
          1822,
          1791,
          1761,
          1731,
          1700,
          1670,
          1639,
          1609,
          1578,
          1773,
          1741,
          1710,
          1678,
          1647,
          1615,
          1584,
          1552,
          1521,
          1489,
          1458,
          1426,
          1394,
          1363,
          1331,
          1300,
          1268,
          1237,
          1412,
          1379,
          1347,
          1314,
          1281,
          1248,
          1215,
          1182,
          1150,
          1117,
          1084,
          1051,
          960,
          930,
          901,
          871,
          842,
          813,
          783,
          754,
          724,
          695,
          666,
          636,
          607,
          577,
          548,
          518,
          489,
          460,
          430,
          401,
          371,
          342,
          312,
          283,
          254,
          224,
          302,
          273,
          243,
          214,
          184,
          154,
          125,
          95,
          66,
          102,
          72,
          42,
          12,
          0
         ]
        },
        {
         "line": {
          "width": 2
         },
         "mode": "lines",
         "name": "Orig - Distance to stop given by the API ",
         "type": "scatter",
         "x": [
          "2020-03-09T10:56:36.842317",
          "2020-03-09T10:57:31.573753",
          "2020-03-09T10:58:26.429938",
          "2020-03-09T10:59:21.567477",
          "2020-03-09T11:00:16.775696",
          "2020-03-09T11:01:11.693360",
          "2020-03-09T11:02:07.072449",
          "2020-03-09T11:03:01.726808",
          "2020-03-09T11:03:56.866652",
          "2020-03-09T11:04:51.813575",
          "2020-03-09T11:05:46.442907"
         ],
         "y": [
          2439,
          2277,
          1969,
          1779,
          1666,
          1319,
          1163,
          771,
          448,
          231,
          0
         ]
        },
        {
         "line": {
          "width": 2
         },
         "mode": "lines",
         "name": "Real distance to stop on line",
         "type": "scatter",
         "x": [
          "2020-03-09T10:55:02.470000",
          "2020-03-09T10:55:04",
          "2020-03-09T10:55:06",
          "2020-03-09T10:55:08",
          "2020-03-09T10:55:10",
          "2020-03-09T10:55:12",
          "2020-03-09T10:55:14",
          "2020-03-09T10:55:16",
          "2020-03-09T10:55:18",
          "2020-03-09T10:55:20",
          "2020-03-09T10:55:22",
          "2020-03-09T10:55:24",
          "2020-03-09T10:55:26",
          "2020-03-09T10:55:28",
          "2020-03-09T10:55:29",
          "2020-03-09T10:55:38",
          "2020-03-09T10:55:40",
          "2020-03-09T10:55:42",
          "2020-03-09T10:55:45",
          "2020-03-09T10:55:47",
          "2020-03-09T10:55:49",
          "2020-03-09T10:55:51",
          "2020-03-09T10:55:53",
          "2020-03-09T10:55:55",
          "2020-03-09T10:55:57",
          "2020-03-09T10:55:59",
          "2020-03-09T10:56:01",
          "2020-03-09T10:56:03",
          "2020-03-09T10:56:05",
          "2020-03-09T10:56:07",
          "2020-03-09T10:56:09",
          "2020-03-09T10:56:11",
          "2020-03-09T10:56:13",
          "2020-03-09T10:56:15",
          "2020-03-09T10:56:18",
          "2020-03-09T10:56:20",
          "2020-03-09T10:56:22",
          "2020-03-09T10:56:24",
          "2020-03-09T10:56:26",
          "2020-03-09T10:56:28",
          "2020-03-09T10:56:30",
          "2020-03-09T10:56:32",
          "2020-03-09T10:56:34",
          "2020-03-09T10:56:36",
          "2020-03-09T10:56:38",
          "2020-03-09T10:56:40",
          "2020-03-09T10:56:42",
          "2020-03-09T10:56:44",
          "2020-03-09T10:56:46",
          "2020-03-09T10:56:48",
          "2020-03-09T10:56:50",
          "2020-03-09T10:56:52",
          "2020-03-09T10:56:54",
          "2020-03-09T10:56:57",
          "2020-03-09T10:56:59",
          "2020-03-09T10:57:01",
          "2020-03-09T10:57:03",
          "2020-03-09T10:57:05",
          "2020-03-09T10:57:07",
          "2020-03-09T10:57:09",
          "2020-03-09T10:57:11",
          "2020-03-09T10:57:13",
          "2020-03-09T10:57:15",
          "2020-03-09T10:57:17",
          "2020-03-09T10:57:19",
          "2020-03-09T10:57:21",
          "2020-03-09T10:57:23",
          "2020-03-09T10:57:25",
          "2020-03-09T10:57:27",
          "2020-03-09T10:57:29",
          "2020-03-09T10:57:32",
          "2020-03-09T10:57:34",
          "2020-03-09T10:57:36",
          "2020-03-09T10:57:38",
          "2020-03-09T10:57:40",
          "2020-03-09T10:57:42",
          "2020-03-09T10:57:44",
          "2020-03-09T10:57:46",
          "2020-03-09T10:57:48",
          "2020-03-09T10:57:50",
          "2020-03-09T10:57:52",
          "2020-03-09T10:57:54",
          "2020-03-09T10:57:56",
          "2020-03-09T10:57:58",
          "2020-03-09T10:58:00",
          "2020-03-09T10:58:02",
          "2020-03-09T10:58:04",
          "2020-03-09T10:58:06",
          "2020-03-09T10:58:08",
          "2020-03-09T10:58:11",
          "2020-03-09T10:58:13",
          "2020-03-09T10:58:15",
          "2020-03-09T10:58:17",
          "2020-03-09T10:58:19",
          "2020-03-09T10:58:21",
          "2020-03-09T10:58:23",
          "2020-03-09T10:58:25",
          "2020-03-09T10:58:27",
          "2020-03-09T10:58:29",
          "2020-03-09T10:58:31",
          "2020-03-09T10:58:33",
          "2020-03-09T10:58:35",
          "2020-03-09T10:58:37",
          "2020-03-09T10:58:39",
          "2020-03-09T10:58:41",
          "2020-03-09T10:58:44",
          "2020-03-09T10:58:46",
          "2020-03-09T10:58:48",
          "2020-03-09T10:58:50",
          "2020-03-09T10:58:52",
          "2020-03-09T10:58:54",
          "2020-03-09T10:58:56",
          "2020-03-09T10:58:58",
          "2020-03-09T10:59:00",
          "2020-03-09T10:59:02",
          "2020-03-09T10:59:04",
          "2020-03-09T10:59:06",
          "2020-03-09T10:59:08",
          "2020-03-09T10:59:10",
          "2020-03-09T10:59:12",
          "2020-03-09T10:59:14",
          "2020-03-09T10:59:17",
          "2020-03-09T10:59:19",
          "2020-03-09T10:59:21",
          "2020-03-09T10:59:23",
          "2020-03-09T10:59:25",
          "2020-03-09T10:59:27",
          "2020-03-09T10:59:29",
          "2020-03-09T10:59:31",
          "2020-03-09T10:59:33",
          "2020-03-09T10:59:35",
          "2020-03-09T10:59:37",
          "2020-03-09T10:59:39",
          "2020-03-09T10:59:41",
          "2020-03-09T10:59:43",
          "2020-03-09T10:59:45",
          "2020-03-09T10:59:47",
          "2020-03-09T10:59:49",
          "2020-03-09T10:59:52",
          "2020-03-09T10:59:54",
          "2020-03-09T10:59:56",
          "2020-03-09T10:59:58",
          "2020-03-09T11:00:00",
          "2020-03-09T11:00:02",
          "2020-03-09T11:00:04",
          "2020-03-09T11:00:06",
          "2020-03-09T11:00:08",
          "2020-03-09T11:00:10",
          "2020-03-09T11:00:12",
          "2020-03-09T11:00:14",
          "2020-03-09T11:00:16",
          "2020-03-09T11:00:19",
          "2020-03-09T11:00:21",
          "2020-03-09T11:00:23",
          "2020-03-09T11:00:25",
          "2020-03-09T11:00:27",
          "2020-03-09T11:00:29",
          "2020-03-09T11:00:31",
          "2020-03-09T11:00:33",
          "2020-03-09T11:00:35",
          "2020-03-09T11:00:37",
          "2020-03-09T11:00:39",
          "2020-03-09T11:00:41",
          "2020-03-09T11:00:43",
          "2020-03-09T11:00:45",
          "2020-03-09T11:00:47",
          "2020-03-09T11:00:49",
          "2020-03-09T11:00:52",
          "2020-03-09T11:00:54",
          "2020-03-09T11:00:56",
          "2020-03-09T11:00:58",
          "2020-03-09T11:01:00",
          "2020-03-09T11:01:02",
          "2020-03-09T11:01:04",
          "2020-03-09T11:01:06",
          "2020-03-09T11:01:08",
          "2020-03-09T11:01:10",
          "2020-03-09T11:01:12",
          "2020-03-09T11:01:14",
          "2020-03-09T11:01:16",
          "2020-03-09T11:01:18",
          "2020-03-09T11:01:21",
          "2020-03-09T11:01:23",
          "2020-03-09T11:01:25",
          "2020-03-09T11:01:27",
          "2020-03-09T11:01:29",
          "2020-03-09T11:01:31",
          "2020-03-09T11:01:33",
          "2020-03-09T11:01:35",
          "2020-03-09T11:01:37",
          "2020-03-09T11:01:39",
          "2020-03-09T11:01:41",
          "2020-03-09T11:01:43",
          "2020-03-09T11:01:45",
          "2020-03-09T11:01:47",
          "2020-03-09T11:01:49",
          "2020-03-09T11:01:51",
          "2020-03-09T11:01:53",
          "2020-03-09T11:01:56",
          "2020-03-09T11:01:58",
          "2020-03-09T11:02:00",
          "2020-03-09T11:02:02",
          "2020-03-09T11:02:04",
          "2020-03-09T11:02:06",
          "2020-03-09T11:02:08",
          "2020-03-09T11:02:10",
          "2020-03-09T11:02:12",
          "2020-03-09T11:02:14",
          "2020-03-09T11:02:16",
          "2020-03-09T11:02:18",
          "2020-03-09T11:02:20",
          "2020-03-09T11:02:22",
          "2020-03-09T11:02:24",
          "2020-03-09T11:02:27",
          "2020-03-09T11:02:29",
          "2020-03-09T11:02:31",
          "2020-03-09T11:02:33",
          "2020-03-09T11:02:35",
          "2020-03-09T11:02:37",
          "2020-03-09T11:02:39",
          "2020-03-09T11:02:41",
          "2020-03-09T11:02:43",
          "2020-03-09T11:02:45",
          "2020-03-09T11:02:47",
          "2020-03-09T11:02:49",
          "2020-03-09T11:02:51",
          "2020-03-09T11:02:53",
          "2020-03-09T11:02:55",
          "2020-03-09T11:02:57",
          "2020-03-09T11:03:00",
          "2020-03-09T11:03:02",
          "2020-03-09T11:03:04",
          "2020-03-09T11:03:06",
          "2020-03-09T11:03:08",
          "2020-03-09T11:03:10",
          "2020-03-09T11:03:12",
          "2020-03-09T11:03:14",
          "2020-03-09T11:03:16",
          "2020-03-09T11:03:18",
          "2020-03-09T11:03:20",
          "2020-03-09T11:03:22",
          "2020-03-09T11:03:24",
          "2020-03-09T11:03:26",
          "2020-03-09T11:03:28",
          "2020-03-09T11:03:30",
          "2020-03-09T11:03:32",
          "2020-03-09T11:03:35",
          "2020-03-09T11:03:37",
          "2020-03-09T11:03:39",
          "2020-03-09T11:03:41",
          "2020-03-09T11:03:43",
          "2020-03-09T11:03:45",
          "2020-03-09T11:03:47",
          "2020-03-09T11:03:49",
          "2020-03-09T11:03:51",
          "2020-03-09T11:03:53",
          "2020-03-09T11:03:55",
          "2020-03-09T11:03:57",
          "2020-03-09T11:03:59",
          "2020-03-09T11:04:01",
          "2020-03-09T11:04:03",
          "2020-03-09T11:04:05",
          "2020-03-09T11:04:08",
          "2020-03-09T11:04:10",
          "2020-03-09T11:04:12",
          "2020-03-09T11:04:14",
          "2020-03-09T11:04:16",
          "2020-03-09T11:04:18",
          "2020-03-09T11:04:20",
          "2020-03-09T11:04:22",
          "2020-03-09T11:04:24",
          "2020-03-09T11:04:26",
          "2020-03-09T11:04:28",
          "2020-03-09T11:04:30",
          "2020-03-09T11:04:32",
          "2020-03-09T11:04:34",
          "2020-03-09T11:04:36",
          "2020-03-09T11:04:39",
          "2020-03-09T11:04:41",
          "2020-03-09T11:04:43",
          "2020-03-09T11:04:45",
          "2020-03-09T11:04:47",
          "2020-03-09T11:04:49",
          "2020-03-09T11:04:51",
          "2020-03-09T11:04:53",
          "2020-03-09T11:04:55",
          "2020-03-09T11:04:57",
          "2020-03-09T11:04:59",
          "2020-03-09T11:05:01",
          "2020-03-09T11:05:03",
          "2020-03-09T11:05:05",
          "2020-03-09T11:05:07",
          "2020-03-09T11:05:09",
          "2020-03-09T11:05:11",
          "2020-03-09T11:05:13",
          "2020-03-09T11:05:16",
          "2020-03-09T11:05:18",
          "2020-03-09T11:05:20",
          "2020-03-09T11:05:22",
          "2020-03-09T11:05:24",
          "2020-03-09T11:05:26",
          "2020-03-09T11:05:28",
          "2020-03-09T11:05:30",
          "2020-03-09T11:05:32",
          "2020-03-09T11:05:34",
          "2020-03-09T11:05:36",
          "2020-03-09T11:05:38",
          "2020-03-09T11:05:40",
          "2020-03-09T11:05:42",
          "2020-03-09T11:05:44",
          "2020-03-09T11:05:46",
          "2020-03-09T11:05:49"
         ],
         "y": [
          2638,
          2638,
          2638,
          2638,
          2638,
          2638,
          2638,
          2638,
          2638,
          2638,
          2638,
          2638,
          2638,
          2638,
          2638,
          2638,
          2638,
          2638,
          2638,
          2614,
          2614,
          2614,
          2614,
          2614,
          2614,
          2614,
          2614,
          2614,
          2614,
          2614,
          2614,
          2614,
          2614,
          2614,
          2614,
          2614,
          2614,
          2614,
          2614,
          2614,
          2614,
          2614,
          2614,
          2582,
          2582,
          2582,
          2582,
          2515,
          2515,
          2515,
          2515,
          2439,
          2439,
          2439,
          2413,
          2413,
          2413,
          2413,
          2413,
          2413,
          2413,
          2413,
          2413,
          2413,
          2413,
          2413,
          2396,
          2396,
          2396,
          2368,
          2368,
          2368,
          2368,
          2368,
          2368,
          2208,
          2208,
          2208,
          2208,
          2208,
          2208,
          2208,
          2193,
          2193,
          2193,
          2145,
          2145,
          2145,
          2145,
          2145,
          2145,
          2145,
          2145,
          2145,
          2145,
          2049,
          2049,
          2049,
          2049,
          2049,
          2049,
          2049,
          2049,
          2049,
          2049,
          2049,
          2049,
          2049,
          2049,
          2049,
          2049,
          2049,
          2049,
          2028,
          2028,
          2010,
          2010,
          1908,
          1908,
          1908,
          1908,
          1908,
          1908,
          1892,
          1892,
          1892,
          1892,
          1892,
          1892,
          1892,
          1892,
          1892,
          1892,
          1892,
          1838,
          1838,
          1838,
          1825,
          1825,
          1825,
          1701,
          1701,
          1701,
          1701,
          1701,
          1670,
          1662,
          1662,
          1620,
          1601,
          1601,
          1535,
          1535,
          1535,
          1535,
          1535,
          1535,
          1535,
          1535,
          1535,
          1535,
          1535,
          1535,
          1535,
          1535,
          1535,
          1535,
          1535,
          1535,
          1493,
          1493,
          1493,
          1493,
          1493,
          1493,
          1493,
          1493,
          1493,
          1477,
          1477,
          1477,
          1366,
          1366,
          1324,
          1324,
          1324,
          1324,
          1324,
          1324,
          1324,
          1324,
          1324,
          1324,
          1324,
          1324,
          1324,
          1292,
          1292,
          1292,
          1196,
          1196,
          1196,
          1172,
          1141,
          1127,
          1086,
          1086,
          1086,
          1019,
          1019,
          1019,
          1019,
          1019,
          1019,
          1019,
          1019,
          1019,
          1019,
          978,
          978,
          942,
          942,
          889,
          889,
          867,
          867,
          867,
          719,
          719,
          719,
          719,
          719,
          719,
          719,
          719,
          719,
          719,
          688,
          688,
          688,
          688,
          675,
          675,
          660,
          645,
          613,
          613,
          582,
          582,
          551,
          551,
          551,
          527,
          527,
          527,
          551,
          551,
          551,
          527,
          527,
          527,
          527,
          502,
          502,
          502,
          420,
          420,
          420,
          420,
          420,
          420,
          403,
          403,
          403,
          366,
          366,
          319,
          303,
          303,
          236,
          236,
          236,
          236,
          236,
          236,
          236,
          236,
          236,
          236,
          236,
          236,
          236,
          221,
          221,
          176,
          176,
          126,
          126,
          126,
          79,
          79,
          79,
          0,
          0,
          0,
          0,
          0,
          0,
          0,
          0,
          0,
          0
         ]
        },
        {
         "line": {
          "width": 2
         },
         "mode": "lines",
         "name": "Real euclidean distance to stop",
         "type": "scatter",
         "x": [
          "2020-03-09T10:55:02.470000",
          "2020-03-09T10:55:04",
          "2020-03-09T10:55:06",
          "2020-03-09T10:55:08",
          "2020-03-09T10:55:10",
          "2020-03-09T10:55:12",
          "2020-03-09T10:55:14",
          "2020-03-09T10:55:16",
          "2020-03-09T10:55:18",
          "2020-03-09T10:55:20",
          "2020-03-09T10:55:22",
          "2020-03-09T10:55:24",
          "2020-03-09T10:55:26",
          "2020-03-09T10:55:28",
          "2020-03-09T10:55:29",
          "2020-03-09T10:55:38",
          "2020-03-09T10:55:40",
          "2020-03-09T10:55:42",
          "2020-03-09T10:55:45",
          "2020-03-09T10:55:47",
          "2020-03-09T10:55:49",
          "2020-03-09T10:55:51",
          "2020-03-09T10:55:53",
          "2020-03-09T10:55:55",
          "2020-03-09T10:55:57",
          "2020-03-09T10:55:59",
          "2020-03-09T10:56:01",
          "2020-03-09T10:56:03",
          "2020-03-09T10:56:05",
          "2020-03-09T10:56:07",
          "2020-03-09T10:56:09",
          "2020-03-09T10:56:11",
          "2020-03-09T10:56:13",
          "2020-03-09T10:56:15",
          "2020-03-09T10:56:18",
          "2020-03-09T10:56:20",
          "2020-03-09T10:56:22",
          "2020-03-09T10:56:24",
          "2020-03-09T10:56:26",
          "2020-03-09T10:56:28",
          "2020-03-09T10:56:30",
          "2020-03-09T10:56:32",
          "2020-03-09T10:56:34",
          "2020-03-09T10:56:36",
          "2020-03-09T10:56:38",
          "2020-03-09T10:56:40",
          "2020-03-09T10:56:42",
          "2020-03-09T10:56:44",
          "2020-03-09T10:56:46",
          "2020-03-09T10:56:48",
          "2020-03-09T10:56:50",
          "2020-03-09T10:56:52",
          "2020-03-09T10:56:54",
          "2020-03-09T10:56:57",
          "2020-03-09T10:56:59",
          "2020-03-09T10:57:01",
          "2020-03-09T10:57:03",
          "2020-03-09T10:57:05",
          "2020-03-09T10:57:07",
          "2020-03-09T10:57:09",
          "2020-03-09T10:57:11",
          "2020-03-09T10:57:13",
          "2020-03-09T10:57:15",
          "2020-03-09T10:57:17",
          "2020-03-09T10:57:19",
          "2020-03-09T10:57:21",
          "2020-03-09T10:57:23",
          "2020-03-09T10:57:25",
          "2020-03-09T10:57:27",
          "2020-03-09T10:57:29",
          "2020-03-09T10:57:32",
          "2020-03-09T10:57:34",
          "2020-03-09T10:57:36",
          "2020-03-09T10:57:38",
          "2020-03-09T10:57:40",
          "2020-03-09T10:57:42",
          "2020-03-09T10:57:44",
          "2020-03-09T10:57:46",
          "2020-03-09T10:57:48",
          "2020-03-09T10:57:50",
          "2020-03-09T10:57:52",
          "2020-03-09T10:57:54",
          "2020-03-09T10:57:56",
          "2020-03-09T10:57:58",
          "2020-03-09T10:58:00",
          "2020-03-09T10:58:02",
          "2020-03-09T10:58:04",
          "2020-03-09T10:58:06",
          "2020-03-09T10:58:08",
          "2020-03-09T10:58:11",
          "2020-03-09T10:58:13",
          "2020-03-09T10:58:15",
          "2020-03-09T10:58:17",
          "2020-03-09T10:58:19",
          "2020-03-09T10:58:21",
          "2020-03-09T10:58:23",
          "2020-03-09T10:58:25",
          "2020-03-09T10:58:27",
          "2020-03-09T10:58:29",
          "2020-03-09T10:58:31",
          "2020-03-09T10:58:33",
          "2020-03-09T10:58:35",
          "2020-03-09T10:58:37",
          "2020-03-09T10:58:39",
          "2020-03-09T10:58:41",
          "2020-03-09T10:58:44",
          "2020-03-09T10:58:46",
          "2020-03-09T10:58:48",
          "2020-03-09T10:58:50",
          "2020-03-09T10:58:52",
          "2020-03-09T10:58:54",
          "2020-03-09T10:58:56",
          "2020-03-09T10:58:58",
          "2020-03-09T10:59:00",
          "2020-03-09T10:59:02",
          "2020-03-09T10:59:04",
          "2020-03-09T10:59:06",
          "2020-03-09T10:59:08",
          "2020-03-09T10:59:10",
          "2020-03-09T10:59:12",
          "2020-03-09T10:59:14",
          "2020-03-09T10:59:17",
          "2020-03-09T10:59:19",
          "2020-03-09T10:59:21",
          "2020-03-09T10:59:23",
          "2020-03-09T10:59:25",
          "2020-03-09T10:59:27",
          "2020-03-09T10:59:29",
          "2020-03-09T10:59:31",
          "2020-03-09T10:59:33",
          "2020-03-09T10:59:35",
          "2020-03-09T10:59:37",
          "2020-03-09T10:59:39",
          "2020-03-09T10:59:41",
          "2020-03-09T10:59:43",
          "2020-03-09T10:59:45",
          "2020-03-09T10:59:47",
          "2020-03-09T10:59:49",
          "2020-03-09T10:59:52",
          "2020-03-09T10:59:54",
          "2020-03-09T10:59:56",
          "2020-03-09T10:59:58",
          "2020-03-09T11:00:00",
          "2020-03-09T11:00:02",
          "2020-03-09T11:00:04",
          "2020-03-09T11:00:06",
          "2020-03-09T11:00:08",
          "2020-03-09T11:00:10",
          "2020-03-09T11:00:12",
          "2020-03-09T11:00:14",
          "2020-03-09T11:00:16",
          "2020-03-09T11:00:19",
          "2020-03-09T11:00:21",
          "2020-03-09T11:00:23",
          "2020-03-09T11:00:25",
          "2020-03-09T11:00:27",
          "2020-03-09T11:00:29",
          "2020-03-09T11:00:31",
          "2020-03-09T11:00:33",
          "2020-03-09T11:00:35",
          "2020-03-09T11:00:37",
          "2020-03-09T11:00:39",
          "2020-03-09T11:00:41",
          "2020-03-09T11:00:43",
          "2020-03-09T11:00:45",
          "2020-03-09T11:00:47",
          "2020-03-09T11:00:49",
          "2020-03-09T11:00:52",
          "2020-03-09T11:00:54",
          "2020-03-09T11:00:56",
          "2020-03-09T11:00:58",
          "2020-03-09T11:01:00",
          "2020-03-09T11:01:02",
          "2020-03-09T11:01:04",
          "2020-03-09T11:01:06",
          "2020-03-09T11:01:08",
          "2020-03-09T11:01:10",
          "2020-03-09T11:01:12",
          "2020-03-09T11:01:14",
          "2020-03-09T11:01:16",
          "2020-03-09T11:01:18",
          "2020-03-09T11:01:21",
          "2020-03-09T11:01:23",
          "2020-03-09T11:01:25",
          "2020-03-09T11:01:27",
          "2020-03-09T11:01:29",
          "2020-03-09T11:01:31",
          "2020-03-09T11:01:33",
          "2020-03-09T11:01:35",
          "2020-03-09T11:01:37",
          "2020-03-09T11:01:39",
          "2020-03-09T11:01:41",
          "2020-03-09T11:01:43",
          "2020-03-09T11:01:45",
          "2020-03-09T11:01:47",
          "2020-03-09T11:01:49",
          "2020-03-09T11:01:51",
          "2020-03-09T11:01:53",
          "2020-03-09T11:01:56",
          "2020-03-09T11:01:58",
          "2020-03-09T11:02:00",
          "2020-03-09T11:02:02",
          "2020-03-09T11:02:04",
          "2020-03-09T11:02:06",
          "2020-03-09T11:02:08",
          "2020-03-09T11:02:10",
          "2020-03-09T11:02:12",
          "2020-03-09T11:02:14",
          "2020-03-09T11:02:16",
          "2020-03-09T11:02:18",
          "2020-03-09T11:02:20",
          "2020-03-09T11:02:22",
          "2020-03-09T11:02:24",
          "2020-03-09T11:02:27",
          "2020-03-09T11:02:29",
          "2020-03-09T11:02:31",
          "2020-03-09T11:02:33",
          "2020-03-09T11:02:35",
          "2020-03-09T11:02:37",
          "2020-03-09T11:02:39",
          "2020-03-09T11:02:41",
          "2020-03-09T11:02:43",
          "2020-03-09T11:02:45",
          "2020-03-09T11:02:47",
          "2020-03-09T11:02:49",
          "2020-03-09T11:02:51",
          "2020-03-09T11:02:53",
          "2020-03-09T11:02:55",
          "2020-03-09T11:02:57",
          "2020-03-09T11:03:00",
          "2020-03-09T11:03:02",
          "2020-03-09T11:03:04",
          "2020-03-09T11:03:06",
          "2020-03-09T11:03:08",
          "2020-03-09T11:03:10",
          "2020-03-09T11:03:12",
          "2020-03-09T11:03:14",
          "2020-03-09T11:03:16",
          "2020-03-09T11:03:18",
          "2020-03-09T11:03:20",
          "2020-03-09T11:03:22",
          "2020-03-09T11:03:24",
          "2020-03-09T11:03:26",
          "2020-03-09T11:03:28",
          "2020-03-09T11:03:30",
          "2020-03-09T11:03:32",
          "2020-03-09T11:03:35",
          "2020-03-09T11:03:37",
          "2020-03-09T11:03:39",
          "2020-03-09T11:03:41",
          "2020-03-09T11:03:43",
          "2020-03-09T11:03:45",
          "2020-03-09T11:03:47",
          "2020-03-09T11:03:49",
          "2020-03-09T11:03:51",
          "2020-03-09T11:03:53",
          "2020-03-09T11:03:55",
          "2020-03-09T11:03:57",
          "2020-03-09T11:03:59",
          "2020-03-09T11:04:01",
          "2020-03-09T11:04:03",
          "2020-03-09T11:04:05",
          "2020-03-09T11:04:08",
          "2020-03-09T11:04:10",
          "2020-03-09T11:04:12",
          "2020-03-09T11:04:14",
          "2020-03-09T11:04:16",
          "2020-03-09T11:04:18",
          "2020-03-09T11:04:20",
          "2020-03-09T11:04:22",
          "2020-03-09T11:04:24",
          "2020-03-09T11:04:26",
          "2020-03-09T11:04:28",
          "2020-03-09T11:04:30",
          "2020-03-09T11:04:32",
          "2020-03-09T11:04:34",
          "2020-03-09T11:04:36",
          "2020-03-09T11:04:39",
          "2020-03-09T11:04:41",
          "2020-03-09T11:04:43",
          "2020-03-09T11:04:45",
          "2020-03-09T11:04:47",
          "2020-03-09T11:04:49",
          "2020-03-09T11:04:51",
          "2020-03-09T11:04:53",
          "2020-03-09T11:04:55",
          "2020-03-09T11:04:57",
          "2020-03-09T11:04:59",
          "2020-03-09T11:05:01",
          "2020-03-09T11:05:03",
          "2020-03-09T11:05:05",
          "2020-03-09T11:05:07",
          "2020-03-09T11:05:09",
          "2020-03-09T11:05:11",
          "2020-03-09T11:05:13",
          "2020-03-09T11:05:16",
          "2020-03-09T11:05:18",
          "2020-03-09T11:05:20",
          "2020-03-09T11:05:22",
          "2020-03-09T11:05:24",
          "2020-03-09T11:05:26",
          "2020-03-09T11:05:28",
          "2020-03-09T11:05:30",
          "2020-03-09T11:05:32",
          "2020-03-09T11:05:34",
          "2020-03-09T11:05:36",
          "2020-03-09T11:05:38",
          "2020-03-09T11:05:40",
          "2020-03-09T11:05:42",
          "2020-03-09T11:05:44",
          "2020-03-09T11:05:46",
          "2020-03-09T11:05:49"
         ],
         "y": [
          1999.1588996304179,
          2000.3780279095215,
          1991.1416998666248,
          1990.1828189243724,
          1990.0175705633142,
          1989.9179472842436,
          1988.4062060425763,
          1988.4155503397415,
          1988.0529691350862,
          1987.549422872728,
          1986.9109521224016,
          1985.5879646301444,
          1984.2805083386963,
          1984.072621300884,
          1984.2186941217626,
          1983.0285608056445,
          1983.4636146599548,
          1982.2973291375924,
          1978.622445650083,
          1975.7990804573217,
          1973.4577992796092,
          1972.583749586167,
          1973.4359323553656,
          1974.5647060941446,
          1975.1109629504356,
          1974.835927231017,
          1974.7741223403784,
          1974.4192136269667,
          1973.8848045569614,
          1973.887364675636,
          1973.887364675636,
          1973.887364675636,
          1973.6806440604864,
          1973.0447044197658,
          1968.6989338740732,
          1964.1591262754412,
          1960.2922967654317,
          1956.3341358422053,
          1953.2927643668825,
          1951.6187857102786,
          1951.7385051868757,
          1951.7385051868757,
          1949.4204618799804,
          1942.7507889409442,
          1929.8457794708136,
          1913.352791690473,
          1895.7333871172937,
          1876.8408210357616,
          1858.542415322522,
          1841.8190317487276,
          1825.0747562171805,
          1809.4963285657427,
          1796.2735222049166,
          1780.3694808830614,
          1771.907551907594,
          1768.6810351087559,
          1769.6187780772202,
          1769.7649141897416,
          1769.7649141897416,
          1769.7649141897416,
          1769.7649141897416,
          1769.7649141897416,
          1769.7649141897416,
          1769.669268281168,
          1767.0943510939017,
          1760.9843387054793,
          1752.5956125098312,
          1743.2263882777763,
          1733.3720401155058,
          1720.7393993930102,
          1700.136381347167,
          1689.3568103059208,
          1679.4047891168711,
          1669.008176095998,
          1658.4170267273983,
          1647.7239454229073,
          1636.1263932837753,
          1626.1432570897748,
          1617.2324352245332,
          1607.9167810981712,
          1598.4393665859282,
          1589.7065424522364,
          1581.7336151776087,
          1573.1392206521805,
          1564.3360455965972,
          1556.2924067840177,
          1550.4757168787503,
          1549.7137661856939,
          1547.4168451734224,
          1548.7369531255704,
          1548.7424274034638,
          1547.4820881981948,
          1542.9122103231623,
          1532.525156623331,
          1523.9751931685103,
          1514.9498290004708,
          1508.216520856058,
          1503.3237939347187,
          1499.897485144399,
          1496.4752446174737,
          1494.3901034692428,
          1494.4711011549623,
          1494.7194277097149,
          1494.7194277097149,
          1494.7194277097149,
          1494.7194277097149,
          1494.7194277097149,
          1494.7194277097149,
          1493.595978492089,
          1489.7039017755478,
          1483.291557020748,
          1477.7957433911859,
          1471.4002267765773,
          1463.24843186639,
          1452.9661124341017,
          1440.29477650833,
          1426.8688957040924,
          1413.282547334518,
          1399.836889850485,
          1387.987326039908,
          1378.0182304927139,
          1364.2673784253577,
          1358.417235959632,
          1350.5397571940466,
          1342.4620866840826,
          1335.4561051283924,
          1330.6652541799515,
          1330.4357266036075,
          1331.3247406630935,
          1331.4223949908978,
          1331.4223949908978,
          1331.4223949908978,
          1331.4223949908978,
          1329.5692540554357,
          1325.6611132172657,
          1318.0410277296642,
          1305.576644240493,
          1293.703912348689,
          1275.6346916409948,
          1263.3380905687945,
          1252.076473396262,
          1242.8605239967658,
          1233.6013396187413,
          1222.770702983586,
          1210.2882014108689,
          1197.656370759493,
          1184.5170656976684,
          1167.4211015204169,
          1148.5367017355948,
          1127.975825598246,
          1108.1030005497566,
          1080.983587384122,
          1067.0664579221918,
          1059.2686127683764,
          1054.8215255582875,
          1051.0276441672536,
          1050.2112031615422,
          1051.0552135191515,
          1051.2971923356938,
          1051.2971923356938,
          1051.2971923356938,
          1051.2971923356938,
          1051.2971923356938,
          1051.2971923356938,
          1051.2971923356938,
          1051.2971923356938,
          1051.1077983574564,
          1044.7290452732148,
          1037.166939148785,
          1029.7120703306555,
          1024.2457666745934,
          1021.106538657532,
          1021.0789795735216,
          1021.6569068486561,
          1021.6569068486561,
          1021.6569068486561,
          1021.1837346945106,
          1019.0296331707141,
          1016.9074010085585,
          1010.9331383972876,
          1001.3039909829494,
          983.1240892685164,
          971.0944362362663,
          960.5101539804355,
          953.691173601537,
          951.8890924749984,
          952.7224760194496,
          952.9871704440338,
          952.496915779878,
          952.496915779878,
          952.496915779878,
          952.496915779878,
          952.496915779878,
          951.8824003480961,
          947.3696085645624,
          939.582040471805,
          926.8330396128458,
          909.8950810479705,
          881.011839868262,
          862.9011897308129,
          845.5437824569277,
          827.942351786636,
          812.2597535655228,
          795.9158036205883,
          780.422428467115,
          765.4319123718562,
          751.4152397112323,
          739.9762038706997,
          729.2934302915127,
          720.7158305037743,
          715.07299222643,
          711.4963099192471,
          711.1231988685026,
          711.0289508363543,
          711.0289508363543,
          710.9381946834759,
          708.570506206369,
          702.5395034113963,
          692.523998008542,
          682.1871761120115,
          672.0597795368814,
          658.876962194086,
          646.6595012259043,
          633.4212440525657,
          620.3201688041427,
          607.5103219749496,
          595.1082425787775,
          584.3372534435439,
          575.7066954254657,
          565.2414148561446,
          561.5453248153774,
          559.5567416020716,
          559.3630667992219,
          559.4033137294325,
          559.2364493847206,
          559.0734644394767,
          558.1455112831103,
          557.1208918289108,
          555.7291382320713,
          553.8690011041202,
          550.1454865296373,
          542.3124538207447,
          529.705081647087,
          514.5355961708345,
          499.28067667951143,
          484.7891057604682,
          464.55524916249817,
          455.0651033515638,
          449.6458507338019,
          445.9096083094956,
          443.1553983694948,
          439.5110549918491,
          435.43976193182465,
          434.1283519464254,
          434.7701217732392,
          436.4300157302525,
          436.859495901049,
          436.98826647503506,
          437.3136414489782,
          437.3031266573073,
          436.66084585670177,
          435.5451216100093,
          433.64864739309803,
          432.51050018473757,
          430.977217404532,
          430.2408951232112,
          430.29778242277797,
          429.49130762136434,
          428.2036763040451,
          424.5790225439773,
          416.9234787953478,
          406.7582420683821,
          394.24498546426673,
          379.9898955204785,
          361.8314205131971,
          341.9669324654719,
          321.7092916248542,
          292.83895371454724,
          276.4031326623336,
          262.89148533616424,
          251.5661109819779,
          242.190344101795,
          236.68461277239658,
          233.53753728227784,
          233.14927054268225,
          231.8927163862746,
          231.77493765164564,
          231.452215292254,
          230.63758384360636,
          230.37941372041163,
          227.49435368685718,
          221.71295320372482,
          211.72357185579457,
          199.7125925458501,
          186.68568048268244,
          161.60613772284552,
          141.09314852485954,
          120.9003288017274,
          100.73450670688514,
          83.09266672611155,
          53.56375862837096,
          37.91720408976856,
          23.147957351618242,
          12.623365377711982,
          5.200475833593006,
          2.8231212164628983,
          14.336420733369213,
          3.7074921266234933,
          3.7074921266234933,
          2.308936064823874,
          1.5305133573041685,
          6.091761663341992
         ]
        }
       ],
       "layout": {
        "height": 500,
        "margin": {
         "b": 0,
         "l": 0,
         "r": 0,
         "t": 0
        },
        "shapes": [
         {
          "line": {
           "color": "gold",
           "dash": "dashdot",
           "width": 2
          },
          "type": "line",
          "x0": "2020-03-09T10:57:11",
          "x1": "2020-03-09T10:57:11",
          "y0": 0,
          "y1": 2750
         },
         {
          "line": {
           "color": "gold",
           "dash": "dashdot",
           "width": 2
          },
          "type": "line",
          "x0": "2020-03-09T10:58:15",
          "x1": "2020-03-09T10:58:15",
          "y0": 0,
          "y1": 2750
         },
         {
          "line": {
           "color": "gold",
           "dash": "dashdot",
           "width": 2
          },
          "type": "line",
          "x0": "2020-03-09T10:59:33",
          "x1": "2020-03-09T10:59:33",
          "y0": 0,
          "y1": 2750
         },
         {
          "line": {
           "color": "gold",
           "dash": "dashdot",
           "width": 2
          },
          "type": "line",
          "x0": "2020-03-09T11:01:36",
          "x1": "2020-03-09T11:01:36",
          "y0": 0,
          "y1": 2750
         },
         {
          "line": {
           "color": "gold",
           "dash": "dashdot",
           "width": 2
          },
          "type": "line",
          "x0": "2020-03-09T11:02:29",
          "x1": "2020-03-09T11:02:29",
          "y0": 0,
          "y1": 2750
         },
         {
          "line": {
           "color": "gold",
           "dash": "dashdot",
           "width": 2
          },
          "type": "line",
          "x0": "2020-03-09T11:03:13",
          "x1": "2020-03-09T11:03:13",
          "y0": 0,
          "y1": 2750
         },
         {
          "line": {
           "color": "gold",
           "dash": "dashdot",
           "width": 2
          },
          "type": "line",
          "x0": "2020-03-09T11:03:57",
          "x1": "2020-03-09T11:03:57",
          "y0": 0,
          "y1": 2750
         },
         {
          "line": {
           "color": "gold",
           "dash": "dashdot",
           "width": 2
          },
          "type": "line",
          "x0": "2020-03-09T11:04:57",
          "x1": "2020-03-09T11:04:57",
          "y0": 0,
          "y1": 2750
         },
         {
          "line": {
           "color": "gold",
           "dash": "dashdot",
           "width": 2
          },
          "type": "line",
          "x0": "2020-03-09T11:05:44",
          "x1": "2020-03-09T11:05:44",
          "y0": 0,
          "y1": 2750
         }
        ],
        "template": {
         "data": {
          "bar": [
           {
            "error_x": {
             "color": "#2a3f5f"
            },
            "error_y": {
             "color": "#2a3f5f"
            },
            "marker": {
             "line": {
              "color": "white",
              "width": 0.5
             }
            },
            "type": "bar"
           }
          ],
          "barpolar": [
           {
            "marker": {
             "line": {
              "color": "white",
              "width": 0.5
             }
            },
            "type": "barpolar"
           }
          ],
          "carpet": [
           {
            "aaxis": {
             "endlinecolor": "#2a3f5f",
             "gridcolor": "#C8D4E3",
             "linecolor": "#C8D4E3",
             "minorgridcolor": "#C8D4E3",
             "startlinecolor": "#2a3f5f"
            },
            "baxis": {
             "endlinecolor": "#2a3f5f",
             "gridcolor": "#C8D4E3",
             "linecolor": "#C8D4E3",
             "minorgridcolor": "#C8D4E3",
             "startlinecolor": "#2a3f5f"
            },
            "type": "carpet"
           }
          ],
          "choropleth": [
           {
            "colorbar": {
             "outlinewidth": 0,
             "ticks": ""
            },
            "type": "choropleth"
           }
          ],
          "contour": [
           {
            "colorbar": {
             "outlinewidth": 0,
             "ticks": ""
            },
            "colorscale": [
             [
              0,
              "#0d0887"
             ],
             [
              0.1111111111111111,
              "#46039f"
             ],
             [
              0.2222222222222222,
              "#7201a8"
             ],
             [
              0.3333333333333333,
              "#9c179e"
             ],
             [
              0.4444444444444444,
              "#bd3786"
             ],
             [
              0.5555555555555556,
              "#d8576b"
             ],
             [
              0.6666666666666666,
              "#ed7953"
             ],
             [
              0.7777777777777778,
              "#fb9f3a"
             ],
             [
              0.8888888888888888,
              "#fdca26"
             ],
             [
              1,
              "#f0f921"
             ]
            ],
            "type": "contour"
           }
          ],
          "contourcarpet": [
           {
            "colorbar": {
             "outlinewidth": 0,
             "ticks": ""
            },
            "type": "contourcarpet"
           }
          ],
          "heatmap": [
           {
            "colorbar": {
             "outlinewidth": 0,
             "ticks": ""
            },
            "colorscale": [
             [
              0,
              "#0d0887"
             ],
             [
              0.1111111111111111,
              "#46039f"
             ],
             [
              0.2222222222222222,
              "#7201a8"
             ],
             [
              0.3333333333333333,
              "#9c179e"
             ],
             [
              0.4444444444444444,
              "#bd3786"
             ],
             [
              0.5555555555555556,
              "#d8576b"
             ],
             [
              0.6666666666666666,
              "#ed7953"
             ],
             [
              0.7777777777777778,
              "#fb9f3a"
             ],
             [
              0.8888888888888888,
              "#fdca26"
             ],
             [
              1,
              "#f0f921"
             ]
            ],
            "type": "heatmap"
           }
          ],
          "heatmapgl": [
           {
            "colorbar": {
             "outlinewidth": 0,
             "ticks": ""
            },
            "colorscale": [
             [
              0,
              "#0d0887"
             ],
             [
              0.1111111111111111,
              "#46039f"
             ],
             [
              0.2222222222222222,
              "#7201a8"
             ],
             [
              0.3333333333333333,
              "#9c179e"
             ],
             [
              0.4444444444444444,
              "#bd3786"
             ],
             [
              0.5555555555555556,
              "#d8576b"
             ],
             [
              0.6666666666666666,
              "#ed7953"
             ],
             [
              0.7777777777777778,
              "#fb9f3a"
             ],
             [
              0.8888888888888888,
              "#fdca26"
             ],
             [
              1,
              "#f0f921"
             ]
            ],
            "type": "heatmapgl"
           }
          ],
          "histogram": [
           {
            "marker": {
             "colorbar": {
              "outlinewidth": 0,
              "ticks": ""
             }
            },
            "type": "histogram"
           }
          ],
          "histogram2d": [
           {
            "colorbar": {
             "outlinewidth": 0,
             "ticks": ""
            },
            "colorscale": [
             [
              0,
              "#0d0887"
             ],
             [
              0.1111111111111111,
              "#46039f"
             ],
             [
              0.2222222222222222,
              "#7201a8"
             ],
             [
              0.3333333333333333,
              "#9c179e"
             ],
             [
              0.4444444444444444,
              "#bd3786"
             ],
             [
              0.5555555555555556,
              "#d8576b"
             ],
             [
              0.6666666666666666,
              "#ed7953"
             ],
             [
              0.7777777777777778,
              "#fb9f3a"
             ],
             [
              0.8888888888888888,
              "#fdca26"
             ],
             [
              1,
              "#f0f921"
             ]
            ],
            "type": "histogram2d"
           }
          ],
          "histogram2dcontour": [
           {
            "colorbar": {
             "outlinewidth": 0,
             "ticks": ""
            },
            "colorscale": [
             [
              0,
              "#0d0887"
             ],
             [
              0.1111111111111111,
              "#46039f"
             ],
             [
              0.2222222222222222,
              "#7201a8"
             ],
             [
              0.3333333333333333,
              "#9c179e"
             ],
             [
              0.4444444444444444,
              "#bd3786"
             ],
             [
              0.5555555555555556,
              "#d8576b"
             ],
             [
              0.6666666666666666,
              "#ed7953"
             ],
             [
              0.7777777777777778,
              "#fb9f3a"
             ],
             [
              0.8888888888888888,
              "#fdca26"
             ],
             [
              1,
              "#f0f921"
             ]
            ],
            "type": "histogram2dcontour"
           }
          ],
          "mesh3d": [
           {
            "colorbar": {
             "outlinewidth": 0,
             "ticks": ""
            },
            "type": "mesh3d"
           }
          ],
          "parcoords": [
           {
            "line": {
             "colorbar": {
              "outlinewidth": 0,
              "ticks": ""
             }
            },
            "type": "parcoords"
           }
          ],
          "pie": [
           {
            "automargin": true,
            "type": "pie"
           }
          ],
          "scatter": [
           {
            "marker": {
             "colorbar": {
              "outlinewidth": 0,
              "ticks": ""
             }
            },
            "type": "scatter"
           }
          ],
          "scatter3d": [
           {
            "line": {
             "colorbar": {
              "outlinewidth": 0,
              "ticks": ""
             }
            },
            "marker": {
             "colorbar": {
              "outlinewidth": 0,
              "ticks": ""
             }
            },
            "type": "scatter3d"
           }
          ],
          "scattercarpet": [
           {
            "marker": {
             "colorbar": {
              "outlinewidth": 0,
              "ticks": ""
             }
            },
            "type": "scattercarpet"
           }
          ],
          "scattergeo": [
           {
            "marker": {
             "colorbar": {
              "outlinewidth": 0,
              "ticks": ""
             }
            },
            "type": "scattergeo"
           }
          ],
          "scattergl": [
           {
            "marker": {
             "colorbar": {
              "outlinewidth": 0,
              "ticks": ""
             }
            },
            "type": "scattergl"
           }
          ],
          "scattermapbox": [
           {
            "marker": {
             "colorbar": {
              "outlinewidth": 0,
              "ticks": ""
             }
            },
            "type": "scattermapbox"
           }
          ],
          "scatterpolar": [
           {
            "marker": {
             "colorbar": {
              "outlinewidth": 0,
              "ticks": ""
             }
            },
            "type": "scatterpolar"
           }
          ],
          "scatterpolargl": [
           {
            "marker": {
             "colorbar": {
              "outlinewidth": 0,
              "ticks": ""
             }
            },
            "type": "scatterpolargl"
           }
          ],
          "scatterternary": [
           {
            "marker": {
             "colorbar": {
              "outlinewidth": 0,
              "ticks": ""
             }
            },
            "type": "scatterternary"
           }
          ],
          "surface": [
           {
            "colorbar": {
             "outlinewidth": 0,
             "ticks": ""
            },
            "colorscale": [
             [
              0,
              "#0d0887"
             ],
             [
              0.1111111111111111,
              "#46039f"
             ],
             [
              0.2222222222222222,
              "#7201a8"
             ],
             [
              0.3333333333333333,
              "#9c179e"
             ],
             [
              0.4444444444444444,
              "#bd3786"
             ],
             [
              0.5555555555555556,
              "#d8576b"
             ],
             [
              0.6666666666666666,
              "#ed7953"
             ],
             [
              0.7777777777777778,
              "#fb9f3a"
             ],
             [
              0.8888888888888888,
              "#fdca26"
             ],
             [
              1,
              "#f0f921"
             ]
            ],
            "type": "surface"
           }
          ],
          "table": [
           {
            "cells": {
             "fill": {
              "color": "#EBF0F8"
             },
             "line": {
              "color": "white"
             }
            },
            "header": {
             "fill": {
              "color": "#C8D4E3"
             },
             "line": {
              "color": "white"
             }
            },
            "type": "table"
           }
          ]
         },
         "layout": {
          "annotationdefaults": {
           "arrowcolor": "#2a3f5f",
           "arrowhead": 0,
           "arrowwidth": 1
          },
          "coloraxis": {
           "colorbar": {
            "outlinewidth": 0,
            "ticks": ""
           }
          },
          "colorscale": {
           "diverging": [
            [
             0,
             "#8e0152"
            ],
            [
             0.1,
             "#c51b7d"
            ],
            [
             0.2,
             "#de77ae"
            ],
            [
             0.3,
             "#f1b6da"
            ],
            [
             0.4,
             "#fde0ef"
            ],
            [
             0.5,
             "#f7f7f7"
            ],
            [
             0.6,
             "#e6f5d0"
            ],
            [
             0.7,
             "#b8e186"
            ],
            [
             0.8,
             "#7fbc41"
            ],
            [
             0.9,
             "#4d9221"
            ],
            [
             1,
             "#276419"
            ]
           ],
           "sequential": [
            [
             0,
             "#0d0887"
            ],
            [
             0.1111111111111111,
             "#46039f"
            ],
            [
             0.2222222222222222,
             "#7201a8"
            ],
            [
             0.3333333333333333,
             "#9c179e"
            ],
            [
             0.4444444444444444,
             "#bd3786"
            ],
            [
             0.5555555555555556,
             "#d8576b"
            ],
            [
             0.6666666666666666,
             "#ed7953"
            ],
            [
             0.7777777777777778,
             "#fb9f3a"
            ],
            [
             0.8888888888888888,
             "#fdca26"
            ],
            [
             1,
             "#f0f921"
            ]
           ],
           "sequentialminus": [
            [
             0,
             "#0d0887"
            ],
            [
             0.1111111111111111,
             "#46039f"
            ],
            [
             0.2222222222222222,
             "#7201a8"
            ],
            [
             0.3333333333333333,
             "#9c179e"
            ],
            [
             0.4444444444444444,
             "#bd3786"
            ],
            [
             0.5555555555555556,
             "#d8576b"
            ],
            [
             0.6666666666666666,
             "#ed7953"
            ],
            [
             0.7777777777777778,
             "#fb9f3a"
            ],
            [
             0.8888888888888888,
             "#fdca26"
            ],
            [
             1,
             "#f0f921"
            ]
           ]
          },
          "colorway": [
           "#636efa",
           "#EF553B",
           "#00cc96",
           "#ab63fa",
           "#FFA15A",
           "#19d3f3",
           "#FF6692",
           "#B6E880",
           "#FF97FF",
           "#FECB52"
          ],
          "font": {
           "color": "#2a3f5f"
          },
          "geo": {
           "bgcolor": "white",
           "lakecolor": "white",
           "landcolor": "white",
           "showlakes": true,
           "showland": true,
           "subunitcolor": "#C8D4E3"
          },
          "hoverlabel": {
           "align": "left"
          },
          "hovermode": "closest",
          "mapbox": {
           "style": "light"
          },
          "paper_bgcolor": "white",
          "plot_bgcolor": "white",
          "polar": {
           "angularaxis": {
            "gridcolor": "#EBF0F8",
            "linecolor": "#EBF0F8",
            "ticks": ""
           },
           "bgcolor": "white",
           "radialaxis": {
            "gridcolor": "#EBF0F8",
            "linecolor": "#EBF0F8",
            "ticks": ""
           }
          },
          "scene": {
           "xaxis": {
            "backgroundcolor": "white",
            "gridcolor": "#DFE8F3",
            "gridwidth": 2,
            "linecolor": "#EBF0F8",
            "showbackground": true,
            "ticks": "",
            "zerolinecolor": "#EBF0F8"
           },
           "yaxis": {
            "backgroundcolor": "white",
            "gridcolor": "#DFE8F3",
            "gridwidth": 2,
            "linecolor": "#EBF0F8",
            "showbackground": true,
            "ticks": "",
            "zerolinecolor": "#EBF0F8"
           },
           "zaxis": {
            "backgroundcolor": "white",
            "gridcolor": "#DFE8F3",
            "gridwidth": 2,
            "linecolor": "#EBF0F8",
            "showbackground": true,
            "ticks": "",
            "zerolinecolor": "#EBF0F8"
           }
          },
          "shapedefaults": {
           "line": {
            "color": "#2a3f5f"
           }
          },
          "ternary": {
           "aaxis": {
            "gridcolor": "#DFE8F3",
            "linecolor": "#A2B1C6",
            "ticks": ""
           },
           "baxis": {
            "gridcolor": "#DFE8F3",
            "linecolor": "#A2B1C6",
            "ticks": ""
           },
           "bgcolor": "white",
           "caxis": {
            "gridcolor": "#DFE8F3",
            "linecolor": "#A2B1C6",
            "ticks": ""
           }
          },
          "title": {
           "x": 0.05
          },
          "xaxis": {
           "automargin": true,
           "gridcolor": "#EBF0F8",
           "linecolor": "#EBF0F8",
           "ticks": "",
           "title": {
            "standoff": 15
           },
           "zerolinecolor": "#EBF0F8",
           "zerolinewidth": 2
          },
          "yaxis": {
           "automargin": true,
           "gridcolor": "#EBF0F8",
           "linecolor": "#EBF0F8",
           "ticks": "",
           "title": {
            "standoff": 15
           },
           "zerolinecolor": "#EBF0F8",
           "zerolinewidth": 2
          }
         }
        },
        "xaxis": {
         "title": {
          "text": "Time"
         }
        }
       }
      },
      "text/html": [
       "<div>\n",
       "        \n",
       "        \n",
       "            <div id=\"d7598574-321c-4040-bc42-3d5b1f8db3dc\" class=\"plotly-graph-div\" style=\"height:500px; width:100%;\"></div>\n",
       "            <script type=\"text/javascript\">\n",
       "                require([\"plotly\"], function(Plotly) {\n",
       "                    window.PLOTLYENV=window.PLOTLYENV || {};\n",
       "                    \n",
       "                if (document.getElementById(\"d7598574-321c-4040-bc42-3d5b1f8db3dc\")) {\n",
       "                    Plotly.newPlot(\n",
       "                        'd7598574-321c-4040-bc42-3d5b1f8db3dc',\n",
       "                        [{\"line\": {\"width\": 2}, \"mode\": \"lines\", \"name\": \"HF - Error in calculated coords\", \"type\": \"scatter\", \"x\": [\"2020-03-09T10:55:04.581986\", \"2020-03-09T10:55:09.645939\", \"2020-03-09T10:55:14.528373\", \"2020-03-09T10:55:19.624826\", \"2020-03-09T10:55:24.663989\", \"2020-03-09T10:55:29.678838\", \"2020-03-09T10:55:39.630131\", \"2020-03-09T10:55:44.640056\", \"2020-03-09T10:55:49.608299\", \"2020-03-09T10:55:54.605894\", \"2020-03-09T10:55:59.671630\", \"2020-03-09T10:56:04.583111\", \"2020-03-09T10:56:09.678437\", \"2020-03-09T10:56:14.718315\", \"2020-03-09T10:56:19.700122\", \"2020-03-09T10:56:24.634359\", \"2020-03-09T10:56:29.661099\", \"2020-03-09T10:56:34.669263\", \"2020-03-09T10:56:39.635770\", \"2020-03-09T10:56:44.629955\", \"2020-03-09T10:56:49.644746\", \"2020-03-09T10:56:54.642380\", \"2020-03-09T10:56:59.545956\", \"2020-03-09T10:57:04.681473\", \"2020-03-09T10:57:09.654995\", \"2020-03-09T10:57:14.614329\", \"2020-03-09T10:57:19.637066\", \"2020-03-09T10:57:24.670922\", \"2020-03-09T10:57:29.699214\", \"2020-03-09T10:57:34.647807\", \"2020-03-09T10:57:39.689541\", \"2020-03-09T10:57:44.595839\", \"2020-03-09T10:57:49.672161\", \"2020-03-09T10:57:54.664379\", \"2020-03-09T10:57:59.594332\", \"2020-03-09T10:58:04.707632\", \"2020-03-09T10:58:09.614195\", \"2020-03-09T10:58:14.588809\", \"2020-03-09T10:58:19.681629\", \"2020-03-09T10:58:24.649182\", \"2020-03-09T10:58:29.550912\", \"2020-03-09T10:58:34.687585\", \"2020-03-09T10:58:39.564990\", \"2020-03-09T10:58:44.526963\", \"2020-03-09T10:58:49.684971\", \"2020-03-09T10:58:54.558857\", \"2020-03-09T10:58:59.549023\", \"2020-03-09T10:59:04.613360\", \"2020-03-09T10:59:09.710614\", \"2020-03-09T10:59:14.645098\", \"2020-03-09T10:59:19.653849\", \"2020-03-09T10:59:24.700294\", \"2020-03-09T10:59:29.640677\", \"2020-03-09T10:59:34.678694\", \"2020-03-09T10:59:39.585706\", \"2020-03-09T10:59:44.673439\", \"2020-03-09T10:59:49.670600\", \"2020-03-09T10:59:54.685309\", \"2020-03-09T10:59:59.669000\", \"2020-03-09T11:00:04.631372\", \"2020-03-09T11:00:09.641897\", \"2020-03-09T11:00:14.706630\", \"2020-03-09T11:00:19.622114\", \"2020-03-09T11:00:24.628543\", \"2020-03-09T11:00:29.709759\", \"2020-03-09T11:00:34.690219\", \"2020-03-09T11:00:39.674111\", \"2020-03-09T11:00:44.646127\", \"2020-03-09T11:00:49.687179\", \"2020-03-09T11:00:54.597359\", \"2020-03-09T11:00:59.640065\", \"2020-03-09T11:01:04.694809\", \"2020-03-09T11:01:09.678989\", \"2020-03-09T11:01:14.603689\", \"2020-03-09T11:01:19.726386\", \"2020-03-09T11:01:24.616598\", \"2020-03-09T11:01:29.558828\", \"2020-03-09T11:01:34.689234\", \"2020-03-09T11:01:39.646076\", \"2020-03-09T11:01:44.654307\", \"2020-03-09T11:01:49.665018\", \"2020-03-09T11:01:54.701941\", \"2020-03-09T11:01:59.651911\", \"2020-03-09T11:02:04.714779\", \"2020-03-09T11:02:09.704366\", \"2020-03-09T11:02:14.682696\", \"2020-03-09T11:02:19.635148\", \"2020-03-09T11:02:24.702497\", \"2020-03-09T11:02:29.685350\", \"2020-03-09T11:02:34.707141\", \"2020-03-09T11:02:39.551544\", \"2020-03-09T11:02:44.691275\", \"2020-03-09T11:02:49.551238\", \"2020-03-09T11:02:54.709869\", \"2020-03-09T11:02:59.665358\", \"2020-03-09T11:03:04.715127\", \"2020-03-09T11:03:09.575124\", \"2020-03-09T11:03:14.636259\", \"2020-03-09T11:03:19.687612\", \"2020-03-09T11:03:24.724851\", \"2020-03-09T11:03:29.642752\", \"2020-03-09T11:03:34.790027\", \"2020-03-09T11:03:39.680936\", \"2020-03-09T11:03:44.746225\", \"2020-03-09T11:03:49.695415\", \"2020-03-09T11:03:54.698358\", \"2020-03-09T11:03:59.707909\", \"2020-03-09T11:04:04.722515\", \"2020-03-09T11:04:09.675955\", \"2020-03-09T11:04:14.683001\", \"2020-03-09T11:04:19.702923\", \"2020-03-09T11:04:24.639789\", \"2020-03-09T11:04:29.643860\", \"2020-03-09T11:04:34.760266\", \"2020-03-09T11:04:39.664993\", \"2020-03-09T11:04:44.676430\", \"2020-03-09T11:04:49.667881\", \"2020-03-09T11:04:54.684491\", \"2020-03-09T11:04:59.700439\", \"2020-03-09T11:05:04.723882\", \"2020-03-09T11:05:09.690988\", \"2020-03-09T11:05:14.699917\", \"2020-03-09T11:05:19.680458\", \"2020-03-09T11:05:24.733451\", \"2020-03-09T11:05:29.625495\", \"2020-03-09T11:05:34.678226\", \"2020-03-09T11:05:39.713333\", \"2020-03-09T11:05:44.702056\"], \"y\": [219.2929096495409, 210.27332084572063, 230.93461484486787, 244.76761090745592, 270.1025050755272, 51.4753310114795, 72.98472822691251, 125.56152737626485, 121.16124660955485, 120.33008911166542, 195.10353646286447, 194.6253155161601, 216.11540699655936, 230.17031871258024, 114.7069386482907, 101.40017018330842, 96.52256789912163, 169.62016780501227, 172.8675348981594, 133.24426660823954, 37.15302872577325, 73.44230057400021, 29.958789000452256, 29.955871322534655, 25.28575702329918, 52.73769800521432, 50.031127742496714, 35.83421243618267, 13.070596151808616, 121.18442383700987, 99.95799123694255, 61.79550266522295, 51.0699207508552, 66.33570474437107, 47.26051289105071, 101.31299399501837, 97.15045084238767, 118.55927699392234, 117.59962909141552, 96.22918908021155, 174.82362666700834, 167.74368261697802, 52.272727377810234, 68.66102616429121, 68.66102616429121, 153.98750158171396, 136.8079562308153, 99.6603580071015, 87.79267894657154, 102.79164417945039, 86.15281545760949, 189.58872704344256, 178.52478137867368, 178.79173657651745, 202.15682295680094, 232.59685718649, 204.2026335149355, 164.34890512823705, 75.41011640064228, 19.259808840713088, 35.08455139527837, 60.61797774746544, 98.65967539892732, 79.1356522578095, 69.67532317415922, 14.143753896395511, 14.143753896395511, 42.71235077724173, 69.47717738095974, 72.15633385523782, 64.59668288393486, 59.26059482803081, 85.90028776888542, 102.6126794440458, 88.60477369619541, 152.8764741551581, 84.29186204048759, 61.644285624334316, 38.31163088223596, 15.112662807771114, 25.344073069686704, 19.028540407252013, 35.30102115407267, 19.540658459683307, 25.245754516255193, 62.57211654420931, 53.51512537804255, 23.68894794392682, 46.27626793685502, 76.3075614835562, 82.70117108325684, 61.2020698577051, 23.73398179431788, 66.80359455671532, 23.848525360102084, 22.898756241667353, 24.292032785176943, 23.762320250868406, 46.60280660820276, 42.00039081684384, 46.745990540380454, 22.63245333340109, 25.928803413432618, 31.354743512843513, 31.409076503771054, 116.13834367537547, 115.83928863433678, 116.10691926270215, 112.0447902150752, 125.42427796285988, 120.25363677989375, 121.47629832873906, 166.16337631468002, 129.68270945032967, 13.874956283138149, 35.46905549255962, 13.001068375091052, 24.158076704481662, 64.28582226030983, 63.17570101883185, 93.67393580393758, 115.724924438404, 70.13095692822577, 12.287549102436707, 33.059930717039016, 66.36087084438196, 23.585182734670717, 10.75063960590128]}, {\"line\": {\"width\": 2}, \"mode\": \"lines\", \"name\": \"Orig - Error in calculated coords\", \"type\": \"scatter\", \"x\": [\"2020-03-09T10:56:36.842317\", \"2020-03-09T10:57:31.573753\", \"2020-03-09T10:58:26.429938\", \"2020-03-09T10:59:21.567477\", \"2020-03-09T11:00:16.775696\", \"2020-03-09T11:01:11.693360\", \"2020-03-09T11:02:07.072449\", \"2020-03-09T11:03:01.726808\", \"2020-03-09T11:03:56.866652\", \"2020-03-09T11:04:51.813575\", \"2020-03-09T11:05:46.442907\"], \"y\": [219.2929096495409, 203.03147596975793, 158.27824656248956, 185.0686122042348, 122.96286170110186, 118.37772318430346, 156.34595618921296, 287.9993534278263, 194.89499572912743, 178.67450363970818, 129.47968550093572]}, {\"line\": {\"width\": 2}, \"mode\": \"lines\", \"name\": \"HF - Distance to stop given by the API \", \"type\": \"scatter\", \"x\": [\"2020-03-09T10:55:04.581986\", \"2020-03-09T10:55:09.645939\", \"2020-03-09T10:55:14.528373\", \"2020-03-09T10:55:19.624826\", \"2020-03-09T10:55:24.663989\", \"2020-03-09T10:55:29.678838\", \"2020-03-09T10:55:39.630131\", \"2020-03-09T10:55:44.640056\", \"2020-03-09T10:55:49.608299\", \"2020-03-09T10:55:54.605894\", \"2020-03-09T10:55:59.671630\", \"2020-03-09T10:56:04.583111\", \"2020-03-09T10:56:09.678437\", \"2020-03-09T10:56:14.718315\", \"2020-03-09T10:56:19.700122\", \"2020-03-09T10:56:24.634359\", \"2020-03-09T10:56:29.661099\", \"2020-03-09T10:56:34.669263\", \"2020-03-09T10:56:39.635770\", \"2020-03-09T10:56:44.629955\", \"2020-03-09T10:56:49.644746\", \"2020-03-09T10:56:54.642380\", \"2020-03-09T10:56:59.545956\", \"2020-03-09T10:57:04.681473\", \"2020-03-09T10:57:09.654995\", \"2020-03-09T10:57:14.614329\", \"2020-03-09T10:57:19.637066\", \"2020-03-09T10:57:24.670922\", \"2020-03-09T10:57:29.699214\", \"2020-03-09T10:57:34.647807\", \"2020-03-09T10:57:39.689541\", \"2020-03-09T10:57:44.595839\", \"2020-03-09T10:57:49.672161\", \"2020-03-09T10:57:54.664379\", \"2020-03-09T10:57:59.594332\", \"2020-03-09T10:58:04.707632\", \"2020-03-09T10:58:09.614195\", \"2020-03-09T10:58:14.588809\", \"2020-03-09T10:58:19.681629\", \"2020-03-09T10:58:24.649182\", \"2020-03-09T10:58:29.550912\", \"2020-03-09T10:58:34.687585\", \"2020-03-09T10:58:39.564990\", \"2020-03-09T10:58:44.526963\", \"2020-03-09T10:58:49.684971\", \"2020-03-09T10:58:54.558857\", \"2020-03-09T10:58:59.549023\", \"2020-03-09T10:59:04.613360\", \"2020-03-09T10:59:09.710614\", \"2020-03-09T10:59:14.645098\", \"2020-03-09T10:59:19.653849\", \"2020-03-09T10:59:24.700294\", \"2020-03-09T10:59:29.640677\", \"2020-03-09T10:59:34.678694\", \"2020-03-09T10:59:39.585706\", \"2020-03-09T10:59:44.673439\", \"2020-03-09T10:59:49.670600\", \"2020-03-09T10:59:54.685309\", \"2020-03-09T10:59:59.669000\", \"2020-03-09T11:00:04.631372\", \"2020-03-09T11:00:09.641897\", \"2020-03-09T11:00:14.706630\", \"2020-03-09T11:00:19.622114\", \"2020-03-09T11:00:24.628543\", \"2020-03-09T11:00:29.709759\", \"2020-03-09T11:00:34.690219\", \"2020-03-09T11:00:39.674111\", \"2020-03-09T11:00:44.646127\", \"2020-03-09T11:00:49.687179\", \"2020-03-09T11:00:54.597359\", \"2020-03-09T11:00:59.640065\", \"2020-03-09T11:01:04.694809\", \"2020-03-09T11:01:09.678989\", \"2020-03-09T11:01:14.603689\", \"2020-03-09T11:01:19.726386\", \"2020-03-09T11:01:24.616598\", \"2020-03-09T11:01:29.558828\", \"2020-03-09T11:01:34.689234\", \"2020-03-09T11:01:39.646076\", \"2020-03-09T11:01:44.654307\", \"2020-03-09T11:01:49.665018\", \"2020-03-09T11:01:54.701941\", \"2020-03-09T11:01:59.651911\", \"2020-03-09T11:02:04.714779\", \"2020-03-09T11:02:09.704366\", \"2020-03-09T11:02:14.682696\", \"2020-03-09T11:02:19.635148\", \"2020-03-09T11:02:24.702497\", \"2020-03-09T11:02:29.685350\", \"2020-03-09T11:02:34.707141\", \"2020-03-09T11:02:39.551544\", \"2020-03-09T11:02:44.691275\", \"2020-03-09T11:02:49.551238\", \"2020-03-09T11:02:54.709869\", \"2020-03-09T11:02:59.665358\", \"2020-03-09T11:03:04.715127\", \"2020-03-09T11:03:09.575124\", \"2020-03-09T11:03:14.636259\", \"2020-03-09T11:03:19.687612\", \"2020-03-09T11:03:24.724851\", \"2020-03-09T11:03:29.642752\", \"2020-03-09T11:03:34.790027\", \"2020-03-09T11:03:39.680936\", \"2020-03-09T11:03:44.746225\", \"2020-03-09T11:03:49.695415\", \"2020-03-09T11:03:54.698358\", \"2020-03-09T11:03:59.707909\", \"2020-03-09T11:04:04.722515\", \"2020-03-09T11:04:09.675955\", \"2020-03-09T11:04:14.683001\", \"2020-03-09T11:04:19.702923\", \"2020-03-09T11:04:24.639789\", \"2020-03-09T11:04:29.643860\", \"2020-03-09T11:04:34.760266\", \"2020-03-09T11:04:39.664993\", \"2020-03-09T11:04:44.676430\", \"2020-03-09T11:04:49.667881\", \"2020-03-09T11:04:54.684491\", \"2020-03-09T11:04:59.700439\", \"2020-03-09T11:05:04.723882\", \"2020-03-09T11:05:09.690988\", \"2020-03-09T11:05:14.699917\", \"2020-03-09T11:05:19.680458\", \"2020-03-09T11:05:24.733451\", \"2020-03-09T11:05:29.625495\", \"2020-03-09T11:05:34.678226\", \"2020-03-09T11:05:39.713333\", \"2020-03-09T11:05:44.702056\"], \"y\": [2470, 2447, 2423, 2400, 2377, 2608, 2558, 2533, 2508, 2482, 2457, 2432, 2407, 2382, 2534, 2506, 2478, 2450, 2422, 2394, 2512, 2484, 2456, 2428, 2400, 2372, 2344, 2316, 2288, 2260, 2232, 2204, 2176, 2148, 2120, 2092, 2064, 2036, 2008, 1980, 1952, 1924, 2035, 2005, 1974, 1944, 1913, 1883, 1852, 1822, 1791, 1761, 1731, 1700, 1670, 1639, 1609, 1578, 1773, 1741, 1710, 1678, 1647, 1615, 1584, 1552, 1521, 1489, 1458, 1426, 1394, 1363, 1331, 1300, 1268, 1237, 1412, 1379, 1347, 1314, 1281, 1248, 1215, 1182, 1150, 1117, 1084, 1051, 960, 930, 901, 871, 842, 813, 783, 754, 724, 695, 666, 636, 607, 577, 548, 518, 489, 460, 430, 401, 371, 342, 312, 283, 254, 224, 302, 273, 243, 214, 184, 154, 125, 95, 66, 102, 72, 42, 12, 0]}, {\"line\": {\"width\": 2}, \"mode\": \"lines\", \"name\": \"Orig - Distance to stop given by the API \", \"type\": \"scatter\", \"x\": [\"2020-03-09T10:56:36.842317\", \"2020-03-09T10:57:31.573753\", \"2020-03-09T10:58:26.429938\", \"2020-03-09T10:59:21.567477\", \"2020-03-09T11:00:16.775696\", \"2020-03-09T11:01:11.693360\", \"2020-03-09T11:02:07.072449\", \"2020-03-09T11:03:01.726808\", \"2020-03-09T11:03:56.866652\", \"2020-03-09T11:04:51.813575\", \"2020-03-09T11:05:46.442907\"], \"y\": [2439, 2277, 1969, 1779, 1666, 1319, 1163, 771, 448, 231, 0]}, {\"line\": {\"width\": 2}, \"mode\": \"lines\", \"name\": \"Real distance to stop on line\", \"type\": \"scatter\", \"x\": [\"2020-03-09T10:55:02.470000\", \"2020-03-09T10:55:04\", \"2020-03-09T10:55:06\", \"2020-03-09T10:55:08\", \"2020-03-09T10:55:10\", \"2020-03-09T10:55:12\", \"2020-03-09T10:55:14\", \"2020-03-09T10:55:16\", \"2020-03-09T10:55:18\", \"2020-03-09T10:55:20\", \"2020-03-09T10:55:22\", \"2020-03-09T10:55:24\", \"2020-03-09T10:55:26\", \"2020-03-09T10:55:28\", \"2020-03-09T10:55:29\", \"2020-03-09T10:55:38\", \"2020-03-09T10:55:40\", \"2020-03-09T10:55:42\", \"2020-03-09T10:55:45\", \"2020-03-09T10:55:47\", \"2020-03-09T10:55:49\", \"2020-03-09T10:55:51\", \"2020-03-09T10:55:53\", \"2020-03-09T10:55:55\", \"2020-03-09T10:55:57\", \"2020-03-09T10:55:59\", \"2020-03-09T10:56:01\", \"2020-03-09T10:56:03\", \"2020-03-09T10:56:05\", \"2020-03-09T10:56:07\", \"2020-03-09T10:56:09\", \"2020-03-09T10:56:11\", \"2020-03-09T10:56:13\", \"2020-03-09T10:56:15\", \"2020-03-09T10:56:18\", \"2020-03-09T10:56:20\", \"2020-03-09T10:56:22\", \"2020-03-09T10:56:24\", \"2020-03-09T10:56:26\", \"2020-03-09T10:56:28\", \"2020-03-09T10:56:30\", \"2020-03-09T10:56:32\", \"2020-03-09T10:56:34\", \"2020-03-09T10:56:36\", \"2020-03-09T10:56:38\", \"2020-03-09T10:56:40\", \"2020-03-09T10:56:42\", \"2020-03-09T10:56:44\", \"2020-03-09T10:56:46\", \"2020-03-09T10:56:48\", \"2020-03-09T10:56:50\", \"2020-03-09T10:56:52\", \"2020-03-09T10:56:54\", \"2020-03-09T10:56:57\", \"2020-03-09T10:56:59\", \"2020-03-09T10:57:01\", \"2020-03-09T10:57:03\", \"2020-03-09T10:57:05\", \"2020-03-09T10:57:07\", \"2020-03-09T10:57:09\", \"2020-03-09T10:57:11\", \"2020-03-09T10:57:13\", \"2020-03-09T10:57:15\", \"2020-03-09T10:57:17\", \"2020-03-09T10:57:19\", \"2020-03-09T10:57:21\", \"2020-03-09T10:57:23\", \"2020-03-09T10:57:25\", \"2020-03-09T10:57:27\", \"2020-03-09T10:57:29\", \"2020-03-09T10:57:32\", \"2020-03-09T10:57:34\", \"2020-03-09T10:57:36\", \"2020-03-09T10:57:38\", \"2020-03-09T10:57:40\", \"2020-03-09T10:57:42\", \"2020-03-09T10:57:44\", \"2020-03-09T10:57:46\", \"2020-03-09T10:57:48\", \"2020-03-09T10:57:50\", \"2020-03-09T10:57:52\", \"2020-03-09T10:57:54\", \"2020-03-09T10:57:56\", \"2020-03-09T10:57:58\", \"2020-03-09T10:58:00\", \"2020-03-09T10:58:02\", \"2020-03-09T10:58:04\", \"2020-03-09T10:58:06\", \"2020-03-09T10:58:08\", \"2020-03-09T10:58:11\", \"2020-03-09T10:58:13\", \"2020-03-09T10:58:15\", \"2020-03-09T10:58:17\", \"2020-03-09T10:58:19\", \"2020-03-09T10:58:21\", \"2020-03-09T10:58:23\", \"2020-03-09T10:58:25\", \"2020-03-09T10:58:27\", \"2020-03-09T10:58:29\", \"2020-03-09T10:58:31\", \"2020-03-09T10:58:33\", \"2020-03-09T10:58:35\", \"2020-03-09T10:58:37\", \"2020-03-09T10:58:39\", \"2020-03-09T10:58:41\", \"2020-03-09T10:58:44\", \"2020-03-09T10:58:46\", \"2020-03-09T10:58:48\", \"2020-03-09T10:58:50\", \"2020-03-09T10:58:52\", \"2020-03-09T10:58:54\", \"2020-03-09T10:58:56\", \"2020-03-09T10:58:58\", \"2020-03-09T10:59:00\", \"2020-03-09T10:59:02\", \"2020-03-09T10:59:04\", \"2020-03-09T10:59:06\", \"2020-03-09T10:59:08\", \"2020-03-09T10:59:10\", \"2020-03-09T10:59:12\", \"2020-03-09T10:59:14\", \"2020-03-09T10:59:17\", \"2020-03-09T10:59:19\", \"2020-03-09T10:59:21\", \"2020-03-09T10:59:23\", \"2020-03-09T10:59:25\", \"2020-03-09T10:59:27\", \"2020-03-09T10:59:29\", \"2020-03-09T10:59:31\", \"2020-03-09T10:59:33\", \"2020-03-09T10:59:35\", \"2020-03-09T10:59:37\", \"2020-03-09T10:59:39\", \"2020-03-09T10:59:41\", \"2020-03-09T10:59:43\", \"2020-03-09T10:59:45\", \"2020-03-09T10:59:47\", \"2020-03-09T10:59:49\", \"2020-03-09T10:59:52\", \"2020-03-09T10:59:54\", \"2020-03-09T10:59:56\", \"2020-03-09T10:59:58\", \"2020-03-09T11:00:00\", \"2020-03-09T11:00:02\", \"2020-03-09T11:00:04\", \"2020-03-09T11:00:06\", \"2020-03-09T11:00:08\", \"2020-03-09T11:00:10\", \"2020-03-09T11:00:12\", \"2020-03-09T11:00:14\", \"2020-03-09T11:00:16\", \"2020-03-09T11:00:19\", \"2020-03-09T11:00:21\", \"2020-03-09T11:00:23\", \"2020-03-09T11:00:25\", \"2020-03-09T11:00:27\", \"2020-03-09T11:00:29\", \"2020-03-09T11:00:31\", \"2020-03-09T11:00:33\", \"2020-03-09T11:00:35\", \"2020-03-09T11:00:37\", \"2020-03-09T11:00:39\", \"2020-03-09T11:00:41\", \"2020-03-09T11:00:43\", \"2020-03-09T11:00:45\", \"2020-03-09T11:00:47\", \"2020-03-09T11:00:49\", \"2020-03-09T11:00:52\", \"2020-03-09T11:00:54\", \"2020-03-09T11:00:56\", \"2020-03-09T11:00:58\", \"2020-03-09T11:01:00\", \"2020-03-09T11:01:02\", \"2020-03-09T11:01:04\", \"2020-03-09T11:01:06\", \"2020-03-09T11:01:08\", \"2020-03-09T11:01:10\", \"2020-03-09T11:01:12\", \"2020-03-09T11:01:14\", \"2020-03-09T11:01:16\", \"2020-03-09T11:01:18\", \"2020-03-09T11:01:21\", \"2020-03-09T11:01:23\", \"2020-03-09T11:01:25\", \"2020-03-09T11:01:27\", \"2020-03-09T11:01:29\", \"2020-03-09T11:01:31\", \"2020-03-09T11:01:33\", \"2020-03-09T11:01:35\", \"2020-03-09T11:01:37\", \"2020-03-09T11:01:39\", \"2020-03-09T11:01:41\", \"2020-03-09T11:01:43\", \"2020-03-09T11:01:45\", \"2020-03-09T11:01:47\", \"2020-03-09T11:01:49\", \"2020-03-09T11:01:51\", \"2020-03-09T11:01:53\", \"2020-03-09T11:01:56\", \"2020-03-09T11:01:58\", \"2020-03-09T11:02:00\", \"2020-03-09T11:02:02\", \"2020-03-09T11:02:04\", \"2020-03-09T11:02:06\", \"2020-03-09T11:02:08\", \"2020-03-09T11:02:10\", \"2020-03-09T11:02:12\", \"2020-03-09T11:02:14\", \"2020-03-09T11:02:16\", \"2020-03-09T11:02:18\", \"2020-03-09T11:02:20\", \"2020-03-09T11:02:22\", \"2020-03-09T11:02:24\", \"2020-03-09T11:02:27\", \"2020-03-09T11:02:29\", \"2020-03-09T11:02:31\", \"2020-03-09T11:02:33\", \"2020-03-09T11:02:35\", \"2020-03-09T11:02:37\", \"2020-03-09T11:02:39\", \"2020-03-09T11:02:41\", \"2020-03-09T11:02:43\", \"2020-03-09T11:02:45\", \"2020-03-09T11:02:47\", \"2020-03-09T11:02:49\", \"2020-03-09T11:02:51\", \"2020-03-09T11:02:53\", \"2020-03-09T11:02:55\", \"2020-03-09T11:02:57\", \"2020-03-09T11:03:00\", \"2020-03-09T11:03:02\", \"2020-03-09T11:03:04\", \"2020-03-09T11:03:06\", \"2020-03-09T11:03:08\", \"2020-03-09T11:03:10\", \"2020-03-09T11:03:12\", \"2020-03-09T11:03:14\", \"2020-03-09T11:03:16\", \"2020-03-09T11:03:18\", \"2020-03-09T11:03:20\", \"2020-03-09T11:03:22\", \"2020-03-09T11:03:24\", \"2020-03-09T11:03:26\", \"2020-03-09T11:03:28\", \"2020-03-09T11:03:30\", \"2020-03-09T11:03:32\", \"2020-03-09T11:03:35\", \"2020-03-09T11:03:37\", \"2020-03-09T11:03:39\", \"2020-03-09T11:03:41\", \"2020-03-09T11:03:43\", \"2020-03-09T11:03:45\", \"2020-03-09T11:03:47\", \"2020-03-09T11:03:49\", \"2020-03-09T11:03:51\", \"2020-03-09T11:03:53\", \"2020-03-09T11:03:55\", \"2020-03-09T11:03:57\", \"2020-03-09T11:03:59\", \"2020-03-09T11:04:01\", \"2020-03-09T11:04:03\", \"2020-03-09T11:04:05\", \"2020-03-09T11:04:08\", \"2020-03-09T11:04:10\", \"2020-03-09T11:04:12\", \"2020-03-09T11:04:14\", \"2020-03-09T11:04:16\", \"2020-03-09T11:04:18\", \"2020-03-09T11:04:20\", \"2020-03-09T11:04:22\", \"2020-03-09T11:04:24\", \"2020-03-09T11:04:26\", \"2020-03-09T11:04:28\", \"2020-03-09T11:04:30\", \"2020-03-09T11:04:32\", \"2020-03-09T11:04:34\", \"2020-03-09T11:04:36\", \"2020-03-09T11:04:39\", \"2020-03-09T11:04:41\", \"2020-03-09T11:04:43\", \"2020-03-09T11:04:45\", \"2020-03-09T11:04:47\", \"2020-03-09T11:04:49\", \"2020-03-09T11:04:51\", \"2020-03-09T11:04:53\", \"2020-03-09T11:04:55\", \"2020-03-09T11:04:57\", \"2020-03-09T11:04:59\", \"2020-03-09T11:05:01\", \"2020-03-09T11:05:03\", \"2020-03-09T11:05:05\", \"2020-03-09T11:05:07\", \"2020-03-09T11:05:09\", \"2020-03-09T11:05:11\", \"2020-03-09T11:05:13\", \"2020-03-09T11:05:16\", \"2020-03-09T11:05:18\", \"2020-03-09T11:05:20\", \"2020-03-09T11:05:22\", \"2020-03-09T11:05:24\", \"2020-03-09T11:05:26\", \"2020-03-09T11:05:28\", \"2020-03-09T11:05:30\", \"2020-03-09T11:05:32\", \"2020-03-09T11:05:34\", \"2020-03-09T11:05:36\", \"2020-03-09T11:05:38\", \"2020-03-09T11:05:40\", \"2020-03-09T11:05:42\", \"2020-03-09T11:05:44\", \"2020-03-09T11:05:46\", \"2020-03-09T11:05:49\"], \"y\": [2638, 2638, 2638, 2638, 2638, 2638, 2638, 2638, 2638, 2638, 2638, 2638, 2638, 2638, 2638, 2638, 2638, 2638, 2638, 2614, 2614, 2614, 2614, 2614, 2614, 2614, 2614, 2614, 2614, 2614, 2614, 2614, 2614, 2614, 2614, 2614, 2614, 2614, 2614, 2614, 2614, 2614, 2614, 2582, 2582, 2582, 2582, 2515, 2515, 2515, 2515, 2439, 2439, 2439, 2413, 2413, 2413, 2413, 2413, 2413, 2413, 2413, 2413, 2413, 2413, 2413, 2396, 2396, 2396, 2368, 2368, 2368, 2368, 2368, 2368, 2208, 2208, 2208, 2208, 2208, 2208, 2208, 2193, 2193, 2193, 2145, 2145, 2145, 2145, 2145, 2145, 2145, 2145, 2145, 2145, 2049, 2049, 2049, 2049, 2049, 2049, 2049, 2049, 2049, 2049, 2049, 2049, 2049, 2049, 2049, 2049, 2049, 2049, 2028, 2028, 2010, 2010, 1908, 1908, 1908, 1908, 1908, 1908, 1892, 1892, 1892, 1892, 1892, 1892, 1892, 1892, 1892, 1892, 1892, 1838, 1838, 1838, 1825, 1825, 1825, 1701, 1701, 1701, 1701, 1701, 1670, 1662, 1662, 1620, 1601, 1601, 1535, 1535, 1535, 1535, 1535, 1535, 1535, 1535, 1535, 1535, 1535, 1535, 1535, 1535, 1535, 1535, 1535, 1535, 1493, 1493, 1493, 1493, 1493, 1493, 1493, 1493, 1493, 1477, 1477, 1477, 1366, 1366, 1324, 1324, 1324, 1324, 1324, 1324, 1324, 1324, 1324, 1324, 1324, 1324, 1324, 1292, 1292, 1292, 1196, 1196, 1196, 1172, 1141, 1127, 1086, 1086, 1086, 1019, 1019, 1019, 1019, 1019, 1019, 1019, 1019, 1019, 1019, 978, 978, 942, 942, 889, 889, 867, 867, 867, 719, 719, 719, 719, 719, 719, 719, 719, 719, 719, 688, 688, 688, 688, 675, 675, 660, 645, 613, 613, 582, 582, 551, 551, 551, 527, 527, 527, 551, 551, 551, 527, 527, 527, 527, 502, 502, 502, 420, 420, 420, 420, 420, 420, 403, 403, 403, 366, 366, 319, 303, 303, 236, 236, 236, 236, 236, 236, 236, 236, 236, 236, 236, 236, 236, 221, 221, 176, 176, 126, 126, 126, 79, 79, 79, 0, 0, 0, 0, 0, 0, 0, 0, 0, 0]}, {\"line\": {\"width\": 2}, \"mode\": \"lines\", \"name\": \"Real euclidean distance to stop\", \"type\": \"scatter\", \"x\": [\"2020-03-09T10:55:02.470000\", \"2020-03-09T10:55:04\", \"2020-03-09T10:55:06\", \"2020-03-09T10:55:08\", \"2020-03-09T10:55:10\", \"2020-03-09T10:55:12\", \"2020-03-09T10:55:14\", \"2020-03-09T10:55:16\", \"2020-03-09T10:55:18\", \"2020-03-09T10:55:20\", \"2020-03-09T10:55:22\", \"2020-03-09T10:55:24\", \"2020-03-09T10:55:26\", \"2020-03-09T10:55:28\", \"2020-03-09T10:55:29\", \"2020-03-09T10:55:38\", \"2020-03-09T10:55:40\", \"2020-03-09T10:55:42\", \"2020-03-09T10:55:45\", \"2020-03-09T10:55:47\", \"2020-03-09T10:55:49\", \"2020-03-09T10:55:51\", \"2020-03-09T10:55:53\", \"2020-03-09T10:55:55\", \"2020-03-09T10:55:57\", \"2020-03-09T10:55:59\", \"2020-03-09T10:56:01\", \"2020-03-09T10:56:03\", \"2020-03-09T10:56:05\", \"2020-03-09T10:56:07\", \"2020-03-09T10:56:09\", \"2020-03-09T10:56:11\", \"2020-03-09T10:56:13\", \"2020-03-09T10:56:15\", \"2020-03-09T10:56:18\", \"2020-03-09T10:56:20\", \"2020-03-09T10:56:22\", \"2020-03-09T10:56:24\", \"2020-03-09T10:56:26\", \"2020-03-09T10:56:28\", \"2020-03-09T10:56:30\", \"2020-03-09T10:56:32\", \"2020-03-09T10:56:34\", \"2020-03-09T10:56:36\", \"2020-03-09T10:56:38\", \"2020-03-09T10:56:40\", \"2020-03-09T10:56:42\", \"2020-03-09T10:56:44\", \"2020-03-09T10:56:46\", \"2020-03-09T10:56:48\", \"2020-03-09T10:56:50\", \"2020-03-09T10:56:52\", \"2020-03-09T10:56:54\", \"2020-03-09T10:56:57\", \"2020-03-09T10:56:59\", \"2020-03-09T10:57:01\", \"2020-03-09T10:57:03\", \"2020-03-09T10:57:05\", \"2020-03-09T10:57:07\", \"2020-03-09T10:57:09\", \"2020-03-09T10:57:11\", \"2020-03-09T10:57:13\", \"2020-03-09T10:57:15\", \"2020-03-09T10:57:17\", \"2020-03-09T10:57:19\", \"2020-03-09T10:57:21\", \"2020-03-09T10:57:23\", \"2020-03-09T10:57:25\", \"2020-03-09T10:57:27\", \"2020-03-09T10:57:29\", \"2020-03-09T10:57:32\", \"2020-03-09T10:57:34\", \"2020-03-09T10:57:36\", \"2020-03-09T10:57:38\", \"2020-03-09T10:57:40\", \"2020-03-09T10:57:42\", \"2020-03-09T10:57:44\", \"2020-03-09T10:57:46\", \"2020-03-09T10:57:48\", \"2020-03-09T10:57:50\", \"2020-03-09T10:57:52\", \"2020-03-09T10:57:54\", \"2020-03-09T10:57:56\", \"2020-03-09T10:57:58\", \"2020-03-09T10:58:00\", \"2020-03-09T10:58:02\", \"2020-03-09T10:58:04\", \"2020-03-09T10:58:06\", \"2020-03-09T10:58:08\", \"2020-03-09T10:58:11\", \"2020-03-09T10:58:13\", \"2020-03-09T10:58:15\", \"2020-03-09T10:58:17\", \"2020-03-09T10:58:19\", \"2020-03-09T10:58:21\", \"2020-03-09T10:58:23\", \"2020-03-09T10:58:25\", \"2020-03-09T10:58:27\", \"2020-03-09T10:58:29\", \"2020-03-09T10:58:31\", \"2020-03-09T10:58:33\", \"2020-03-09T10:58:35\", \"2020-03-09T10:58:37\", \"2020-03-09T10:58:39\", \"2020-03-09T10:58:41\", \"2020-03-09T10:58:44\", \"2020-03-09T10:58:46\", \"2020-03-09T10:58:48\", \"2020-03-09T10:58:50\", \"2020-03-09T10:58:52\", \"2020-03-09T10:58:54\", \"2020-03-09T10:58:56\", \"2020-03-09T10:58:58\", \"2020-03-09T10:59:00\", \"2020-03-09T10:59:02\", \"2020-03-09T10:59:04\", \"2020-03-09T10:59:06\", \"2020-03-09T10:59:08\", \"2020-03-09T10:59:10\", \"2020-03-09T10:59:12\", \"2020-03-09T10:59:14\", \"2020-03-09T10:59:17\", \"2020-03-09T10:59:19\", \"2020-03-09T10:59:21\", \"2020-03-09T10:59:23\", \"2020-03-09T10:59:25\", \"2020-03-09T10:59:27\", \"2020-03-09T10:59:29\", \"2020-03-09T10:59:31\", \"2020-03-09T10:59:33\", \"2020-03-09T10:59:35\", \"2020-03-09T10:59:37\", \"2020-03-09T10:59:39\", \"2020-03-09T10:59:41\", \"2020-03-09T10:59:43\", \"2020-03-09T10:59:45\", \"2020-03-09T10:59:47\", \"2020-03-09T10:59:49\", \"2020-03-09T10:59:52\", \"2020-03-09T10:59:54\", \"2020-03-09T10:59:56\", \"2020-03-09T10:59:58\", \"2020-03-09T11:00:00\", \"2020-03-09T11:00:02\", \"2020-03-09T11:00:04\", \"2020-03-09T11:00:06\", \"2020-03-09T11:00:08\", \"2020-03-09T11:00:10\", \"2020-03-09T11:00:12\", \"2020-03-09T11:00:14\", \"2020-03-09T11:00:16\", \"2020-03-09T11:00:19\", \"2020-03-09T11:00:21\", \"2020-03-09T11:00:23\", \"2020-03-09T11:00:25\", \"2020-03-09T11:00:27\", \"2020-03-09T11:00:29\", \"2020-03-09T11:00:31\", \"2020-03-09T11:00:33\", \"2020-03-09T11:00:35\", \"2020-03-09T11:00:37\", \"2020-03-09T11:00:39\", \"2020-03-09T11:00:41\", \"2020-03-09T11:00:43\", \"2020-03-09T11:00:45\", \"2020-03-09T11:00:47\", \"2020-03-09T11:00:49\", \"2020-03-09T11:00:52\", \"2020-03-09T11:00:54\", \"2020-03-09T11:00:56\", \"2020-03-09T11:00:58\", \"2020-03-09T11:01:00\", \"2020-03-09T11:01:02\", \"2020-03-09T11:01:04\", \"2020-03-09T11:01:06\", \"2020-03-09T11:01:08\", \"2020-03-09T11:01:10\", \"2020-03-09T11:01:12\", \"2020-03-09T11:01:14\", \"2020-03-09T11:01:16\", \"2020-03-09T11:01:18\", \"2020-03-09T11:01:21\", \"2020-03-09T11:01:23\", \"2020-03-09T11:01:25\", \"2020-03-09T11:01:27\", \"2020-03-09T11:01:29\", \"2020-03-09T11:01:31\", \"2020-03-09T11:01:33\", \"2020-03-09T11:01:35\", \"2020-03-09T11:01:37\", \"2020-03-09T11:01:39\", \"2020-03-09T11:01:41\", \"2020-03-09T11:01:43\", \"2020-03-09T11:01:45\", \"2020-03-09T11:01:47\", \"2020-03-09T11:01:49\", \"2020-03-09T11:01:51\", \"2020-03-09T11:01:53\", \"2020-03-09T11:01:56\", \"2020-03-09T11:01:58\", \"2020-03-09T11:02:00\", \"2020-03-09T11:02:02\", \"2020-03-09T11:02:04\", \"2020-03-09T11:02:06\", \"2020-03-09T11:02:08\", \"2020-03-09T11:02:10\", \"2020-03-09T11:02:12\", \"2020-03-09T11:02:14\", \"2020-03-09T11:02:16\", \"2020-03-09T11:02:18\", \"2020-03-09T11:02:20\", \"2020-03-09T11:02:22\", \"2020-03-09T11:02:24\", \"2020-03-09T11:02:27\", \"2020-03-09T11:02:29\", \"2020-03-09T11:02:31\", \"2020-03-09T11:02:33\", \"2020-03-09T11:02:35\", \"2020-03-09T11:02:37\", \"2020-03-09T11:02:39\", \"2020-03-09T11:02:41\", \"2020-03-09T11:02:43\", \"2020-03-09T11:02:45\", \"2020-03-09T11:02:47\", \"2020-03-09T11:02:49\", \"2020-03-09T11:02:51\", \"2020-03-09T11:02:53\", \"2020-03-09T11:02:55\", \"2020-03-09T11:02:57\", \"2020-03-09T11:03:00\", \"2020-03-09T11:03:02\", \"2020-03-09T11:03:04\", \"2020-03-09T11:03:06\", \"2020-03-09T11:03:08\", \"2020-03-09T11:03:10\", \"2020-03-09T11:03:12\", \"2020-03-09T11:03:14\", \"2020-03-09T11:03:16\", \"2020-03-09T11:03:18\", \"2020-03-09T11:03:20\", \"2020-03-09T11:03:22\", \"2020-03-09T11:03:24\", \"2020-03-09T11:03:26\", \"2020-03-09T11:03:28\", \"2020-03-09T11:03:30\", \"2020-03-09T11:03:32\", \"2020-03-09T11:03:35\", \"2020-03-09T11:03:37\", \"2020-03-09T11:03:39\", \"2020-03-09T11:03:41\", \"2020-03-09T11:03:43\", \"2020-03-09T11:03:45\", \"2020-03-09T11:03:47\", \"2020-03-09T11:03:49\", \"2020-03-09T11:03:51\", \"2020-03-09T11:03:53\", \"2020-03-09T11:03:55\", \"2020-03-09T11:03:57\", \"2020-03-09T11:03:59\", \"2020-03-09T11:04:01\", \"2020-03-09T11:04:03\", \"2020-03-09T11:04:05\", \"2020-03-09T11:04:08\", \"2020-03-09T11:04:10\", \"2020-03-09T11:04:12\", \"2020-03-09T11:04:14\", \"2020-03-09T11:04:16\", \"2020-03-09T11:04:18\", \"2020-03-09T11:04:20\", \"2020-03-09T11:04:22\", \"2020-03-09T11:04:24\", \"2020-03-09T11:04:26\", \"2020-03-09T11:04:28\", \"2020-03-09T11:04:30\", \"2020-03-09T11:04:32\", \"2020-03-09T11:04:34\", \"2020-03-09T11:04:36\", \"2020-03-09T11:04:39\", \"2020-03-09T11:04:41\", \"2020-03-09T11:04:43\", \"2020-03-09T11:04:45\", \"2020-03-09T11:04:47\", \"2020-03-09T11:04:49\", \"2020-03-09T11:04:51\", \"2020-03-09T11:04:53\", \"2020-03-09T11:04:55\", \"2020-03-09T11:04:57\", \"2020-03-09T11:04:59\", \"2020-03-09T11:05:01\", \"2020-03-09T11:05:03\", \"2020-03-09T11:05:05\", \"2020-03-09T11:05:07\", \"2020-03-09T11:05:09\", \"2020-03-09T11:05:11\", \"2020-03-09T11:05:13\", \"2020-03-09T11:05:16\", \"2020-03-09T11:05:18\", \"2020-03-09T11:05:20\", \"2020-03-09T11:05:22\", \"2020-03-09T11:05:24\", \"2020-03-09T11:05:26\", \"2020-03-09T11:05:28\", \"2020-03-09T11:05:30\", \"2020-03-09T11:05:32\", \"2020-03-09T11:05:34\", \"2020-03-09T11:05:36\", \"2020-03-09T11:05:38\", \"2020-03-09T11:05:40\", \"2020-03-09T11:05:42\", \"2020-03-09T11:05:44\", \"2020-03-09T11:05:46\", \"2020-03-09T11:05:49\"], \"y\": [1999.1588996304179, 2000.3780279095215, 1991.1416998666248, 1990.1828189243724, 1990.0175705633142, 1989.9179472842436, 1988.4062060425763, 1988.4155503397415, 1988.0529691350862, 1987.549422872728, 1986.9109521224016, 1985.5879646301444, 1984.2805083386963, 1984.072621300884, 1984.2186941217626, 1983.0285608056445, 1983.4636146599548, 1982.2973291375924, 1978.622445650083, 1975.7990804573217, 1973.4577992796092, 1972.583749586167, 1973.4359323553656, 1974.5647060941446, 1975.1109629504356, 1974.835927231017, 1974.7741223403784, 1974.4192136269667, 1973.8848045569614, 1973.887364675636, 1973.887364675636, 1973.887364675636, 1973.6806440604864, 1973.0447044197658, 1968.6989338740732, 1964.1591262754412, 1960.2922967654317, 1956.3341358422053, 1953.2927643668825, 1951.6187857102786, 1951.7385051868757, 1951.7385051868757, 1949.4204618799804, 1942.7507889409442, 1929.8457794708136, 1913.352791690473, 1895.7333871172937, 1876.8408210357616, 1858.542415322522, 1841.8190317487276, 1825.0747562171805, 1809.4963285657427, 1796.2735222049166, 1780.3694808830614, 1771.907551907594, 1768.6810351087559, 1769.6187780772202, 1769.7649141897416, 1769.7649141897416, 1769.7649141897416, 1769.7649141897416, 1769.7649141897416, 1769.7649141897416, 1769.669268281168, 1767.0943510939017, 1760.9843387054793, 1752.5956125098312, 1743.2263882777763, 1733.3720401155058, 1720.7393993930102, 1700.136381347167, 1689.3568103059208, 1679.4047891168711, 1669.008176095998, 1658.4170267273983, 1647.7239454229073, 1636.1263932837753, 1626.1432570897748, 1617.2324352245332, 1607.9167810981712, 1598.4393665859282, 1589.7065424522364, 1581.7336151776087, 1573.1392206521805, 1564.3360455965972, 1556.2924067840177, 1550.4757168787503, 1549.7137661856939, 1547.4168451734224, 1548.7369531255704, 1548.7424274034638, 1547.4820881981948, 1542.9122103231623, 1532.525156623331, 1523.9751931685103, 1514.9498290004708, 1508.216520856058, 1503.3237939347187, 1499.897485144399, 1496.4752446174737, 1494.3901034692428, 1494.4711011549623, 1494.7194277097149, 1494.7194277097149, 1494.7194277097149, 1494.7194277097149, 1494.7194277097149, 1494.7194277097149, 1493.595978492089, 1489.7039017755478, 1483.291557020748, 1477.7957433911859, 1471.4002267765773, 1463.24843186639, 1452.9661124341017, 1440.29477650833, 1426.8688957040924, 1413.282547334518, 1399.836889850485, 1387.987326039908, 1378.0182304927139, 1364.2673784253577, 1358.417235959632, 1350.5397571940466, 1342.4620866840826, 1335.4561051283924, 1330.6652541799515, 1330.4357266036075, 1331.3247406630935, 1331.4223949908978, 1331.4223949908978, 1331.4223949908978, 1331.4223949908978, 1329.5692540554357, 1325.6611132172657, 1318.0410277296642, 1305.576644240493, 1293.703912348689, 1275.6346916409948, 1263.3380905687945, 1252.076473396262, 1242.8605239967658, 1233.6013396187413, 1222.770702983586, 1210.2882014108689, 1197.656370759493, 1184.5170656976684, 1167.4211015204169, 1148.5367017355948, 1127.975825598246, 1108.1030005497566, 1080.983587384122, 1067.0664579221918, 1059.2686127683764, 1054.8215255582875, 1051.0276441672536, 1050.2112031615422, 1051.0552135191515, 1051.2971923356938, 1051.2971923356938, 1051.2971923356938, 1051.2971923356938, 1051.2971923356938, 1051.2971923356938, 1051.2971923356938, 1051.2971923356938, 1051.1077983574564, 1044.7290452732148, 1037.166939148785, 1029.7120703306555, 1024.2457666745934, 1021.106538657532, 1021.0789795735216, 1021.6569068486561, 1021.6569068486561, 1021.6569068486561, 1021.1837346945106, 1019.0296331707141, 1016.9074010085585, 1010.9331383972876, 1001.3039909829494, 983.1240892685164, 971.0944362362663, 960.5101539804355, 953.691173601537, 951.8890924749984, 952.7224760194496, 952.9871704440338, 952.496915779878, 952.496915779878, 952.496915779878, 952.496915779878, 952.496915779878, 951.8824003480961, 947.3696085645624, 939.582040471805, 926.8330396128458, 909.8950810479705, 881.011839868262, 862.9011897308129, 845.5437824569277, 827.942351786636, 812.2597535655228, 795.9158036205883, 780.422428467115, 765.4319123718562, 751.4152397112323, 739.9762038706997, 729.2934302915127, 720.7158305037743, 715.07299222643, 711.4963099192471, 711.1231988685026, 711.0289508363543, 711.0289508363543, 710.9381946834759, 708.570506206369, 702.5395034113963, 692.523998008542, 682.1871761120115, 672.0597795368814, 658.876962194086, 646.6595012259043, 633.4212440525657, 620.3201688041427, 607.5103219749496, 595.1082425787775, 584.3372534435439, 575.7066954254657, 565.2414148561446, 561.5453248153774, 559.5567416020716, 559.3630667992219, 559.4033137294325, 559.2364493847206, 559.0734644394767, 558.1455112831103, 557.1208918289108, 555.7291382320713, 553.8690011041202, 550.1454865296373, 542.3124538207447, 529.705081647087, 514.5355961708345, 499.28067667951143, 484.7891057604682, 464.55524916249817, 455.0651033515638, 449.6458507338019, 445.9096083094956, 443.1553983694948, 439.5110549918491, 435.43976193182465, 434.1283519464254, 434.7701217732392, 436.4300157302525, 436.859495901049, 436.98826647503506, 437.3136414489782, 437.3031266573073, 436.66084585670177, 435.5451216100093, 433.64864739309803, 432.51050018473757, 430.977217404532, 430.2408951232112, 430.29778242277797, 429.49130762136434, 428.2036763040451, 424.5790225439773, 416.9234787953478, 406.7582420683821, 394.24498546426673, 379.9898955204785, 361.8314205131971, 341.9669324654719, 321.7092916248542, 292.83895371454724, 276.4031326623336, 262.89148533616424, 251.5661109819779, 242.190344101795, 236.68461277239658, 233.53753728227784, 233.14927054268225, 231.8927163862746, 231.77493765164564, 231.452215292254, 230.63758384360636, 230.37941372041163, 227.49435368685718, 221.71295320372482, 211.72357185579457, 199.7125925458501, 186.68568048268244, 161.60613772284552, 141.09314852485954, 120.9003288017274, 100.73450670688514, 83.09266672611155, 53.56375862837096, 37.91720408976856, 23.147957351618242, 12.623365377711982, 5.200475833593006, 2.8231212164628983, 14.336420733369213, 3.7074921266234933, 3.7074921266234933, 2.308936064823874, 1.5305133573041685, 6.091761663341992]}],\n",
       "                        {\"height\": 500, \"margin\": {\"b\": 0, \"l\": 0, \"r\": 0, \"t\": 0}, \"shapes\": [{\"line\": {\"color\": \"gold\", \"dash\": \"dashdot\", \"width\": 2}, \"type\": \"line\", \"x0\": \"2020-03-09T10:57:11\", \"x1\": \"2020-03-09T10:57:11\", \"y0\": 0, \"y1\": 2750}, {\"line\": {\"color\": \"gold\", \"dash\": \"dashdot\", \"width\": 2}, \"type\": \"line\", \"x0\": \"2020-03-09T10:58:15\", \"x1\": \"2020-03-09T10:58:15\", \"y0\": 0, \"y1\": 2750}, {\"line\": {\"color\": \"gold\", \"dash\": \"dashdot\", \"width\": 2}, \"type\": \"line\", \"x0\": \"2020-03-09T10:59:33\", \"x1\": \"2020-03-09T10:59:33\", \"y0\": 0, \"y1\": 2750}, {\"line\": {\"color\": \"gold\", \"dash\": \"dashdot\", \"width\": 2}, \"type\": \"line\", \"x0\": \"2020-03-09T11:01:36\", \"x1\": \"2020-03-09T11:01:36\", \"y0\": 0, \"y1\": 2750}, {\"line\": {\"color\": \"gold\", \"dash\": \"dashdot\", \"width\": 2}, \"type\": \"line\", \"x0\": \"2020-03-09T11:02:29\", \"x1\": \"2020-03-09T11:02:29\", \"y0\": 0, \"y1\": 2750}, {\"line\": {\"color\": \"gold\", \"dash\": \"dashdot\", \"width\": 2}, \"type\": \"line\", \"x0\": \"2020-03-09T11:03:13\", \"x1\": \"2020-03-09T11:03:13\", \"y0\": 0, \"y1\": 2750}, {\"line\": {\"color\": \"gold\", \"dash\": \"dashdot\", \"width\": 2}, \"type\": \"line\", \"x0\": \"2020-03-09T11:03:57\", \"x1\": \"2020-03-09T11:03:57\", \"y0\": 0, \"y1\": 2750}, {\"line\": {\"color\": \"gold\", \"dash\": \"dashdot\", \"width\": 2}, \"type\": \"line\", \"x0\": \"2020-03-09T11:04:57\", \"x1\": \"2020-03-09T11:04:57\", \"y0\": 0, \"y1\": 2750}, {\"line\": {\"color\": \"gold\", \"dash\": \"dashdot\", \"width\": 2}, \"type\": \"line\", \"x0\": \"2020-03-09T11:05:44\", \"x1\": \"2020-03-09T11:05:44\", \"y0\": 0, \"y1\": 2750}], \"template\": {\"data\": {\"bar\": [{\"error_x\": {\"color\": \"#2a3f5f\"}, \"error_y\": {\"color\": \"#2a3f5f\"}, \"marker\": {\"line\": {\"color\": \"white\", \"width\": 0.5}}, \"type\": \"bar\"}], \"barpolar\": [{\"marker\": {\"line\": {\"color\": \"white\", \"width\": 0.5}}, \"type\": \"barpolar\"}], \"carpet\": [{\"aaxis\": {\"endlinecolor\": \"#2a3f5f\", \"gridcolor\": \"#C8D4E3\", \"linecolor\": \"#C8D4E3\", \"minorgridcolor\": \"#C8D4E3\", \"startlinecolor\": \"#2a3f5f\"}, \"baxis\": {\"endlinecolor\": \"#2a3f5f\", \"gridcolor\": \"#C8D4E3\", \"linecolor\": \"#C8D4E3\", \"minorgridcolor\": \"#C8D4E3\", \"startlinecolor\": \"#2a3f5f\"}, \"type\": \"carpet\"}], \"choropleth\": [{\"colorbar\": {\"outlinewidth\": 0, \"ticks\": \"\"}, \"type\": \"choropleth\"}], \"contour\": [{\"colorbar\": {\"outlinewidth\": 0, \"ticks\": \"\"}, \"colorscale\": [[0.0, \"#0d0887\"], [0.1111111111111111, \"#46039f\"], [0.2222222222222222, \"#7201a8\"], [0.3333333333333333, \"#9c179e\"], [0.4444444444444444, \"#bd3786\"], [0.5555555555555556, \"#d8576b\"], [0.6666666666666666, \"#ed7953\"], [0.7777777777777778, \"#fb9f3a\"], [0.8888888888888888, \"#fdca26\"], [1.0, \"#f0f921\"]], \"type\": \"contour\"}], \"contourcarpet\": [{\"colorbar\": {\"outlinewidth\": 0, \"ticks\": \"\"}, \"type\": \"contourcarpet\"}], \"heatmap\": [{\"colorbar\": {\"outlinewidth\": 0, \"ticks\": \"\"}, \"colorscale\": [[0.0, \"#0d0887\"], [0.1111111111111111, \"#46039f\"], [0.2222222222222222, \"#7201a8\"], [0.3333333333333333, \"#9c179e\"], [0.4444444444444444, \"#bd3786\"], [0.5555555555555556, \"#d8576b\"], [0.6666666666666666, \"#ed7953\"], [0.7777777777777778, \"#fb9f3a\"], [0.8888888888888888, \"#fdca26\"], [1.0, \"#f0f921\"]], \"type\": \"heatmap\"}], \"heatmapgl\": [{\"colorbar\": {\"outlinewidth\": 0, \"ticks\": \"\"}, \"colorscale\": [[0.0, \"#0d0887\"], [0.1111111111111111, \"#46039f\"], [0.2222222222222222, \"#7201a8\"], [0.3333333333333333, \"#9c179e\"], [0.4444444444444444, \"#bd3786\"], [0.5555555555555556, \"#d8576b\"], [0.6666666666666666, \"#ed7953\"], [0.7777777777777778, \"#fb9f3a\"], [0.8888888888888888, \"#fdca26\"], [1.0, \"#f0f921\"]], \"type\": \"heatmapgl\"}], \"histogram\": [{\"marker\": {\"colorbar\": {\"outlinewidth\": 0, \"ticks\": \"\"}}, \"type\": \"histogram\"}], \"histogram2d\": [{\"colorbar\": {\"outlinewidth\": 0, \"ticks\": \"\"}, \"colorscale\": [[0.0, \"#0d0887\"], [0.1111111111111111, \"#46039f\"], [0.2222222222222222, \"#7201a8\"], [0.3333333333333333, \"#9c179e\"], [0.4444444444444444, \"#bd3786\"], [0.5555555555555556, \"#d8576b\"], [0.6666666666666666, \"#ed7953\"], [0.7777777777777778, \"#fb9f3a\"], [0.8888888888888888, \"#fdca26\"], [1.0, \"#f0f921\"]], \"type\": \"histogram2d\"}], \"histogram2dcontour\": [{\"colorbar\": {\"outlinewidth\": 0, \"ticks\": \"\"}, \"colorscale\": [[0.0, \"#0d0887\"], [0.1111111111111111, \"#46039f\"], [0.2222222222222222, \"#7201a8\"], [0.3333333333333333, \"#9c179e\"], [0.4444444444444444, \"#bd3786\"], [0.5555555555555556, \"#d8576b\"], [0.6666666666666666, \"#ed7953\"], [0.7777777777777778, \"#fb9f3a\"], [0.8888888888888888, \"#fdca26\"], [1.0, \"#f0f921\"]], \"type\": \"histogram2dcontour\"}], \"mesh3d\": [{\"colorbar\": {\"outlinewidth\": 0, \"ticks\": \"\"}, \"type\": \"mesh3d\"}], \"parcoords\": [{\"line\": {\"colorbar\": {\"outlinewidth\": 0, \"ticks\": \"\"}}, \"type\": \"parcoords\"}], \"pie\": [{\"automargin\": true, \"type\": \"pie\"}], \"scatter\": [{\"marker\": {\"colorbar\": {\"outlinewidth\": 0, \"ticks\": \"\"}}, \"type\": \"scatter\"}], \"scatter3d\": [{\"line\": {\"colorbar\": {\"outlinewidth\": 0, \"ticks\": \"\"}}, \"marker\": {\"colorbar\": {\"outlinewidth\": 0, \"ticks\": \"\"}}, \"type\": \"scatter3d\"}], \"scattercarpet\": [{\"marker\": {\"colorbar\": {\"outlinewidth\": 0, \"ticks\": \"\"}}, \"type\": \"scattercarpet\"}], \"scattergeo\": [{\"marker\": {\"colorbar\": {\"outlinewidth\": 0, \"ticks\": \"\"}}, \"type\": \"scattergeo\"}], \"scattergl\": [{\"marker\": {\"colorbar\": {\"outlinewidth\": 0, \"ticks\": \"\"}}, \"type\": \"scattergl\"}], \"scattermapbox\": [{\"marker\": {\"colorbar\": {\"outlinewidth\": 0, \"ticks\": \"\"}}, \"type\": \"scattermapbox\"}], \"scatterpolar\": [{\"marker\": {\"colorbar\": {\"outlinewidth\": 0, \"ticks\": \"\"}}, \"type\": \"scatterpolar\"}], \"scatterpolargl\": [{\"marker\": {\"colorbar\": {\"outlinewidth\": 0, \"ticks\": \"\"}}, \"type\": \"scatterpolargl\"}], \"scatterternary\": [{\"marker\": {\"colorbar\": {\"outlinewidth\": 0, \"ticks\": \"\"}}, \"type\": \"scatterternary\"}], \"surface\": [{\"colorbar\": {\"outlinewidth\": 0, \"ticks\": \"\"}, \"colorscale\": [[0.0, \"#0d0887\"], [0.1111111111111111, \"#46039f\"], [0.2222222222222222, \"#7201a8\"], [0.3333333333333333, \"#9c179e\"], [0.4444444444444444, \"#bd3786\"], [0.5555555555555556, \"#d8576b\"], [0.6666666666666666, \"#ed7953\"], [0.7777777777777778, \"#fb9f3a\"], [0.8888888888888888, \"#fdca26\"], [1.0, \"#f0f921\"]], \"type\": \"surface\"}], \"table\": [{\"cells\": {\"fill\": {\"color\": \"#EBF0F8\"}, \"line\": {\"color\": \"white\"}}, \"header\": {\"fill\": {\"color\": \"#C8D4E3\"}, \"line\": {\"color\": \"white\"}}, \"type\": \"table\"}]}, \"layout\": {\"annotationdefaults\": {\"arrowcolor\": \"#2a3f5f\", \"arrowhead\": 0, \"arrowwidth\": 1}, \"coloraxis\": {\"colorbar\": {\"outlinewidth\": 0, \"ticks\": \"\"}}, \"colorscale\": {\"diverging\": [[0, \"#8e0152\"], [0.1, \"#c51b7d\"], [0.2, \"#de77ae\"], [0.3, \"#f1b6da\"], [0.4, \"#fde0ef\"], [0.5, \"#f7f7f7\"], [0.6, \"#e6f5d0\"], [0.7, \"#b8e186\"], [0.8, \"#7fbc41\"], [0.9, \"#4d9221\"], [1, \"#276419\"]], \"sequential\": [[0.0, \"#0d0887\"], [0.1111111111111111, \"#46039f\"], [0.2222222222222222, \"#7201a8\"], [0.3333333333333333, \"#9c179e\"], [0.4444444444444444, \"#bd3786\"], [0.5555555555555556, \"#d8576b\"], [0.6666666666666666, \"#ed7953\"], [0.7777777777777778, \"#fb9f3a\"], [0.8888888888888888, \"#fdca26\"], [1.0, \"#f0f921\"]], \"sequentialminus\": [[0.0, \"#0d0887\"], [0.1111111111111111, \"#46039f\"], [0.2222222222222222, \"#7201a8\"], [0.3333333333333333, \"#9c179e\"], [0.4444444444444444, \"#bd3786\"], [0.5555555555555556, \"#d8576b\"], [0.6666666666666666, \"#ed7953\"], [0.7777777777777778, \"#fb9f3a\"], [0.8888888888888888, \"#fdca26\"], [1.0, \"#f0f921\"]]}, \"colorway\": [\"#636efa\", \"#EF553B\", \"#00cc96\", \"#ab63fa\", \"#FFA15A\", \"#19d3f3\", \"#FF6692\", \"#B6E880\", \"#FF97FF\", \"#FECB52\"], \"font\": {\"color\": \"#2a3f5f\"}, \"geo\": {\"bgcolor\": \"white\", \"lakecolor\": \"white\", \"landcolor\": \"white\", \"showlakes\": true, \"showland\": true, \"subunitcolor\": \"#C8D4E3\"}, \"hoverlabel\": {\"align\": \"left\"}, \"hovermode\": \"closest\", \"mapbox\": {\"style\": \"light\"}, \"paper_bgcolor\": \"white\", \"plot_bgcolor\": \"white\", \"polar\": {\"angularaxis\": {\"gridcolor\": \"#EBF0F8\", \"linecolor\": \"#EBF0F8\", \"ticks\": \"\"}, \"bgcolor\": \"white\", \"radialaxis\": {\"gridcolor\": \"#EBF0F8\", \"linecolor\": \"#EBF0F8\", \"ticks\": \"\"}}, \"scene\": {\"xaxis\": {\"backgroundcolor\": \"white\", \"gridcolor\": \"#DFE8F3\", \"gridwidth\": 2, \"linecolor\": \"#EBF0F8\", \"showbackground\": true, \"ticks\": \"\", \"zerolinecolor\": \"#EBF0F8\"}, \"yaxis\": {\"backgroundcolor\": \"white\", \"gridcolor\": \"#DFE8F3\", \"gridwidth\": 2, \"linecolor\": \"#EBF0F8\", \"showbackground\": true, \"ticks\": \"\", \"zerolinecolor\": \"#EBF0F8\"}, \"zaxis\": {\"backgroundcolor\": \"white\", \"gridcolor\": \"#DFE8F3\", \"gridwidth\": 2, \"linecolor\": \"#EBF0F8\", \"showbackground\": true, \"ticks\": \"\", \"zerolinecolor\": \"#EBF0F8\"}}, \"shapedefaults\": {\"line\": {\"color\": \"#2a3f5f\"}}, \"ternary\": {\"aaxis\": {\"gridcolor\": \"#DFE8F3\", \"linecolor\": \"#A2B1C6\", \"ticks\": \"\"}, \"baxis\": {\"gridcolor\": \"#DFE8F3\", \"linecolor\": \"#A2B1C6\", \"ticks\": \"\"}, \"bgcolor\": \"white\", \"caxis\": {\"gridcolor\": \"#DFE8F3\", \"linecolor\": \"#A2B1C6\", \"ticks\": \"\"}}, \"title\": {\"x\": 0.05}, \"xaxis\": {\"automargin\": true, \"gridcolor\": \"#EBF0F8\", \"linecolor\": \"#EBF0F8\", \"ticks\": \"\", \"title\": {\"standoff\": 15}, \"zerolinecolor\": \"#EBF0F8\", \"zerolinewidth\": 2}, \"yaxis\": {\"automargin\": true, \"gridcolor\": \"#EBF0F8\", \"linecolor\": \"#EBF0F8\", \"ticks\": \"\", \"title\": {\"standoff\": 15}, \"zerolinecolor\": \"#EBF0F8\", \"zerolinewidth\": 2}}}, \"xaxis\": {\"title\": {\"text\": \"Time\"}}},\n",
       "                        {\"responsive\": true}\n",
       "                    ).then(function(){\n",
       "                            \n",
       "var gd = document.getElementById('d7598574-321c-4040-bc42-3d5b1f8db3dc');\n",
       "var x = new MutationObserver(function (mutations, observer) {{\n",
       "        var display = window.getComputedStyle(gd).display;\n",
       "        if (!display || display === 'none') {{\n",
       "            console.log([gd, 'removed!']);\n",
       "            Plotly.purge(gd);\n",
       "            observer.disconnect();\n",
       "        }}\n",
       "}});\n",
       "\n",
       "// Listen for the removal of the full notebook cells\n",
       "var notebookContainer = gd.closest('#notebook-container');\n",
       "if (notebookContainer) {{\n",
       "    x.observe(notebookContainer, {childList: true});\n",
       "}}\n",
       "\n",
       "// Listen for the clearing of the current output cell\n",
       "var outputEl = gd.closest('.output');\n",
       "if (outputEl) {{\n",
       "    x.observe(outputEl, {childList: true});\n",
       "}}\n",
       "\n",
       "                        })\n",
       "                };\n",
       "                });\n",
       "            </script>\n",
       "        </div>"
      ]
     },
     "metadata": {},
     "output_type": "display_data"
    }
   ],
   "source": [
    "#Distance between points of paths over time\n",
    "fig8 = go.Figure()\n",
    "for row in stops_tracked.itertuples() :\n",
    "    # Add shapes\n",
    "    fig8.add_shape(\n",
    "            # Line Vertical\n",
    "            dict(\n",
    "                type='line',\n",
    "                x0=row.datetime,\n",
    "                y0=0,\n",
    "                x1=row.datetime,\n",
    "                y1=2750,\n",
    "                line=dict(\n",
    "                    color='gold',\n",
    "                    width=2,\n",
    "                    dash='dashdot'\n",
    "            )\n",
    "    ))\n",
    "fig8.add_trace(go.Scatter(\n",
    "    x=hf_buses_data_path.datetime, \n",
    "    y=hf_buses_data_path.dist_calc,\n",
    "    mode='lines',\n",
    "    name='HF - Error in calculated coords',\n",
    "    line=dict(width=2)\n",
    "))\n",
    "fig8.add_trace(go.Scatter(\n",
    "    x=buses_data_path.datetime, \n",
    "    y=buses_data_path.dist_calc,\n",
    "    mode='lines',\n",
    "    name='Orig - Error in calculated coords',\n",
    "    line=dict(width=2)\n",
    "))\n",
    "fig8.add_trace(go.Scatter(\n",
    "    x=hf_buses_data_path.datetime, \n",
    "    y=hf_buses_data_path.DistanceBus,\n",
    "    mode='lines',\n",
    "    name='HF - Distance to stop given by the API ',\n",
    "    line=dict(width=2)\n",
    "))\n",
    "fig8.add_trace(go.Scatter(\n",
    "    x=buses_data_path.datetime, \n",
    "    y=buses_data_path.DistanceBus,\n",
    "    mode='lines',\n",
    "    name='Orig - Distance to stop given by the API ',\n",
    "    line=dict(width=2)\n",
    "))\n",
    "fig8.add_trace(go.Scatter(\n",
    "    x=bus_tracked.datetime, \n",
    "    y=bus_tracked.dist_to_stop_on_line,\n",
    "    mode='lines',\n",
    "    name='Real distance to stop on line',\n",
    "    line=dict(width=2)\n",
    "))\n",
    "fig8.add_trace(go.Scatter(\n",
    "    x=bus_tracked.datetime, \n",
    "    y=bus_tracked.dist_to_stop,\n",
    "    mode='lines',\n",
    "    name='Real euclidean distance to stop',\n",
    "    line=dict(width=2)\n",
    "))\n",
    "\n",
    "fig8.update_layout(\n",
    "    height=500,\n",
    "    margin=dict(r=0, l=0, t=0, b=0),\n",
    "    xaxis=dict(\n",
    "        title='Time'\n",
    "    )\n",
    ")"
   ]
  },
  {
   "cell_type": "code",
   "execution_count": 160,
   "metadata": {},
   "outputs": [
    {
     "data": {
      "application/vnd.plotly.v1+json": {
       "config": {
        "plotlyServerURL": "https://plot.ly"
       },
       "data": [
        {
         "hoverinfo": "text",
         "lat": [
          40.446766208798,
          40.44700513696822,
          40.44673094565124,
          40.44671465246461,
          40.44673321624735,
          40.4467391117401,
          40.446738471957566,
          40.44672585856044,
          40.4467148812651,
          40.446716184979955,
          40.44672453354607,
          40.44673371901647,
          40.44672991451675,
          40.44671015585849,
          40.44670181190481,
          40.44666597286184,
          40.44666875960167,
          40.44666913177827,
          40.44666725433251,
          40.44666328706852,
          40.446654537332066,
          40.446674486556205,
          40.44668790061233,
          40.44669595930792,
          40.44669219955264,
          40.44670420077316,
          40.44670801318834,
          40.446718831041466,
          40.44672504123623,
          40.44672952905814,
          40.44672952905814,
          40.44672952905814,
          40.44672741026464,
          40.446720808502135,
          40.4467476074084,
          40.446778584751705,
          40.446803842585524,
          40.446849223700085,
          40.44687077240438,
          40.44687808076316,
          40.446882026775626,
          40.446882026775626,
          40.44691237866696,
          40.44692282488942,
          40.44692583334583,
          40.446935401845266,
          40.44693860539393,
          40.446945734014136,
          40.446951046678215,
          40.44695510661688,
          40.44697232442102,
          40.44699704839841,
          40.44700537695799,
          40.44704992232774,
          40.44708802204004,
          40.44710605508429,
          40.44710067857115,
          40.44709976869237,
          40.44709976869237,
          40.44709976869237,
          40.44709976869237,
          40.44709976869237,
          40.44709976869237,
          40.44709852397708,
          40.44709289412352,
          40.44709136640431,
          40.447091770395126,
          40.447096103772964,
          40.44709648980885,
          40.4471159379105,
          40.44715737565564,
          40.44716598224045,
          40.44716739955802,
          40.44716949740309,
          40.447169921927134,
          40.44714538192061,
          40.447102974345796,
          40.44705911349034,
          40.447009096875256,
          40.4469684009537,
          40.44694750705021,
          40.44690957472738,
          40.446840232628084,
          40.44677776784524,
          40.446733384261414,
          40.44670083030654,
          40.4466712114506,
          40.44664729884058,
          40.44665523573822,
          40.446648099510746,
          40.44664244014996,
          40.44663255268687,
          40.446628871331136,
          40.4466298667082,
          40.44660802955234,
          40.44659226902699,
          40.44656036941478,
          40.446529373891515,
          40.44651030459854,
          40.446495663552966,
          40.446494556198324,
          40.44649596214369,
          40.44649378102674,
          40.44649378102674,
          40.44649378102674,
          40.44649378102674,
          40.44649378102674,
          40.44649378102674,
          40.44649364787947,
          40.44647785488544,
          40.446470511061214,
          40.446446657184325,
          40.44641146167192,
          40.44637712387369,
          40.446341164973695,
          40.4463045179273,
          40.44624628975241,
          40.446172009863176,
          40.44611695579147,
          40.446071257423874,
          40.446046495747915,
          40.44608680429978,
          40.44616055347929,
          40.44625163698584,
          40.44633073667623,
          40.44638522070047,
          40.44641475373893,
          40.446413225951765,
          40.44640941550286,
          40.44641323066374,
          40.44641323066374,
          40.44641323066374,
          40.44641323066374,
          40.44644447373806,
          40.446500767839254,
          40.446657784226424,
          40.44677453694801,
          40.44689639822926,
          40.44709391412003,
          40.44724094281161,
          40.44738556574043,
          40.44752642816514,
          40.44765923278733,
          40.44776602997401,
          40.447851961273905,
          40.44791598190597,
          40.4479942357152,
          40.44808243672292,
          40.448164220754364,
          40.44825202239654,
          40.448338654291824,
          40.44846049189604,
          40.44848992797901,
          40.44850270463518,
          40.448523563734206,
          40.448561917714585,
          40.4485720318733,
          40.44857273393515,
          40.44857260007451,
          40.44857260007451,
          40.44857260007451,
          40.44857260007451,
          40.44857260007451,
          40.44857260007451,
          40.44857260007451,
          40.44857260007451,
          40.44857503962415,
          40.448617737290796,
          40.44865264087205,
          40.448691954705126,
          40.44873306976843,
          40.448778479803835,
          40.44878777165573,
          40.448783229867786,
          40.448783229867786,
          40.448783229867786,
          40.44879652263919,
          40.44884942837542,
          40.448933738018006,
          40.44903525518529,
          40.44912657471619,
          40.449179158032436,
          40.44917182414493,
          40.44916502498263,
          40.449167301354734,
          40.44916468154292,
          40.44917338474453,
          40.44918158007398,
          40.449182876852824,
          40.449182876852824,
          40.449182876852824,
          40.449182876852824,
          40.449182876852824,
          40.44918368740286,
          40.4491798905015,
          40.44915887341544,
          40.449135595653495,
          40.44911236921058,
          40.449091838820955,
          40.44908285781343,
          40.449065768625,
          40.449046435468375,
          40.4490016398154,
          40.44896852686601,
          40.44893394702529,
          40.44889703292569,
          40.448862931201226,
          40.44880562535006,
          40.448762669476636,
          40.448721763965835,
          40.44868653373942,
          40.44867901544052,
          40.4486841538126,
          40.44868834993792,
          40.44868834993792,
          40.44868370395876,
          40.44866611765467,
          40.448628231938365,
          40.44857688556518,
          40.44851054914833,
          40.448435641245815,
          40.448362208618704,
          40.44829960056434,
          40.448247201872434,
          40.44819294117368,
          40.44813991471029,
          40.44808926872422,
          40.44803836050828,
          40.44798959744665,
          40.447939122807234,
          40.447907440755884,
          40.4478929539939,
          40.44788477492509,
          40.44788282511638,
          40.44788277225325,
          40.447881859641406,
          40.44788093952597,
          40.44787933870018,
          40.44787041538757,
          40.44785116670433,
          40.447843059606726,
          40.44787420027847,
          40.44796080978107,
          40.4480934072743,
          40.44823860176034,
          40.44837100817347,
          40.44851922089712,
          40.448559210166536,
          40.44855748851869,
          40.448542798160965,
          40.4485260400231,
          40.44852183194181,
          40.44853127256408,
          40.4485344442016,
          40.4485326041995,
          40.44852457363588,
          40.448522960829514,
          40.44851984344957,
          40.44851503863682,
          40.44851030188291,
          40.44850159449954,
          40.44848641574789,
          40.44845126769182,
          40.44842237362099,
          40.4483977302919,
          40.448372302969815,
          40.44834862222953,
          40.448340280257796,
          40.44833943094953,
          40.44836112156319,
          40.44842102703932,
          40.44850876053394,
          40.448618201943525,
          40.448742581742366,
          40.44890305938104,
          40.449078780250936,
          40.44925820038981,
          40.44951466543828,
          40.44966100032818,
          40.4497824322774,
          40.44988437724639,
          40.4499687092616,
          40.450017996213894,
          40.45004616590397,
          40.45004985653404,
          40.45006127314143,
          40.45006238274782,
          40.45006535433086,
          40.45007295872518,
          40.450075338598396,
          40.450101585462534,
          40.45015380046655,
          40.450242880540436,
          40.450349479084814,
          40.45046570703184,
          40.450690040097605,
          40.450873894800324,
          40.45105503619113,
          40.451235874892404,
          40.45139596117038,
          40.4516589354424,
          40.451799452664545,
          40.45193194673157,
          40.45202709020315,
          40.452096985931014,
          40.45212509833601,
          40.45201224230819,
          40.452113618131676,
          40.452113618131676,
          40.45212402179659,
          40.45215082809134,
          40.452194619309616
         ],
         "line": {
          "color": "purple",
          "width": 2
         },
         "lon": [
          -3.7052010468764154,
          -3.7050899967822875,
          -3.7053149681954443,
          -3.7053336569009763,
          -3.705327954445885,
          -3.7053267335216264,
          -3.705345735521233,
          -3.7053508822534305,
          -3.705359968990183,
          -3.7053656667916703,
          -3.705370089239909,
          -3.705382651541665,
          -3.705400451370943,
          -3.7054113128097153,
          -3.7054130090075166,
          -3.705442918120206,
          -3.70543633604038,
          -3.705450656117454,
          -3.7054970782680794,
          -3.705533827702722,
          -3.7055666434074426,
          -3.7055689894718,
          -3.705552704323477,
          -3.7055352746418793,
          -3.7055300867798002,
          -3.7055284208945,
          -3.7055275767053955,
          -3.7055274150366455,
          -3.705531428284225,
          -3.7055295070686007,
          -3.7055295070686007,
          -3.7055295070686007,
          -3.705532963430742,
          -3.7055436354875217,
          -3.7055862633940233,
          -3.7056295655179983,
          -3.70566694281025,
          -3.705697109185908,
          -3.705725859435428,
          -3.705743570489259,
          -3.7057404578769466,
          -3.7057404578769466,
          -3.7057566568387976,
          -3.705834925440593,
          -3.705993492532433,
          -3.7061938854068637,
          -3.7064110405189066,
          -3.706642517786405,
          -3.7068675744665724,
          -3.7070737719493896,
          -3.707274653486256,
          -3.7074578083655942,
          -3.7076188684573625,
          -3.7077974162489538,
          -3.707886075567274,
          -3.7079183476018693,
          -3.707909026855082,
          -3.707907606005725,
          -3.707907606005725,
          -3.707907606005725,
          -3.707907606005725,
          -3.707907606005725,
          -3.707907606005725,
          -3.7079093439405737,
          -3.7079438990257265,
          -3.7080207208452407,
          -3.708125138429427,
          -3.7082400907785056,
          -3.70836292530595,
          -3.7085119353880653,
          -3.7087506170354305,
          -3.7088814583816996,
          -3.7090052947707455,
          -3.7091344654316245,
          -3.7092669381525467,
          -3.709412511120793,
          -3.7095783393394752,
          -3.7097251903702153,
          -3.7098621666392595,
          -3.7100002439002693,
          -3.710130821188961,
          -3.710261041548992,
          -3.710398626407592,
          -3.710541507984318,
          -3.7106781344159447,
          -3.710799112933124,
          -3.7108902772247068,
          -3.710913512190139,
          -3.7109385657996885,
          -3.7109256188373605,
          -3.7109287431020825,
          -3.710950547538286,
          -3.7110114516257906,
          -3.7111446912706887,
          -3.7112675982150614,
          -3.7113934420127452,
          -3.7114994490712383,
          -3.711581420635266,
          -3.7116374179125757,
          -3.7116908034815705,
          -3.7117186201329773,
          -3.7117167100890103,
          -3.7117148042080332,
          -3.7117148042080332,
          -3.7117148042080332,
          -3.7117148042080332,
          -3.7117148042080332,
          -3.7117148042080332,
          -3.711729513237492,
          -3.7117898755620478,
          -3.7118780419581947,
          -3.7119646387046132,
          -3.712070446354489,
          -3.712199274166417,
          -3.7123578480097397,
          -3.712549317337179,
          -3.7127665542345016,
          -3.7129990309855065,
          -3.7132184177164334,
          -3.713411325274393,
          -3.713564604769254,
          -3.7137213018084823,
          -3.7137459585255685,
          -3.7137857384555595,
          -3.713837372628031,
          -3.713892530797555,
          -3.7139358323783833,
          -3.7139400156377373,
          -3.713930783056254,
          -3.713926735990964,
          -3.713926735990964,
          -3.713926735990964,
          -3.713926735990964,
          -3.7139293415425034,
          -3.713941890023651,
          -3.7139345004324835,
          -3.7140208705872046,
          -3.71409669758787,
          -3.7142059885483354,
          -3.7142738596168545,
          -3.7143312686535714,
          -3.714366007281548,
          -3.7144077471435977,
          -3.714485993211807,
          -3.7145978945784113,
          -3.714724226712357,
          -3.7148492091518595,
          -3.7150195623901623,
          -3.7152164487366273,
          -3.715431541694746,
          -3.7156385220959467,
          -3.715919125448928,
          -3.716080979713336,
          -3.7161737098676095,
          -3.716219234073622,
          -3.716246984031062,
          -3.7162519723438385,
          -3.716240826489752,
          -3.716237810890956,
          -3.716237810890956,
          -3.716237810890956,
          -3.716237810890956,
          -3.716237810890956,
          -3.716237810890956,
          -3.716237810890956,
          -3.716237810890956,
          -3.7162389207150985,
          -3.7162974767297543,
          -3.7163753052879747,
          -3.716449456264717,
          -3.71649740587723,
          -3.7165136692846157,
          -3.716509221208434,
          -3.7165042287173606,
          -3.7165042287173606,
          -3.7165042287173606,
          -3.7165033875941718,
          -3.7165037108721832,
          -3.7164884610887525,
          -3.7165144668048384,
          -3.716592224925223,
          -3.7167956164696014,
          -3.7169500575652763,
          -3.717086400174914,
          -3.7171711535479175,
          -3.7171951317475043,
          -3.7171804008584313,
          -3.717173098083573,
          -3.7171786428796563,
          -3.7171786428796563,
          -3.7171786428796563,
          -3.7171786428796563,
          -3.7171786428796563,
          -3.71718598728283,
          -3.7172446693373744,
          -3.717353227191062,
          -3.7175261436395957,
          -3.7177531000769437,
          -3.71813260078039,
          -3.7183699046595526,
          -3.7186033546194124,
          -3.718842774997474,
          -3.71907467546899,
          -3.7193104078372357,
          -3.719538294604374,
          -3.7197636541898658,
          -3.7199766080211254,
          -3.720174650397203,
          -3.7203544993048165,
          -3.720506094218353,
          -3.720613966389129,
          -3.7206704640776156,
          -3.7206713632935724,
          -3.72066914631062,
          -3.72066914631062,
          -3.7206743414562435,
          -3.7207226004630205,
          -3.720840806394777,
          -3.721030221278264,
          -3.7212428041179413,
          -3.7214670134667744,
          -3.721743972026,
          -3.7220039582173263,
          -3.722277681158739,
          -3.7225622105785887,
          -3.722852641947117,
          -3.723146507266807,
          -3.723426049797007,
          -3.723675798435602,
          -3.7239819330199992,
          -3.7241233280183947,
          -3.7241964167216186,
          -3.7242176935197198,
          -3.7242208714441936,
          -3.7242246859408863,
          -3.7242302178883926,
          -3.7242528345597408,
          -3.72427918214839,
          -3.7243297776141486,
          -3.7244147901169375,
          -3.7245208385822166,
          -3.724636938721136,
          -3.7247390839039065,
          -3.7247941719353816,
          -3.724822478781897,
          -3.7248633421614596,
          -3.7250040858667552,
          -3.725139170858053,
          -3.725278571637065,
          -3.725414183716755,
          -3.7255357031856566,
          -3.725652573970368,
          -3.7257455259563166,
          -3.7257757549959156,
          -3.7257618244205686,
          -3.7257362854557337,
          -3.7257282637624245,
          -3.7257340515465365,
          -3.7257391444685286,
          -3.7257543523526047,
          -3.725802178564007,
          -3.7258884674522434,
          -3.7260809594333937,
          -3.726241584059163,
          -3.7264197834655537,
          -3.7265890488932842,
          -3.7267288621017074,
          -3.7268365320933503,
          -3.726933187605345,
          -3.7270305084703623,
          -3.72712373578382,
          -3.7271702445280166,
          -3.727213330521421,
          -3.727267820744127,
          -3.727314311158664,
          -3.7273646831970066,
          -3.7274151271378657,
          -3.727479285314048,
          -3.727512238676782,
          -3.7275187433039263,
          -3.727521379372542,
          -3.727524842379147,
          -3.727531012472255,
          -3.727534590978699,
          -3.7275312766791475,
          -3.727529792681699,
          -3.7275289823908735,
          -3.727527942014814,
          -3.727523640547289,
          -3.727522795294742,
          -3.7275191916167763,
          -3.7275183326946495,
          -3.7275347482132664,
          -3.7275634999661924,
          -3.7275852229586235,
          -3.7276175992288354,
          -3.7276371302296285,
          -3.727653131002257,
          -3.727670483296761,
          -3.72765180815229,
          -3.7277108867356206,
          -3.7277195903074367,
          -3.7277332970027888,
          -3.7277550952809753,
          -3.7277640849592752,
          -3.7277670016863493,
          -3.727717556723474,
          -3.7277667737340807,
          -3.7277667737340807,
          -3.727757415770494,
          -3.7277511586472576,
          -3.727734681278653
         ],
         "mode": "lines",
         "name": "Tracked path",
         "text": "Real path",
         "type": "scattermapbox"
        },
        {
         "hoverinfo": "text",
         "lat": [
          40.4473124627216,
          40.4470533483798,
          40.446513351178304,
          40.446913348459994,
          40.4481233413969,
          40.44930768943521,
          40.4491733350014,
          40.44809793530409,
          40.4484633379866,
          40.4501033281307,
          40.4522133168428
         ],
         "line": {
          "color": "blue",
          "width": 2
         },
         "lon": [
          -3.70769039332613,
          -3.7103054859102897,
          -3.71252556505459,
          -3.71398560997398,
          -3.71473562579644,
          -3.71724920499121,
          -3.71902576138028,
          -3.72417123249219,
          -3.72710603508681,
          -3.72742603693574,
          -3.72780603371906
         ],
         "mode": "lines",
         "name": "Orig- Calculated path",
         "text": "Experiment path",
         "type": "scattermapbox"
        },
        {
         "hoverinfo": "text",
         "lat": [
          40.4473124627216,
          40.4473124627216,
          40.447233347935,
          40.44718334795871,
          40.4472333469022,
          40.4471433482974,
          40.44716334852461,
          40.447213348355696,
          40.447213348355696,
          40.447213348355696,
          40.4473124627216,
          40.4473124627216,
          40.447233347935,
          40.44718334795871,
          40.447213348355696,
          40.447213348355696,
          40.447213348355696,
          40.4473124627216,
          40.447233347935,
          40.44718334795871,
          40.447213348355696,
          40.447213348355696,
          40.4473124627216,
          40.4473124627216,
          40.44718334795871,
          40.4472333469022,
          40.4472333469022,
          40.4472333469022,
          40.4472333469022,
          40.4470533483798,
          40.4470533483798,
          40.4470533483798,
          40.447013348755796,
          40.446967610178795,
          40.446967610178795,
          40.4466233518349,
          40.4466233518349,
          40.44656335109431,
          40.446513351178304,
          40.446513351178304,
          40.4462133536578,
          40.4462133536578,
          40.44656335109431,
          40.446513351178304,
          40.446513351178304,
          40.4462133536578,
          40.4462133536578,
          40.446343352976704,
          40.44667587519809,
          40.446913348459994,
          40.446913348459994,
          40.4479733434454,
          40.4479733434454,
          40.4479733434454,
          40.4481233413969,
          40.448333339926094,
          40.448413340836,
          40.448413340836,
          40.446913348459994,
          40.4479733434454,
          40.4479733434454,
          40.4481233413969,
          40.448153342832704,
          40.448333339926094,
          40.448413340836,
          40.4486833382592,
          40.4486833382592,
          40.4488433377142,
          40.449193335637396,
          40.449283335483905,
          40.4493133354394,
          40.44928333593379,
          40.44930768943521,
          40.4492533346594,
          40.4492533346594,
          40.449203335672095,
          40.449393334552,
          40.4493133354394,
          40.44928333593379,
          40.44930768943521,
          40.4492533346594,
          40.4492533346594,
          40.449203335672095,
          40.4491733350014,
          40.44913333548649,
          40.4491133361609,
          40.449043335367605,
          40.448875768442896,
          40.44869333710209,
          40.4485733389492,
          40.44844333972,
          40.448393338966,
          40.448393338966,
          40.448393338966,
          40.44809793530409,
          40.44809793530409,
          40.44809793530409,
          40.44797334222631,
          40.4480933413107,
          40.4482233405767,
          40.448503338433596,
          40.4486433383896,
          40.448613338684495,
          40.4486413259498,
          40.44855333770271,
          40.4484633379866,
          40.4484633379866,
          40.448613337032,
          40.44894333634711,
          40.4493633326238,
          40.4493633326238,
          40.449503332849005,
          40.4501033281307,
          40.4502443281788,
          40.449503332849005,
          40.449503332849005,
          40.4501033281307,
          40.4502443281788,
          40.450643325502895,
          40.450643325502895,
          40.4510833235849,
          40.45150332027351,
          40.45150332027351,
          40.45150332027351,
          40.45150332027351,
          40.45150332027351,
          40.4522133168428,
          40.4522133168428
         ],
         "line": {
          "color": "green",
          "width": 2
         },
         "lon": [
          -3.70769039332613,
          -3.70769039332613,
          -3.7079954093561,
          -3.70818541597936,
          -3.70850542452957,
          -3.70562533051365,
          -3.70600534331958,
          -3.70679536733352,
          -3.70679536733352,
          -3.70679536733352,
          -3.70769039332613,
          -3.70769039332613,
          -3.7079954093561,
          -3.70818541597936,
          -3.70679536733352,
          -3.70679536733352,
          -3.70679536733352,
          -3.70769039332613,
          -3.7079954093561,
          -3.70818541597936,
          -3.70679536733352,
          -3.70679536733352,
          -3.70769039332613,
          -3.70769039332613,
          -3.70818541597936,
          -3.70850542452957,
          -3.70850542452957,
          -3.70850542452957,
          -3.70850542452957,
          -3.7103054859102897,
          -3.7103054859102897,
          -3.7103054859102897,
          -3.7104654907361,
          -3.71104102431664,
          -3.71104102431664,
          -3.7120855488067206,
          -3.7120855488067206,
          -3.71232555607686,
          -3.71252556505459,
          -3.71252556505459,
          -3.71366560340452,
          -3.71366560340452,
          -3.71232555607686,
          -3.71252556505459,
          -3.71252556505459,
          -3.71366560340452,
          -3.71366560340452,
          -3.71372560572556,
          -3.71379739834542,
          -3.71398560997398,
          -3.71398560997398,
          -3.71443561762829,
          -3.71443561762829,
          -3.71443561762829,
          -3.71473562579644,
          -3.71526564201011,
          -3.7154556477586,
          -3.7154556477586,
          -3.71398560997398,
          -3.71443561762829,
          -3.71443561762829,
          -3.71473562579644,
          -3.7148256295913695,
          -3.71526564201011,
          -3.7154556477586,
          -3.71615567077284,
          -3.71615567077284,
          -3.71659568329058,
          -3.71635567228234,
          -3.7161756660304506,
          -3.71646567568366,
          -3.71674568556018,
          -3.71724920499121,
          -3.71762571501709,
          -3.71762571501709,
          -3.7187557536793694,
          -3.71624566771097,
          -3.71646567568366,
          -3.71674568556018,
          -3.71724920499121,
          -3.71762571501709,
          -3.71762571501709,
          -3.7187557536793694,
          -3.71902576138028,
          -3.7193957748250894,
          -3.71955578046255,
          -3.72003579675278,
          -3.72079353897085,
          -3.72121583751552,
          -3.72161585253015,
          -3.72221587333771,
          -3.72246588176776,
          -3.72246588176776,
          -3.72246588176776,
          -3.72417123249219,
          -3.72417123249219,
          -3.72417123249219,
          -3.72450595378074,
          -3.72479596142121,
          -3.72482596301171,
          -3.72491596395184,
          -3.72521597245416,
          -3.72557598526023,
          -3.72587374880962,
          -3.72614600490307,
          -3.72710603508681,
          -3.72710603508681,
          -3.72716603798293,
          -3.72723603681798,
          -3.72729603758988,
          -3.72729603758988,
          -3.72731603563837,
          -3.72742603693574,
          -3.72740417078592,
          -3.72731603563837,
          -3.72731603563837,
          -3.72742603693574,
          -3.72740417078592,
          -3.72752603476766,
          -3.72752603476766,
          -3.72760603673404,
          -3.72768603601667,
          -3.72768603601667,
          -3.72768603601667,
          -3.72768603601667,
          -3.72768603601667,
          -3.72780603371906,
          -3.72780603371906
         ],
         "mode": "lines",
         "name": "HF - Calculated path",
         "text": "Original path",
         "type": "scattermapbox"
        }
       ],
       "layout": {
        "height": 500,
        "hovermode": "closest",
        "mapbox": {
         "accesstoken": "pk.eyJ1IjoiYWxlanAxOTk4IiwiYSI6ImNrNnFwMmM0dDE2OHYzZXFwazZiZTdmbGcifQ.k5qPtvMgar7i9cbQx1fP0w",
         "bearing": 0,
         "center": {
          "lat": 40.44799083411279,
          "lon": -3.7162118725312467
         },
         "pitch": 0,
         "style": "mapbox://styles/alejp1998/ck6z9mohb25ni1iod4sqvqa0d",
         "zoom": 14
        },
        "margin": {
         "b": 0,
         "l": 0,
         "r": 0,
         "t": 0
        },
        "showlegend": true,
        "template": {
         "data": {
          "bar": [
           {
            "error_x": {
             "color": "#2a3f5f"
            },
            "error_y": {
             "color": "#2a3f5f"
            },
            "marker": {
             "line": {
              "color": "white",
              "width": 0.5
             }
            },
            "type": "bar"
           }
          ],
          "barpolar": [
           {
            "marker": {
             "line": {
              "color": "white",
              "width": 0.5
             }
            },
            "type": "barpolar"
           }
          ],
          "carpet": [
           {
            "aaxis": {
             "endlinecolor": "#2a3f5f",
             "gridcolor": "#C8D4E3",
             "linecolor": "#C8D4E3",
             "minorgridcolor": "#C8D4E3",
             "startlinecolor": "#2a3f5f"
            },
            "baxis": {
             "endlinecolor": "#2a3f5f",
             "gridcolor": "#C8D4E3",
             "linecolor": "#C8D4E3",
             "minorgridcolor": "#C8D4E3",
             "startlinecolor": "#2a3f5f"
            },
            "type": "carpet"
           }
          ],
          "choropleth": [
           {
            "colorbar": {
             "outlinewidth": 0,
             "ticks": ""
            },
            "type": "choropleth"
           }
          ],
          "contour": [
           {
            "colorbar": {
             "outlinewidth": 0,
             "ticks": ""
            },
            "colorscale": [
             [
              0,
              "#0d0887"
             ],
             [
              0.1111111111111111,
              "#46039f"
             ],
             [
              0.2222222222222222,
              "#7201a8"
             ],
             [
              0.3333333333333333,
              "#9c179e"
             ],
             [
              0.4444444444444444,
              "#bd3786"
             ],
             [
              0.5555555555555556,
              "#d8576b"
             ],
             [
              0.6666666666666666,
              "#ed7953"
             ],
             [
              0.7777777777777778,
              "#fb9f3a"
             ],
             [
              0.8888888888888888,
              "#fdca26"
             ],
             [
              1,
              "#f0f921"
             ]
            ],
            "type": "contour"
           }
          ],
          "contourcarpet": [
           {
            "colorbar": {
             "outlinewidth": 0,
             "ticks": ""
            },
            "type": "contourcarpet"
           }
          ],
          "heatmap": [
           {
            "colorbar": {
             "outlinewidth": 0,
             "ticks": ""
            },
            "colorscale": [
             [
              0,
              "#0d0887"
             ],
             [
              0.1111111111111111,
              "#46039f"
             ],
             [
              0.2222222222222222,
              "#7201a8"
             ],
             [
              0.3333333333333333,
              "#9c179e"
             ],
             [
              0.4444444444444444,
              "#bd3786"
             ],
             [
              0.5555555555555556,
              "#d8576b"
             ],
             [
              0.6666666666666666,
              "#ed7953"
             ],
             [
              0.7777777777777778,
              "#fb9f3a"
             ],
             [
              0.8888888888888888,
              "#fdca26"
             ],
             [
              1,
              "#f0f921"
             ]
            ],
            "type": "heatmap"
           }
          ],
          "heatmapgl": [
           {
            "colorbar": {
             "outlinewidth": 0,
             "ticks": ""
            },
            "colorscale": [
             [
              0,
              "#0d0887"
             ],
             [
              0.1111111111111111,
              "#46039f"
             ],
             [
              0.2222222222222222,
              "#7201a8"
             ],
             [
              0.3333333333333333,
              "#9c179e"
             ],
             [
              0.4444444444444444,
              "#bd3786"
             ],
             [
              0.5555555555555556,
              "#d8576b"
             ],
             [
              0.6666666666666666,
              "#ed7953"
             ],
             [
              0.7777777777777778,
              "#fb9f3a"
             ],
             [
              0.8888888888888888,
              "#fdca26"
             ],
             [
              1,
              "#f0f921"
             ]
            ],
            "type": "heatmapgl"
           }
          ],
          "histogram": [
           {
            "marker": {
             "colorbar": {
              "outlinewidth": 0,
              "ticks": ""
             }
            },
            "type": "histogram"
           }
          ],
          "histogram2d": [
           {
            "colorbar": {
             "outlinewidth": 0,
             "ticks": ""
            },
            "colorscale": [
             [
              0,
              "#0d0887"
             ],
             [
              0.1111111111111111,
              "#46039f"
             ],
             [
              0.2222222222222222,
              "#7201a8"
             ],
             [
              0.3333333333333333,
              "#9c179e"
             ],
             [
              0.4444444444444444,
              "#bd3786"
             ],
             [
              0.5555555555555556,
              "#d8576b"
             ],
             [
              0.6666666666666666,
              "#ed7953"
             ],
             [
              0.7777777777777778,
              "#fb9f3a"
             ],
             [
              0.8888888888888888,
              "#fdca26"
             ],
             [
              1,
              "#f0f921"
             ]
            ],
            "type": "histogram2d"
           }
          ],
          "histogram2dcontour": [
           {
            "colorbar": {
             "outlinewidth": 0,
             "ticks": ""
            },
            "colorscale": [
             [
              0,
              "#0d0887"
             ],
             [
              0.1111111111111111,
              "#46039f"
             ],
             [
              0.2222222222222222,
              "#7201a8"
             ],
             [
              0.3333333333333333,
              "#9c179e"
             ],
             [
              0.4444444444444444,
              "#bd3786"
             ],
             [
              0.5555555555555556,
              "#d8576b"
             ],
             [
              0.6666666666666666,
              "#ed7953"
             ],
             [
              0.7777777777777778,
              "#fb9f3a"
             ],
             [
              0.8888888888888888,
              "#fdca26"
             ],
             [
              1,
              "#f0f921"
             ]
            ],
            "type": "histogram2dcontour"
           }
          ],
          "mesh3d": [
           {
            "colorbar": {
             "outlinewidth": 0,
             "ticks": ""
            },
            "type": "mesh3d"
           }
          ],
          "parcoords": [
           {
            "line": {
             "colorbar": {
              "outlinewidth": 0,
              "ticks": ""
             }
            },
            "type": "parcoords"
           }
          ],
          "pie": [
           {
            "automargin": true,
            "type": "pie"
           }
          ],
          "scatter": [
           {
            "marker": {
             "colorbar": {
              "outlinewidth": 0,
              "ticks": ""
             }
            },
            "type": "scatter"
           }
          ],
          "scatter3d": [
           {
            "line": {
             "colorbar": {
              "outlinewidth": 0,
              "ticks": ""
             }
            },
            "marker": {
             "colorbar": {
              "outlinewidth": 0,
              "ticks": ""
             }
            },
            "type": "scatter3d"
           }
          ],
          "scattercarpet": [
           {
            "marker": {
             "colorbar": {
              "outlinewidth": 0,
              "ticks": ""
             }
            },
            "type": "scattercarpet"
           }
          ],
          "scattergeo": [
           {
            "marker": {
             "colorbar": {
              "outlinewidth": 0,
              "ticks": ""
             }
            },
            "type": "scattergeo"
           }
          ],
          "scattergl": [
           {
            "marker": {
             "colorbar": {
              "outlinewidth": 0,
              "ticks": ""
             }
            },
            "type": "scattergl"
           }
          ],
          "scattermapbox": [
           {
            "marker": {
             "colorbar": {
              "outlinewidth": 0,
              "ticks": ""
             }
            },
            "type": "scattermapbox"
           }
          ],
          "scatterpolar": [
           {
            "marker": {
             "colorbar": {
              "outlinewidth": 0,
              "ticks": ""
             }
            },
            "type": "scatterpolar"
           }
          ],
          "scatterpolargl": [
           {
            "marker": {
             "colorbar": {
              "outlinewidth": 0,
              "ticks": ""
             }
            },
            "type": "scatterpolargl"
           }
          ],
          "scatterternary": [
           {
            "marker": {
             "colorbar": {
              "outlinewidth": 0,
              "ticks": ""
             }
            },
            "type": "scatterternary"
           }
          ],
          "surface": [
           {
            "colorbar": {
             "outlinewidth": 0,
             "ticks": ""
            },
            "colorscale": [
             [
              0,
              "#0d0887"
             ],
             [
              0.1111111111111111,
              "#46039f"
             ],
             [
              0.2222222222222222,
              "#7201a8"
             ],
             [
              0.3333333333333333,
              "#9c179e"
             ],
             [
              0.4444444444444444,
              "#bd3786"
             ],
             [
              0.5555555555555556,
              "#d8576b"
             ],
             [
              0.6666666666666666,
              "#ed7953"
             ],
             [
              0.7777777777777778,
              "#fb9f3a"
             ],
             [
              0.8888888888888888,
              "#fdca26"
             ],
             [
              1,
              "#f0f921"
             ]
            ],
            "type": "surface"
           }
          ],
          "table": [
           {
            "cells": {
             "fill": {
              "color": "#EBF0F8"
             },
             "line": {
              "color": "white"
             }
            },
            "header": {
             "fill": {
              "color": "#C8D4E3"
             },
             "line": {
              "color": "white"
             }
            },
            "type": "table"
           }
          ]
         },
         "layout": {
          "annotationdefaults": {
           "arrowcolor": "#2a3f5f",
           "arrowhead": 0,
           "arrowwidth": 1
          },
          "coloraxis": {
           "colorbar": {
            "outlinewidth": 0,
            "ticks": ""
           }
          },
          "colorscale": {
           "diverging": [
            [
             0,
             "#8e0152"
            ],
            [
             0.1,
             "#c51b7d"
            ],
            [
             0.2,
             "#de77ae"
            ],
            [
             0.3,
             "#f1b6da"
            ],
            [
             0.4,
             "#fde0ef"
            ],
            [
             0.5,
             "#f7f7f7"
            ],
            [
             0.6,
             "#e6f5d0"
            ],
            [
             0.7,
             "#b8e186"
            ],
            [
             0.8,
             "#7fbc41"
            ],
            [
             0.9,
             "#4d9221"
            ],
            [
             1,
             "#276419"
            ]
           ],
           "sequential": [
            [
             0,
             "#0d0887"
            ],
            [
             0.1111111111111111,
             "#46039f"
            ],
            [
             0.2222222222222222,
             "#7201a8"
            ],
            [
             0.3333333333333333,
             "#9c179e"
            ],
            [
             0.4444444444444444,
             "#bd3786"
            ],
            [
             0.5555555555555556,
             "#d8576b"
            ],
            [
             0.6666666666666666,
             "#ed7953"
            ],
            [
             0.7777777777777778,
             "#fb9f3a"
            ],
            [
             0.8888888888888888,
             "#fdca26"
            ],
            [
             1,
             "#f0f921"
            ]
           ],
           "sequentialminus": [
            [
             0,
             "#0d0887"
            ],
            [
             0.1111111111111111,
             "#46039f"
            ],
            [
             0.2222222222222222,
             "#7201a8"
            ],
            [
             0.3333333333333333,
             "#9c179e"
            ],
            [
             0.4444444444444444,
             "#bd3786"
            ],
            [
             0.5555555555555556,
             "#d8576b"
            ],
            [
             0.6666666666666666,
             "#ed7953"
            ],
            [
             0.7777777777777778,
             "#fb9f3a"
            ],
            [
             0.8888888888888888,
             "#fdca26"
            ],
            [
             1,
             "#f0f921"
            ]
           ]
          },
          "colorway": [
           "#636efa",
           "#EF553B",
           "#00cc96",
           "#ab63fa",
           "#FFA15A",
           "#19d3f3",
           "#FF6692",
           "#B6E880",
           "#FF97FF",
           "#FECB52"
          ],
          "font": {
           "color": "#2a3f5f"
          },
          "geo": {
           "bgcolor": "white",
           "lakecolor": "white",
           "landcolor": "white",
           "showlakes": true,
           "showland": true,
           "subunitcolor": "#C8D4E3"
          },
          "hoverlabel": {
           "align": "left"
          },
          "hovermode": "closest",
          "mapbox": {
           "style": "light"
          },
          "paper_bgcolor": "white",
          "plot_bgcolor": "white",
          "polar": {
           "angularaxis": {
            "gridcolor": "#EBF0F8",
            "linecolor": "#EBF0F8",
            "ticks": ""
           },
           "bgcolor": "white",
           "radialaxis": {
            "gridcolor": "#EBF0F8",
            "linecolor": "#EBF0F8",
            "ticks": ""
           }
          },
          "scene": {
           "xaxis": {
            "backgroundcolor": "white",
            "gridcolor": "#DFE8F3",
            "gridwidth": 2,
            "linecolor": "#EBF0F8",
            "showbackground": true,
            "ticks": "",
            "zerolinecolor": "#EBF0F8"
           },
           "yaxis": {
            "backgroundcolor": "white",
            "gridcolor": "#DFE8F3",
            "gridwidth": 2,
            "linecolor": "#EBF0F8",
            "showbackground": true,
            "ticks": "",
            "zerolinecolor": "#EBF0F8"
           },
           "zaxis": {
            "backgroundcolor": "white",
            "gridcolor": "#DFE8F3",
            "gridwidth": 2,
            "linecolor": "#EBF0F8",
            "showbackground": true,
            "ticks": "",
            "zerolinecolor": "#EBF0F8"
           }
          },
          "shapedefaults": {
           "line": {
            "color": "#2a3f5f"
           }
          },
          "ternary": {
           "aaxis": {
            "gridcolor": "#DFE8F3",
            "linecolor": "#A2B1C6",
            "ticks": ""
           },
           "baxis": {
            "gridcolor": "#DFE8F3",
            "linecolor": "#A2B1C6",
            "ticks": ""
           },
           "bgcolor": "white",
           "caxis": {
            "gridcolor": "#DFE8F3",
            "linecolor": "#A2B1C6",
            "ticks": ""
           }
          },
          "title": {
           "x": 0.05
          },
          "xaxis": {
           "automargin": true,
           "gridcolor": "#EBF0F8",
           "linecolor": "#EBF0F8",
           "ticks": "",
           "title": {
            "standoff": 15
           },
           "zerolinecolor": "#EBF0F8",
           "zerolinewidth": 2
          },
          "yaxis": {
           "automargin": true,
           "gridcolor": "#EBF0F8",
           "linecolor": "#EBF0F8",
           "ticks": "",
           "title": {
            "standoff": 15
           },
           "zerolinecolor": "#EBF0F8",
           "zerolinewidth": 2
          }
         }
        },
        "title": {
         "text": "Pair bus coords when it arrives to stop vs the coords of that stop"
        }
       }
      },
      "text/html": [
       "<div>\n",
       "        \n",
       "        \n",
       "            <div id=\"e3d1b1ff-cc08-4493-b494-f421aa172aad\" class=\"plotly-graph-div\" style=\"height:500px; width:100%;\"></div>\n",
       "            <script type=\"text/javascript\">\n",
       "                require([\"plotly\"], function(Plotly) {\n",
       "                    window.PLOTLYENV=window.PLOTLYENV || {};\n",
       "                    \n",
       "                if (document.getElementById(\"e3d1b1ff-cc08-4493-b494-f421aa172aad\")) {\n",
       "                    Plotly.newPlot(\n",
       "                        'e3d1b1ff-cc08-4493-b494-f421aa172aad',\n",
       "                        [{\"hoverinfo\": \"text\", \"lat\": [40.446766208798, 40.44700513696822, 40.44673094565124, 40.44671465246461, 40.44673321624735, 40.4467391117401, 40.446738471957566, 40.44672585856044, 40.4467148812651, 40.446716184979955, 40.44672453354607, 40.44673371901647, 40.44672991451675, 40.44671015585849, 40.44670181190481, 40.44666597286184, 40.44666875960167, 40.44666913177827, 40.44666725433251, 40.44666328706852, 40.446654537332066, 40.446674486556205, 40.44668790061233, 40.44669595930792, 40.44669219955264, 40.44670420077316, 40.44670801318834, 40.446718831041466, 40.44672504123623, 40.44672952905814, 40.44672952905814, 40.44672952905814, 40.44672741026464, 40.446720808502135, 40.4467476074084, 40.446778584751705, 40.446803842585524, 40.446849223700085, 40.44687077240438, 40.44687808076316, 40.446882026775626, 40.446882026775626, 40.44691237866696, 40.44692282488942, 40.44692583334583, 40.446935401845266, 40.44693860539393, 40.446945734014136, 40.446951046678215, 40.44695510661688, 40.44697232442102, 40.44699704839841, 40.44700537695799, 40.44704992232774, 40.44708802204004, 40.44710605508429, 40.44710067857115, 40.44709976869237, 40.44709976869237, 40.44709976869237, 40.44709976869237, 40.44709976869237, 40.44709976869237, 40.44709852397708, 40.44709289412352, 40.44709136640431, 40.447091770395126, 40.447096103772964, 40.44709648980885, 40.4471159379105, 40.44715737565564, 40.44716598224045, 40.44716739955802, 40.44716949740309, 40.447169921927134, 40.44714538192061, 40.447102974345796, 40.44705911349034, 40.447009096875256, 40.4469684009537, 40.44694750705021, 40.44690957472738, 40.446840232628084, 40.44677776784524, 40.446733384261414, 40.44670083030654, 40.4466712114506, 40.44664729884058, 40.44665523573822, 40.446648099510746, 40.44664244014996, 40.44663255268687, 40.446628871331136, 40.4466298667082, 40.44660802955234, 40.44659226902699, 40.44656036941478, 40.446529373891515, 40.44651030459854, 40.446495663552966, 40.446494556198324, 40.44649596214369, 40.44649378102674, 40.44649378102674, 40.44649378102674, 40.44649378102674, 40.44649378102674, 40.44649378102674, 40.44649364787947, 40.44647785488544, 40.446470511061214, 40.446446657184325, 40.44641146167192, 40.44637712387369, 40.446341164973695, 40.4463045179273, 40.44624628975241, 40.446172009863176, 40.44611695579147, 40.446071257423874, 40.446046495747915, 40.44608680429978, 40.44616055347929, 40.44625163698584, 40.44633073667623, 40.44638522070047, 40.44641475373893, 40.446413225951765, 40.44640941550286, 40.44641323066374, 40.44641323066374, 40.44641323066374, 40.44641323066374, 40.44644447373806, 40.446500767839254, 40.446657784226424, 40.44677453694801, 40.44689639822926, 40.44709391412003, 40.44724094281161, 40.44738556574043, 40.44752642816514, 40.44765923278733, 40.44776602997401, 40.447851961273905, 40.44791598190597, 40.4479942357152, 40.44808243672292, 40.448164220754364, 40.44825202239654, 40.448338654291824, 40.44846049189604, 40.44848992797901, 40.44850270463518, 40.448523563734206, 40.448561917714585, 40.4485720318733, 40.44857273393515, 40.44857260007451, 40.44857260007451, 40.44857260007451, 40.44857260007451, 40.44857260007451, 40.44857260007451, 40.44857260007451, 40.44857260007451, 40.44857503962415, 40.448617737290796, 40.44865264087205, 40.448691954705126, 40.44873306976843, 40.448778479803835, 40.44878777165573, 40.448783229867786, 40.448783229867786, 40.448783229867786, 40.44879652263919, 40.44884942837542, 40.448933738018006, 40.44903525518529, 40.44912657471619, 40.449179158032436, 40.44917182414493, 40.44916502498263, 40.449167301354734, 40.44916468154292, 40.44917338474453, 40.44918158007398, 40.449182876852824, 40.449182876852824, 40.449182876852824, 40.449182876852824, 40.449182876852824, 40.44918368740286, 40.4491798905015, 40.44915887341544, 40.449135595653495, 40.44911236921058, 40.449091838820955, 40.44908285781343, 40.449065768625, 40.449046435468375, 40.4490016398154, 40.44896852686601, 40.44893394702529, 40.44889703292569, 40.448862931201226, 40.44880562535006, 40.448762669476636, 40.448721763965835, 40.44868653373942, 40.44867901544052, 40.4486841538126, 40.44868834993792, 40.44868834993792, 40.44868370395876, 40.44866611765467, 40.448628231938365, 40.44857688556518, 40.44851054914833, 40.448435641245815, 40.448362208618704, 40.44829960056434, 40.448247201872434, 40.44819294117368, 40.44813991471029, 40.44808926872422, 40.44803836050828, 40.44798959744665, 40.447939122807234, 40.447907440755884, 40.4478929539939, 40.44788477492509, 40.44788282511638, 40.44788277225325, 40.447881859641406, 40.44788093952597, 40.44787933870018, 40.44787041538757, 40.44785116670433, 40.447843059606726, 40.44787420027847, 40.44796080978107, 40.4480934072743, 40.44823860176034, 40.44837100817347, 40.44851922089712, 40.448559210166536, 40.44855748851869, 40.448542798160965, 40.4485260400231, 40.44852183194181, 40.44853127256408, 40.4485344442016, 40.4485326041995, 40.44852457363588, 40.448522960829514, 40.44851984344957, 40.44851503863682, 40.44851030188291, 40.44850159449954, 40.44848641574789, 40.44845126769182, 40.44842237362099, 40.4483977302919, 40.448372302969815, 40.44834862222953, 40.448340280257796, 40.44833943094953, 40.44836112156319, 40.44842102703932, 40.44850876053394, 40.448618201943525, 40.448742581742366, 40.44890305938104, 40.449078780250936, 40.44925820038981, 40.44951466543828, 40.44966100032818, 40.4497824322774, 40.44988437724639, 40.4499687092616, 40.450017996213894, 40.45004616590397, 40.45004985653404, 40.45006127314143, 40.45006238274782, 40.45006535433086, 40.45007295872518, 40.450075338598396, 40.450101585462534, 40.45015380046655, 40.450242880540436, 40.450349479084814, 40.45046570703184, 40.450690040097605, 40.450873894800324, 40.45105503619113, 40.451235874892404, 40.45139596117038, 40.4516589354424, 40.451799452664545, 40.45193194673157, 40.45202709020315, 40.452096985931014, 40.45212509833601, 40.45201224230819, 40.452113618131676, 40.452113618131676, 40.45212402179659, 40.45215082809134, 40.452194619309616], \"line\": {\"color\": \"purple\", \"width\": 2}, \"lon\": [-3.7052010468764154, -3.7050899967822875, -3.7053149681954443, -3.7053336569009763, -3.705327954445885, -3.7053267335216264, -3.705345735521233, -3.7053508822534305, -3.705359968990183, -3.7053656667916703, -3.705370089239909, -3.705382651541665, -3.705400451370943, -3.7054113128097153, -3.7054130090075166, -3.705442918120206, -3.70543633604038, -3.705450656117454, -3.7054970782680794, -3.705533827702722, -3.7055666434074426, -3.7055689894718, -3.705552704323477, -3.7055352746418793, -3.7055300867798002, -3.7055284208945, -3.7055275767053955, -3.7055274150366455, -3.705531428284225, -3.7055295070686007, -3.7055295070686007, -3.7055295070686007, -3.705532963430742, -3.7055436354875217, -3.7055862633940233, -3.7056295655179983, -3.70566694281025, -3.705697109185908, -3.705725859435428, -3.705743570489259, -3.7057404578769466, -3.7057404578769466, -3.7057566568387976, -3.705834925440593, -3.705993492532433, -3.7061938854068637, -3.7064110405189066, -3.706642517786405, -3.7068675744665724, -3.7070737719493896, -3.707274653486256, -3.7074578083655942, -3.7076188684573625, -3.7077974162489538, -3.707886075567274, -3.7079183476018693, -3.707909026855082, -3.707907606005725, -3.707907606005725, -3.707907606005725, -3.707907606005725, -3.707907606005725, -3.707907606005725, -3.7079093439405737, -3.7079438990257265, -3.7080207208452407, -3.708125138429427, -3.7082400907785056, -3.70836292530595, -3.7085119353880653, -3.7087506170354305, -3.7088814583816996, -3.7090052947707455, -3.7091344654316245, -3.7092669381525467, -3.709412511120793, -3.7095783393394752, -3.7097251903702153, -3.7098621666392595, -3.7100002439002693, -3.710130821188961, -3.710261041548992, -3.710398626407592, -3.710541507984318, -3.7106781344159447, -3.710799112933124, -3.7108902772247068, -3.710913512190139, -3.7109385657996885, -3.7109256188373605, -3.7109287431020825, -3.710950547538286, -3.7110114516257906, -3.7111446912706887, -3.7112675982150614, -3.7113934420127452, -3.7114994490712383, -3.711581420635266, -3.7116374179125757, -3.7116908034815705, -3.7117186201329773, -3.7117167100890103, -3.7117148042080332, -3.7117148042080332, -3.7117148042080332, -3.7117148042080332, -3.7117148042080332, -3.7117148042080332, -3.711729513237492, -3.7117898755620478, -3.7118780419581947, -3.7119646387046132, -3.712070446354489, -3.712199274166417, -3.7123578480097397, -3.712549317337179, -3.7127665542345016, -3.7129990309855065, -3.7132184177164334, -3.713411325274393, -3.713564604769254, -3.7137213018084823, -3.7137459585255685, -3.7137857384555595, -3.713837372628031, -3.713892530797555, -3.7139358323783833, -3.7139400156377373, -3.713930783056254, -3.713926735990964, -3.713926735990964, -3.713926735990964, -3.713926735990964, -3.7139293415425034, -3.713941890023651, -3.7139345004324835, -3.7140208705872046, -3.71409669758787, -3.7142059885483354, -3.7142738596168545, -3.7143312686535714, -3.714366007281548, -3.7144077471435977, -3.714485993211807, -3.7145978945784113, -3.714724226712357, -3.7148492091518595, -3.7150195623901623, -3.7152164487366273, -3.715431541694746, -3.7156385220959467, -3.715919125448928, -3.716080979713336, -3.7161737098676095, -3.716219234073622, -3.716246984031062, -3.7162519723438385, -3.716240826489752, -3.716237810890956, -3.716237810890956, -3.716237810890956, -3.716237810890956, -3.716237810890956, -3.716237810890956, -3.716237810890956, -3.716237810890956, -3.7162389207150985, -3.7162974767297543, -3.7163753052879747, -3.716449456264717, -3.71649740587723, -3.7165136692846157, -3.716509221208434, -3.7165042287173606, -3.7165042287173606, -3.7165042287173606, -3.7165033875941718, -3.7165037108721832, -3.7164884610887525, -3.7165144668048384, -3.716592224925223, -3.7167956164696014, -3.7169500575652763, -3.717086400174914, -3.7171711535479175, -3.7171951317475043, -3.7171804008584313, -3.717173098083573, -3.7171786428796563, -3.7171786428796563, -3.7171786428796563, -3.7171786428796563, -3.7171786428796563, -3.71718598728283, -3.7172446693373744, -3.717353227191062, -3.7175261436395957, -3.7177531000769437, -3.71813260078039, -3.7183699046595526, -3.7186033546194124, -3.718842774997474, -3.71907467546899, -3.7193104078372357, -3.719538294604374, -3.7197636541898658, -3.7199766080211254, -3.720174650397203, -3.7203544993048165, -3.720506094218353, -3.720613966389129, -3.7206704640776156, -3.7206713632935724, -3.72066914631062, -3.72066914631062, -3.7206743414562435, -3.7207226004630205, -3.720840806394777, -3.721030221278264, -3.7212428041179413, -3.7214670134667744, -3.721743972026, -3.7220039582173263, -3.722277681158739, -3.7225622105785887, -3.722852641947117, -3.723146507266807, -3.723426049797007, -3.723675798435602, -3.7239819330199992, -3.7241233280183947, -3.7241964167216186, -3.7242176935197198, -3.7242208714441936, -3.7242246859408863, -3.7242302178883926, -3.7242528345597408, -3.72427918214839, -3.7243297776141486, -3.7244147901169375, -3.7245208385822166, -3.724636938721136, -3.7247390839039065, -3.7247941719353816, -3.724822478781897, -3.7248633421614596, -3.7250040858667552, -3.725139170858053, -3.725278571637065, -3.725414183716755, -3.7255357031856566, -3.725652573970368, -3.7257455259563166, -3.7257757549959156, -3.7257618244205686, -3.7257362854557337, -3.7257282637624245, -3.7257340515465365, -3.7257391444685286, -3.7257543523526047, -3.725802178564007, -3.7258884674522434, -3.7260809594333937, -3.726241584059163, -3.7264197834655537, -3.7265890488932842, -3.7267288621017074, -3.7268365320933503, -3.726933187605345, -3.7270305084703623, -3.72712373578382, -3.7271702445280166, -3.727213330521421, -3.727267820744127, -3.727314311158664, -3.7273646831970066, -3.7274151271378657, -3.727479285314048, -3.727512238676782, -3.7275187433039263, -3.727521379372542, -3.727524842379147, -3.727531012472255, -3.727534590978699, -3.7275312766791475, -3.727529792681699, -3.7275289823908735, -3.727527942014814, -3.727523640547289, -3.727522795294742, -3.7275191916167763, -3.7275183326946495, -3.7275347482132664, -3.7275634999661924, -3.7275852229586235, -3.7276175992288354, -3.7276371302296285, -3.727653131002257, -3.727670483296761, -3.72765180815229, -3.7277108867356206, -3.7277195903074367, -3.7277332970027888, -3.7277550952809753, -3.7277640849592752, -3.7277670016863493, -3.727717556723474, -3.7277667737340807, -3.7277667737340807, -3.727757415770494, -3.7277511586472576, -3.727734681278653], \"mode\": \"lines\", \"name\": \"Tracked path\", \"text\": \"Real path\", \"type\": \"scattermapbox\"}, {\"hoverinfo\": \"text\", \"lat\": [40.4473124627216, 40.4470533483798, 40.446513351178304, 40.446913348459994, 40.4481233413969, 40.44930768943521, 40.4491733350014, 40.44809793530409, 40.4484633379866, 40.4501033281307, 40.4522133168428], \"line\": {\"color\": \"blue\", \"width\": 2}, \"lon\": [-3.70769039332613, -3.7103054859102897, -3.71252556505459, -3.71398560997398, -3.71473562579644, -3.71724920499121, -3.71902576138028, -3.72417123249219, -3.72710603508681, -3.72742603693574, -3.72780603371906], \"mode\": \"lines\", \"name\": \"Orig- Calculated path\", \"text\": \"Experiment path\", \"type\": \"scattermapbox\"}, {\"hoverinfo\": \"text\", \"lat\": [40.4473124627216, 40.4473124627216, 40.447233347935, 40.44718334795871, 40.4472333469022, 40.4471433482974, 40.44716334852461, 40.447213348355696, 40.447213348355696, 40.447213348355696, 40.4473124627216, 40.4473124627216, 40.447233347935, 40.44718334795871, 40.447213348355696, 40.447213348355696, 40.447213348355696, 40.4473124627216, 40.447233347935, 40.44718334795871, 40.447213348355696, 40.447213348355696, 40.4473124627216, 40.4473124627216, 40.44718334795871, 40.4472333469022, 40.4472333469022, 40.4472333469022, 40.4472333469022, 40.4470533483798, 40.4470533483798, 40.4470533483798, 40.447013348755796, 40.446967610178795, 40.446967610178795, 40.4466233518349, 40.4466233518349, 40.44656335109431, 40.446513351178304, 40.446513351178304, 40.4462133536578, 40.4462133536578, 40.44656335109431, 40.446513351178304, 40.446513351178304, 40.4462133536578, 40.4462133536578, 40.446343352976704, 40.44667587519809, 40.446913348459994, 40.446913348459994, 40.4479733434454, 40.4479733434454, 40.4479733434454, 40.4481233413969, 40.448333339926094, 40.448413340836, 40.448413340836, 40.446913348459994, 40.4479733434454, 40.4479733434454, 40.4481233413969, 40.448153342832704, 40.448333339926094, 40.448413340836, 40.4486833382592, 40.4486833382592, 40.4488433377142, 40.449193335637396, 40.449283335483905, 40.4493133354394, 40.44928333593379, 40.44930768943521, 40.4492533346594, 40.4492533346594, 40.449203335672095, 40.449393334552, 40.4493133354394, 40.44928333593379, 40.44930768943521, 40.4492533346594, 40.4492533346594, 40.449203335672095, 40.4491733350014, 40.44913333548649, 40.4491133361609, 40.449043335367605, 40.448875768442896, 40.44869333710209, 40.4485733389492, 40.44844333972, 40.448393338966, 40.448393338966, 40.448393338966, 40.44809793530409, 40.44809793530409, 40.44809793530409, 40.44797334222631, 40.4480933413107, 40.4482233405767, 40.448503338433596, 40.4486433383896, 40.448613338684495, 40.4486413259498, 40.44855333770271, 40.4484633379866, 40.4484633379866, 40.448613337032, 40.44894333634711, 40.4493633326238, 40.4493633326238, 40.449503332849005, 40.4501033281307, 40.4502443281788, 40.449503332849005, 40.449503332849005, 40.4501033281307, 40.4502443281788, 40.450643325502895, 40.450643325502895, 40.4510833235849, 40.45150332027351, 40.45150332027351, 40.45150332027351, 40.45150332027351, 40.45150332027351, 40.4522133168428, 40.4522133168428], \"line\": {\"color\": \"green\", \"width\": 2}, \"lon\": [-3.70769039332613, -3.70769039332613, -3.7079954093561, -3.70818541597936, -3.70850542452957, -3.70562533051365, -3.70600534331958, -3.70679536733352, -3.70679536733352, -3.70679536733352, -3.70769039332613, -3.70769039332613, -3.7079954093561, -3.70818541597936, -3.70679536733352, -3.70679536733352, -3.70679536733352, -3.70769039332613, -3.7079954093561, -3.70818541597936, -3.70679536733352, -3.70679536733352, -3.70769039332613, -3.70769039332613, -3.70818541597936, -3.70850542452957, -3.70850542452957, -3.70850542452957, -3.70850542452957, -3.7103054859102897, -3.7103054859102897, -3.7103054859102897, -3.7104654907361, -3.71104102431664, -3.71104102431664, -3.7120855488067206, -3.7120855488067206, -3.71232555607686, -3.71252556505459, -3.71252556505459, -3.71366560340452, -3.71366560340452, -3.71232555607686, -3.71252556505459, -3.71252556505459, -3.71366560340452, -3.71366560340452, -3.71372560572556, -3.71379739834542, -3.71398560997398, -3.71398560997398, -3.71443561762829, -3.71443561762829, -3.71443561762829, -3.71473562579644, -3.71526564201011, -3.7154556477586, -3.7154556477586, -3.71398560997398, -3.71443561762829, -3.71443561762829, -3.71473562579644, -3.7148256295913695, -3.71526564201011, -3.7154556477586, -3.71615567077284, -3.71615567077284, -3.71659568329058, -3.71635567228234, -3.7161756660304506, -3.71646567568366, -3.71674568556018, -3.71724920499121, -3.71762571501709, -3.71762571501709, -3.7187557536793694, -3.71624566771097, -3.71646567568366, -3.71674568556018, -3.71724920499121, -3.71762571501709, -3.71762571501709, -3.7187557536793694, -3.71902576138028, -3.7193957748250894, -3.71955578046255, -3.72003579675278, -3.72079353897085, -3.72121583751552, -3.72161585253015, -3.72221587333771, -3.72246588176776, -3.72246588176776, -3.72246588176776, -3.72417123249219, -3.72417123249219, -3.72417123249219, -3.72450595378074, -3.72479596142121, -3.72482596301171, -3.72491596395184, -3.72521597245416, -3.72557598526023, -3.72587374880962, -3.72614600490307, -3.72710603508681, -3.72710603508681, -3.72716603798293, -3.72723603681798, -3.72729603758988, -3.72729603758988, -3.72731603563837, -3.72742603693574, -3.72740417078592, -3.72731603563837, -3.72731603563837, -3.72742603693574, -3.72740417078592, -3.72752603476766, -3.72752603476766, -3.72760603673404, -3.72768603601667, -3.72768603601667, -3.72768603601667, -3.72768603601667, -3.72768603601667, -3.72780603371906, -3.72780603371906], \"mode\": \"lines\", \"name\": \"HF - Calculated path\", \"text\": \"Original path\", \"type\": \"scattermapbox\"}],\n",
       "                        {\"height\": 500, \"hovermode\": \"closest\", \"mapbox\": {\"accesstoken\": \"pk.eyJ1IjoiYWxlanAxOTk4IiwiYSI6ImNrNnFwMmM0dDE2OHYzZXFwazZiZTdmbGcifQ.k5qPtvMgar7i9cbQx1fP0w\", \"bearing\": 0, \"center\": {\"lat\": 40.44799083411279, \"lon\": -3.7162118725312467}, \"pitch\": 0, \"style\": \"mapbox://styles/alejp1998/ck6z9mohb25ni1iod4sqvqa0d\", \"zoom\": 14}, \"margin\": {\"b\": 0, \"l\": 0, \"r\": 0, \"t\": 0}, \"showlegend\": true, \"template\": {\"data\": {\"bar\": [{\"error_x\": {\"color\": \"#2a3f5f\"}, \"error_y\": {\"color\": \"#2a3f5f\"}, \"marker\": {\"line\": {\"color\": \"white\", \"width\": 0.5}}, \"type\": \"bar\"}], \"barpolar\": [{\"marker\": {\"line\": {\"color\": \"white\", \"width\": 0.5}}, \"type\": \"barpolar\"}], \"carpet\": [{\"aaxis\": {\"endlinecolor\": \"#2a3f5f\", \"gridcolor\": \"#C8D4E3\", \"linecolor\": \"#C8D4E3\", \"minorgridcolor\": \"#C8D4E3\", \"startlinecolor\": \"#2a3f5f\"}, \"baxis\": {\"endlinecolor\": \"#2a3f5f\", \"gridcolor\": \"#C8D4E3\", \"linecolor\": \"#C8D4E3\", \"minorgridcolor\": \"#C8D4E3\", \"startlinecolor\": \"#2a3f5f\"}, \"type\": \"carpet\"}], \"choropleth\": [{\"colorbar\": {\"outlinewidth\": 0, \"ticks\": \"\"}, \"type\": \"choropleth\"}], \"contour\": [{\"colorbar\": {\"outlinewidth\": 0, \"ticks\": \"\"}, \"colorscale\": [[0.0, \"#0d0887\"], [0.1111111111111111, \"#46039f\"], [0.2222222222222222, \"#7201a8\"], [0.3333333333333333, \"#9c179e\"], [0.4444444444444444, \"#bd3786\"], [0.5555555555555556, \"#d8576b\"], [0.6666666666666666, \"#ed7953\"], [0.7777777777777778, \"#fb9f3a\"], [0.8888888888888888, \"#fdca26\"], [1.0, \"#f0f921\"]], \"type\": \"contour\"}], \"contourcarpet\": [{\"colorbar\": {\"outlinewidth\": 0, \"ticks\": \"\"}, \"type\": \"contourcarpet\"}], \"heatmap\": [{\"colorbar\": {\"outlinewidth\": 0, \"ticks\": \"\"}, \"colorscale\": [[0.0, \"#0d0887\"], [0.1111111111111111, \"#46039f\"], [0.2222222222222222, \"#7201a8\"], [0.3333333333333333, \"#9c179e\"], [0.4444444444444444, \"#bd3786\"], [0.5555555555555556, \"#d8576b\"], [0.6666666666666666, \"#ed7953\"], [0.7777777777777778, \"#fb9f3a\"], [0.8888888888888888, \"#fdca26\"], [1.0, \"#f0f921\"]], \"type\": \"heatmap\"}], \"heatmapgl\": [{\"colorbar\": {\"outlinewidth\": 0, \"ticks\": \"\"}, \"colorscale\": [[0.0, \"#0d0887\"], [0.1111111111111111, \"#46039f\"], [0.2222222222222222, \"#7201a8\"], [0.3333333333333333, \"#9c179e\"], [0.4444444444444444, \"#bd3786\"], [0.5555555555555556, \"#d8576b\"], [0.6666666666666666, \"#ed7953\"], [0.7777777777777778, \"#fb9f3a\"], [0.8888888888888888, \"#fdca26\"], [1.0, \"#f0f921\"]], \"type\": \"heatmapgl\"}], \"histogram\": [{\"marker\": {\"colorbar\": {\"outlinewidth\": 0, \"ticks\": \"\"}}, \"type\": \"histogram\"}], \"histogram2d\": [{\"colorbar\": {\"outlinewidth\": 0, \"ticks\": \"\"}, \"colorscale\": [[0.0, \"#0d0887\"], [0.1111111111111111, \"#46039f\"], [0.2222222222222222, \"#7201a8\"], [0.3333333333333333, \"#9c179e\"], [0.4444444444444444, \"#bd3786\"], [0.5555555555555556, \"#d8576b\"], [0.6666666666666666, \"#ed7953\"], [0.7777777777777778, \"#fb9f3a\"], [0.8888888888888888, \"#fdca26\"], [1.0, \"#f0f921\"]], \"type\": \"histogram2d\"}], \"histogram2dcontour\": [{\"colorbar\": {\"outlinewidth\": 0, \"ticks\": \"\"}, \"colorscale\": [[0.0, \"#0d0887\"], [0.1111111111111111, \"#46039f\"], [0.2222222222222222, \"#7201a8\"], [0.3333333333333333, \"#9c179e\"], [0.4444444444444444, \"#bd3786\"], [0.5555555555555556, \"#d8576b\"], [0.6666666666666666, \"#ed7953\"], [0.7777777777777778, \"#fb9f3a\"], [0.8888888888888888, \"#fdca26\"], [1.0, \"#f0f921\"]], \"type\": \"histogram2dcontour\"}], \"mesh3d\": [{\"colorbar\": {\"outlinewidth\": 0, \"ticks\": \"\"}, \"type\": \"mesh3d\"}], \"parcoords\": [{\"line\": {\"colorbar\": {\"outlinewidth\": 0, \"ticks\": \"\"}}, \"type\": \"parcoords\"}], \"pie\": [{\"automargin\": true, \"type\": \"pie\"}], \"scatter\": [{\"marker\": {\"colorbar\": {\"outlinewidth\": 0, \"ticks\": \"\"}}, \"type\": \"scatter\"}], \"scatter3d\": [{\"line\": {\"colorbar\": {\"outlinewidth\": 0, \"ticks\": \"\"}}, \"marker\": {\"colorbar\": {\"outlinewidth\": 0, \"ticks\": \"\"}}, \"type\": \"scatter3d\"}], \"scattercarpet\": [{\"marker\": {\"colorbar\": {\"outlinewidth\": 0, \"ticks\": \"\"}}, \"type\": \"scattercarpet\"}], \"scattergeo\": [{\"marker\": {\"colorbar\": {\"outlinewidth\": 0, \"ticks\": \"\"}}, \"type\": \"scattergeo\"}], \"scattergl\": [{\"marker\": {\"colorbar\": {\"outlinewidth\": 0, \"ticks\": \"\"}}, \"type\": \"scattergl\"}], \"scattermapbox\": [{\"marker\": {\"colorbar\": {\"outlinewidth\": 0, \"ticks\": \"\"}}, \"type\": \"scattermapbox\"}], \"scatterpolar\": [{\"marker\": {\"colorbar\": {\"outlinewidth\": 0, \"ticks\": \"\"}}, \"type\": \"scatterpolar\"}], \"scatterpolargl\": [{\"marker\": {\"colorbar\": {\"outlinewidth\": 0, \"ticks\": \"\"}}, \"type\": \"scatterpolargl\"}], \"scatterternary\": [{\"marker\": {\"colorbar\": {\"outlinewidth\": 0, \"ticks\": \"\"}}, \"type\": \"scatterternary\"}], \"surface\": [{\"colorbar\": {\"outlinewidth\": 0, \"ticks\": \"\"}, \"colorscale\": [[0.0, \"#0d0887\"], [0.1111111111111111, \"#46039f\"], [0.2222222222222222, \"#7201a8\"], [0.3333333333333333, \"#9c179e\"], [0.4444444444444444, \"#bd3786\"], [0.5555555555555556, \"#d8576b\"], [0.6666666666666666, \"#ed7953\"], [0.7777777777777778, \"#fb9f3a\"], [0.8888888888888888, \"#fdca26\"], [1.0, \"#f0f921\"]], \"type\": \"surface\"}], \"table\": [{\"cells\": {\"fill\": {\"color\": \"#EBF0F8\"}, \"line\": {\"color\": \"white\"}}, \"header\": {\"fill\": {\"color\": \"#C8D4E3\"}, \"line\": {\"color\": \"white\"}}, \"type\": \"table\"}]}, \"layout\": {\"annotationdefaults\": {\"arrowcolor\": \"#2a3f5f\", \"arrowhead\": 0, \"arrowwidth\": 1}, \"coloraxis\": {\"colorbar\": {\"outlinewidth\": 0, \"ticks\": \"\"}}, \"colorscale\": {\"diverging\": [[0, \"#8e0152\"], [0.1, \"#c51b7d\"], [0.2, \"#de77ae\"], [0.3, \"#f1b6da\"], [0.4, \"#fde0ef\"], [0.5, \"#f7f7f7\"], [0.6, \"#e6f5d0\"], [0.7, \"#b8e186\"], [0.8, \"#7fbc41\"], [0.9, \"#4d9221\"], [1, \"#276419\"]], \"sequential\": [[0.0, \"#0d0887\"], [0.1111111111111111, \"#46039f\"], [0.2222222222222222, \"#7201a8\"], [0.3333333333333333, \"#9c179e\"], [0.4444444444444444, \"#bd3786\"], [0.5555555555555556, \"#d8576b\"], [0.6666666666666666, \"#ed7953\"], [0.7777777777777778, \"#fb9f3a\"], [0.8888888888888888, \"#fdca26\"], [1.0, \"#f0f921\"]], \"sequentialminus\": [[0.0, \"#0d0887\"], [0.1111111111111111, \"#46039f\"], [0.2222222222222222, \"#7201a8\"], [0.3333333333333333, \"#9c179e\"], [0.4444444444444444, \"#bd3786\"], [0.5555555555555556, \"#d8576b\"], [0.6666666666666666, \"#ed7953\"], [0.7777777777777778, \"#fb9f3a\"], [0.8888888888888888, \"#fdca26\"], [1.0, \"#f0f921\"]]}, \"colorway\": [\"#636efa\", \"#EF553B\", \"#00cc96\", \"#ab63fa\", \"#FFA15A\", \"#19d3f3\", \"#FF6692\", \"#B6E880\", \"#FF97FF\", \"#FECB52\"], \"font\": {\"color\": \"#2a3f5f\"}, \"geo\": {\"bgcolor\": \"white\", \"lakecolor\": \"white\", \"landcolor\": \"white\", \"showlakes\": true, \"showland\": true, \"subunitcolor\": \"#C8D4E3\"}, \"hoverlabel\": {\"align\": \"left\"}, \"hovermode\": \"closest\", \"mapbox\": {\"style\": \"light\"}, \"paper_bgcolor\": \"white\", \"plot_bgcolor\": \"white\", \"polar\": {\"angularaxis\": {\"gridcolor\": \"#EBF0F8\", \"linecolor\": \"#EBF0F8\", \"ticks\": \"\"}, \"bgcolor\": \"white\", \"radialaxis\": {\"gridcolor\": \"#EBF0F8\", \"linecolor\": \"#EBF0F8\", \"ticks\": \"\"}}, \"scene\": {\"xaxis\": {\"backgroundcolor\": \"white\", \"gridcolor\": \"#DFE8F3\", \"gridwidth\": 2, \"linecolor\": \"#EBF0F8\", \"showbackground\": true, \"ticks\": \"\", \"zerolinecolor\": \"#EBF0F8\"}, \"yaxis\": {\"backgroundcolor\": \"white\", \"gridcolor\": \"#DFE8F3\", \"gridwidth\": 2, \"linecolor\": \"#EBF0F8\", \"showbackground\": true, \"ticks\": \"\", \"zerolinecolor\": \"#EBF0F8\"}, \"zaxis\": {\"backgroundcolor\": \"white\", \"gridcolor\": \"#DFE8F3\", \"gridwidth\": 2, \"linecolor\": \"#EBF0F8\", \"showbackground\": true, \"ticks\": \"\", \"zerolinecolor\": \"#EBF0F8\"}}, \"shapedefaults\": {\"line\": {\"color\": \"#2a3f5f\"}}, \"ternary\": {\"aaxis\": {\"gridcolor\": \"#DFE8F3\", \"linecolor\": \"#A2B1C6\", \"ticks\": \"\"}, \"baxis\": {\"gridcolor\": \"#DFE8F3\", \"linecolor\": \"#A2B1C6\", \"ticks\": \"\"}, \"bgcolor\": \"white\", \"caxis\": {\"gridcolor\": \"#DFE8F3\", \"linecolor\": \"#A2B1C6\", \"ticks\": \"\"}}, \"title\": {\"x\": 0.05}, \"xaxis\": {\"automargin\": true, \"gridcolor\": \"#EBF0F8\", \"linecolor\": \"#EBF0F8\", \"ticks\": \"\", \"title\": {\"standoff\": 15}, \"zerolinecolor\": \"#EBF0F8\", \"zerolinewidth\": 2}, \"yaxis\": {\"automargin\": true, \"gridcolor\": \"#EBF0F8\", \"linecolor\": \"#EBF0F8\", \"ticks\": \"\", \"title\": {\"standoff\": 15}, \"zerolinecolor\": \"#EBF0F8\", \"zerolinewidth\": 2}}}, \"title\": {\"text\": \"Pair bus coords when it arrives to stop vs the coords of that stop\"}},\n",
       "                        {\"responsive\": true}\n",
       "                    ).then(function(){\n",
       "                            \n",
       "var gd = document.getElementById('e3d1b1ff-cc08-4493-b494-f421aa172aad');\n",
       "var x = new MutationObserver(function (mutations, observer) {{\n",
       "        var display = window.getComputedStyle(gd).display;\n",
       "        if (!display || display === 'none') {{\n",
       "            console.log([gd, 'removed!']);\n",
       "            Plotly.purge(gd);\n",
       "            observer.disconnect();\n",
       "        }}\n",
       "}});\n",
       "\n",
       "// Listen for the removal of the full notebook cells\n",
       "var notebookContainer = gd.closest('#notebook-container');\n",
       "if (notebookContainer) {{\n",
       "    x.observe(notebookContainer, {childList: true});\n",
       "}}\n",
       "\n",
       "// Listen for the clearing of the current output cell\n",
       "var outputEl = gd.closest('.output');\n",
       "if (outputEl) {{\n",
       "    x.observe(outputEl, {childList: true});\n",
       "}}\n",
       "\n",
       "                        })\n",
       "                };\n",
       "                });\n",
       "            </script>\n",
       "        </div>"
      ]
     },
     "metadata": {},
     "output_type": "display_data"
    }
   ],
   "source": [
    "#We create the figure object\n",
    "fig9 = go.Figure()\n",
    "#Real path\n",
    "fig9.add_trace(go.Scattermapbox(\n",
    "    name='Tracked path',\n",
    "    lat=lats,\n",
    "    lon=lons,\n",
    "    mode='lines',\n",
    "    line=dict(width=2, color='purple'),\n",
    "    text='Real path',\n",
    "    hoverinfo='text'\n",
    "))\n",
    "#Exp path\n",
    "fig9.add_trace(go.Scattermapbox(\n",
    "    name='Orig- Calculated path',\n",
    "    lat=buses_data_path.calc_lat,\n",
    "    lon=buses_data_path.calc_lon,\n",
    "    mode='lines',\n",
    "    line=dict(width=2, color='blue'),\n",
    "    text='Experiment path',\n",
    "    hoverinfo='text'\n",
    "))\n",
    "#Orig path\n",
    "fig9.add_trace(go.Scattermapbox(\n",
    "    name='HF - Calculated path',\n",
    "    lat=hf_buses_data_path.calc_lat,\n",
    "    lon=hf_buses_data_path.calc_lon,\n",
    "    mode='lines',\n",
    "    line=dict(width=2, color='green'),\n",
    "    text='Original path',\n",
    "    hoverinfo='text'\n",
    "))\n",
    "\n",
    "#And set the figure layout\n",
    "fig9.update_layout(\n",
    "    title='Pair bus coords when it arrives to stop vs the coords of that stop',\n",
    "    height=500,\n",
    "    margin=dict(r=0, l=0, t=0, b=0),\n",
    "    hovermode='closest',\n",
    "    showlegend=True,\n",
    "    mapbox=dict(\n",
    "        accesstoken=mapbox_access_token,\n",
    "        bearing=0,\n",
    "        center=dict(\n",
    "            lat=statistics.mean(lats),\n",
    "            lon=statistics.mean(lons)\n",
    "        ),\n",
    "        pitch=0,\n",
    "        zoom=14,\n",
    "        style=style_day\n",
    "    )\n",
    ")"
   ]
  },
  {
   "cell_type": "code",
   "execution_count": null,
   "metadata": {},
   "outputs": [],
   "source": []
  }
 ],
 "metadata": {
  "kernelspec": {
   "display_name": "Python 3",
   "language": "python",
   "name": "python3"
  },
  "language_info": {
   "codemirror_mode": {
    "name": "ipython",
    "version": 3
   },
   "file_extension": ".py",
   "mimetype": "text/x-python",
   "name": "python",
   "nbconvert_exporter": "python",
   "pygments_lexer": "ipython3",
   "version": "3.6.9"
  }
 },
 "nbformat": 4,
 "nbformat_minor": 4
}
