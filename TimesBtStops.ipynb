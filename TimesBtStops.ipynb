{
 "cells": [
  {
   "cell_type": "markdown",
   "metadata": {},
   "source": [
    "# TIMES BETWEEN STOPS ANALYSIS"
   ]
  },
  {
   "cell_type": "code",
   "execution_count": 2,
   "metadata": {},
   "outputs": [
    {
     "name": "stdout",
     "output_type": "stream",
     "text": [
      "INFO: Pandarallel will run on 8 workers.\n",
      "INFO: Pandarallel will use Memory file system to transfer data between the main process and workers.\n"
     ]
    }
   ],
   "source": [
    "import pandas as pd\n",
    "pd.set_option(\"display.precision\", 3)\n",
    "import numpy as np\n",
    "import json\n",
    "\n",
    "import datetime\n",
    "from datetime import timedelta\n",
    "\n",
    "import statistics\n",
    "from statistics import mean\n",
    "import math\n",
    "\n",
    "from pandarallel import pandarallel\n",
    "from joblib import Parallel, delayed\n",
    "import multiprocessing\n",
    "num_cores = multiprocessing.cpu_count()\n",
    "pandarallel.initialize()\n",
    "\n",
    "import plotly.graph_objects as go\n",
    "import plotly.io as pio\n",
    "import plotly.express as px\n",
    "pio.templates.default = 'plotly_white'\n",
    "\n",
    "import scipy\n",
    "from scipy import stats\n",
    "import statsmodels.api as sm\n",
    "import pylab\n",
    "from scipy.stats.distributions import chi2"
   ]
  },
  {
   "cell_type": "code",
   "execution_count": 3,
   "metadata": {},
   "outputs": [],
   "source": [
    "#FUNCTIONS\n",
    "def welch_ttest(x, y): \n",
    "    ## Welch-Satterthwaite Degrees of Freedom ##\n",
    "    dof = (x.var()/x.size + y.var()/y.size)**2 / ((x.var()/x.size)**2 / (x.size-1) + (y.var()/y.size)**2 / (y.size-1))\n",
    "    \n",
    "    \n",
    "    N_b = x.shape[0]\n",
    "    N_w = y.shape[0]\n",
    "    mean_b = x.mean()\n",
    "    mean_w = y.mean()\n",
    "    \n",
    "    t, p = stats.ttest_ind(x, y, equal_var = False)\n",
    "    \n",
    "    print(\"\\n\",\n",
    "          f\"Welch's t-test= {t:.4f}\", \"\\n\",\n",
    "          f\"p-value = {p:.4f}\", \"\\n\",\n",
    "          f\"Welch-Satterthwaite Degrees of Freedom= {dof:.4f}\")\n",
    "    print('Nb = {}, Mean b = {}, Sb = {}'.format(N_b,mean_b,math.sqrt(x.var())))\n",
    "    print('Nb = {}, Mean b = {}, Sb = {}'.format(N_w,mean_w,math.sqrt(y.var())))"
   ]
  },
  {
   "cell_type": "markdown",
   "metadata": {},
   "source": [
    "## Lines collected dictionary"
   ]
  },
  {
   "cell_type": "code",
   "execution_count": 4,
   "metadata": {},
   "outputs": [],
   "source": [
    "#Line collected dict\n",
    "with open('M6Data/lines_collected_dict.json', 'r') as f:\n",
    "    lines_collected_dict = json.load(f)"
   ]
  },
  {
   "cell_type": "markdown",
   "metadata": {},
   "source": [
    "## Buses time intervals differentiation\n",
    "From the data available for each line, we are going to construct a dictionary with the time intervals for each line\n",
    "and the frequencies of the buses for that intervals"
   ]
  },
  {
   "cell_type": "code",
   "execution_count": 5,
   "metadata": {},
   "outputs": [],
   "source": [
    "#Line stops dict\n",
    "with open('M6Data/freq_ranges_dict.json', 'r') as f:\n",
    "    freq_ranges_dict = json.load(f)"
   ]
  },
  {
   "cell_type": "code",
   "execution_count": 6,
   "metadata": {},
   "outputs": [],
   "source": [
    "day_type_dict = { #0 = Monday, 1 = Tuesday ...\n",
    "    'LA' : [0,1,2,3,4], #LABORABLES\n",
    "    'LJ' : [0,1,2,3], #LUNES A JUEVES\n",
    "    'VV' : [4], #VIERNES\n",
    "    'SA' : [5], #SABADOS\n",
    "    'FE' : [6], #DOMIGOS O FESTIVOS\n",
    "}"
   ]
  },
  {
   "cell_type": "code",
   "execution_count": 7,
   "metadata": {},
   "outputs": [],
   "source": [
    "#Coronavirus Interval\n",
    "covid_start = datetime.datetime(2020,3,16)\n",
    "covid_end = datetime.datetime.now()"
   ]
  },
  {
   "cell_type": "markdown",
   "metadata": {},
   "source": [
    "## Times between stops for each time interval\n",
    "Here we are going to calculate the mean time between stops for each time interval of the day, for the data recovered, making use of the preprocessed attribute 'arrival_time'. This data is calculated in a script called 'times_bt_stops.py' and loaded here."
   ]
  },
  {
   "cell_type": "code",
   "execution_count": 8,
   "metadata": {},
   "outputs": [
    {
     "data": {
      "text/html": [
       "<div>\n",
       "<style scoped>\n",
       "    .dataframe tbody tr th:only-of-type {\n",
       "        vertical-align: middle;\n",
       "    }\n",
       "\n",
       "    .dataframe tbody tr th {\n",
       "        vertical-align: top;\n",
       "    }\n",
       "\n",
       "    .dataframe thead th {\n",
       "        text-align: right;\n",
       "    }\n",
       "</style>\n",
       "<table border=\"1\" class=\"dataframe\">\n",
       "  <thead>\n",
       "    <tr style=\"text-align: right;\">\n",
       "      <th></th>\n",
       "      <th>line</th>\n",
       "      <th>direction</th>\n",
       "      <th>date</th>\n",
       "      <th>st_hour</th>\n",
       "      <th>end_hour</th>\n",
       "      <th>stopA</th>\n",
       "      <th>stopB</th>\n",
       "      <th>bus</th>\n",
       "      <th>trip_time</th>\n",
       "      <th>api_trip_time</th>\n",
       "    </tr>\n",
       "  </thead>\n",
       "  <tbody>\n",
       "    <tr>\n",
       "      <td>0</td>\n",
       "      <td>1</td>\n",
       "      <td>1</td>\n",
       "      <td>2020-02-25</td>\n",
       "      <td>20</td>\n",
       "      <td>21</td>\n",
       "      <td>4514</td>\n",
       "      <td>4022</td>\n",
       "      <td>123</td>\n",
       "      <td>86.204</td>\n",
       "      <td>114</td>\n",
       "    </tr>\n",
       "    <tr>\n",
       "      <td>1</td>\n",
       "      <td>1</td>\n",
       "      <td>1</td>\n",
       "      <td>2020-02-25</td>\n",
       "      <td>20</td>\n",
       "      <td>21</td>\n",
       "      <td>4022</td>\n",
       "      <td>3687</td>\n",
       "      <td>123</td>\n",
       "      <td>42.723</td>\n",
       "      <td>51</td>\n",
       "    </tr>\n",
       "    <tr>\n",
       "      <td>2</td>\n",
       "      <td>1</td>\n",
       "      <td>1</td>\n",
       "      <td>2020-02-25</td>\n",
       "      <td>20</td>\n",
       "      <td>21</td>\n",
       "      <td>4022</td>\n",
       "      <td>3687</td>\n",
       "      <td>8324</td>\n",
       "      <td>135.143</td>\n",
       "      <td>59</td>\n",
       "    </tr>\n",
       "    <tr>\n",
       "      <td>3</td>\n",
       "      <td>1</td>\n",
       "      <td>1</td>\n",
       "      <td>2020-02-25</td>\n",
       "      <td>20</td>\n",
       "      <td>21</td>\n",
       "      <td>3687</td>\n",
       "      <td>737</td>\n",
       "      <td>123</td>\n",
       "      <td>96.985</td>\n",
       "      <td>67</td>\n",
       "    </tr>\n",
       "    <tr>\n",
       "      <td>4</td>\n",
       "      <td>1</td>\n",
       "      <td>1</td>\n",
       "      <td>2020-02-25</td>\n",
       "      <td>20</td>\n",
       "      <td>21</td>\n",
       "      <td>737</td>\n",
       "      <td>735</td>\n",
       "      <td>123</td>\n",
       "      <td>71.892</td>\n",
       "      <td>62</td>\n",
       "    </tr>\n",
       "  </tbody>\n",
       "</table>\n",
       "</div>"
      ],
      "text/plain": [
       "  line  direction       date  st_hour  end_hour  stopA  stopB   bus  \\\n",
       "0    1          1 2020-02-25       20        21   4514   4022   123   \n",
       "1    1          1 2020-02-25       20        21   4022   3687   123   \n",
       "2    1          1 2020-02-25       20        21   4022   3687  8324   \n",
       "3    1          1 2020-02-25       20        21   3687    737   123   \n",
       "4    1          1 2020-02-25       20        21    737    735   123   \n",
       "\n",
       "   trip_time  api_trip_time  \n",
       "0     86.204            114  \n",
       "1     42.723             51  \n",
       "2    135.143             59  \n",
       "3     96.985             67  \n",
       "4     71.892             62  "
      ]
     },
     "execution_count": 8,
     "metadata": {},
     "output_type": "execute_result"
    }
   ],
   "source": [
    "#Load times between stops data\n",
    "times_bt_stops = pd.read_csv('../../flash/EMTBuses/ProcessedData/times_bt_stops.csv',\n",
    "    dtype={\n",
    "        'line': 'str',\n",
    "        'direction': 'uint16',\n",
    "        'st_hour': 'uint16',\n",
    "        'end_hour': 'uint16',\n",
    "        'stopA': 'uint16',\n",
    "        'stopB': 'uint16',\n",
    "        'bus': 'uint16',\n",
    "        'trip_time':'float32',\n",
    "        'api_trip_time':'int32'\n",
    "    }\n",
    ")[['line','direction','date','st_hour','end_hour','stopA','stopB','bus','trip_time','api_trip_time']]\n",
    "#Parse the dates\n",
    "times_bt_stops['date'] = pd.to_datetime(times_bt_stops['date'], format='%Y-%m-%d')\n",
    "times_bt_stops.head()"
   ]
  },
  {
   "cell_type": "code",
   "execution_count": 9,
   "metadata": {},
   "outputs": [],
   "source": [
    "#Selection attributes\n",
    "line = '1'\n",
    "direction = 1\n",
    "day_type = 'LA'\n",
    "time_int = 0\n",
    "stopA = int(lines_collected_dict[line][str(direction)]['stops'][5])\n",
    "stopB = int(lines_collected_dict[line][str(direction)]['stops'][6])\n",
    "st_hour = 11\n",
    "end_hour = 15\n",
    "\n",
    "#Select data\n",
    "sel_df = times_bt_stops.loc[(times_bt_stops.line == line) & \\\n",
    "                      (times_bt_stops.direction == direction) & \\\n",
    "                      (times_bt_stops.date.dt.weekday.isin(day_type_dict[day_type])) & \\\n",
    "                      (times_bt_stops.stopA == stopA) & (times_bt_stops.stopB == stopB) & \\\n",
    "                      (times_bt_stops.st_hour >= st_hour) & (times_bt_stops.end_hour <= end_hour)]\n",
    "\n",
    "tbs = sel_df.loc[(sel_df.date < covid_start)]\n",
    "tbs_covid = sel_df.loc[(sel_df.date > covid_start)]"
   ]
  },
  {
   "cell_type": "markdown",
   "metadata": {},
   "source": [
    "## Effects of the hour range and day type"
   ]
  },
  {
   "cell_type": "code",
   "execution_count": 42,
   "metadata": {},
   "outputs": [
    {
     "data": {
      "application/vnd.plotly.v1+json": {
       "config": {
        "plotlyServerURL": "https://plot.ly"
       },
       "data": [
        {
         "histnorm": "probability",
         "name": "Before COVID-19",
         "type": "histogram",
         "x": [
          83.4530029296875,
          173.3070068359375,
          566.177978515625,
          214.70700073242188,
          298.3320007324219,
          160.16600036621094,
          148.28799438476562,
          216.3090057373047,
          245.43499755859375,
          216.28900146484375,
          266.1830139160156,
          51.30799865722656,
          119.55999755859375,
          100.697998046875,
          141.6580047607422,
          130.9459991455078,
          166.28199768066406,
          76.17400360107422,
          202.4320068359375,
          263.9129943847656,
          108.59300231933594,
          40.37099838256836,
          155.4600067138672,
          94.30500030517578,
          102.90399932861328,
          39.448001861572266,
          187.55099487304688,
          251.12100219726562,
          108.50900268554688,
          119.02300262451172,
          118.30000305175781,
          108.0999984741211,
          296.489990234375,
          293.34100341796875,
          141.78500366210938,
          145.99899291992188,
          144.24099731445312,
          143.03199768066406,
          174.2220001220703,
          93.1050033569336,
          99.38400268554688,
          103.35700225830078,
          156.13600158691406,
          75.7490005493164,
          107.76599884033203,
          69.13800048828125,
          89.75,
          44.242000579833984,
          90.29100036621094,
          132.3679962158203,
          107.36100006103516,
          95.88200378417969,
          32.35100173950195,
          55.93199920654297,
          65.19999694824219,
          48.308998107910156,
          71.56999969482422,
          96.98699951171875,
          59.30799865722656,
          163.16799926757812,
          107.91999816894531,
          271.9309997558594,
          223.99200439453125,
          252.49400329589844,
          185.6959991455078,
          88.0790023803711,
          137.16799926757812,
          148.89700317382812,
          108.93699645996094,
          94.04000091552734,
          119.08300018310547,
          46.83399963378906,
          176.0279998779297,
          135.0189971923828,
          139.5659942626953,
          82.07099914550781,
          66.81900024414062,
          54.04600143432617,
          85.41000366210938,
          107.61699676513672,
          135.9720001220703,
          133.3070068359375,
          107.65799713134766,
          152.96299743652344,
          162.31900024414062,
          111.31300354003906,
          132.31700134277344,
          119.45600128173828,
          131.86599731445312,
          108.0739974975586,
          107.96800231933594,
          154.16700744628906,
          147.8459930419922,
          248.58599853515625,
          189.15199279785156,
          126.61599731445312,
          109.96499633789062,
          266.510009765625,
          85.81500244140625,
          68.64600372314453,
          120.70099639892578,
          134.3939971923828,
          44.301998138427734,
          149.37399291992188,
          134.39100646972656,
          213.4510040283203,
          212.2550048828125,
          44.14099884033203,
          186.48599243164062,
          174.39100646972656,
          276.2409973144531,
          195.36199951171875,
          53.097999572753906,
          84.79399871826172,
          228.85800170898438,
          54.191001892089844,
          92.3030014038086,
          214.2480010986328,
          98.125,
          250.0970001220703,
          159.08399963378906,
          120.36599731445312,
          164.30799865722656,
          290.2250061035156,
          163.35299682617188,
          160.27999877929688,
          88.01499938964844,
          177.91600036621094,
          254.09100341796875,
          145.89500427246094,
          94.89399719238281,
          27.03700065612793,
          141.14500427246094,
          120.90299987792969,
          84.1500015258789,
          88.22100067138672,
          74.10199737548828,
          187.03799438476562,
          85.86100006103516,
          52.702999114990234,
          112.30500030517578,
          102.84400177001953,
          104.14399719238281,
          181.42100524902344,
          210.77099609375,
          97.01200103759766,
          89.71199798583984,
          98.63899993896484,
          81.85299682617188,
          62.06999969482422,
          98.13400268554688,
          121.15399932861328,
          133.1199951171875,
          51.24399948120117,
          212.3419952392578,
          208.08099365234375,
          14.13599967956543,
          93.10800170898438,
          54.18600082397461,
          175.66900634765625,
          129.93600463867188,
          231.8280029296875,
          80.39199829101562,
          67.7490005493164,
          41.21500015258789,
          91.1989974975586,
          96.82599639892578,
          101.90599822998047,
          108.76000213623047,
          151.83299255371094,
          111.19000244140625,
          138.96400451660156,
          90.33499908447266,
          121.1449966430664,
          178.2270050048828,
          186.9080047607422,
          218.7949981689453,
          96.26300048828125,
          106.83899688720703,
          157.5240020751953,
          162.8820037841797,
          97.91300201416016,
          163.322998046875,
          112.99199676513672,
          108.6780014038086,
          148.97900390625,
          157.9929962158203,
          178.0399932861328,
          67.25700378417969
         ],
         "xbins": {
          "size": 10
         }
        },
        {
         "histnorm": "probability",
         "name": "While COVID-19",
         "type": "histogram",
         "x": [
          3.4539999961853027,
          56.33000183105469,
          73.64600372314453,
          111.63300323486328,
          158.53399658203125,
          179.81500244140625,
          1.2070000171661377,
          101.56199645996094,
          44.88399887084961,
          67.5479965209961,
          111.322998046875,
          31.945999145507812,
          60.51599884033203,
          71.46399688720703,
          73.34700012207031,
          67.48300170898438,
          23.538000106811523,
          112.61000061035156,
          114.38600158691406,
          30.579999923706055,
          11.532999992370605,
          53.5369987487793,
          44.4119987487793,
          64.66000366210938,
          52.369998931884766,
          41.82600021362305,
          101.51899719238281,
          42.37799835205078,
          121.48300170898438,
          93.92400360107422,
          79.49800109863281,
          40.46200180053711,
          73.36199951171875,
          10.3149995803833,
          77.59200286865234,
          56.28200149536133,
          111.03500366210938,
          85.7750015258789,
          44.54499816894531,
          79.05699920654297,
          67.322998046875,
          36.35300064086914,
          47.000999450683594,
          54.41600036621094,
          75.45999908447266,
          76.96499633789062,
          24.84000015258789,
          74.82099914550781,
          20.18199920654297,
          69.37899780273438,
          44.255001068115234,
          37.262001037597656,
          80.1449966430664,
          99.13999938964844,
          52.21099853515625,
          49.012001037597656,
          57.94499969482422,
          117.85800170898438,
          33.685001373291016,
          20.121000289916992,
          33.86000061035156,
          73.02400207519531,
          98.80999755859375,
          139.58200073242188,
          78.76399993896484,
          32.50899887084961,
          84.77400207519531,
          62.4010009765625,
          63.60100173950195,
          82.71099853515625,
          97.66999816894531,
          62.659000396728516,
          73.54100036621094,
          98.44999694824219,
          73.75399780273438,
          34.452999114990234,
          31.534000396728516,
          70.95700073242188,
          74.83499908447266,
          32.48699951171875,
          27.916000366210938,
          37.70500183105469,
          50.5359992980957,
          48.88199996948242,
          43.82099914550781,
          120.85099792480469,
          41.84600067138672,
          31.753999710083008,
          33.625999450683594,
          27.92799949645996,
          34.58100128173828,
          185.74000549316406,
          93.47799682617188,
          50.92599868774414,
          42.70600128173828,
          42.845001220703125,
          46.486000061035156,
          50.625999450683594,
          62.65299987792969,
          62.70600128173828,
          33.72700119018555,
          39.81399917602539,
          110.59700012207031,
          100.69300079345703,
          29.562999725341797,
          107.76699829101562,
          39.40800094604492,
          66.81600189208984,
          67.7760009765625,
          103.79000091552734,
          54.48899841308594,
          58.790000915527344,
          97.48100280761719,
          100.68699645996094,
          91.6520004272461,
          41.47100067138672,
          78.76100158691406,
          229.7519989013672,
          69.7490005493164,
          34.69499969482422,
          101.71499633789062,
          51.45399856567383,
          26.680999755859375,
          74.25,
          33.54800033569336,
          97.88700103759766,
          57.48099899291992,
          66.75599670410156,
          127.84700012207031,
          37.7599983215332,
          38.52399826049805,
          50.19300079345703,
          64.72200012207031,
          54.790000915527344,
          24.229000091552734,
          25.264999389648438,
          111.23200225830078,
          29.058000564575195,
          53.7130012512207,
          52.34700012207031,
          92.22899627685547,
          49.20399856567383,
          63.680999755859375,
          60.84400177001953,
          83.29499816894531,
          109.59700012207031,
          43.66299819946289,
          50.79399871826172,
          28.288000106811523,
          66.72899627685547,
          90.94499969482422,
          65.26699829101562,
          33.33599853515625,
          151.63400268554688,
          71.91799926757812,
          110.3219985961914,
          174.1739959716797,
          31.073999404907227,
          10.454999923706055,
          48.25899887084961,
          91.10399627685547,
          106.66899871826172,
          79.77300262451172,
          35.90999984741211,
          55.564998626708984,
          72.71499633789062,
          46.99800109863281,
          56.680999755859375,
          87.58300018310547,
          57.757999420166016,
          68.302001953125,
          105.85199737548828,
          46.20600128173828,
          24.163000106811523,
          76.18199920654297,
          100.68099975585938,
          93.76100158691406,
          2.2699999809265137,
          112.3949966430664,
          51.685001373291016,
          31.22800064086914,
          57.222999572753906,
          63.40800094604492,
          50.35599899291992,
          27.23900032043457,
          87.6969985961914,
          55.472999572753906,
          23.773000717163086,
          47.6510009765625,
          28.520999908447266,
          54.2400016784668,
          23.566999435424805,
          34.64500045776367,
          76.7979965209961,
          26.642000198364258,
          59.935001373291016,
          106.36199951171875,
          38.65599822998047,
          27.628999710083008,
          66.87100219726562,
          43.3849983215332,
          98.66899871826172,
          29.63599967956543,
          104.61699676513672,
          62.400001525878906,
          75.38700103759766,
          58.16600036621094,
          96.14299774169922,
          40.654998779296875,
          58.18899917602539,
          19.635000228881836,
          74.7760009765625,
          17.155000686645508,
          11.89799976348877,
          34.61600112915039,
          61.00400161743164,
          62.632999420166016,
          31.312000274658203,
          74.10700225830078,
          38.516998291015625,
          53.27299880981445,
          56.42300033569336,
          83.96499633789062,
          79.31400299072266,
          44.5890007019043,
          73.2969970703125,
          31.687999725341797,
          101.80899810791016
         ],
         "xbins": {
          "size": 10
         }
        }
       ],
       "layout": {
        "template": {
         "data": {
          "bar": [
           {
            "error_x": {
             "color": "#2a3f5f"
            },
            "error_y": {
             "color": "#2a3f5f"
            },
            "marker": {
             "line": {
              "color": "white",
              "width": 0.5
             }
            },
            "type": "bar"
           }
          ],
          "barpolar": [
           {
            "marker": {
             "line": {
              "color": "white",
              "width": 0.5
             }
            },
            "type": "barpolar"
           }
          ],
          "carpet": [
           {
            "aaxis": {
             "endlinecolor": "#2a3f5f",
             "gridcolor": "#C8D4E3",
             "linecolor": "#C8D4E3",
             "minorgridcolor": "#C8D4E3",
             "startlinecolor": "#2a3f5f"
            },
            "baxis": {
             "endlinecolor": "#2a3f5f",
             "gridcolor": "#C8D4E3",
             "linecolor": "#C8D4E3",
             "minorgridcolor": "#C8D4E3",
             "startlinecolor": "#2a3f5f"
            },
            "type": "carpet"
           }
          ],
          "choropleth": [
           {
            "colorbar": {
             "outlinewidth": 0,
             "ticks": ""
            },
            "type": "choropleth"
           }
          ],
          "contour": [
           {
            "colorbar": {
             "outlinewidth": 0,
             "ticks": ""
            },
            "colorscale": [
             [
              0,
              "#0d0887"
             ],
             [
              0.1111111111111111,
              "#46039f"
             ],
             [
              0.2222222222222222,
              "#7201a8"
             ],
             [
              0.3333333333333333,
              "#9c179e"
             ],
             [
              0.4444444444444444,
              "#bd3786"
             ],
             [
              0.5555555555555556,
              "#d8576b"
             ],
             [
              0.6666666666666666,
              "#ed7953"
             ],
             [
              0.7777777777777778,
              "#fb9f3a"
             ],
             [
              0.8888888888888888,
              "#fdca26"
             ],
             [
              1,
              "#f0f921"
             ]
            ],
            "type": "contour"
           }
          ],
          "contourcarpet": [
           {
            "colorbar": {
             "outlinewidth": 0,
             "ticks": ""
            },
            "type": "contourcarpet"
           }
          ],
          "heatmap": [
           {
            "colorbar": {
             "outlinewidth": 0,
             "ticks": ""
            },
            "colorscale": [
             [
              0,
              "#0d0887"
             ],
             [
              0.1111111111111111,
              "#46039f"
             ],
             [
              0.2222222222222222,
              "#7201a8"
             ],
             [
              0.3333333333333333,
              "#9c179e"
             ],
             [
              0.4444444444444444,
              "#bd3786"
             ],
             [
              0.5555555555555556,
              "#d8576b"
             ],
             [
              0.6666666666666666,
              "#ed7953"
             ],
             [
              0.7777777777777778,
              "#fb9f3a"
             ],
             [
              0.8888888888888888,
              "#fdca26"
             ],
             [
              1,
              "#f0f921"
             ]
            ],
            "type": "heatmap"
           }
          ],
          "heatmapgl": [
           {
            "colorbar": {
             "outlinewidth": 0,
             "ticks": ""
            },
            "colorscale": [
             [
              0,
              "#0d0887"
             ],
             [
              0.1111111111111111,
              "#46039f"
             ],
             [
              0.2222222222222222,
              "#7201a8"
             ],
             [
              0.3333333333333333,
              "#9c179e"
             ],
             [
              0.4444444444444444,
              "#bd3786"
             ],
             [
              0.5555555555555556,
              "#d8576b"
             ],
             [
              0.6666666666666666,
              "#ed7953"
             ],
             [
              0.7777777777777778,
              "#fb9f3a"
             ],
             [
              0.8888888888888888,
              "#fdca26"
             ],
             [
              1,
              "#f0f921"
             ]
            ],
            "type": "heatmapgl"
           }
          ],
          "histogram": [
           {
            "marker": {
             "colorbar": {
              "outlinewidth": 0,
              "ticks": ""
             }
            },
            "type": "histogram"
           }
          ],
          "histogram2d": [
           {
            "colorbar": {
             "outlinewidth": 0,
             "ticks": ""
            },
            "colorscale": [
             [
              0,
              "#0d0887"
             ],
             [
              0.1111111111111111,
              "#46039f"
             ],
             [
              0.2222222222222222,
              "#7201a8"
             ],
             [
              0.3333333333333333,
              "#9c179e"
             ],
             [
              0.4444444444444444,
              "#bd3786"
             ],
             [
              0.5555555555555556,
              "#d8576b"
             ],
             [
              0.6666666666666666,
              "#ed7953"
             ],
             [
              0.7777777777777778,
              "#fb9f3a"
             ],
             [
              0.8888888888888888,
              "#fdca26"
             ],
             [
              1,
              "#f0f921"
             ]
            ],
            "type": "histogram2d"
           }
          ],
          "histogram2dcontour": [
           {
            "colorbar": {
             "outlinewidth": 0,
             "ticks": ""
            },
            "colorscale": [
             [
              0,
              "#0d0887"
             ],
             [
              0.1111111111111111,
              "#46039f"
             ],
             [
              0.2222222222222222,
              "#7201a8"
             ],
             [
              0.3333333333333333,
              "#9c179e"
             ],
             [
              0.4444444444444444,
              "#bd3786"
             ],
             [
              0.5555555555555556,
              "#d8576b"
             ],
             [
              0.6666666666666666,
              "#ed7953"
             ],
             [
              0.7777777777777778,
              "#fb9f3a"
             ],
             [
              0.8888888888888888,
              "#fdca26"
             ],
             [
              1,
              "#f0f921"
             ]
            ],
            "type": "histogram2dcontour"
           }
          ],
          "mesh3d": [
           {
            "colorbar": {
             "outlinewidth": 0,
             "ticks": ""
            },
            "type": "mesh3d"
           }
          ],
          "parcoords": [
           {
            "line": {
             "colorbar": {
              "outlinewidth": 0,
              "ticks": ""
             }
            },
            "type": "parcoords"
           }
          ],
          "pie": [
           {
            "automargin": true,
            "type": "pie"
           }
          ],
          "scatter": [
           {
            "marker": {
             "colorbar": {
              "outlinewidth": 0,
              "ticks": ""
             }
            },
            "type": "scatter"
           }
          ],
          "scatter3d": [
           {
            "line": {
             "colorbar": {
              "outlinewidth": 0,
              "ticks": ""
             }
            },
            "marker": {
             "colorbar": {
              "outlinewidth": 0,
              "ticks": ""
             }
            },
            "type": "scatter3d"
           }
          ],
          "scattercarpet": [
           {
            "marker": {
             "colorbar": {
              "outlinewidth": 0,
              "ticks": ""
             }
            },
            "type": "scattercarpet"
           }
          ],
          "scattergeo": [
           {
            "marker": {
             "colorbar": {
              "outlinewidth": 0,
              "ticks": ""
             }
            },
            "type": "scattergeo"
           }
          ],
          "scattergl": [
           {
            "marker": {
             "colorbar": {
              "outlinewidth": 0,
              "ticks": ""
             }
            },
            "type": "scattergl"
           }
          ],
          "scattermapbox": [
           {
            "marker": {
             "colorbar": {
              "outlinewidth": 0,
              "ticks": ""
             }
            },
            "type": "scattermapbox"
           }
          ],
          "scatterpolar": [
           {
            "marker": {
             "colorbar": {
              "outlinewidth": 0,
              "ticks": ""
             }
            },
            "type": "scatterpolar"
           }
          ],
          "scatterpolargl": [
           {
            "marker": {
             "colorbar": {
              "outlinewidth": 0,
              "ticks": ""
             }
            },
            "type": "scatterpolargl"
           }
          ],
          "scatterternary": [
           {
            "marker": {
             "colorbar": {
              "outlinewidth": 0,
              "ticks": ""
             }
            },
            "type": "scatterternary"
           }
          ],
          "surface": [
           {
            "colorbar": {
             "outlinewidth": 0,
             "ticks": ""
            },
            "colorscale": [
             [
              0,
              "#0d0887"
             ],
             [
              0.1111111111111111,
              "#46039f"
             ],
             [
              0.2222222222222222,
              "#7201a8"
             ],
             [
              0.3333333333333333,
              "#9c179e"
             ],
             [
              0.4444444444444444,
              "#bd3786"
             ],
             [
              0.5555555555555556,
              "#d8576b"
             ],
             [
              0.6666666666666666,
              "#ed7953"
             ],
             [
              0.7777777777777778,
              "#fb9f3a"
             ],
             [
              0.8888888888888888,
              "#fdca26"
             ],
             [
              1,
              "#f0f921"
             ]
            ],
            "type": "surface"
           }
          ],
          "table": [
           {
            "cells": {
             "fill": {
              "color": "#EBF0F8"
             },
             "line": {
              "color": "white"
             }
            },
            "header": {
             "fill": {
              "color": "#C8D4E3"
             },
             "line": {
              "color": "white"
             }
            },
            "type": "table"
           }
          ]
         },
         "layout": {
          "annotationdefaults": {
           "arrowcolor": "#2a3f5f",
           "arrowhead": 0,
           "arrowwidth": 1
          },
          "coloraxis": {
           "colorbar": {
            "outlinewidth": 0,
            "ticks": ""
           }
          },
          "colorscale": {
           "diverging": [
            [
             0,
             "#8e0152"
            ],
            [
             0.1,
             "#c51b7d"
            ],
            [
             0.2,
             "#de77ae"
            ],
            [
             0.3,
             "#f1b6da"
            ],
            [
             0.4,
             "#fde0ef"
            ],
            [
             0.5,
             "#f7f7f7"
            ],
            [
             0.6,
             "#e6f5d0"
            ],
            [
             0.7,
             "#b8e186"
            ],
            [
             0.8,
             "#7fbc41"
            ],
            [
             0.9,
             "#4d9221"
            ],
            [
             1,
             "#276419"
            ]
           ],
           "sequential": [
            [
             0,
             "#0d0887"
            ],
            [
             0.1111111111111111,
             "#46039f"
            ],
            [
             0.2222222222222222,
             "#7201a8"
            ],
            [
             0.3333333333333333,
             "#9c179e"
            ],
            [
             0.4444444444444444,
             "#bd3786"
            ],
            [
             0.5555555555555556,
             "#d8576b"
            ],
            [
             0.6666666666666666,
             "#ed7953"
            ],
            [
             0.7777777777777778,
             "#fb9f3a"
            ],
            [
             0.8888888888888888,
             "#fdca26"
            ],
            [
             1,
             "#f0f921"
            ]
           ],
           "sequentialminus": [
            [
             0,
             "#0d0887"
            ],
            [
             0.1111111111111111,
             "#46039f"
            ],
            [
             0.2222222222222222,
             "#7201a8"
            ],
            [
             0.3333333333333333,
             "#9c179e"
            ],
            [
             0.4444444444444444,
             "#bd3786"
            ],
            [
             0.5555555555555556,
             "#d8576b"
            ],
            [
             0.6666666666666666,
             "#ed7953"
            ],
            [
             0.7777777777777778,
             "#fb9f3a"
            ],
            [
             0.8888888888888888,
             "#fdca26"
            ],
            [
             1,
             "#f0f921"
            ]
           ]
          },
          "colorway": [
           "#636efa",
           "#EF553B",
           "#00cc96",
           "#ab63fa",
           "#FFA15A",
           "#19d3f3",
           "#FF6692",
           "#B6E880",
           "#FF97FF",
           "#FECB52"
          ],
          "font": {
           "color": "#2a3f5f"
          },
          "geo": {
           "bgcolor": "white",
           "lakecolor": "white",
           "landcolor": "white",
           "showlakes": true,
           "showland": true,
           "subunitcolor": "#C8D4E3"
          },
          "hoverlabel": {
           "align": "left"
          },
          "hovermode": "closest",
          "mapbox": {
           "style": "light"
          },
          "paper_bgcolor": "white",
          "plot_bgcolor": "white",
          "polar": {
           "angularaxis": {
            "gridcolor": "#EBF0F8",
            "linecolor": "#EBF0F8",
            "ticks": ""
           },
           "bgcolor": "white",
           "radialaxis": {
            "gridcolor": "#EBF0F8",
            "linecolor": "#EBF0F8",
            "ticks": ""
           }
          },
          "scene": {
           "xaxis": {
            "backgroundcolor": "white",
            "gridcolor": "#DFE8F3",
            "gridwidth": 2,
            "linecolor": "#EBF0F8",
            "showbackground": true,
            "ticks": "",
            "zerolinecolor": "#EBF0F8"
           },
           "yaxis": {
            "backgroundcolor": "white",
            "gridcolor": "#DFE8F3",
            "gridwidth": 2,
            "linecolor": "#EBF0F8",
            "showbackground": true,
            "ticks": "",
            "zerolinecolor": "#EBF0F8"
           },
           "zaxis": {
            "backgroundcolor": "white",
            "gridcolor": "#DFE8F3",
            "gridwidth": 2,
            "linecolor": "#EBF0F8",
            "showbackground": true,
            "ticks": "",
            "zerolinecolor": "#EBF0F8"
           }
          },
          "shapedefaults": {
           "line": {
            "color": "#2a3f5f"
           }
          },
          "ternary": {
           "aaxis": {
            "gridcolor": "#DFE8F3",
            "linecolor": "#A2B1C6",
            "ticks": ""
           },
           "baxis": {
            "gridcolor": "#DFE8F3",
            "linecolor": "#A2B1C6",
            "ticks": ""
           },
           "bgcolor": "white",
           "caxis": {
            "gridcolor": "#DFE8F3",
            "linecolor": "#A2B1C6",
            "ticks": ""
           }
          },
          "title": {
           "x": 0.05
          },
          "xaxis": {
           "automargin": true,
           "gridcolor": "#EBF0F8",
           "linecolor": "#EBF0F8",
           "ticks": "",
           "title": {
            "standoff": 15
           },
           "zerolinecolor": "#EBF0F8",
           "zerolinewidth": 2
          },
          "yaxis": {
           "automargin": true,
           "gridcolor": "#EBF0F8",
           "linecolor": "#EBF0F8",
           "ticks": "",
           "title": {
            "standoff": 15
           },
           "zerolinecolor": "#EBF0F8",
           "zerolinewidth": 2
          }
         }
        },
        "title": {
         "text": "Lapsed Time from stop 193 to 173 of line 1 in LA days. 11:00-15:00."
        },
        "xaxis": {
         "title": {
          "text": "Seconds"
         }
        },
        "yaxis": {
         "title": {
          "text": "Normalized Count"
         }
        }
       }
      },
      "text/html": [
       "<div>\n",
       "        \n",
       "        \n",
       "            <div id=\"dfb039e0-cc7b-498a-90d5-3fa66019e981\" class=\"plotly-graph-div\" style=\"height:525px; width:100%;\"></div>\n",
       "            <script type=\"text/javascript\">\n",
       "                require([\"plotly\"], function(Plotly) {\n",
       "                    window.PLOTLYENV=window.PLOTLYENV || {};\n",
       "                    \n",
       "                if (document.getElementById(\"dfb039e0-cc7b-498a-90d5-3fa66019e981\")) {\n",
       "                    Plotly.newPlot(\n",
       "                        'dfb039e0-cc7b-498a-90d5-3fa66019e981',\n",
       "                        [{\"histnorm\": \"probability\", \"name\": \"Before COVID-19\", \"type\": \"histogram\", \"x\": [83.4530029296875, 173.3070068359375, 566.177978515625, 214.70700073242188, 298.3320007324219, 160.16600036621094, 148.28799438476562, 216.3090057373047, 245.43499755859375, 216.28900146484375, 266.1830139160156, 51.30799865722656, 119.55999755859375, 100.697998046875, 141.6580047607422, 130.9459991455078, 166.28199768066406, 76.17400360107422, 202.4320068359375, 263.9129943847656, 108.59300231933594, 40.37099838256836, 155.4600067138672, 94.30500030517578, 102.90399932861328, 39.448001861572266, 187.55099487304688, 251.12100219726562, 108.50900268554688, 119.02300262451172, 118.30000305175781, 108.0999984741211, 296.489990234375, 293.34100341796875, 141.78500366210938, 145.99899291992188, 144.24099731445312, 143.03199768066406, 174.2220001220703, 93.1050033569336, 99.38400268554688, 103.35700225830078, 156.13600158691406, 75.7490005493164, 107.76599884033203, 69.13800048828125, 89.75, 44.242000579833984, 90.29100036621094, 132.3679962158203, 107.36100006103516, 95.88200378417969, 32.35100173950195, 55.93199920654297, 65.19999694824219, 48.308998107910156, 71.56999969482422, 96.98699951171875, 59.30799865722656, 163.16799926757812, 107.91999816894531, 271.9309997558594, 223.99200439453125, 252.49400329589844, 185.6959991455078, 88.0790023803711, 137.16799926757812, 148.89700317382812, 108.93699645996094, 94.04000091552734, 119.08300018310547, 46.83399963378906, 176.0279998779297, 135.0189971923828, 139.5659942626953, 82.07099914550781, 66.81900024414062, 54.04600143432617, 85.41000366210938, 107.61699676513672, 135.9720001220703, 133.3070068359375, 107.65799713134766, 152.96299743652344, 162.31900024414062, 111.31300354003906, 132.31700134277344, 119.45600128173828, 131.86599731445312, 108.0739974975586, 107.96800231933594, 154.16700744628906, 147.8459930419922, 248.58599853515625, 189.15199279785156, 126.61599731445312, 109.96499633789062, 266.510009765625, 85.81500244140625, 68.64600372314453, 120.70099639892578, 134.3939971923828, 44.301998138427734, 149.37399291992188, 134.39100646972656, 213.4510040283203, 212.2550048828125, 44.14099884033203, 186.48599243164062, 174.39100646972656, 276.2409973144531, 195.36199951171875, 53.097999572753906, 84.79399871826172, 228.85800170898438, 54.191001892089844, 92.3030014038086, 214.2480010986328, 98.125, 250.0970001220703, 159.08399963378906, 120.36599731445312, 164.30799865722656, 290.2250061035156, 163.35299682617188, 160.27999877929688, 88.01499938964844, 177.91600036621094, 254.09100341796875, 145.89500427246094, 94.89399719238281, 27.03700065612793, 141.14500427246094, 120.90299987792969, 84.1500015258789, 88.22100067138672, 74.10199737548828, 187.03799438476562, 85.86100006103516, 52.702999114990234, 112.30500030517578, 102.84400177001953, 104.14399719238281, 181.42100524902344, 210.77099609375, 97.01200103759766, 89.71199798583984, 98.63899993896484, 81.85299682617188, 62.06999969482422, 98.13400268554688, 121.15399932861328, 133.1199951171875, 51.24399948120117, 212.3419952392578, 208.08099365234375, 14.13599967956543, 93.10800170898438, 54.18600082397461, 175.66900634765625, 129.93600463867188, 231.8280029296875, 80.39199829101562, 67.7490005493164, 41.21500015258789, 91.1989974975586, 96.82599639892578, 101.90599822998047, 108.76000213623047, 151.83299255371094, 111.19000244140625, 138.96400451660156, 90.33499908447266, 121.1449966430664, 178.2270050048828, 186.9080047607422, 218.7949981689453, 96.26300048828125, 106.83899688720703, 157.5240020751953, 162.8820037841797, 97.91300201416016, 163.322998046875, 112.99199676513672, 108.6780014038086, 148.97900390625, 157.9929962158203, 178.0399932861328, 67.25700378417969], \"xbins\": {\"size\": 10}}, {\"histnorm\": \"probability\", \"name\": \"While COVID-19\", \"type\": \"histogram\", \"x\": [3.4539999961853027, 56.33000183105469, 73.64600372314453, 111.63300323486328, 158.53399658203125, 179.81500244140625, 1.2070000171661377, 101.56199645996094, 44.88399887084961, 67.5479965209961, 111.322998046875, 31.945999145507812, 60.51599884033203, 71.46399688720703, 73.34700012207031, 67.48300170898438, 23.538000106811523, 112.61000061035156, 114.38600158691406, 30.579999923706055, 11.532999992370605, 53.5369987487793, 44.4119987487793, 64.66000366210938, 52.369998931884766, 41.82600021362305, 101.51899719238281, 42.37799835205078, 121.48300170898438, 93.92400360107422, 79.49800109863281, 40.46200180053711, 73.36199951171875, 10.3149995803833, 77.59200286865234, 56.28200149536133, 111.03500366210938, 85.7750015258789, 44.54499816894531, 79.05699920654297, 67.322998046875, 36.35300064086914, 47.000999450683594, 54.41600036621094, 75.45999908447266, 76.96499633789062, 24.84000015258789, 74.82099914550781, 20.18199920654297, 69.37899780273438, 44.255001068115234, 37.262001037597656, 80.1449966430664, 99.13999938964844, 52.21099853515625, 49.012001037597656, 57.94499969482422, 117.85800170898438, 33.685001373291016, 20.121000289916992, 33.86000061035156, 73.02400207519531, 98.80999755859375, 139.58200073242188, 78.76399993896484, 32.50899887084961, 84.77400207519531, 62.4010009765625, 63.60100173950195, 82.71099853515625, 97.66999816894531, 62.659000396728516, 73.54100036621094, 98.44999694824219, 73.75399780273438, 34.452999114990234, 31.534000396728516, 70.95700073242188, 74.83499908447266, 32.48699951171875, 27.916000366210938, 37.70500183105469, 50.5359992980957, 48.88199996948242, 43.82099914550781, 120.85099792480469, 41.84600067138672, 31.753999710083008, 33.625999450683594, 27.92799949645996, 34.58100128173828, 185.74000549316406, 93.47799682617188, 50.92599868774414, 42.70600128173828, 42.845001220703125, 46.486000061035156, 50.625999450683594, 62.65299987792969, 62.70600128173828, 33.72700119018555, 39.81399917602539, 110.59700012207031, 100.69300079345703, 29.562999725341797, 107.76699829101562, 39.40800094604492, 66.81600189208984, 67.7760009765625, 103.79000091552734, 54.48899841308594, 58.790000915527344, 97.48100280761719, 100.68699645996094, 91.6520004272461, 41.47100067138672, 78.76100158691406, 229.7519989013672, 69.7490005493164, 34.69499969482422, 101.71499633789062, 51.45399856567383, 26.680999755859375, 74.25, 33.54800033569336, 97.88700103759766, 57.48099899291992, 66.75599670410156, 127.84700012207031, 37.7599983215332, 38.52399826049805, 50.19300079345703, 64.72200012207031, 54.790000915527344, 24.229000091552734, 25.264999389648438, 111.23200225830078, 29.058000564575195, 53.7130012512207, 52.34700012207031, 92.22899627685547, 49.20399856567383, 63.680999755859375, 60.84400177001953, 83.29499816894531, 109.59700012207031, 43.66299819946289, 50.79399871826172, 28.288000106811523, 66.72899627685547, 90.94499969482422, 65.26699829101562, 33.33599853515625, 151.63400268554688, 71.91799926757812, 110.3219985961914, 174.1739959716797, 31.073999404907227, 10.454999923706055, 48.25899887084961, 91.10399627685547, 106.66899871826172, 79.77300262451172, 35.90999984741211, 55.564998626708984, 72.71499633789062, 46.99800109863281, 56.680999755859375, 87.58300018310547, 57.757999420166016, 68.302001953125, 105.85199737548828, 46.20600128173828, 24.163000106811523, 76.18199920654297, 100.68099975585938, 93.76100158691406, 2.2699999809265137, 112.3949966430664, 51.685001373291016, 31.22800064086914, 57.222999572753906, 63.40800094604492, 50.35599899291992, 27.23900032043457, 87.6969985961914, 55.472999572753906, 23.773000717163086, 47.6510009765625, 28.520999908447266, 54.2400016784668, 23.566999435424805, 34.64500045776367, 76.7979965209961, 26.642000198364258, 59.935001373291016, 106.36199951171875, 38.65599822998047, 27.628999710083008, 66.87100219726562, 43.3849983215332, 98.66899871826172, 29.63599967956543, 104.61699676513672, 62.400001525878906, 75.38700103759766, 58.16600036621094, 96.14299774169922, 40.654998779296875, 58.18899917602539, 19.635000228881836, 74.7760009765625, 17.155000686645508, 11.89799976348877, 34.61600112915039, 61.00400161743164, 62.632999420166016, 31.312000274658203, 74.10700225830078, 38.516998291015625, 53.27299880981445, 56.42300033569336, 83.96499633789062, 79.31400299072266, 44.5890007019043, 73.2969970703125, 31.687999725341797, 101.80899810791016], \"xbins\": {\"size\": 10}}],\n",
       "                        {\"template\": {\"data\": {\"bar\": [{\"error_x\": {\"color\": \"#2a3f5f\"}, \"error_y\": {\"color\": \"#2a3f5f\"}, \"marker\": {\"line\": {\"color\": \"white\", \"width\": 0.5}}, \"type\": \"bar\"}], \"barpolar\": [{\"marker\": {\"line\": {\"color\": \"white\", \"width\": 0.5}}, \"type\": \"barpolar\"}], \"carpet\": [{\"aaxis\": {\"endlinecolor\": \"#2a3f5f\", \"gridcolor\": \"#C8D4E3\", \"linecolor\": \"#C8D4E3\", \"minorgridcolor\": \"#C8D4E3\", \"startlinecolor\": \"#2a3f5f\"}, \"baxis\": {\"endlinecolor\": \"#2a3f5f\", \"gridcolor\": \"#C8D4E3\", \"linecolor\": \"#C8D4E3\", \"minorgridcolor\": \"#C8D4E3\", \"startlinecolor\": \"#2a3f5f\"}, \"type\": \"carpet\"}], \"choropleth\": [{\"colorbar\": {\"outlinewidth\": 0, \"ticks\": \"\"}, \"type\": \"choropleth\"}], \"contour\": [{\"colorbar\": {\"outlinewidth\": 0, \"ticks\": \"\"}, \"colorscale\": [[0.0, \"#0d0887\"], [0.1111111111111111, \"#46039f\"], [0.2222222222222222, \"#7201a8\"], [0.3333333333333333, \"#9c179e\"], [0.4444444444444444, \"#bd3786\"], [0.5555555555555556, \"#d8576b\"], [0.6666666666666666, \"#ed7953\"], [0.7777777777777778, \"#fb9f3a\"], [0.8888888888888888, \"#fdca26\"], [1.0, \"#f0f921\"]], \"type\": \"contour\"}], \"contourcarpet\": [{\"colorbar\": {\"outlinewidth\": 0, \"ticks\": \"\"}, \"type\": \"contourcarpet\"}], \"heatmap\": [{\"colorbar\": {\"outlinewidth\": 0, \"ticks\": \"\"}, \"colorscale\": [[0.0, \"#0d0887\"], [0.1111111111111111, \"#46039f\"], [0.2222222222222222, \"#7201a8\"], [0.3333333333333333, \"#9c179e\"], [0.4444444444444444, \"#bd3786\"], [0.5555555555555556, \"#d8576b\"], [0.6666666666666666, \"#ed7953\"], [0.7777777777777778, \"#fb9f3a\"], [0.8888888888888888, \"#fdca26\"], [1.0, \"#f0f921\"]], \"type\": \"heatmap\"}], \"heatmapgl\": [{\"colorbar\": {\"outlinewidth\": 0, \"ticks\": \"\"}, \"colorscale\": [[0.0, \"#0d0887\"], [0.1111111111111111, \"#46039f\"], [0.2222222222222222, \"#7201a8\"], [0.3333333333333333, \"#9c179e\"], [0.4444444444444444, \"#bd3786\"], [0.5555555555555556, \"#d8576b\"], [0.6666666666666666, \"#ed7953\"], [0.7777777777777778, \"#fb9f3a\"], [0.8888888888888888, \"#fdca26\"], [1.0, \"#f0f921\"]], \"type\": \"heatmapgl\"}], \"histogram\": [{\"marker\": {\"colorbar\": {\"outlinewidth\": 0, \"ticks\": \"\"}}, \"type\": \"histogram\"}], \"histogram2d\": [{\"colorbar\": {\"outlinewidth\": 0, \"ticks\": \"\"}, \"colorscale\": [[0.0, \"#0d0887\"], [0.1111111111111111, \"#46039f\"], [0.2222222222222222, \"#7201a8\"], [0.3333333333333333, \"#9c179e\"], [0.4444444444444444, \"#bd3786\"], [0.5555555555555556, \"#d8576b\"], [0.6666666666666666, \"#ed7953\"], [0.7777777777777778, \"#fb9f3a\"], [0.8888888888888888, \"#fdca26\"], [1.0, \"#f0f921\"]], \"type\": \"histogram2d\"}], \"histogram2dcontour\": [{\"colorbar\": {\"outlinewidth\": 0, \"ticks\": \"\"}, \"colorscale\": [[0.0, \"#0d0887\"], [0.1111111111111111, \"#46039f\"], [0.2222222222222222, \"#7201a8\"], [0.3333333333333333, \"#9c179e\"], [0.4444444444444444, \"#bd3786\"], [0.5555555555555556, \"#d8576b\"], [0.6666666666666666, \"#ed7953\"], [0.7777777777777778, \"#fb9f3a\"], [0.8888888888888888, \"#fdca26\"], [1.0, \"#f0f921\"]], \"type\": \"histogram2dcontour\"}], \"mesh3d\": [{\"colorbar\": {\"outlinewidth\": 0, \"ticks\": \"\"}, \"type\": \"mesh3d\"}], \"parcoords\": [{\"line\": {\"colorbar\": {\"outlinewidth\": 0, \"ticks\": \"\"}}, \"type\": \"parcoords\"}], \"pie\": [{\"automargin\": true, \"type\": \"pie\"}], \"scatter\": [{\"marker\": {\"colorbar\": {\"outlinewidth\": 0, \"ticks\": \"\"}}, \"type\": \"scatter\"}], \"scatter3d\": [{\"line\": {\"colorbar\": {\"outlinewidth\": 0, \"ticks\": \"\"}}, \"marker\": {\"colorbar\": {\"outlinewidth\": 0, \"ticks\": \"\"}}, \"type\": \"scatter3d\"}], \"scattercarpet\": [{\"marker\": {\"colorbar\": {\"outlinewidth\": 0, \"ticks\": \"\"}}, \"type\": \"scattercarpet\"}], \"scattergeo\": [{\"marker\": {\"colorbar\": {\"outlinewidth\": 0, \"ticks\": \"\"}}, \"type\": \"scattergeo\"}], \"scattergl\": [{\"marker\": {\"colorbar\": {\"outlinewidth\": 0, \"ticks\": \"\"}}, \"type\": \"scattergl\"}], \"scattermapbox\": [{\"marker\": {\"colorbar\": {\"outlinewidth\": 0, \"ticks\": \"\"}}, \"type\": \"scattermapbox\"}], \"scatterpolar\": [{\"marker\": {\"colorbar\": {\"outlinewidth\": 0, \"ticks\": \"\"}}, \"type\": \"scatterpolar\"}], \"scatterpolargl\": [{\"marker\": {\"colorbar\": {\"outlinewidth\": 0, \"ticks\": \"\"}}, \"type\": \"scatterpolargl\"}], \"scatterternary\": [{\"marker\": {\"colorbar\": {\"outlinewidth\": 0, \"ticks\": \"\"}}, \"type\": \"scatterternary\"}], \"surface\": [{\"colorbar\": {\"outlinewidth\": 0, \"ticks\": \"\"}, \"colorscale\": [[0.0, \"#0d0887\"], [0.1111111111111111, \"#46039f\"], [0.2222222222222222, \"#7201a8\"], [0.3333333333333333, \"#9c179e\"], [0.4444444444444444, \"#bd3786\"], [0.5555555555555556, \"#d8576b\"], [0.6666666666666666, \"#ed7953\"], [0.7777777777777778, \"#fb9f3a\"], [0.8888888888888888, \"#fdca26\"], [1.0, \"#f0f921\"]], \"type\": \"surface\"}], \"table\": [{\"cells\": {\"fill\": {\"color\": \"#EBF0F8\"}, \"line\": {\"color\": \"white\"}}, \"header\": {\"fill\": {\"color\": \"#C8D4E3\"}, \"line\": {\"color\": \"white\"}}, \"type\": \"table\"}]}, \"layout\": {\"annotationdefaults\": {\"arrowcolor\": \"#2a3f5f\", \"arrowhead\": 0, \"arrowwidth\": 1}, \"coloraxis\": {\"colorbar\": {\"outlinewidth\": 0, \"ticks\": \"\"}}, \"colorscale\": {\"diverging\": [[0, \"#8e0152\"], [0.1, \"#c51b7d\"], [0.2, \"#de77ae\"], [0.3, \"#f1b6da\"], [0.4, \"#fde0ef\"], [0.5, \"#f7f7f7\"], [0.6, \"#e6f5d0\"], [0.7, \"#b8e186\"], [0.8, \"#7fbc41\"], [0.9, \"#4d9221\"], [1, \"#276419\"]], \"sequential\": [[0.0, \"#0d0887\"], [0.1111111111111111, \"#46039f\"], [0.2222222222222222, \"#7201a8\"], [0.3333333333333333, \"#9c179e\"], [0.4444444444444444, \"#bd3786\"], [0.5555555555555556, \"#d8576b\"], [0.6666666666666666, \"#ed7953\"], [0.7777777777777778, \"#fb9f3a\"], [0.8888888888888888, \"#fdca26\"], [1.0, \"#f0f921\"]], \"sequentialminus\": [[0.0, \"#0d0887\"], [0.1111111111111111, \"#46039f\"], [0.2222222222222222, \"#7201a8\"], [0.3333333333333333, \"#9c179e\"], [0.4444444444444444, \"#bd3786\"], [0.5555555555555556, \"#d8576b\"], [0.6666666666666666, \"#ed7953\"], [0.7777777777777778, \"#fb9f3a\"], [0.8888888888888888, \"#fdca26\"], [1.0, \"#f0f921\"]]}, \"colorway\": [\"#636efa\", \"#EF553B\", \"#00cc96\", \"#ab63fa\", \"#FFA15A\", \"#19d3f3\", \"#FF6692\", \"#B6E880\", \"#FF97FF\", \"#FECB52\"], \"font\": {\"color\": \"#2a3f5f\"}, \"geo\": {\"bgcolor\": \"white\", \"lakecolor\": \"white\", \"landcolor\": \"white\", \"showlakes\": true, \"showland\": true, \"subunitcolor\": \"#C8D4E3\"}, \"hoverlabel\": {\"align\": \"left\"}, \"hovermode\": \"closest\", \"mapbox\": {\"style\": \"light\"}, \"paper_bgcolor\": \"white\", \"plot_bgcolor\": \"white\", \"polar\": {\"angularaxis\": {\"gridcolor\": \"#EBF0F8\", \"linecolor\": \"#EBF0F8\", \"ticks\": \"\"}, \"bgcolor\": \"white\", \"radialaxis\": {\"gridcolor\": \"#EBF0F8\", \"linecolor\": \"#EBF0F8\", \"ticks\": \"\"}}, \"scene\": {\"xaxis\": {\"backgroundcolor\": \"white\", \"gridcolor\": \"#DFE8F3\", \"gridwidth\": 2, \"linecolor\": \"#EBF0F8\", \"showbackground\": true, \"ticks\": \"\", \"zerolinecolor\": \"#EBF0F8\"}, \"yaxis\": {\"backgroundcolor\": \"white\", \"gridcolor\": \"#DFE8F3\", \"gridwidth\": 2, \"linecolor\": \"#EBF0F8\", \"showbackground\": true, \"ticks\": \"\", \"zerolinecolor\": \"#EBF0F8\"}, \"zaxis\": {\"backgroundcolor\": \"white\", \"gridcolor\": \"#DFE8F3\", \"gridwidth\": 2, \"linecolor\": \"#EBF0F8\", \"showbackground\": true, \"ticks\": \"\", \"zerolinecolor\": \"#EBF0F8\"}}, \"shapedefaults\": {\"line\": {\"color\": \"#2a3f5f\"}}, \"ternary\": {\"aaxis\": {\"gridcolor\": \"#DFE8F3\", \"linecolor\": \"#A2B1C6\", \"ticks\": \"\"}, \"baxis\": {\"gridcolor\": \"#DFE8F3\", \"linecolor\": \"#A2B1C6\", \"ticks\": \"\"}, \"bgcolor\": \"white\", \"caxis\": {\"gridcolor\": \"#DFE8F3\", \"linecolor\": \"#A2B1C6\", \"ticks\": \"\"}}, \"title\": {\"x\": 0.05}, \"xaxis\": {\"automargin\": true, \"gridcolor\": \"#EBF0F8\", \"linecolor\": \"#EBF0F8\", \"ticks\": \"\", \"title\": {\"standoff\": 15}, \"zerolinecolor\": \"#EBF0F8\", \"zerolinewidth\": 2}, \"yaxis\": {\"automargin\": true, \"gridcolor\": \"#EBF0F8\", \"linecolor\": \"#EBF0F8\", \"ticks\": \"\", \"title\": {\"standoff\": 15}, \"zerolinecolor\": \"#EBF0F8\", \"zerolinewidth\": 2}}}, \"title\": {\"text\": \"Lapsed Time from stop 193 to 173 of line 1 in LA days. 11:00-15:00.\"}, \"xaxis\": {\"title\": {\"text\": \"Seconds\"}}, \"yaxis\": {\"title\": {\"text\": \"Normalized Count\"}}},\n",
       "                        {\"responsive\": true}\n",
       "                    ).then(function(){\n",
       "                            \n",
       "var gd = document.getElementById('dfb039e0-cc7b-498a-90d5-3fa66019e981');\n",
       "var x = new MutationObserver(function (mutations, observer) {{\n",
       "        var display = window.getComputedStyle(gd).display;\n",
       "        if (!display || display === 'none') {{\n",
       "            console.log([gd, 'removed!']);\n",
       "            Plotly.purge(gd);\n",
       "            observer.disconnect();\n",
       "        }}\n",
       "}});\n",
       "\n",
       "// Listen for the removal of the full notebook cells\n",
       "var notebookContainer = gd.closest('#notebook-container');\n",
       "if (notebookContainer) {{\n",
       "    x.observe(notebookContainer, {childList: true});\n",
       "}}\n",
       "\n",
       "// Listen for the clearing of the current output cell\n",
       "var outputEl = gd.closest('.output');\n",
       "if (outputEl) {{\n",
       "    x.observe(outputEl, {childList: true});\n",
       "}}\n",
       "\n",
       "                        })\n",
       "                };\n",
       "                });\n",
       "            </script>\n",
       "        </div>"
      ]
     },
     "metadata": {},
     "output_type": "display_data"
    }
   ],
   "source": [
    "fig = go.Figure()\n",
    "\n",
    "fig.add_trace(go.Histogram(\n",
    "    x=tbs.trip_time,name='Before COVID-19',\n",
    "    histnorm='probability',\n",
    "    xbins=dict(\n",
    "        size=10\n",
    "    )\n",
    "))\n",
    "\n",
    "fig.add_trace(go.Histogram(\n",
    "    x=tbs_covid.trip_time,name='While COVID-19',\n",
    "    histnorm='probability',\n",
    "    xbins=dict(\n",
    "        size=10\n",
    "    )\n",
    "))\n",
    "\n",
    "# Layout\n",
    "fig.update_layout(\n",
    "    title='Lapsed Time from stop {} to {} of line {} in {} days. {}:00-{}:00.'.format(stopA,stopB,line,day_type,st_hour,end_hour),\n",
    "    xaxis_title='Seconds',\n",
    "    yaxis_title='Normalized Count'\n",
    ")\n",
    "\n",
    "fig.show()"
   ]
  },
  {
   "cell_type": "code",
   "execution_count": 51,
   "metadata": {},
   "outputs": [
    {
     "name": "stdout",
     "output_type": "stream",
     "text": [
      "Nb = 189\n",
      "Nw = 228\n"
     ]
    }
   ],
   "source": [
    "print('Nb = {}'.format(tbs.shape[0]))\n",
    "print('Nw = {}'.format(tbs_covid.shape[0]))"
   ]
  },
  {
   "cell_type": "code",
   "execution_count": 45,
   "metadata": {},
   "outputs": [
    {
     "data": {
      "text/plain": [
       "(0.8949257731437683, 2.801585075040691e-10)"
      ]
     },
     "execution_count": 45,
     "metadata": {},
     "output_type": "execute_result"
    }
   ],
   "source": [
    "#As the size of our data is bigger than 5000, Shapiro-Test will almost always reject the Null Hypothesis\n",
    "stats.shapiro(tbs.trip_time)"
   ]
  },
  {
   "cell_type": "code",
   "execution_count": 50,
   "metadata": {},
   "outputs": [
    {
     "data": {
      "image/png": "[encoded data removed]",
      "text/plain": [
       "<Figure size 432x288 with 1 Axes>"
      ]
     },
     "metadata": {
      "needs_background": "light"
     },
     "output_type": "display_data"
    }
   ],
   "source": [
    "#We perform a qq plot then\n",
    "sm.qqplot(tbs.trip_time, line='s') #.loc[hw_bcovid.hw_pos.isin([3,4])]\n",
    "pylab.show()"
   ]
  },
  {
   "cell_type": "code",
   "execution_count": 47,
   "metadata": {},
   "outputs": [
    {
     "data": {
      "text/plain": [
       "(0.9315587878227234, 8.205439883113286e-09)"
      ]
     },
     "execution_count": 47,
     "metadata": {},
     "output_type": "execute_result"
    }
   ],
   "source": [
    "#As the size of our data is bigger than 5000, Shapiro-Test will almost always reject the Null Hypothesis\n",
    "stats.shapiro(tbs_covid.trip_time)"
   ]
  },
  {
   "cell_type": "code",
   "execution_count": 49,
   "metadata": {},
   "outputs": [
    {
     "data": {
      "image/png": "[encoded data removed]",
      "text/plain": [
       "<Figure size 432x288 with 1 Axes>"
      ]
     },
     "metadata": {
      "needs_background": "light"
     },
     "output_type": "display_data"
    }
   ],
   "source": [
    "#We perform a qq plot then\n",
    "sm.qqplot(tbs_covid.trip_time, line='s') #.loc[hw_bcovid.hw_pos.isin([3,4])]\n",
    "pylab.show()"
   ]
  },
  {
   "cell_type": "code",
   "execution_count": 56,
   "metadata": {},
   "outputs": [
    {
     "name": "stdout",
     "output_type": "stream",
     "text": [
      "\n",
      " Welch's t-test= 12.9273 \n",
      " p-value = 0.0000 \n",
      " Welch-Satterthwaite Degrees of Freedom= 263.1189\n",
      "Nb = 189, Mean b = 135.19869995117188, Sb = 68.96465778525621\n",
      "Nb = 228, Mean b = 64.06928253173828, Sb = 34.13347679743817\n"
     ]
    }
   ],
   "source": [
    "welch_ttest(tbs.trip_time,tbs_covid.trip_time)"
   ]
  },
  {
   "cell_type": "markdown",
   "metadata": {},
   "source": [
    "## COMPARISON OF TIMES BETWEEN STOPS BEFORE AND AFTER CORONAVIRUS"
   ]
  },
  {
   "cell_type": "code",
   "execution_count": 10,
   "metadata": {},
   "outputs": [
    {
     "data": {
      "application/vnd.plotly.v1+json": {
       "config": {
        "plotlyServerURL": "https://plot.ly"
       },
       "data": [
        {
         "histnorm": "probability",
         "name": "Before COVID-19",
         "opacity": 0.75,
         "type": "histogram",
         "x": [
          126.11499786376953,
          137.1649932861328,
          131.1199951171875,
          84.26300048828125,
          252.85899353027344,
          623.1380004882812,
          225.98699951171875,
          55.2859992980957,
          181.375,
          131.031005859375,
          126.51799774169922,
          135.45700073242188,
          316.052001953125,
          122.50700378417969,
          19.174999237060547,
          76.22799682617188,
          62.816001892089844,
          177.09300231933594,
          126.64900207519531,
          290.48199462890625,
          191.30999755859375,
          146.74200439453125,
          459.91900634765625,
          72.33699798583984,
          144.51100158691406,
          123.59500122070312,
          259.9129943847656,
          314.6449890136719,
          256.7170104980469,
          107.6449966430664,
          51.525001525878906,
          3.234999895095825,
          111.81300354003906,
          137.5679931640625,
          112.95800018310547,
          139.44700622558594,
          291.44000244140625,
          162.37899780273438,
          197.76800537109375,
          78.66400146484375,
          26.91699981689453,
          109.44499969482422,
          164.76300048828125,
          77.23100280761719,
          194.447998046875,
          62.15700149536133,
          69.19499969482422,
          1.5609999895095825,
          211.98199462890625,
          103.09400177001953,
          147.21299743652344,
          198.64599609375,
          113.24099731445312,
          171.6009979248047,
          394.6159973144531,
          133.36300659179688,
          390.5090026855469,
          108.85099792480469,
          97.08499908447266,
          168.96400451660156,
          107.99800109863281,
          128.85299682617188,
          139.01400756835938,
          203.11399841308594,
          43.43000030517578,
          92.99099731445312,
          188.19400024414062,
          97.37999725341797,
          129.4759979248047,
          185.07000732421875,
          216.20399475097656,
          76.15399932861328,
          241.39300537109375,
          152.4149932861328,
          145.52000427246094,
          51.29199981689453,
          213.88099670410156,
          163.94500732421875,
          198.1179962158203,
          278.125,
          149.15499877929688,
          518.5280151367188,
          177.39999389648438,
          38.24700164794922,
          97.14399719238281,
          132.27000427246094
         ],
         "xbins": {
          "size": 5
         }
        },
        {
         "histnorm": "probability",
         "name": "While COVID-19",
         "opacity": 0.75,
         "type": "histogram",
         "x": [
          321.98199462890625,
          239.99000549316406,
          217.06199645996094,
          102.98500061035156,
          58.027000427246094,
          125.0009994506836,
          45.268001556396484,
          58.88100051879883,
          105.88899993896484,
          195.83099365234375,
          51.08300018310547,
          136.73800659179688,
          107.85800170898438,
          123.41699981689453,
          69.13200378417969,
          68.36199951171875,
          109.31300354003906,
          24.770000457763672,
          146.92799377441406,
          59.882999420166016,
          133.39500427246094,
          84.83300018310547,
          81.08300018310547,
          194.0489959716797,
          62.58300018310547,
          85.68299865722656,
          269.7330017089844,
          105.31999969482422,
          181.88499450683594,
          69.625,
          44.167999267578125,
          77.23799896240234,
          73.63600158691406,
          93.60700225830078,
          181.91400146484375,
          69.86100006103516,
          242.1699981689453,
          139.8820037841797,
          104.30799865722656,
          31.07200050354004,
          162.88800048828125,
          43.547000885009766,
          381.1109924316406,
          165.05599975585938,
          214.5189971923828,
          148.5,
          101.7979965209961,
          47.80099868774414,
          104.91899871826172,
          118.2249984741211,
          75.0459976196289,
          52.268001556396484,
          63.194000244140625,
          178.45399475097656,
          68.00700378417969,
          109.05599975585938,
          171.10400390625,
          57.518001556396484,
          182.31199645996094,
          121.75900268554688,
          51.47600173950195,
          87.4209976196289,
          188.78700256347656,
          181.8820037841797,
          90.98300170898438,
          71.94400024414062,
          105.01899719238281,
          335.072998046875,
          40.652000427246094,
          49.38600158691406,
          215.3820037841797,
          40.183998107910156,
          154.09100341796875,
          33.314998626708984,
          92.3030014038086,
          73.77799987792969,
          98.90799713134766,
          211.05299377441406,
          106.13899993896484,
          68.5719985961914,
          68.1729965209961,
          70.05999755859375,
          226.00100708007812,
          197.26699829101562,
          205.30099487304688,
          115.38800048828125,
          161.2449951171875,
          198.5659942626953,
          139.9949951171875,
          151.43800354003906,
          107.33100128173828,
          51.9739990234375,
          78.0989990234375,
          84.76399993896484,
          187.5469970703125,
          97.83399963378906,
          264.5069885253906,
          71.65699768066406,
          131.23699951171875,
          105.53600311279297,
          170.7689971923828,
          172.44900512695312,
          157.4510040283203,
          80.43800354003906,
          75.75599670410156,
          47.29999923706055,
          325.92498779296875,
          83.89600372314453,
          134.2899932861328,
          38.77799987792969,
          80.94000244140625,
          111.9489974975586,
          79.75599670410156,
          68.01899719238281,
          81.06500244140625,
          120.36599731445312,
          73.2969970703125,
          209.33599853515625,
          65.5510025024414,
          139.46600341796875,
          110.44599914550781,
          148.85899353027344,
          113.75499725341797
         ],
         "xbins": {
          "size": 10
         }
        }
       ],
       "layout": {
        "template": {
         "data": {
          "bar": [
           {
            "error_x": {
             "color": "#2a3f5f"
            },
            "error_y": {
             "color": "#2a3f5f"
            },
            "marker": {
             "line": {
              "color": "white",
              "width": 0.5
             }
            },
            "type": "bar"
           }
          ],
          "barpolar": [
           {
            "marker": {
             "line": {
              "color": "white",
              "width": 0.5
             }
            },
            "type": "barpolar"
           }
          ],
          "carpet": [
           {
            "aaxis": {
             "endlinecolor": "#2a3f5f",
             "gridcolor": "#C8D4E3",
             "linecolor": "#C8D4E3",
             "minorgridcolor": "#C8D4E3",
             "startlinecolor": "#2a3f5f"
            },
            "baxis": {
             "endlinecolor": "#2a3f5f",
             "gridcolor": "#C8D4E3",
             "linecolor": "#C8D4E3",
             "minorgridcolor": "#C8D4E3",
             "startlinecolor": "#2a3f5f"
            },
            "type": "carpet"
           }
          ],
          "choropleth": [
           {
            "colorbar": {
             "outlinewidth": 0,
             "ticks": ""
            },
            "type": "choropleth"
           }
          ],
          "contour": [
           {
            "colorbar": {
             "outlinewidth": 0,
             "ticks": ""
            },
            "colorscale": [
             [
              0,
              "#0d0887"
             ],
             [
              0.1111111111111111,
              "#46039f"
             ],
             [
              0.2222222222222222,
              "#7201a8"
             ],
             [
              0.3333333333333333,
              "#9c179e"
             ],
             [
              0.4444444444444444,
              "#bd3786"
             ],
             [
              0.5555555555555556,
              "#d8576b"
             ],
             [
              0.6666666666666666,
              "#ed7953"
             ],
             [
              0.7777777777777778,
              "#fb9f3a"
             ],
             [
              0.8888888888888888,
              "#fdca26"
             ],
             [
              1,
              "#f0f921"
             ]
            ],
            "type": "contour"
           }
          ],
          "contourcarpet": [
           {
            "colorbar": {
             "outlinewidth": 0,
             "ticks": ""
            },
            "type": "contourcarpet"
           }
          ],
          "heatmap": [
           {
            "colorbar": {
             "outlinewidth": 0,
             "ticks": ""
            },
            "colorscale": [
             [
              0,
              "#0d0887"
             ],
             [
              0.1111111111111111,
              "#46039f"
             ],
             [
              0.2222222222222222,
              "#7201a8"
             ],
             [
              0.3333333333333333,
              "#9c179e"
             ],
             [
              0.4444444444444444,
              "#bd3786"
             ],
             [
              0.5555555555555556,
              "#d8576b"
             ],
             [
              0.6666666666666666,
              "#ed7953"
             ],
             [
              0.7777777777777778,
              "#fb9f3a"
             ],
             [
              0.8888888888888888,
              "#fdca26"
             ],
             [
              1,
              "#f0f921"
             ]
            ],
            "type": "heatmap"
           }
          ],
          "heatmapgl": [
           {
            "colorbar": {
             "outlinewidth": 0,
             "ticks": ""
            },
            "colorscale": [
             [
              0,
              "#0d0887"
             ],
             [
              0.1111111111111111,
              "#46039f"
             ],
             [
              0.2222222222222222,
              "#7201a8"
             ],
             [
              0.3333333333333333,
              "#9c179e"
             ],
             [
              0.4444444444444444,
              "#bd3786"
             ],
             [
              0.5555555555555556,
              "#d8576b"
             ],
             [
              0.6666666666666666,
              "#ed7953"
             ],
             [
              0.7777777777777778,
              "#fb9f3a"
             ],
             [
              0.8888888888888888,
              "#fdca26"
             ],
             [
              1,
              "#f0f921"
             ]
            ],
            "type": "heatmapgl"
           }
          ],
          "histogram": [
           {
            "marker": {
             "colorbar": {
              "outlinewidth": 0,
              "ticks": ""
             }
            },
            "type": "histogram"
           }
          ],
          "histogram2d": [
           {
            "colorbar": {
             "outlinewidth": 0,
             "ticks": ""
            },
            "colorscale": [
             [
              0,
              "#0d0887"
             ],
             [
              0.1111111111111111,
              "#46039f"
             ],
             [
              0.2222222222222222,
              "#7201a8"
             ],
             [
              0.3333333333333333,
              "#9c179e"
             ],
             [
              0.4444444444444444,
              "#bd3786"
             ],
             [
              0.5555555555555556,
              "#d8576b"
             ],
             [
              0.6666666666666666,
              "#ed7953"
             ],
             [
              0.7777777777777778,
              "#fb9f3a"
             ],
             [
              0.8888888888888888,
              "#fdca26"
             ],
             [
              1,
              "#f0f921"
             ]
            ],
            "type": "histogram2d"
           }
          ],
          "histogram2dcontour": [
           {
            "colorbar": {
             "outlinewidth": 0,
             "ticks": ""
            },
            "colorscale": [
             [
              0,
              "#0d0887"
             ],
             [
              0.1111111111111111,
              "#46039f"
             ],
             [
              0.2222222222222222,
              "#7201a8"
             ],
             [
              0.3333333333333333,
              "#9c179e"
             ],
             [
              0.4444444444444444,
              "#bd3786"
             ],
             [
              0.5555555555555556,
              "#d8576b"
             ],
             [
              0.6666666666666666,
              "#ed7953"
             ],
             [
              0.7777777777777778,
              "#fb9f3a"
             ],
             [
              0.8888888888888888,
              "#fdca26"
             ],
             [
              1,
              "#f0f921"
             ]
            ],
            "type": "histogram2dcontour"
           }
          ],
          "mesh3d": [
           {
            "colorbar": {
             "outlinewidth": 0,
             "ticks": ""
            },
            "type": "mesh3d"
           }
          ],
          "parcoords": [
           {
            "line": {
             "colorbar": {
              "outlinewidth": 0,
              "ticks": ""
             }
            },
            "type": "parcoords"
           }
          ],
          "pie": [
           {
            "automargin": true,
            "type": "pie"
           }
          ],
          "scatter": [
           {
            "marker": {
             "colorbar": {
              "outlinewidth": 0,
              "ticks": ""
             }
            },
            "type": "scatter"
           }
          ],
          "scatter3d": [
           {
            "line": {
             "colorbar": {
              "outlinewidth": 0,
              "ticks": ""
             }
            },
            "marker": {
             "colorbar": {
              "outlinewidth": 0,
              "ticks": ""
             }
            },
            "type": "scatter3d"
           }
          ],
          "scattercarpet": [
           {
            "marker": {
             "colorbar": {
              "outlinewidth": 0,
              "ticks": ""
             }
            },
            "type": "scattercarpet"
           }
          ],
          "scattergeo": [
           {
            "marker": {
             "colorbar": {
              "outlinewidth": 0,
              "ticks": ""
             }
            },
            "type": "scattergeo"
           }
          ],
          "scattergl": [
           {
            "marker": {
             "colorbar": {
              "outlinewidth": 0,
              "ticks": ""
             }
            },
            "type": "scattergl"
           }
          ],
          "scattermapbox": [
           {
            "marker": {
             "colorbar": {
              "outlinewidth": 0,
              "ticks": ""
             }
            },
            "type": "scattermapbox"
           }
          ],
          "scatterpolar": [
           {
            "marker": {
             "colorbar": {
              "outlinewidth": 0,
              "ticks": ""
             }
            },
            "type": "scatterpolar"
           }
          ],
          "scatterpolargl": [
           {
            "marker": {
             "colorbar": {
              "outlinewidth": 0,
              "ticks": ""
             }
            },
            "type": "scatterpolargl"
           }
          ],
          "scatterternary": [
           {
            "marker": {
             "colorbar": {
              "outlinewidth": 0,
              "ticks": ""
             }
            },
            "type": "scatterternary"
           }
          ],
          "surface": [
           {
            "colorbar": {
             "outlinewidth": 0,
             "ticks": ""
            },
            "colorscale": [
             [
              0,
              "#0d0887"
             ],
             [
              0.1111111111111111,
              "#46039f"
             ],
             [
              0.2222222222222222,
              "#7201a8"
             ],
             [
              0.3333333333333333,
              "#9c179e"
             ],
             [
              0.4444444444444444,
              "#bd3786"
             ],
             [
              0.5555555555555556,
              "#d8576b"
             ],
             [
              0.6666666666666666,
              "#ed7953"
             ],
             [
              0.7777777777777778,
              "#fb9f3a"
             ],
             [
              0.8888888888888888,
              "#fdca26"
             ],
             [
              1,
              "#f0f921"
             ]
            ],
            "type": "surface"
           }
          ],
          "table": [
           {
            "cells": {
             "fill": {
              "color": "#EBF0F8"
             },
             "line": {
              "color": "white"
             }
            },
            "header": {
             "fill": {
              "color": "#C8D4E3"
             },
             "line": {
              "color": "white"
             }
            },
            "type": "table"
           }
          ]
         },
         "layout": {
          "annotationdefaults": {
           "arrowcolor": "#2a3f5f",
           "arrowhead": 0,
           "arrowwidth": 1
          },
          "coloraxis": {
           "colorbar": {
            "outlinewidth": 0,
            "ticks": ""
           }
          },
          "colorscale": {
           "diverging": [
            [
             0,
             "#8e0152"
            ],
            [
             0.1,
             "#c51b7d"
            ],
            [
             0.2,
             "#de77ae"
            ],
            [
             0.3,
             "#f1b6da"
            ],
            [
             0.4,
             "#fde0ef"
            ],
            [
             0.5,
             "#f7f7f7"
            ],
            [
             0.6,
             "#e6f5d0"
            ],
            [
             0.7,
             "#b8e186"
            ],
            [
             0.8,
             "#7fbc41"
            ],
            [
             0.9,
             "#4d9221"
            ],
            [
             1,
             "#276419"
            ]
           ],
           "sequential": [
            [
             0,
             "#0d0887"
            ],
            [
             0.1111111111111111,
             "#46039f"
            ],
            [
             0.2222222222222222,
             "#7201a8"
            ],
            [
             0.3333333333333333,
             "#9c179e"
            ],
            [
             0.4444444444444444,
             "#bd3786"
            ],
            [
             0.5555555555555556,
             "#d8576b"
            ],
            [
             0.6666666666666666,
             "#ed7953"
            ],
            [
             0.7777777777777778,
             "#fb9f3a"
            ],
            [
             0.8888888888888888,
             "#fdca26"
            ],
            [
             1,
             "#f0f921"
            ]
           ],
           "sequentialminus": [
            [
             0,
             "#0d0887"
            ],
            [
             0.1111111111111111,
             "#46039f"
            ],
            [
             0.2222222222222222,
             "#7201a8"
            ],
            [
             0.3333333333333333,
             "#9c179e"
            ],
            [
             0.4444444444444444,
             "#bd3786"
            ],
            [
             0.5555555555555556,
             "#d8576b"
            ],
            [
             0.6666666666666666,
             "#ed7953"
            ],
            [
             0.7777777777777778,
             "#fb9f3a"
            ],
            [
             0.8888888888888888,
             "#fdca26"
            ],
            [
             1,
             "#f0f921"
            ]
           ]
          },
          "colorway": [
           "#636efa",
           "#EF553B",
           "#00cc96",
           "#ab63fa",
           "#FFA15A",
           "#19d3f3",
           "#FF6692",
           "#B6E880",
           "#FF97FF",
           "#FECB52"
          ],
          "font": {
           "color": "#2a3f5f"
          },
          "geo": {
           "bgcolor": "white",
           "lakecolor": "white",
           "landcolor": "white",
           "showlakes": true,
           "showland": true,
           "subunitcolor": "#C8D4E3"
          },
          "hoverlabel": {
           "align": "left"
          },
          "hovermode": "closest",
          "mapbox": {
           "style": "light"
          },
          "paper_bgcolor": "white",
          "plot_bgcolor": "white",
          "polar": {
           "angularaxis": {
            "gridcolor": "#EBF0F8",
            "linecolor": "#EBF0F8",
            "ticks": ""
           },
           "bgcolor": "white",
           "radialaxis": {
            "gridcolor": "#EBF0F8",
            "linecolor": "#EBF0F8",
            "ticks": ""
           }
          },
          "scene": {
           "xaxis": {
            "backgroundcolor": "white",
            "gridcolor": "#DFE8F3",
            "gridwidth": 2,
            "linecolor": "#EBF0F8",
            "showbackground": true,
            "ticks": "",
            "zerolinecolor": "#EBF0F8"
           },
           "yaxis": {
            "backgroundcolor": "white",
            "gridcolor": "#DFE8F3",
            "gridwidth": 2,
            "linecolor": "#EBF0F8",
            "showbackground": true,
            "ticks": "",
            "zerolinecolor": "#EBF0F8"
           },
           "zaxis": {
            "backgroundcolor": "white",
            "gridcolor": "#DFE8F3",
            "gridwidth": 2,
            "linecolor": "#EBF0F8",
            "showbackground": true,
            "ticks": "",
            "zerolinecolor": "#EBF0F8"
           }
          },
          "shapedefaults": {
           "line": {
            "color": "#2a3f5f"
           }
          },
          "ternary": {
           "aaxis": {
            "gridcolor": "#DFE8F3",
            "linecolor": "#A2B1C6",
            "ticks": ""
           },
           "baxis": {
            "gridcolor": "#DFE8F3",
            "linecolor": "#A2B1C6",
            "ticks": ""
           },
           "bgcolor": "white",
           "caxis": {
            "gridcolor": "#DFE8F3",
            "linecolor": "#A2B1C6",
            "ticks": ""
           }
          },
          "title": {
           "x": 0.05
          },
          "xaxis": {
           "automargin": true,
           "gridcolor": "#EBF0F8",
           "linecolor": "#EBF0F8",
           "ticks": "",
           "title": {
            "standoff": 15
           },
           "zerolinecolor": "#EBF0F8",
           "zerolinewidth": 2
          },
          "yaxis": {
           "automargin": true,
           "gridcolor": "#EBF0F8",
           "linecolor": "#EBF0F8",
           "ticks": "",
           "title": {
            "standoff": 15
           },
           "zerolinecolor": "#EBF0F8",
           "zerolinewidth": 2
          }
         }
        },
        "title": {
         "text": "Lapsed Time from stop 716 to 718 of line 1 in LA days. 7:00-9:00."
        },
        "xaxis": {
         "title": {
          "text": "Seconds"
         }
        },
        "yaxis": {
         "title": {
          "text": "Normalized Count"
         }
        }
       }
      },
      "text/html": [
       "<div>\n",
       "        \n",
       "        \n",
       "            <div id=\"f1d8ce88-9e40-4588-95bc-efd6c035a0b3\" class=\"plotly-graph-div\" style=\"height:525px; width:100%;\"></div>\n",
       "            <script type=\"text/javascript\">\n",
       "                require([\"plotly\"], function(Plotly) {\n",
       "                    window.PLOTLYENV=window.PLOTLYENV || {};\n",
       "                    \n",
       "                if (document.getElementById(\"f1d8ce88-9e40-4588-95bc-efd6c035a0b3\")) {\n",
       "                    Plotly.newPlot(\n",
       "                        'f1d8ce88-9e40-4588-95bc-efd6c035a0b3',\n",
       "                        [{\"histnorm\": \"probability\", \"name\": \"Before COVID-19\", \"opacity\": 0.75, \"type\": \"histogram\", \"x\": [126.11499786376953, 137.1649932861328, 131.1199951171875, 84.26300048828125, 252.85899353027344, 623.1380004882812, 225.98699951171875, 55.2859992980957, 181.375, 131.031005859375, 126.51799774169922, 135.45700073242188, 316.052001953125, 122.50700378417969, 19.174999237060547, 76.22799682617188, 62.816001892089844, 177.09300231933594, 126.64900207519531, 290.48199462890625, 191.30999755859375, 146.74200439453125, 459.91900634765625, 72.33699798583984, 144.51100158691406, 123.59500122070312, 259.9129943847656, 314.6449890136719, 256.7170104980469, 107.6449966430664, 51.525001525878906, 3.234999895095825, 111.81300354003906, 137.5679931640625, 112.95800018310547, 139.44700622558594, 291.44000244140625, 162.37899780273438, 197.76800537109375, 78.66400146484375, 26.91699981689453, 109.44499969482422, 164.76300048828125, 77.23100280761719, 194.447998046875, 62.15700149536133, 69.19499969482422, 1.5609999895095825, 211.98199462890625, 103.09400177001953, 147.21299743652344, 198.64599609375, 113.24099731445312, 171.6009979248047, 394.6159973144531, 133.36300659179688, 390.5090026855469, 108.85099792480469, 97.08499908447266, 168.96400451660156, 107.99800109863281, 128.85299682617188, 139.01400756835938, 203.11399841308594, 43.43000030517578, 92.99099731445312, 188.19400024414062, 97.37999725341797, 129.4759979248047, 185.07000732421875, 216.20399475097656, 76.15399932861328, 241.39300537109375, 152.4149932861328, 145.52000427246094, 51.29199981689453, 213.88099670410156, 163.94500732421875, 198.1179962158203, 278.125, 149.15499877929688, 518.5280151367188, 177.39999389648438, 38.24700164794922, 97.14399719238281, 132.27000427246094], \"xbins\": {\"size\": 5}}, {\"histnorm\": \"probability\", \"name\": \"While COVID-19\", \"opacity\": 0.75, \"type\": \"histogram\", \"x\": [321.98199462890625, 239.99000549316406, 217.06199645996094, 102.98500061035156, 58.027000427246094, 125.0009994506836, 45.268001556396484, 58.88100051879883, 105.88899993896484, 195.83099365234375, 51.08300018310547, 136.73800659179688, 107.85800170898438, 123.41699981689453, 69.13200378417969, 68.36199951171875, 109.31300354003906, 24.770000457763672, 146.92799377441406, 59.882999420166016, 133.39500427246094, 84.83300018310547, 81.08300018310547, 194.0489959716797, 62.58300018310547, 85.68299865722656, 269.7330017089844, 105.31999969482422, 181.88499450683594, 69.625, 44.167999267578125, 77.23799896240234, 73.63600158691406, 93.60700225830078, 181.91400146484375, 69.86100006103516, 242.1699981689453, 139.8820037841797, 104.30799865722656, 31.07200050354004, 162.88800048828125, 43.547000885009766, 381.1109924316406, 165.05599975585938, 214.5189971923828, 148.5, 101.7979965209961, 47.80099868774414, 104.91899871826172, 118.2249984741211, 75.0459976196289, 52.268001556396484, 63.194000244140625, 178.45399475097656, 68.00700378417969, 109.05599975585938, 171.10400390625, 57.518001556396484, 182.31199645996094, 121.75900268554688, 51.47600173950195, 87.4209976196289, 188.78700256347656, 181.8820037841797, 90.98300170898438, 71.94400024414062, 105.01899719238281, 335.072998046875, 40.652000427246094, 49.38600158691406, 215.3820037841797, 40.183998107910156, 154.09100341796875, 33.314998626708984, 92.3030014038086, 73.77799987792969, 98.90799713134766, 211.05299377441406, 106.13899993896484, 68.5719985961914, 68.1729965209961, 70.05999755859375, 226.00100708007812, 197.26699829101562, 205.30099487304688, 115.38800048828125, 161.2449951171875, 198.5659942626953, 139.9949951171875, 151.43800354003906, 107.33100128173828, 51.9739990234375, 78.0989990234375, 84.76399993896484, 187.5469970703125, 97.83399963378906, 264.5069885253906, 71.65699768066406, 131.23699951171875, 105.53600311279297, 170.7689971923828, 172.44900512695312, 157.4510040283203, 80.43800354003906, 75.75599670410156, 47.29999923706055, 325.92498779296875, 83.89600372314453, 134.2899932861328, 38.77799987792969, 80.94000244140625, 111.9489974975586, 79.75599670410156, 68.01899719238281, 81.06500244140625, 120.36599731445312, 73.2969970703125, 209.33599853515625, 65.5510025024414, 139.46600341796875, 110.44599914550781, 148.85899353027344, 113.75499725341797], \"xbins\": {\"size\": 10}}],\n",
       "                        {\"template\": {\"data\": {\"bar\": [{\"error_x\": {\"color\": \"#2a3f5f\"}, \"error_y\": {\"color\": \"#2a3f5f\"}, \"marker\": {\"line\": {\"color\": \"white\", \"width\": 0.5}}, \"type\": \"bar\"}], \"barpolar\": [{\"marker\": {\"line\": {\"color\": \"white\", \"width\": 0.5}}, \"type\": \"barpolar\"}], \"carpet\": [{\"aaxis\": {\"endlinecolor\": \"#2a3f5f\", \"gridcolor\": \"#C8D4E3\", \"linecolor\": \"#C8D4E3\", \"minorgridcolor\": \"#C8D4E3\", \"startlinecolor\": \"#2a3f5f\"}, \"baxis\": {\"endlinecolor\": \"#2a3f5f\", \"gridcolor\": \"#C8D4E3\", \"linecolor\": \"#C8D4E3\", \"minorgridcolor\": \"#C8D4E3\", \"startlinecolor\": \"#2a3f5f\"}, \"type\": \"carpet\"}], \"choropleth\": [{\"colorbar\": {\"outlinewidth\": 0, \"ticks\": \"\"}, \"type\": \"choropleth\"}], \"contour\": [{\"colorbar\": {\"outlinewidth\": 0, \"ticks\": \"\"}, \"colorscale\": [[0.0, \"#0d0887\"], [0.1111111111111111, \"#46039f\"], [0.2222222222222222, \"#7201a8\"], [0.3333333333333333, \"#9c179e\"], [0.4444444444444444, \"#bd3786\"], [0.5555555555555556, \"#d8576b\"], [0.6666666666666666, \"#ed7953\"], [0.7777777777777778, \"#fb9f3a\"], [0.8888888888888888, \"#fdca26\"], [1.0, \"#f0f921\"]], \"type\": \"contour\"}], \"contourcarpet\": [{\"colorbar\": {\"outlinewidth\": 0, \"ticks\": \"\"}, \"type\": \"contourcarpet\"}], \"heatmap\": [{\"colorbar\": {\"outlinewidth\": 0, \"ticks\": \"\"}, \"colorscale\": [[0.0, \"#0d0887\"], [0.1111111111111111, \"#46039f\"], [0.2222222222222222, \"#7201a8\"], [0.3333333333333333, \"#9c179e\"], [0.4444444444444444, \"#bd3786\"], [0.5555555555555556, \"#d8576b\"], [0.6666666666666666, \"#ed7953\"], [0.7777777777777778, \"#fb9f3a\"], [0.8888888888888888, \"#fdca26\"], [1.0, \"#f0f921\"]], \"type\": \"heatmap\"}], \"heatmapgl\": [{\"colorbar\": {\"outlinewidth\": 0, \"ticks\": \"\"}, \"colorscale\": [[0.0, \"#0d0887\"], [0.1111111111111111, \"#46039f\"], [0.2222222222222222, \"#7201a8\"], [0.3333333333333333, \"#9c179e\"], [0.4444444444444444, \"#bd3786\"], [0.5555555555555556, \"#d8576b\"], [0.6666666666666666, \"#ed7953\"], [0.7777777777777778, \"#fb9f3a\"], [0.8888888888888888, \"#fdca26\"], [1.0, \"#f0f921\"]], \"type\": \"heatmapgl\"}], \"histogram\": [{\"marker\": {\"colorbar\": {\"outlinewidth\": 0, \"ticks\": \"\"}}, \"type\": \"histogram\"}], \"histogram2d\": [{\"colorbar\": {\"outlinewidth\": 0, \"ticks\": \"\"}, \"colorscale\": [[0.0, \"#0d0887\"], [0.1111111111111111, \"#46039f\"], [0.2222222222222222, \"#7201a8\"], [0.3333333333333333, \"#9c179e\"], [0.4444444444444444, \"#bd3786\"], [0.5555555555555556, \"#d8576b\"], [0.6666666666666666, \"#ed7953\"], [0.7777777777777778, \"#fb9f3a\"], [0.8888888888888888, \"#fdca26\"], [1.0, \"#f0f921\"]], \"type\": \"histogram2d\"}], \"histogram2dcontour\": [{\"colorbar\": {\"outlinewidth\": 0, \"ticks\": \"\"}, \"colorscale\": [[0.0, \"#0d0887\"], [0.1111111111111111, \"#46039f\"], [0.2222222222222222, \"#7201a8\"], [0.3333333333333333, \"#9c179e\"], [0.4444444444444444, \"#bd3786\"], [0.5555555555555556, \"#d8576b\"], [0.6666666666666666, \"#ed7953\"], [0.7777777777777778, \"#fb9f3a\"], [0.8888888888888888, \"#fdca26\"], [1.0, \"#f0f921\"]], \"type\": \"histogram2dcontour\"}], \"mesh3d\": [{\"colorbar\": {\"outlinewidth\": 0, \"ticks\": \"\"}, \"type\": \"mesh3d\"}], \"parcoords\": [{\"line\": {\"colorbar\": {\"outlinewidth\": 0, \"ticks\": \"\"}}, \"type\": \"parcoords\"}], \"pie\": [{\"automargin\": true, \"type\": \"pie\"}], \"scatter\": [{\"marker\": {\"colorbar\": {\"outlinewidth\": 0, \"ticks\": \"\"}}, \"type\": \"scatter\"}], \"scatter3d\": [{\"line\": {\"colorbar\": {\"outlinewidth\": 0, \"ticks\": \"\"}}, \"marker\": {\"colorbar\": {\"outlinewidth\": 0, \"ticks\": \"\"}}, \"type\": \"scatter3d\"}], \"scattercarpet\": [{\"marker\": {\"colorbar\": {\"outlinewidth\": 0, \"ticks\": \"\"}}, \"type\": \"scattercarpet\"}], \"scattergeo\": [{\"marker\": {\"colorbar\": {\"outlinewidth\": 0, \"ticks\": \"\"}}, \"type\": \"scattergeo\"}], \"scattergl\": [{\"marker\": {\"colorbar\": {\"outlinewidth\": 0, \"ticks\": \"\"}}, \"type\": \"scattergl\"}], \"scattermapbox\": [{\"marker\": {\"colorbar\": {\"outlinewidth\": 0, \"ticks\": \"\"}}, \"type\": \"scattermapbox\"}], \"scatterpolar\": [{\"marker\": {\"colorbar\": {\"outlinewidth\": 0, \"ticks\": \"\"}}, \"type\": \"scatterpolar\"}], \"scatterpolargl\": [{\"marker\": {\"colorbar\": {\"outlinewidth\": 0, \"ticks\": \"\"}}, \"type\": \"scatterpolargl\"}], \"scatterternary\": [{\"marker\": {\"colorbar\": {\"outlinewidth\": 0, \"ticks\": \"\"}}, \"type\": \"scatterternary\"}], \"surface\": [{\"colorbar\": {\"outlinewidth\": 0, \"ticks\": \"\"}, \"colorscale\": [[0.0, \"#0d0887\"], [0.1111111111111111, \"#46039f\"], [0.2222222222222222, \"#7201a8\"], [0.3333333333333333, \"#9c179e\"], [0.4444444444444444, \"#bd3786\"], [0.5555555555555556, \"#d8576b\"], [0.6666666666666666, \"#ed7953\"], [0.7777777777777778, \"#fb9f3a\"], [0.8888888888888888, \"#fdca26\"], [1.0, \"#f0f921\"]], \"type\": \"surface\"}], \"table\": [{\"cells\": {\"fill\": {\"color\": \"#EBF0F8\"}, \"line\": {\"color\": \"white\"}}, \"header\": {\"fill\": {\"color\": \"#C8D4E3\"}, \"line\": {\"color\": \"white\"}}, \"type\": \"table\"}]}, \"layout\": {\"annotationdefaults\": {\"arrowcolor\": \"#2a3f5f\", \"arrowhead\": 0, \"arrowwidth\": 1}, \"coloraxis\": {\"colorbar\": {\"outlinewidth\": 0, \"ticks\": \"\"}}, \"colorscale\": {\"diverging\": [[0, \"#8e0152\"], [0.1, \"#c51b7d\"], [0.2, \"#de77ae\"], [0.3, \"#f1b6da\"], [0.4, \"#fde0ef\"], [0.5, \"#f7f7f7\"], [0.6, \"#e6f5d0\"], [0.7, \"#b8e186\"], [0.8, \"#7fbc41\"], [0.9, \"#4d9221\"], [1, \"#276419\"]], \"sequential\": [[0.0, \"#0d0887\"], [0.1111111111111111, \"#46039f\"], [0.2222222222222222, \"#7201a8\"], [0.3333333333333333, \"#9c179e\"], [0.4444444444444444, \"#bd3786\"], [0.5555555555555556, \"#d8576b\"], [0.6666666666666666, \"#ed7953\"], [0.7777777777777778, \"#fb9f3a\"], [0.8888888888888888, \"#fdca26\"], [1.0, \"#f0f921\"]], \"sequentialminus\": [[0.0, \"#0d0887\"], [0.1111111111111111, \"#46039f\"], [0.2222222222222222, \"#7201a8\"], [0.3333333333333333, \"#9c179e\"], [0.4444444444444444, \"#bd3786\"], [0.5555555555555556, \"#d8576b\"], [0.6666666666666666, \"#ed7953\"], [0.7777777777777778, \"#fb9f3a\"], [0.8888888888888888, \"#fdca26\"], [1.0, \"#f0f921\"]]}, \"colorway\": [\"#636efa\", \"#EF553B\", \"#00cc96\", \"#ab63fa\", \"#FFA15A\", \"#19d3f3\", \"#FF6692\", \"#B6E880\", \"#FF97FF\", \"#FECB52\"], \"font\": {\"color\": \"#2a3f5f\"}, \"geo\": {\"bgcolor\": \"white\", \"lakecolor\": \"white\", \"landcolor\": \"white\", \"showlakes\": true, \"showland\": true, \"subunitcolor\": \"#C8D4E3\"}, \"hoverlabel\": {\"align\": \"left\"}, \"hovermode\": \"closest\", \"mapbox\": {\"style\": \"light\"}, \"paper_bgcolor\": \"white\", \"plot_bgcolor\": \"white\", \"polar\": {\"angularaxis\": {\"gridcolor\": \"#EBF0F8\", \"linecolor\": \"#EBF0F8\", \"ticks\": \"\"}, \"bgcolor\": \"white\", \"radialaxis\": {\"gridcolor\": \"#EBF0F8\", \"linecolor\": \"#EBF0F8\", \"ticks\": \"\"}}, \"scene\": {\"xaxis\": {\"backgroundcolor\": \"white\", \"gridcolor\": \"#DFE8F3\", \"gridwidth\": 2, \"linecolor\": \"#EBF0F8\", \"showbackground\": true, \"ticks\": \"\", \"zerolinecolor\": \"#EBF0F8\"}, \"yaxis\": {\"backgroundcolor\": \"white\", \"gridcolor\": \"#DFE8F3\", \"gridwidth\": 2, \"linecolor\": \"#EBF0F8\", \"showbackground\": true, \"ticks\": \"\", \"zerolinecolor\": \"#EBF0F8\"}, \"zaxis\": {\"backgroundcolor\": \"white\", \"gridcolor\": \"#DFE8F3\", \"gridwidth\": 2, \"linecolor\": \"#EBF0F8\", \"showbackground\": true, \"ticks\": \"\", \"zerolinecolor\": \"#EBF0F8\"}}, \"shapedefaults\": {\"line\": {\"color\": \"#2a3f5f\"}}, \"ternary\": {\"aaxis\": {\"gridcolor\": \"#DFE8F3\", \"linecolor\": \"#A2B1C6\", \"ticks\": \"\"}, \"baxis\": {\"gridcolor\": \"#DFE8F3\", \"linecolor\": \"#A2B1C6\", \"ticks\": \"\"}, \"bgcolor\": \"white\", \"caxis\": {\"gridcolor\": \"#DFE8F3\", \"linecolor\": \"#A2B1C6\", \"ticks\": \"\"}}, \"title\": {\"x\": 0.05}, \"xaxis\": {\"automargin\": true, \"gridcolor\": \"#EBF0F8\", \"linecolor\": \"#EBF0F8\", \"ticks\": \"\", \"title\": {\"standoff\": 15}, \"zerolinecolor\": \"#EBF0F8\", \"zerolinewidth\": 2}, \"yaxis\": {\"automargin\": true, \"gridcolor\": \"#EBF0F8\", \"linecolor\": \"#EBF0F8\", \"ticks\": \"\", \"title\": {\"standoff\": 15}, \"zerolinecolor\": \"#EBF0F8\", \"zerolinewidth\": 2}}}, \"title\": {\"text\": \"Lapsed Time from stop 716 to 718 of line 1 in LA days. 7:00-9:00.\"}, \"xaxis\": {\"title\": {\"text\": \"Seconds\"}}, \"yaxis\": {\"title\": {\"text\": \"Normalized Count\"}}},\n",
       "                        {\"responsive\": true}\n",
       "                    ).then(function(){\n",
       "                            \n",
       "var gd = document.getElementById('f1d8ce88-9e40-4588-95bc-efd6c035a0b3');\n",
       "var x = new MutationObserver(function (mutations, observer) {{\n",
       "        var display = window.getComputedStyle(gd).display;\n",
       "        if (!display || display === 'none') {{\n",
       "            console.log([gd, 'removed!']);\n",
       "            Plotly.purge(gd);\n",
       "            observer.disconnect();\n",
       "        }}\n",
       "}});\n",
       "\n",
       "// Listen for the removal of the full notebook cells\n",
       "var notebookContainer = gd.closest('#notebook-container');\n",
       "if (notebookContainer) {{\n",
       "    x.observe(notebookContainer, {childList: true});\n",
       "}}\n",
       "\n",
       "// Listen for the clearing of the current output cell\n",
       "var outputEl = gd.closest('.output');\n",
       "if (outputEl) {{\n",
       "    x.observe(outputEl, {childList: true});\n",
       "}}\n",
       "\n",
       "                        })\n",
       "                };\n",
       "                });\n",
       "            </script>\n",
       "        </div>"
      ]
     },
     "metadata": {},
     "output_type": "display_data"
    }
   ],
   "source": [
    "#Comparison of data\n",
    "fig = go.Figure()\n",
    "fig.add_trace(go.Histogram(\n",
    "    x=tbs.trip_time,name='Before COVID-19',\n",
    "    histnorm='probability',\n",
    "    xbins=dict(\n",
    "        size=5\n",
    "    )\n",
    "))\n",
    "fig.add_trace(go.Histogram(\n",
    "    x=tbs_covid.trip_time,name='While COVID-19',\n",
    "    histnorm='probability',\n",
    "    xbins=dict(\n",
    "        size=10\n",
    "    )\n",
    "))\n",
    "# Overlay both histograms\n",
    "fig.update_layout(\n",
    "    title='Lapsed Time from stop {} to {} of line {} in {} days. {}:00-{}:00.'.format(stopA,stopB,line,day_type,st_hour,end_hour),\n",
    "    xaxis_title='Seconds',\n",
    "    yaxis_title='Normalized Count'\n",
    ")\n",
    "# Reduce opacity to see both histograms\n",
    "fig.update_traces(opacity=0.75)\n",
    "fig.show()"
   ]
  },
  {
   "cell_type": "code",
   "execution_count": 11,
   "metadata": {},
   "outputs": [
    {
     "data": {
      "application/vnd.plotly.v1+json": {
       "config": {
        "plotlyServerURL": "https://plot.ly"
       },
       "data": [
        {
         "histnorm": "probability",
         "name": "Before COVID-19",
         "opacity": 0.75,
         "type": "histogram",
         "x": [
          75,
          116,
          139,
          51,
          132,
          220,
          150,
          89,
          143,
          152,
          176,
          205,
          130,
          53,
          82,
          86,
          94,
          120,
          137,
          149,
          118,
          137,
          132,
          110,
          114,
          109,
          134,
          130,
          145,
          159,
          84,
          119,
          105,
          105,
          91,
          105,
          145,
          117,
          82,
          58,
          54,
          118,
          118,
          126,
          128,
          61,
          59,
          102,
          119,
          52,
          118,
          155,
          100,
          123,
          176,
          115,
          108,
          143,
          78,
          121,
          122,
          124,
          143,
          124,
          111,
          115,
          99,
          97,
          132,
          138,
          143,
          161,
          150,
          112,
          100,
          59,
          135,
          137,
          163,
          116,
          136,
          128,
          102,
          63,
          67,
          156
         ],
         "xbins": {
          "size": 5
         }
        },
        {
         "histnorm": "probability",
         "name": "While COVID-19",
         "opacity": 0.75,
         "type": "histogram",
         "x": [
          80,
          106,
          84,
          103,
          97,
          114,
          56,
          77,
          64,
          97,
          70,
          86,
          101,
          112,
          79,
          117,
          92,
          65,
          55,
          114,
          75,
          125,
          86,
          102,
          58,
          94,
          60,
          101,
          118,
          71,
          82,
          62,
          66,
          73,
          78,
          95,
          105,
          98,
          91,
          84,
          91,
          63,
          104,
          89,
          118,
          85,
          116,
          77,
          57,
          74,
          84,
          64,
          97,
          72,
          65,
          83,
          64,
          79,
          61,
          120,
          73,
          105,
          99,
          69,
          88,
          53,
          65,
          54,
          98,
          99,
          87,
          81,
          72,
          59,
          76,
          77,
          89,
          100,
          66,
          67,
          74,
          67,
          117,
          86,
          139,
          122,
          109,
          88,
          119,
          90,
          54,
          37,
          72,
          62,
          102,
          71,
          100,
          76,
          62,
          41,
          59,
          72,
          113,
          95,
          76,
          64,
          57,
          94,
          87,
          64,
          68,
          60,
          69,
          87,
          60,
          97,
          65,
          65,
          80,
          78,
          112,
          85,
          107
         ],
         "xbins": {
          "size": 10
         }
        }
       ],
       "layout": {
        "template": {
         "data": {
          "bar": [
           {
            "error_x": {
             "color": "#2a3f5f"
            },
            "error_y": {
             "color": "#2a3f5f"
            },
            "marker": {
             "line": {
              "color": "white",
              "width": 0.5
             }
            },
            "type": "bar"
           }
          ],
          "barpolar": [
           {
            "marker": {
             "line": {
              "color": "white",
              "width": 0.5
             }
            },
            "type": "barpolar"
           }
          ],
          "carpet": [
           {
            "aaxis": {
             "endlinecolor": "#2a3f5f",
             "gridcolor": "#C8D4E3",
             "linecolor": "#C8D4E3",
             "minorgridcolor": "#C8D4E3",
             "startlinecolor": "#2a3f5f"
            },
            "baxis": {
             "endlinecolor": "#2a3f5f",
             "gridcolor": "#C8D4E3",
             "linecolor": "#C8D4E3",
             "minorgridcolor": "#C8D4E3",
             "startlinecolor": "#2a3f5f"
            },
            "type": "carpet"
           }
          ],
          "choropleth": [
           {
            "colorbar": {
             "outlinewidth": 0,
             "ticks": ""
            },
            "type": "choropleth"
           }
          ],
          "contour": [
           {
            "colorbar": {
             "outlinewidth": 0,
             "ticks": ""
            },
            "colorscale": [
             [
              0,
              "#0d0887"
             ],
             [
              0.1111111111111111,
              "#46039f"
             ],
             [
              0.2222222222222222,
              "#7201a8"
             ],
             [
              0.3333333333333333,
              "#9c179e"
             ],
             [
              0.4444444444444444,
              "#bd3786"
             ],
             [
              0.5555555555555556,
              "#d8576b"
             ],
             [
              0.6666666666666666,
              "#ed7953"
             ],
             [
              0.7777777777777778,
              "#fb9f3a"
             ],
             [
              0.8888888888888888,
              "#fdca26"
             ],
             [
              1,
              "#f0f921"
             ]
            ],
            "type": "contour"
           }
          ],
          "contourcarpet": [
           {
            "colorbar": {
             "outlinewidth": 0,
             "ticks": ""
            },
            "type": "contourcarpet"
           }
          ],
          "heatmap": [
           {
            "colorbar": {
             "outlinewidth": 0,
             "ticks": ""
            },
            "colorscale": [
             [
              0,
              "#0d0887"
             ],
             [
              0.1111111111111111,
              "#46039f"
             ],
             [
              0.2222222222222222,
              "#7201a8"
             ],
             [
              0.3333333333333333,
              "#9c179e"
             ],
             [
              0.4444444444444444,
              "#bd3786"
             ],
             [
              0.5555555555555556,
              "#d8576b"
             ],
             [
              0.6666666666666666,
              "#ed7953"
             ],
             [
              0.7777777777777778,
              "#fb9f3a"
             ],
             [
              0.8888888888888888,
              "#fdca26"
             ],
             [
              1,
              "#f0f921"
             ]
            ],
            "type": "heatmap"
           }
          ],
          "heatmapgl": [
           {
            "colorbar": {
             "outlinewidth": 0,
             "ticks": ""
            },
            "colorscale": [
             [
              0,
              "#0d0887"
             ],
             [
              0.1111111111111111,
              "#46039f"
             ],
             [
              0.2222222222222222,
              "#7201a8"
             ],
             [
              0.3333333333333333,
              "#9c179e"
             ],
             [
              0.4444444444444444,
              "#bd3786"
             ],
             [
              0.5555555555555556,
              "#d8576b"
             ],
             [
              0.6666666666666666,
              "#ed7953"
             ],
             [
              0.7777777777777778,
              "#fb9f3a"
             ],
             [
              0.8888888888888888,
              "#fdca26"
             ],
             [
              1,
              "#f0f921"
             ]
            ],
            "type": "heatmapgl"
           }
          ],
          "histogram": [
           {
            "marker": {
             "colorbar": {
              "outlinewidth": 0,
              "ticks": ""
             }
            },
            "type": "histogram"
           }
          ],
          "histogram2d": [
           {
            "colorbar": {
             "outlinewidth": 0,
             "ticks": ""
            },
            "colorscale": [
             [
              0,
              "#0d0887"
             ],
             [
              0.1111111111111111,
              "#46039f"
             ],
             [
              0.2222222222222222,
              "#7201a8"
             ],
             [
              0.3333333333333333,
              "#9c179e"
             ],
             [
              0.4444444444444444,
              "#bd3786"
             ],
             [
              0.5555555555555556,
              "#d8576b"
             ],
             [
              0.6666666666666666,
              "#ed7953"
             ],
             [
              0.7777777777777778,
              "#fb9f3a"
             ],
             [
              0.8888888888888888,
              "#fdca26"
             ],
             [
              1,
              "#f0f921"
             ]
            ],
            "type": "histogram2d"
           }
          ],
          "histogram2dcontour": [
           {
            "colorbar": {
             "outlinewidth": 0,
             "ticks": ""
            },
            "colorscale": [
             [
              0,
              "#0d0887"
             ],
             [
              0.1111111111111111,
              "#46039f"
             ],
             [
              0.2222222222222222,
              "#7201a8"
             ],
             [
              0.3333333333333333,
              "#9c179e"
             ],
             [
              0.4444444444444444,
              "#bd3786"
             ],
             [
              0.5555555555555556,
              "#d8576b"
             ],
             [
              0.6666666666666666,
              "#ed7953"
             ],
             [
              0.7777777777777778,
              "#fb9f3a"
             ],
             [
              0.8888888888888888,
              "#fdca26"
             ],
             [
              1,
              "#f0f921"
             ]
            ],
            "type": "histogram2dcontour"
           }
          ],
          "mesh3d": [
           {
            "colorbar": {
             "outlinewidth": 0,
             "ticks": ""
            },
            "type": "mesh3d"
           }
          ],
          "parcoords": [
           {
            "line": {
             "colorbar": {
              "outlinewidth": 0,
              "ticks": ""
             }
            },
            "type": "parcoords"
           }
          ],
          "pie": [
           {
            "automargin": true,
            "type": "pie"
           }
          ],
          "scatter": [
           {
            "marker": {
             "colorbar": {
              "outlinewidth": 0,
              "ticks": ""
             }
            },
            "type": "scatter"
           }
          ],
          "scatter3d": [
           {
            "line": {
             "colorbar": {
              "outlinewidth": 0,
              "ticks": ""
             }
            },
            "marker": {
             "colorbar": {
              "outlinewidth": 0,
              "ticks": ""
             }
            },
            "type": "scatter3d"
           }
          ],
          "scattercarpet": [
           {
            "marker": {
             "colorbar": {
              "outlinewidth": 0,
              "ticks": ""
             }
            },
            "type": "scattercarpet"
           }
          ],
          "scattergeo": [
           {
            "marker": {
             "colorbar": {
              "outlinewidth": 0,
              "ticks": ""
             }
            },
            "type": "scattergeo"
           }
          ],
          "scattergl": [
           {
            "marker": {
             "colorbar": {
              "outlinewidth": 0,
              "ticks": ""
             }
            },
            "type": "scattergl"
           }
          ],
          "scattermapbox": [
           {
            "marker": {
             "colorbar": {
              "outlinewidth": 0,
              "ticks": ""
             }
            },
            "type": "scattermapbox"
           }
          ],
          "scatterpolar": [
           {
            "marker": {
             "colorbar": {
              "outlinewidth": 0,
              "ticks": ""
             }
            },
            "type": "scatterpolar"
           }
          ],
          "scatterpolargl": [
           {
            "marker": {
             "colorbar": {
              "outlinewidth": 0,
              "ticks": ""
             }
            },
            "type": "scatterpolargl"
           }
          ],
          "scatterternary": [
           {
            "marker": {
             "colorbar": {
              "outlinewidth": 0,
              "ticks": ""
             }
            },
            "type": "scatterternary"
           }
          ],
          "surface": [
           {
            "colorbar": {
             "outlinewidth": 0,
             "ticks": ""
            },
            "colorscale": [
             [
              0,
              "#0d0887"
             ],
             [
              0.1111111111111111,
              "#46039f"
             ],
             [
              0.2222222222222222,
              "#7201a8"
             ],
             [
              0.3333333333333333,
              "#9c179e"
             ],
             [
              0.4444444444444444,
              "#bd3786"
             ],
             [
              0.5555555555555556,
              "#d8576b"
             ],
             [
              0.6666666666666666,
              "#ed7953"
             ],
             [
              0.7777777777777778,
              "#fb9f3a"
             ],
             [
              0.8888888888888888,
              "#fdca26"
             ],
             [
              1,
              "#f0f921"
             ]
            ],
            "type": "surface"
           }
          ],
          "table": [
           {
            "cells": {
             "fill": {
              "color": "#EBF0F8"
             },
             "line": {
              "color": "white"
             }
            },
            "header": {
             "fill": {
              "color": "#C8D4E3"
             },
             "line": {
              "color": "white"
             }
            },
            "type": "table"
           }
          ]
         },
         "layout": {
          "annotationdefaults": {
           "arrowcolor": "#2a3f5f",
           "arrowhead": 0,
           "arrowwidth": 1
          },
          "coloraxis": {
           "colorbar": {
            "outlinewidth": 0,
            "ticks": ""
           }
          },
          "colorscale": {
           "diverging": [
            [
             0,
             "#8e0152"
            ],
            [
             0.1,
             "#c51b7d"
            ],
            [
             0.2,
             "#de77ae"
            ],
            [
             0.3,
             "#f1b6da"
            ],
            [
             0.4,
             "#fde0ef"
            ],
            [
             0.5,
             "#f7f7f7"
            ],
            [
             0.6,
             "#e6f5d0"
            ],
            [
             0.7,
             "#b8e186"
            ],
            [
             0.8,
             "#7fbc41"
            ],
            [
             0.9,
             "#4d9221"
            ],
            [
             1,
             "#276419"
            ]
           ],
           "sequential": [
            [
             0,
             "#0d0887"
            ],
            [
             0.1111111111111111,
             "#46039f"
            ],
            [
             0.2222222222222222,
             "#7201a8"
            ],
            [
             0.3333333333333333,
             "#9c179e"
            ],
            [
             0.4444444444444444,
             "#bd3786"
            ],
            [
             0.5555555555555556,
             "#d8576b"
            ],
            [
             0.6666666666666666,
             "#ed7953"
            ],
            [
             0.7777777777777778,
             "#fb9f3a"
            ],
            [
             0.8888888888888888,
             "#fdca26"
            ],
            [
             1,
             "#f0f921"
            ]
           ],
           "sequentialminus": [
            [
             0,
             "#0d0887"
            ],
            [
             0.1111111111111111,
             "#46039f"
            ],
            [
             0.2222222222222222,
             "#7201a8"
            ],
            [
             0.3333333333333333,
             "#9c179e"
            ],
            [
             0.4444444444444444,
             "#bd3786"
            ],
            [
             0.5555555555555556,
             "#d8576b"
            ],
            [
             0.6666666666666666,
             "#ed7953"
            ],
            [
             0.7777777777777778,
             "#fb9f3a"
            ],
            [
             0.8888888888888888,
             "#fdca26"
            ],
            [
             1,
             "#f0f921"
            ]
           ]
          },
          "colorway": [
           "#636efa",
           "#EF553B",
           "#00cc96",
           "#ab63fa",
           "#FFA15A",
           "#19d3f3",
           "#FF6692",
           "#B6E880",
           "#FF97FF",
           "#FECB52"
          ],
          "font": {
           "color": "#2a3f5f"
          },
          "geo": {
           "bgcolor": "white",
           "lakecolor": "white",
           "landcolor": "white",
           "showlakes": true,
           "showland": true,
           "subunitcolor": "#C8D4E3"
          },
          "hoverlabel": {
           "align": "left"
          },
          "hovermode": "closest",
          "mapbox": {
           "style": "light"
          },
          "paper_bgcolor": "white",
          "plot_bgcolor": "white",
          "polar": {
           "angularaxis": {
            "gridcolor": "#EBF0F8",
            "linecolor": "#EBF0F8",
            "ticks": ""
           },
           "bgcolor": "white",
           "radialaxis": {
            "gridcolor": "#EBF0F8",
            "linecolor": "#EBF0F8",
            "ticks": ""
           }
          },
          "scene": {
           "xaxis": {
            "backgroundcolor": "white",
            "gridcolor": "#DFE8F3",
            "gridwidth": 2,
            "linecolor": "#EBF0F8",
            "showbackground": true,
            "ticks": "",
            "zerolinecolor": "#EBF0F8"
           },
           "yaxis": {
            "backgroundcolor": "white",
            "gridcolor": "#DFE8F3",
            "gridwidth": 2,
            "linecolor": "#EBF0F8",
            "showbackground": true,
            "ticks": "",
            "zerolinecolor": "#EBF0F8"
           },
           "zaxis": {
            "backgroundcolor": "white",
            "gridcolor": "#DFE8F3",
            "gridwidth": 2,
            "linecolor": "#EBF0F8",
            "showbackground": true,
            "ticks": "",
            "zerolinecolor": "#EBF0F8"
           }
          },
          "shapedefaults": {
           "line": {
            "color": "#2a3f5f"
           }
          },
          "ternary": {
           "aaxis": {
            "gridcolor": "#DFE8F3",
            "linecolor": "#A2B1C6",
            "ticks": ""
           },
           "baxis": {
            "gridcolor": "#DFE8F3",
            "linecolor": "#A2B1C6",
            "ticks": ""
           },
           "bgcolor": "white",
           "caxis": {
            "gridcolor": "#DFE8F3",
            "linecolor": "#A2B1C6",
            "ticks": ""
           }
          },
          "title": {
           "x": 0.05
          },
          "xaxis": {
           "automargin": true,
           "gridcolor": "#EBF0F8",
           "linecolor": "#EBF0F8",
           "ticks": "",
           "title": {
            "standoff": 15
           },
           "zerolinecolor": "#EBF0F8",
           "zerolinewidth": 2
          },
          "yaxis": {
           "automargin": true,
           "gridcolor": "#EBF0F8",
           "linecolor": "#EBF0F8",
           "ticks": "",
           "title": {
            "standoff": 15
           },
           "zerolinecolor": "#EBF0F8",
           "zerolinewidth": 2
          }
         }
        },
        "title": {
         "text": "API Time from stop 716 to 718 of line 1 in LA days. 7:00-9:00."
        },
        "xaxis": {
         "title": {
          "text": "Seconds"
         }
        },
        "yaxis": {
         "title": {
          "text": "Normalized Count"
         }
        }
       }
      },
      "text/html": [
       "<div>\n",
       "        \n",
       "        \n",
       "            <div id=\"95bf744b-6ec5-418e-a6c7-3b9150840ebe\" class=\"plotly-graph-div\" style=\"height:525px; width:100%;\"></div>\n",
       "            <script type=\"text/javascript\">\n",
       "                require([\"plotly\"], function(Plotly) {\n",
       "                    window.PLOTLYENV=window.PLOTLYENV || {};\n",
       "                    \n",
       "                if (document.getElementById(\"95bf744b-6ec5-418e-a6c7-3b9150840ebe\")) {\n",
       "                    Plotly.newPlot(\n",
       "                        '95bf744b-6ec5-418e-a6c7-3b9150840ebe',\n",
       "                        [{\"histnorm\": \"probability\", \"name\": \"Before COVID-19\", \"opacity\": 0.75, \"type\": \"histogram\", \"x\": [75, 116, 139, 51, 132, 220, 150, 89, 143, 152, 176, 205, 130, 53, 82, 86, 94, 120, 137, 149, 118, 137, 132, 110, 114, 109, 134, 130, 145, 159, 84, 119, 105, 105, 91, 105, 145, 117, 82, 58, 54, 118, 118, 126, 128, 61, 59, 102, 119, 52, 118, 155, 100, 123, 176, 115, 108, 143, 78, 121, 122, 124, 143, 124, 111, 115, 99, 97, 132, 138, 143, 161, 150, 112, 100, 59, 135, 137, 163, 116, 136, 128, 102, 63, 67, 156], \"xbins\": {\"size\": 5}}, {\"histnorm\": \"probability\", \"name\": \"While COVID-19\", \"opacity\": 0.75, \"type\": \"histogram\", \"x\": [80, 106, 84, 103, 97, 114, 56, 77, 64, 97, 70, 86, 101, 112, 79, 117, 92, 65, 55, 114, 75, 125, 86, 102, 58, 94, 60, 101, 118, 71, 82, 62, 66, 73, 78, 95, 105, 98, 91, 84, 91, 63, 104, 89, 118, 85, 116, 77, 57, 74, 84, 64, 97, 72, 65, 83, 64, 79, 61, 120, 73, 105, 99, 69, 88, 53, 65, 54, 98, 99, 87, 81, 72, 59, 76, 77, 89, 100, 66, 67, 74, 67, 117, 86, 139, 122, 109, 88, 119, 90, 54, 37, 72, 62, 102, 71, 100, 76, 62, 41, 59, 72, 113, 95, 76, 64, 57, 94, 87, 64, 68, 60, 69, 87, 60, 97, 65, 65, 80, 78, 112, 85, 107], \"xbins\": {\"size\": 10}}],\n",
       "                        {\"template\": {\"data\": {\"bar\": [{\"error_x\": {\"color\": \"#2a3f5f\"}, \"error_y\": {\"color\": \"#2a3f5f\"}, \"marker\": {\"line\": {\"color\": \"white\", \"width\": 0.5}}, \"type\": \"bar\"}], \"barpolar\": [{\"marker\": {\"line\": {\"color\": \"white\", \"width\": 0.5}}, \"type\": \"barpolar\"}], \"carpet\": [{\"aaxis\": {\"endlinecolor\": \"#2a3f5f\", \"gridcolor\": \"#C8D4E3\", \"linecolor\": \"#C8D4E3\", \"minorgridcolor\": \"#C8D4E3\", \"startlinecolor\": \"#2a3f5f\"}, \"baxis\": {\"endlinecolor\": \"#2a3f5f\", \"gridcolor\": \"#C8D4E3\", \"linecolor\": \"#C8D4E3\", \"minorgridcolor\": \"#C8D4E3\", \"startlinecolor\": \"#2a3f5f\"}, \"type\": \"carpet\"}], \"choropleth\": [{\"colorbar\": {\"outlinewidth\": 0, \"ticks\": \"\"}, \"type\": \"choropleth\"}], \"contour\": [{\"colorbar\": {\"outlinewidth\": 0, \"ticks\": \"\"}, \"colorscale\": [[0.0, \"#0d0887\"], [0.1111111111111111, \"#46039f\"], [0.2222222222222222, \"#7201a8\"], [0.3333333333333333, \"#9c179e\"], [0.4444444444444444, \"#bd3786\"], [0.5555555555555556, \"#d8576b\"], [0.6666666666666666, \"#ed7953\"], [0.7777777777777778, \"#fb9f3a\"], [0.8888888888888888, \"#fdca26\"], [1.0, \"#f0f921\"]], \"type\": \"contour\"}], \"contourcarpet\": [{\"colorbar\": {\"outlinewidth\": 0, \"ticks\": \"\"}, \"type\": \"contourcarpet\"}], \"heatmap\": [{\"colorbar\": {\"outlinewidth\": 0, \"ticks\": \"\"}, \"colorscale\": [[0.0, \"#0d0887\"], [0.1111111111111111, \"#46039f\"], [0.2222222222222222, \"#7201a8\"], [0.3333333333333333, \"#9c179e\"], [0.4444444444444444, \"#bd3786\"], [0.5555555555555556, \"#d8576b\"], [0.6666666666666666, \"#ed7953\"], [0.7777777777777778, \"#fb9f3a\"], [0.8888888888888888, \"#fdca26\"], [1.0, \"#f0f921\"]], \"type\": \"heatmap\"}], \"heatmapgl\": [{\"colorbar\": {\"outlinewidth\": 0, \"ticks\": \"\"}, \"colorscale\": [[0.0, \"#0d0887\"], [0.1111111111111111, \"#46039f\"], [0.2222222222222222, \"#7201a8\"], [0.3333333333333333, \"#9c179e\"], [0.4444444444444444, \"#bd3786\"], [0.5555555555555556, \"#d8576b\"], [0.6666666666666666, \"#ed7953\"], [0.7777777777777778, \"#fb9f3a\"], [0.8888888888888888, \"#fdca26\"], [1.0, \"#f0f921\"]], \"type\": \"heatmapgl\"}], \"histogram\": [{\"marker\": {\"colorbar\": {\"outlinewidth\": 0, \"ticks\": \"\"}}, \"type\": \"histogram\"}], \"histogram2d\": [{\"colorbar\": {\"outlinewidth\": 0, \"ticks\": \"\"}, \"colorscale\": [[0.0, \"#0d0887\"], [0.1111111111111111, \"#46039f\"], [0.2222222222222222, \"#7201a8\"], [0.3333333333333333, \"#9c179e\"], [0.4444444444444444, \"#bd3786\"], [0.5555555555555556, \"#d8576b\"], [0.6666666666666666, \"#ed7953\"], [0.7777777777777778, \"#fb9f3a\"], [0.8888888888888888, \"#fdca26\"], [1.0, \"#f0f921\"]], \"type\": \"histogram2d\"}], \"histogram2dcontour\": [{\"colorbar\": {\"outlinewidth\": 0, \"ticks\": \"\"}, \"colorscale\": [[0.0, \"#0d0887\"], [0.1111111111111111, \"#46039f\"], [0.2222222222222222, \"#7201a8\"], [0.3333333333333333, \"#9c179e\"], [0.4444444444444444, \"#bd3786\"], [0.5555555555555556, \"#d8576b\"], [0.6666666666666666, \"#ed7953\"], [0.7777777777777778, \"#fb9f3a\"], [0.8888888888888888, \"#fdca26\"], [1.0, \"#f0f921\"]], \"type\": \"histogram2dcontour\"}], \"mesh3d\": [{\"colorbar\": {\"outlinewidth\": 0, \"ticks\": \"\"}, \"type\": \"mesh3d\"}], \"parcoords\": [{\"line\": {\"colorbar\": {\"outlinewidth\": 0, \"ticks\": \"\"}}, \"type\": \"parcoords\"}], \"pie\": [{\"automargin\": true, \"type\": \"pie\"}], \"scatter\": [{\"marker\": {\"colorbar\": {\"outlinewidth\": 0, \"ticks\": \"\"}}, \"type\": \"scatter\"}], \"scatter3d\": [{\"line\": {\"colorbar\": {\"outlinewidth\": 0, \"ticks\": \"\"}}, \"marker\": {\"colorbar\": {\"outlinewidth\": 0, \"ticks\": \"\"}}, \"type\": \"scatter3d\"}], \"scattercarpet\": [{\"marker\": {\"colorbar\": {\"outlinewidth\": 0, \"ticks\": \"\"}}, \"type\": \"scattercarpet\"}], \"scattergeo\": [{\"marker\": {\"colorbar\": {\"outlinewidth\": 0, \"ticks\": \"\"}}, \"type\": \"scattergeo\"}], \"scattergl\": [{\"marker\": {\"colorbar\": {\"outlinewidth\": 0, \"ticks\": \"\"}}, \"type\": \"scattergl\"}], \"scattermapbox\": [{\"marker\": {\"colorbar\": {\"outlinewidth\": 0, \"ticks\": \"\"}}, \"type\": \"scattermapbox\"}], \"scatterpolar\": [{\"marker\": {\"colorbar\": {\"outlinewidth\": 0, \"ticks\": \"\"}}, \"type\": \"scatterpolar\"}], \"scatterpolargl\": [{\"marker\": {\"colorbar\": {\"outlinewidth\": 0, \"ticks\": \"\"}}, \"type\": \"scatterpolargl\"}], \"scatterternary\": [{\"marker\": {\"colorbar\": {\"outlinewidth\": 0, \"ticks\": \"\"}}, \"type\": \"scatterternary\"}], \"surface\": [{\"colorbar\": {\"outlinewidth\": 0, \"ticks\": \"\"}, \"colorscale\": [[0.0, \"#0d0887\"], [0.1111111111111111, \"#46039f\"], [0.2222222222222222, \"#7201a8\"], [0.3333333333333333, \"#9c179e\"], [0.4444444444444444, \"#bd3786\"], [0.5555555555555556, \"#d8576b\"], [0.6666666666666666, \"#ed7953\"], [0.7777777777777778, \"#fb9f3a\"], [0.8888888888888888, \"#fdca26\"], [1.0, \"#f0f921\"]], \"type\": \"surface\"}], \"table\": [{\"cells\": {\"fill\": {\"color\": \"#EBF0F8\"}, \"line\": {\"color\": \"white\"}}, \"header\": {\"fill\": {\"color\": \"#C8D4E3\"}, \"line\": {\"color\": \"white\"}}, \"type\": \"table\"}]}, \"layout\": {\"annotationdefaults\": {\"arrowcolor\": \"#2a3f5f\", \"arrowhead\": 0, \"arrowwidth\": 1}, \"coloraxis\": {\"colorbar\": {\"outlinewidth\": 0, \"ticks\": \"\"}}, \"colorscale\": {\"diverging\": [[0, \"#8e0152\"], [0.1, \"#c51b7d\"], [0.2, \"#de77ae\"], [0.3, \"#f1b6da\"], [0.4, \"#fde0ef\"], [0.5, \"#f7f7f7\"], [0.6, \"#e6f5d0\"], [0.7, \"#b8e186\"], [0.8, \"#7fbc41\"], [0.9, \"#4d9221\"], [1, \"#276419\"]], \"sequential\": [[0.0, \"#0d0887\"], [0.1111111111111111, \"#46039f\"], [0.2222222222222222, \"#7201a8\"], [0.3333333333333333, \"#9c179e\"], [0.4444444444444444, \"#bd3786\"], [0.5555555555555556, \"#d8576b\"], [0.6666666666666666, \"#ed7953\"], [0.7777777777777778, \"#fb9f3a\"], [0.8888888888888888, \"#fdca26\"], [1.0, \"#f0f921\"]], \"sequentialminus\": [[0.0, \"#0d0887\"], [0.1111111111111111, \"#46039f\"], [0.2222222222222222, \"#7201a8\"], [0.3333333333333333, \"#9c179e\"], [0.4444444444444444, \"#bd3786\"], [0.5555555555555556, \"#d8576b\"], [0.6666666666666666, \"#ed7953\"], [0.7777777777777778, \"#fb9f3a\"], [0.8888888888888888, \"#fdca26\"], [1.0, \"#f0f921\"]]}, \"colorway\": [\"#636efa\", \"#EF553B\", \"#00cc96\", \"#ab63fa\", \"#FFA15A\", \"#19d3f3\", \"#FF6692\", \"#B6E880\", \"#FF97FF\", \"#FECB52\"], \"font\": {\"color\": \"#2a3f5f\"}, \"geo\": {\"bgcolor\": \"white\", \"lakecolor\": \"white\", \"landcolor\": \"white\", \"showlakes\": true, \"showland\": true, \"subunitcolor\": \"#C8D4E3\"}, \"hoverlabel\": {\"align\": \"left\"}, \"hovermode\": \"closest\", \"mapbox\": {\"style\": \"light\"}, \"paper_bgcolor\": \"white\", \"plot_bgcolor\": \"white\", \"polar\": {\"angularaxis\": {\"gridcolor\": \"#EBF0F8\", \"linecolor\": \"#EBF0F8\", \"ticks\": \"\"}, \"bgcolor\": \"white\", \"radialaxis\": {\"gridcolor\": \"#EBF0F8\", \"linecolor\": \"#EBF0F8\", \"ticks\": \"\"}}, \"scene\": {\"xaxis\": {\"backgroundcolor\": \"white\", \"gridcolor\": \"#DFE8F3\", \"gridwidth\": 2, \"linecolor\": \"#EBF0F8\", \"showbackground\": true, \"ticks\": \"\", \"zerolinecolor\": \"#EBF0F8\"}, \"yaxis\": {\"backgroundcolor\": \"white\", \"gridcolor\": \"#DFE8F3\", \"gridwidth\": 2, \"linecolor\": \"#EBF0F8\", \"showbackground\": true, \"ticks\": \"\", \"zerolinecolor\": \"#EBF0F8\"}, \"zaxis\": {\"backgroundcolor\": \"white\", \"gridcolor\": \"#DFE8F3\", \"gridwidth\": 2, \"linecolor\": \"#EBF0F8\", \"showbackground\": true, \"ticks\": \"\", \"zerolinecolor\": \"#EBF0F8\"}}, \"shapedefaults\": {\"line\": {\"color\": \"#2a3f5f\"}}, \"ternary\": {\"aaxis\": {\"gridcolor\": \"#DFE8F3\", \"linecolor\": \"#A2B1C6\", \"ticks\": \"\"}, \"baxis\": {\"gridcolor\": \"#DFE8F3\", \"linecolor\": \"#A2B1C6\", \"ticks\": \"\"}, \"bgcolor\": \"white\", \"caxis\": {\"gridcolor\": \"#DFE8F3\", \"linecolor\": \"#A2B1C6\", \"ticks\": \"\"}}, \"title\": {\"x\": 0.05}, \"xaxis\": {\"automargin\": true, \"gridcolor\": \"#EBF0F8\", \"linecolor\": \"#EBF0F8\", \"ticks\": \"\", \"title\": {\"standoff\": 15}, \"zerolinecolor\": \"#EBF0F8\", \"zerolinewidth\": 2}, \"yaxis\": {\"automargin\": true, \"gridcolor\": \"#EBF0F8\", \"linecolor\": \"#EBF0F8\", \"ticks\": \"\", \"title\": {\"standoff\": 15}, \"zerolinecolor\": \"#EBF0F8\", \"zerolinewidth\": 2}}}, \"title\": {\"text\": \"API Time from stop 716 to 718 of line 1 in LA days. 7:00-9:00.\"}, \"xaxis\": {\"title\": {\"text\": \"Seconds\"}}, \"yaxis\": {\"title\": {\"text\": \"Normalized Count\"}}},\n",
       "                        {\"responsive\": true}\n",
       "                    ).then(function(){\n",
       "                            \n",
       "var gd = document.getElementById('95bf744b-6ec5-418e-a6c7-3b9150840ebe');\n",
       "var x = new MutationObserver(function (mutations, observer) {{\n",
       "        var display = window.getComputedStyle(gd).display;\n",
       "        if (!display || display === 'none') {{\n",
       "            console.log([gd, 'removed!']);\n",
       "            Plotly.purge(gd);\n",
       "            observer.disconnect();\n",
       "        }}\n",
       "}});\n",
       "\n",
       "// Listen for the removal of the full notebook cells\n",
       "var notebookContainer = gd.closest('#notebook-container');\n",
       "if (notebookContainer) {{\n",
       "    x.observe(notebookContainer, {childList: true});\n",
       "}}\n",
       "\n",
       "// Listen for the clearing of the current output cell\n",
       "var outputEl = gd.closest('.output');\n",
       "if (outputEl) {{\n",
       "    x.observe(outputEl, {childList: true});\n",
       "}}\n",
       "\n",
       "                        })\n",
       "                };\n",
       "                });\n",
       "            </script>\n",
       "        </div>"
      ]
     },
     "metadata": {},
     "output_type": "display_data"
    }
   ],
   "source": [
    "#Comparison of data\n",
    "fig = go.Figure()\n",
    "fig.add_trace(go.Histogram(\n",
    "    x=tbs.api_trip_time,name='Before COVID-19',\n",
    "    histnorm='probability',\n",
    "    xbins=dict(\n",
    "        size=5\n",
    "    )\n",
    "))\n",
    "fig.add_trace(go.Histogram(\n",
    "    x=tbs_covid.api_trip_time,name='While COVID-19',\n",
    "    histnorm='probability',\n",
    "    xbins=dict(\n",
    "        size=10\n",
    "    )\n",
    "))\n",
    "# Overlay both histograms\n",
    "fig.update_layout(\n",
    "    title='API Time from stop {} to {} of line {} in {} days. {}:00-{}:00.'.format(stopA,stopB,line,day_type,st_hour,end_hour),\n",
    "    xaxis_title='Seconds',\n",
    "    yaxis_title='Normalized Count'\n",
    ")\n",
    "# Reduce opacity to see both histograms\n",
    "fig.update_traces(opacity=0.75)\n",
    "fig.show()"
   ]
  },
  {
   "cell_type": "code",
   "execution_count": 12,
   "metadata": {},
   "outputs": [
    {
     "data": {
      "application/vnd.plotly.v1+json": {
       "config": {
        "plotlyServerURL": "https://plot.ly"
       },
       "data": [
        {
         "histnorm": "probability",
         "name": "Lapsed time - Before COVID-19",
         "opacity": 0.75,
         "type": "histogram",
         "x": [
          126.11499786376953,
          137.1649932861328,
          131.1199951171875,
          84.26300048828125,
          252.85899353027344,
          623.1380004882812,
          225.98699951171875,
          55.2859992980957,
          181.375,
          131.031005859375,
          126.51799774169922,
          135.45700073242188,
          316.052001953125,
          122.50700378417969,
          19.174999237060547,
          76.22799682617188,
          62.816001892089844,
          177.09300231933594,
          126.64900207519531,
          290.48199462890625,
          191.30999755859375,
          146.74200439453125,
          459.91900634765625,
          72.33699798583984,
          144.51100158691406,
          123.59500122070312,
          259.9129943847656,
          314.6449890136719,
          256.7170104980469,
          107.6449966430664,
          51.525001525878906,
          3.234999895095825,
          111.81300354003906,
          137.5679931640625,
          112.95800018310547,
          139.44700622558594,
          291.44000244140625,
          162.37899780273438,
          197.76800537109375,
          78.66400146484375,
          26.91699981689453,
          109.44499969482422,
          164.76300048828125,
          77.23100280761719,
          194.447998046875,
          62.15700149536133,
          69.19499969482422,
          1.5609999895095825,
          211.98199462890625,
          103.09400177001953,
          147.21299743652344,
          198.64599609375,
          113.24099731445312,
          171.6009979248047,
          394.6159973144531,
          133.36300659179688,
          390.5090026855469,
          108.85099792480469,
          97.08499908447266,
          168.96400451660156,
          107.99800109863281,
          128.85299682617188,
          139.01400756835938,
          203.11399841308594,
          43.43000030517578,
          92.99099731445312,
          188.19400024414062,
          97.37999725341797,
          129.4759979248047,
          185.07000732421875,
          216.20399475097656,
          76.15399932861328,
          241.39300537109375,
          152.4149932861328,
          145.52000427246094,
          51.29199981689453,
          213.88099670410156,
          163.94500732421875,
          198.1179962158203,
          278.125,
          149.15499877929688,
          518.5280151367188,
          177.39999389648438,
          38.24700164794922,
          97.14399719238281,
          132.27000427246094
         ],
         "xbins": {
          "size": 5
         }
        },
        {
         "histnorm": "probability",
         "name": "API time - Before COVID-19",
         "opacity": 0.75,
         "type": "histogram",
         "x": [
          75,
          116,
          139,
          51,
          132,
          220,
          150,
          89,
          143,
          152,
          176,
          205,
          130,
          53,
          82,
          86,
          94,
          120,
          137,
          149,
          118,
          137,
          132,
          110,
          114,
          109,
          134,
          130,
          145,
          159,
          84,
          119,
          105,
          105,
          91,
          105,
          145,
          117,
          82,
          58,
          54,
          118,
          118,
          126,
          128,
          61,
          59,
          102,
          119,
          52,
          118,
          155,
          100,
          123,
          176,
          115,
          108,
          143,
          78,
          121,
          122,
          124,
          143,
          124,
          111,
          115,
          99,
          97,
          132,
          138,
          143,
          161,
          150,
          112,
          100,
          59,
          135,
          137,
          163,
          116,
          136,
          128,
          102,
          63,
          67,
          156
         ],
         "xbins": {
          "size": 10
         }
        }
       ],
       "layout": {
        "template": {
         "data": {
          "bar": [
           {
            "error_x": {
             "color": "#2a3f5f"
            },
            "error_y": {
             "color": "#2a3f5f"
            },
            "marker": {
             "line": {
              "color": "white",
              "width": 0.5
             }
            },
            "type": "bar"
           }
          ],
          "barpolar": [
           {
            "marker": {
             "line": {
              "color": "white",
              "width": 0.5
             }
            },
            "type": "barpolar"
           }
          ],
          "carpet": [
           {
            "aaxis": {
             "endlinecolor": "#2a3f5f",
             "gridcolor": "#C8D4E3",
             "linecolor": "#C8D4E3",
             "minorgridcolor": "#C8D4E3",
             "startlinecolor": "#2a3f5f"
            },
            "baxis": {
             "endlinecolor": "#2a3f5f",
             "gridcolor": "#C8D4E3",
             "linecolor": "#C8D4E3",
             "minorgridcolor": "#C8D4E3",
             "startlinecolor": "#2a3f5f"
            },
            "type": "carpet"
           }
          ],
          "choropleth": [
           {
            "colorbar": {
             "outlinewidth": 0,
             "ticks": ""
            },
            "type": "choropleth"
           }
          ],
          "contour": [
           {
            "colorbar": {
             "outlinewidth": 0,
             "ticks": ""
            },
            "colorscale": [
             [
              0,
              "#0d0887"
             ],
             [
              0.1111111111111111,
              "#46039f"
             ],
             [
              0.2222222222222222,
              "#7201a8"
             ],
             [
              0.3333333333333333,
              "#9c179e"
             ],
             [
              0.4444444444444444,
              "#bd3786"
             ],
             [
              0.5555555555555556,
              "#d8576b"
             ],
             [
              0.6666666666666666,
              "#ed7953"
             ],
             [
              0.7777777777777778,
              "#fb9f3a"
             ],
             [
              0.8888888888888888,
              "#fdca26"
             ],
             [
              1,
              "#f0f921"
             ]
            ],
            "type": "contour"
           }
          ],
          "contourcarpet": [
           {
            "colorbar": {
             "outlinewidth": 0,
             "ticks": ""
            },
            "type": "contourcarpet"
           }
          ],
          "heatmap": [
           {
            "colorbar": {
             "outlinewidth": 0,
             "ticks": ""
            },
            "colorscale": [
             [
              0,
              "#0d0887"
             ],
             [
              0.1111111111111111,
              "#46039f"
             ],
             [
              0.2222222222222222,
              "#7201a8"
             ],
             [
              0.3333333333333333,
              "#9c179e"
             ],
             [
              0.4444444444444444,
              "#bd3786"
             ],
             [
              0.5555555555555556,
              "#d8576b"
             ],
             [
              0.6666666666666666,
              "#ed7953"
             ],
             [
              0.7777777777777778,
              "#fb9f3a"
             ],
             [
              0.8888888888888888,
              "#fdca26"
             ],
             [
              1,
              "#f0f921"
             ]
            ],
            "type": "heatmap"
           }
          ],
          "heatmapgl": [
           {
            "colorbar": {
             "outlinewidth": 0,
             "ticks": ""
            },
            "colorscale": [
             [
              0,
              "#0d0887"
             ],
             [
              0.1111111111111111,
              "#46039f"
             ],
             [
              0.2222222222222222,
              "#7201a8"
             ],
             [
              0.3333333333333333,
              "#9c179e"
             ],
             [
              0.4444444444444444,
              "#bd3786"
             ],
             [
              0.5555555555555556,
              "#d8576b"
             ],
             [
              0.6666666666666666,
              "#ed7953"
             ],
             [
              0.7777777777777778,
              "#fb9f3a"
             ],
             [
              0.8888888888888888,
              "#fdca26"
             ],
             [
              1,
              "#f0f921"
             ]
            ],
            "type": "heatmapgl"
           }
          ],
          "histogram": [
           {
            "marker": {
             "colorbar": {
              "outlinewidth": 0,
              "ticks": ""
             }
            },
            "type": "histogram"
           }
          ],
          "histogram2d": [
           {
            "colorbar": {
             "outlinewidth": 0,
             "ticks": ""
            },
            "colorscale": [
             [
              0,
              "#0d0887"
             ],
             [
              0.1111111111111111,
              "#46039f"
             ],
             [
              0.2222222222222222,
              "#7201a8"
             ],
             [
              0.3333333333333333,
              "#9c179e"
             ],
             [
              0.4444444444444444,
              "#bd3786"
             ],
             [
              0.5555555555555556,
              "#d8576b"
             ],
             [
              0.6666666666666666,
              "#ed7953"
             ],
             [
              0.7777777777777778,
              "#fb9f3a"
             ],
             [
              0.8888888888888888,
              "#fdca26"
             ],
             [
              1,
              "#f0f921"
             ]
            ],
            "type": "histogram2d"
           }
          ],
          "histogram2dcontour": [
           {
            "colorbar": {
             "outlinewidth": 0,
             "ticks": ""
            },
            "colorscale": [
             [
              0,
              "#0d0887"
             ],
             [
              0.1111111111111111,
              "#46039f"
             ],
             [
              0.2222222222222222,
              "#7201a8"
             ],
             [
              0.3333333333333333,
              "#9c179e"
             ],
             [
              0.4444444444444444,
              "#bd3786"
             ],
             [
              0.5555555555555556,
              "#d8576b"
             ],
             [
              0.6666666666666666,
              "#ed7953"
             ],
             [
              0.7777777777777778,
              "#fb9f3a"
             ],
             [
              0.8888888888888888,
              "#fdca26"
             ],
             [
              1,
              "#f0f921"
             ]
            ],
            "type": "histogram2dcontour"
           }
          ],
          "mesh3d": [
           {
            "colorbar": {
             "outlinewidth": 0,
             "ticks": ""
            },
            "type": "mesh3d"
           }
          ],
          "parcoords": [
           {
            "line": {
             "colorbar": {
              "outlinewidth": 0,
              "ticks": ""
             }
            },
            "type": "parcoords"
           }
          ],
          "pie": [
           {
            "automargin": true,
            "type": "pie"
           }
          ],
          "scatter": [
           {
            "marker": {
             "colorbar": {
              "outlinewidth": 0,
              "ticks": ""
             }
            },
            "type": "scatter"
           }
          ],
          "scatter3d": [
           {
            "line": {
             "colorbar": {
              "outlinewidth": 0,
              "ticks": ""
             }
            },
            "marker": {
             "colorbar": {
              "outlinewidth": 0,
              "ticks": ""
             }
            },
            "type": "scatter3d"
           }
          ],
          "scattercarpet": [
           {
            "marker": {
             "colorbar": {
              "outlinewidth": 0,
              "ticks": ""
             }
            },
            "type": "scattercarpet"
           }
          ],
          "scattergeo": [
           {
            "marker": {
             "colorbar": {
              "outlinewidth": 0,
              "ticks": ""
             }
            },
            "type": "scattergeo"
           }
          ],
          "scattergl": [
           {
            "marker": {
             "colorbar": {
              "outlinewidth": 0,
              "ticks": ""
             }
            },
            "type": "scattergl"
           }
          ],
          "scattermapbox": [
           {
            "marker": {
             "colorbar": {
              "outlinewidth": 0,
              "ticks": ""
             }
            },
            "type": "scattermapbox"
           }
          ],
          "scatterpolar": [
           {
            "marker": {
             "colorbar": {
              "outlinewidth": 0,
              "ticks": ""
             }
            },
            "type": "scatterpolar"
           }
          ],
          "scatterpolargl": [
           {
            "marker": {
             "colorbar": {
              "outlinewidth": 0,
              "ticks": ""
             }
            },
            "type": "scatterpolargl"
           }
          ],
          "scatterternary": [
           {
            "marker": {
             "colorbar": {
              "outlinewidth": 0,
              "ticks": ""
             }
            },
            "type": "scatterternary"
           }
          ],
          "surface": [
           {
            "colorbar": {
             "outlinewidth": 0,
             "ticks": ""
            },
            "colorscale": [
             [
              0,
              "#0d0887"
             ],
             [
              0.1111111111111111,
              "#46039f"
             ],
             [
              0.2222222222222222,
              "#7201a8"
             ],
             [
              0.3333333333333333,
              "#9c179e"
             ],
             [
              0.4444444444444444,
              "#bd3786"
             ],
             [
              0.5555555555555556,
              "#d8576b"
             ],
             [
              0.6666666666666666,
              "#ed7953"
             ],
             [
              0.7777777777777778,
              "#fb9f3a"
             ],
             [
              0.8888888888888888,
              "#fdca26"
             ],
             [
              1,
              "#f0f921"
             ]
            ],
            "type": "surface"
           }
          ],
          "table": [
           {
            "cells": {
             "fill": {
              "color": "#EBF0F8"
             },
             "line": {
              "color": "white"
             }
            },
            "header": {
             "fill": {
              "color": "#C8D4E3"
             },
             "line": {
              "color": "white"
             }
            },
            "type": "table"
           }
          ]
         },
         "layout": {
          "annotationdefaults": {
           "arrowcolor": "#2a3f5f",
           "arrowhead": 0,
           "arrowwidth": 1
          },
          "coloraxis": {
           "colorbar": {
            "outlinewidth": 0,
            "ticks": ""
           }
          },
          "colorscale": {
           "diverging": [
            [
             0,
             "#8e0152"
            ],
            [
             0.1,
             "#c51b7d"
            ],
            [
             0.2,
             "#de77ae"
            ],
            [
             0.3,
             "#f1b6da"
            ],
            [
             0.4,
             "#fde0ef"
            ],
            [
             0.5,
             "#f7f7f7"
            ],
            [
             0.6,
             "#e6f5d0"
            ],
            [
             0.7,
             "#b8e186"
            ],
            [
             0.8,
             "#7fbc41"
            ],
            [
             0.9,
             "#4d9221"
            ],
            [
             1,
             "#276419"
            ]
           ],
           "sequential": [
            [
             0,
             "#0d0887"
            ],
            [
             0.1111111111111111,
             "#46039f"
            ],
            [
             0.2222222222222222,
             "#7201a8"
            ],
            [
             0.3333333333333333,
             "#9c179e"
            ],
            [
             0.4444444444444444,
             "#bd3786"
            ],
            [
             0.5555555555555556,
             "#d8576b"
            ],
            [
             0.6666666666666666,
             "#ed7953"
            ],
            [
             0.7777777777777778,
             "#fb9f3a"
            ],
            [
             0.8888888888888888,
             "#fdca26"
            ],
            [
             1,
             "#f0f921"
            ]
           ],
           "sequentialminus": [
            [
             0,
             "#0d0887"
            ],
            [
             0.1111111111111111,
             "#46039f"
            ],
            [
             0.2222222222222222,
             "#7201a8"
            ],
            [
             0.3333333333333333,
             "#9c179e"
            ],
            [
             0.4444444444444444,
             "#bd3786"
            ],
            [
             0.5555555555555556,
             "#d8576b"
            ],
            [
             0.6666666666666666,
             "#ed7953"
            ],
            [
             0.7777777777777778,
             "#fb9f3a"
            ],
            [
             0.8888888888888888,
             "#fdca26"
            ],
            [
             1,
             "#f0f921"
            ]
           ]
          },
          "colorway": [
           "#636efa",
           "#EF553B",
           "#00cc96",
           "#ab63fa",
           "#FFA15A",
           "#19d3f3",
           "#FF6692",
           "#B6E880",
           "#FF97FF",
           "#FECB52"
          ],
          "font": {
           "color": "#2a3f5f"
          },
          "geo": {
           "bgcolor": "white",
           "lakecolor": "white",
           "landcolor": "white",
           "showlakes": true,
           "showland": true,
           "subunitcolor": "#C8D4E3"
          },
          "hoverlabel": {
           "align": "left"
          },
          "hovermode": "closest",
          "mapbox": {
           "style": "light"
          },
          "paper_bgcolor": "white",
          "plot_bgcolor": "white",
          "polar": {
           "angularaxis": {
            "gridcolor": "#EBF0F8",
            "linecolor": "#EBF0F8",
            "ticks": ""
           },
           "bgcolor": "white",
           "radialaxis": {
            "gridcolor": "#EBF0F8",
            "linecolor": "#EBF0F8",
            "ticks": ""
           }
          },
          "scene": {
           "xaxis": {
            "backgroundcolor": "white",
            "gridcolor": "#DFE8F3",
            "gridwidth": 2,
            "linecolor": "#EBF0F8",
            "showbackground": true,
            "ticks": "",
            "zerolinecolor": "#EBF0F8"
           },
           "yaxis": {
            "backgroundcolor": "white",
            "gridcolor": "#DFE8F3",
            "gridwidth": 2,
            "linecolor": "#EBF0F8",
            "showbackground": true,
            "ticks": "",
            "zerolinecolor": "#EBF0F8"
           },
           "zaxis": {
            "backgroundcolor": "white",
            "gridcolor": "#DFE8F3",
            "gridwidth": 2,
            "linecolor": "#EBF0F8",
            "showbackground": true,
            "ticks": "",
            "zerolinecolor": "#EBF0F8"
           }
          },
          "shapedefaults": {
           "line": {
            "color": "#2a3f5f"
           }
          },
          "ternary": {
           "aaxis": {
            "gridcolor": "#DFE8F3",
            "linecolor": "#A2B1C6",
            "ticks": ""
           },
           "baxis": {
            "gridcolor": "#DFE8F3",
            "linecolor": "#A2B1C6",
            "ticks": ""
           },
           "bgcolor": "white",
           "caxis": {
            "gridcolor": "#DFE8F3",
            "linecolor": "#A2B1C6",
            "ticks": ""
           }
          },
          "title": {
           "x": 0.05
          },
          "xaxis": {
           "automargin": true,
           "gridcolor": "#EBF0F8",
           "linecolor": "#EBF0F8",
           "ticks": "",
           "title": {
            "standoff": 15
           },
           "zerolinecolor": "#EBF0F8",
           "zerolinewidth": 2
          },
          "yaxis": {
           "automargin": true,
           "gridcolor": "#EBF0F8",
           "linecolor": "#EBF0F8",
           "ticks": "",
           "title": {
            "standoff": 15
           },
           "zerolinecolor": "#EBF0F8",
           "zerolinewidth": 2
          }
         }
        },
        "title": {
         "text": "API Time from stop 716 to 718 of line 1 in LA days. 7:00-9:00."
        },
        "xaxis": {
         "title": {
          "text": "Seconds"
         }
        },
        "yaxis": {
         "title": {
          "text": "Normalized Count"
         }
        }
       }
      },
      "text/html": [
       "<div>\n",
       "        \n",
       "        \n",
       "            <div id=\"75fee857-757c-4195-9450-fcebec582384\" class=\"plotly-graph-div\" style=\"height:525px; width:100%;\"></div>\n",
       "            <script type=\"text/javascript\">\n",
       "                require([\"plotly\"], function(Plotly) {\n",
       "                    window.PLOTLYENV=window.PLOTLYENV || {};\n",
       "                    \n",
       "                if (document.getElementById(\"75fee857-757c-4195-9450-fcebec582384\")) {\n",
       "                    Plotly.newPlot(\n",
       "                        '75fee857-757c-4195-9450-fcebec582384',\n",
       "                        [{\"histnorm\": \"probability\", \"name\": \"Lapsed time - Before COVID-19\", \"opacity\": 0.75, \"type\": \"histogram\", \"x\": [126.11499786376953, 137.1649932861328, 131.1199951171875, 84.26300048828125, 252.85899353027344, 623.1380004882812, 225.98699951171875, 55.2859992980957, 181.375, 131.031005859375, 126.51799774169922, 135.45700073242188, 316.052001953125, 122.50700378417969, 19.174999237060547, 76.22799682617188, 62.816001892089844, 177.09300231933594, 126.64900207519531, 290.48199462890625, 191.30999755859375, 146.74200439453125, 459.91900634765625, 72.33699798583984, 144.51100158691406, 123.59500122070312, 259.9129943847656, 314.6449890136719, 256.7170104980469, 107.6449966430664, 51.525001525878906, 3.234999895095825, 111.81300354003906, 137.5679931640625, 112.95800018310547, 139.44700622558594, 291.44000244140625, 162.37899780273438, 197.76800537109375, 78.66400146484375, 26.91699981689453, 109.44499969482422, 164.76300048828125, 77.23100280761719, 194.447998046875, 62.15700149536133, 69.19499969482422, 1.5609999895095825, 211.98199462890625, 103.09400177001953, 147.21299743652344, 198.64599609375, 113.24099731445312, 171.6009979248047, 394.6159973144531, 133.36300659179688, 390.5090026855469, 108.85099792480469, 97.08499908447266, 168.96400451660156, 107.99800109863281, 128.85299682617188, 139.01400756835938, 203.11399841308594, 43.43000030517578, 92.99099731445312, 188.19400024414062, 97.37999725341797, 129.4759979248047, 185.07000732421875, 216.20399475097656, 76.15399932861328, 241.39300537109375, 152.4149932861328, 145.52000427246094, 51.29199981689453, 213.88099670410156, 163.94500732421875, 198.1179962158203, 278.125, 149.15499877929688, 518.5280151367188, 177.39999389648438, 38.24700164794922, 97.14399719238281, 132.27000427246094], \"xbins\": {\"size\": 5}}, {\"histnorm\": \"probability\", \"name\": \"API time - Before COVID-19\", \"opacity\": 0.75, \"type\": \"histogram\", \"x\": [75, 116, 139, 51, 132, 220, 150, 89, 143, 152, 176, 205, 130, 53, 82, 86, 94, 120, 137, 149, 118, 137, 132, 110, 114, 109, 134, 130, 145, 159, 84, 119, 105, 105, 91, 105, 145, 117, 82, 58, 54, 118, 118, 126, 128, 61, 59, 102, 119, 52, 118, 155, 100, 123, 176, 115, 108, 143, 78, 121, 122, 124, 143, 124, 111, 115, 99, 97, 132, 138, 143, 161, 150, 112, 100, 59, 135, 137, 163, 116, 136, 128, 102, 63, 67, 156], \"xbins\": {\"size\": 10}}],\n",
       "                        {\"template\": {\"data\": {\"bar\": [{\"error_x\": {\"color\": \"#2a3f5f\"}, \"error_y\": {\"color\": \"#2a3f5f\"}, \"marker\": {\"line\": {\"color\": \"white\", \"width\": 0.5}}, \"type\": \"bar\"}], \"barpolar\": [{\"marker\": {\"line\": {\"color\": \"white\", \"width\": 0.5}}, \"type\": \"barpolar\"}], \"carpet\": [{\"aaxis\": {\"endlinecolor\": \"#2a3f5f\", \"gridcolor\": \"#C8D4E3\", \"linecolor\": \"#C8D4E3\", \"minorgridcolor\": \"#C8D4E3\", \"startlinecolor\": \"#2a3f5f\"}, \"baxis\": {\"endlinecolor\": \"#2a3f5f\", \"gridcolor\": \"#C8D4E3\", \"linecolor\": \"#C8D4E3\", \"minorgridcolor\": \"#C8D4E3\", \"startlinecolor\": \"#2a3f5f\"}, \"type\": \"carpet\"}], \"choropleth\": [{\"colorbar\": {\"outlinewidth\": 0, \"ticks\": \"\"}, \"type\": \"choropleth\"}], \"contour\": [{\"colorbar\": {\"outlinewidth\": 0, \"ticks\": \"\"}, \"colorscale\": [[0.0, \"#0d0887\"], [0.1111111111111111, \"#46039f\"], [0.2222222222222222, \"#7201a8\"], [0.3333333333333333, \"#9c179e\"], [0.4444444444444444, \"#bd3786\"], [0.5555555555555556, \"#d8576b\"], [0.6666666666666666, \"#ed7953\"], [0.7777777777777778, \"#fb9f3a\"], [0.8888888888888888, \"#fdca26\"], [1.0, \"#f0f921\"]], \"type\": \"contour\"}], \"contourcarpet\": [{\"colorbar\": {\"outlinewidth\": 0, \"ticks\": \"\"}, \"type\": \"contourcarpet\"}], \"heatmap\": [{\"colorbar\": {\"outlinewidth\": 0, \"ticks\": \"\"}, \"colorscale\": [[0.0, \"#0d0887\"], [0.1111111111111111, \"#46039f\"], [0.2222222222222222, \"#7201a8\"], [0.3333333333333333, \"#9c179e\"], [0.4444444444444444, \"#bd3786\"], [0.5555555555555556, \"#d8576b\"], [0.6666666666666666, \"#ed7953\"], [0.7777777777777778, \"#fb9f3a\"], [0.8888888888888888, \"#fdca26\"], [1.0, \"#f0f921\"]], \"type\": \"heatmap\"}], \"heatmapgl\": [{\"colorbar\": {\"outlinewidth\": 0, \"ticks\": \"\"}, \"colorscale\": [[0.0, \"#0d0887\"], [0.1111111111111111, \"#46039f\"], [0.2222222222222222, \"#7201a8\"], [0.3333333333333333, \"#9c179e\"], [0.4444444444444444, \"#bd3786\"], [0.5555555555555556, \"#d8576b\"], [0.6666666666666666, \"#ed7953\"], [0.7777777777777778, \"#fb9f3a\"], [0.8888888888888888, \"#fdca26\"], [1.0, \"#f0f921\"]], \"type\": \"heatmapgl\"}], \"histogram\": [{\"marker\": {\"colorbar\": {\"outlinewidth\": 0, \"ticks\": \"\"}}, \"type\": \"histogram\"}], \"histogram2d\": [{\"colorbar\": {\"outlinewidth\": 0, \"ticks\": \"\"}, \"colorscale\": [[0.0, \"#0d0887\"], [0.1111111111111111, \"#46039f\"], [0.2222222222222222, \"#7201a8\"], [0.3333333333333333, \"#9c179e\"], [0.4444444444444444, \"#bd3786\"], [0.5555555555555556, \"#d8576b\"], [0.6666666666666666, \"#ed7953\"], [0.7777777777777778, \"#fb9f3a\"], [0.8888888888888888, \"#fdca26\"], [1.0, \"#f0f921\"]], \"type\": \"histogram2d\"}], \"histogram2dcontour\": [{\"colorbar\": {\"outlinewidth\": 0, \"ticks\": \"\"}, \"colorscale\": [[0.0, \"#0d0887\"], [0.1111111111111111, \"#46039f\"], [0.2222222222222222, \"#7201a8\"], [0.3333333333333333, \"#9c179e\"], [0.4444444444444444, \"#bd3786\"], [0.5555555555555556, \"#d8576b\"], [0.6666666666666666, \"#ed7953\"], [0.7777777777777778, \"#fb9f3a\"], [0.8888888888888888, \"#fdca26\"], [1.0, \"#f0f921\"]], \"type\": \"histogram2dcontour\"}], \"mesh3d\": [{\"colorbar\": {\"outlinewidth\": 0, \"ticks\": \"\"}, \"type\": \"mesh3d\"}], \"parcoords\": [{\"line\": {\"colorbar\": {\"outlinewidth\": 0, \"ticks\": \"\"}}, \"type\": \"parcoords\"}], \"pie\": [{\"automargin\": true, \"type\": \"pie\"}], \"scatter\": [{\"marker\": {\"colorbar\": {\"outlinewidth\": 0, \"ticks\": \"\"}}, \"type\": \"scatter\"}], \"scatter3d\": [{\"line\": {\"colorbar\": {\"outlinewidth\": 0, \"ticks\": \"\"}}, \"marker\": {\"colorbar\": {\"outlinewidth\": 0, \"ticks\": \"\"}}, \"type\": \"scatter3d\"}], \"scattercarpet\": [{\"marker\": {\"colorbar\": {\"outlinewidth\": 0, \"ticks\": \"\"}}, \"type\": \"scattercarpet\"}], \"scattergeo\": [{\"marker\": {\"colorbar\": {\"outlinewidth\": 0, \"ticks\": \"\"}}, \"type\": \"scattergeo\"}], \"scattergl\": [{\"marker\": {\"colorbar\": {\"outlinewidth\": 0, \"ticks\": \"\"}}, \"type\": \"scattergl\"}], \"scattermapbox\": [{\"marker\": {\"colorbar\": {\"outlinewidth\": 0, \"ticks\": \"\"}}, \"type\": \"scattermapbox\"}], \"scatterpolar\": [{\"marker\": {\"colorbar\": {\"outlinewidth\": 0, \"ticks\": \"\"}}, \"type\": \"scatterpolar\"}], \"scatterpolargl\": [{\"marker\": {\"colorbar\": {\"outlinewidth\": 0, \"ticks\": \"\"}}, \"type\": \"scatterpolargl\"}], \"scatterternary\": [{\"marker\": {\"colorbar\": {\"outlinewidth\": 0, \"ticks\": \"\"}}, \"type\": \"scatterternary\"}], \"surface\": [{\"colorbar\": {\"outlinewidth\": 0, \"ticks\": \"\"}, \"colorscale\": [[0.0, \"#0d0887\"], [0.1111111111111111, \"#46039f\"], [0.2222222222222222, \"#7201a8\"], [0.3333333333333333, \"#9c179e\"], [0.4444444444444444, \"#bd3786\"], [0.5555555555555556, \"#d8576b\"], [0.6666666666666666, \"#ed7953\"], [0.7777777777777778, \"#fb9f3a\"], [0.8888888888888888, \"#fdca26\"], [1.0, \"#f0f921\"]], \"type\": \"surface\"}], \"table\": [{\"cells\": {\"fill\": {\"color\": \"#EBF0F8\"}, \"line\": {\"color\": \"white\"}}, \"header\": {\"fill\": {\"color\": \"#C8D4E3\"}, \"line\": {\"color\": \"white\"}}, \"type\": \"table\"}]}, \"layout\": {\"annotationdefaults\": {\"arrowcolor\": \"#2a3f5f\", \"arrowhead\": 0, \"arrowwidth\": 1}, \"coloraxis\": {\"colorbar\": {\"outlinewidth\": 0, \"ticks\": \"\"}}, \"colorscale\": {\"diverging\": [[0, \"#8e0152\"], [0.1, \"#c51b7d\"], [0.2, \"#de77ae\"], [0.3, \"#f1b6da\"], [0.4, \"#fde0ef\"], [0.5, \"#f7f7f7\"], [0.6, \"#e6f5d0\"], [0.7, \"#b8e186\"], [0.8, \"#7fbc41\"], [0.9, \"#4d9221\"], [1, \"#276419\"]], \"sequential\": [[0.0, \"#0d0887\"], [0.1111111111111111, \"#46039f\"], [0.2222222222222222, \"#7201a8\"], [0.3333333333333333, \"#9c179e\"], [0.4444444444444444, \"#bd3786\"], [0.5555555555555556, \"#d8576b\"], [0.6666666666666666, \"#ed7953\"], [0.7777777777777778, \"#fb9f3a\"], [0.8888888888888888, \"#fdca26\"], [1.0, \"#f0f921\"]], \"sequentialminus\": [[0.0, \"#0d0887\"], [0.1111111111111111, \"#46039f\"], [0.2222222222222222, \"#7201a8\"], [0.3333333333333333, \"#9c179e\"], [0.4444444444444444, \"#bd3786\"], [0.5555555555555556, \"#d8576b\"], [0.6666666666666666, \"#ed7953\"], [0.7777777777777778, \"#fb9f3a\"], [0.8888888888888888, \"#fdca26\"], [1.0, \"#f0f921\"]]}, \"colorway\": [\"#636efa\", \"#EF553B\", \"#00cc96\", \"#ab63fa\", \"#FFA15A\", \"#19d3f3\", \"#FF6692\", \"#B6E880\", \"#FF97FF\", \"#FECB52\"], \"font\": {\"color\": \"#2a3f5f\"}, \"geo\": {\"bgcolor\": \"white\", \"lakecolor\": \"white\", \"landcolor\": \"white\", \"showlakes\": true, \"showland\": true, \"subunitcolor\": \"#C8D4E3\"}, \"hoverlabel\": {\"align\": \"left\"}, \"hovermode\": \"closest\", \"mapbox\": {\"style\": \"light\"}, \"paper_bgcolor\": \"white\", \"plot_bgcolor\": \"white\", \"polar\": {\"angularaxis\": {\"gridcolor\": \"#EBF0F8\", \"linecolor\": \"#EBF0F8\", \"ticks\": \"\"}, \"bgcolor\": \"white\", \"radialaxis\": {\"gridcolor\": \"#EBF0F8\", \"linecolor\": \"#EBF0F8\", \"ticks\": \"\"}}, \"scene\": {\"xaxis\": {\"backgroundcolor\": \"white\", \"gridcolor\": \"#DFE8F3\", \"gridwidth\": 2, \"linecolor\": \"#EBF0F8\", \"showbackground\": true, \"ticks\": \"\", \"zerolinecolor\": \"#EBF0F8\"}, \"yaxis\": {\"backgroundcolor\": \"white\", \"gridcolor\": \"#DFE8F3\", \"gridwidth\": 2, \"linecolor\": \"#EBF0F8\", \"showbackground\": true, \"ticks\": \"\", \"zerolinecolor\": \"#EBF0F8\"}, \"zaxis\": {\"backgroundcolor\": \"white\", \"gridcolor\": \"#DFE8F3\", \"gridwidth\": 2, \"linecolor\": \"#EBF0F8\", \"showbackground\": true, \"ticks\": \"\", \"zerolinecolor\": \"#EBF0F8\"}}, \"shapedefaults\": {\"line\": {\"color\": \"#2a3f5f\"}}, \"ternary\": {\"aaxis\": {\"gridcolor\": \"#DFE8F3\", \"linecolor\": \"#A2B1C6\", \"ticks\": \"\"}, \"baxis\": {\"gridcolor\": \"#DFE8F3\", \"linecolor\": \"#A2B1C6\", \"ticks\": \"\"}, \"bgcolor\": \"white\", \"caxis\": {\"gridcolor\": \"#DFE8F3\", \"linecolor\": \"#A2B1C6\", \"ticks\": \"\"}}, \"title\": {\"x\": 0.05}, \"xaxis\": {\"automargin\": true, \"gridcolor\": \"#EBF0F8\", \"linecolor\": \"#EBF0F8\", \"ticks\": \"\", \"title\": {\"standoff\": 15}, \"zerolinecolor\": \"#EBF0F8\", \"zerolinewidth\": 2}, \"yaxis\": {\"automargin\": true, \"gridcolor\": \"#EBF0F8\", \"linecolor\": \"#EBF0F8\", \"ticks\": \"\", \"title\": {\"standoff\": 15}, \"zerolinecolor\": \"#EBF0F8\", \"zerolinewidth\": 2}}}, \"title\": {\"text\": \"API Time from stop 716 to 718 of line 1 in LA days. 7:00-9:00.\"}, \"xaxis\": {\"title\": {\"text\": \"Seconds\"}}, \"yaxis\": {\"title\": {\"text\": \"Normalized Count\"}}},\n",
       "                        {\"responsive\": true}\n",
       "                    ).then(function(){\n",
       "                            \n",
       "var gd = document.getElementById('75fee857-757c-4195-9450-fcebec582384');\n",
       "var x = new MutationObserver(function (mutations, observer) {{\n",
       "        var display = window.getComputedStyle(gd).display;\n",
       "        if (!display || display === 'none') {{\n",
       "            console.log([gd, 'removed!']);\n",
       "            Plotly.purge(gd);\n",
       "            observer.disconnect();\n",
       "        }}\n",
       "}});\n",
       "\n",
       "// Listen for the removal of the full notebook cells\n",
       "var notebookContainer = gd.closest('#notebook-container');\n",
       "if (notebookContainer) {{\n",
       "    x.observe(notebookContainer, {childList: true});\n",
       "}}\n",
       "\n",
       "// Listen for the clearing of the current output cell\n",
       "var outputEl = gd.closest('.output');\n",
       "if (outputEl) {{\n",
       "    x.observe(outputEl, {childList: true});\n",
       "}}\n",
       "\n",
       "                        })\n",
       "                };\n",
       "                });\n",
       "            </script>\n",
       "        </div>"
      ]
     },
     "metadata": {},
     "output_type": "display_data"
    }
   ],
   "source": [
    "#API vs Lapsed data\n",
    "fig = go.Figure()\n",
    "fig.add_trace(go.Histogram(\n",
    "    x=tbs.trip_time,name='Lapsed time - Before COVID-19',\n",
    "    histnorm='probability',\n",
    "    xbins=dict(\n",
    "        size=5\n",
    "    )\n",
    "))\n",
    "fig.add_trace(go.Histogram(\n",
    "    x=tbs.api_trip_time,name='API time - Before COVID-19',\n",
    "    histnorm='probability',\n",
    "    xbins=dict(\n",
    "        size=10\n",
    "    )\n",
    "))\n",
    "# Overlay both histograms\n",
    "fig.update_layout(\n",
    "    title='API Time from stop {} to {} of line {} in {} days. {}:00-{}:00.'.format(stopA,stopB,line,day_type,st_hour,end_hour),\n",
    "    xaxis_title='Seconds',\n",
    "    yaxis_title='Normalized Count'\n",
    ")\n",
    "# Reduce opacity to see both histograms\n",
    "fig.update_traces(opacity=0.75)\n",
    "fig.show()"
   ]
  },
  {
   "cell_type": "code",
   "execution_count": 13,
   "metadata": {},
   "outputs": [
    {
     "data": {
      "application/vnd.plotly.v1+json": {
       "config": {
        "plotlyServerURL": "https://plot.ly"
       },
       "data": [
        {
         "histnorm": "probability",
         "name": "Lapsed time - While COVID-19",
         "opacity": 0.75,
         "type": "histogram",
         "x": [
          321.98199462890625,
          239.99000549316406,
          217.06199645996094,
          102.98500061035156,
          58.027000427246094,
          125.0009994506836,
          45.268001556396484,
          58.88100051879883,
          105.88899993896484,
          195.83099365234375,
          51.08300018310547,
          136.73800659179688,
          107.85800170898438,
          123.41699981689453,
          69.13200378417969,
          68.36199951171875,
          109.31300354003906,
          24.770000457763672,
          146.92799377441406,
          59.882999420166016,
          133.39500427246094,
          84.83300018310547,
          81.08300018310547,
          194.0489959716797,
          62.58300018310547,
          85.68299865722656,
          269.7330017089844,
          105.31999969482422,
          181.88499450683594,
          69.625,
          44.167999267578125,
          77.23799896240234,
          73.63600158691406,
          93.60700225830078,
          181.91400146484375,
          69.86100006103516,
          242.1699981689453,
          139.8820037841797,
          104.30799865722656,
          31.07200050354004,
          162.88800048828125,
          43.547000885009766,
          381.1109924316406,
          165.05599975585938,
          214.5189971923828,
          148.5,
          101.7979965209961,
          47.80099868774414,
          104.91899871826172,
          118.2249984741211,
          75.0459976196289,
          52.268001556396484,
          63.194000244140625,
          178.45399475097656,
          68.00700378417969,
          109.05599975585938,
          171.10400390625,
          57.518001556396484,
          182.31199645996094,
          121.75900268554688,
          51.47600173950195,
          87.4209976196289,
          188.78700256347656,
          181.8820037841797,
          90.98300170898438,
          71.94400024414062,
          105.01899719238281,
          335.072998046875,
          40.652000427246094,
          49.38600158691406,
          215.3820037841797,
          40.183998107910156,
          154.09100341796875,
          33.314998626708984,
          92.3030014038086,
          73.77799987792969,
          98.90799713134766,
          211.05299377441406,
          106.13899993896484,
          68.5719985961914,
          68.1729965209961,
          70.05999755859375,
          226.00100708007812,
          197.26699829101562,
          205.30099487304688,
          115.38800048828125,
          161.2449951171875,
          198.5659942626953,
          139.9949951171875,
          151.43800354003906,
          107.33100128173828,
          51.9739990234375,
          78.0989990234375,
          84.76399993896484,
          187.5469970703125,
          97.83399963378906,
          264.5069885253906,
          71.65699768066406,
          131.23699951171875,
          105.53600311279297,
          170.7689971923828,
          172.44900512695312,
          157.4510040283203,
          80.43800354003906,
          75.75599670410156,
          47.29999923706055,
          325.92498779296875,
          83.89600372314453,
          134.2899932861328,
          38.77799987792969,
          80.94000244140625,
          111.9489974975586,
          79.75599670410156,
          68.01899719238281,
          81.06500244140625,
          120.36599731445312,
          73.2969970703125,
          209.33599853515625,
          65.5510025024414,
          139.46600341796875,
          110.44599914550781,
          148.85899353027344,
          113.75499725341797
         ],
         "xbins": {
          "size": 5
         }
        },
        {
         "histnorm": "probability",
         "name": "API time - While COVID-19",
         "opacity": 0.75,
         "type": "histogram",
         "x": [
          80,
          106,
          84,
          103,
          97,
          114,
          56,
          77,
          64,
          97,
          70,
          86,
          101,
          112,
          79,
          117,
          92,
          65,
          55,
          114,
          75,
          125,
          86,
          102,
          58,
          94,
          60,
          101,
          118,
          71,
          82,
          62,
          66,
          73,
          78,
          95,
          105,
          98,
          91,
          84,
          91,
          63,
          104,
          89,
          118,
          85,
          116,
          77,
          57,
          74,
          84,
          64,
          97,
          72,
          65,
          83,
          64,
          79,
          61,
          120,
          73,
          105,
          99,
          69,
          88,
          53,
          65,
          54,
          98,
          99,
          87,
          81,
          72,
          59,
          76,
          77,
          89,
          100,
          66,
          67,
          74,
          67,
          117,
          86,
          139,
          122,
          109,
          88,
          119,
          90,
          54,
          37,
          72,
          62,
          102,
          71,
          100,
          76,
          62,
          41,
          59,
          72,
          113,
          95,
          76,
          64,
          57,
          94,
          87,
          64,
          68,
          60,
          69,
          87,
          60,
          97,
          65,
          65,
          80,
          78,
          112,
          85,
          107
         ],
         "xbins": {
          "size": 10
         }
        }
       ],
       "layout": {
        "template": {
         "data": {
          "bar": [
           {
            "error_x": {
             "color": "#2a3f5f"
            },
            "error_y": {
             "color": "#2a3f5f"
            },
            "marker": {
             "line": {
              "color": "white",
              "width": 0.5
             }
            },
            "type": "bar"
           }
          ],
          "barpolar": [
           {
            "marker": {
             "line": {
              "color": "white",
              "width": 0.5
             }
            },
            "type": "barpolar"
           }
          ],
          "carpet": [
           {
            "aaxis": {
             "endlinecolor": "#2a3f5f",
             "gridcolor": "#C8D4E3",
             "linecolor": "#C8D4E3",
             "minorgridcolor": "#C8D4E3",
             "startlinecolor": "#2a3f5f"
            },
            "baxis": {
             "endlinecolor": "#2a3f5f",
             "gridcolor": "#C8D4E3",
             "linecolor": "#C8D4E3",
             "minorgridcolor": "#C8D4E3",
             "startlinecolor": "#2a3f5f"
            },
            "type": "carpet"
           }
          ],
          "choropleth": [
           {
            "colorbar": {
             "outlinewidth": 0,
             "ticks": ""
            },
            "type": "choropleth"
           }
          ],
          "contour": [
           {
            "colorbar": {
             "outlinewidth": 0,
             "ticks": ""
            },
            "colorscale": [
             [
              0,
              "#0d0887"
             ],
             [
              0.1111111111111111,
              "#46039f"
             ],
             [
              0.2222222222222222,
              "#7201a8"
             ],
             [
              0.3333333333333333,
              "#9c179e"
             ],
             [
              0.4444444444444444,
              "#bd3786"
             ],
             [
              0.5555555555555556,
              "#d8576b"
             ],
             [
              0.6666666666666666,
              "#ed7953"
             ],
             [
              0.7777777777777778,
              "#fb9f3a"
             ],
             [
              0.8888888888888888,
              "#fdca26"
             ],
             [
              1,
              "#f0f921"
             ]
            ],
            "type": "contour"
           }
          ],
          "contourcarpet": [
           {
            "colorbar": {
             "outlinewidth": 0,
             "ticks": ""
            },
            "type": "contourcarpet"
           }
          ],
          "heatmap": [
           {
            "colorbar": {
             "outlinewidth": 0,
             "ticks": ""
            },
            "colorscale": [
             [
              0,
              "#0d0887"
             ],
             [
              0.1111111111111111,
              "#46039f"
             ],
             [
              0.2222222222222222,
              "#7201a8"
             ],
             [
              0.3333333333333333,
              "#9c179e"
             ],
             [
              0.4444444444444444,
              "#bd3786"
             ],
             [
              0.5555555555555556,
              "#d8576b"
             ],
             [
              0.6666666666666666,
              "#ed7953"
             ],
             [
              0.7777777777777778,
              "#fb9f3a"
             ],
             [
              0.8888888888888888,
              "#fdca26"
             ],
             [
              1,
              "#f0f921"
             ]
            ],
            "type": "heatmap"
           }
          ],
          "heatmapgl": [
           {
            "colorbar": {
             "outlinewidth": 0,
             "ticks": ""
            },
            "colorscale": [
             [
              0,
              "#0d0887"
             ],
             [
              0.1111111111111111,
              "#46039f"
             ],
             [
              0.2222222222222222,
              "#7201a8"
             ],
             [
              0.3333333333333333,
              "#9c179e"
             ],
             [
              0.4444444444444444,
              "#bd3786"
             ],
             [
              0.5555555555555556,
              "#d8576b"
             ],
             [
              0.6666666666666666,
              "#ed7953"
             ],
             [
              0.7777777777777778,
              "#fb9f3a"
             ],
             [
              0.8888888888888888,
              "#fdca26"
             ],
             [
              1,
              "#f0f921"
             ]
            ],
            "type": "heatmapgl"
           }
          ],
          "histogram": [
           {
            "marker": {
             "colorbar": {
              "outlinewidth": 0,
              "ticks": ""
             }
            },
            "type": "histogram"
           }
          ],
          "histogram2d": [
           {
            "colorbar": {
             "outlinewidth": 0,
             "ticks": ""
            },
            "colorscale": [
             [
              0,
              "#0d0887"
             ],
             [
              0.1111111111111111,
              "#46039f"
             ],
             [
              0.2222222222222222,
              "#7201a8"
             ],
             [
              0.3333333333333333,
              "#9c179e"
             ],
             [
              0.4444444444444444,
              "#bd3786"
             ],
             [
              0.5555555555555556,
              "#d8576b"
             ],
             [
              0.6666666666666666,
              "#ed7953"
             ],
             [
              0.7777777777777778,
              "#fb9f3a"
             ],
             [
              0.8888888888888888,
              "#fdca26"
             ],
             [
              1,
              "#f0f921"
             ]
            ],
            "type": "histogram2d"
           }
          ],
          "histogram2dcontour": [
           {
            "colorbar": {
             "outlinewidth": 0,
             "ticks": ""
            },
            "colorscale": [
             [
              0,
              "#0d0887"
             ],
             [
              0.1111111111111111,
              "#46039f"
             ],
             [
              0.2222222222222222,
              "#7201a8"
             ],
             [
              0.3333333333333333,
              "#9c179e"
             ],
             [
              0.4444444444444444,
              "#bd3786"
             ],
             [
              0.5555555555555556,
              "#d8576b"
             ],
             [
              0.6666666666666666,
              "#ed7953"
             ],
             [
              0.7777777777777778,
              "#fb9f3a"
             ],
             [
              0.8888888888888888,
              "#fdca26"
             ],
             [
              1,
              "#f0f921"
             ]
            ],
            "type": "histogram2dcontour"
           }
          ],
          "mesh3d": [
           {
            "colorbar": {
             "outlinewidth": 0,
             "ticks": ""
            },
            "type": "mesh3d"
           }
          ],
          "parcoords": [
           {
            "line": {
             "colorbar": {
              "outlinewidth": 0,
              "ticks": ""
             }
            },
            "type": "parcoords"
           }
          ],
          "pie": [
           {
            "automargin": true,
            "type": "pie"
           }
          ],
          "scatter": [
           {
            "marker": {
             "colorbar": {
              "outlinewidth": 0,
              "ticks": ""
             }
            },
            "type": "scatter"
           }
          ],
          "scatter3d": [
           {
            "line": {
             "colorbar": {
              "outlinewidth": 0,
              "ticks": ""
             }
            },
            "marker": {
             "colorbar": {
              "outlinewidth": 0,
              "ticks": ""
             }
            },
            "type": "scatter3d"
           }
          ],
          "scattercarpet": [
           {
            "marker": {
             "colorbar": {
              "outlinewidth": 0,
              "ticks": ""
             }
            },
            "type": "scattercarpet"
           }
          ],
          "scattergeo": [
           {
            "marker": {
             "colorbar": {
              "outlinewidth": 0,
              "ticks": ""
             }
            },
            "type": "scattergeo"
           }
          ],
          "scattergl": [
           {
            "marker": {
             "colorbar": {
              "outlinewidth": 0,
              "ticks": ""
             }
            },
            "type": "scattergl"
           }
          ],
          "scattermapbox": [
           {
            "marker": {
             "colorbar": {
              "outlinewidth": 0,
              "ticks": ""
             }
            },
            "type": "scattermapbox"
           }
          ],
          "scatterpolar": [
           {
            "marker": {
             "colorbar": {
              "outlinewidth": 0,
              "ticks": ""
             }
            },
            "type": "scatterpolar"
           }
          ],
          "scatterpolargl": [
           {
            "marker": {
             "colorbar": {
              "outlinewidth": 0,
              "ticks": ""
             }
            },
            "type": "scatterpolargl"
           }
          ],
          "scatterternary": [
           {
            "marker": {
             "colorbar": {
              "outlinewidth": 0,
              "ticks": ""
             }
            },
            "type": "scatterternary"
           }
          ],
          "surface": [
           {
            "colorbar": {
             "outlinewidth": 0,
             "ticks": ""
            },
            "colorscale": [
             [
              0,
              "#0d0887"
             ],
             [
              0.1111111111111111,
              "#46039f"
             ],
             [
              0.2222222222222222,
              "#7201a8"
             ],
             [
              0.3333333333333333,
              "#9c179e"
             ],
             [
              0.4444444444444444,
              "#bd3786"
             ],
             [
              0.5555555555555556,
              "#d8576b"
             ],
             [
              0.6666666666666666,
              "#ed7953"
             ],
             [
              0.7777777777777778,
              "#fb9f3a"
             ],
             [
              0.8888888888888888,
              "#fdca26"
             ],
             [
              1,
              "#f0f921"
             ]
            ],
            "type": "surface"
           }
          ],
          "table": [
           {
            "cells": {
             "fill": {
              "color": "#EBF0F8"
             },
             "line": {
              "color": "white"
             }
            },
            "header": {
             "fill": {
              "color": "#C8D4E3"
             },
             "line": {
              "color": "white"
             }
            },
            "type": "table"
           }
          ]
         },
         "layout": {
          "annotationdefaults": {
           "arrowcolor": "#2a3f5f",
           "arrowhead": 0,
           "arrowwidth": 1
          },
          "coloraxis": {
           "colorbar": {
            "outlinewidth": 0,
            "ticks": ""
           }
          },
          "colorscale": {
           "diverging": [
            [
             0,
             "#8e0152"
            ],
            [
             0.1,
             "#c51b7d"
            ],
            [
             0.2,
             "#de77ae"
            ],
            [
             0.3,
             "#f1b6da"
            ],
            [
             0.4,
             "#fde0ef"
            ],
            [
             0.5,
             "#f7f7f7"
            ],
            [
             0.6,
             "#e6f5d0"
            ],
            [
             0.7,
             "#b8e186"
            ],
            [
             0.8,
             "#7fbc41"
            ],
            [
             0.9,
             "#4d9221"
            ],
            [
             1,
             "#276419"
            ]
           ],
           "sequential": [
            [
             0,
             "#0d0887"
            ],
            [
             0.1111111111111111,
             "#46039f"
            ],
            [
             0.2222222222222222,
             "#7201a8"
            ],
            [
             0.3333333333333333,
             "#9c179e"
            ],
            [
             0.4444444444444444,
             "#bd3786"
            ],
            [
             0.5555555555555556,
             "#d8576b"
            ],
            [
             0.6666666666666666,
             "#ed7953"
            ],
            [
             0.7777777777777778,
             "#fb9f3a"
            ],
            [
             0.8888888888888888,
             "#fdca26"
            ],
            [
             1,
             "#f0f921"
            ]
           ],
           "sequentialminus": [
            [
             0,
             "#0d0887"
            ],
            [
             0.1111111111111111,
             "#46039f"
            ],
            [
             0.2222222222222222,
             "#7201a8"
            ],
            [
             0.3333333333333333,
             "#9c179e"
            ],
            [
             0.4444444444444444,
             "#bd3786"
            ],
            [
             0.5555555555555556,
             "#d8576b"
            ],
            [
             0.6666666666666666,
             "#ed7953"
            ],
            [
             0.7777777777777778,
             "#fb9f3a"
            ],
            [
             0.8888888888888888,
             "#fdca26"
            ],
            [
             1,
             "#f0f921"
            ]
           ]
          },
          "colorway": [
           "#636efa",
           "#EF553B",
           "#00cc96",
           "#ab63fa",
           "#FFA15A",
           "#19d3f3",
           "#FF6692",
           "#B6E880",
           "#FF97FF",
           "#FECB52"
          ],
          "font": {
           "color": "#2a3f5f"
          },
          "geo": {
           "bgcolor": "white",
           "lakecolor": "white",
           "landcolor": "white",
           "showlakes": true,
           "showland": true,
           "subunitcolor": "#C8D4E3"
          },
          "hoverlabel": {
           "align": "left"
          },
          "hovermode": "closest",
          "mapbox": {
           "style": "light"
          },
          "paper_bgcolor": "white",
          "plot_bgcolor": "white",
          "polar": {
           "angularaxis": {
            "gridcolor": "#EBF0F8",
            "linecolor": "#EBF0F8",
            "ticks": ""
           },
           "bgcolor": "white",
           "radialaxis": {
            "gridcolor": "#EBF0F8",
            "linecolor": "#EBF0F8",
            "ticks": ""
           }
          },
          "scene": {
           "xaxis": {
            "backgroundcolor": "white",
            "gridcolor": "#DFE8F3",
            "gridwidth": 2,
            "linecolor": "#EBF0F8",
            "showbackground": true,
            "ticks": "",
            "zerolinecolor": "#EBF0F8"
           },
           "yaxis": {
            "backgroundcolor": "white",
            "gridcolor": "#DFE8F3",
            "gridwidth": 2,
            "linecolor": "#EBF0F8",
            "showbackground": true,
            "ticks": "",
            "zerolinecolor": "#EBF0F8"
           },
           "zaxis": {
            "backgroundcolor": "white",
            "gridcolor": "#DFE8F3",
            "gridwidth": 2,
            "linecolor": "#EBF0F8",
            "showbackground": true,
            "ticks": "",
            "zerolinecolor": "#EBF0F8"
           }
          },
          "shapedefaults": {
           "line": {
            "color": "#2a3f5f"
           }
          },
          "ternary": {
           "aaxis": {
            "gridcolor": "#DFE8F3",
            "linecolor": "#A2B1C6",
            "ticks": ""
           },
           "baxis": {
            "gridcolor": "#DFE8F3",
            "linecolor": "#A2B1C6",
            "ticks": ""
           },
           "bgcolor": "white",
           "caxis": {
            "gridcolor": "#DFE8F3",
            "linecolor": "#A2B1C6",
            "ticks": ""
           }
          },
          "title": {
           "x": 0.05
          },
          "xaxis": {
           "automargin": true,
           "gridcolor": "#EBF0F8",
           "linecolor": "#EBF0F8",
           "ticks": "",
           "title": {
            "standoff": 15
           },
           "zerolinecolor": "#EBF0F8",
           "zerolinewidth": 2
          },
          "yaxis": {
           "automargin": true,
           "gridcolor": "#EBF0F8",
           "linecolor": "#EBF0F8",
           "ticks": "",
           "title": {
            "standoff": 15
           },
           "zerolinecolor": "#EBF0F8",
           "zerolinewidth": 2
          }
         }
        },
        "title": {
         "text": "API Time from stop 716 to 718 of line 1 in LA days. 7:00-9:00."
        },
        "xaxis": {
         "title": {
          "text": "Seconds"
         }
        },
        "yaxis": {
         "title": {
          "text": "Normalized Count"
         }
        }
       }
      },
      "text/html": [
       "<div>\n",
       "        \n",
       "        \n",
       "            <div id=\"6929da72-b9dd-4229-b689-eeb4cc7c3771\" class=\"plotly-graph-div\" style=\"height:525px; width:100%;\"></div>\n",
       "            <script type=\"text/javascript\">\n",
       "                require([\"plotly\"], function(Plotly) {\n",
       "                    window.PLOTLYENV=window.PLOTLYENV || {};\n",
       "                    \n",
       "                if (document.getElementById(\"6929da72-b9dd-4229-b689-eeb4cc7c3771\")) {\n",
       "                    Plotly.newPlot(\n",
       "                        '6929da72-b9dd-4229-b689-eeb4cc7c3771',\n",
       "                        [{\"histnorm\": \"probability\", \"name\": \"Lapsed time - While COVID-19\", \"opacity\": 0.75, \"type\": \"histogram\", \"x\": [321.98199462890625, 239.99000549316406, 217.06199645996094, 102.98500061035156, 58.027000427246094, 125.0009994506836, 45.268001556396484, 58.88100051879883, 105.88899993896484, 195.83099365234375, 51.08300018310547, 136.73800659179688, 107.85800170898438, 123.41699981689453, 69.13200378417969, 68.36199951171875, 109.31300354003906, 24.770000457763672, 146.92799377441406, 59.882999420166016, 133.39500427246094, 84.83300018310547, 81.08300018310547, 194.0489959716797, 62.58300018310547, 85.68299865722656, 269.7330017089844, 105.31999969482422, 181.88499450683594, 69.625, 44.167999267578125, 77.23799896240234, 73.63600158691406, 93.60700225830078, 181.91400146484375, 69.86100006103516, 242.1699981689453, 139.8820037841797, 104.30799865722656, 31.07200050354004, 162.88800048828125, 43.547000885009766, 381.1109924316406, 165.05599975585938, 214.5189971923828, 148.5, 101.7979965209961, 47.80099868774414, 104.91899871826172, 118.2249984741211, 75.0459976196289, 52.268001556396484, 63.194000244140625, 178.45399475097656, 68.00700378417969, 109.05599975585938, 171.10400390625, 57.518001556396484, 182.31199645996094, 121.75900268554688, 51.47600173950195, 87.4209976196289, 188.78700256347656, 181.8820037841797, 90.98300170898438, 71.94400024414062, 105.01899719238281, 335.072998046875, 40.652000427246094, 49.38600158691406, 215.3820037841797, 40.183998107910156, 154.09100341796875, 33.314998626708984, 92.3030014038086, 73.77799987792969, 98.90799713134766, 211.05299377441406, 106.13899993896484, 68.5719985961914, 68.1729965209961, 70.05999755859375, 226.00100708007812, 197.26699829101562, 205.30099487304688, 115.38800048828125, 161.2449951171875, 198.5659942626953, 139.9949951171875, 151.43800354003906, 107.33100128173828, 51.9739990234375, 78.0989990234375, 84.76399993896484, 187.5469970703125, 97.83399963378906, 264.5069885253906, 71.65699768066406, 131.23699951171875, 105.53600311279297, 170.7689971923828, 172.44900512695312, 157.4510040283203, 80.43800354003906, 75.75599670410156, 47.29999923706055, 325.92498779296875, 83.89600372314453, 134.2899932861328, 38.77799987792969, 80.94000244140625, 111.9489974975586, 79.75599670410156, 68.01899719238281, 81.06500244140625, 120.36599731445312, 73.2969970703125, 209.33599853515625, 65.5510025024414, 139.46600341796875, 110.44599914550781, 148.85899353027344, 113.75499725341797], \"xbins\": {\"size\": 5}}, {\"histnorm\": \"probability\", \"name\": \"API time - While COVID-19\", \"opacity\": 0.75, \"type\": \"histogram\", \"x\": [80, 106, 84, 103, 97, 114, 56, 77, 64, 97, 70, 86, 101, 112, 79, 117, 92, 65, 55, 114, 75, 125, 86, 102, 58, 94, 60, 101, 118, 71, 82, 62, 66, 73, 78, 95, 105, 98, 91, 84, 91, 63, 104, 89, 118, 85, 116, 77, 57, 74, 84, 64, 97, 72, 65, 83, 64, 79, 61, 120, 73, 105, 99, 69, 88, 53, 65, 54, 98, 99, 87, 81, 72, 59, 76, 77, 89, 100, 66, 67, 74, 67, 117, 86, 139, 122, 109, 88, 119, 90, 54, 37, 72, 62, 102, 71, 100, 76, 62, 41, 59, 72, 113, 95, 76, 64, 57, 94, 87, 64, 68, 60, 69, 87, 60, 97, 65, 65, 80, 78, 112, 85, 107], \"xbins\": {\"size\": 10}}],\n",
       "                        {\"template\": {\"data\": {\"bar\": [{\"error_x\": {\"color\": \"#2a3f5f\"}, \"error_y\": {\"color\": \"#2a3f5f\"}, \"marker\": {\"line\": {\"color\": \"white\", \"width\": 0.5}}, \"type\": \"bar\"}], \"barpolar\": [{\"marker\": {\"line\": {\"color\": \"white\", \"width\": 0.5}}, \"type\": \"barpolar\"}], \"carpet\": [{\"aaxis\": {\"endlinecolor\": \"#2a3f5f\", \"gridcolor\": \"#C8D4E3\", \"linecolor\": \"#C8D4E3\", \"minorgridcolor\": \"#C8D4E3\", \"startlinecolor\": \"#2a3f5f\"}, \"baxis\": {\"endlinecolor\": \"#2a3f5f\", \"gridcolor\": \"#C8D4E3\", \"linecolor\": \"#C8D4E3\", \"minorgridcolor\": \"#C8D4E3\", \"startlinecolor\": \"#2a3f5f\"}, \"type\": \"carpet\"}], \"choropleth\": [{\"colorbar\": {\"outlinewidth\": 0, \"ticks\": \"\"}, \"type\": \"choropleth\"}], \"contour\": [{\"colorbar\": {\"outlinewidth\": 0, \"ticks\": \"\"}, \"colorscale\": [[0.0, \"#0d0887\"], [0.1111111111111111, \"#46039f\"], [0.2222222222222222, \"#7201a8\"], [0.3333333333333333, \"#9c179e\"], [0.4444444444444444, \"#bd3786\"], [0.5555555555555556, \"#d8576b\"], [0.6666666666666666, \"#ed7953\"], [0.7777777777777778, \"#fb9f3a\"], [0.8888888888888888, \"#fdca26\"], [1.0, \"#f0f921\"]], \"type\": \"contour\"}], \"contourcarpet\": [{\"colorbar\": {\"outlinewidth\": 0, \"ticks\": \"\"}, \"type\": \"contourcarpet\"}], \"heatmap\": [{\"colorbar\": {\"outlinewidth\": 0, \"ticks\": \"\"}, \"colorscale\": [[0.0, \"#0d0887\"], [0.1111111111111111, \"#46039f\"], [0.2222222222222222, \"#7201a8\"], [0.3333333333333333, \"#9c179e\"], [0.4444444444444444, \"#bd3786\"], [0.5555555555555556, \"#d8576b\"], [0.6666666666666666, \"#ed7953\"], [0.7777777777777778, \"#fb9f3a\"], [0.8888888888888888, \"#fdca26\"], [1.0, \"#f0f921\"]], \"type\": \"heatmap\"}], \"heatmapgl\": [{\"colorbar\": {\"outlinewidth\": 0, \"ticks\": \"\"}, \"colorscale\": [[0.0, \"#0d0887\"], [0.1111111111111111, \"#46039f\"], [0.2222222222222222, \"#7201a8\"], [0.3333333333333333, \"#9c179e\"], [0.4444444444444444, \"#bd3786\"], [0.5555555555555556, \"#d8576b\"], [0.6666666666666666, \"#ed7953\"], [0.7777777777777778, \"#fb9f3a\"], [0.8888888888888888, \"#fdca26\"], [1.0, \"#f0f921\"]], \"type\": \"heatmapgl\"}], \"histogram\": [{\"marker\": {\"colorbar\": {\"outlinewidth\": 0, \"ticks\": \"\"}}, \"type\": \"histogram\"}], \"histogram2d\": [{\"colorbar\": {\"outlinewidth\": 0, \"ticks\": \"\"}, \"colorscale\": [[0.0, \"#0d0887\"], [0.1111111111111111, \"#46039f\"], [0.2222222222222222, \"#7201a8\"], [0.3333333333333333, \"#9c179e\"], [0.4444444444444444, \"#bd3786\"], [0.5555555555555556, \"#d8576b\"], [0.6666666666666666, \"#ed7953\"], [0.7777777777777778, \"#fb9f3a\"], [0.8888888888888888, \"#fdca26\"], [1.0, \"#f0f921\"]], \"type\": \"histogram2d\"}], \"histogram2dcontour\": [{\"colorbar\": {\"outlinewidth\": 0, \"ticks\": \"\"}, \"colorscale\": [[0.0, \"#0d0887\"], [0.1111111111111111, \"#46039f\"], [0.2222222222222222, \"#7201a8\"], [0.3333333333333333, \"#9c179e\"], [0.4444444444444444, \"#bd3786\"], [0.5555555555555556, \"#d8576b\"], [0.6666666666666666, \"#ed7953\"], [0.7777777777777778, \"#fb9f3a\"], [0.8888888888888888, \"#fdca26\"], [1.0, \"#f0f921\"]], \"type\": \"histogram2dcontour\"}], \"mesh3d\": [{\"colorbar\": {\"outlinewidth\": 0, \"ticks\": \"\"}, \"type\": \"mesh3d\"}], \"parcoords\": [{\"line\": {\"colorbar\": {\"outlinewidth\": 0, \"ticks\": \"\"}}, \"type\": \"parcoords\"}], \"pie\": [{\"automargin\": true, \"type\": \"pie\"}], \"scatter\": [{\"marker\": {\"colorbar\": {\"outlinewidth\": 0, \"ticks\": \"\"}}, \"type\": \"scatter\"}], \"scatter3d\": [{\"line\": {\"colorbar\": {\"outlinewidth\": 0, \"ticks\": \"\"}}, \"marker\": {\"colorbar\": {\"outlinewidth\": 0, \"ticks\": \"\"}}, \"type\": \"scatter3d\"}], \"scattercarpet\": [{\"marker\": {\"colorbar\": {\"outlinewidth\": 0, \"ticks\": \"\"}}, \"type\": \"scattercarpet\"}], \"scattergeo\": [{\"marker\": {\"colorbar\": {\"outlinewidth\": 0, \"ticks\": \"\"}}, \"type\": \"scattergeo\"}], \"scattergl\": [{\"marker\": {\"colorbar\": {\"outlinewidth\": 0, \"ticks\": \"\"}}, \"type\": \"scattergl\"}], \"scattermapbox\": [{\"marker\": {\"colorbar\": {\"outlinewidth\": 0, \"ticks\": \"\"}}, \"type\": \"scattermapbox\"}], \"scatterpolar\": [{\"marker\": {\"colorbar\": {\"outlinewidth\": 0, \"ticks\": \"\"}}, \"type\": \"scatterpolar\"}], \"scatterpolargl\": [{\"marker\": {\"colorbar\": {\"outlinewidth\": 0, \"ticks\": \"\"}}, \"type\": \"scatterpolargl\"}], \"scatterternary\": [{\"marker\": {\"colorbar\": {\"outlinewidth\": 0, \"ticks\": \"\"}}, \"type\": \"scatterternary\"}], \"surface\": [{\"colorbar\": {\"outlinewidth\": 0, \"ticks\": \"\"}, \"colorscale\": [[0.0, \"#0d0887\"], [0.1111111111111111, \"#46039f\"], [0.2222222222222222, \"#7201a8\"], [0.3333333333333333, \"#9c179e\"], [0.4444444444444444, \"#bd3786\"], [0.5555555555555556, \"#d8576b\"], [0.6666666666666666, \"#ed7953\"], [0.7777777777777778, \"#fb9f3a\"], [0.8888888888888888, \"#fdca26\"], [1.0, \"#f0f921\"]], \"type\": \"surface\"}], \"table\": [{\"cells\": {\"fill\": {\"color\": \"#EBF0F8\"}, \"line\": {\"color\": \"white\"}}, \"header\": {\"fill\": {\"color\": \"#C8D4E3\"}, \"line\": {\"color\": \"white\"}}, \"type\": \"table\"}]}, \"layout\": {\"annotationdefaults\": {\"arrowcolor\": \"#2a3f5f\", \"arrowhead\": 0, \"arrowwidth\": 1}, \"coloraxis\": {\"colorbar\": {\"outlinewidth\": 0, \"ticks\": \"\"}}, \"colorscale\": {\"diverging\": [[0, \"#8e0152\"], [0.1, \"#c51b7d\"], [0.2, \"#de77ae\"], [0.3, \"#f1b6da\"], [0.4, \"#fde0ef\"], [0.5, \"#f7f7f7\"], [0.6, \"#e6f5d0\"], [0.7, \"#b8e186\"], [0.8, \"#7fbc41\"], [0.9, \"#4d9221\"], [1, \"#276419\"]], \"sequential\": [[0.0, \"#0d0887\"], [0.1111111111111111, \"#46039f\"], [0.2222222222222222, \"#7201a8\"], [0.3333333333333333, \"#9c179e\"], [0.4444444444444444, \"#bd3786\"], [0.5555555555555556, \"#d8576b\"], [0.6666666666666666, \"#ed7953\"], [0.7777777777777778, \"#fb9f3a\"], [0.8888888888888888, \"#fdca26\"], [1.0, \"#f0f921\"]], \"sequentialminus\": [[0.0, \"#0d0887\"], [0.1111111111111111, \"#46039f\"], [0.2222222222222222, \"#7201a8\"], [0.3333333333333333, \"#9c179e\"], [0.4444444444444444, \"#bd3786\"], [0.5555555555555556, \"#d8576b\"], [0.6666666666666666, \"#ed7953\"], [0.7777777777777778, \"#fb9f3a\"], [0.8888888888888888, \"#fdca26\"], [1.0, \"#f0f921\"]]}, \"colorway\": [\"#636efa\", \"#EF553B\", \"#00cc96\", \"#ab63fa\", \"#FFA15A\", \"#19d3f3\", \"#FF6692\", \"#B6E880\", \"#FF97FF\", \"#FECB52\"], \"font\": {\"color\": \"#2a3f5f\"}, \"geo\": {\"bgcolor\": \"white\", \"lakecolor\": \"white\", \"landcolor\": \"white\", \"showlakes\": true, \"showland\": true, \"subunitcolor\": \"#C8D4E3\"}, \"hoverlabel\": {\"align\": \"left\"}, \"hovermode\": \"closest\", \"mapbox\": {\"style\": \"light\"}, \"paper_bgcolor\": \"white\", \"plot_bgcolor\": \"white\", \"polar\": {\"angularaxis\": {\"gridcolor\": \"#EBF0F8\", \"linecolor\": \"#EBF0F8\", \"ticks\": \"\"}, \"bgcolor\": \"white\", \"radialaxis\": {\"gridcolor\": \"#EBF0F8\", \"linecolor\": \"#EBF0F8\", \"ticks\": \"\"}}, \"scene\": {\"xaxis\": {\"backgroundcolor\": \"white\", \"gridcolor\": \"#DFE8F3\", \"gridwidth\": 2, \"linecolor\": \"#EBF0F8\", \"showbackground\": true, \"ticks\": \"\", \"zerolinecolor\": \"#EBF0F8\"}, \"yaxis\": {\"backgroundcolor\": \"white\", \"gridcolor\": \"#DFE8F3\", \"gridwidth\": 2, \"linecolor\": \"#EBF0F8\", \"showbackground\": true, \"ticks\": \"\", \"zerolinecolor\": \"#EBF0F8\"}, \"zaxis\": {\"backgroundcolor\": \"white\", \"gridcolor\": \"#DFE8F3\", \"gridwidth\": 2, \"linecolor\": \"#EBF0F8\", \"showbackground\": true, \"ticks\": \"\", \"zerolinecolor\": \"#EBF0F8\"}}, \"shapedefaults\": {\"line\": {\"color\": \"#2a3f5f\"}}, \"ternary\": {\"aaxis\": {\"gridcolor\": \"#DFE8F3\", \"linecolor\": \"#A2B1C6\", \"ticks\": \"\"}, \"baxis\": {\"gridcolor\": \"#DFE8F3\", \"linecolor\": \"#A2B1C6\", \"ticks\": \"\"}, \"bgcolor\": \"white\", \"caxis\": {\"gridcolor\": \"#DFE8F3\", \"linecolor\": \"#A2B1C6\", \"ticks\": \"\"}}, \"title\": {\"x\": 0.05}, \"xaxis\": {\"automargin\": true, \"gridcolor\": \"#EBF0F8\", \"linecolor\": \"#EBF0F8\", \"ticks\": \"\", \"title\": {\"standoff\": 15}, \"zerolinecolor\": \"#EBF0F8\", \"zerolinewidth\": 2}, \"yaxis\": {\"automargin\": true, \"gridcolor\": \"#EBF0F8\", \"linecolor\": \"#EBF0F8\", \"ticks\": \"\", \"title\": {\"standoff\": 15}, \"zerolinecolor\": \"#EBF0F8\", \"zerolinewidth\": 2}}}, \"title\": {\"text\": \"API Time from stop 716 to 718 of line 1 in LA days. 7:00-9:00.\"}, \"xaxis\": {\"title\": {\"text\": \"Seconds\"}}, \"yaxis\": {\"title\": {\"text\": \"Normalized Count\"}}},\n",
       "                        {\"responsive\": true}\n",
       "                    ).then(function(){\n",
       "                            \n",
       "var gd = document.getElementById('6929da72-b9dd-4229-b689-eeb4cc7c3771');\n",
       "var x = new MutationObserver(function (mutations, observer) {{\n",
       "        var display = window.getComputedStyle(gd).display;\n",
       "        if (!display || display === 'none') {{\n",
       "            console.log([gd, 'removed!']);\n",
       "            Plotly.purge(gd);\n",
       "            observer.disconnect();\n",
       "        }}\n",
       "}});\n",
       "\n",
       "// Listen for the removal of the full notebook cells\n",
       "var notebookContainer = gd.closest('#notebook-container');\n",
       "if (notebookContainer) {{\n",
       "    x.observe(notebookContainer, {childList: true});\n",
       "}}\n",
       "\n",
       "// Listen for the clearing of the current output cell\n",
       "var outputEl = gd.closest('.output');\n",
       "if (outputEl) {{\n",
       "    x.observe(outputEl, {childList: true});\n",
       "}}\n",
       "\n",
       "                        })\n",
       "                };\n",
       "                });\n",
       "            </script>\n",
       "        </div>"
      ]
     },
     "metadata": {},
     "output_type": "display_data"
    }
   ],
   "source": [
    "#API vs Lapsed data\n",
    "fig = go.Figure()\n",
    "fig.add_trace(go.Histogram(\n",
    "    x=tbs_covid.trip_time,name='Lapsed time - While COVID-19',\n",
    "    histnorm='probability',\n",
    "    xbins=dict(\n",
    "        size=5\n",
    "    )\n",
    "))\n",
    "fig.add_trace(go.Histogram(\n",
    "    x=tbs_covid.api_trip_time,name='API time - While COVID-19',\n",
    "    histnorm='probability',\n",
    "    xbins=dict(\n",
    "        size=10\n",
    "    )\n",
    "))\n",
    "# Overlay both histograms\n",
    "fig.update_layout(\n",
    "    title='API Time from stop {} to {} of line {} in {} days. {}:00-{}:00.'.format(stopA,stopB,line,day_type,st_hour,end_hour),\n",
    "    xaxis_title='Seconds',\n",
    "    yaxis_title='Normalized Count'\n",
    ")\n",
    "# Reduce opacity to see both histograms\n",
    "fig.update_traces(opacity=0.75)\n",
    "fig.show()"
   ]
  },
  {
   "cell_type": "markdown",
   "metadata": {},
   "source": [
    "## Two samples Z test to check if the data before COVID is different to the data while it"
   ]
  },
  {
   "cell_type": "code",
   "execution_count": 14,
   "metadata": {},
   "outputs": [
    {
     "name": "stdout",
     "output_type": "stream",
     "text": [
      "Null Hypothesis : Mean travel time during the coronavirus is equal to the mean travel time before it\n"
     ]
    },
    {
     "ename": "NameError",
     "evalue": "name 'stests' is not defined",
     "output_type": "error",
     "traceback": [
      "\u001b[0;31m---------------------------------------------------------------------------\u001b[0m",
      "\u001b[0;31mNameError\u001b[0m                                 Traceback (most recent call last)",
      "\u001b[0;32m<ipython-input-14-08741c0c9445>\u001b[0m in \u001b[0;36m<module>\u001b[0;34m\u001b[0m\n\u001b[1;32m     14\u001b[0m \u001b[0;34m\u001b[0m\u001b[0m\n\u001b[1;32m     15\u001b[0m \u001b[0;31m#Hyp. test\u001b[0m\u001b[0;34m\u001b[0m\u001b[0;34m\u001b[0m\u001b[0;34m\u001b[0m\u001b[0m\n\u001b[0;32m---> 16\u001b[0;31m \u001b[0mztest\u001b[0m \u001b[0;34m,\u001b[0m\u001b[0mpval1\u001b[0m \u001b[0;34m=\u001b[0m \u001b[0mstests\u001b[0m\u001b[0;34m.\u001b[0m\u001b[0mztest\u001b[0m\u001b[0;34m(\u001b[0m\u001b[0mx1\u001b[0m\u001b[0;34m=\u001b[0m\u001b[0mtest_data2\u001b[0m\u001b[0;34m.\u001b[0m\u001b[0mtrip_time\u001b[0m\u001b[0;34m,\u001b[0m \u001b[0mvalue\u001b[0m\u001b[0;34m=\u001b[0m\u001b[0mmean_to_test\u001b[0m\u001b[0;34m,\u001b[0m\u001b[0malternative\u001b[0m\u001b[0;34m=\u001b[0m\u001b[0;34m'two-sided'\u001b[0m\u001b[0;34m)\u001b[0m\u001b[0;34m\u001b[0m\u001b[0;34m\u001b[0m\u001b[0m\n\u001b[0m\u001b[1;32m     17\u001b[0m \u001b[0mprint\u001b[0m\u001b[0;34m(\u001b[0m\u001b[0;34m'p-Value = {}'\u001b[0m\u001b[0;34m.\u001b[0m\u001b[0mformat\u001b[0m\u001b[0;34m(\u001b[0m\u001b[0mpval1\u001b[0m\u001b[0;34m)\u001b[0m\u001b[0;34m)\u001b[0m\u001b[0;34m\u001b[0m\u001b[0;34m\u001b[0m\u001b[0m\n\u001b[1;32m     18\u001b[0m \u001b[0;32mif\u001b[0m \u001b[0mpval1\u001b[0m \u001b[0;34m<\u001b[0m \u001b[0;36m0.05\u001b[0m \u001b[0;34m:\u001b[0m\u001b[0;34m\u001b[0m\u001b[0;34m\u001b[0m\u001b[0m\n",
      "\u001b[0;31mNameError\u001b[0m: name 'stests' is not defined"
     ]
    }
   ],
   "source": [
    "N = min(tbs.shape[0],tbs_covid.shape[0])\n",
    "\n",
    "#Test data ramdom sample size N selection\n",
    "test_data1 = tbs\n",
    "test_data2 = tbs_covid\n",
    "\n",
    "#test_data1 = tbs.sample(N) \n",
    "#test_data2 = tbs_covid.sample(N)\n",
    "\n",
    "#Mean to test\n",
    "mean_to_test = test_data1.trip_time.mean()\n",
    "\n",
    "print('Null Hypothesis : Mean travel time during the coronavirus is equal to the mean travel time before it')\n",
    "\n",
    "#Hyp. test\n",
    "ztest ,pval1 = stests.ztest(x1=test_data2.trip_time, value=mean_to_test,alternative='two-sided')\n",
    "print('p-Value = {}'.format(pval1))\n",
    "if pval1 < 0.05 : \n",
    "    print('Null hypothesis rejected.')\n",
    "else :\n",
    "    print('Null hyphotesis is not rejected.')"
   ]
  },
  {
   "cell_type": "code",
   "execution_count": null,
   "metadata": {},
   "outputs": [],
   "source": [
    "print('Null hypothesis : Mean travel time of the API is adapted to COVID status')\n",
    "#Mean to test \n",
    "mean_to_test = test_data2.trip_time.mean()\n",
    "\n",
    "#Hyp. test\n",
    "ztest ,pval1 = stests.ztest(x1=test_data2.api_trip_time, value=mean_to_test,alternative='two-sided')\n",
    "print('p-Value = {}'.format(pval1))\n",
    "if pval1 < 0.05 : \n",
    "    print('Null hypothesis rejected.')\n",
    "else :\n",
    "    print('Null hyphotesis is not rejected.')"
   ]
  },
  {
   "cell_type": "code",
   "execution_count": null,
   "metadata": {},
   "outputs": [],
   "source": [
    "print('Null hypothesis : API mean travel time is the same as the one before COVID-19')\n",
    "#Mean to test \n",
    "mean_to_test = test_data1.api_trip_time.mean()\n",
    "\n",
    "#Hyp. test\n",
    "ztest ,pval1 = stests.ztest(x1=test_data2.api_trip_time, value=mean_to_test,alternative='two-sided')\n",
    "print('p-Value = {}'.format(pval1))\n",
    "if pval1 < 0.05 : \n",
    "    print('Null hypothesis rejected.')\n",
    "else :\n",
    "    print('Null hyphotesis is not rejected.')"
   ]
  },
  {
   "cell_type": "markdown",
   "metadata": {},
   "source": [
    "# NOW THAT WE  HAVE PROVED THAT COVID 19 HIGHLY AFFECTS THE TIMES BT STOPS, WE ARE GOING TO ANALYSE ONLY THE DATA COLLECTED BEFORE IT"
   ]
  },
  {
   "cell_type": "markdown",
   "metadata": {},
   "source": [
    "## TIMES BT STOPS DEPENDING ON DAY HOUR"
   ]
  },
  {
   "cell_type": "code",
   "execution_count": null,
   "metadata": {},
   "outputs": [],
   "source": [
    "#Rainbow set of colors\n",
    "N = 24\n",
    "c = ['hsl('+str(h)+',50%'+',50%)' for h in np.linspace(0, 360, N)]\n",
    "#Selection options\n",
    "line = '82'\n",
    "direction = 1\n",
    "day_type = 'FE'\n",
    "stopA = int(lines_collected_dict[line][str(direction)]['stops'][1])\n",
    "stopB = int(lines_collected_dict[line][str(direction)]['stops'][2])\n",
    "\n",
    "#Select data\n",
    "sel_df = times_bt_stops.loc[(times_bt_stops.line == line) & \\\n",
    "                      (times_bt_stops.direction == direction) & \\\n",
    "                      (times_bt_stops.date.dt.weekday.isin(day_type_dict[day_type])) & \\\n",
    "                      (times_bt_stops.stopA == stopA) & (times_bt_stops.stopB == stopB)]\n",
    "sel_df = sel_df.loc[sel_df.date<covid_start]\n",
    "\n",
    "#Create figure\n",
    "fig = go.Figure()\n",
    "#Hour selection and traces\n",
    "hour_dfs = []\n",
    "for i in range(N) :\n",
    "    hour_df = sel_df.loc[sel_df.st_hour == i]\n",
    "    hour_dfs.append(hour_df)\n",
    "    length = hour_df.shape[0]\n",
    "    if length > 0 :\n",
    "        x1 = ['{}:00'.format(i) for elem in range(length)]\n",
    "        x_real = ['Lapsed' for elem in range(length)]\n",
    "        x_API = ['API' for elem in range(length)]\n",
    "        #Add hour trace\n",
    "        fig.add_trace(go.Box(\n",
    "            x=[x1,x_real],\n",
    "            y=hour_df.trip_time,\n",
    "            marker_color=c[i]\n",
    "        ))\n",
    "        fig.add_trace(go.Box(\n",
    "            x=[x1,x_API],\n",
    "            y=hour_df.api_trip_time,\n",
    "            marker_color=c[i]\n",
    "        ))\n",
    "\n",
    "#Layout\n",
    "fig.update_layout(\n",
    "    title='Time from stop {} to {} of line {} in {} days'.format(stopA,stopB,line,day_type),\n",
    "    showlegend=False,\n",
    "    xaxis=dict(title='Start Hour'),\n",
    "    yaxis=dict(title='Seconds',range=[0,300]),\n",
    ")\n",
    "\n",
    "fig.show()"
   ]
  },
  {
   "cell_type": "markdown",
   "metadata": {},
   "source": [
    "## ERROR BETWEEN API ESTIMATIONS AND REAL RUNNING TIME BT STOPS"
   ]
  },
  {
   "cell_type": "code",
   "execution_count": null,
   "metadata": {},
   "outputs": [],
   "source": [
    "#Select covid and no covid data\n",
    "times_bt_stops_bc = times_bt_stops.loc[times_bt_stops.date < covid_start]"
   ]
  },
  {
   "cell_type": "code",
   "execution_count": null,
   "metadata": {},
   "outputs": [],
   "source": [
    "def get_running_time_error(row):\n",
    "    seconds = row.api_trip_time - row.trip_time\n",
    "    row['estim_error'] = round(seconds,3)\n",
    "    row['sq_estim_error'] = round(seconds**2,3)\n",
    "    return row\n",
    "\n",
    "tbs_error = times_bt_stops_bc.loc[times_bt_stops.line == '1'].apply(get_running_time_error, axis=1)"
   ]
  },
  {
   "cell_type": "code",
   "execution_count": null,
   "metadata": {},
   "outputs": [],
   "source": [
    "#Before COVID-19 Histogram of Estimation Errors\n",
    "fig = go.Figure()\n",
    "fig.add_trace(go.Histogram(\n",
    "    x=tbs_error.estim_error,\n",
    "    histnorm='probability',\n",
    "    xbins=dict(\n",
    "        size = 1\n",
    "    )\n",
    "))\n",
    "fig.update_layout(\n",
    "    title = 'Running time API estimations error',\n",
    "    yaxis_title = 'Normalized Count',\n",
    "    xaxis_title = 'Seconds'\n",
    ")\n",
    "fig.show()"
   ]
  },
  {
   "cell_type": "code",
   "execution_count": null,
   "metadata": {},
   "outputs": [],
   "source": [
    "def compute_results(df) :\n",
    "    N = df.shape[0] \n",
    "    rmse = math.sqrt(df.sq_estim_error.sum()/N)\n",
    "    mean_error = df.estim_error.sum()/N\n",
    "    \n",
    "    def estim_deviation(row) :\n",
    "        return (mean_error-row.estim_error)**2\n",
    "    \n",
    "    df['estim_dev'] = df.apply(estim_deviation, axis=1)\n",
    "    \n",
    "    std_error = math.sqrt(df.estim_dev.sum()/N-1)\n",
    "    \n",
    "    return rmse,mean_error,std_error\n",
    "\n",
    "rmse,mean_error,std_error = compute_results(tbs_error)"
   ]
  },
  {
   "cell_type": "code",
   "execution_count": null,
   "metadata": {},
   "outputs": [],
   "source": [
    "rmse,mean_error,std_error"
   ]
  },
  {
   "cell_type": "code",
   "execution_count": null,
   "metadata": {},
   "outputs": [],
   "source": []
  },
  {
   "cell_type": "code",
   "execution_count": 13,
   "metadata": {},
   "outputs": [],
   "source": [
    "#Process mean times between stops\n",
    "tims_bt_stops = times_bt_stops.loc[(times_bt_stops.line == line) & \\\n",
    "                                    (times_bt_stops.date.dt.weekday.isin([0,1,2,3,4])) & \\\n",
    "                                    (times_bt_stops.st_hour >= 10) & \\\n",
    "                                    (times_bt_stops.st_hour < 11)]\n",
    "#Group and get the mean values\n",
    "tims_bt_stops = tims_bt_stops.groupby(['line','direction','stopA','stopB']).mean()\n",
    "tims_bt_stops = tims_bt_stops.reset_index()[['line','direction','stopA','stopB','trip_time','api_trip_time']]"
   ]
  },
  {
   "cell_type": "code",
   "execution_count": 19,
   "metadata": {},
   "outputs": [
    {
     "data": {
      "text/plain": [
       "3948.1016"
      ]
     },
     "execution_count": 19,
     "metadata": {},
     "output_type": "execute_result"
    }
   ],
   "source": [
    "tims_bt_stops[tims_bt_stops.direction == 2].trip_time.sum()"
   ]
  },
  {
   "cell_type": "code",
   "execution_count": null,
   "metadata": {},
   "outputs": [],
   "source": []
  }
 ],
 "metadata": {
  "kernelspec": {
   "display_name": "Python 3",
   "language": "python",
   "name": "python3"
  },
  "language_info": {
   "codemirror_mode": {
    "name": "ipython",
    "version": 3
   },
   "file_extension": ".py",
   "mimetype": "text/x-python",
   "name": "python",
   "nbconvert_exporter": "python",
   "pygments_lexer": "ipython3",
   "version": "3.7.3"
  }
 },
 "nbformat": 4,
 "nbformat_minor": 2
}
