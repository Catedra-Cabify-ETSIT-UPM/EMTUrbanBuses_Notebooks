{
 "cells": [
  {
   "cell_type": "markdown",
   "metadata": {},
   "source": [
    "# BUSES HEADWAY ANALYSIS AND OUTLIERS DETECTION"
   ]
  },
  {
   "cell_type": "code",
   "execution_count": 2,
   "metadata": {},
   "outputs": [
    {
     "name": "stdout",
     "output_type": "stream",
     "text": [
      "INFO: Pandarallel will run on 4 workers.\n",
      "INFO: Pandarallel will use Memory file system to transfer data between the main process and workers.\n"
     ]
    }
   ],
   "source": [
    "import pandas as pd\n",
    "import json\n",
    "\n",
    "import datetime\n",
    "from datetime import timedelta\n",
    "\n",
    "import statistics\n",
    "import math\n",
    "\n",
    "from pandarallel import pandarallel\n",
    "from joblib import Parallel, delayed\n",
    "import multiprocessing\n",
    "num_cores = multiprocessing.cpu_count()\n",
    "pandarallel.initialize()\n",
    "\n",
    "import plotly.graph_objects as go\n",
    "import plotly.io as pio\n",
    "pio.templates.default = 'plotly_white'\n",
    "\n",
    "pd.set_option(\"display.precision\", 9)"
   ]
  },
  {
   "cell_type": "markdown",
   "metadata": {},
   "source": [
    "## Buses time intervals differentiation\n",
    "From the data available for each line, we are going to construct a dictionary with the time intervals for each line\n",
    "and the frequencies of the buses for that intervals"
   ]
  },
  {
   "cell_type": "code",
   "execution_count": 4,
   "metadata": {},
   "outputs": [
    {
     "data": {
      "text/plain": [
       "{'1': {'LA': [{'time_range': [7, 9], 'freq_range': [14, 18]},\n",
       "   {'time_range': [9, 20], 'freq_range': [11, 14]},\n",
       "   {'time_range': [20, 22], 'freq_range': [13, 15]},\n",
       "   {'time_range': [22, 23], 'freq_range': [14, 18]}],\n",
       "  'VV': [],\n",
       "  'SA': [{'time_range': [7, 9], 'freq_range': [17, 29]},\n",
       "   {'time_range': [9, 12], 'freq_range': [15, 20]},\n",
       "   {'time_range': [12, 22], 'freq_range': [13, 17]},\n",
       "   {'time_range': [22, 23], 'freq_range': [15, 20]}],\n",
       "  'FE': [{'time_range': [7, 8], 'freq_range': [24, 36]},\n",
       "   {'time_range': [8, 12], 'freq_range': [19, 25]},\n",
       "   {'time_range': [12, 22], 'freq_range': [15, 19]},\n",
       "   {'time_range': [22, 23], 'freq_range': [19, 25]}]},\n",
       " '44': {'LA': [{'time_range': [6, 8], 'freq_range': [8, 15]},\n",
       "   {'time_range': [8, 20], 'freq_range': [8, 11]},\n",
       "   {'time_range': [20, 23], 'freq_range': [11, 17]}],\n",
       "  'VV': [],\n",
       "  'SA': [{'time_range': [6, 10], 'freq_range': [15, 21]},\n",
       "   {'time_range': [10, 22], 'freq_range': [11, 16]},\n",
       "   {'time_range': [22, 23], 'freq_range': [12, 19]}],\n",
       "  'FE': [{'time_range': [7, 11], 'freq_range': [14, 21]},\n",
       "   {'time_range': [11, 23], 'freq_range': [12, 19]}]},\n",
       " '82': {'LA': [{'time_range': [6, 7], 'freq_range': [8, 15]},\n",
       "   {'time_range': [7, 10], 'freq_range': [5, 11]},\n",
       "   {'time_range': [10, 21], 'freq_range': [6, 9]},\n",
       "   {'time_range': [21, 23], 'freq_range': [10, 15]}],\n",
       "  'VV': [],\n",
       "  'SA': [{'time_range': [6, 9], 'freq_range': [17, 33]},\n",
       "   {'time_range': [9, 20], 'freq_range': [16, 18]},\n",
       "   {'time_range': [20, 23], 'freq_range': [16, 24]}],\n",
       "  'FE': [{'time_range': [7, 8], 'freq_range': [20, 25]},\n",
       "   {'time_range': [8, 22], 'freq_range': [19, 21]},\n",
       "   {'time_range': [22, 23], 'freq_range': [21, 30]}]},\n",
       " 'F': {'LA': [{'time_range': [7, 14], 'freq_range': [4, 7]},\n",
       "   {'time_range': [14, 20], 'freq_range': [6, 8]},\n",
       "   {'time_range': [20, 22], 'freq_range': [9, 18]}],\n",
       "  'VV': [{'time_range': [7, 14], 'freq_range': [5, 9]},\n",
       "   {'time_range': [14, 20], 'freq_range': [10, 14]},\n",
       "   {'time_range': [20, 22], 'freq_range': [13, 20]}],\n",
       "  'SA': [],\n",
       "  'FE': []},\n",
       " 'G': {'LA': [{'time_range': [7, 13], 'freq_range': [3, 8]},\n",
       "   {'time_range': [13, 20], 'freq_range': [6, 8]},\n",
       "   {'time_range': [20, 23], 'freq_range': [6, 11]}],\n",
       "  'VV': [],\n",
       "  'SA': [],\n",
       "  'FE': []},\n",
       " 'U': {'LA': [{'time_range': [7, 10], 'freq_range': [7, 10]},\n",
       "   {'time_range': [10, 20], 'freq_range': [10, 10]},\n",
       "   {'time_range': [20, 22], 'freq_range': [10, 19]}],\n",
       "  'VV': [{'time_range': [7, 14], 'freq_range': [8, 10]},\n",
       "   {'time_range': [15, 21], 'freq_range': [15, 16]},\n",
       "   {'time_range': [21, 22], 'freq_range': [16, 19]}],\n",
       "  'SA': [],\n",
       "  'FE': []},\n",
       " '132': {'LA': [{'time_range': [6, 8], 'freq_range': [7, 13]},\n",
       "   {'time_range': [8, 20], 'freq_range': [6, 8]},\n",
       "   {'time_range': [20, 23], 'freq_range': [9, 19]}],\n",
       "  'VV': [],\n",
       "  'SA': [{'time_range': [6, 10], 'freq_range': [14, 20]},\n",
       "   {'time_range': [10, 21], 'freq_range': [13, 15]},\n",
       "   {'time_range': [21, 23], 'freq_range': [15, 27]}],\n",
       "  'FE': [{'time_range': [7, 10], 'freq_range': [22, 34]},\n",
       "   {'time_range': [10, 23], 'freq_range': [18, 34]}]},\n",
       " '133': {'LA': [{'time_range': [6, 20], 'freq_range': [5, 8]},\n",
       "   {'time_range': [20, 22], 'freq_range': [6, 10]},\n",
       "   {'time_range': [22, 23], 'freq_range': [9, 13]}],\n",
       "  'VV': [],\n",
       "  'SA': [{'time_range': [6, 9], 'freq_range': [17, 26]},\n",
       "   {'time_range': [9, 12], 'freq_range': [11, 21]},\n",
       "   {'time_range': [12, 21], 'freq_range': [10, 13]},\n",
       "   {'time_range': [21, 23], 'freq_range': [11, 21]}],\n",
       "  'FE': [{'time_range': [7, 10], 'freq_range': [20, 30]},\n",
       "   {'time_range': [10, 18], 'freq_range': [11, 22]},\n",
       "   {'time_range': [18, 22], 'freq_range': [10, 13]},\n",
       "   {'time_range': [22, 23], 'freq_range': [11, 22]}]},\n",
       " 'N2': {'1': [{'time_range': [0, 5], 'freq_range': [20, 20]},\n",
       "   {'time_range': [5, 7], 'freq_range': [35, 35]}],\n",
       "  '2': [{'time_range': [0, 2], 'freq_range': [30, 30]},\n",
       "   {'time_range': [2, 5], 'freq_range': [20, 20]},\n",
       "   {'time_range': [5, 7], 'freq_range': [25, 25]}]},\n",
       " 'N6': {'1': [{'time_range': [0, 1], 'freq_range': [20, 20]},\n",
       "   {'time_range': [1, 5], 'freq_range': [15, 15]},\n",
       "   {'time_range': [5, 7], 'freq_range': [20, 35]}],\n",
       "  '2': [{'time_range': [0, 1], 'freq_range': [25, 25]},\n",
       "   {'time_range': [1, 5], 'freq_range': [15, 22]},\n",
       "   {'time_range': [5, 7], 'freq_range': [20, 35]}]}}"
      ]
     },
     "execution_count": 4,
     "metadata": {},
     "output_type": "execute_result"
    }
   ],
   "source": [
    "#Line stops dict\n",
    "with open('M6Data/freq_ranges_dict.json', 'r') as f:\n",
    "    freq_ranges_dict = json.load(f)\n",
    "freq_ranges_dict"
   ]
  },
  {
   "cell_type": "code",
   "execution_count": null,
   "metadata": {},
   "outputs": [],
   "source": []
  }
 ],
 "metadata": {
  "kernelspec": {
   "display_name": "Python 3",
   "language": "python",
   "name": "python3"
  },
  "language_info": {
   "codemirror_mode": {
    "name": "ipython",
    "version": 3
   },
   "file_extension": ".py",
   "mimetype": "text/x-python",
   "name": "python",
   "nbconvert_exporter": "python",
   "pygments_lexer": "ipython3",
   "version": "3.6.9"
  }
 },
 "nbformat": 4,
 "nbformat_minor": 4
}
